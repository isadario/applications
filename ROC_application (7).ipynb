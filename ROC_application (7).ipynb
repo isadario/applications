{
 "cells": [
  {
   "cell_type": "markdown",
   "id": "bea683cd",
   "metadata": {},
   "source": [
    "# 1. Loading and reading of the cleaned dataset "
   ]
  },
  {
   "cell_type": "code",
   "execution_count": 1,
   "id": "0f95b8cb",
   "metadata": {},
   "outputs": [],
   "source": [
    "#downloaded the dataset from the UCI repository archive \n",
    "#(https://archive.ics.uci.edu/ml/datasets/chronic_kidney_disease)\n",
    "\n",
    "#decompressed the RAR file \n",
    "#turned the arff file into csv (using Python converter)\n",
    "\n",
    "# now loading full csv into the notebook\n",
    "\n",
    "import pandas as pd\n",
    "import numpy as np\n",
    "import matplotlib\n",
    "from matplotlib import pyplot as plt\n",
    "import seaborn as sns"
   ]
  },
  {
   "cell_type": "code",
   "execution_count": 2,
   "id": "16976d5c",
   "metadata": {},
   "outputs": [],
   "source": [
    "data = pd.read_csv('data/cleaned.csv', header = 0, on_bad_lines='skip')\n",
    "\n",
    "#there are only 25 features so no need to load only a subset of the features and no need to use chunksize"
   ]
  },
  {
   "cell_type": "code",
   "execution_count": 3,
   "id": "e88edd44",
   "metadata": {},
   "outputs": [],
   "source": [
    "data = data.drop(data.columns[0], axis=1)"
   ]
  },
  {
   "cell_type": "code",
   "execution_count": 4,
   "id": "3b2f5c9f",
   "metadata": {},
   "outputs": [
    {
     "data": {
      "text/html": [
       "<div>\n",
       "<style scoped>\n",
       "    .dataframe tbody tr th:only-of-type {\n",
       "        vertical-align: middle;\n",
       "    }\n",
       "\n",
       "    .dataframe tbody tr th {\n",
       "        vertical-align: top;\n",
       "    }\n",
       "\n",
       "    .dataframe thead th {\n",
       "        text-align: right;\n",
       "    }\n",
       "</style>\n",
       "<table border=\"1\" class=\"dataframe\">\n",
       "  <thead>\n",
       "    <tr style=\"text-align: right;\">\n",
       "      <th></th>\n",
       "      <th>age</th>\n",
       "      <th>rbcc</th>\n",
       "      <th>pcv</th>\n",
       "      <th>hemo</th>\n",
       "      <th>bp</th>\n",
       "      <th>bgr</th>\n",
       "      <th>bu</th>\n",
       "      <th>sc</th>\n",
       "      <th>sod</th>\n",
       "      <th>pot</th>\n",
       "      <th>...</th>\n",
       "      <th>pe_no</th>\n",
       "      <th>pe_yes</th>\n",
       "      <th>sg_1.005</th>\n",
       "      <th>sg_1.010</th>\n",
       "      <th>sg_1.015</th>\n",
       "      <th>sg_1.020</th>\n",
       "      <th>sg_1.025</th>\n",
       "      <th>pcc_notpresent</th>\n",
       "      <th>pcc_present</th>\n",
       "      <th>class</th>\n",
       "    </tr>\n",
       "  </thead>\n",
       "  <tbody>\n",
       "    <tr>\n",
       "      <th>0</th>\n",
       "      <td>-0.205954</td>\n",
       "      <td>0.583606</td>\n",
       "      <td>0.626585</td>\n",
       "      <td>1.043279</td>\n",
       "      <td>0.250168</td>\n",
       "      <td>-0.313799</td>\n",
       "      <td>-0.414139</td>\n",
       "      <td>-0.324225</td>\n",
       "      <td>0.040817</td>\n",
       "      <td>-0.064328</td>\n",
       "      <td>...</td>\n",
       "      <td>1</td>\n",
       "      <td>0</td>\n",
       "      <td>0</td>\n",
       "      <td>0</td>\n",
       "      <td>0</td>\n",
       "      <td>1</td>\n",
       "      <td>0</td>\n",
       "      <td>1</td>\n",
       "      <td>0</td>\n",
       "      <td>1</td>\n",
       "    </tr>\n",
       "    <tr>\n",
       "      <th>1</th>\n",
       "      <td>-2.640637</td>\n",
       "      <td>0.000000</td>\n",
       "      <td>-0.099558</td>\n",
       "      <td>-0.452605</td>\n",
       "      <td>-1.961241</td>\n",
       "      <td>-0.313799</td>\n",
       "      <td>-0.775077</td>\n",
       "      <td>-0.400624</td>\n",
       "      <td>0.040817</td>\n",
       "      <td>-0.064328</td>\n",
       "      <td>...</td>\n",
       "      <td>1</td>\n",
       "      <td>0</td>\n",
       "      <td>0</td>\n",
       "      <td>0</td>\n",
       "      <td>0</td>\n",
       "      <td>1</td>\n",
       "      <td>0</td>\n",
       "      <td>1</td>\n",
       "      <td>0</td>\n",
       "      <td>1</td>\n",
       "    </tr>\n",
       "    <tr>\n",
       "      <th>2</th>\n",
       "      <td>0.625402</td>\n",
       "      <td>0.000000</td>\n",
       "      <td>-0.946724</td>\n",
       "      <td>-1.072850</td>\n",
       "      <td>0.250168</td>\n",
       "      <td>3.719296</td>\n",
       "      <td>-0.073253</td>\n",
       "      <td>-0.209627</td>\n",
       "      <td>0.040817</td>\n",
       "      <td>-0.064328</td>\n",
       "      <td>...</td>\n",
       "      <td>1</td>\n",
       "      <td>0</td>\n",
       "      <td>0</td>\n",
       "      <td>1</td>\n",
       "      <td>0</td>\n",
       "      <td>0</td>\n",
       "      <td>0</td>\n",
       "      <td>1</td>\n",
       "      <td>0</td>\n",
       "      <td>1</td>\n",
       "    </tr>\n",
       "    <tr>\n",
       "      <th>3</th>\n",
       "      <td>-0.205954</td>\n",
       "      <td>-0.940620</td>\n",
       "      <td>-0.825700</td>\n",
       "      <td>-0.489090</td>\n",
       "      <td>-0.486968</td>\n",
       "      <td>-0.367217</td>\n",
       "      <td>-0.013096</td>\n",
       "      <td>0.172368</td>\n",
       "      <td>-2.843192</td>\n",
       "      <td>-0.726016</td>\n",
       "      <td>...</td>\n",
       "      <td>0</td>\n",
       "      <td>1</td>\n",
       "      <td>1</td>\n",
       "      <td>0</td>\n",
       "      <td>0</td>\n",
       "      <td>0</td>\n",
       "      <td>0</td>\n",
       "      <td>0</td>\n",
       "      <td>1</td>\n",
       "      <td>1</td>\n",
       "    </tr>\n",
       "    <tr>\n",
       "      <th>4</th>\n",
       "      <td>-0.027806</td>\n",
       "      <td>-0.119883</td>\n",
       "      <td>-0.462629</td>\n",
       "      <td>-0.343150</td>\n",
       "      <td>0.250168</td>\n",
       "      <td>-0.514118</td>\n",
       "      <td>-0.614660</td>\n",
       "      <td>-0.286026</td>\n",
       "      <td>0.040817</td>\n",
       "      <td>-0.064328</td>\n",
       "      <td>...</td>\n",
       "      <td>1</td>\n",
       "      <td>0</td>\n",
       "      <td>0</td>\n",
       "      <td>1</td>\n",
       "      <td>0</td>\n",
       "      <td>0</td>\n",
       "      <td>0</td>\n",
       "      <td>1</td>\n",
       "      <td>0</td>\n",
       "      <td>1</td>\n",
       "    </tr>\n",
       "    <tr>\n",
       "      <th>...</th>\n",
       "      <td>...</td>\n",
       "      <td>...</td>\n",
       "      <td>...</td>\n",
       "      <td>...</td>\n",
       "      <td>...</td>\n",
       "      <td>...</td>\n",
       "      <td>...</td>\n",
       "      <td>...</td>\n",
       "      <td>...</td>\n",
       "      <td>...</td>\n",
       "      <td>...</td>\n",
       "      <td>...</td>\n",
       "      <td>...</td>\n",
       "      <td>...</td>\n",
       "      <td>...</td>\n",
       "      <td>...</td>\n",
       "      <td>...</td>\n",
       "      <td>...</td>\n",
       "      <td>...</td>\n",
       "      <td>...</td>\n",
       "      <td>...</td>\n",
       "    </tr>\n",
       "    <tr>\n",
       "      <th>381</th>\n",
       "      <td>0.209724</td>\n",
       "      <td>0.231861</td>\n",
       "      <td>0.989656</td>\n",
       "      <td>1.152734</td>\n",
       "      <td>0.250168</td>\n",
       "      <td>-0.060061</td>\n",
       "      <td>-0.153461</td>\n",
       "      <td>-0.457924</td>\n",
       "      <td>1.322598</td>\n",
       "      <td>0.109800</td>\n",
       "      <td>...</td>\n",
       "      <td>1</td>\n",
       "      <td>0</td>\n",
       "      <td>0</td>\n",
       "      <td>0</td>\n",
       "      <td>0</td>\n",
       "      <td>1</td>\n",
       "      <td>0</td>\n",
       "      <td>1</td>\n",
       "      <td>0</td>\n",
       "      <td>0</td>\n",
       "    </tr>\n",
       "    <tr>\n",
       "      <th>382</th>\n",
       "      <td>-0.562249</td>\n",
       "      <td>1.756087</td>\n",
       "      <td>1.836822</td>\n",
       "      <td>1.444614</td>\n",
       "      <td>-0.486968</td>\n",
       "      <td>-0.928112</td>\n",
       "      <td>-0.514399</td>\n",
       "      <td>-0.324225</td>\n",
       "      <td>0.361262</td>\n",
       "      <td>-0.377759</td>\n",
       "      <td>...</td>\n",
       "      <td>1</td>\n",
       "      <td>0</td>\n",
       "      <td>0</td>\n",
       "      <td>0</td>\n",
       "      <td>0</td>\n",
       "      <td>0</td>\n",
       "      <td>1</td>\n",
       "      <td>1</td>\n",
       "      <td>0</td>\n",
       "      <td>0</td>\n",
       "    </tr>\n",
       "    <tr>\n",
       "      <th>383</th>\n",
       "      <td>-2.343724</td>\n",
       "      <td>0.818102</td>\n",
       "      <td>1.231703</td>\n",
       "      <td>1.189219</td>\n",
       "      <td>0.250168</td>\n",
       "      <td>-0.594246</td>\n",
       "      <td>-0.614660</td>\n",
       "      <td>-0.438824</td>\n",
       "      <td>-0.065998</td>\n",
       "      <td>-0.064328</td>\n",
       "      <td>...</td>\n",
       "      <td>1</td>\n",
       "      <td>0</td>\n",
       "      <td>0</td>\n",
       "      <td>0</td>\n",
       "      <td>0</td>\n",
       "      <td>1</td>\n",
       "      <td>0</td>\n",
       "      <td>1</td>\n",
       "      <td>0</td>\n",
       "      <td>0</td>\n",
       "    </tr>\n",
       "    <tr>\n",
       "      <th>384</th>\n",
       "      <td>-2.046812</td>\n",
       "      <td>1.404343</td>\n",
       "      <td>1.473751</td>\n",
       "      <td>0.605459</td>\n",
       "      <td>-1.224104</td>\n",
       "      <td>-0.407281</td>\n",
       "      <td>-0.133409</td>\n",
       "      <td>-0.362425</td>\n",
       "      <td>-0.279629</td>\n",
       "      <td>0.109800</td>\n",
       "      <td>...</td>\n",
       "      <td>1</td>\n",
       "      <td>0</td>\n",
       "      <td>0</td>\n",
       "      <td>0</td>\n",
       "      <td>0</td>\n",
       "      <td>0</td>\n",
       "      <td>1</td>\n",
       "      <td>1</td>\n",
       "      <td>0</td>\n",
       "      <td>0</td>\n",
       "    </tr>\n",
       "    <tr>\n",
       "      <th>385</th>\n",
       "      <td>0.387872</td>\n",
       "      <td>1.638839</td>\n",
       "      <td>1.715798</td>\n",
       "      <td>1.189219</td>\n",
       "      <td>0.250168</td>\n",
       "      <td>-0.180253</td>\n",
       "      <td>-0.775077</td>\n",
       "      <td>-0.343325</td>\n",
       "      <td>0.361262</td>\n",
       "      <td>-0.377759</td>\n",
       "      <td>...</td>\n",
       "      <td>1</td>\n",
       "      <td>0</td>\n",
       "      <td>0</td>\n",
       "      <td>0</td>\n",
       "      <td>0</td>\n",
       "      <td>0</td>\n",
       "      <td>1</td>\n",
       "      <td>1</td>\n",
       "      <td>0</td>\n",
       "      <td>0</td>\n",
       "    </tr>\n",
       "  </tbody>\n",
       "</table>\n",
       "<p>386 rows × 49 columns</p>\n",
       "</div>"
      ],
      "text/plain": [
       "          age      rbcc       pcv      hemo        bp       bgr        bu  \\\n",
       "0   -0.205954  0.583606  0.626585  1.043279  0.250168 -0.313799 -0.414139   \n",
       "1   -2.640637  0.000000 -0.099558 -0.452605 -1.961241 -0.313799 -0.775077   \n",
       "2    0.625402  0.000000 -0.946724 -1.072850  0.250168  3.719296 -0.073253   \n",
       "3   -0.205954 -0.940620 -0.825700 -0.489090 -0.486968 -0.367217 -0.013096   \n",
       "4   -0.027806 -0.119883 -0.462629 -0.343150  0.250168 -0.514118 -0.614660   \n",
       "..        ...       ...       ...       ...       ...       ...       ...   \n",
       "381  0.209724  0.231861  0.989656  1.152734  0.250168 -0.060061 -0.153461   \n",
       "382 -0.562249  1.756087  1.836822  1.444614 -0.486968 -0.928112 -0.514399   \n",
       "383 -2.343724  0.818102  1.231703  1.189219  0.250168 -0.594246 -0.614660   \n",
       "384 -2.046812  1.404343  1.473751  0.605459 -1.224104 -0.407281 -0.133409   \n",
       "385  0.387872  1.638839  1.715798  1.189219  0.250168 -0.180253 -0.775077   \n",
       "\n",
       "           sc       sod       pot  ...  pe_no  pe_yes  sg_1.005  sg_1.010  \\\n",
       "0   -0.324225  0.040817 -0.064328  ...      1       0         0         0   \n",
       "1   -0.400624  0.040817 -0.064328  ...      1       0         0         0   \n",
       "2   -0.209627  0.040817 -0.064328  ...      1       0         0         1   \n",
       "3    0.172368 -2.843192 -0.726016  ...      0       1         1         0   \n",
       "4   -0.286026  0.040817 -0.064328  ...      1       0         0         1   \n",
       "..        ...       ...       ...  ...    ...     ...       ...       ...   \n",
       "381 -0.457924  1.322598  0.109800  ...      1       0         0         0   \n",
       "382 -0.324225  0.361262 -0.377759  ...      1       0         0         0   \n",
       "383 -0.438824 -0.065998 -0.064328  ...      1       0         0         0   \n",
       "384 -0.362425 -0.279629  0.109800  ...      1       0         0         0   \n",
       "385 -0.343325  0.361262 -0.377759  ...      1       0         0         0   \n",
       "\n",
       "     sg_1.015  sg_1.020  sg_1.025  pcc_notpresent  pcc_present  class  \n",
       "0           0         1         0               1            0      1  \n",
       "1           0         1         0               1            0      1  \n",
       "2           0         0         0               1            0      1  \n",
       "3           0         0         0               0            1      1  \n",
       "4           0         0         0               1            0      1  \n",
       "..        ...       ...       ...             ...          ...    ...  \n",
       "381         0         1         0               1            0      0  \n",
       "382         0         0         1               1            0      0  \n",
       "383         0         1         0               1            0      0  \n",
       "384         0         0         1               1            0      0  \n",
       "385         0         0         1               1            0      0  \n",
       "\n",
       "[386 rows x 49 columns]"
      ]
     },
     "execution_count": 4,
     "metadata": {},
     "output_type": "execute_result"
    }
   ],
   "source": [
    "data"
   ]
  },
  {
   "cell_type": "markdown",
   "id": "836ba9e4",
   "metadata": {},
   "source": [
    "## 2.5 Splitting the dataset"
   ]
  },
  {
   "cell_type": "code",
   "execution_count": 5,
   "id": "50d32df4",
   "metadata": {},
   "outputs": [],
   "source": [
    "from sklearn.model_selection import train_test_split"
   ]
  },
  {
   "cell_type": "code",
   "execution_count": 6,
   "id": "ea0be972",
   "metadata": {},
   "outputs": [],
   "source": [
    "#target variable\n",
    "y = data['class']\n",
    "y\n",
    "\n",
    "#predictors\n",
    "x = data.copy()\n",
    "x.drop('class', inplace=True, axis=1)"
   ]
  },
  {
   "cell_type": "code",
   "execution_count": 7,
   "id": "6729ed29",
   "metadata": {},
   "outputs": [],
   "source": [
    "#split train and test\n",
    "X_train, X_test, y_train, y_test = train_test_split(x, y, test_size=0.33, random_state=42)\n",
    "#randomstate for reproducibility"
   ]
  },
  {
   "cell_type": "markdown",
   "id": "d1eee5d5",
   "metadata": {},
   "source": [
    "# 3. Fitting logistic regression  (giusto per avere un modello)"
   ]
  },
  {
   "cell_type": "code",
   "execution_count": 8,
   "id": "6abea9fa",
   "metadata": {
    "scrolled": true
   },
   "outputs": [],
   "source": [
    "#import \n",
    "from sklearn.linear_model import LogisticRegression\n",
    "\n",
    "\n",
    "#instance of the model \n",
    "logreg = LogisticRegression()\n",
    "\n",
    "#the model learns the relationship between predictors and label \n",
    "logreg.fit(X_train, y_train)\n",
    "\n",
    "#predict the label on test set \n",
    "y_pred = logreg.predict(X_test)"
   ]
  },
  {
   "cell_type": "code",
   "execution_count": 9,
   "id": "71f5df9b",
   "metadata": {},
   "outputs": [
    {
     "data": {
      "text/plain": [
       "array([0, 0, 1, 0, 1, 0, 1, 1, 0, 1, 1, 1, 1, 1, 1, 0, 1, 1, 0, 0, 1, 1,\n",
       "       1, 1, 1, 1, 1, 1, 0, 1, 0, 1, 1, 1, 1, 1, 1, 1, 0, 0, 1, 1, 0, 1,\n",
       "       1, 1, 0, 1, 1, 1, 0, 1, 1, 0, 1, 1, 0, 1, 0, 0, 0, 0, 1, 0, 1, 1,\n",
       "       1, 1, 1, 0, 1, 1, 1, 1, 1, 0, 1, 1, 0, 0, 0, 1, 1, 0, 1, 1, 0, 1,\n",
       "       0, 0, 0, 1, 0, 1, 1, 1, 1, 1, 1, 1, 0, 0, 1, 1, 0, 0, 0, 1, 1, 0,\n",
       "       1, 0, 0, 1, 1, 0, 1, 1, 0, 1, 0, 1, 1, 0, 0, 0, 1, 0])"
      ]
     },
     "execution_count": 9,
     "metadata": {},
     "output_type": "execute_result"
    }
   ],
   "source": [
    "y_pred #y_hat"
   ]
  },
  {
   "cell_type": "code",
   "execution_count": 10,
   "id": "d6810b83",
   "metadata": {},
   "outputs": [
    {
     "data": {
      "text/plain": [
       "array([0, 0, 1, 0, 1, 0, 1, 1, 0, 1, 1, 1, 1, 1, 1, 0, 1, 1, 0, 0, 1, 1,\n",
       "       1, 1, 1, 1, 1, 1, 0, 1, 0, 1, 1, 1, 1, 1, 1, 1, 0, 0, 1, 1, 0, 1,\n",
       "       1, 1, 0, 1, 1, 1, 0, 1, 1, 0, 1, 1, 0, 0, 0, 0, 0, 0, 1, 0, 1, 1,\n",
       "       1, 1, 1, 0, 1, 1, 1, 1, 1, 0, 1, 1, 0, 0, 0, 1, 1, 0, 1, 1, 0, 1,\n",
       "       0, 0, 0, 1, 0, 1, 1, 1, 1, 1, 1, 1, 0, 0, 1, 1, 0, 0, 0, 1, 1, 0,\n",
       "       1, 0, 0, 1, 1, 0, 1, 1, 0, 1, 0, 1, 1, 0, 0, 0, 1, 0])"
      ]
     },
     "execution_count": 10,
     "metadata": {},
     "output_type": "execute_result"
    }
   ],
   "source": [
    "y_test = y_test.copy().values #y_actual (trasformati da series a array)\n",
    "y_test"
   ]
  },
  {
   "cell_type": "code",
   "execution_count": 11,
   "id": "025c1244",
   "metadata": {},
   "outputs": [],
   "source": [
    "#CODICE PER GENERARMI LA CONFUSION MATRIX DATI ACTUAL VALUES E PREDICTIONS \n",
    "\n",
    "#Given two lists that have the predicted and actual values, I can pass them to \n",
    "\n",
    "def generate_matrix_entries(y_actual, y_hat):\n",
    "    TP = 0\n",
    "    FP = 0\n",
    "    TN = 0\n",
    "    FN = 0\n",
    "\n",
    "    for i in range(len(y_hat)): \n",
    "        if y_actual[i]==y_hat[i]==1:                #se prediction = actual = 1 -> TP\n",
    "           TP += 1\n",
    "        if y_hat[i]==1 and y_actual[i]!=y_hat[i]:   #se prediction = 1 but different from the actual -> FP\n",
    "           FP += 1\n",
    "        if y_actual[i]==y_hat[i]==0:                #se prediction = actual = 0 -> TN\n",
    "           TN += 1\n",
    "        if y_hat[i]==0 and y_actual[i]!=y_hat[i]:   #se prediction = 0 but different from the actual -> FN\n",
    "           FN += 1\n",
    "\n",
    "    return (TN,FP,FN,TP)\n",
    "\n",
    "#np.array([[TN, FP],\n",
    "#            [FN, TP]])   #così come la ottengo da sklearn -> rimessa in lista per fare l'assignment simultaneo poi\n",
    "\n",
    "\n",
    "#in teoria a questa funzione devo aggiungere un ciclo for sul threshold per ottenere tutte le varie \n",
    "#CM associate a ciascun valore del threshold \n",
    "#(  dalle CM poi normalizzo e prendo le coordinate\n",
    "#   e mi devo estrarre anche fpr e tpr per ROC"
   ]
  },
  {
   "cell_type": "code",
   "execution_count": 12,
   "id": "4b774cfa",
   "metadata": {},
   "outputs": [
    {
     "data": {
      "text/plain": [
       "array([[48,  1],\n",
       "       [ 0, 79]])"
      ]
     },
     "execution_count": 12,
     "metadata": {},
     "output_type": "execute_result"
    }
   ],
   "source": [
    "from sklearn import metrics\n",
    "from sklearn.metrics import confusion_matrix\n",
    "\n",
    "confusion_matrix(y_test,y_pred) #check della struttura perchè l'output è diverso dal paper cioè è inversa\n",
    "\n",
    "#TP=79\n",
    "#TN=48\n",
    "#FP=1\n",
    "#FN=0"
   ]
  },
  {
   "cell_type": "code",
   "execution_count": 37,
   "id": "e3ec1d22",
   "metadata": {},
   "outputs": [],
   "source": [
    "#MODELLO OTTIENE PREDICTIONS SULLA BASE DI QUESTE PROBS \n",
    "\n",
    "#probability che ciascun elemento appartenga alla classe 0 e stesso per classe 1\n",
    "probs = logreg.predict_proba(X_test) \n",
    "\n",
    "#prendo probabilità associata alla classe 1 \n",
    "preds = probs[:,1] #y_probs -> un valore tra 0 e 1 -> quello che confronto con threshold \n",
    "\n",
    "#preds #P(Y=1)"
   ]
  },
  {
   "cell_type": "code",
   "execution_count": 68,
   "id": "9056f40d",
   "metadata": {},
   "outputs": [
    {
     "data": {
      "text/plain": [
       "array([0.  , 0.01, 0.02, 0.03, 0.04, 0.05, 0.06, 0.07, 0.08, 0.09, 0.1 ,\n",
       "       0.11, 0.12, 0.13, 0.14, 0.15, 0.16, 0.17, 0.18, 0.19, 0.2 , 0.21,\n",
       "       0.22, 0.23, 0.24, 0.25, 0.26, 0.27, 0.28, 0.29, 0.3 , 0.31, 0.32,\n",
       "       0.33, 0.34, 0.35, 0.36, 0.37, 0.38, 0.39, 0.4 , 0.41, 0.42, 0.43,\n",
       "       0.44, 0.45, 0.46, 0.47, 0.48, 0.49, 0.5 , 0.51, 0.52, 0.53, 0.54,\n",
       "       0.55, 0.56, 0.57, 0.58, 0.59, 0.6 , 0.61, 0.62, 0.63, 0.64, 0.65,\n",
       "       0.66, 0.67, 0.68, 0.69, 0.7 , 0.71, 0.72, 0.73, 0.74, 0.75, 0.76,\n",
       "       0.77, 0.78, 0.79, 0.8 , 0.81, 0.82, 0.83, 0.84, 0.85, 0.86, 0.87,\n",
       "       0.88, 0.89, 0.9 , 0.91, 0.92, 0.93, 0.94, 0.95, 0.96, 0.97, 0.98,\n",
       "       0.99])"
      ]
     },
     "execution_count": 68,
     "metadata": {},
     "output_type": "execute_result"
    }
   ],
   "source": [
    "#DEFINISCO IL VETTORE CON TUTTI I VALORI DEL THRESHOLD \n",
    "\n",
    "thresholds = np.arange(0,1,0.01) #0.001 - discretizzo con pochi poi eventualmente ne aggiungo\n",
    "thresholds"
   ]
  },
  {
   "cell_type": "code",
   "execution_count": 70,
   "id": "f613c303",
   "metadata": {},
   "outputs": [
    {
     "data": {
      "text/html": [
       "<div>\n",
       "<style scoped>\n",
       "    .dataframe tbody tr th:only-of-type {\n",
       "        vertical-align: middle;\n",
       "    }\n",
       "\n",
       "    .dataframe tbody tr th {\n",
       "        vertical-align: top;\n",
       "    }\n",
       "\n",
       "    .dataframe thead th {\n",
       "        text-align: right;\n",
       "    }\n",
       "</style>\n",
       "<table border=\"1\" class=\"dataframe\">\n",
       "  <thead>\n",
       "    <tr style=\"text-align: right;\">\n",
       "      <th></th>\n",
       "      <th>TN</th>\n",
       "      <th>FP</th>\n",
       "      <th>TP</th>\n",
       "      <th>threshold</th>\n",
       "      <th>TPR</th>\n",
       "      <th>FPR</th>\n",
       "    </tr>\n",
       "  </thead>\n",
       "  <tbody>\n",
       "    <tr>\n",
       "      <th>0</th>\n",
       "      <td>0.000000</td>\n",
       "      <td>0.382812</td>\n",
       "      <td>0.617188</td>\n",
       "      <td>0.00</td>\n",
       "      <td>1.000000</td>\n",
       "      <td>1.000000</td>\n",
       "    </tr>\n",
       "    <tr>\n",
       "      <th>1</th>\n",
       "      <td>0.164062</td>\n",
       "      <td>0.218750</td>\n",
       "      <td>0.617188</td>\n",
       "      <td>0.01</td>\n",
       "      <td>1.000000</td>\n",
       "      <td>0.571429</td>\n",
       "    </tr>\n",
       "    <tr>\n",
       "      <th>2</th>\n",
       "      <td>0.234375</td>\n",
       "      <td>0.148438</td>\n",
       "      <td>0.617188</td>\n",
       "      <td>0.02</td>\n",
       "      <td>1.000000</td>\n",
       "      <td>0.387755</td>\n",
       "    </tr>\n",
       "    <tr>\n",
       "      <th>3</th>\n",
       "      <td>0.250000</td>\n",
       "      <td>0.132812</td>\n",
       "      <td>0.617188</td>\n",
       "      <td>0.03</td>\n",
       "      <td>1.000000</td>\n",
       "      <td>0.346939</td>\n",
       "    </tr>\n",
       "    <tr>\n",
       "      <th>4</th>\n",
       "      <td>0.257812</td>\n",
       "      <td>0.125000</td>\n",
       "      <td>0.617188</td>\n",
       "      <td>0.04</td>\n",
       "      <td>1.000000</td>\n",
       "      <td>0.326531</td>\n",
       "    </tr>\n",
       "    <tr>\n",
       "      <th>...</th>\n",
       "      <td>...</td>\n",
       "      <td>...</td>\n",
       "      <td>...</td>\n",
       "      <td>...</td>\n",
       "      <td>...</td>\n",
       "      <td>...</td>\n",
       "    </tr>\n",
       "    <tr>\n",
       "      <th>95</th>\n",
       "      <td>0.382812</td>\n",
       "      <td>0.000000</td>\n",
       "      <td>0.523438</td>\n",
       "      <td>0.95</td>\n",
       "      <td>0.848101</td>\n",
       "      <td>0.000000</td>\n",
       "    </tr>\n",
       "    <tr>\n",
       "      <th>96</th>\n",
       "      <td>0.382812</td>\n",
       "      <td>0.000000</td>\n",
       "      <td>0.507812</td>\n",
       "      <td>0.96</td>\n",
       "      <td>0.822785</td>\n",
       "      <td>0.000000</td>\n",
       "    </tr>\n",
       "    <tr>\n",
       "      <th>97</th>\n",
       "      <td>0.382812</td>\n",
       "      <td>0.000000</td>\n",
       "      <td>0.476562</td>\n",
       "      <td>0.97</td>\n",
       "      <td>0.772152</td>\n",
       "      <td>0.000000</td>\n",
       "    </tr>\n",
       "    <tr>\n",
       "      <th>98</th>\n",
       "      <td>0.382812</td>\n",
       "      <td>0.000000</td>\n",
       "      <td>0.453125</td>\n",
       "      <td>0.98</td>\n",
       "      <td>0.734177</td>\n",
       "      <td>0.000000</td>\n",
       "    </tr>\n",
       "    <tr>\n",
       "      <th>99</th>\n",
       "      <td>0.382812</td>\n",
       "      <td>0.000000</td>\n",
       "      <td>0.421875</td>\n",
       "      <td>0.99</td>\n",
       "      <td>0.683544</td>\n",
       "      <td>0.000000</td>\n",
       "    </tr>\n",
       "  </tbody>\n",
       "</table>\n",
       "<p>100 rows × 6 columns</p>\n",
       "</div>"
      ],
      "text/plain": [
       "          TN        FP        TP  threshold       TPR       FPR\n",
       "0   0.000000  0.382812  0.617188       0.00  1.000000  1.000000\n",
       "1   0.164062  0.218750  0.617188       0.01  1.000000  0.571429\n",
       "2   0.234375  0.148438  0.617188       0.02  1.000000  0.387755\n",
       "3   0.250000  0.132812  0.617188       0.03  1.000000  0.346939\n",
       "4   0.257812  0.125000  0.617188       0.04  1.000000  0.326531\n",
       "..       ...       ...       ...        ...       ...       ...\n",
       "95  0.382812  0.000000  0.523438       0.95  0.848101  0.000000\n",
       "96  0.382812  0.000000  0.507812       0.96  0.822785  0.000000\n",
       "97  0.382812  0.000000  0.476562       0.97  0.772152  0.000000\n",
       "98  0.382812  0.000000  0.453125       0.98  0.734177  0.000000\n",
       "99  0.382812  0.000000  0.421875       0.99  0.683544  0.000000\n",
       "\n",
       "[100 rows x 6 columns]"
      ]
     },
     "execution_count": 70,
     "metadata": {},
     "output_type": "execute_result"
    }
   ],
   "source": [
    "#QUI PER OGNI VALORE DEL THRESHOLD MI CALCOLO TUTTO QUELLO CHE MI SERVE \n",
    "\n",
    "#il codice è brutto inizializzando tutte le liste ma intanto così funziona  \n",
    "#--> \n",
    "# 1. itero sui valori del threshold \n",
    "# 2. avendo le P(Y=1) per ciascun record in y_test faccio il confronto con il threshold (per farlo lo rendo vettore)\n",
    "#    così ottengo il vettore con le predizioni \n",
    "# 3. quindi utilizzo la funzione definita sopra (generate_matrix) per generarmi le matrici per ciascun record \n",
    "#    inputting actual (che sono quelle del test) e le pred appena calcolate \n",
    "#    e mi salvo tutti i risultati che poi appendo alla lista definita inizialmente (che poi converto in df)\n",
    "#    -   da un lato mi creo la confusion matrix (each_CM) ---> coordinate per CT [3D]\n",
    "#    -   dall'altro mi calcolo fpr e tpr --> coordinate per ROC [2D]    \n",
    "\n",
    "\n",
    "all_nCM = []\n",
    "all_ts = []\n",
    "all_TPR = []\n",
    "all_FPR = []\n",
    "\n",
    "#questo per la normalizzazione delle entries, è costante quindi me lo salvo qui \n",
    "N= len(y_test)\n",
    "\n",
    "#poi triggero il for \n",
    "for i in range(len(thresholds)):\n",
    "    \n",
    "    t = thresholds[i]\n",
    "    all_ts.append(round(t,3)) #che poi me lo metto nel dataframe \n",
    "    \n",
    "    t_vec = np.ones(preds.size)*t #t mi serve con dimensioni comparabili \n",
    "                                  #alla y_pred (quindi è vettore colonna con singolo t ripetuto)\n",
    "        \n",
    "    y_pred = (preds >= t_vec).astype(int) #vettore di boolean poi turned into binary\n",
    "                                          #risultante dal confronto di P(Y=1) >= threshold (confronto vettori)\n",
    "    \n",
    "    (TN, FP, FN, TP) = generate_matrix_entries(y_test, y_pred)\n",
    "    \n",
    "    each_CM = np.array([TN, FP,FN, TP])\n",
    "    \n",
    "    each_FPR = FP/(FP+TN) #=1-specificity --> x\n",
    "    each_TPR = TP/(TP+FN) #=sensitivity --> y\n",
    "    \n",
    "    \n",
    "    each_nCM = each_CM/N\n",
    "    all_nCM.append(each_nCM)\n",
    "    \n",
    "    all_FPR.append(each_FPR)\n",
    "    all_TPR.append(each_TPR)\n",
    "    \n",
    "\n",
    "PD_all_nCM = pd.DataFrame(all_nCM) \n",
    "\n",
    "\n",
    "coords = PD_all_nCM.drop([2],axis=1) #coordinata di FN non ci interessa\n",
    "\n",
    "coords['threshold'] = all_ts\n",
    "coords.rename({0: 'TN', 1: 'FP', 3: 'TP'}, axis=1, inplace=True)\n",
    "\n",
    "coords['TPR']=all_TPR\n",
    "coords['FPR']=all_FPR   #per avere tutto in un unico df (quindi a sx coord per 3D, a dx coord per 2D)\n",
    "\n",
    "coords\n",
    "\n",
    "#QUESTO POI MAGARI ME LO METTO IN UNA FUNZIONE tipo obtain_DF(preds, y_test, threshold)                                                   "
   ]
  },
  {
   "cell_type": "code",
   "execution_count": 71,
   "id": "19d1c169",
   "metadata": {},
   "outputs": [
    {
     "data": {
      "image/png": "[encoded data removed]",
      "text/plain": [
       "<Figure size 432x288 with 1 Axes>"
      ]
     },
     "metadata": {
      "needs_background": "light"
     },
     "output_type": "display_data"
    }
   ],
   "source": [
    "plt.plot(coords['FPR'],coords['TPR'])\n",
    "plt.show() #esempio di ROC bella "
   ]
  },
  {
   "cell_type": "code",
   "execution_count": 72,
   "id": "8432cdc6",
   "metadata": {},
   "outputs": [],
   "source": [
    "#per visualizzare i punti sul tetraedro uso il codice delle altre applicazioni "
   ]
  },
  {
   "cell_type": "code",
   "execution_count": 75,
   "id": "3a8e7582",
   "metadata": {},
   "outputs": [
    {
     "data": {
      "application/vnd.plotly.v1+json": {
       "config": {
        "plotlyServerURL": "https://plot.ly"
       },
       "data": [
        {
         "color": "grey",
         "i": [
          0,
          0,
          0,
          1
         ],
         "j": [
          1,
          2,
          3,
          2
         ],
         "k": [
          2,
          3,
          1,
          3
         ],
         "name": "y",
         "opacity": 0.2,
         "type": "mesh3d",
         "x": [
          0,
          0,
          0,
          1
         ],
         "y": [
          0,
          0,
          1,
          0
         ],
         "z": [
          0,
          1,
          0,
          0
         ]
        },
        {
         "marker": {
          "color": "yellow",
          "size": 5
         },
         "mode": "markers",
         "showlegend": false,
         "type": "scatter3d",
         "x": [
          0.6171875
         ],
         "y": [
          0
         ],
         "z": [
          0.3828125
         ]
        },
        {
         "marker": {
          "color": "yellow",
          "size": 5
         },
         "mode": "markers",
         "showlegend": false,
         "type": "scatter3d",
         "x": [
          0.6171875
         ],
         "y": [
          0.1640625
         ],
         "z": [
          0.21875
         ]
        },
        {
         "marker": {
          "color": "yellow",
          "size": 5
         },
         "mode": "markers",
         "showlegend": false,
         "type": "scatter3d",
         "x": [
          0.6171875
         ],
         "y": [
          0.234375
         ],
         "z": [
          0.1484375
         ]
        },
        {
         "marker": {
          "color": "yellow",
          "size": 5
         },
         "mode": "markers",
         "showlegend": false,
         "type": "scatter3d",
         "x": [
          0.6171875
         ],
         "y": [
          0.25
         ],
         "z": [
          0.1328125
         ]
        },
        {
         "marker": {
          "color": "yellow",
          "size": 5
         },
         "mode": "markers",
         "showlegend": false,
         "type": "scatter3d",
         "x": [
          0.6171875
         ],
         "y": [
          0.2578125
         ],
         "z": [
          0.125
         ]
        },
        {
         "marker": {
          "color": "yellow",
          "size": 5
         },
         "mode": "markers",
         "showlegend": false,
         "type": "scatter3d",
         "x": [
          0.6171875
         ],
         "y": [
          0.2734375
         ],
         "z": [
          0.109375
         ]
        },
        {
         "marker": {
          "color": "yellow",
          "size": 5
         },
         "mode": "markers",
         "showlegend": false,
         "type": "scatter3d",
         "x": [
          0.6171875
         ],
         "y": [
          0.2890625
         ],
         "z": [
          0.09375
         ]
        },
        {
         "marker": {
          "color": "yellow",
          "size": 5
         },
         "mode": "markers",
         "showlegend": false,
         "type": "scatter3d",
         "x": [
          0.6171875
         ],
         "y": [
          0.3046875
         ],
         "z": [
          0.078125
         ]
        },
        {
         "marker": {
          "color": "yellow",
          "size": 5
         },
         "mode": "markers",
         "showlegend": false,
         "type": "scatter3d",
         "x": [
          0.6171875
         ],
         "y": [
          0.3125
         ],
         "z": [
          0.0703125
         ]
        },
        {
         "marker": {
          "color": "yellow",
          "size": 5
         },
         "mode": "markers",
         "showlegend": false,
         "type": "scatter3d",
         "x": [
          0.6171875
         ],
         "y": [
          0.328125
         ],
         "z": [
          0.0546875
         ]
        },
        {
         "marker": {
          "color": "yellow",
          "size": 5
         },
         "mode": "markers",
         "showlegend": false,
         "type": "scatter3d",
         "x": [
          0.6171875
         ],
         "y": [
          0.328125
         ],
         "z": [
          0.0546875
         ]
        },
        {
         "marker": {
          "color": "yellow",
          "size": 5
         },
         "mode": "markers",
         "showlegend": false,
         "type": "scatter3d",
         "x": [
          0.6171875
         ],
         "y": [
          0.34375
         ],
         "z": [
          0.0390625
         ]
        },
        {
         "marker": {
          "color": "yellow",
          "size": 5
         },
         "mode": "markers",
         "showlegend": false,
         "type": "scatter3d",
         "x": [
          0.6171875
         ],
         "y": [
          0.34375
         ],
         "z": [
          0.0390625
         ]
        },
        {
         "marker": {
          "color": "yellow",
          "size": 5
         },
         "mode": "markers",
         "showlegend": false,
         "type": "scatter3d",
         "x": [
          0.6171875
         ],
         "y": [
          0.34375
         ],
         "z": [
          0.0390625
         ]
        },
        {
         "marker": {
          "color": "yellow",
          "size": 5
         },
         "mode": "markers",
         "showlegend": false,
         "type": "scatter3d",
         "x": [
          0.6171875
         ],
         "y": [
          0.34375
         ],
         "z": [
          0.0390625
         ]
        },
        {
         "marker": {
          "color": "yellow",
          "size": 5
         },
         "mode": "markers",
         "showlegend": false,
         "type": "scatter3d",
         "x": [
          0.6171875
         ],
         "y": [
          0.34375
         ],
         "z": [
          0.0390625
         ]
        },
        {
         "marker": {
          "color": "yellow",
          "size": 5
         },
         "mode": "markers",
         "showlegend": false,
         "type": "scatter3d",
         "x": [
          0.6171875
         ],
         "y": [
          0.34375
         ],
         "z": [
          0.0390625
         ]
        },
        {
         "marker": {
          "color": "yellow",
          "size": 5
         },
         "mode": "markers",
         "showlegend": false,
         "type": "scatter3d",
         "x": [
          0.6171875
         ],
         "y": [
          0.3515625
         ],
         "z": [
          0.03125
         ]
        },
        {
         "marker": {
          "color": "yellow",
          "size": 5
         },
         "mode": "markers",
         "showlegend": false,
         "type": "scatter3d",
         "x": [
          0.6171875
         ],
         "y": [
          0.359375
         ],
         "z": [
          0.0234375
         ]
        },
        {
         "marker": {
          "color": "yellow",
          "size": 5
         },
         "mode": "markers",
         "showlegend": false,
         "type": "scatter3d",
         "x": [
          0.6171875
         ],
         "y": [
          0.359375
         ],
         "z": [
          0.0234375
         ]
        },
        {
         "marker": {
          "color": "yellow",
          "size": 5
         },
         "mode": "markers",
         "showlegend": false,
         "type": "scatter3d",
         "x": [
          0.6171875
         ],
         "y": [
          0.359375
         ],
         "z": [
          0.0234375
         ]
        },
        {
         "marker": {
          "color": "yellow",
          "size": 5
         },
         "mode": "markers",
         "showlegend": false,
         "type": "scatter3d",
         "x": [
          0.6171875
         ],
         "y": [
          0.359375
         ],
         "z": [
          0.0234375
         ]
        },
        {
         "marker": {
          "color": "yellow",
          "size": 5
         },
         "mode": "markers",
         "showlegend": false,
         "type": "scatter3d",
         "x": [
          0.6171875
         ],
         "y": [
          0.359375
         ],
         "z": [
          0.0234375
         ]
        },
        {
         "marker": {
          "color": "yellow",
          "size": 5
         },
         "mode": "markers",
         "showlegend": false,
         "type": "scatter3d",
         "x": [
          0.6171875
         ],
         "y": [
          0.359375
         ],
         "z": [
          0.0234375
         ]
        },
        {
         "marker": {
          "color": "yellow",
          "size": 5
         },
         "mode": "markers",
         "showlegend": false,
         "type": "scatter3d",
         "x": [
          0.6171875
         ],
         "y": [
          0.359375
         ],
         "z": [
          0.0234375
         ]
        },
        {
         "marker": {
          "color": "yellow",
          "size": 5
         },
         "mode": "markers",
         "showlegend": false,
         "type": "scatter3d",
         "x": [
          0.6171875
         ],
         "y": [
          0.359375
         ],
         "z": [
          0.0234375
         ]
        },
        {
         "marker": {
          "color": "yellow",
          "size": 5
         },
         "mode": "markers",
         "showlegend": false,
         "type": "scatter3d",
         "x": [
          0.6171875
         ],
         "y": [
          0.359375
         ],
         "z": [
          0.0234375
         ]
        },
        {
         "marker": {
          "color": "yellow",
          "size": 5
         },
         "mode": "markers",
         "showlegend": false,
         "type": "scatter3d",
         "x": [
          0.6171875
         ],
         "y": [
          0.359375
         ],
         "z": [
          0.0234375
         ]
        },
        {
         "marker": {
          "color": "yellow",
          "size": 5
         },
         "mode": "markers",
         "showlegend": false,
         "type": "scatter3d",
         "x": [
          0.6171875
         ],
         "y": [
          0.359375
         ],
         "z": [
          0.0234375
         ]
        },
        {
         "marker": {
          "color": "yellow",
          "size": 5
         },
         "mode": "markers",
         "showlegend": false,
         "type": "scatter3d",
         "x": [
          0.6171875
         ],
         "y": [
          0.359375
         ],
         "z": [
          0.0234375
         ]
        },
        {
         "marker": {
          "color": "yellow",
          "size": 5
         },
         "mode": "markers",
         "showlegend": false,
         "type": "scatter3d",
         "x": [
          0.6171875
         ],
         "y": [
          0.359375
         ],
         "z": [
          0.0234375
         ]
        },
        {
         "marker": {
          "color": "yellow",
          "size": 5
         },
         "mode": "markers",
         "showlegend": false,
         "type": "scatter3d",
         "x": [
          0.6171875
         ],
         "y": [
          0.359375
         ],
         "z": [
          0.0234375
         ]
        },
        {
         "marker": {
          "color": "yellow",
          "size": 5
         },
         "mode": "markers",
         "showlegend": false,
         "type": "scatter3d",
         "x": [
          0.6171875
         ],
         "y": [
          0.359375
         ],
         "z": [
          0.0234375
         ]
        },
        {
         "marker": {
          "color": "yellow",
          "size": 5
         },
         "mode": "markers",
         "showlegend": false,
         "type": "scatter3d",
         "x": [
          0.6171875
         ],
         "y": [
          0.359375
         ],
         "z": [
          0.0234375
         ]
        },
        {
         "marker": {
          "color": "yellow",
          "size": 5
         },
         "mode": "markers",
         "showlegend": false,
         "type": "scatter3d",
         "x": [
          0.6171875
         ],
         "y": [
          0.3671875
         ],
         "z": [
          0.015625
         ]
        },
        {
         "marker": {
          "color": "yellow",
          "size": 5
         },
         "mode": "markers",
         "showlegend": false,
         "type": "scatter3d",
         "x": [
          0.6171875
         ],
         "y": [
          0.3671875
         ],
         "z": [
          0.015625
         ]
        },
        {
         "marker": {
          "color": "yellow",
          "size": 5
         },
         "mode": "markers",
         "showlegend": false,
         "type": "scatter3d",
         "x": [
          0.6171875
         ],
         "y": [
          0.3671875
         ],
         "z": [
          0.015625
         ]
        },
        {
         "marker": {
          "color": "yellow",
          "size": 5
         },
         "mode": "markers",
         "showlegend": false,
         "type": "scatter3d",
         "x": [
          0.6171875
         ],
         "y": [
          0.3671875
         ],
         "z": [
          0.015625
         ]
        },
        {
         "marker": {
          "color": "yellow",
          "size": 5
         },
         "mode": "markers",
         "showlegend": false,
         "type": "scatter3d",
         "x": [
          0.6171875
         ],
         "y": [
          0.3671875
         ],
         "z": [
          0.015625
         ]
        },
        {
         "marker": {
          "color": "yellow",
          "size": 5
         },
         "mode": "markers",
         "showlegend": false,
         "type": "scatter3d",
         "x": [
          0.6171875
         ],
         "y": [
          0.3671875
         ],
         "z": [
          0.015625
         ]
        },
        {
         "marker": {
          "color": "yellow",
          "size": 5
         },
         "mode": "markers",
         "showlegend": false,
         "type": "scatter3d",
         "x": [
          0.6171875
         ],
         "y": [
          0.3671875
         ],
         "z": [
          0.015625
         ]
        },
        {
         "marker": {
          "color": "yellow",
          "size": 5
         },
         "mode": "markers",
         "showlegend": false,
         "type": "scatter3d",
         "x": [
          0.6171875
         ],
         "y": [
          0.375
         ],
         "z": [
          0.0078125
         ]
        },
        {
         "marker": {
          "color": "yellow",
          "size": 5
         },
         "mode": "markers",
         "showlegend": false,
         "type": "scatter3d",
         "x": [
          0.6171875
         ],
         "y": [
          0.375
         ],
         "z": [
          0.0078125
         ]
        },
        {
         "marker": {
          "color": "yellow",
          "size": 5
         },
         "mode": "markers",
         "showlegend": false,
         "type": "scatter3d",
         "x": [
          0.6171875
         ],
         "y": [
          0.375
         ],
         "z": [
          0.0078125
         ]
        },
        {
         "marker": {
          "color": "yellow",
          "size": 5
         },
         "mode": "markers",
         "showlegend": false,
         "type": "scatter3d",
         "x": [
          0.6171875
         ],
         "y": [
          0.375
         ],
         "z": [
          0.0078125
         ]
        },
        {
         "marker": {
          "color": "yellow",
          "size": 5
         },
         "mode": "markers",
         "showlegend": false,
         "type": "scatter3d",
         "x": [
          0.6171875
         ],
         "y": [
          0.375
         ],
         "z": [
          0.0078125
         ]
        },
        {
         "marker": {
          "color": "yellow",
          "size": 5
         },
         "mode": "markers",
         "showlegend": false,
         "type": "scatter3d",
         "x": [
          0.6171875
         ],
         "y": [
          0.375
         ],
         "z": [
          0.0078125
         ]
        },
        {
         "marker": {
          "color": "yellow",
          "size": 5
         },
         "mode": "markers",
         "showlegend": false,
         "type": "scatter3d",
         "x": [
          0.6171875
         ],
         "y": [
          0.375
         ],
         "z": [
          0.0078125
         ]
        },
        {
         "marker": {
          "color": "yellow",
          "size": 5
         },
         "mode": "markers",
         "showlegend": false,
         "type": "scatter3d",
         "x": [
          0.6171875
         ],
         "y": [
          0.375
         ],
         "z": [
          0.0078125
         ]
        },
        {
         "marker": {
          "color": "yellow",
          "size": 5
         },
         "mode": "markers",
         "showlegend": false,
         "type": "scatter3d",
         "x": [
          0.6171875
         ],
         "y": [
          0.375
         ],
         "z": [
          0.0078125
         ]
        },
        {
         "marker": {
          "color": "yellow",
          "size": 5
         },
         "mode": "markers",
         "showlegend": false,
         "type": "scatter3d",
         "x": [
          0.6171875
         ],
         "y": [
          0.375
         ],
         "z": [
          0.0078125
         ]
        },
        {
         "marker": {
          "color": "yellow",
          "size": 5
         },
         "mode": "markers",
         "showlegend": false,
         "type": "scatter3d",
         "x": [
          0.6171875
         ],
         "y": [
          0.375
         ],
         "z": [
          0.0078125
         ]
        },
        {
         "marker": {
          "color": "yellow",
          "size": 5
         },
         "mode": "markers",
         "showlegend": false,
         "type": "scatter3d",
         "x": [
          0.6171875
         ],
         "y": [
          0.375
         ],
         "z": [
          0.0078125
         ]
        },
        {
         "marker": {
          "color": "yellow",
          "size": 5
         },
         "mode": "markers",
         "showlegend": false,
         "type": "scatter3d",
         "x": [
          0.6171875
         ],
         "y": [
          0.375
         ],
         "z": [
          0.0078125
         ]
        },
        {
         "marker": {
          "color": "yellow",
          "size": 5
         },
         "mode": "markers",
         "showlegend": false,
         "type": "scatter3d",
         "x": [
          0.6171875
         ],
         "y": [
          0.375
         ],
         "z": [
          0.0078125
         ]
        },
        {
         "marker": {
          "color": "yellow",
          "size": 5
         },
         "mode": "markers",
         "showlegend": false,
         "type": "scatter3d",
         "x": [
          0.6171875
         ],
         "y": [
          0.375
         ],
         "z": [
          0.0078125
         ]
        },
        {
         "marker": {
          "color": "yellow",
          "size": 5
         },
         "mode": "markers",
         "showlegend": false,
         "type": "scatter3d",
         "x": [
          0.6171875
         ],
         "y": [
          0.375
         ],
         "z": [
          0.0078125
         ]
        },
        {
         "marker": {
          "color": "yellow",
          "size": 5
         },
         "mode": "markers",
         "showlegend": false,
         "type": "scatter3d",
         "x": [
          0.6171875
         ],
         "y": [
          0.375
         ],
         "z": [
          0.0078125
         ]
        },
        {
         "marker": {
          "color": "yellow",
          "size": 5
         },
         "mode": "markers",
         "showlegend": false,
         "type": "scatter3d",
         "x": [
          0.6171875
         ],
         "y": [
          0.375
         ],
         "z": [
          0.0078125
         ]
        },
        {
         "marker": {
          "color": "yellow",
          "size": 5
         },
         "mode": "markers",
         "showlegend": false,
         "type": "scatter3d",
         "x": [
          0.609375
         ],
         "y": [
          0.375
         ],
         "z": [
          0.0078125
         ]
        },
        {
         "marker": {
          "color": "yellow",
          "size": 5
         },
         "mode": "markers",
         "showlegend": false,
         "type": "scatter3d",
         "x": [
          0.609375
         ],
         "y": [
          0.375
         ],
         "z": [
          0.0078125
         ]
        },
        {
         "marker": {
          "color": "yellow",
          "size": 5
         },
         "mode": "markers",
         "showlegend": false,
         "type": "scatter3d",
         "x": [
          0.609375
         ],
         "y": [
          0.375
         ],
         "z": [
          0.0078125
         ]
        },
        {
         "marker": {
          "color": "yellow",
          "size": 5
         },
         "mode": "markers",
         "showlegend": false,
         "type": "scatter3d",
         "x": [
          0.609375
         ],
         "y": [
          0.375
         ],
         "z": [
          0.0078125
         ]
        },
        {
         "marker": {
          "color": "yellow",
          "size": 5
         },
         "mode": "markers",
         "showlegend": false,
         "type": "scatter3d",
         "x": [
          0.609375
         ],
         "y": [
          0.375
         ],
         "z": [
          0.0078125
         ]
        },
        {
         "marker": {
          "color": "yellow",
          "size": 5
         },
         "mode": "markers",
         "showlegend": false,
         "type": "scatter3d",
         "x": [
          0.609375
         ],
         "y": [
          0.375
         ],
         "z": [
          0.0078125
         ]
        },
        {
         "marker": {
          "color": "yellow",
          "size": 5
         },
         "mode": "markers",
         "showlegend": false,
         "type": "scatter3d",
         "x": [
          0.609375
         ],
         "y": [
          0.375
         ],
         "z": [
          0.0078125
         ]
        },
        {
         "marker": {
          "color": "yellow",
          "size": 5
         },
         "mode": "markers",
         "showlegend": false,
         "type": "scatter3d",
         "x": [
          0.609375
         ],
         "y": [
          0.3828125
         ],
         "z": [
          0
         ]
        },
        {
         "marker": {
          "color": "yellow",
          "size": 5
         },
         "mode": "markers",
         "showlegend": false,
         "type": "scatter3d",
         "x": [
          0.6015625
         ],
         "y": [
          0.3828125
         ],
         "z": [
          0
         ]
        },
        {
         "marker": {
          "color": "yellow",
          "size": 5
         },
         "mode": "markers",
         "showlegend": false,
         "type": "scatter3d",
         "x": [
          0.6015625
         ],
         "y": [
          0.3828125
         ],
         "z": [
          0
         ]
        },
        {
         "marker": {
          "color": "yellow",
          "size": 5
         },
         "mode": "markers",
         "showlegend": false,
         "type": "scatter3d",
         "x": [
          0.6015625
         ],
         "y": [
          0.3828125
         ],
         "z": [
          0
         ]
        },
        {
         "marker": {
          "color": "yellow",
          "size": 5
         },
         "mode": "markers",
         "showlegend": false,
         "type": "scatter3d",
         "x": [
          0.6015625
         ],
         "y": [
          0.3828125
         ],
         "z": [
          0
         ]
        },
        {
         "marker": {
          "color": "yellow",
          "size": 5
         },
         "mode": "markers",
         "showlegend": false,
         "type": "scatter3d",
         "x": [
          0.6015625
         ],
         "y": [
          0.3828125
         ],
         "z": [
          0
         ]
        },
        {
         "marker": {
          "color": "yellow",
          "size": 5
         },
         "mode": "markers",
         "showlegend": false,
         "type": "scatter3d",
         "x": [
          0.6015625
         ],
         "y": [
          0.3828125
         ],
         "z": [
          0
         ]
        },
        {
         "marker": {
          "color": "yellow",
          "size": 5
         },
         "mode": "markers",
         "showlegend": false,
         "type": "scatter3d",
         "x": [
          0.6015625
         ],
         "y": [
          0.3828125
         ],
         "z": [
          0
         ]
        },
        {
         "marker": {
          "color": "yellow",
          "size": 5
         },
         "mode": "markers",
         "showlegend": false,
         "type": "scatter3d",
         "x": [
          0.59375
         ],
         "y": [
          0.3828125
         ],
         "z": [
          0
         ]
        },
        {
         "marker": {
          "color": "yellow",
          "size": 5
         },
         "mode": "markers",
         "showlegend": false,
         "type": "scatter3d",
         "x": [
          0.59375
         ],
         "y": [
          0.3828125
         ],
         "z": [
          0
         ]
        },
        {
         "marker": {
          "color": "yellow",
          "size": 5
         },
         "mode": "markers",
         "showlegend": false,
         "type": "scatter3d",
         "x": [
          0.59375
         ],
         "y": [
          0.3828125
         ],
         "z": [
          0
         ]
        },
        {
         "marker": {
          "color": "yellow",
          "size": 5
         },
         "mode": "markers",
         "showlegend": false,
         "type": "scatter3d",
         "x": [
          0.59375
         ],
         "y": [
          0.3828125
         ],
         "z": [
          0
         ]
        },
        {
         "marker": {
          "color": "yellow",
          "size": 5
         },
         "mode": "markers",
         "showlegend": false,
         "type": "scatter3d",
         "x": [
          0.59375
         ],
         "y": [
          0.3828125
         ],
         "z": [
          0
         ]
        },
        {
         "marker": {
          "color": "yellow",
          "size": 5
         },
         "mode": "markers",
         "showlegend": false,
         "type": "scatter3d",
         "x": [
          0.5859375
         ],
         "y": [
          0.3828125
         ],
         "z": [
          0
         ]
        },
        {
         "marker": {
          "color": "yellow",
          "size": 5
         },
         "mode": "markers",
         "showlegend": false,
         "type": "scatter3d",
         "x": [
          0.5859375
         ],
         "y": [
          0.3828125
         ],
         "z": [
          0
         ]
        },
        {
         "marker": {
          "color": "yellow",
          "size": 5
         },
         "mode": "markers",
         "showlegend": false,
         "type": "scatter3d",
         "x": [
          0.5859375
         ],
         "y": [
          0.3828125
         ],
         "z": [
          0
         ]
        },
        {
         "marker": {
          "color": "yellow",
          "size": 5
         },
         "mode": "markers",
         "showlegend": false,
         "type": "scatter3d",
         "x": [
          0.5859375
         ],
         "y": [
          0.3828125
         ],
         "z": [
          0
         ]
        },
        {
         "marker": {
          "color": "yellow",
          "size": 5
         },
         "mode": "markers",
         "showlegend": false,
         "type": "scatter3d",
         "x": [
          0.578125
         ],
         "y": [
          0.3828125
         ],
         "z": [
          0
         ]
        },
        {
         "marker": {
          "color": "yellow",
          "size": 5
         },
         "mode": "markers",
         "showlegend": false,
         "type": "scatter3d",
         "x": [
          0.578125
         ],
         "y": [
          0.3828125
         ],
         "z": [
          0
         ]
        },
        {
         "marker": {
          "color": "yellow",
          "size": 5
         },
         "mode": "markers",
         "showlegend": false,
         "type": "scatter3d",
         "x": [
          0.578125
         ],
         "y": [
          0.3828125
         ],
         "z": [
          0
         ]
        },
        {
         "marker": {
          "color": "yellow",
          "size": 5
         },
         "mode": "markers",
         "showlegend": false,
         "type": "scatter3d",
         "x": [
          0.578125
         ],
         "y": [
          0.3828125
         ],
         "z": [
          0
         ]
        },
        {
         "marker": {
          "color": "yellow",
          "size": 5
         },
         "mode": "markers",
         "showlegend": false,
         "type": "scatter3d",
         "x": [
          0.5703125
         ],
         "y": [
          0.3828125
         ],
         "z": [
          0
         ]
        },
        {
         "marker": {
          "color": "yellow",
          "size": 5
         },
         "mode": "markers",
         "showlegend": false,
         "type": "scatter3d",
         "x": [
          0.5703125
         ],
         "y": [
          0.3828125
         ],
         "z": [
          0
         ]
        },
        {
         "marker": {
          "color": "yellow",
          "size": 5
         },
         "mode": "markers",
         "showlegend": false,
         "type": "scatter3d",
         "x": [
          0.5625
         ],
         "y": [
          0.3828125
         ],
         "z": [
          0
         ]
        },
        {
         "marker": {
          "color": "yellow",
          "size": 5
         },
         "mode": "markers",
         "showlegend": false,
         "type": "scatter3d",
         "x": [
          0.5546875
         ],
         "y": [
          0.3828125
         ],
         "z": [
          0
         ]
        },
        {
         "marker": {
          "color": "yellow",
          "size": 5
         },
         "mode": "markers",
         "showlegend": false,
         "type": "scatter3d",
         "x": [
          0.5546875
         ],
         "y": [
          0.3828125
         ],
         "z": [
          0
         ]
        },
        {
         "marker": {
          "color": "yellow",
          "size": 5
         },
         "mode": "markers",
         "showlegend": false,
         "type": "scatter3d",
         "x": [
          0.5546875
         ],
         "y": [
          0.3828125
         ],
         "z": [
          0
         ]
        },
        {
         "marker": {
          "color": "yellow",
          "size": 5
         },
         "mode": "markers",
         "showlegend": false,
         "type": "scatter3d",
         "x": [
          0.546875
         ],
         "y": [
          0.3828125
         ],
         "z": [
          0
         ]
        },
        {
         "marker": {
          "color": "yellow",
          "size": 5
         },
         "mode": "markers",
         "showlegend": false,
         "type": "scatter3d",
         "x": [
          0.5390625
         ],
         "y": [
          0.3828125
         ],
         "z": [
          0
         ]
        },
        {
         "marker": {
          "color": "yellow",
          "size": 5
         },
         "mode": "markers",
         "showlegend": false,
         "type": "scatter3d",
         "x": [
          0.5234375
         ],
         "y": [
          0.3828125
         ],
         "z": [
          0
         ]
        },
        {
         "marker": {
          "color": "yellow",
          "size": 5
         },
         "mode": "markers",
         "showlegend": false,
         "type": "scatter3d",
         "x": [
          0.5078125
         ],
         "y": [
          0.3828125
         ],
         "z": [
          0
         ]
        },
        {
         "marker": {
          "color": "yellow",
          "size": 5
         },
         "mode": "markers",
         "showlegend": false,
         "type": "scatter3d",
         "x": [
          0.4765625
         ],
         "y": [
          0.3828125
         ],
         "z": [
          0
         ]
        },
        {
         "marker": {
          "color": "yellow",
          "size": 5
         },
         "mode": "markers",
         "showlegend": false,
         "type": "scatter3d",
         "x": [
          0.453125
         ],
         "y": [
          0.3828125
         ],
         "z": [
          0
         ]
        },
        {
         "marker": {
          "color": "yellow",
          "size": 5
         },
         "mode": "markers",
         "showlegend": false,
         "type": "scatter3d",
         "x": [
          0.421875
         ],
         "y": [
          0.3828125
         ],
         "z": [
          0
         ]
        }
       ],
       "layout": {
        "template": {
         "data": {
          "bar": [
           {
            "error_x": {
             "color": "#2a3f5f"
            },
            "error_y": {
             "color": "#2a3f5f"
            },
            "marker": {
             "line": {
              "color": "#E5ECF6",
              "width": 0.5
             },
             "pattern": {
              "fillmode": "overlay",
              "size": 10,
              "solidity": 0.2
             }
            },
            "type": "bar"
           }
          ],
          "barpolar": [
           {
            "marker": {
             "line": {
              "color": "#E5ECF6",
              "width": 0.5
             },
             "pattern": {
              "fillmode": "overlay",
              "size": 10,
              "solidity": 0.2
             }
            },
            "type": "barpolar"
           }
          ],
          "carpet": [
           {
            "aaxis": {
             "endlinecolor": "#2a3f5f",
             "gridcolor": "white",
             "linecolor": "white",
             "minorgridcolor": "white",
             "startlinecolor": "#2a3f5f"
            },
            "baxis": {
             "endlinecolor": "#2a3f5f",
             "gridcolor": "white",
             "linecolor": "white",
             "minorgridcolor": "white",
             "startlinecolor": "#2a3f5f"
            },
            "type": "carpet"
           }
          ],
          "choropleth": [
           {
            "colorbar": {
             "outlinewidth": 0,
             "ticks": ""
            },
            "type": "choropleth"
           }
          ],
          "contour": [
           {
            "colorbar": {
             "outlinewidth": 0,
             "ticks": ""
            },
            "colorscale": [
             [
              0,
              "#0d0887"
             ],
             [
              0.1111111111111111,
              "#46039f"
             ],
             [
              0.2222222222222222,
              "#7201a8"
             ],
             [
              0.3333333333333333,
              "#9c179e"
             ],
             [
              0.4444444444444444,
              "#bd3786"
             ],
             [
              0.5555555555555556,
              "#d8576b"
             ],
             [
              0.6666666666666666,
              "#ed7953"
             ],
             [
              0.7777777777777778,
              "#fb9f3a"
             ],
             [
              0.8888888888888888,
              "#fdca26"
             ],
             [
              1,
              "#f0f921"
             ]
            ],
            "type": "contour"
           }
          ],
          "contourcarpet": [
           {
            "colorbar": {
             "outlinewidth": 0,
             "ticks": ""
            },
            "type": "contourcarpet"
           }
          ],
          "heatmap": [
           {
            "colorbar": {
             "outlinewidth": 0,
             "ticks": ""
            },
            "colorscale": [
             [
              0,
              "#0d0887"
             ],
             [
              0.1111111111111111,
              "#46039f"
             ],
             [
              0.2222222222222222,
              "#7201a8"
             ],
             [
              0.3333333333333333,
              "#9c179e"
             ],
             [
              0.4444444444444444,
              "#bd3786"
             ],
             [
              0.5555555555555556,
              "#d8576b"
             ],
             [
              0.6666666666666666,
              "#ed7953"
             ],
             [
              0.7777777777777778,
              "#fb9f3a"
             ],
             [
              0.8888888888888888,
              "#fdca26"
             ],
             [
              1,
              "#f0f921"
             ]
            ],
            "type": "heatmap"
           }
          ],
          "heatmapgl": [
           {
            "colorbar": {
             "outlinewidth": 0,
             "ticks": ""
            },
            "colorscale": [
             [
              0,
              "#0d0887"
             ],
             [
              0.1111111111111111,
              "#46039f"
             ],
             [
              0.2222222222222222,
              "#7201a8"
             ],
             [
              0.3333333333333333,
              "#9c179e"
             ],
             [
              0.4444444444444444,
              "#bd3786"
             ],
             [
              0.5555555555555556,
              "#d8576b"
             ],
             [
              0.6666666666666666,
              "#ed7953"
             ],
             [
              0.7777777777777778,
              "#fb9f3a"
             ],
             [
              0.8888888888888888,
              "#fdca26"
             ],
             [
              1,
              "#f0f921"
             ]
            ],
            "type": "heatmapgl"
           }
          ],
          "histogram": [
           {
            "marker": {
             "pattern": {
              "fillmode": "overlay",
              "size": 10,
              "solidity": 0.2
             }
            },
            "type": "histogram"
           }
          ],
          "histogram2d": [
           {
            "colorbar": {
             "outlinewidth": 0,
             "ticks": ""
            },
            "colorscale": [
             [
              0,
              "#0d0887"
             ],
             [
              0.1111111111111111,
              "#46039f"
             ],
             [
              0.2222222222222222,
              "#7201a8"
             ],
             [
              0.3333333333333333,
              "#9c179e"
             ],
             [
              0.4444444444444444,
              "#bd3786"
             ],
             [
              0.5555555555555556,
              "#d8576b"
             ],
             [
              0.6666666666666666,
              "#ed7953"
             ],
             [
              0.7777777777777778,
              "#fb9f3a"
             ],
             [
              0.8888888888888888,
              "#fdca26"
             ],
             [
              1,
              "#f0f921"
             ]
            ],
            "type": "histogram2d"
           }
          ],
          "histogram2dcontour": [
           {
            "colorbar": {
             "outlinewidth": 0,
             "ticks": ""
            },
            "colorscale": [
             [
              0,
              "#0d0887"
             ],
             [
              0.1111111111111111,
              "#46039f"
             ],
             [
              0.2222222222222222,
              "#7201a8"
             ],
             [
              0.3333333333333333,
              "#9c179e"
             ],
             [
              0.4444444444444444,
              "#bd3786"
             ],
             [
              0.5555555555555556,
              "#d8576b"
             ],
             [
              0.6666666666666666,
              "#ed7953"
             ],
             [
              0.7777777777777778,
              "#fb9f3a"
             ],
             [
              0.8888888888888888,
              "#fdca26"
             ],
             [
              1,
              "#f0f921"
             ]
            ],
            "type": "histogram2dcontour"
           }
          ],
          "mesh3d": [
           {
            "colorbar": {
             "outlinewidth": 0,
             "ticks": ""
            },
            "type": "mesh3d"
           }
          ],
          "parcoords": [
           {
            "line": {
             "colorbar": {
              "outlinewidth": 0,
              "ticks": ""
             }
            },
            "type": "parcoords"
           }
          ],
          "pie": [
           {
            "automargin": true,
            "type": "pie"
           }
          ],
          "scatter": [
           {
            "marker": {
             "colorbar": {
              "outlinewidth": 0,
              "ticks": ""
             }
            },
            "type": "scatter"
           }
          ],
          "scatter3d": [
           {
            "line": {
             "colorbar": {
              "outlinewidth": 0,
              "ticks": ""
             }
            },
            "marker": {
             "colorbar": {
              "outlinewidth": 0,
              "ticks": ""
             }
            },
            "type": "scatter3d"
           }
          ],
          "scattercarpet": [
           {
            "marker": {
             "colorbar": {
              "outlinewidth": 0,
              "ticks": ""
             }
            },
            "type": "scattercarpet"
           }
          ],
          "scattergeo": [
           {
            "marker": {
             "colorbar": {
              "outlinewidth": 0,
              "ticks": ""
             }
            },
            "type": "scattergeo"
           }
          ],
          "scattergl": [
           {
            "marker": {
             "colorbar": {
              "outlinewidth": 0,
              "ticks": ""
             }
            },
            "type": "scattergl"
           }
          ],
          "scattermapbox": [
           {
            "marker": {
             "colorbar": {
              "outlinewidth": 0,
              "ticks": ""
             }
            },
            "type": "scattermapbox"
           }
          ],
          "scatterpolar": [
           {
            "marker": {
             "colorbar": {
              "outlinewidth": 0,
              "ticks": ""
             }
            },
            "type": "scatterpolar"
           }
          ],
          "scatterpolargl": [
           {
            "marker": {
             "colorbar": {
              "outlinewidth": 0,
              "ticks": ""
             }
            },
            "type": "scatterpolargl"
           }
          ],
          "scatterternary": [
           {
            "marker": {
             "colorbar": {
              "outlinewidth": 0,
              "ticks": ""
             }
            },
            "type": "scatterternary"
           }
          ],
          "surface": [
           {
            "colorbar": {
             "outlinewidth": 0,
             "ticks": ""
            },
            "colorscale": [
             [
              0,
              "#0d0887"
             ],
             [
              0.1111111111111111,
              "#46039f"
             ],
             [
              0.2222222222222222,
              "#7201a8"
             ],
             [
              0.3333333333333333,
              "#9c179e"
             ],
             [
              0.4444444444444444,
              "#bd3786"
             ],
             [
              0.5555555555555556,
              "#d8576b"
             ],
             [
              0.6666666666666666,
              "#ed7953"
             ],
             [
              0.7777777777777778,
              "#fb9f3a"
             ],
             [
              0.8888888888888888,
              "#fdca26"
             ],
             [
              1,
              "#f0f921"
             ]
            ],
            "type": "surface"
           }
          ],
          "table": [
           {
            "cells": {
             "fill": {
              "color": "#EBF0F8"
             },
             "line": {
              "color": "white"
             }
            },
            "header": {
             "fill": {
              "color": "#C8D4E3"
             },
             "line": {
              "color": "white"
             }
            },
            "type": "table"
           }
          ]
         },
         "layout": {
          "annotationdefaults": {
           "arrowcolor": "#2a3f5f",
           "arrowhead": 0,
           "arrowwidth": 1
          },
          "autotypenumbers": "strict",
          "coloraxis": {
           "colorbar": {
            "outlinewidth": 0,
            "ticks": ""
           }
          },
          "colorscale": {
           "diverging": [
            [
             0,
             "#8e0152"
            ],
            [
             0.1,
             "#c51b7d"
            ],
            [
             0.2,
             "#de77ae"
            ],
            [
             0.3,
             "#f1b6da"
            ],
            [
             0.4,
             "#fde0ef"
            ],
            [
             0.5,
             "#f7f7f7"
            ],
            [
             0.6,
             "#e6f5d0"
            ],
            [
             0.7,
             "#b8e186"
            ],
            [
             0.8,
             "#7fbc41"
            ],
            [
             0.9,
             "#4d9221"
            ],
            [
             1,
             "#276419"
            ]
           ],
           "sequential": [
            [
             0,
             "#0d0887"
            ],
            [
             0.1111111111111111,
             "#46039f"
            ],
            [
             0.2222222222222222,
             "#7201a8"
            ],
            [
             0.3333333333333333,
             "#9c179e"
            ],
            [
             0.4444444444444444,
             "#bd3786"
            ],
            [
             0.5555555555555556,
             "#d8576b"
            ],
            [
             0.6666666666666666,
             "#ed7953"
            ],
            [
             0.7777777777777778,
             "#fb9f3a"
            ],
            [
             0.8888888888888888,
             "#fdca26"
            ],
            [
             1,
             "#f0f921"
            ]
           ],
           "sequentialminus": [
            [
             0,
             "#0d0887"
            ],
            [
             0.1111111111111111,
             "#46039f"
            ],
            [
             0.2222222222222222,
             "#7201a8"
            ],
            [
             0.3333333333333333,
             "#9c179e"
            ],
            [
             0.4444444444444444,
             "#bd3786"
            ],
            [
             0.5555555555555556,
             "#d8576b"
            ],
            [
             0.6666666666666666,
             "#ed7953"
            ],
            [
             0.7777777777777778,
             "#fb9f3a"
            ],
            [
             0.8888888888888888,
             "#fdca26"
            ],
            [
             1,
             "#f0f921"
            ]
           ]
          },
          "colorway": [
           "#636efa",
           "#EF553B",
           "#00cc96",
           "#ab63fa",
           "#FFA15A",
           "#19d3f3",
           "#FF6692",
           "#B6E880",
           "#FF97FF",
           "#FECB52"
          ],
          "font": {
           "color": "#2a3f5f"
          },
          "geo": {
           "bgcolor": "white",
           "lakecolor": "white",
           "landcolor": "#E5ECF6",
           "showlakes": true,
           "showland": true,
           "subunitcolor": "white"
          },
          "hoverlabel": {
           "align": "left"
          },
          "hovermode": "closest",
          "mapbox": {
           "style": "light"
          },
          "paper_bgcolor": "white",
          "plot_bgcolor": "#E5ECF6",
          "polar": {
           "angularaxis": {
            "gridcolor": "white",
            "linecolor": "white",
            "ticks": ""
           },
           "bgcolor": "#E5ECF6",
           "radialaxis": {
            "gridcolor": "white",
            "linecolor": "white",
            "ticks": ""
           }
          },
          "scene": {
           "xaxis": {
            "backgroundcolor": "#E5ECF6",
            "gridcolor": "white",
            "gridwidth": 2,
            "linecolor": "white",
            "showbackground": true,
            "ticks": "",
            "zerolinecolor": "white"
           },
           "yaxis": {
            "backgroundcolor": "#E5ECF6",
            "gridcolor": "white",
            "gridwidth": 2,
            "linecolor": "white",
            "showbackground": true,
            "ticks": "",
            "zerolinecolor": "white"
           },
           "zaxis": {
            "backgroundcolor": "#E5ECF6",
            "gridcolor": "white",
            "gridwidth": 2,
            "linecolor": "white",
            "showbackground": true,
            "ticks": "",
            "zerolinecolor": "white"
           }
          },
          "shapedefaults": {
           "line": {
            "color": "#2a3f5f"
           }
          },
          "ternary": {
           "aaxis": {
            "gridcolor": "white",
            "linecolor": "white",
            "ticks": ""
           },
           "baxis": {
            "gridcolor": "white",
            "linecolor": "white",
            "ticks": ""
           },
           "bgcolor": "#E5ECF6",
           "caxis": {
            "gridcolor": "white",
            "linecolor": "white",
            "ticks": ""
           }
          },
          "title": {
           "x": 0.05
          },
          "xaxis": {
           "automargin": true,
           "gridcolor": "white",
           "linecolor": "white",
           "ticks": "",
           "title": {
            "standoff": 15
           },
           "zerolinecolor": "white",
           "zerolinewidth": 2
          },
          "yaxis": {
           "automargin": true,
           "gridcolor": "white",
           "linecolor": "white",
           "ticks": "",
           "title": {
            "standoff": 15
           },
           "zerolinecolor": "white",
           "zerolinewidth": 2
          }
         }
        }
       }
      },
      "text/html": [
       "<div>                            <div id=\"360565ea-b7c5-477f-9109-1375a307a2c1\" class=\"plotly-graph-div\" style=\"height:525px; width:100%;\"></div>            <script type=\"text/javascript\">                require([\"plotly\"], function(Plotly) {                    window.PLOTLYENV=window.PLOTLYENV || {};                                    if (document.getElementById(\"360565ea-b7c5-477f-9109-1375a307a2c1\")) {                    Plotly.newPlot(                        \"360565ea-b7c5-477f-9109-1375a307a2c1\",                        [{\"color\":\"grey\",\"i\":[0,0,0,1],\"j\":[1,2,3,2],\"k\":[2,3,1,3],\"name\":\"y\",\"opacity\":0.2,\"x\":[0,0,0,1],\"y\":[0,0,1,0],\"z\":[0,1,0,0],\"type\":\"mesh3d\"},{\"marker\":{\"color\":\"yellow\",\"size\":5},\"mode\":\"markers\",\"showlegend\":false,\"x\":[0.6171875],\"y\":[0.0],\"z\":[0.3828125],\"type\":\"scatter3d\"},{\"marker\":{\"color\":\"yellow\",\"size\":5},\"mode\":\"markers\",\"showlegend\":false,\"x\":[0.6171875],\"y\":[0.1640625],\"z\":[0.21875],\"type\":\"scatter3d\"},{\"marker\":{\"color\":\"yellow\",\"size\":5},\"mode\":\"markers\",\"showlegend\":false,\"x\":[0.6171875],\"y\":[0.234375],\"z\":[0.1484375],\"type\":\"scatter3d\"},{\"marker\":{\"color\":\"yellow\",\"size\":5},\"mode\":\"markers\",\"showlegend\":false,\"x\":[0.6171875],\"y\":[0.25],\"z\":[0.1328125],\"type\":\"scatter3d\"},{\"marker\":{\"color\":\"yellow\",\"size\":5},\"mode\":\"markers\",\"showlegend\":false,\"x\":[0.6171875],\"y\":[0.2578125],\"z\":[0.125],\"type\":\"scatter3d\"},{\"marker\":{\"color\":\"yellow\",\"size\":5},\"mode\":\"markers\",\"showlegend\":false,\"x\":[0.6171875],\"y\":[0.2734375],\"z\":[0.109375],\"type\":\"scatter3d\"},{\"marker\":{\"color\":\"yellow\",\"size\":5},\"mode\":\"markers\",\"showlegend\":false,\"x\":[0.6171875],\"y\":[0.2890625],\"z\":[0.09375],\"type\":\"scatter3d\"},{\"marker\":{\"color\":\"yellow\",\"size\":5},\"mode\":\"markers\",\"showlegend\":false,\"x\":[0.6171875],\"y\":[0.3046875],\"z\":[0.078125],\"type\":\"scatter3d\"},{\"marker\":{\"color\":\"yellow\",\"size\":5},\"mode\":\"markers\",\"showlegend\":false,\"x\":[0.6171875],\"y\":[0.3125],\"z\":[0.0703125],\"type\":\"scatter3d\"},{\"marker\":{\"color\":\"yellow\",\"size\":5},\"mode\":\"markers\",\"showlegend\":false,\"x\":[0.6171875],\"y\":[0.328125],\"z\":[0.0546875],\"type\":\"scatter3d\"},{\"marker\":{\"color\":\"yellow\",\"size\":5},\"mode\":\"markers\",\"showlegend\":false,\"x\":[0.6171875],\"y\":[0.328125],\"z\":[0.0546875],\"type\":\"scatter3d\"},{\"marker\":{\"color\":\"yellow\",\"size\":5},\"mode\":\"markers\",\"showlegend\":false,\"x\":[0.6171875],\"y\":[0.34375],\"z\":[0.0390625],\"type\":\"scatter3d\"},{\"marker\":{\"color\":\"yellow\",\"size\":5},\"mode\":\"markers\",\"showlegend\":false,\"x\":[0.6171875],\"y\":[0.34375],\"z\":[0.0390625],\"type\":\"scatter3d\"},{\"marker\":{\"color\":\"yellow\",\"size\":5},\"mode\":\"markers\",\"showlegend\":false,\"x\":[0.6171875],\"y\":[0.34375],\"z\":[0.0390625],\"type\":\"scatter3d\"},{\"marker\":{\"color\":\"yellow\",\"size\":5},\"mode\":\"markers\",\"showlegend\":false,\"x\":[0.6171875],\"y\":[0.34375],\"z\":[0.0390625],\"type\":\"scatter3d\"},{\"marker\":{\"color\":\"yellow\",\"size\":5},\"mode\":\"markers\",\"showlegend\":false,\"x\":[0.6171875],\"y\":[0.34375],\"z\":[0.0390625],\"type\":\"scatter3d\"},{\"marker\":{\"color\":\"yellow\",\"size\":5},\"mode\":\"markers\",\"showlegend\":false,\"x\":[0.6171875],\"y\":[0.34375],\"z\":[0.0390625],\"type\":\"scatter3d\"},{\"marker\":{\"color\":\"yellow\",\"size\":5},\"mode\":\"markers\",\"showlegend\":false,\"x\":[0.6171875],\"y\":[0.3515625],\"z\":[0.03125],\"type\":\"scatter3d\"},{\"marker\":{\"color\":\"yellow\",\"size\":5},\"mode\":\"markers\",\"showlegend\":false,\"x\":[0.6171875],\"y\":[0.359375],\"z\":[0.0234375],\"type\":\"scatter3d\"},{\"marker\":{\"color\":\"yellow\",\"size\":5},\"mode\":\"markers\",\"showlegend\":false,\"x\":[0.6171875],\"y\":[0.359375],\"z\":[0.0234375],\"type\":\"scatter3d\"},{\"marker\":{\"color\":\"yellow\",\"size\":5},\"mode\":\"markers\",\"showlegend\":false,\"x\":[0.6171875],\"y\":[0.359375],\"z\":[0.0234375],\"type\":\"scatter3d\"},{\"marker\":{\"color\":\"yellow\",\"size\":5},\"mode\":\"markers\",\"showlegend\":false,\"x\":[0.6171875],\"y\":[0.359375],\"z\":[0.0234375],\"type\":\"scatter3d\"},{\"marker\":{\"color\":\"yellow\",\"size\":5},\"mode\":\"markers\",\"showlegend\":false,\"x\":[0.6171875],\"y\":[0.359375],\"z\":[0.0234375],\"type\":\"scatter3d\"},{\"marker\":{\"color\":\"yellow\",\"size\":5},\"mode\":\"markers\",\"showlegend\":false,\"x\":[0.6171875],\"y\":[0.359375],\"z\":[0.0234375],\"type\":\"scatter3d\"},{\"marker\":{\"color\":\"yellow\",\"size\":5},\"mode\":\"markers\",\"showlegend\":false,\"x\":[0.6171875],\"y\":[0.359375],\"z\":[0.0234375],\"type\":\"scatter3d\"},{\"marker\":{\"color\":\"yellow\",\"size\":5},\"mode\":\"markers\",\"showlegend\":false,\"x\":[0.6171875],\"y\":[0.359375],\"z\":[0.0234375],\"type\":\"scatter3d\"},{\"marker\":{\"color\":\"yellow\",\"size\":5},\"mode\":\"markers\",\"showlegend\":false,\"x\":[0.6171875],\"y\":[0.359375],\"z\":[0.0234375],\"type\":\"scatter3d\"},{\"marker\":{\"color\":\"yellow\",\"size\":5},\"mode\":\"markers\",\"showlegend\":false,\"x\":[0.6171875],\"y\":[0.359375],\"z\":[0.0234375],\"type\":\"scatter3d\"},{\"marker\":{\"color\":\"yellow\",\"size\":5},\"mode\":\"markers\",\"showlegend\":false,\"x\":[0.6171875],\"y\":[0.359375],\"z\":[0.0234375],\"type\":\"scatter3d\"},{\"marker\":{\"color\":\"yellow\",\"size\":5},\"mode\":\"markers\",\"showlegend\":false,\"x\":[0.6171875],\"y\":[0.359375],\"z\":[0.0234375],\"type\":\"scatter3d\"},{\"marker\":{\"color\":\"yellow\",\"size\":5},\"mode\":\"markers\",\"showlegend\":false,\"x\":[0.6171875],\"y\":[0.359375],\"z\":[0.0234375],\"type\":\"scatter3d\"},{\"marker\":{\"color\":\"yellow\",\"size\":5},\"mode\":\"markers\",\"showlegend\":false,\"x\":[0.6171875],\"y\":[0.359375],\"z\":[0.0234375],\"type\":\"scatter3d\"},{\"marker\":{\"color\":\"yellow\",\"size\":5},\"mode\":\"markers\",\"showlegend\":false,\"x\":[0.6171875],\"y\":[0.359375],\"z\":[0.0234375],\"type\":\"scatter3d\"},{\"marker\":{\"color\":\"yellow\",\"size\":5},\"mode\":\"markers\",\"showlegend\":false,\"x\":[0.6171875],\"y\":[0.359375],\"z\":[0.0234375],\"type\":\"scatter3d\"},{\"marker\":{\"color\":\"yellow\",\"size\":5},\"mode\":\"markers\",\"showlegend\":false,\"x\":[0.6171875],\"y\":[0.3671875],\"z\":[0.015625],\"type\":\"scatter3d\"},{\"marker\":{\"color\":\"yellow\",\"size\":5},\"mode\":\"markers\",\"showlegend\":false,\"x\":[0.6171875],\"y\":[0.3671875],\"z\":[0.015625],\"type\":\"scatter3d\"},{\"marker\":{\"color\":\"yellow\",\"size\":5},\"mode\":\"markers\",\"showlegend\":false,\"x\":[0.6171875],\"y\":[0.3671875],\"z\":[0.015625],\"type\":\"scatter3d\"},{\"marker\":{\"color\":\"yellow\",\"size\":5},\"mode\":\"markers\",\"showlegend\":false,\"x\":[0.6171875],\"y\":[0.3671875],\"z\":[0.015625],\"type\":\"scatter3d\"},{\"marker\":{\"color\":\"yellow\",\"size\":5},\"mode\":\"markers\",\"showlegend\":false,\"x\":[0.6171875],\"y\":[0.3671875],\"z\":[0.015625],\"type\":\"scatter3d\"},{\"marker\":{\"color\":\"yellow\",\"size\":5},\"mode\":\"markers\",\"showlegend\":false,\"x\":[0.6171875],\"y\":[0.3671875],\"z\":[0.015625],\"type\":\"scatter3d\"},{\"marker\":{\"color\":\"yellow\",\"size\":5},\"mode\":\"markers\",\"showlegend\":false,\"x\":[0.6171875],\"y\":[0.3671875],\"z\":[0.015625],\"type\":\"scatter3d\"},{\"marker\":{\"color\":\"yellow\",\"size\":5},\"mode\":\"markers\",\"showlegend\":false,\"x\":[0.6171875],\"y\":[0.375],\"z\":[0.0078125],\"type\":\"scatter3d\"},{\"marker\":{\"color\":\"yellow\",\"size\":5},\"mode\":\"markers\",\"showlegend\":false,\"x\":[0.6171875],\"y\":[0.375],\"z\":[0.0078125],\"type\":\"scatter3d\"},{\"marker\":{\"color\":\"yellow\",\"size\":5},\"mode\":\"markers\",\"showlegend\":false,\"x\":[0.6171875],\"y\":[0.375],\"z\":[0.0078125],\"type\":\"scatter3d\"},{\"marker\":{\"color\":\"yellow\",\"size\":5},\"mode\":\"markers\",\"showlegend\":false,\"x\":[0.6171875],\"y\":[0.375],\"z\":[0.0078125],\"type\":\"scatter3d\"},{\"marker\":{\"color\":\"yellow\",\"size\":5},\"mode\":\"markers\",\"showlegend\":false,\"x\":[0.6171875],\"y\":[0.375],\"z\":[0.0078125],\"type\":\"scatter3d\"},{\"marker\":{\"color\":\"yellow\",\"size\":5},\"mode\":\"markers\",\"showlegend\":false,\"x\":[0.6171875],\"y\":[0.375],\"z\":[0.0078125],\"type\":\"scatter3d\"},{\"marker\":{\"color\":\"yellow\",\"size\":5},\"mode\":\"markers\",\"showlegend\":false,\"x\":[0.6171875],\"y\":[0.375],\"z\":[0.0078125],\"type\":\"scatter3d\"},{\"marker\":{\"color\":\"yellow\",\"size\":5},\"mode\":\"markers\",\"showlegend\":false,\"x\":[0.6171875],\"y\":[0.375],\"z\":[0.0078125],\"type\":\"scatter3d\"},{\"marker\":{\"color\":\"yellow\",\"size\":5},\"mode\":\"markers\",\"showlegend\":false,\"x\":[0.6171875],\"y\":[0.375],\"z\":[0.0078125],\"type\":\"scatter3d\"},{\"marker\":{\"color\":\"yellow\",\"size\":5},\"mode\":\"markers\",\"showlegend\":false,\"x\":[0.6171875],\"y\":[0.375],\"z\":[0.0078125],\"type\":\"scatter3d\"},{\"marker\":{\"color\":\"yellow\",\"size\":5},\"mode\":\"markers\",\"showlegend\":false,\"x\":[0.6171875],\"y\":[0.375],\"z\":[0.0078125],\"type\":\"scatter3d\"},{\"marker\":{\"color\":\"yellow\",\"size\":5},\"mode\":\"markers\",\"showlegend\":false,\"x\":[0.6171875],\"y\":[0.375],\"z\":[0.0078125],\"type\":\"scatter3d\"},{\"marker\":{\"color\":\"yellow\",\"size\":5},\"mode\":\"markers\",\"showlegend\":false,\"x\":[0.6171875],\"y\":[0.375],\"z\":[0.0078125],\"type\":\"scatter3d\"},{\"marker\":{\"color\":\"yellow\",\"size\":5},\"mode\":\"markers\",\"showlegend\":false,\"x\":[0.6171875],\"y\":[0.375],\"z\":[0.0078125],\"type\":\"scatter3d\"},{\"marker\":{\"color\":\"yellow\",\"size\":5},\"mode\":\"markers\",\"showlegend\":false,\"x\":[0.6171875],\"y\":[0.375],\"z\":[0.0078125],\"type\":\"scatter3d\"},{\"marker\":{\"color\":\"yellow\",\"size\":5},\"mode\":\"markers\",\"showlegend\":false,\"x\":[0.6171875],\"y\":[0.375],\"z\":[0.0078125],\"type\":\"scatter3d\"},{\"marker\":{\"color\":\"yellow\",\"size\":5},\"mode\":\"markers\",\"showlegend\":false,\"x\":[0.6171875],\"y\":[0.375],\"z\":[0.0078125],\"type\":\"scatter3d\"},{\"marker\":{\"color\":\"yellow\",\"size\":5},\"mode\":\"markers\",\"showlegend\":false,\"x\":[0.6171875],\"y\":[0.375],\"z\":[0.0078125],\"type\":\"scatter3d\"},{\"marker\":{\"color\":\"yellow\",\"size\":5},\"mode\":\"markers\",\"showlegend\":false,\"x\":[0.609375],\"y\":[0.375],\"z\":[0.0078125],\"type\":\"scatter3d\"},{\"marker\":{\"color\":\"yellow\",\"size\":5},\"mode\":\"markers\",\"showlegend\":false,\"x\":[0.609375],\"y\":[0.375],\"z\":[0.0078125],\"type\":\"scatter3d\"},{\"marker\":{\"color\":\"yellow\",\"size\":5},\"mode\":\"markers\",\"showlegend\":false,\"x\":[0.609375],\"y\":[0.375],\"z\":[0.0078125],\"type\":\"scatter3d\"},{\"marker\":{\"color\":\"yellow\",\"size\":5},\"mode\":\"markers\",\"showlegend\":false,\"x\":[0.609375],\"y\":[0.375],\"z\":[0.0078125],\"type\":\"scatter3d\"},{\"marker\":{\"color\":\"yellow\",\"size\":5},\"mode\":\"markers\",\"showlegend\":false,\"x\":[0.609375],\"y\":[0.375],\"z\":[0.0078125],\"type\":\"scatter3d\"},{\"marker\":{\"color\":\"yellow\",\"size\":5},\"mode\":\"markers\",\"showlegend\":false,\"x\":[0.609375],\"y\":[0.375],\"z\":[0.0078125],\"type\":\"scatter3d\"},{\"marker\":{\"color\":\"yellow\",\"size\":5},\"mode\":\"markers\",\"showlegend\":false,\"x\":[0.609375],\"y\":[0.375],\"z\":[0.0078125],\"type\":\"scatter3d\"},{\"marker\":{\"color\":\"yellow\",\"size\":5},\"mode\":\"markers\",\"showlegend\":false,\"x\":[0.609375],\"y\":[0.3828125],\"z\":[0.0],\"type\":\"scatter3d\"},{\"marker\":{\"color\":\"yellow\",\"size\":5},\"mode\":\"markers\",\"showlegend\":false,\"x\":[0.6015625],\"y\":[0.3828125],\"z\":[0.0],\"type\":\"scatter3d\"},{\"marker\":{\"color\":\"yellow\",\"size\":5},\"mode\":\"markers\",\"showlegend\":false,\"x\":[0.6015625],\"y\":[0.3828125],\"z\":[0.0],\"type\":\"scatter3d\"},{\"marker\":{\"color\":\"yellow\",\"size\":5},\"mode\":\"markers\",\"showlegend\":false,\"x\":[0.6015625],\"y\":[0.3828125],\"z\":[0.0],\"type\":\"scatter3d\"},{\"marker\":{\"color\":\"yellow\",\"size\":5},\"mode\":\"markers\",\"showlegend\":false,\"x\":[0.6015625],\"y\":[0.3828125],\"z\":[0.0],\"type\":\"scatter3d\"},{\"marker\":{\"color\":\"yellow\",\"size\":5},\"mode\":\"markers\",\"showlegend\":false,\"x\":[0.6015625],\"y\":[0.3828125],\"z\":[0.0],\"type\":\"scatter3d\"},{\"marker\":{\"color\":\"yellow\",\"size\":5},\"mode\":\"markers\",\"showlegend\":false,\"x\":[0.6015625],\"y\":[0.3828125],\"z\":[0.0],\"type\":\"scatter3d\"},{\"marker\":{\"color\":\"yellow\",\"size\":5},\"mode\":\"markers\",\"showlegend\":false,\"x\":[0.6015625],\"y\":[0.3828125],\"z\":[0.0],\"type\":\"scatter3d\"},{\"marker\":{\"color\":\"yellow\",\"size\":5},\"mode\":\"markers\",\"showlegend\":false,\"x\":[0.59375],\"y\":[0.3828125],\"z\":[0.0],\"type\":\"scatter3d\"},{\"marker\":{\"color\":\"yellow\",\"size\":5},\"mode\":\"markers\",\"showlegend\":false,\"x\":[0.59375],\"y\":[0.3828125],\"z\":[0.0],\"type\":\"scatter3d\"},{\"marker\":{\"color\":\"yellow\",\"size\":5},\"mode\":\"markers\",\"showlegend\":false,\"x\":[0.59375],\"y\":[0.3828125],\"z\":[0.0],\"type\":\"scatter3d\"},{\"marker\":{\"color\":\"yellow\",\"size\":5},\"mode\":\"markers\",\"showlegend\":false,\"x\":[0.59375],\"y\":[0.3828125],\"z\":[0.0],\"type\":\"scatter3d\"},{\"marker\":{\"color\":\"yellow\",\"size\":5},\"mode\":\"markers\",\"showlegend\":false,\"x\":[0.59375],\"y\":[0.3828125],\"z\":[0.0],\"type\":\"scatter3d\"},{\"marker\":{\"color\":\"yellow\",\"size\":5},\"mode\":\"markers\",\"showlegend\":false,\"x\":[0.5859375],\"y\":[0.3828125],\"z\":[0.0],\"type\":\"scatter3d\"},{\"marker\":{\"color\":\"yellow\",\"size\":5},\"mode\":\"markers\",\"showlegend\":false,\"x\":[0.5859375],\"y\":[0.3828125],\"z\":[0.0],\"type\":\"scatter3d\"},{\"marker\":{\"color\":\"yellow\",\"size\":5},\"mode\":\"markers\",\"showlegend\":false,\"x\":[0.5859375],\"y\":[0.3828125],\"z\":[0.0],\"type\":\"scatter3d\"},{\"marker\":{\"color\":\"yellow\",\"size\":5},\"mode\":\"markers\",\"showlegend\":false,\"x\":[0.5859375],\"y\":[0.3828125],\"z\":[0.0],\"type\":\"scatter3d\"},{\"marker\":{\"color\":\"yellow\",\"size\":5},\"mode\":\"markers\",\"showlegend\":false,\"x\":[0.578125],\"y\":[0.3828125],\"z\":[0.0],\"type\":\"scatter3d\"},{\"marker\":{\"color\":\"yellow\",\"size\":5},\"mode\":\"markers\",\"showlegend\":false,\"x\":[0.578125],\"y\":[0.3828125],\"z\":[0.0],\"type\":\"scatter3d\"},{\"marker\":{\"color\":\"yellow\",\"size\":5},\"mode\":\"markers\",\"showlegend\":false,\"x\":[0.578125],\"y\":[0.3828125],\"z\":[0.0],\"type\":\"scatter3d\"},{\"marker\":{\"color\":\"yellow\",\"size\":5},\"mode\":\"markers\",\"showlegend\":false,\"x\":[0.578125],\"y\":[0.3828125],\"z\":[0.0],\"type\":\"scatter3d\"},{\"marker\":{\"color\":\"yellow\",\"size\":5},\"mode\":\"markers\",\"showlegend\":false,\"x\":[0.5703125],\"y\":[0.3828125],\"z\":[0.0],\"type\":\"scatter3d\"},{\"marker\":{\"color\":\"yellow\",\"size\":5},\"mode\":\"markers\",\"showlegend\":false,\"x\":[0.5703125],\"y\":[0.3828125],\"z\":[0.0],\"type\":\"scatter3d\"},{\"marker\":{\"color\":\"yellow\",\"size\":5},\"mode\":\"markers\",\"showlegend\":false,\"x\":[0.5625],\"y\":[0.3828125],\"z\":[0.0],\"type\":\"scatter3d\"},{\"marker\":{\"color\":\"yellow\",\"size\":5},\"mode\":\"markers\",\"showlegend\":false,\"x\":[0.5546875],\"y\":[0.3828125],\"z\":[0.0],\"type\":\"scatter3d\"},{\"marker\":{\"color\":\"yellow\",\"size\":5},\"mode\":\"markers\",\"showlegend\":false,\"x\":[0.5546875],\"y\":[0.3828125],\"z\":[0.0],\"type\":\"scatter3d\"},{\"marker\":{\"color\":\"yellow\",\"size\":5},\"mode\":\"markers\",\"showlegend\":false,\"x\":[0.5546875],\"y\":[0.3828125],\"z\":[0.0],\"type\":\"scatter3d\"},{\"marker\":{\"color\":\"yellow\",\"size\":5},\"mode\":\"markers\",\"showlegend\":false,\"x\":[0.546875],\"y\":[0.3828125],\"z\":[0.0],\"type\":\"scatter3d\"},{\"marker\":{\"color\":\"yellow\",\"size\":5},\"mode\":\"markers\",\"showlegend\":false,\"x\":[0.5390625],\"y\":[0.3828125],\"z\":[0.0],\"type\":\"scatter3d\"},{\"marker\":{\"color\":\"yellow\",\"size\":5},\"mode\":\"markers\",\"showlegend\":false,\"x\":[0.5234375],\"y\":[0.3828125],\"z\":[0.0],\"type\":\"scatter3d\"},{\"marker\":{\"color\":\"yellow\",\"size\":5},\"mode\":\"markers\",\"showlegend\":false,\"x\":[0.5078125],\"y\":[0.3828125],\"z\":[0.0],\"type\":\"scatter3d\"},{\"marker\":{\"color\":\"yellow\",\"size\":5},\"mode\":\"markers\",\"showlegend\":false,\"x\":[0.4765625],\"y\":[0.3828125],\"z\":[0.0],\"type\":\"scatter3d\"},{\"marker\":{\"color\":\"yellow\",\"size\":5},\"mode\":\"markers\",\"showlegend\":false,\"x\":[0.453125],\"y\":[0.3828125],\"z\":[0.0],\"type\":\"scatter3d\"},{\"marker\":{\"color\":\"yellow\",\"size\":5},\"mode\":\"markers\",\"showlegend\":false,\"x\":[0.421875],\"y\":[0.3828125],\"z\":[0.0],\"type\":\"scatter3d\"}],                        {\"template\":{\"data\":{\"bar\":[{\"error_x\":{\"color\":\"#2a3f5f\"},\"error_y\":{\"color\":\"#2a3f5f\"},\"marker\":{\"line\":{\"color\":\"#E5ECF6\",\"width\":0.5},\"pattern\":{\"fillmode\":\"overlay\",\"size\":10,\"solidity\":0.2}},\"type\":\"bar\"}],\"barpolar\":[{\"marker\":{\"line\":{\"color\":\"#E5ECF6\",\"width\":0.5},\"pattern\":{\"fillmode\":\"overlay\",\"size\":10,\"solidity\":0.2}},\"type\":\"barpolar\"}],\"carpet\":[{\"aaxis\":{\"endlinecolor\":\"#2a3f5f\",\"gridcolor\":\"white\",\"linecolor\":\"white\",\"minorgridcolor\":\"white\",\"startlinecolor\":\"#2a3f5f\"},\"baxis\":{\"endlinecolor\":\"#2a3f5f\",\"gridcolor\":\"white\",\"linecolor\":\"white\",\"minorgridcolor\":\"white\",\"startlinecolor\":\"#2a3f5f\"},\"type\":\"carpet\"}],\"choropleth\":[{\"colorbar\":{\"outlinewidth\":0,\"ticks\":\"\"},\"type\":\"choropleth\"}],\"contour\":[{\"colorbar\":{\"outlinewidth\":0,\"ticks\":\"\"},\"colorscale\":[[0.0,\"#0d0887\"],[0.1111111111111111,\"#46039f\"],[0.2222222222222222,\"#7201a8\"],[0.3333333333333333,\"#9c179e\"],[0.4444444444444444,\"#bd3786\"],[0.5555555555555556,\"#d8576b\"],[0.6666666666666666,\"#ed7953\"],[0.7777777777777778,\"#fb9f3a\"],[0.8888888888888888,\"#fdca26\"],[1.0,\"#f0f921\"]],\"type\":\"contour\"}],\"contourcarpet\":[{\"colorbar\":{\"outlinewidth\":0,\"ticks\":\"\"},\"type\":\"contourcarpet\"}],\"heatmap\":[{\"colorbar\":{\"outlinewidth\":0,\"ticks\":\"\"},\"colorscale\":[[0.0,\"#0d0887\"],[0.1111111111111111,\"#46039f\"],[0.2222222222222222,\"#7201a8\"],[0.3333333333333333,\"#9c179e\"],[0.4444444444444444,\"#bd3786\"],[0.5555555555555556,\"#d8576b\"],[0.6666666666666666,\"#ed7953\"],[0.7777777777777778,\"#fb9f3a\"],[0.8888888888888888,\"#fdca26\"],[1.0,\"#f0f921\"]],\"type\":\"heatmap\"}],\"heatmapgl\":[{\"colorbar\":{\"outlinewidth\":0,\"ticks\":\"\"},\"colorscale\":[[0.0,\"#0d0887\"],[0.1111111111111111,\"#46039f\"],[0.2222222222222222,\"#7201a8\"],[0.3333333333333333,\"#9c179e\"],[0.4444444444444444,\"#bd3786\"],[0.5555555555555556,\"#d8576b\"],[0.6666666666666666,\"#ed7953\"],[0.7777777777777778,\"#fb9f3a\"],[0.8888888888888888,\"#fdca26\"],[1.0,\"#f0f921\"]],\"type\":\"heatmapgl\"}],\"histogram\":[{\"marker\":{\"pattern\":{\"fillmode\":\"overlay\",\"size\":10,\"solidity\":0.2}},\"type\":\"histogram\"}],\"histogram2d\":[{\"colorbar\":{\"outlinewidth\":0,\"ticks\":\"\"},\"colorscale\":[[0.0,\"#0d0887\"],[0.1111111111111111,\"#46039f\"],[0.2222222222222222,\"#7201a8\"],[0.3333333333333333,\"#9c179e\"],[0.4444444444444444,\"#bd3786\"],[0.5555555555555556,\"#d8576b\"],[0.6666666666666666,\"#ed7953\"],[0.7777777777777778,\"#fb9f3a\"],[0.8888888888888888,\"#fdca26\"],[1.0,\"#f0f921\"]],\"type\":\"histogram2d\"}],\"histogram2dcontour\":[{\"colorbar\":{\"outlinewidth\":0,\"ticks\":\"\"},\"colorscale\":[[0.0,\"#0d0887\"],[0.1111111111111111,\"#46039f\"],[0.2222222222222222,\"#7201a8\"],[0.3333333333333333,\"#9c179e\"],[0.4444444444444444,\"#bd3786\"],[0.5555555555555556,\"#d8576b\"],[0.6666666666666666,\"#ed7953\"],[0.7777777777777778,\"#fb9f3a\"],[0.8888888888888888,\"#fdca26\"],[1.0,\"#f0f921\"]],\"type\":\"histogram2dcontour\"}],\"mesh3d\":[{\"colorbar\":{\"outlinewidth\":0,\"ticks\":\"\"},\"type\":\"mesh3d\"}],\"parcoords\":[{\"line\":{\"colorbar\":{\"outlinewidth\":0,\"ticks\":\"\"}},\"type\":\"parcoords\"}],\"pie\":[{\"automargin\":true,\"type\":\"pie\"}],\"scatter\":[{\"marker\":{\"colorbar\":{\"outlinewidth\":0,\"ticks\":\"\"}},\"type\":\"scatter\"}],\"scatter3d\":[{\"line\":{\"colorbar\":{\"outlinewidth\":0,\"ticks\":\"\"}},\"marker\":{\"colorbar\":{\"outlinewidth\":0,\"ticks\":\"\"}},\"type\":\"scatter3d\"}],\"scattercarpet\":[{\"marker\":{\"colorbar\":{\"outlinewidth\":0,\"ticks\":\"\"}},\"type\":\"scattercarpet\"}],\"scattergeo\":[{\"marker\":{\"colorbar\":{\"outlinewidth\":0,\"ticks\":\"\"}},\"type\":\"scattergeo\"}],\"scattergl\":[{\"marker\":{\"colorbar\":{\"outlinewidth\":0,\"ticks\":\"\"}},\"type\":\"scattergl\"}],\"scattermapbox\":[{\"marker\":{\"colorbar\":{\"outlinewidth\":0,\"ticks\":\"\"}},\"type\":\"scattermapbox\"}],\"scatterpolar\":[{\"marker\":{\"colorbar\":{\"outlinewidth\":0,\"ticks\":\"\"}},\"type\":\"scatterpolar\"}],\"scatterpolargl\":[{\"marker\":{\"colorbar\":{\"outlinewidth\":0,\"ticks\":\"\"}},\"type\":\"scatterpolargl\"}],\"scatterternary\":[{\"marker\":{\"colorbar\":{\"outlinewidth\":0,\"ticks\":\"\"}},\"type\":\"scatterternary\"}],\"surface\":[{\"colorbar\":{\"outlinewidth\":0,\"ticks\":\"\"},\"colorscale\":[[0.0,\"#0d0887\"],[0.1111111111111111,\"#46039f\"],[0.2222222222222222,\"#7201a8\"],[0.3333333333333333,\"#9c179e\"],[0.4444444444444444,\"#bd3786\"],[0.5555555555555556,\"#d8576b\"],[0.6666666666666666,\"#ed7953\"],[0.7777777777777778,\"#fb9f3a\"],[0.8888888888888888,\"#fdca26\"],[1.0,\"#f0f921\"]],\"type\":\"surface\"}],\"table\":[{\"cells\":{\"fill\":{\"color\":\"#EBF0F8\"},\"line\":{\"color\":\"white\"}},\"header\":{\"fill\":{\"color\":\"#C8D4E3\"},\"line\":{\"color\":\"white\"}},\"type\":\"table\"}]},\"layout\":{\"annotationdefaults\":{\"arrowcolor\":\"#2a3f5f\",\"arrowhead\":0,\"arrowwidth\":1},\"autotypenumbers\":\"strict\",\"coloraxis\":{\"colorbar\":{\"outlinewidth\":0,\"ticks\":\"\"}},\"colorscale\":{\"diverging\":[[0,\"#8e0152\"],[0.1,\"#c51b7d\"],[0.2,\"#de77ae\"],[0.3,\"#f1b6da\"],[0.4,\"#fde0ef\"],[0.5,\"#f7f7f7\"],[0.6,\"#e6f5d0\"],[0.7,\"#b8e186\"],[0.8,\"#7fbc41\"],[0.9,\"#4d9221\"],[1,\"#276419\"]],\"sequential\":[[0.0,\"#0d0887\"],[0.1111111111111111,\"#46039f\"],[0.2222222222222222,\"#7201a8\"],[0.3333333333333333,\"#9c179e\"],[0.4444444444444444,\"#bd3786\"],[0.5555555555555556,\"#d8576b\"],[0.6666666666666666,\"#ed7953\"],[0.7777777777777778,\"#fb9f3a\"],[0.8888888888888888,\"#fdca26\"],[1.0,\"#f0f921\"]],\"sequentialminus\":[[0.0,\"#0d0887\"],[0.1111111111111111,\"#46039f\"],[0.2222222222222222,\"#7201a8\"],[0.3333333333333333,\"#9c179e\"],[0.4444444444444444,\"#bd3786\"],[0.5555555555555556,\"#d8576b\"],[0.6666666666666666,\"#ed7953\"],[0.7777777777777778,\"#fb9f3a\"],[0.8888888888888888,\"#fdca26\"],[1.0,\"#f0f921\"]]},\"colorway\":[\"#636efa\",\"#EF553B\",\"#00cc96\",\"#ab63fa\",\"#FFA15A\",\"#19d3f3\",\"#FF6692\",\"#B6E880\",\"#FF97FF\",\"#FECB52\"],\"font\":{\"color\":\"#2a3f5f\"},\"geo\":{\"bgcolor\":\"white\",\"lakecolor\":\"white\",\"landcolor\":\"#E5ECF6\",\"showlakes\":true,\"showland\":true,\"subunitcolor\":\"white\"},\"hoverlabel\":{\"align\":\"left\"},\"hovermode\":\"closest\",\"mapbox\":{\"style\":\"light\"},\"paper_bgcolor\":\"white\",\"plot_bgcolor\":\"#E5ECF6\",\"polar\":{\"angularaxis\":{\"gridcolor\":\"white\",\"linecolor\":\"white\",\"ticks\":\"\"},\"bgcolor\":\"#E5ECF6\",\"radialaxis\":{\"gridcolor\":\"white\",\"linecolor\":\"white\",\"ticks\":\"\"}},\"scene\":{\"xaxis\":{\"backgroundcolor\":\"#E5ECF6\",\"gridcolor\":\"white\",\"gridwidth\":2,\"linecolor\":\"white\",\"showbackground\":true,\"ticks\":\"\",\"zerolinecolor\":\"white\"},\"yaxis\":{\"backgroundcolor\":\"#E5ECF6\",\"gridcolor\":\"white\",\"gridwidth\":2,\"linecolor\":\"white\",\"showbackground\":true,\"ticks\":\"\",\"zerolinecolor\":\"white\"},\"zaxis\":{\"backgroundcolor\":\"#E5ECF6\",\"gridcolor\":\"white\",\"gridwidth\":2,\"linecolor\":\"white\",\"showbackground\":true,\"ticks\":\"\",\"zerolinecolor\":\"white\"}},\"shapedefaults\":{\"line\":{\"color\":\"#2a3f5f\"}},\"ternary\":{\"aaxis\":{\"gridcolor\":\"white\",\"linecolor\":\"white\",\"ticks\":\"\"},\"baxis\":{\"gridcolor\":\"white\",\"linecolor\":\"white\",\"ticks\":\"\"},\"bgcolor\":\"#E5ECF6\",\"caxis\":{\"gridcolor\":\"white\",\"linecolor\":\"white\",\"ticks\":\"\"}},\"title\":{\"x\":0.05},\"xaxis\":{\"automargin\":true,\"gridcolor\":\"white\",\"linecolor\":\"white\",\"ticks\":\"\",\"title\":{\"standoff\":15},\"zerolinecolor\":\"white\",\"zerolinewidth\":2},\"yaxis\":{\"automargin\":true,\"gridcolor\":\"white\",\"linecolor\":\"white\",\"ticks\":\"\",\"title\":{\"standoff\":15},\"zerolinecolor\":\"white\",\"zerolinewidth\":2}}}},                        {\"responsive\": true}                    ).then(function(){\n",
       "                            \n",
       "var gd = document.getElementById('360565ea-b7c5-477f-9109-1375a307a2c1');\n",
       "var x = new MutationObserver(function (mutations, observer) {{\n",
       "        var display = window.getComputedStyle(gd).display;\n",
       "        if (!display || display === 'none') {{\n",
       "            console.log([gd, 'removed!']);\n",
       "            Plotly.purge(gd);\n",
       "            observer.disconnect();\n",
       "        }}\n",
       "}});\n",
       "\n",
       "// Listen for the removal of the full notebook cells\n",
       "var notebookContainer = gd.closest('#notebook-container');\n",
       "if (notebookContainer) {{\n",
       "    x.observe(notebookContainer, {childList: true});\n",
       "}}\n",
       "\n",
       "// Listen for the clearing of the current output cell\n",
       "var outputEl = gd.closest('.output');\n",
       "if (outputEl) {{\n",
       "    x.observe(outputEl, {childList: true});\n",
       "}}\n",
       "\n",
       "                        })                };                });            </script>        </div>"
      ]
     },
     "metadata": {},
     "output_type": "display_data"
    }
   ],
   "source": [
    "import numpy as np\n",
    "import plotly.graph_objects as go\n",
    "\n",
    "fig = go.Figure(data=[\n",
    "    go.Mesh3d(\n",
    "        x=[0, 0, 0, 1], #verticalmente ho definito O, C, B, A\n",
    "        y=[0, 0, 1, 0],\n",
    "        z=[0, 1, 0, 0],\n",
    "        \n",
    "        color = 'grey',\n",
    "\n",
    "        #colors = colorRamp(c(\"red\",'yellow','white','green','blue')),\n",
    "        \n",
    "        # Intensity of each vertex, which will be interpolated \n",
    "        #and color-coded\n",
    "        #intensity=[0, 0.33, 0.66, 1],\n",
    "        \n",
    "        opacity = 0.2, #for transparency\n",
    "        \n",
    "        # i, j and k sono i vertici dei triangoli\n",
    "        # here we represent the 4 triangles of the tetrahedron surface\n",
    "        i=[0, 0, 0, 1],\n",
    "        j=[1, 2, 3, 2],\n",
    "        k=[2, 3, 1, 3],\n",
    "        name='y',\n",
    "        #showscale=True\n",
    "    )\n",
    "])\n",
    "\n",
    "for i in range(coords.shape[0]):\n",
    "    fig.add_trace(go.Scatter3d(mode='markers', \n",
    "                               x= [coords['TP'][i]],  #perchè la matrice è definita diversamente\n",
    "                               y= [coords['TN'][i]], \n",
    "                               z= [coords['FP'][i]], \n",
    "                               marker = dict(color='yellow', size=5), showlegend=False))\n",
    "\n",
    "\n",
    "fig.show()\n",
    "\n",
    "\n",
    "#mi torna \n",
    "#ROC lavora su due assi che sono funzione delle stesse 3 variabili (fp,tn,tp) che io uso per ambiente CT\n",
    "#   ( each_FPR = FP/(FP+TN) #=1-specificity --> x )\n",
    "#   ( each_TPR = TP/(TP+FN) #=sensitivity --> y   )\n",
    "#quindi ci sta che si sposti a sinistra\n",
    "\n",
    "\n",
    "\n",
    "#PROB FORSE è CHE VOGLIO LINEA CHE UNISCE QUESTI PUNTI NON PUNTI SINGOLI -> TODO \n",
    "#lo stesso per le visualizzazioni successive"
   ]
  },
  {
   "cell_type": "code",
   "execution_count": 74,
   "id": "38ef3d1e",
   "metadata": {},
   "outputs": [
    {
     "data": {
      "application/vnd.plotly.v1+json": {
       "config": {
        "plotlyServerURL": "https://plot.ly"
       },
       "data": [
        {
         "hovertemplate": "<b>%{hovertext}</b><br><br>threshold=0.0<br>TP=%{x}<br>TN=%{y}<br>FP=%{z}<extra></extra>",
         "hovertext": [
          0
         ],
         "legendgroup": "",
         "marker": {
          "color": "#636efa",
          "symbol": "circle"
         },
         "mode": "markers",
         "name": "",
         "scene": "scene",
         "showlegend": false,
         "type": "scatter3d",
         "x": [
          0.6171875
         ],
         "y": [
          0
         ],
         "z": [
          0.3828125
         ]
        },
        {
         "color": "lightgrey",
         "i": [
          0,
          0,
          0,
          1
         ],
         "j": [
          1,
          2,
          3,
          2
         ],
         "k": [
          2,
          3,
          1,
          3
         ],
         "name": "y",
         "opacity": 0.2,
         "showscale": true,
         "type": "mesh3d",
         "x": [
          0,
          0,
          0,
          1
         ],
         "y": [
          0,
          0,
          1,
          0
         ],
         "z": [
          0,
          1,
          0,
          0
         ]
        }
       ],
       "frames": [
        {
         "data": [
          {
           "hovertemplate": "<b>%{hovertext}</b><br><br>threshold=0.0<br>TP=%{x}<br>TN=%{y}<br>FP=%{z}<extra></extra>",
           "hovertext": [
            0
           ],
           "legendgroup": "",
           "marker": {
            "color": "#636efa",
            "symbol": "circle"
           },
           "mode": "markers",
           "name": "",
           "scene": "scene",
           "showlegend": false,
           "type": "scatter3d",
           "x": [
            0.6171875
           ],
           "y": [
            0
           ],
           "z": [
            0.3828125
           ]
          }
         ],
         "name": "0.0"
        },
        {
         "data": [
          {
           "hovertemplate": "<b>%{hovertext}</b><br><br>threshold=0.01<br>TP=%{x}<br>TN=%{y}<br>FP=%{z}<extra></extra>",
           "hovertext": [
            0.01
           ],
           "legendgroup": "",
           "marker": {
            "color": "#636efa",
            "symbol": "circle"
           },
           "mode": "markers",
           "name": "",
           "scene": "scene",
           "showlegend": false,
           "type": "scatter3d",
           "x": [
            0.6171875
           ],
           "y": [
            0.1640625
           ],
           "z": [
            0.21875
           ]
          }
         ],
         "name": "0.01"
        },
        {
         "data": [
          {
           "hovertemplate": "<b>%{hovertext}</b><br><br>threshold=0.02<br>TP=%{x}<br>TN=%{y}<br>FP=%{z}<extra></extra>",
           "hovertext": [
            0.02
           ],
           "legendgroup": "",
           "marker": {
            "color": "#636efa",
            "symbol": "circle"
           },
           "mode": "markers",
           "name": "",
           "scene": "scene",
           "showlegend": false,
           "type": "scatter3d",
           "x": [
            0.6171875
           ],
           "y": [
            0.234375
           ],
           "z": [
            0.1484375
           ]
          }
         ],
         "name": "0.02"
        },
        {
         "data": [
          {
           "hovertemplate": "<b>%{hovertext}</b><br><br>threshold=0.03<br>TP=%{x}<br>TN=%{y}<br>FP=%{z}<extra></extra>",
           "hovertext": [
            0.03
           ],
           "legendgroup": "",
           "marker": {
            "color": "#636efa",
            "symbol": "circle"
           },
           "mode": "markers",
           "name": "",
           "scene": "scene",
           "showlegend": false,
           "type": "scatter3d",
           "x": [
            0.6171875
           ],
           "y": [
            0.25
           ],
           "z": [
            0.1328125
           ]
          }
         ],
         "name": "0.03"
        },
        {
         "data": [
          {
           "hovertemplate": "<b>%{hovertext}</b><br><br>threshold=0.04<br>TP=%{x}<br>TN=%{y}<br>FP=%{z}<extra></extra>",
           "hovertext": [
            0.04
           ],
           "legendgroup": "",
           "marker": {
            "color": "#636efa",
            "symbol": "circle"
           },
           "mode": "markers",
           "name": "",
           "scene": "scene",
           "showlegend": false,
           "type": "scatter3d",
           "x": [
            0.6171875
           ],
           "y": [
            0.2578125
           ],
           "z": [
            0.125
           ]
          }
         ],
         "name": "0.04"
        },
        {
         "data": [
          {
           "hovertemplate": "<b>%{hovertext}</b><br><br>threshold=0.05<br>TP=%{x}<br>TN=%{y}<br>FP=%{z}<extra></extra>",
           "hovertext": [
            0.05
           ],
           "legendgroup": "",
           "marker": {
            "color": "#636efa",
            "symbol": "circle"
           },
           "mode": "markers",
           "name": "",
           "scene": "scene",
           "showlegend": false,
           "type": "scatter3d",
           "x": [
            0.6171875
           ],
           "y": [
            0.2734375
           ],
           "z": [
            0.109375
           ]
          }
         ],
         "name": "0.05"
        },
        {
         "data": [
          {
           "hovertemplate": "<b>%{hovertext}</b><br><br>threshold=0.06<br>TP=%{x}<br>TN=%{y}<br>FP=%{z}<extra></extra>",
           "hovertext": [
            0.06
           ],
           "legendgroup": "",
           "marker": {
            "color": "#636efa",
            "symbol": "circle"
           },
           "mode": "markers",
           "name": "",
           "scene": "scene",
           "showlegend": false,
           "type": "scatter3d",
           "x": [
            0.6171875
           ],
           "y": [
            0.2890625
           ],
           "z": [
            0.09375
           ]
          }
         ],
         "name": "0.06"
        },
        {
         "data": [
          {
           "hovertemplate": "<b>%{hovertext}</b><br><br>threshold=0.07<br>TP=%{x}<br>TN=%{y}<br>FP=%{z}<extra></extra>",
           "hovertext": [
            0.07
           ],
           "legendgroup": "",
           "marker": {
            "color": "#636efa",
            "symbol": "circle"
           },
           "mode": "markers",
           "name": "",
           "scene": "scene",
           "showlegend": false,
           "type": "scatter3d",
           "x": [
            0.6171875
           ],
           "y": [
            0.3046875
           ],
           "z": [
            0.078125
           ]
          }
         ],
         "name": "0.07"
        },
        {
         "data": [
          {
           "hovertemplate": "<b>%{hovertext}</b><br><br>threshold=0.08<br>TP=%{x}<br>TN=%{y}<br>FP=%{z}<extra></extra>",
           "hovertext": [
            0.08
           ],
           "legendgroup": "",
           "marker": {
            "color": "#636efa",
            "symbol": "circle"
           },
           "mode": "markers",
           "name": "",
           "scene": "scene",
           "showlegend": false,
           "type": "scatter3d",
           "x": [
            0.6171875
           ],
           "y": [
            0.3125
           ],
           "z": [
            0.0703125
           ]
          }
         ],
         "name": "0.08"
        },
        {
         "data": [
          {
           "hovertemplate": "<b>%{hovertext}</b><br><br>threshold=0.09<br>TP=%{x}<br>TN=%{y}<br>FP=%{z}<extra></extra>",
           "hovertext": [
            0.09
           ],
           "legendgroup": "",
           "marker": {
            "color": "#636efa",
            "symbol": "circle"
           },
           "mode": "markers",
           "name": "",
           "scene": "scene",
           "showlegend": false,
           "type": "scatter3d",
           "x": [
            0.6171875
           ],
           "y": [
            0.328125
           ],
           "z": [
            0.0546875
           ]
          }
         ],
         "name": "0.09"
        },
        {
         "data": [
          {
           "hovertemplate": "<b>%{hovertext}</b><br><br>threshold=0.1<br>TP=%{x}<br>TN=%{y}<br>FP=%{z}<extra></extra>",
           "hovertext": [
            0.1
           ],
           "legendgroup": "",
           "marker": {
            "color": "#636efa",
            "symbol": "circle"
           },
           "mode": "markers",
           "name": "",
           "scene": "scene",
           "showlegend": false,
           "type": "scatter3d",
           "x": [
            0.6171875
           ],
           "y": [
            0.328125
           ],
           "z": [
            0.0546875
           ]
          }
         ],
         "name": "0.1"
        },
        {
         "data": [
          {
           "hovertemplate": "<b>%{hovertext}</b><br><br>threshold=0.11<br>TP=%{x}<br>TN=%{y}<br>FP=%{z}<extra></extra>",
           "hovertext": [
            0.11
           ],
           "legendgroup": "",
           "marker": {
            "color": "#636efa",
            "symbol": "circle"
           },
           "mode": "markers",
           "name": "",
           "scene": "scene",
           "showlegend": false,
           "type": "scatter3d",
           "x": [
            0.6171875
           ],
           "y": [
            0.34375
           ],
           "z": [
            0.0390625
           ]
          }
         ],
         "name": "0.11"
        },
        {
         "data": [
          {
           "hovertemplate": "<b>%{hovertext}</b><br><br>threshold=0.12<br>TP=%{x}<br>TN=%{y}<br>FP=%{z}<extra></extra>",
           "hovertext": [
            0.12
           ],
           "legendgroup": "",
           "marker": {
            "color": "#636efa",
            "symbol": "circle"
           },
           "mode": "markers",
           "name": "",
           "scene": "scene",
           "showlegend": false,
           "type": "scatter3d",
           "x": [
            0.6171875
           ],
           "y": [
            0.34375
           ],
           "z": [
            0.0390625
           ]
          }
         ],
         "name": "0.12"
        },
        {
         "data": [
          {
           "hovertemplate": "<b>%{hovertext}</b><br><br>threshold=0.13<br>TP=%{x}<br>TN=%{y}<br>FP=%{z}<extra></extra>",
           "hovertext": [
            0.13
           ],
           "legendgroup": "",
           "marker": {
            "color": "#636efa",
            "symbol": "circle"
           },
           "mode": "markers",
           "name": "",
           "scene": "scene",
           "showlegend": false,
           "type": "scatter3d",
           "x": [
            0.6171875
           ],
           "y": [
            0.34375
           ],
           "z": [
            0.0390625
           ]
          }
         ],
         "name": "0.13"
        },
        {
         "data": [
          {
           "hovertemplate": "<b>%{hovertext}</b><br><br>threshold=0.14<br>TP=%{x}<br>TN=%{y}<br>FP=%{z}<extra></extra>",
           "hovertext": [
            0.14
           ],
           "legendgroup": "",
           "marker": {
            "color": "#636efa",
            "symbol": "circle"
           },
           "mode": "markers",
           "name": "",
           "scene": "scene",
           "showlegend": false,
           "type": "scatter3d",
           "x": [
            0.6171875
           ],
           "y": [
            0.34375
           ],
           "z": [
            0.0390625
           ]
          }
         ],
         "name": "0.14"
        },
        {
         "data": [
          {
           "hovertemplate": "<b>%{hovertext}</b><br><br>threshold=0.15<br>TP=%{x}<br>TN=%{y}<br>FP=%{z}<extra></extra>",
           "hovertext": [
            0.15
           ],
           "legendgroup": "",
           "marker": {
            "color": "#636efa",
            "symbol": "circle"
           },
           "mode": "markers",
           "name": "",
           "scene": "scene",
           "showlegend": false,
           "type": "scatter3d",
           "x": [
            0.6171875
           ],
           "y": [
            0.34375
           ],
           "z": [
            0.0390625
           ]
          }
         ],
         "name": "0.15"
        },
        {
         "data": [
          {
           "hovertemplate": "<b>%{hovertext}</b><br><br>threshold=0.16<br>TP=%{x}<br>TN=%{y}<br>FP=%{z}<extra></extra>",
           "hovertext": [
            0.16
           ],
           "legendgroup": "",
           "marker": {
            "color": "#636efa",
            "symbol": "circle"
           },
           "mode": "markers",
           "name": "",
           "scene": "scene",
           "showlegend": false,
           "type": "scatter3d",
           "x": [
            0.6171875
           ],
           "y": [
            0.34375
           ],
           "z": [
            0.0390625
           ]
          }
         ],
         "name": "0.16"
        },
        {
         "data": [
          {
           "hovertemplate": "<b>%{hovertext}</b><br><br>threshold=0.17<br>TP=%{x}<br>TN=%{y}<br>FP=%{z}<extra></extra>",
           "hovertext": [
            0.17
           ],
           "legendgroup": "",
           "marker": {
            "color": "#636efa",
            "symbol": "circle"
           },
           "mode": "markers",
           "name": "",
           "scene": "scene",
           "showlegend": false,
           "type": "scatter3d",
           "x": [
            0.6171875
           ],
           "y": [
            0.3515625
           ],
           "z": [
            0.03125
           ]
          }
         ],
         "name": "0.17"
        },
        {
         "data": [
          {
           "hovertemplate": "<b>%{hovertext}</b><br><br>threshold=0.18<br>TP=%{x}<br>TN=%{y}<br>FP=%{z}<extra></extra>",
           "hovertext": [
            0.18
           ],
           "legendgroup": "",
           "marker": {
            "color": "#636efa",
            "symbol": "circle"
           },
           "mode": "markers",
           "name": "",
           "scene": "scene",
           "showlegend": false,
           "type": "scatter3d",
           "x": [
            0.6171875
           ],
           "y": [
            0.359375
           ],
           "z": [
            0.0234375
           ]
          }
         ],
         "name": "0.18"
        },
        {
         "data": [
          {
           "hovertemplate": "<b>%{hovertext}</b><br><br>threshold=0.19<br>TP=%{x}<br>TN=%{y}<br>FP=%{z}<extra></extra>",
           "hovertext": [
            0.19
           ],
           "legendgroup": "",
           "marker": {
            "color": "#636efa",
            "symbol": "circle"
           },
           "mode": "markers",
           "name": "",
           "scene": "scene",
           "showlegend": false,
           "type": "scatter3d",
           "x": [
            0.6171875
           ],
           "y": [
            0.359375
           ],
           "z": [
            0.0234375
           ]
          }
         ],
         "name": "0.19"
        },
        {
         "data": [
          {
           "hovertemplate": "<b>%{hovertext}</b><br><br>threshold=0.2<br>TP=%{x}<br>TN=%{y}<br>FP=%{z}<extra></extra>",
           "hovertext": [
            0.2
           ],
           "legendgroup": "",
           "marker": {
            "color": "#636efa",
            "symbol": "circle"
           },
           "mode": "markers",
           "name": "",
           "scene": "scene",
           "showlegend": false,
           "type": "scatter3d",
           "x": [
            0.6171875
           ],
           "y": [
            0.359375
           ],
           "z": [
            0.0234375
           ]
          }
         ],
         "name": "0.2"
        },
        {
         "data": [
          {
           "hovertemplate": "<b>%{hovertext}</b><br><br>threshold=0.21<br>TP=%{x}<br>TN=%{y}<br>FP=%{z}<extra></extra>",
           "hovertext": [
            0.21
           ],
           "legendgroup": "",
           "marker": {
            "color": "#636efa",
            "symbol": "circle"
           },
           "mode": "markers",
           "name": "",
           "scene": "scene",
           "showlegend": false,
           "type": "scatter3d",
           "x": [
            0.6171875
           ],
           "y": [
            0.359375
           ],
           "z": [
            0.0234375
           ]
          }
         ],
         "name": "0.21"
        },
        {
         "data": [
          {
           "hovertemplate": "<b>%{hovertext}</b><br><br>threshold=0.22<br>TP=%{x}<br>TN=%{y}<br>FP=%{z}<extra></extra>",
           "hovertext": [
            0.22
           ],
           "legendgroup": "",
           "marker": {
            "color": "#636efa",
            "symbol": "circle"
           },
           "mode": "markers",
           "name": "",
           "scene": "scene",
           "showlegend": false,
           "type": "scatter3d",
           "x": [
            0.6171875
           ],
           "y": [
            0.359375
           ],
           "z": [
            0.0234375
           ]
          }
         ],
         "name": "0.22"
        },
        {
         "data": [
          {
           "hovertemplate": "<b>%{hovertext}</b><br><br>threshold=0.23<br>TP=%{x}<br>TN=%{y}<br>FP=%{z}<extra></extra>",
           "hovertext": [
            0.23
           ],
           "legendgroup": "",
           "marker": {
            "color": "#636efa",
            "symbol": "circle"
           },
           "mode": "markers",
           "name": "",
           "scene": "scene",
           "showlegend": false,
           "type": "scatter3d",
           "x": [
            0.6171875
           ],
           "y": [
            0.359375
           ],
           "z": [
            0.0234375
           ]
          }
         ],
         "name": "0.23"
        },
        {
         "data": [
          {
           "hovertemplate": "<b>%{hovertext}</b><br><br>threshold=0.24<br>TP=%{x}<br>TN=%{y}<br>FP=%{z}<extra></extra>",
           "hovertext": [
            0.24
           ],
           "legendgroup": "",
           "marker": {
            "color": "#636efa",
            "symbol": "circle"
           },
           "mode": "markers",
           "name": "",
           "scene": "scene",
           "showlegend": false,
           "type": "scatter3d",
           "x": [
            0.6171875
           ],
           "y": [
            0.359375
           ],
           "z": [
            0.0234375
           ]
          }
         ],
         "name": "0.24"
        },
        {
         "data": [
          {
           "hovertemplate": "<b>%{hovertext}</b><br><br>threshold=0.25<br>TP=%{x}<br>TN=%{y}<br>FP=%{z}<extra></extra>",
           "hovertext": [
            0.25
           ],
           "legendgroup": "",
           "marker": {
            "color": "#636efa",
            "symbol": "circle"
           },
           "mode": "markers",
           "name": "",
           "scene": "scene",
           "showlegend": false,
           "type": "scatter3d",
           "x": [
            0.6171875
           ],
           "y": [
            0.359375
           ],
           "z": [
            0.0234375
           ]
          }
         ],
         "name": "0.25"
        },
        {
         "data": [
          {
           "hovertemplate": "<b>%{hovertext}</b><br><br>threshold=0.26<br>TP=%{x}<br>TN=%{y}<br>FP=%{z}<extra></extra>",
           "hovertext": [
            0.26
           ],
           "legendgroup": "",
           "marker": {
            "color": "#636efa",
            "symbol": "circle"
           },
           "mode": "markers",
           "name": "",
           "scene": "scene",
           "showlegend": false,
           "type": "scatter3d",
           "x": [
            0.6171875
           ],
           "y": [
            0.359375
           ],
           "z": [
            0.0234375
           ]
          }
         ],
         "name": "0.26"
        },
        {
         "data": [
          {
           "hovertemplate": "<b>%{hovertext}</b><br><br>threshold=0.27<br>TP=%{x}<br>TN=%{y}<br>FP=%{z}<extra></extra>",
           "hovertext": [
            0.27
           ],
           "legendgroup": "",
           "marker": {
            "color": "#636efa",
            "symbol": "circle"
           },
           "mode": "markers",
           "name": "",
           "scene": "scene",
           "showlegend": false,
           "type": "scatter3d",
           "x": [
            0.6171875
           ],
           "y": [
            0.359375
           ],
           "z": [
            0.0234375
           ]
          }
         ],
         "name": "0.27"
        },
        {
         "data": [
          {
           "hovertemplate": "<b>%{hovertext}</b><br><br>threshold=0.28<br>TP=%{x}<br>TN=%{y}<br>FP=%{z}<extra></extra>",
           "hovertext": [
            0.28
           ],
           "legendgroup": "",
           "marker": {
            "color": "#636efa",
            "symbol": "circle"
           },
           "mode": "markers",
           "name": "",
           "scene": "scene",
           "showlegend": false,
           "type": "scatter3d",
           "x": [
            0.6171875
           ],
           "y": [
            0.359375
           ],
           "z": [
            0.0234375
           ]
          }
         ],
         "name": "0.28"
        },
        {
         "data": [
          {
           "hovertemplate": "<b>%{hovertext}</b><br><br>threshold=0.29<br>TP=%{x}<br>TN=%{y}<br>FP=%{z}<extra></extra>",
           "hovertext": [
            0.29
           ],
           "legendgroup": "",
           "marker": {
            "color": "#636efa",
            "symbol": "circle"
           },
           "mode": "markers",
           "name": "",
           "scene": "scene",
           "showlegend": false,
           "type": "scatter3d",
           "x": [
            0.6171875
           ],
           "y": [
            0.359375
           ],
           "z": [
            0.0234375
           ]
          }
         ],
         "name": "0.29"
        },
        {
         "data": [
          {
           "hovertemplate": "<b>%{hovertext}</b><br><br>threshold=0.3<br>TP=%{x}<br>TN=%{y}<br>FP=%{z}<extra></extra>",
           "hovertext": [
            0.3
           ],
           "legendgroup": "",
           "marker": {
            "color": "#636efa",
            "symbol": "circle"
           },
           "mode": "markers",
           "name": "",
           "scene": "scene",
           "showlegend": false,
           "type": "scatter3d",
           "x": [
            0.6171875
           ],
           "y": [
            0.359375
           ],
           "z": [
            0.0234375
           ]
          }
         ],
         "name": "0.3"
        },
        {
         "data": [
          {
           "hovertemplate": "<b>%{hovertext}</b><br><br>threshold=0.31<br>TP=%{x}<br>TN=%{y}<br>FP=%{z}<extra></extra>",
           "hovertext": [
            0.31
           ],
           "legendgroup": "",
           "marker": {
            "color": "#636efa",
            "symbol": "circle"
           },
           "mode": "markers",
           "name": "",
           "scene": "scene",
           "showlegend": false,
           "type": "scatter3d",
           "x": [
            0.6171875
           ],
           "y": [
            0.359375
           ],
           "z": [
            0.0234375
           ]
          }
         ],
         "name": "0.31"
        },
        {
         "data": [
          {
           "hovertemplate": "<b>%{hovertext}</b><br><br>threshold=0.32<br>TP=%{x}<br>TN=%{y}<br>FP=%{z}<extra></extra>",
           "hovertext": [
            0.32
           ],
           "legendgroup": "",
           "marker": {
            "color": "#636efa",
            "symbol": "circle"
           },
           "mode": "markers",
           "name": "",
           "scene": "scene",
           "showlegend": false,
           "type": "scatter3d",
           "x": [
            0.6171875
           ],
           "y": [
            0.359375
           ],
           "z": [
            0.0234375
           ]
          }
         ],
         "name": "0.32"
        },
        {
         "data": [
          {
           "hovertemplate": "<b>%{hovertext}</b><br><br>threshold=0.33<br>TP=%{x}<br>TN=%{y}<br>FP=%{z}<extra></extra>",
           "hovertext": [
            0.33
           ],
           "legendgroup": "",
           "marker": {
            "color": "#636efa",
            "symbol": "circle"
           },
           "mode": "markers",
           "name": "",
           "scene": "scene",
           "showlegend": false,
           "type": "scatter3d",
           "x": [
            0.6171875
           ],
           "y": [
            0.359375
           ],
           "z": [
            0.0234375
           ]
          }
         ],
         "name": "0.33"
        },
        {
         "data": [
          {
           "hovertemplate": "<b>%{hovertext}</b><br><br>threshold=0.34<br>TP=%{x}<br>TN=%{y}<br>FP=%{z}<extra></extra>",
           "hovertext": [
            0.34
           ],
           "legendgroup": "",
           "marker": {
            "color": "#636efa",
            "symbol": "circle"
           },
           "mode": "markers",
           "name": "",
           "scene": "scene",
           "showlegend": false,
           "type": "scatter3d",
           "x": [
            0.6171875
           ],
           "y": [
            0.3671875
           ],
           "z": [
            0.015625
           ]
          }
         ],
         "name": "0.34"
        },
        {
         "data": [
          {
           "hovertemplate": "<b>%{hovertext}</b><br><br>threshold=0.35<br>TP=%{x}<br>TN=%{y}<br>FP=%{z}<extra></extra>",
           "hovertext": [
            0.35
           ],
           "legendgroup": "",
           "marker": {
            "color": "#636efa",
            "symbol": "circle"
           },
           "mode": "markers",
           "name": "",
           "scene": "scene",
           "showlegend": false,
           "type": "scatter3d",
           "x": [
            0.6171875
           ],
           "y": [
            0.3671875
           ],
           "z": [
            0.015625
           ]
          }
         ],
         "name": "0.35"
        },
        {
         "data": [
          {
           "hovertemplate": "<b>%{hovertext}</b><br><br>threshold=0.36<br>TP=%{x}<br>TN=%{y}<br>FP=%{z}<extra></extra>",
           "hovertext": [
            0.36
           ],
           "legendgroup": "",
           "marker": {
            "color": "#636efa",
            "symbol": "circle"
           },
           "mode": "markers",
           "name": "",
           "scene": "scene",
           "showlegend": false,
           "type": "scatter3d",
           "x": [
            0.6171875
           ],
           "y": [
            0.3671875
           ],
           "z": [
            0.015625
           ]
          }
         ],
         "name": "0.36"
        },
        {
         "data": [
          {
           "hovertemplate": "<b>%{hovertext}</b><br><br>threshold=0.37<br>TP=%{x}<br>TN=%{y}<br>FP=%{z}<extra></extra>",
           "hovertext": [
            0.37
           ],
           "legendgroup": "",
           "marker": {
            "color": "#636efa",
            "symbol": "circle"
           },
           "mode": "markers",
           "name": "",
           "scene": "scene",
           "showlegend": false,
           "type": "scatter3d",
           "x": [
            0.6171875
           ],
           "y": [
            0.3671875
           ],
           "z": [
            0.015625
           ]
          }
         ],
         "name": "0.37"
        },
        {
         "data": [
          {
           "hovertemplate": "<b>%{hovertext}</b><br><br>threshold=0.38<br>TP=%{x}<br>TN=%{y}<br>FP=%{z}<extra></extra>",
           "hovertext": [
            0.38
           ],
           "legendgroup": "",
           "marker": {
            "color": "#636efa",
            "symbol": "circle"
           },
           "mode": "markers",
           "name": "",
           "scene": "scene",
           "showlegend": false,
           "type": "scatter3d",
           "x": [
            0.6171875
           ],
           "y": [
            0.3671875
           ],
           "z": [
            0.015625
           ]
          }
         ],
         "name": "0.38"
        },
        {
         "data": [
          {
           "hovertemplate": "<b>%{hovertext}</b><br><br>threshold=0.39<br>TP=%{x}<br>TN=%{y}<br>FP=%{z}<extra></extra>",
           "hovertext": [
            0.39
           ],
           "legendgroup": "",
           "marker": {
            "color": "#636efa",
            "symbol": "circle"
           },
           "mode": "markers",
           "name": "",
           "scene": "scene",
           "showlegend": false,
           "type": "scatter3d",
           "x": [
            0.6171875
           ],
           "y": [
            0.3671875
           ],
           "z": [
            0.015625
           ]
          }
         ],
         "name": "0.39"
        },
        {
         "data": [
          {
           "hovertemplate": "<b>%{hovertext}</b><br><br>threshold=0.4<br>TP=%{x}<br>TN=%{y}<br>FP=%{z}<extra></extra>",
           "hovertext": [
            0.4
           ],
           "legendgroup": "",
           "marker": {
            "color": "#636efa",
            "symbol": "circle"
           },
           "mode": "markers",
           "name": "",
           "scene": "scene",
           "showlegend": false,
           "type": "scatter3d",
           "x": [
            0.6171875
           ],
           "y": [
            0.3671875
           ],
           "z": [
            0.015625
           ]
          }
         ],
         "name": "0.4"
        },
        {
         "data": [
          {
           "hovertemplate": "<b>%{hovertext}</b><br><br>threshold=0.41<br>TP=%{x}<br>TN=%{y}<br>FP=%{z}<extra></extra>",
           "hovertext": [
            0.41
           ],
           "legendgroup": "",
           "marker": {
            "color": "#636efa",
            "symbol": "circle"
           },
           "mode": "markers",
           "name": "",
           "scene": "scene",
           "showlegend": false,
           "type": "scatter3d",
           "x": [
            0.6171875
           ],
           "y": [
            0.375
           ],
           "z": [
            0.0078125
           ]
          }
         ],
         "name": "0.41"
        },
        {
         "data": [
          {
           "hovertemplate": "<b>%{hovertext}</b><br><br>threshold=0.42<br>TP=%{x}<br>TN=%{y}<br>FP=%{z}<extra></extra>",
           "hovertext": [
            0.42
           ],
           "legendgroup": "",
           "marker": {
            "color": "#636efa",
            "symbol": "circle"
           },
           "mode": "markers",
           "name": "",
           "scene": "scene",
           "showlegend": false,
           "type": "scatter3d",
           "x": [
            0.6171875
           ],
           "y": [
            0.375
           ],
           "z": [
            0.0078125
           ]
          }
         ],
         "name": "0.42"
        },
        {
         "data": [
          {
           "hovertemplate": "<b>%{hovertext}</b><br><br>threshold=0.43<br>TP=%{x}<br>TN=%{y}<br>FP=%{z}<extra></extra>",
           "hovertext": [
            0.43
           ],
           "legendgroup": "",
           "marker": {
            "color": "#636efa",
            "symbol": "circle"
           },
           "mode": "markers",
           "name": "",
           "scene": "scene",
           "showlegend": false,
           "type": "scatter3d",
           "x": [
            0.6171875
           ],
           "y": [
            0.375
           ],
           "z": [
            0.0078125
           ]
          }
         ],
         "name": "0.43"
        },
        {
         "data": [
          {
           "hovertemplate": "<b>%{hovertext}</b><br><br>threshold=0.44<br>TP=%{x}<br>TN=%{y}<br>FP=%{z}<extra></extra>",
           "hovertext": [
            0.44
           ],
           "legendgroup": "",
           "marker": {
            "color": "#636efa",
            "symbol": "circle"
           },
           "mode": "markers",
           "name": "",
           "scene": "scene",
           "showlegend": false,
           "type": "scatter3d",
           "x": [
            0.6171875
           ],
           "y": [
            0.375
           ],
           "z": [
            0.0078125
           ]
          }
         ],
         "name": "0.44"
        },
        {
         "data": [
          {
           "hovertemplate": "<b>%{hovertext}</b><br><br>threshold=0.45<br>TP=%{x}<br>TN=%{y}<br>FP=%{z}<extra></extra>",
           "hovertext": [
            0.45
           ],
           "legendgroup": "",
           "marker": {
            "color": "#636efa",
            "symbol": "circle"
           },
           "mode": "markers",
           "name": "",
           "scene": "scene",
           "showlegend": false,
           "type": "scatter3d",
           "x": [
            0.6171875
           ],
           "y": [
            0.375
           ],
           "z": [
            0.0078125
           ]
          }
         ],
         "name": "0.45"
        },
        {
         "data": [
          {
           "hovertemplate": "<b>%{hovertext}</b><br><br>threshold=0.46<br>TP=%{x}<br>TN=%{y}<br>FP=%{z}<extra></extra>",
           "hovertext": [
            0.46
           ],
           "legendgroup": "",
           "marker": {
            "color": "#636efa",
            "symbol": "circle"
           },
           "mode": "markers",
           "name": "",
           "scene": "scene",
           "showlegend": false,
           "type": "scatter3d",
           "x": [
            0.6171875
           ],
           "y": [
            0.375
           ],
           "z": [
            0.0078125
           ]
          }
         ],
         "name": "0.46"
        },
        {
         "data": [
          {
           "hovertemplate": "<b>%{hovertext}</b><br><br>threshold=0.47<br>TP=%{x}<br>TN=%{y}<br>FP=%{z}<extra></extra>",
           "hovertext": [
            0.47
           ],
           "legendgroup": "",
           "marker": {
            "color": "#636efa",
            "symbol": "circle"
           },
           "mode": "markers",
           "name": "",
           "scene": "scene",
           "showlegend": false,
           "type": "scatter3d",
           "x": [
            0.6171875
           ],
           "y": [
            0.375
           ],
           "z": [
            0.0078125
           ]
          }
         ],
         "name": "0.47"
        },
        {
         "data": [
          {
           "hovertemplate": "<b>%{hovertext}</b><br><br>threshold=0.48<br>TP=%{x}<br>TN=%{y}<br>FP=%{z}<extra></extra>",
           "hovertext": [
            0.48
           ],
           "legendgroup": "",
           "marker": {
            "color": "#636efa",
            "symbol": "circle"
           },
           "mode": "markers",
           "name": "",
           "scene": "scene",
           "showlegend": false,
           "type": "scatter3d",
           "x": [
            0.6171875
           ],
           "y": [
            0.375
           ],
           "z": [
            0.0078125
           ]
          }
         ],
         "name": "0.48"
        },
        {
         "data": [
          {
           "hovertemplate": "<b>%{hovertext}</b><br><br>threshold=0.49<br>TP=%{x}<br>TN=%{y}<br>FP=%{z}<extra></extra>",
           "hovertext": [
            0.49
           ],
           "legendgroup": "",
           "marker": {
            "color": "#636efa",
            "symbol": "circle"
           },
           "mode": "markers",
           "name": "",
           "scene": "scene",
           "showlegend": false,
           "type": "scatter3d",
           "x": [
            0.6171875
           ],
           "y": [
            0.375
           ],
           "z": [
            0.0078125
           ]
          }
         ],
         "name": "0.49"
        },
        {
         "data": [
          {
           "hovertemplate": "<b>%{hovertext}</b><br><br>threshold=0.5<br>TP=%{x}<br>TN=%{y}<br>FP=%{z}<extra></extra>",
           "hovertext": [
            0.5
           ],
           "legendgroup": "",
           "marker": {
            "color": "#636efa",
            "symbol": "circle"
           },
           "mode": "markers",
           "name": "",
           "scene": "scene",
           "showlegend": false,
           "type": "scatter3d",
           "x": [
            0.6171875
           ],
           "y": [
            0.375
           ],
           "z": [
            0.0078125
           ]
          }
         ],
         "name": "0.5"
        },
        {
         "data": [
          {
           "hovertemplate": "<b>%{hovertext}</b><br><br>threshold=0.51<br>TP=%{x}<br>TN=%{y}<br>FP=%{z}<extra></extra>",
           "hovertext": [
            0.51
           ],
           "legendgroup": "",
           "marker": {
            "color": "#636efa",
            "symbol": "circle"
           },
           "mode": "markers",
           "name": "",
           "scene": "scene",
           "showlegend": false,
           "type": "scatter3d",
           "x": [
            0.6171875
           ],
           "y": [
            0.375
           ],
           "z": [
            0.0078125
           ]
          }
         ],
         "name": "0.51"
        },
        {
         "data": [
          {
           "hovertemplate": "<b>%{hovertext}</b><br><br>threshold=0.52<br>TP=%{x}<br>TN=%{y}<br>FP=%{z}<extra></extra>",
           "hovertext": [
            0.52
           ],
           "legendgroup": "",
           "marker": {
            "color": "#636efa",
            "symbol": "circle"
           },
           "mode": "markers",
           "name": "",
           "scene": "scene",
           "showlegend": false,
           "type": "scatter3d",
           "x": [
            0.6171875
           ],
           "y": [
            0.375
           ],
           "z": [
            0.0078125
           ]
          }
         ],
         "name": "0.52"
        },
        {
         "data": [
          {
           "hovertemplate": "<b>%{hovertext}</b><br><br>threshold=0.53<br>TP=%{x}<br>TN=%{y}<br>FP=%{z}<extra></extra>",
           "hovertext": [
            0.53
           ],
           "legendgroup": "",
           "marker": {
            "color": "#636efa",
            "symbol": "circle"
           },
           "mode": "markers",
           "name": "",
           "scene": "scene",
           "showlegend": false,
           "type": "scatter3d",
           "x": [
            0.6171875
           ],
           "y": [
            0.375
           ],
           "z": [
            0.0078125
           ]
          }
         ],
         "name": "0.53"
        },
        {
         "data": [
          {
           "hovertemplate": "<b>%{hovertext}</b><br><br>threshold=0.54<br>TP=%{x}<br>TN=%{y}<br>FP=%{z}<extra></extra>",
           "hovertext": [
            0.54
           ],
           "legendgroup": "",
           "marker": {
            "color": "#636efa",
            "symbol": "circle"
           },
           "mode": "markers",
           "name": "",
           "scene": "scene",
           "showlegend": false,
           "type": "scatter3d",
           "x": [
            0.6171875
           ],
           "y": [
            0.375
           ],
           "z": [
            0.0078125
           ]
          }
         ],
         "name": "0.54"
        },
        {
         "data": [
          {
           "hovertemplate": "<b>%{hovertext}</b><br><br>threshold=0.55<br>TP=%{x}<br>TN=%{y}<br>FP=%{z}<extra></extra>",
           "hovertext": [
            0.55
           ],
           "legendgroup": "",
           "marker": {
            "color": "#636efa",
            "symbol": "circle"
           },
           "mode": "markers",
           "name": "",
           "scene": "scene",
           "showlegend": false,
           "type": "scatter3d",
           "x": [
            0.6171875
           ],
           "y": [
            0.375
           ],
           "z": [
            0.0078125
           ]
          }
         ],
         "name": "0.55"
        },
        {
         "data": [
          {
           "hovertemplate": "<b>%{hovertext}</b><br><br>threshold=0.56<br>TP=%{x}<br>TN=%{y}<br>FP=%{z}<extra></extra>",
           "hovertext": [
            0.56
           ],
           "legendgroup": "",
           "marker": {
            "color": "#636efa",
            "symbol": "circle"
           },
           "mode": "markers",
           "name": "",
           "scene": "scene",
           "showlegend": false,
           "type": "scatter3d",
           "x": [
            0.6171875
           ],
           "y": [
            0.375
           ],
           "z": [
            0.0078125
           ]
          }
         ],
         "name": "0.56"
        },
        {
         "data": [
          {
           "hovertemplate": "<b>%{hovertext}</b><br><br>threshold=0.57<br>TP=%{x}<br>TN=%{y}<br>FP=%{z}<extra></extra>",
           "hovertext": [
            0.57
           ],
           "legendgroup": "",
           "marker": {
            "color": "#636efa",
            "symbol": "circle"
           },
           "mode": "markers",
           "name": "",
           "scene": "scene",
           "showlegend": false,
           "type": "scatter3d",
           "x": [
            0.6171875
           ],
           "y": [
            0.375
           ],
           "z": [
            0.0078125
           ]
          }
         ],
         "name": "0.57"
        },
        {
         "data": [
          {
           "hovertemplate": "<b>%{hovertext}</b><br><br>threshold=0.58<br>TP=%{x}<br>TN=%{y}<br>FP=%{z}<extra></extra>",
           "hovertext": [
            0.58
           ],
           "legendgroup": "",
           "marker": {
            "color": "#636efa",
            "symbol": "circle"
           },
           "mode": "markers",
           "name": "",
           "scene": "scene",
           "showlegend": false,
           "type": "scatter3d",
           "x": [
            0.6171875
           ],
           "y": [
            0.375
           ],
           "z": [
            0.0078125
           ]
          }
         ],
         "name": "0.58"
        },
        {
         "data": [
          {
           "hovertemplate": "<b>%{hovertext}</b><br><br>threshold=0.59<br>TP=%{x}<br>TN=%{y}<br>FP=%{z}<extra></extra>",
           "hovertext": [
            0.59
           ],
           "legendgroup": "",
           "marker": {
            "color": "#636efa",
            "symbol": "circle"
           },
           "mode": "markers",
           "name": "",
           "scene": "scene",
           "showlegend": false,
           "type": "scatter3d",
           "x": [
            0.609375
           ],
           "y": [
            0.375
           ],
           "z": [
            0.0078125
           ]
          }
         ],
         "name": "0.59"
        },
        {
         "data": [
          {
           "hovertemplate": "<b>%{hovertext}</b><br><br>threshold=0.6<br>TP=%{x}<br>TN=%{y}<br>FP=%{z}<extra></extra>",
           "hovertext": [
            0.6
           ],
           "legendgroup": "",
           "marker": {
            "color": "#636efa",
            "symbol": "circle"
           },
           "mode": "markers",
           "name": "",
           "scene": "scene",
           "showlegend": false,
           "type": "scatter3d",
           "x": [
            0.609375
           ],
           "y": [
            0.375
           ],
           "z": [
            0.0078125
           ]
          }
         ],
         "name": "0.6"
        },
        {
         "data": [
          {
           "hovertemplate": "<b>%{hovertext}</b><br><br>threshold=0.61<br>TP=%{x}<br>TN=%{y}<br>FP=%{z}<extra></extra>",
           "hovertext": [
            0.61
           ],
           "legendgroup": "",
           "marker": {
            "color": "#636efa",
            "symbol": "circle"
           },
           "mode": "markers",
           "name": "",
           "scene": "scene",
           "showlegend": false,
           "type": "scatter3d",
           "x": [
            0.609375
           ],
           "y": [
            0.375
           ],
           "z": [
            0.0078125
           ]
          }
         ],
         "name": "0.61"
        },
        {
         "data": [
          {
           "hovertemplate": "<b>%{hovertext}</b><br><br>threshold=0.62<br>TP=%{x}<br>TN=%{y}<br>FP=%{z}<extra></extra>",
           "hovertext": [
            0.62
           ],
           "legendgroup": "",
           "marker": {
            "color": "#636efa",
            "symbol": "circle"
           },
           "mode": "markers",
           "name": "",
           "scene": "scene",
           "showlegend": false,
           "type": "scatter3d",
           "x": [
            0.609375
           ],
           "y": [
            0.375
           ],
           "z": [
            0.0078125
           ]
          }
         ],
         "name": "0.62"
        },
        {
         "data": [
          {
           "hovertemplate": "<b>%{hovertext}</b><br><br>threshold=0.63<br>TP=%{x}<br>TN=%{y}<br>FP=%{z}<extra></extra>",
           "hovertext": [
            0.63
           ],
           "legendgroup": "",
           "marker": {
            "color": "#636efa",
            "symbol": "circle"
           },
           "mode": "markers",
           "name": "",
           "scene": "scene",
           "showlegend": false,
           "type": "scatter3d",
           "x": [
            0.609375
           ],
           "y": [
            0.375
           ],
           "z": [
            0.0078125
           ]
          }
         ],
         "name": "0.63"
        },
        {
         "data": [
          {
           "hovertemplate": "<b>%{hovertext}</b><br><br>threshold=0.64<br>TP=%{x}<br>TN=%{y}<br>FP=%{z}<extra></extra>",
           "hovertext": [
            0.64
           ],
           "legendgroup": "",
           "marker": {
            "color": "#636efa",
            "symbol": "circle"
           },
           "mode": "markers",
           "name": "",
           "scene": "scene",
           "showlegend": false,
           "type": "scatter3d",
           "x": [
            0.609375
           ],
           "y": [
            0.375
           ],
           "z": [
            0.0078125
           ]
          }
         ],
         "name": "0.64"
        },
        {
         "data": [
          {
           "hovertemplate": "<b>%{hovertext}</b><br><br>threshold=0.65<br>TP=%{x}<br>TN=%{y}<br>FP=%{z}<extra></extra>",
           "hovertext": [
            0.65
           ],
           "legendgroup": "",
           "marker": {
            "color": "#636efa",
            "symbol": "circle"
           },
           "mode": "markers",
           "name": "",
           "scene": "scene",
           "showlegend": false,
           "type": "scatter3d",
           "x": [
            0.609375
           ],
           "y": [
            0.375
           ],
           "z": [
            0.0078125
           ]
          }
         ],
         "name": "0.65"
        },
        {
         "data": [
          {
           "hovertemplate": "<b>%{hovertext}</b><br><br>threshold=0.66<br>TP=%{x}<br>TN=%{y}<br>FP=%{z}<extra></extra>",
           "hovertext": [
            0.66
           ],
           "legendgroup": "",
           "marker": {
            "color": "#636efa",
            "symbol": "circle"
           },
           "mode": "markers",
           "name": "",
           "scene": "scene",
           "showlegend": false,
           "type": "scatter3d",
           "x": [
            0.609375
           ],
           "y": [
            0.3828125
           ],
           "z": [
            0
           ]
          }
         ],
         "name": "0.66"
        },
        {
         "data": [
          {
           "hovertemplate": "<b>%{hovertext}</b><br><br>threshold=0.67<br>TP=%{x}<br>TN=%{y}<br>FP=%{z}<extra></extra>",
           "hovertext": [
            0.67
           ],
           "legendgroup": "",
           "marker": {
            "color": "#636efa",
            "symbol": "circle"
           },
           "mode": "markers",
           "name": "",
           "scene": "scene",
           "showlegend": false,
           "type": "scatter3d",
           "x": [
            0.6015625
           ],
           "y": [
            0.3828125
           ],
           "z": [
            0
           ]
          }
         ],
         "name": "0.67"
        },
        {
         "data": [
          {
           "hovertemplate": "<b>%{hovertext}</b><br><br>threshold=0.68<br>TP=%{x}<br>TN=%{y}<br>FP=%{z}<extra></extra>",
           "hovertext": [
            0.68
           ],
           "legendgroup": "",
           "marker": {
            "color": "#636efa",
            "symbol": "circle"
           },
           "mode": "markers",
           "name": "",
           "scene": "scene",
           "showlegend": false,
           "type": "scatter3d",
           "x": [
            0.6015625
           ],
           "y": [
            0.3828125
           ],
           "z": [
            0
           ]
          }
         ],
         "name": "0.68"
        },
        {
         "data": [
          {
           "hovertemplate": "<b>%{hovertext}</b><br><br>threshold=0.69<br>TP=%{x}<br>TN=%{y}<br>FP=%{z}<extra></extra>",
           "hovertext": [
            0.69
           ],
           "legendgroup": "",
           "marker": {
            "color": "#636efa",
            "symbol": "circle"
           },
           "mode": "markers",
           "name": "",
           "scene": "scene",
           "showlegend": false,
           "type": "scatter3d",
           "x": [
            0.6015625
           ],
           "y": [
            0.3828125
           ],
           "z": [
            0
           ]
          }
         ],
         "name": "0.69"
        },
        {
         "data": [
          {
           "hovertemplate": "<b>%{hovertext}</b><br><br>threshold=0.7<br>TP=%{x}<br>TN=%{y}<br>FP=%{z}<extra></extra>",
           "hovertext": [
            0.7
           ],
           "legendgroup": "",
           "marker": {
            "color": "#636efa",
            "symbol": "circle"
           },
           "mode": "markers",
           "name": "",
           "scene": "scene",
           "showlegend": false,
           "type": "scatter3d",
           "x": [
            0.6015625
           ],
           "y": [
            0.3828125
           ],
           "z": [
            0
           ]
          }
         ],
         "name": "0.7"
        },
        {
         "data": [
          {
           "hovertemplate": "<b>%{hovertext}</b><br><br>threshold=0.71<br>TP=%{x}<br>TN=%{y}<br>FP=%{z}<extra></extra>",
           "hovertext": [
            0.71
           ],
           "legendgroup": "",
           "marker": {
            "color": "#636efa",
            "symbol": "circle"
           },
           "mode": "markers",
           "name": "",
           "scene": "scene",
           "showlegend": false,
           "type": "scatter3d",
           "x": [
            0.6015625
           ],
           "y": [
            0.3828125
           ],
           "z": [
            0
           ]
          }
         ],
         "name": "0.71"
        },
        {
         "data": [
          {
           "hovertemplate": "<b>%{hovertext}</b><br><br>threshold=0.72<br>TP=%{x}<br>TN=%{y}<br>FP=%{z}<extra></extra>",
           "hovertext": [
            0.72
           ],
           "legendgroup": "",
           "marker": {
            "color": "#636efa",
            "symbol": "circle"
           },
           "mode": "markers",
           "name": "",
           "scene": "scene",
           "showlegend": false,
           "type": "scatter3d",
           "x": [
            0.6015625
           ],
           "y": [
            0.3828125
           ],
           "z": [
            0
           ]
          }
         ],
         "name": "0.72"
        },
        {
         "data": [
          {
           "hovertemplate": "<b>%{hovertext}</b><br><br>threshold=0.73<br>TP=%{x}<br>TN=%{y}<br>FP=%{z}<extra></extra>",
           "hovertext": [
            0.73
           ],
           "legendgroup": "",
           "marker": {
            "color": "#636efa",
            "symbol": "circle"
           },
           "mode": "markers",
           "name": "",
           "scene": "scene",
           "showlegend": false,
           "type": "scatter3d",
           "x": [
            0.6015625
           ],
           "y": [
            0.3828125
           ],
           "z": [
            0
           ]
          }
         ],
         "name": "0.73"
        },
        {
         "data": [
          {
           "hovertemplate": "<b>%{hovertext}</b><br><br>threshold=0.74<br>TP=%{x}<br>TN=%{y}<br>FP=%{z}<extra></extra>",
           "hovertext": [
            0.74
           ],
           "legendgroup": "",
           "marker": {
            "color": "#636efa",
            "symbol": "circle"
           },
           "mode": "markers",
           "name": "",
           "scene": "scene",
           "showlegend": false,
           "type": "scatter3d",
           "x": [
            0.59375
           ],
           "y": [
            0.3828125
           ],
           "z": [
            0
           ]
          }
         ],
         "name": "0.74"
        },
        {
         "data": [
          {
           "hovertemplate": "<b>%{hovertext}</b><br><br>threshold=0.75<br>TP=%{x}<br>TN=%{y}<br>FP=%{z}<extra></extra>",
           "hovertext": [
            0.75
           ],
           "legendgroup": "",
           "marker": {
            "color": "#636efa",
            "symbol": "circle"
           },
           "mode": "markers",
           "name": "",
           "scene": "scene",
           "showlegend": false,
           "type": "scatter3d",
           "x": [
            0.59375
           ],
           "y": [
            0.3828125
           ],
           "z": [
            0
           ]
          }
         ],
         "name": "0.75"
        },
        {
         "data": [
          {
           "hovertemplate": "<b>%{hovertext}</b><br><br>threshold=0.76<br>TP=%{x}<br>TN=%{y}<br>FP=%{z}<extra></extra>",
           "hovertext": [
            0.76
           ],
           "legendgroup": "",
           "marker": {
            "color": "#636efa",
            "symbol": "circle"
           },
           "mode": "markers",
           "name": "",
           "scene": "scene",
           "showlegend": false,
           "type": "scatter3d",
           "x": [
            0.59375
           ],
           "y": [
            0.3828125
           ],
           "z": [
            0
           ]
          }
         ],
         "name": "0.76"
        },
        {
         "data": [
          {
           "hovertemplate": "<b>%{hovertext}</b><br><br>threshold=0.77<br>TP=%{x}<br>TN=%{y}<br>FP=%{z}<extra></extra>",
           "hovertext": [
            0.77
           ],
           "legendgroup": "",
           "marker": {
            "color": "#636efa",
            "symbol": "circle"
           },
           "mode": "markers",
           "name": "",
           "scene": "scene",
           "showlegend": false,
           "type": "scatter3d",
           "x": [
            0.59375
           ],
           "y": [
            0.3828125
           ],
           "z": [
            0
           ]
          }
         ],
         "name": "0.77"
        },
        {
         "data": [
          {
           "hovertemplate": "<b>%{hovertext}</b><br><br>threshold=0.78<br>TP=%{x}<br>TN=%{y}<br>FP=%{z}<extra></extra>",
           "hovertext": [
            0.78
           ],
           "legendgroup": "",
           "marker": {
            "color": "#636efa",
            "symbol": "circle"
           },
           "mode": "markers",
           "name": "",
           "scene": "scene",
           "showlegend": false,
           "type": "scatter3d",
           "x": [
            0.59375
           ],
           "y": [
            0.3828125
           ],
           "z": [
            0
           ]
          }
         ],
         "name": "0.78"
        },
        {
         "data": [
          {
           "hovertemplate": "<b>%{hovertext}</b><br><br>threshold=0.79<br>TP=%{x}<br>TN=%{y}<br>FP=%{z}<extra></extra>",
           "hovertext": [
            0.79
           ],
           "legendgroup": "",
           "marker": {
            "color": "#636efa",
            "symbol": "circle"
           },
           "mode": "markers",
           "name": "",
           "scene": "scene",
           "showlegend": false,
           "type": "scatter3d",
           "x": [
            0.5859375
           ],
           "y": [
            0.3828125
           ],
           "z": [
            0
           ]
          }
         ],
         "name": "0.79"
        },
        {
         "data": [
          {
           "hovertemplate": "<b>%{hovertext}</b><br><br>threshold=0.8<br>TP=%{x}<br>TN=%{y}<br>FP=%{z}<extra></extra>",
           "hovertext": [
            0.8
           ],
           "legendgroup": "",
           "marker": {
            "color": "#636efa",
            "symbol": "circle"
           },
           "mode": "markers",
           "name": "",
           "scene": "scene",
           "showlegend": false,
           "type": "scatter3d",
           "x": [
            0.5859375
           ],
           "y": [
            0.3828125
           ],
           "z": [
            0
           ]
          }
         ],
         "name": "0.8"
        },
        {
         "data": [
          {
           "hovertemplate": "<b>%{hovertext}</b><br><br>threshold=0.81<br>TP=%{x}<br>TN=%{y}<br>FP=%{z}<extra></extra>",
           "hovertext": [
            0.81
           ],
           "legendgroup": "",
           "marker": {
            "color": "#636efa",
            "symbol": "circle"
           },
           "mode": "markers",
           "name": "",
           "scene": "scene",
           "showlegend": false,
           "type": "scatter3d",
           "x": [
            0.5859375
           ],
           "y": [
            0.3828125
           ],
           "z": [
            0
           ]
          }
         ],
         "name": "0.81"
        },
        {
         "data": [
          {
           "hovertemplate": "<b>%{hovertext}</b><br><br>threshold=0.82<br>TP=%{x}<br>TN=%{y}<br>FP=%{z}<extra></extra>",
           "hovertext": [
            0.82
           ],
           "legendgroup": "",
           "marker": {
            "color": "#636efa",
            "symbol": "circle"
           },
           "mode": "markers",
           "name": "",
           "scene": "scene",
           "showlegend": false,
           "type": "scatter3d",
           "x": [
            0.5859375
           ],
           "y": [
            0.3828125
           ],
           "z": [
            0
           ]
          }
         ],
         "name": "0.82"
        },
        {
         "data": [
          {
           "hovertemplate": "<b>%{hovertext}</b><br><br>threshold=0.83<br>TP=%{x}<br>TN=%{y}<br>FP=%{z}<extra></extra>",
           "hovertext": [
            0.83
           ],
           "legendgroup": "",
           "marker": {
            "color": "#636efa",
            "symbol": "circle"
           },
           "mode": "markers",
           "name": "",
           "scene": "scene",
           "showlegend": false,
           "type": "scatter3d",
           "x": [
            0.578125
           ],
           "y": [
            0.3828125
           ],
           "z": [
            0
           ]
          }
         ],
         "name": "0.83"
        },
        {
         "data": [
          {
           "hovertemplate": "<b>%{hovertext}</b><br><br>threshold=0.84<br>TP=%{x}<br>TN=%{y}<br>FP=%{z}<extra></extra>",
           "hovertext": [
            0.84
           ],
           "legendgroup": "",
           "marker": {
            "color": "#636efa",
            "symbol": "circle"
           },
           "mode": "markers",
           "name": "",
           "scene": "scene",
           "showlegend": false,
           "type": "scatter3d",
           "x": [
            0.578125
           ],
           "y": [
            0.3828125
           ],
           "z": [
            0
           ]
          }
         ],
         "name": "0.84"
        },
        {
         "data": [
          {
           "hovertemplate": "<b>%{hovertext}</b><br><br>threshold=0.85<br>TP=%{x}<br>TN=%{y}<br>FP=%{z}<extra></extra>",
           "hovertext": [
            0.85
           ],
           "legendgroup": "",
           "marker": {
            "color": "#636efa",
            "symbol": "circle"
           },
           "mode": "markers",
           "name": "",
           "scene": "scene",
           "showlegend": false,
           "type": "scatter3d",
           "x": [
            0.578125
           ],
           "y": [
            0.3828125
           ],
           "z": [
            0
           ]
          }
         ],
         "name": "0.85"
        },
        {
         "data": [
          {
           "hovertemplate": "<b>%{hovertext}</b><br><br>threshold=0.86<br>TP=%{x}<br>TN=%{y}<br>FP=%{z}<extra></extra>",
           "hovertext": [
            0.86
           ],
           "legendgroup": "",
           "marker": {
            "color": "#636efa",
            "symbol": "circle"
           },
           "mode": "markers",
           "name": "",
           "scene": "scene",
           "showlegend": false,
           "type": "scatter3d",
           "x": [
            0.578125
           ],
           "y": [
            0.3828125
           ],
           "z": [
            0
           ]
          }
         ],
         "name": "0.86"
        },
        {
         "data": [
          {
           "hovertemplate": "<b>%{hovertext}</b><br><br>threshold=0.87<br>TP=%{x}<br>TN=%{y}<br>FP=%{z}<extra></extra>",
           "hovertext": [
            0.87
           ],
           "legendgroup": "",
           "marker": {
            "color": "#636efa",
            "symbol": "circle"
           },
           "mode": "markers",
           "name": "",
           "scene": "scene",
           "showlegend": false,
           "type": "scatter3d",
           "x": [
            0.5703125
           ],
           "y": [
            0.3828125
           ],
           "z": [
            0
           ]
          }
         ],
         "name": "0.87"
        },
        {
         "data": [
          {
           "hovertemplate": "<b>%{hovertext}</b><br><br>threshold=0.88<br>TP=%{x}<br>TN=%{y}<br>FP=%{z}<extra></extra>",
           "hovertext": [
            0.88
           ],
           "legendgroup": "",
           "marker": {
            "color": "#636efa",
            "symbol": "circle"
           },
           "mode": "markers",
           "name": "",
           "scene": "scene",
           "showlegend": false,
           "type": "scatter3d",
           "x": [
            0.5703125
           ],
           "y": [
            0.3828125
           ],
           "z": [
            0
           ]
          }
         ],
         "name": "0.88"
        },
        {
         "data": [
          {
           "hovertemplate": "<b>%{hovertext}</b><br><br>threshold=0.89<br>TP=%{x}<br>TN=%{y}<br>FP=%{z}<extra></extra>",
           "hovertext": [
            0.89
           ],
           "legendgroup": "",
           "marker": {
            "color": "#636efa",
            "symbol": "circle"
           },
           "mode": "markers",
           "name": "",
           "scene": "scene",
           "showlegend": false,
           "type": "scatter3d",
           "x": [
            0.5625
           ],
           "y": [
            0.3828125
           ],
           "z": [
            0
           ]
          }
         ],
         "name": "0.89"
        },
        {
         "data": [
          {
           "hovertemplate": "<b>%{hovertext}</b><br><br>threshold=0.9<br>TP=%{x}<br>TN=%{y}<br>FP=%{z}<extra></extra>",
           "hovertext": [
            0.9
           ],
           "legendgroup": "",
           "marker": {
            "color": "#636efa",
            "symbol": "circle"
           },
           "mode": "markers",
           "name": "",
           "scene": "scene",
           "showlegend": false,
           "type": "scatter3d",
           "x": [
            0.5546875
           ],
           "y": [
            0.3828125
           ],
           "z": [
            0
           ]
          }
         ],
         "name": "0.9"
        },
        {
         "data": [
          {
           "hovertemplate": "<b>%{hovertext}</b><br><br>threshold=0.91<br>TP=%{x}<br>TN=%{y}<br>FP=%{z}<extra></extra>",
           "hovertext": [
            0.91
           ],
           "legendgroup": "",
           "marker": {
            "color": "#636efa",
            "symbol": "circle"
           },
           "mode": "markers",
           "name": "",
           "scene": "scene",
           "showlegend": false,
           "type": "scatter3d",
           "x": [
            0.5546875
           ],
           "y": [
            0.3828125
           ],
           "z": [
            0
           ]
          }
         ],
         "name": "0.91"
        },
        {
         "data": [
          {
           "hovertemplate": "<b>%{hovertext}</b><br><br>threshold=0.92<br>TP=%{x}<br>TN=%{y}<br>FP=%{z}<extra></extra>",
           "hovertext": [
            0.92
           ],
           "legendgroup": "",
           "marker": {
            "color": "#636efa",
            "symbol": "circle"
           },
           "mode": "markers",
           "name": "",
           "scene": "scene",
           "showlegend": false,
           "type": "scatter3d",
           "x": [
            0.5546875
           ],
           "y": [
            0.3828125
           ],
           "z": [
            0
           ]
          }
         ],
         "name": "0.92"
        },
        {
         "data": [
          {
           "hovertemplate": "<b>%{hovertext}</b><br><br>threshold=0.93<br>TP=%{x}<br>TN=%{y}<br>FP=%{z}<extra></extra>",
           "hovertext": [
            0.93
           ],
           "legendgroup": "",
           "marker": {
            "color": "#636efa",
            "symbol": "circle"
           },
           "mode": "markers",
           "name": "",
           "scene": "scene",
           "showlegend": false,
           "type": "scatter3d",
           "x": [
            0.546875
           ],
           "y": [
            0.3828125
           ],
           "z": [
            0
           ]
          }
         ],
         "name": "0.93"
        },
        {
         "data": [
          {
           "hovertemplate": "<b>%{hovertext}</b><br><br>threshold=0.94<br>TP=%{x}<br>TN=%{y}<br>FP=%{z}<extra></extra>",
           "hovertext": [
            0.94
           ],
           "legendgroup": "",
           "marker": {
            "color": "#636efa",
            "symbol": "circle"
           },
           "mode": "markers",
           "name": "",
           "scene": "scene",
           "showlegend": false,
           "type": "scatter3d",
           "x": [
            0.5390625
           ],
           "y": [
            0.3828125
           ],
           "z": [
            0
           ]
          }
         ],
         "name": "0.94"
        },
        {
         "data": [
          {
           "hovertemplate": "<b>%{hovertext}</b><br><br>threshold=0.95<br>TP=%{x}<br>TN=%{y}<br>FP=%{z}<extra></extra>",
           "hovertext": [
            0.95
           ],
           "legendgroup": "",
           "marker": {
            "color": "#636efa",
            "symbol": "circle"
           },
           "mode": "markers",
           "name": "",
           "scene": "scene",
           "showlegend": false,
           "type": "scatter3d",
           "x": [
            0.5234375
           ],
           "y": [
            0.3828125
           ],
           "z": [
            0
           ]
          }
         ],
         "name": "0.95"
        },
        {
         "data": [
          {
           "hovertemplate": "<b>%{hovertext}</b><br><br>threshold=0.96<br>TP=%{x}<br>TN=%{y}<br>FP=%{z}<extra></extra>",
           "hovertext": [
            0.96
           ],
           "legendgroup": "",
           "marker": {
            "color": "#636efa",
            "symbol": "circle"
           },
           "mode": "markers",
           "name": "",
           "scene": "scene",
           "showlegend": false,
           "type": "scatter3d",
           "x": [
            0.5078125
           ],
           "y": [
            0.3828125
           ],
           "z": [
            0
           ]
          }
         ],
         "name": "0.96"
        },
        {
         "data": [
          {
           "hovertemplate": "<b>%{hovertext}</b><br><br>threshold=0.97<br>TP=%{x}<br>TN=%{y}<br>FP=%{z}<extra></extra>",
           "hovertext": [
            0.97
           ],
           "legendgroup": "",
           "marker": {
            "color": "#636efa",
            "symbol": "circle"
           },
           "mode": "markers",
           "name": "",
           "scene": "scene",
           "showlegend": false,
           "type": "scatter3d",
           "x": [
            0.4765625
           ],
           "y": [
            0.3828125
           ],
           "z": [
            0
           ]
          }
         ],
         "name": "0.97"
        },
        {
         "data": [
          {
           "hovertemplate": "<b>%{hovertext}</b><br><br>threshold=0.98<br>TP=%{x}<br>TN=%{y}<br>FP=%{z}<extra></extra>",
           "hovertext": [
            0.98
           ],
           "legendgroup": "",
           "marker": {
            "color": "#636efa",
            "symbol": "circle"
           },
           "mode": "markers",
           "name": "",
           "scene": "scene",
           "showlegend": false,
           "type": "scatter3d",
           "x": [
            0.453125
           ],
           "y": [
            0.3828125
           ],
           "z": [
            0
           ]
          }
         ],
         "name": "0.98"
        },
        {
         "data": [
          {
           "hovertemplate": "<b>%{hovertext}</b><br><br>threshold=0.99<br>TP=%{x}<br>TN=%{y}<br>FP=%{z}<extra></extra>",
           "hovertext": [
            0.99
           ],
           "legendgroup": "",
           "marker": {
            "color": "#636efa",
            "symbol": "circle"
           },
           "mode": "markers",
           "name": "",
           "scene": "scene",
           "showlegend": false,
           "type": "scatter3d",
           "x": [
            0.421875
           ],
           "y": [
            0.3828125
           ],
           "z": [
            0
           ]
          }
         ],
         "name": "0.99"
        }
       ],
       "layout": {
        "legend": {
         "tracegroupgap": 0
        },
        "margin": {
         "t": 60
        },
        "scene": {
         "domain": {
          "x": [
           0,
           1
          ],
          "y": [
           0,
           1
          ]
         },
         "xaxis": {
          "range": [
           0,
           1
          ],
          "title": {
           "text": "TP"
          }
         },
         "yaxis": {
          "range": [
           0,
           1
          ],
          "title": {
           "text": "TN"
          }
         },
         "zaxis": {
          "range": [
           0,
           1
          ],
          "title": {
           "text": "FP"
          }
         }
        },
        "sliders": [
         {
          "active": 0,
          "currentvalue": {
           "prefix": "threshold="
          },
          "len": 0.9,
          "pad": {
           "b": 10,
           "t": 60
          },
          "steps": [
           {
            "args": [
             [
              "0.0"
             ],
             {
              "frame": {
               "duration": 0,
               "redraw": true
              },
              "fromcurrent": true,
              "mode": "immediate",
              "transition": {
               "duration": 0,
               "easing": "linear"
              }
             }
            ],
            "label": "0.0",
            "method": "animate"
           },
           {
            "args": [
             [
              "0.01"
             ],
             {
              "frame": {
               "duration": 0,
               "redraw": true
              },
              "fromcurrent": true,
              "mode": "immediate",
              "transition": {
               "duration": 0,
               "easing": "linear"
              }
             }
            ],
            "label": "0.01",
            "method": "animate"
           },
           {
            "args": [
             [
              "0.02"
             ],
             {
              "frame": {
               "duration": 0,
               "redraw": true
              },
              "fromcurrent": true,
              "mode": "immediate",
              "transition": {
               "duration": 0,
               "easing": "linear"
              }
             }
            ],
            "label": "0.02",
            "method": "animate"
           },
           {
            "args": [
             [
              "0.03"
             ],
             {
              "frame": {
               "duration": 0,
               "redraw": true
              },
              "fromcurrent": true,
              "mode": "immediate",
              "transition": {
               "duration": 0,
               "easing": "linear"
              }
             }
            ],
            "label": "0.03",
            "method": "animate"
           },
           {
            "args": [
             [
              "0.04"
             ],
             {
              "frame": {
               "duration": 0,
               "redraw": true
              },
              "fromcurrent": true,
              "mode": "immediate",
              "transition": {
               "duration": 0,
               "easing": "linear"
              }
             }
            ],
            "label": "0.04",
            "method": "animate"
           },
           {
            "args": [
             [
              "0.05"
             ],
             {
              "frame": {
               "duration": 0,
               "redraw": true
              },
              "fromcurrent": true,
              "mode": "immediate",
              "transition": {
               "duration": 0,
               "easing": "linear"
              }
             }
            ],
            "label": "0.05",
            "method": "animate"
           },
           {
            "args": [
             [
              "0.06"
             ],
             {
              "frame": {
               "duration": 0,
               "redraw": true
              },
              "fromcurrent": true,
              "mode": "immediate",
              "transition": {
               "duration": 0,
               "easing": "linear"
              }
             }
            ],
            "label": "0.06",
            "method": "animate"
           },
           {
            "args": [
             [
              "0.07"
             ],
             {
              "frame": {
               "duration": 0,
               "redraw": true
              },
              "fromcurrent": true,
              "mode": "immediate",
              "transition": {
               "duration": 0,
               "easing": "linear"
              }
             }
            ],
            "label": "0.07",
            "method": "animate"
           },
           {
            "args": [
             [
              "0.08"
             ],
             {
              "frame": {
               "duration": 0,
               "redraw": true
              },
              "fromcurrent": true,
              "mode": "immediate",
              "transition": {
               "duration": 0,
               "easing": "linear"
              }
             }
            ],
            "label": "0.08",
            "method": "animate"
           },
           {
            "args": [
             [
              "0.09"
             ],
             {
              "frame": {
               "duration": 0,
               "redraw": true
              },
              "fromcurrent": true,
              "mode": "immediate",
              "transition": {
               "duration": 0,
               "easing": "linear"
              }
             }
            ],
            "label": "0.09",
            "method": "animate"
           },
           {
            "args": [
             [
              "0.1"
             ],
             {
              "frame": {
               "duration": 0,
               "redraw": true
              },
              "fromcurrent": true,
              "mode": "immediate",
              "transition": {
               "duration": 0,
               "easing": "linear"
              }
             }
            ],
            "label": "0.1",
            "method": "animate"
           },
           {
            "args": [
             [
              "0.11"
             ],
             {
              "frame": {
               "duration": 0,
               "redraw": true
              },
              "fromcurrent": true,
              "mode": "immediate",
              "transition": {
               "duration": 0,
               "easing": "linear"
              }
             }
            ],
            "label": "0.11",
            "method": "animate"
           },
           {
            "args": [
             [
              "0.12"
             ],
             {
              "frame": {
               "duration": 0,
               "redraw": true
              },
              "fromcurrent": true,
              "mode": "immediate",
              "transition": {
               "duration": 0,
               "easing": "linear"
              }
             }
            ],
            "label": "0.12",
            "method": "animate"
           },
           {
            "args": [
             [
              "0.13"
             ],
             {
              "frame": {
               "duration": 0,
               "redraw": true
              },
              "fromcurrent": true,
              "mode": "immediate",
              "transition": {
               "duration": 0,
               "easing": "linear"
              }
             }
            ],
            "label": "0.13",
            "method": "animate"
           },
           {
            "args": [
             [
              "0.14"
             ],
             {
              "frame": {
               "duration": 0,
               "redraw": true
              },
              "fromcurrent": true,
              "mode": "immediate",
              "transition": {
               "duration": 0,
               "easing": "linear"
              }
             }
            ],
            "label": "0.14",
            "method": "animate"
           },
           {
            "args": [
             [
              "0.15"
             ],
             {
              "frame": {
               "duration": 0,
               "redraw": true
              },
              "fromcurrent": true,
              "mode": "immediate",
              "transition": {
               "duration": 0,
               "easing": "linear"
              }
             }
            ],
            "label": "0.15",
            "method": "animate"
           },
           {
            "args": [
             [
              "0.16"
             ],
             {
              "frame": {
               "duration": 0,
               "redraw": true
              },
              "fromcurrent": true,
              "mode": "immediate",
              "transition": {
               "duration": 0,
               "easing": "linear"
              }
             }
            ],
            "label": "0.16",
            "method": "animate"
           },
           {
            "args": [
             [
              "0.17"
             ],
             {
              "frame": {
               "duration": 0,
               "redraw": true
              },
              "fromcurrent": true,
              "mode": "immediate",
              "transition": {
               "duration": 0,
               "easing": "linear"
              }
             }
            ],
            "label": "0.17",
            "method": "animate"
           },
           {
            "args": [
             [
              "0.18"
             ],
             {
              "frame": {
               "duration": 0,
               "redraw": true
              },
              "fromcurrent": true,
              "mode": "immediate",
              "transition": {
               "duration": 0,
               "easing": "linear"
              }
             }
            ],
            "label": "0.18",
            "method": "animate"
           },
           {
            "args": [
             [
              "0.19"
             ],
             {
              "frame": {
               "duration": 0,
               "redraw": true
              },
              "fromcurrent": true,
              "mode": "immediate",
              "transition": {
               "duration": 0,
               "easing": "linear"
              }
             }
            ],
            "label": "0.19",
            "method": "animate"
           },
           {
            "args": [
             [
              "0.2"
             ],
             {
              "frame": {
               "duration": 0,
               "redraw": true
              },
              "fromcurrent": true,
              "mode": "immediate",
              "transition": {
               "duration": 0,
               "easing": "linear"
              }
             }
            ],
            "label": "0.2",
            "method": "animate"
           },
           {
            "args": [
             [
              "0.21"
             ],
             {
              "frame": {
               "duration": 0,
               "redraw": true
              },
              "fromcurrent": true,
              "mode": "immediate",
              "transition": {
               "duration": 0,
               "easing": "linear"
              }
             }
            ],
            "label": "0.21",
            "method": "animate"
           },
           {
            "args": [
             [
              "0.22"
             ],
             {
              "frame": {
               "duration": 0,
               "redraw": true
              },
              "fromcurrent": true,
              "mode": "immediate",
              "transition": {
               "duration": 0,
               "easing": "linear"
              }
             }
            ],
            "label": "0.22",
            "method": "animate"
           },
           {
            "args": [
             [
              "0.23"
             ],
             {
              "frame": {
               "duration": 0,
               "redraw": true
              },
              "fromcurrent": true,
              "mode": "immediate",
              "transition": {
               "duration": 0,
               "easing": "linear"
              }
             }
            ],
            "label": "0.23",
            "method": "animate"
           },
           {
            "args": [
             [
              "0.24"
             ],
             {
              "frame": {
               "duration": 0,
               "redraw": true
              },
              "fromcurrent": true,
              "mode": "immediate",
              "transition": {
               "duration": 0,
               "easing": "linear"
              }
             }
            ],
            "label": "0.24",
            "method": "animate"
           },
           {
            "args": [
             [
              "0.25"
             ],
             {
              "frame": {
               "duration": 0,
               "redraw": true
              },
              "fromcurrent": true,
              "mode": "immediate",
              "transition": {
               "duration": 0,
               "easing": "linear"
              }
             }
            ],
            "label": "0.25",
            "method": "animate"
           },
           {
            "args": [
             [
              "0.26"
             ],
             {
              "frame": {
               "duration": 0,
               "redraw": true
              },
              "fromcurrent": true,
              "mode": "immediate",
              "transition": {
               "duration": 0,
               "easing": "linear"
              }
             }
            ],
            "label": "0.26",
            "method": "animate"
           },
           {
            "args": [
             [
              "0.27"
             ],
             {
              "frame": {
               "duration": 0,
               "redraw": true
              },
              "fromcurrent": true,
              "mode": "immediate",
              "transition": {
               "duration": 0,
               "easing": "linear"
              }
             }
            ],
            "label": "0.27",
            "method": "animate"
           },
           {
            "args": [
             [
              "0.28"
             ],
             {
              "frame": {
               "duration": 0,
               "redraw": true
              },
              "fromcurrent": true,
              "mode": "immediate",
              "transition": {
               "duration": 0,
               "easing": "linear"
              }
             }
            ],
            "label": "0.28",
            "method": "animate"
           },
           {
            "args": [
             [
              "0.29"
             ],
             {
              "frame": {
               "duration": 0,
               "redraw": true
              },
              "fromcurrent": true,
              "mode": "immediate",
              "transition": {
               "duration": 0,
               "easing": "linear"
              }
             }
            ],
            "label": "0.29",
            "method": "animate"
           },
           {
            "args": [
             [
              "0.3"
             ],
             {
              "frame": {
               "duration": 0,
               "redraw": true
              },
              "fromcurrent": true,
              "mode": "immediate",
              "transition": {
               "duration": 0,
               "easing": "linear"
              }
             }
            ],
            "label": "0.3",
            "method": "animate"
           },
           {
            "args": [
             [
              "0.31"
             ],
             {
              "frame": {
               "duration": 0,
               "redraw": true
              },
              "fromcurrent": true,
              "mode": "immediate",
              "transition": {
               "duration": 0,
               "easing": "linear"
              }
             }
            ],
            "label": "0.31",
            "method": "animate"
           },
           {
            "args": [
             [
              "0.32"
             ],
             {
              "frame": {
               "duration": 0,
               "redraw": true
              },
              "fromcurrent": true,
              "mode": "immediate",
              "transition": {
               "duration": 0,
               "easing": "linear"
              }
             }
            ],
            "label": "0.32",
            "method": "animate"
           },
           {
            "args": [
             [
              "0.33"
             ],
             {
              "frame": {
               "duration": 0,
               "redraw": true
              },
              "fromcurrent": true,
              "mode": "immediate",
              "transition": {
               "duration": 0,
               "easing": "linear"
              }
             }
            ],
            "label": "0.33",
            "method": "animate"
           },
           {
            "args": [
             [
              "0.34"
             ],
             {
              "frame": {
               "duration": 0,
               "redraw": true
              },
              "fromcurrent": true,
              "mode": "immediate",
              "transition": {
               "duration": 0,
               "easing": "linear"
              }
             }
            ],
            "label": "0.34",
            "method": "animate"
           },
           {
            "args": [
             [
              "0.35"
             ],
             {
              "frame": {
               "duration": 0,
               "redraw": true
              },
              "fromcurrent": true,
              "mode": "immediate",
              "transition": {
               "duration": 0,
               "easing": "linear"
              }
             }
            ],
            "label": "0.35",
            "method": "animate"
           },
           {
            "args": [
             [
              "0.36"
             ],
             {
              "frame": {
               "duration": 0,
               "redraw": true
              },
              "fromcurrent": true,
              "mode": "immediate",
              "transition": {
               "duration": 0,
               "easing": "linear"
              }
             }
            ],
            "label": "0.36",
            "method": "animate"
           },
           {
            "args": [
             [
              "0.37"
             ],
             {
              "frame": {
               "duration": 0,
               "redraw": true
              },
              "fromcurrent": true,
              "mode": "immediate",
              "transition": {
               "duration": 0,
               "easing": "linear"
              }
             }
            ],
            "label": "0.37",
            "method": "animate"
           },
           {
            "args": [
             [
              "0.38"
             ],
             {
              "frame": {
               "duration": 0,
               "redraw": true
              },
              "fromcurrent": true,
              "mode": "immediate",
              "transition": {
               "duration": 0,
               "easing": "linear"
              }
             }
            ],
            "label": "0.38",
            "method": "animate"
           },
           {
            "args": [
             [
              "0.39"
             ],
             {
              "frame": {
               "duration": 0,
               "redraw": true
              },
              "fromcurrent": true,
              "mode": "immediate",
              "transition": {
               "duration": 0,
               "easing": "linear"
              }
             }
            ],
            "label": "0.39",
            "method": "animate"
           },
           {
            "args": [
             [
              "0.4"
             ],
             {
              "frame": {
               "duration": 0,
               "redraw": true
              },
              "fromcurrent": true,
              "mode": "immediate",
              "transition": {
               "duration": 0,
               "easing": "linear"
              }
             }
            ],
            "label": "0.4",
            "method": "animate"
           },
           {
            "args": [
             [
              "0.41"
             ],
             {
              "frame": {
               "duration": 0,
               "redraw": true
              },
              "fromcurrent": true,
              "mode": "immediate",
              "transition": {
               "duration": 0,
               "easing": "linear"
              }
             }
            ],
            "label": "0.41",
            "method": "animate"
           },
           {
            "args": [
             [
              "0.42"
             ],
             {
              "frame": {
               "duration": 0,
               "redraw": true
              },
              "fromcurrent": true,
              "mode": "immediate",
              "transition": {
               "duration": 0,
               "easing": "linear"
              }
             }
            ],
            "label": "0.42",
            "method": "animate"
           },
           {
            "args": [
             [
              "0.43"
             ],
             {
              "frame": {
               "duration": 0,
               "redraw": true
              },
              "fromcurrent": true,
              "mode": "immediate",
              "transition": {
               "duration": 0,
               "easing": "linear"
              }
             }
            ],
            "label": "0.43",
            "method": "animate"
           },
           {
            "args": [
             [
              "0.44"
             ],
             {
              "frame": {
               "duration": 0,
               "redraw": true
              },
              "fromcurrent": true,
              "mode": "immediate",
              "transition": {
               "duration": 0,
               "easing": "linear"
              }
             }
            ],
            "label": "0.44",
            "method": "animate"
           },
           {
            "args": [
             [
              "0.45"
             ],
             {
              "frame": {
               "duration": 0,
               "redraw": true
              },
              "fromcurrent": true,
              "mode": "immediate",
              "transition": {
               "duration": 0,
               "easing": "linear"
              }
             }
            ],
            "label": "0.45",
            "method": "animate"
           },
           {
            "args": [
             [
              "0.46"
             ],
             {
              "frame": {
               "duration": 0,
               "redraw": true
              },
              "fromcurrent": true,
              "mode": "immediate",
              "transition": {
               "duration": 0,
               "easing": "linear"
              }
             }
            ],
            "label": "0.46",
            "method": "animate"
           },
           {
            "args": [
             [
              "0.47"
             ],
             {
              "frame": {
               "duration": 0,
               "redraw": true
              },
              "fromcurrent": true,
              "mode": "immediate",
              "transition": {
               "duration": 0,
               "easing": "linear"
              }
             }
            ],
            "label": "0.47",
            "method": "animate"
           },
           {
            "args": [
             [
              "0.48"
             ],
             {
              "frame": {
               "duration": 0,
               "redraw": true
              },
              "fromcurrent": true,
              "mode": "immediate",
              "transition": {
               "duration": 0,
               "easing": "linear"
              }
             }
            ],
            "label": "0.48",
            "method": "animate"
           },
           {
            "args": [
             [
              "0.49"
             ],
             {
              "frame": {
               "duration": 0,
               "redraw": true
              },
              "fromcurrent": true,
              "mode": "immediate",
              "transition": {
               "duration": 0,
               "easing": "linear"
              }
             }
            ],
            "label": "0.49",
            "method": "animate"
           },
           {
            "args": [
             [
              "0.5"
             ],
             {
              "frame": {
               "duration": 0,
               "redraw": true
              },
              "fromcurrent": true,
              "mode": "immediate",
              "transition": {
               "duration": 0,
               "easing": "linear"
              }
             }
            ],
            "label": "0.5",
            "method": "animate"
           },
           {
            "args": [
             [
              "0.51"
             ],
             {
              "frame": {
               "duration": 0,
               "redraw": true
              },
              "fromcurrent": true,
              "mode": "immediate",
              "transition": {
               "duration": 0,
               "easing": "linear"
              }
             }
            ],
            "label": "0.51",
            "method": "animate"
           },
           {
            "args": [
             [
              "0.52"
             ],
             {
              "frame": {
               "duration": 0,
               "redraw": true
              },
              "fromcurrent": true,
              "mode": "immediate",
              "transition": {
               "duration": 0,
               "easing": "linear"
              }
             }
            ],
            "label": "0.52",
            "method": "animate"
           },
           {
            "args": [
             [
              "0.53"
             ],
             {
              "frame": {
               "duration": 0,
               "redraw": true
              },
              "fromcurrent": true,
              "mode": "immediate",
              "transition": {
               "duration": 0,
               "easing": "linear"
              }
             }
            ],
            "label": "0.53",
            "method": "animate"
           },
           {
            "args": [
             [
              "0.54"
             ],
             {
              "frame": {
               "duration": 0,
               "redraw": true
              },
              "fromcurrent": true,
              "mode": "immediate",
              "transition": {
               "duration": 0,
               "easing": "linear"
              }
             }
            ],
            "label": "0.54",
            "method": "animate"
           },
           {
            "args": [
             [
              "0.55"
             ],
             {
              "frame": {
               "duration": 0,
               "redraw": true
              },
              "fromcurrent": true,
              "mode": "immediate",
              "transition": {
               "duration": 0,
               "easing": "linear"
              }
             }
            ],
            "label": "0.55",
            "method": "animate"
           },
           {
            "args": [
             [
              "0.56"
             ],
             {
              "frame": {
               "duration": 0,
               "redraw": true
              },
              "fromcurrent": true,
              "mode": "immediate",
              "transition": {
               "duration": 0,
               "easing": "linear"
              }
             }
            ],
            "label": "0.56",
            "method": "animate"
           },
           {
            "args": [
             [
              "0.57"
             ],
             {
              "frame": {
               "duration": 0,
               "redraw": true
              },
              "fromcurrent": true,
              "mode": "immediate",
              "transition": {
               "duration": 0,
               "easing": "linear"
              }
             }
            ],
            "label": "0.57",
            "method": "animate"
           },
           {
            "args": [
             [
              "0.58"
             ],
             {
              "frame": {
               "duration": 0,
               "redraw": true
              },
              "fromcurrent": true,
              "mode": "immediate",
              "transition": {
               "duration": 0,
               "easing": "linear"
              }
             }
            ],
            "label": "0.58",
            "method": "animate"
           },
           {
            "args": [
             [
              "0.59"
             ],
             {
              "frame": {
               "duration": 0,
               "redraw": true
              },
              "fromcurrent": true,
              "mode": "immediate",
              "transition": {
               "duration": 0,
               "easing": "linear"
              }
             }
            ],
            "label": "0.59",
            "method": "animate"
           },
           {
            "args": [
             [
              "0.6"
             ],
             {
              "frame": {
               "duration": 0,
               "redraw": true
              },
              "fromcurrent": true,
              "mode": "immediate",
              "transition": {
               "duration": 0,
               "easing": "linear"
              }
             }
            ],
            "label": "0.6",
            "method": "animate"
           },
           {
            "args": [
             [
              "0.61"
             ],
             {
              "frame": {
               "duration": 0,
               "redraw": true
              },
              "fromcurrent": true,
              "mode": "immediate",
              "transition": {
               "duration": 0,
               "easing": "linear"
              }
             }
            ],
            "label": "0.61",
            "method": "animate"
           },
           {
            "args": [
             [
              "0.62"
             ],
             {
              "frame": {
               "duration": 0,
               "redraw": true
              },
              "fromcurrent": true,
              "mode": "immediate",
              "transition": {
               "duration": 0,
               "easing": "linear"
              }
             }
            ],
            "label": "0.62",
            "method": "animate"
           },
           {
            "args": [
             [
              "0.63"
             ],
             {
              "frame": {
               "duration": 0,
               "redraw": true
              },
              "fromcurrent": true,
              "mode": "immediate",
              "transition": {
               "duration": 0,
               "easing": "linear"
              }
             }
            ],
            "label": "0.63",
            "method": "animate"
           },
           {
            "args": [
             [
              "0.64"
             ],
             {
              "frame": {
               "duration": 0,
               "redraw": true
              },
              "fromcurrent": true,
              "mode": "immediate",
              "transition": {
               "duration": 0,
               "easing": "linear"
              }
             }
            ],
            "label": "0.64",
            "method": "animate"
           },
           {
            "args": [
             [
              "0.65"
             ],
             {
              "frame": {
               "duration": 0,
               "redraw": true
              },
              "fromcurrent": true,
              "mode": "immediate",
              "transition": {
               "duration": 0,
               "easing": "linear"
              }
             }
            ],
            "label": "0.65",
            "method": "animate"
           },
           {
            "args": [
             [
              "0.66"
             ],
             {
              "frame": {
               "duration": 0,
               "redraw": true
              },
              "fromcurrent": true,
              "mode": "immediate",
              "transition": {
               "duration": 0,
               "easing": "linear"
              }
             }
            ],
            "label": "0.66",
            "method": "animate"
           },
           {
            "args": [
             [
              "0.67"
             ],
             {
              "frame": {
               "duration": 0,
               "redraw": true
              },
              "fromcurrent": true,
              "mode": "immediate",
              "transition": {
               "duration": 0,
               "easing": "linear"
              }
             }
            ],
            "label": "0.67",
            "method": "animate"
           },
           {
            "args": [
             [
              "0.68"
             ],
             {
              "frame": {
               "duration": 0,
               "redraw": true
              },
              "fromcurrent": true,
              "mode": "immediate",
              "transition": {
               "duration": 0,
               "easing": "linear"
              }
             }
            ],
            "label": "0.68",
            "method": "animate"
           },
           {
            "args": [
             [
              "0.69"
             ],
             {
              "frame": {
               "duration": 0,
               "redraw": true
              },
              "fromcurrent": true,
              "mode": "immediate",
              "transition": {
               "duration": 0,
               "easing": "linear"
              }
             }
            ],
            "label": "0.69",
            "method": "animate"
           },
           {
            "args": [
             [
              "0.7"
             ],
             {
              "frame": {
               "duration": 0,
               "redraw": true
              },
              "fromcurrent": true,
              "mode": "immediate",
              "transition": {
               "duration": 0,
               "easing": "linear"
              }
             }
            ],
            "label": "0.7",
            "method": "animate"
           },
           {
            "args": [
             [
              "0.71"
             ],
             {
              "frame": {
               "duration": 0,
               "redraw": true
              },
              "fromcurrent": true,
              "mode": "immediate",
              "transition": {
               "duration": 0,
               "easing": "linear"
              }
             }
            ],
            "label": "0.71",
            "method": "animate"
           },
           {
            "args": [
             [
              "0.72"
             ],
             {
              "frame": {
               "duration": 0,
               "redraw": true
              },
              "fromcurrent": true,
              "mode": "immediate",
              "transition": {
               "duration": 0,
               "easing": "linear"
              }
             }
            ],
            "label": "0.72",
            "method": "animate"
           },
           {
            "args": [
             [
              "0.73"
             ],
             {
              "frame": {
               "duration": 0,
               "redraw": true
              },
              "fromcurrent": true,
              "mode": "immediate",
              "transition": {
               "duration": 0,
               "easing": "linear"
              }
             }
            ],
            "label": "0.73",
            "method": "animate"
           },
           {
            "args": [
             [
              "0.74"
             ],
             {
              "frame": {
               "duration": 0,
               "redraw": true
              },
              "fromcurrent": true,
              "mode": "immediate",
              "transition": {
               "duration": 0,
               "easing": "linear"
              }
             }
            ],
            "label": "0.74",
            "method": "animate"
           },
           {
            "args": [
             [
              "0.75"
             ],
             {
              "frame": {
               "duration": 0,
               "redraw": true
              },
              "fromcurrent": true,
              "mode": "immediate",
              "transition": {
               "duration": 0,
               "easing": "linear"
              }
             }
            ],
            "label": "0.75",
            "method": "animate"
           },
           {
            "args": [
             [
              "0.76"
             ],
             {
              "frame": {
               "duration": 0,
               "redraw": true
              },
              "fromcurrent": true,
              "mode": "immediate",
              "transition": {
               "duration": 0,
               "easing": "linear"
              }
             }
            ],
            "label": "0.76",
            "method": "animate"
           },
           {
            "args": [
             [
              "0.77"
             ],
             {
              "frame": {
               "duration": 0,
               "redraw": true
              },
              "fromcurrent": true,
              "mode": "immediate",
              "transition": {
               "duration": 0,
               "easing": "linear"
              }
             }
            ],
            "label": "0.77",
            "method": "animate"
           },
           {
            "args": [
             [
              "0.78"
             ],
             {
              "frame": {
               "duration": 0,
               "redraw": true
              },
              "fromcurrent": true,
              "mode": "immediate",
              "transition": {
               "duration": 0,
               "easing": "linear"
              }
             }
            ],
            "label": "0.78",
            "method": "animate"
           },
           {
            "args": [
             [
              "0.79"
             ],
             {
              "frame": {
               "duration": 0,
               "redraw": true
              },
              "fromcurrent": true,
              "mode": "immediate",
              "transition": {
               "duration": 0,
               "easing": "linear"
              }
             }
            ],
            "label": "0.79",
            "method": "animate"
           },
           {
            "args": [
             [
              "0.8"
             ],
             {
              "frame": {
               "duration": 0,
               "redraw": true
              },
              "fromcurrent": true,
              "mode": "immediate",
              "transition": {
               "duration": 0,
               "easing": "linear"
              }
             }
            ],
            "label": "0.8",
            "method": "animate"
           },
           {
            "args": [
             [
              "0.81"
             ],
             {
              "frame": {
               "duration": 0,
               "redraw": true
              },
              "fromcurrent": true,
              "mode": "immediate",
              "transition": {
               "duration": 0,
               "easing": "linear"
              }
             }
            ],
            "label": "0.81",
            "method": "animate"
           },
           {
            "args": [
             [
              "0.82"
             ],
             {
              "frame": {
               "duration": 0,
               "redraw": true
              },
              "fromcurrent": true,
              "mode": "immediate",
              "transition": {
               "duration": 0,
               "easing": "linear"
              }
             }
            ],
            "label": "0.82",
            "method": "animate"
           },
           {
            "args": [
             [
              "0.83"
             ],
             {
              "frame": {
               "duration": 0,
               "redraw": true
              },
              "fromcurrent": true,
              "mode": "immediate",
              "transition": {
               "duration": 0,
               "easing": "linear"
              }
             }
            ],
            "label": "0.83",
            "method": "animate"
           },
           {
            "args": [
             [
              "0.84"
             ],
             {
              "frame": {
               "duration": 0,
               "redraw": true
              },
              "fromcurrent": true,
              "mode": "immediate",
              "transition": {
               "duration": 0,
               "easing": "linear"
              }
             }
            ],
            "label": "0.84",
            "method": "animate"
           },
           {
            "args": [
             [
              "0.85"
             ],
             {
              "frame": {
               "duration": 0,
               "redraw": true
              },
              "fromcurrent": true,
              "mode": "immediate",
              "transition": {
               "duration": 0,
               "easing": "linear"
              }
             }
            ],
            "label": "0.85",
            "method": "animate"
           },
           {
            "args": [
             [
              "0.86"
             ],
             {
              "frame": {
               "duration": 0,
               "redraw": true
              },
              "fromcurrent": true,
              "mode": "immediate",
              "transition": {
               "duration": 0,
               "easing": "linear"
              }
             }
            ],
            "label": "0.86",
            "method": "animate"
           },
           {
            "args": [
             [
              "0.87"
             ],
             {
              "frame": {
               "duration": 0,
               "redraw": true
              },
              "fromcurrent": true,
              "mode": "immediate",
              "transition": {
               "duration": 0,
               "easing": "linear"
              }
             }
            ],
            "label": "0.87",
            "method": "animate"
           },
           {
            "args": [
             [
              "0.88"
             ],
             {
              "frame": {
               "duration": 0,
               "redraw": true
              },
              "fromcurrent": true,
              "mode": "immediate",
              "transition": {
               "duration": 0,
               "easing": "linear"
              }
             }
            ],
            "label": "0.88",
            "method": "animate"
           },
           {
            "args": [
             [
              "0.89"
             ],
             {
              "frame": {
               "duration": 0,
               "redraw": true
              },
              "fromcurrent": true,
              "mode": "immediate",
              "transition": {
               "duration": 0,
               "easing": "linear"
              }
             }
            ],
            "label": "0.89",
            "method": "animate"
           },
           {
            "args": [
             [
              "0.9"
             ],
             {
              "frame": {
               "duration": 0,
               "redraw": true
              },
              "fromcurrent": true,
              "mode": "immediate",
              "transition": {
               "duration": 0,
               "easing": "linear"
              }
             }
            ],
            "label": "0.9",
            "method": "animate"
           },
           {
            "args": [
             [
              "0.91"
             ],
             {
              "frame": {
               "duration": 0,
               "redraw": true
              },
              "fromcurrent": true,
              "mode": "immediate",
              "transition": {
               "duration": 0,
               "easing": "linear"
              }
             }
            ],
            "label": "0.91",
            "method": "animate"
           },
           {
            "args": [
             [
              "0.92"
             ],
             {
              "frame": {
               "duration": 0,
               "redraw": true
              },
              "fromcurrent": true,
              "mode": "immediate",
              "transition": {
               "duration": 0,
               "easing": "linear"
              }
             }
            ],
            "label": "0.92",
            "method": "animate"
           },
           {
            "args": [
             [
              "0.93"
             ],
             {
              "frame": {
               "duration": 0,
               "redraw": true
              },
              "fromcurrent": true,
              "mode": "immediate",
              "transition": {
               "duration": 0,
               "easing": "linear"
              }
             }
            ],
            "label": "0.93",
            "method": "animate"
           },
           {
            "args": [
             [
              "0.94"
             ],
             {
              "frame": {
               "duration": 0,
               "redraw": true
              },
              "fromcurrent": true,
              "mode": "immediate",
              "transition": {
               "duration": 0,
               "easing": "linear"
              }
             }
            ],
            "label": "0.94",
            "method": "animate"
           },
           {
            "args": [
             [
              "0.95"
             ],
             {
              "frame": {
               "duration": 0,
               "redraw": true
              },
              "fromcurrent": true,
              "mode": "immediate",
              "transition": {
               "duration": 0,
               "easing": "linear"
              }
             }
            ],
            "label": "0.95",
            "method": "animate"
           },
           {
            "args": [
             [
              "0.96"
             ],
             {
              "frame": {
               "duration": 0,
               "redraw": true
              },
              "fromcurrent": true,
              "mode": "immediate",
              "transition": {
               "duration": 0,
               "easing": "linear"
              }
             }
            ],
            "label": "0.96",
            "method": "animate"
           },
           {
            "args": [
             [
              "0.97"
             ],
             {
              "frame": {
               "duration": 0,
               "redraw": true
              },
              "fromcurrent": true,
              "mode": "immediate",
              "transition": {
               "duration": 0,
               "easing": "linear"
              }
             }
            ],
            "label": "0.97",
            "method": "animate"
           },
           {
            "args": [
             [
              "0.98"
             ],
             {
              "frame": {
               "duration": 0,
               "redraw": true
              },
              "fromcurrent": true,
              "mode": "immediate",
              "transition": {
               "duration": 0,
               "easing": "linear"
              }
             }
            ],
            "label": "0.98",
            "method": "animate"
           },
           {
            "args": [
             [
              "0.99"
             ],
             {
              "frame": {
               "duration": 0,
               "redraw": true
              },
              "fromcurrent": true,
              "mode": "immediate",
              "transition": {
               "duration": 0,
               "easing": "linear"
              }
             }
            ],
            "label": "0.99",
            "method": "animate"
           }
          ],
          "x": 0.1,
          "xanchor": "left",
          "y": 0,
          "yanchor": "top"
         }
        ],
        "template": {
         "data": {
          "bar": [
           {
            "error_x": {
             "color": "#2a3f5f"
            },
            "error_y": {
             "color": "#2a3f5f"
            },
            "marker": {
             "line": {
              "color": "#E5ECF6",
              "width": 0.5
             },
             "pattern": {
              "fillmode": "overlay",
              "size": 10,
              "solidity": 0.2
             }
            },
            "type": "bar"
           }
          ],
          "barpolar": [
           {
            "marker": {
             "line": {
              "color": "#E5ECF6",
              "width": 0.5
             },
             "pattern": {
              "fillmode": "overlay",
              "size": 10,
              "solidity": 0.2
             }
            },
            "type": "barpolar"
           }
          ],
          "carpet": [
           {
            "aaxis": {
             "endlinecolor": "#2a3f5f",
             "gridcolor": "white",
             "linecolor": "white",
             "minorgridcolor": "white",
             "startlinecolor": "#2a3f5f"
            },
            "baxis": {
             "endlinecolor": "#2a3f5f",
             "gridcolor": "white",
             "linecolor": "white",
             "minorgridcolor": "white",
             "startlinecolor": "#2a3f5f"
            },
            "type": "carpet"
           }
          ],
          "choropleth": [
           {
            "colorbar": {
             "outlinewidth": 0,
             "ticks": ""
            },
            "type": "choropleth"
           }
          ],
          "contour": [
           {
            "colorbar": {
             "outlinewidth": 0,
             "ticks": ""
            },
            "colorscale": [
             [
              0,
              "#0d0887"
             ],
             [
              0.1111111111111111,
              "#46039f"
             ],
             [
              0.2222222222222222,
              "#7201a8"
             ],
             [
              0.3333333333333333,
              "#9c179e"
             ],
             [
              0.4444444444444444,
              "#bd3786"
             ],
             [
              0.5555555555555556,
              "#d8576b"
             ],
             [
              0.6666666666666666,
              "#ed7953"
             ],
             [
              0.7777777777777778,
              "#fb9f3a"
             ],
             [
              0.8888888888888888,
              "#fdca26"
             ],
             [
              1,
              "#f0f921"
             ]
            ],
            "type": "contour"
           }
          ],
          "contourcarpet": [
           {
            "colorbar": {
             "outlinewidth": 0,
             "ticks": ""
            },
            "type": "contourcarpet"
           }
          ],
          "heatmap": [
           {
            "colorbar": {
             "outlinewidth": 0,
             "ticks": ""
            },
            "colorscale": [
             [
              0,
              "#0d0887"
             ],
             [
              0.1111111111111111,
              "#46039f"
             ],
             [
              0.2222222222222222,
              "#7201a8"
             ],
             [
              0.3333333333333333,
              "#9c179e"
             ],
             [
              0.4444444444444444,
              "#bd3786"
             ],
             [
              0.5555555555555556,
              "#d8576b"
             ],
             [
              0.6666666666666666,
              "#ed7953"
             ],
             [
              0.7777777777777778,
              "#fb9f3a"
             ],
             [
              0.8888888888888888,
              "#fdca26"
             ],
             [
              1,
              "#f0f921"
             ]
            ],
            "type": "heatmap"
           }
          ],
          "heatmapgl": [
           {
            "colorbar": {
             "outlinewidth": 0,
             "ticks": ""
            },
            "colorscale": [
             [
              0,
              "#0d0887"
             ],
             [
              0.1111111111111111,
              "#46039f"
             ],
             [
              0.2222222222222222,
              "#7201a8"
             ],
             [
              0.3333333333333333,
              "#9c179e"
             ],
             [
              0.4444444444444444,
              "#bd3786"
             ],
             [
              0.5555555555555556,
              "#d8576b"
             ],
             [
              0.6666666666666666,
              "#ed7953"
             ],
             [
              0.7777777777777778,
              "#fb9f3a"
             ],
             [
              0.8888888888888888,
              "#fdca26"
             ],
             [
              1,
              "#f0f921"
             ]
            ],
            "type": "heatmapgl"
           }
          ],
          "histogram": [
           {
            "marker": {
             "pattern": {
              "fillmode": "overlay",
              "size": 10,
              "solidity": 0.2
             }
            },
            "type": "histogram"
           }
          ],
          "histogram2d": [
           {
            "colorbar": {
             "outlinewidth": 0,
             "ticks": ""
            },
            "colorscale": [
             [
              0,
              "#0d0887"
             ],
             [
              0.1111111111111111,
              "#46039f"
             ],
             [
              0.2222222222222222,
              "#7201a8"
             ],
             [
              0.3333333333333333,
              "#9c179e"
             ],
             [
              0.4444444444444444,
              "#bd3786"
             ],
             [
              0.5555555555555556,
              "#d8576b"
             ],
             [
              0.6666666666666666,
              "#ed7953"
             ],
             [
              0.7777777777777778,
              "#fb9f3a"
             ],
             [
              0.8888888888888888,
              "#fdca26"
             ],
             [
              1,
              "#f0f921"
             ]
            ],
            "type": "histogram2d"
           }
          ],
          "histogram2dcontour": [
           {
            "colorbar": {
             "outlinewidth": 0,
             "ticks": ""
            },
            "colorscale": [
             [
              0,
              "#0d0887"
             ],
             [
              0.1111111111111111,
              "#46039f"
             ],
             [
              0.2222222222222222,
              "#7201a8"
             ],
             [
              0.3333333333333333,
              "#9c179e"
             ],
             [
              0.4444444444444444,
              "#bd3786"
             ],
             [
              0.5555555555555556,
              "#d8576b"
             ],
             [
              0.6666666666666666,
              "#ed7953"
             ],
             [
              0.7777777777777778,
              "#fb9f3a"
             ],
             [
              0.8888888888888888,
              "#fdca26"
             ],
             [
              1,
              "#f0f921"
             ]
            ],
            "type": "histogram2dcontour"
           }
          ],
          "mesh3d": [
           {
            "colorbar": {
             "outlinewidth": 0,
             "ticks": ""
            },
            "type": "mesh3d"
           }
          ],
          "parcoords": [
           {
            "line": {
             "colorbar": {
              "outlinewidth": 0,
              "ticks": ""
             }
            },
            "type": "parcoords"
           }
          ],
          "pie": [
           {
            "automargin": true,
            "type": "pie"
           }
          ],
          "scatter": [
           {
            "marker": {
             "colorbar": {
              "outlinewidth": 0,
              "ticks": ""
             }
            },
            "type": "scatter"
           }
          ],
          "scatter3d": [
           {
            "line": {
             "colorbar": {
              "outlinewidth": 0,
              "ticks": ""
             }
            },
            "marker": {
             "colorbar": {
              "outlinewidth": 0,
              "ticks": ""
             }
            },
            "type": "scatter3d"
           }
          ],
          "scattercarpet": [
           {
            "marker": {
             "colorbar": {
              "outlinewidth": 0,
              "ticks": ""
             }
            },
            "type": "scattercarpet"
           }
          ],
          "scattergeo": [
           {
            "marker": {
             "colorbar": {
              "outlinewidth": 0,
              "ticks": ""
             }
            },
            "type": "scattergeo"
           }
          ],
          "scattergl": [
           {
            "marker": {
             "colorbar": {
              "outlinewidth": 0,
              "ticks": ""
             }
            },
            "type": "scattergl"
           }
          ],
          "scattermapbox": [
           {
            "marker": {
             "colorbar": {
              "outlinewidth": 0,
              "ticks": ""
             }
            },
            "type": "scattermapbox"
           }
          ],
          "scatterpolar": [
           {
            "marker": {
             "colorbar": {
              "outlinewidth": 0,
              "ticks": ""
             }
            },
            "type": "scatterpolar"
           }
          ],
          "scatterpolargl": [
           {
            "marker": {
             "colorbar": {
              "outlinewidth": 0,
              "ticks": ""
             }
            },
            "type": "scatterpolargl"
           }
          ],
          "scatterternary": [
           {
            "marker": {
             "colorbar": {
              "outlinewidth": 0,
              "ticks": ""
             }
            },
            "type": "scatterternary"
           }
          ],
          "surface": [
           {
            "colorbar": {
             "outlinewidth": 0,
             "ticks": ""
            },
            "colorscale": [
             [
              0,
              "#0d0887"
             ],
             [
              0.1111111111111111,
              "#46039f"
             ],
             [
              0.2222222222222222,
              "#7201a8"
             ],
             [
              0.3333333333333333,
              "#9c179e"
             ],
             [
              0.4444444444444444,
              "#bd3786"
             ],
             [
              0.5555555555555556,
              "#d8576b"
             ],
             [
              0.6666666666666666,
              "#ed7953"
             ],
             [
              0.7777777777777778,
              "#fb9f3a"
             ],
             [
              0.8888888888888888,
              "#fdca26"
             ],
             [
              1,
              "#f0f921"
             ]
            ],
            "type": "surface"
           }
          ],
          "table": [
           {
            "cells": {
             "fill": {
              "color": "#EBF0F8"
             },
             "line": {
              "color": "white"
             }
            },
            "header": {
             "fill": {
              "color": "#C8D4E3"
             },
             "line": {
              "color": "white"
             }
            },
            "type": "table"
           }
          ]
         },
         "layout": {
          "annotationdefaults": {
           "arrowcolor": "#2a3f5f",
           "arrowhead": 0,
           "arrowwidth": 1
          },
          "autotypenumbers": "strict",
          "coloraxis": {
           "colorbar": {
            "outlinewidth": 0,
            "ticks": ""
           }
          },
          "colorscale": {
           "diverging": [
            [
             0,
             "#8e0152"
            ],
            [
             0.1,
             "#c51b7d"
            ],
            [
             0.2,
             "#de77ae"
            ],
            [
             0.3,
             "#f1b6da"
            ],
            [
             0.4,
             "#fde0ef"
            ],
            [
             0.5,
             "#f7f7f7"
            ],
            [
             0.6,
             "#e6f5d0"
            ],
            [
             0.7,
             "#b8e186"
            ],
            [
             0.8,
             "#7fbc41"
            ],
            [
             0.9,
             "#4d9221"
            ],
            [
             1,
             "#276419"
            ]
           ],
           "sequential": [
            [
             0,
             "#0d0887"
            ],
            [
             0.1111111111111111,
             "#46039f"
            ],
            [
             0.2222222222222222,
             "#7201a8"
            ],
            [
             0.3333333333333333,
             "#9c179e"
            ],
            [
             0.4444444444444444,
             "#bd3786"
            ],
            [
             0.5555555555555556,
             "#d8576b"
            ],
            [
             0.6666666666666666,
             "#ed7953"
            ],
            [
             0.7777777777777778,
             "#fb9f3a"
            ],
            [
             0.8888888888888888,
             "#fdca26"
            ],
            [
             1,
             "#f0f921"
            ]
           ],
           "sequentialminus": [
            [
             0,
             "#0d0887"
            ],
            [
             0.1111111111111111,
             "#46039f"
            ],
            [
             0.2222222222222222,
             "#7201a8"
            ],
            [
             0.3333333333333333,
             "#9c179e"
            ],
            [
             0.4444444444444444,
             "#bd3786"
            ],
            [
             0.5555555555555556,
             "#d8576b"
            ],
            [
             0.6666666666666666,
             "#ed7953"
            ],
            [
             0.7777777777777778,
             "#fb9f3a"
            ],
            [
             0.8888888888888888,
             "#fdca26"
            ],
            [
             1,
             "#f0f921"
            ]
           ]
          },
          "colorway": [
           "#636efa",
           "#EF553B",
           "#00cc96",
           "#ab63fa",
           "#FFA15A",
           "#19d3f3",
           "#FF6692",
           "#B6E880",
           "#FF97FF",
           "#FECB52"
          ],
          "font": {
           "color": "#2a3f5f"
          },
          "geo": {
           "bgcolor": "white",
           "lakecolor": "white",
           "landcolor": "#E5ECF6",
           "showlakes": true,
           "showland": true,
           "subunitcolor": "white"
          },
          "hoverlabel": {
           "align": "left"
          },
          "hovermode": "closest",
          "mapbox": {
           "style": "light"
          },
          "paper_bgcolor": "white",
          "plot_bgcolor": "#E5ECF6",
          "polar": {
           "angularaxis": {
            "gridcolor": "white",
            "linecolor": "white",
            "ticks": ""
           },
           "bgcolor": "#E5ECF6",
           "radialaxis": {
            "gridcolor": "white",
            "linecolor": "white",
            "ticks": ""
           }
          },
          "scene": {
           "xaxis": {
            "backgroundcolor": "#E5ECF6",
            "gridcolor": "white",
            "gridwidth": 2,
            "linecolor": "white",
            "showbackground": true,
            "ticks": "",
            "zerolinecolor": "white"
           },
           "yaxis": {
            "backgroundcolor": "#E5ECF6",
            "gridcolor": "white",
            "gridwidth": 2,
            "linecolor": "white",
            "showbackground": true,
            "ticks": "",
            "zerolinecolor": "white"
           },
           "zaxis": {
            "backgroundcolor": "#E5ECF6",
            "gridcolor": "white",
            "gridwidth": 2,
            "linecolor": "white",
            "showbackground": true,
            "ticks": "",
            "zerolinecolor": "white"
           }
          },
          "shapedefaults": {
           "line": {
            "color": "#2a3f5f"
           }
          },
          "ternary": {
           "aaxis": {
            "gridcolor": "white",
            "linecolor": "white",
            "ticks": ""
           },
           "baxis": {
            "gridcolor": "white",
            "linecolor": "white",
            "ticks": ""
           },
           "bgcolor": "#E5ECF6",
           "caxis": {
            "gridcolor": "white",
            "linecolor": "white",
            "ticks": ""
           }
          },
          "title": {
           "x": 0.05
          },
          "xaxis": {
           "automargin": true,
           "gridcolor": "white",
           "linecolor": "white",
           "ticks": "",
           "title": {
            "standoff": 15
           },
           "zerolinecolor": "white",
           "zerolinewidth": 2
          },
          "yaxis": {
           "automargin": true,
           "gridcolor": "white",
           "linecolor": "white",
           "ticks": "",
           "title": {
            "standoff": 15
           },
           "zerolinecolor": "white",
           "zerolinewidth": 2
          }
         }
        },
        "updatemenus": [
         {
          "buttons": [
           {
            "args": [
             null,
             {
              "frame": {
               "duration": 500,
               "redraw": true
              },
              "fromcurrent": true,
              "mode": "immediate",
              "transition": {
               "duration": 500,
               "easing": "linear"
              }
             }
            ],
            "label": "&#9654;",
            "method": "animate"
           },
           {
            "args": [
             [
              null
             ],
             {
              "frame": {
               "duration": 0,
               "redraw": true
              },
              "fromcurrent": true,
              "mode": "immediate",
              "transition": {
               "duration": 0,
               "easing": "linear"
              }
             }
            ],
            "label": "&#9724;",
            "method": "animate"
           }
          ],
          "direction": "left",
          "pad": {
           "r": 10,
           "t": 70
          },
          "showactive": false,
          "type": "buttons",
          "x": 0.1,
          "xanchor": "right",
          "y": 0,
          "yanchor": "top"
         }
        ]
       }
      },
      "text/html": [
       "<div>                            <div id=\"c233b842-a70e-4131-af75-8fc6743e3b9e\" class=\"plotly-graph-div\" style=\"height:525px; width:100%;\"></div>            <script type=\"text/javascript\">                require([\"plotly\"], function(Plotly) {                    window.PLOTLYENV=window.PLOTLYENV || {};                                    if (document.getElementById(\"c233b842-a70e-4131-af75-8fc6743e3b9e\")) {                    Plotly.newPlot(                        \"c233b842-a70e-4131-af75-8fc6743e3b9e\",                        [{\"hovertemplate\":\"<b>%{hovertext}</b><br><br>threshold=0.0<br>TP=%{x}<br>TN=%{y}<br>FP=%{z}<extra></extra>\",\"hovertext\":[0.0],\"legendgroup\":\"\",\"marker\":{\"color\":\"#636efa\",\"symbol\":\"circle\"},\"mode\":\"markers\",\"name\":\"\",\"scene\":\"scene\",\"showlegend\":false,\"x\":[0.6171875],\"y\":[0.0],\"z\":[0.3828125],\"type\":\"scatter3d\"},{\"color\":\"lightgrey\",\"i\":[0,0,0,1],\"j\":[1,2,3,2],\"k\":[2,3,1,3],\"name\":\"y\",\"opacity\":0.2,\"showscale\":true,\"x\":[0,0,0,1],\"y\":[0,0,1,0],\"z\":[0,1,0,0],\"type\":\"mesh3d\"}],                        {\"template\":{\"data\":{\"bar\":[{\"error_x\":{\"color\":\"#2a3f5f\"},\"error_y\":{\"color\":\"#2a3f5f\"},\"marker\":{\"line\":{\"color\":\"#E5ECF6\",\"width\":0.5},\"pattern\":{\"fillmode\":\"overlay\",\"size\":10,\"solidity\":0.2}},\"type\":\"bar\"}],\"barpolar\":[{\"marker\":{\"line\":{\"color\":\"#E5ECF6\",\"width\":0.5},\"pattern\":{\"fillmode\":\"overlay\",\"size\":10,\"solidity\":0.2}},\"type\":\"barpolar\"}],\"carpet\":[{\"aaxis\":{\"endlinecolor\":\"#2a3f5f\",\"gridcolor\":\"white\",\"linecolor\":\"white\",\"minorgridcolor\":\"white\",\"startlinecolor\":\"#2a3f5f\"},\"baxis\":{\"endlinecolor\":\"#2a3f5f\",\"gridcolor\":\"white\",\"linecolor\":\"white\",\"minorgridcolor\":\"white\",\"startlinecolor\":\"#2a3f5f\"},\"type\":\"carpet\"}],\"choropleth\":[{\"colorbar\":{\"outlinewidth\":0,\"ticks\":\"\"},\"type\":\"choropleth\"}],\"contour\":[{\"colorbar\":{\"outlinewidth\":0,\"ticks\":\"\"},\"colorscale\":[[0.0,\"#0d0887\"],[0.1111111111111111,\"#46039f\"],[0.2222222222222222,\"#7201a8\"],[0.3333333333333333,\"#9c179e\"],[0.4444444444444444,\"#bd3786\"],[0.5555555555555556,\"#d8576b\"],[0.6666666666666666,\"#ed7953\"],[0.7777777777777778,\"#fb9f3a\"],[0.8888888888888888,\"#fdca26\"],[1.0,\"#f0f921\"]],\"type\":\"contour\"}],\"contourcarpet\":[{\"colorbar\":{\"outlinewidth\":0,\"ticks\":\"\"},\"type\":\"contourcarpet\"}],\"heatmap\":[{\"colorbar\":{\"outlinewidth\":0,\"ticks\":\"\"},\"colorscale\":[[0.0,\"#0d0887\"],[0.1111111111111111,\"#46039f\"],[0.2222222222222222,\"#7201a8\"],[0.3333333333333333,\"#9c179e\"],[0.4444444444444444,\"#bd3786\"],[0.5555555555555556,\"#d8576b\"],[0.6666666666666666,\"#ed7953\"],[0.7777777777777778,\"#fb9f3a\"],[0.8888888888888888,\"#fdca26\"],[1.0,\"#f0f921\"]],\"type\":\"heatmap\"}],\"heatmapgl\":[{\"colorbar\":{\"outlinewidth\":0,\"ticks\":\"\"},\"colorscale\":[[0.0,\"#0d0887\"],[0.1111111111111111,\"#46039f\"],[0.2222222222222222,\"#7201a8\"],[0.3333333333333333,\"#9c179e\"],[0.4444444444444444,\"#bd3786\"],[0.5555555555555556,\"#d8576b\"],[0.6666666666666666,\"#ed7953\"],[0.7777777777777778,\"#fb9f3a\"],[0.8888888888888888,\"#fdca26\"],[1.0,\"#f0f921\"]],\"type\":\"heatmapgl\"}],\"histogram\":[{\"marker\":{\"pattern\":{\"fillmode\":\"overlay\",\"size\":10,\"solidity\":0.2}},\"type\":\"histogram\"}],\"histogram2d\":[{\"colorbar\":{\"outlinewidth\":0,\"ticks\":\"\"},\"colorscale\":[[0.0,\"#0d0887\"],[0.1111111111111111,\"#46039f\"],[0.2222222222222222,\"#7201a8\"],[0.3333333333333333,\"#9c179e\"],[0.4444444444444444,\"#bd3786\"],[0.5555555555555556,\"#d8576b\"],[0.6666666666666666,\"#ed7953\"],[0.7777777777777778,\"#fb9f3a\"],[0.8888888888888888,\"#fdca26\"],[1.0,\"#f0f921\"]],\"type\":\"histogram2d\"}],\"histogram2dcontour\":[{\"colorbar\":{\"outlinewidth\":0,\"ticks\":\"\"},\"colorscale\":[[0.0,\"#0d0887\"],[0.1111111111111111,\"#46039f\"],[0.2222222222222222,\"#7201a8\"],[0.3333333333333333,\"#9c179e\"],[0.4444444444444444,\"#bd3786\"],[0.5555555555555556,\"#d8576b\"],[0.6666666666666666,\"#ed7953\"],[0.7777777777777778,\"#fb9f3a\"],[0.8888888888888888,\"#fdca26\"],[1.0,\"#f0f921\"]],\"type\":\"histogram2dcontour\"}],\"mesh3d\":[{\"colorbar\":{\"outlinewidth\":0,\"ticks\":\"\"},\"type\":\"mesh3d\"}],\"parcoords\":[{\"line\":{\"colorbar\":{\"outlinewidth\":0,\"ticks\":\"\"}},\"type\":\"parcoords\"}],\"pie\":[{\"automargin\":true,\"type\":\"pie\"}],\"scatter\":[{\"marker\":{\"colorbar\":{\"outlinewidth\":0,\"ticks\":\"\"}},\"type\":\"scatter\"}],\"scatter3d\":[{\"line\":{\"colorbar\":{\"outlinewidth\":0,\"ticks\":\"\"}},\"marker\":{\"colorbar\":{\"outlinewidth\":0,\"ticks\":\"\"}},\"type\":\"scatter3d\"}],\"scattercarpet\":[{\"marker\":{\"colorbar\":{\"outlinewidth\":0,\"ticks\":\"\"}},\"type\":\"scattercarpet\"}],\"scattergeo\":[{\"marker\":{\"colorbar\":{\"outlinewidth\":0,\"ticks\":\"\"}},\"type\":\"scattergeo\"}],\"scattergl\":[{\"marker\":{\"colorbar\":{\"outlinewidth\":0,\"ticks\":\"\"}},\"type\":\"scattergl\"}],\"scattermapbox\":[{\"marker\":{\"colorbar\":{\"outlinewidth\":0,\"ticks\":\"\"}},\"type\":\"scattermapbox\"}],\"scatterpolar\":[{\"marker\":{\"colorbar\":{\"outlinewidth\":0,\"ticks\":\"\"}},\"type\":\"scatterpolar\"}],\"scatterpolargl\":[{\"marker\":{\"colorbar\":{\"outlinewidth\":0,\"ticks\":\"\"}},\"type\":\"scatterpolargl\"}],\"scatterternary\":[{\"marker\":{\"colorbar\":{\"outlinewidth\":0,\"ticks\":\"\"}},\"type\":\"scatterternary\"}],\"surface\":[{\"colorbar\":{\"outlinewidth\":0,\"ticks\":\"\"},\"colorscale\":[[0.0,\"#0d0887\"],[0.1111111111111111,\"#46039f\"],[0.2222222222222222,\"#7201a8\"],[0.3333333333333333,\"#9c179e\"],[0.4444444444444444,\"#bd3786\"],[0.5555555555555556,\"#d8576b\"],[0.6666666666666666,\"#ed7953\"],[0.7777777777777778,\"#fb9f3a\"],[0.8888888888888888,\"#fdca26\"],[1.0,\"#f0f921\"]],\"type\":\"surface\"}],\"table\":[{\"cells\":{\"fill\":{\"color\":\"#EBF0F8\"},\"line\":{\"color\":\"white\"}},\"header\":{\"fill\":{\"color\":\"#C8D4E3\"},\"line\":{\"color\":\"white\"}},\"type\":\"table\"}]},\"layout\":{\"annotationdefaults\":{\"arrowcolor\":\"#2a3f5f\",\"arrowhead\":0,\"arrowwidth\":1},\"autotypenumbers\":\"strict\",\"coloraxis\":{\"colorbar\":{\"outlinewidth\":0,\"ticks\":\"\"}},\"colorscale\":{\"diverging\":[[0,\"#8e0152\"],[0.1,\"#c51b7d\"],[0.2,\"#de77ae\"],[0.3,\"#f1b6da\"],[0.4,\"#fde0ef\"],[0.5,\"#f7f7f7\"],[0.6,\"#e6f5d0\"],[0.7,\"#b8e186\"],[0.8,\"#7fbc41\"],[0.9,\"#4d9221\"],[1,\"#276419\"]],\"sequential\":[[0.0,\"#0d0887\"],[0.1111111111111111,\"#46039f\"],[0.2222222222222222,\"#7201a8\"],[0.3333333333333333,\"#9c179e\"],[0.4444444444444444,\"#bd3786\"],[0.5555555555555556,\"#d8576b\"],[0.6666666666666666,\"#ed7953\"],[0.7777777777777778,\"#fb9f3a\"],[0.8888888888888888,\"#fdca26\"],[1.0,\"#f0f921\"]],\"sequentialminus\":[[0.0,\"#0d0887\"],[0.1111111111111111,\"#46039f\"],[0.2222222222222222,\"#7201a8\"],[0.3333333333333333,\"#9c179e\"],[0.4444444444444444,\"#bd3786\"],[0.5555555555555556,\"#d8576b\"],[0.6666666666666666,\"#ed7953\"],[0.7777777777777778,\"#fb9f3a\"],[0.8888888888888888,\"#fdca26\"],[1.0,\"#f0f921\"]]},\"colorway\":[\"#636efa\",\"#EF553B\",\"#00cc96\",\"#ab63fa\",\"#FFA15A\",\"#19d3f3\",\"#FF6692\",\"#B6E880\",\"#FF97FF\",\"#FECB52\"],\"font\":{\"color\":\"#2a3f5f\"},\"geo\":{\"bgcolor\":\"white\",\"lakecolor\":\"white\",\"landcolor\":\"#E5ECF6\",\"showlakes\":true,\"showland\":true,\"subunitcolor\":\"white\"},\"hoverlabel\":{\"align\":\"left\"},\"hovermode\":\"closest\",\"mapbox\":{\"style\":\"light\"},\"paper_bgcolor\":\"white\",\"plot_bgcolor\":\"#E5ECF6\",\"polar\":{\"angularaxis\":{\"gridcolor\":\"white\",\"linecolor\":\"white\",\"ticks\":\"\"},\"bgcolor\":\"#E5ECF6\",\"radialaxis\":{\"gridcolor\":\"white\",\"linecolor\":\"white\",\"ticks\":\"\"}},\"scene\":{\"xaxis\":{\"backgroundcolor\":\"#E5ECF6\",\"gridcolor\":\"white\",\"gridwidth\":2,\"linecolor\":\"white\",\"showbackground\":true,\"ticks\":\"\",\"zerolinecolor\":\"white\"},\"yaxis\":{\"backgroundcolor\":\"#E5ECF6\",\"gridcolor\":\"white\",\"gridwidth\":2,\"linecolor\":\"white\",\"showbackground\":true,\"ticks\":\"\",\"zerolinecolor\":\"white\"},\"zaxis\":{\"backgroundcolor\":\"#E5ECF6\",\"gridcolor\":\"white\",\"gridwidth\":2,\"linecolor\":\"white\",\"showbackground\":true,\"ticks\":\"\",\"zerolinecolor\":\"white\"}},\"shapedefaults\":{\"line\":{\"color\":\"#2a3f5f\"}},\"ternary\":{\"aaxis\":{\"gridcolor\":\"white\",\"linecolor\":\"white\",\"ticks\":\"\"},\"baxis\":{\"gridcolor\":\"white\",\"linecolor\":\"white\",\"ticks\":\"\"},\"bgcolor\":\"#E5ECF6\",\"caxis\":{\"gridcolor\":\"white\",\"linecolor\":\"white\",\"ticks\":\"\"}},\"title\":{\"x\":0.05},\"xaxis\":{\"automargin\":true,\"gridcolor\":\"white\",\"linecolor\":\"white\",\"ticks\":\"\",\"title\":{\"standoff\":15},\"zerolinecolor\":\"white\",\"zerolinewidth\":2},\"yaxis\":{\"automargin\":true,\"gridcolor\":\"white\",\"linecolor\":\"white\",\"ticks\":\"\",\"title\":{\"standoff\":15},\"zerolinecolor\":\"white\",\"zerolinewidth\":2}}},\"scene\":{\"domain\":{\"x\":[0.0,1.0],\"y\":[0.0,1.0]},\"xaxis\":{\"title\":{\"text\":\"TP\"},\"range\":[0,1]},\"yaxis\":{\"title\":{\"text\":\"TN\"},\"range\":[0,1]},\"zaxis\":{\"title\":{\"text\":\"FP\"},\"range\":[0,1]}},\"legend\":{\"tracegroupgap\":0},\"margin\":{\"t\":60},\"updatemenus\":[{\"buttons\":[{\"args\":[null,{\"frame\":{\"duration\":500,\"redraw\":true},\"mode\":\"immediate\",\"fromcurrent\":true,\"transition\":{\"duration\":500,\"easing\":\"linear\"}}],\"label\":\"&#9654;\",\"method\":\"animate\"},{\"args\":[[null],{\"frame\":{\"duration\":0,\"redraw\":true},\"mode\":\"immediate\",\"fromcurrent\":true,\"transition\":{\"duration\":0,\"easing\":\"linear\"}}],\"label\":\"&#9724;\",\"method\":\"animate\"}],\"direction\":\"left\",\"pad\":{\"r\":10,\"t\":70},\"showactive\":false,\"type\":\"buttons\",\"x\":0.1,\"xanchor\":\"right\",\"y\":0,\"yanchor\":\"top\"}],\"sliders\":[{\"active\":0,\"currentvalue\":{\"prefix\":\"threshold=\"},\"len\":0.9,\"pad\":{\"b\":10,\"t\":60},\"steps\":[{\"args\":[[\"0.0\"],{\"frame\":{\"duration\":0,\"redraw\":true},\"mode\":\"immediate\",\"fromcurrent\":true,\"transition\":{\"duration\":0,\"easing\":\"linear\"}}],\"label\":\"0.0\",\"method\":\"animate\"},{\"args\":[[\"0.01\"],{\"frame\":{\"duration\":0,\"redraw\":true},\"mode\":\"immediate\",\"fromcurrent\":true,\"transition\":{\"duration\":0,\"easing\":\"linear\"}}],\"label\":\"0.01\",\"method\":\"animate\"},{\"args\":[[\"0.02\"],{\"frame\":{\"duration\":0,\"redraw\":true},\"mode\":\"immediate\",\"fromcurrent\":true,\"transition\":{\"duration\":0,\"easing\":\"linear\"}}],\"label\":\"0.02\",\"method\":\"animate\"},{\"args\":[[\"0.03\"],{\"frame\":{\"duration\":0,\"redraw\":true},\"mode\":\"immediate\",\"fromcurrent\":true,\"transition\":{\"duration\":0,\"easing\":\"linear\"}}],\"label\":\"0.03\",\"method\":\"animate\"},{\"args\":[[\"0.04\"],{\"frame\":{\"duration\":0,\"redraw\":true},\"mode\":\"immediate\",\"fromcurrent\":true,\"transition\":{\"duration\":0,\"easing\":\"linear\"}}],\"label\":\"0.04\",\"method\":\"animate\"},{\"args\":[[\"0.05\"],{\"frame\":{\"duration\":0,\"redraw\":true},\"mode\":\"immediate\",\"fromcurrent\":true,\"transition\":{\"duration\":0,\"easing\":\"linear\"}}],\"label\":\"0.05\",\"method\":\"animate\"},{\"args\":[[\"0.06\"],{\"frame\":{\"duration\":0,\"redraw\":true},\"mode\":\"immediate\",\"fromcurrent\":true,\"transition\":{\"duration\":0,\"easing\":\"linear\"}}],\"label\":\"0.06\",\"method\":\"animate\"},{\"args\":[[\"0.07\"],{\"frame\":{\"duration\":0,\"redraw\":true},\"mode\":\"immediate\",\"fromcurrent\":true,\"transition\":{\"duration\":0,\"easing\":\"linear\"}}],\"label\":\"0.07\",\"method\":\"animate\"},{\"args\":[[\"0.08\"],{\"frame\":{\"duration\":0,\"redraw\":true},\"mode\":\"immediate\",\"fromcurrent\":true,\"transition\":{\"duration\":0,\"easing\":\"linear\"}}],\"label\":\"0.08\",\"method\":\"animate\"},{\"args\":[[\"0.09\"],{\"frame\":{\"duration\":0,\"redraw\":true},\"mode\":\"immediate\",\"fromcurrent\":true,\"transition\":{\"duration\":0,\"easing\":\"linear\"}}],\"label\":\"0.09\",\"method\":\"animate\"},{\"args\":[[\"0.1\"],{\"frame\":{\"duration\":0,\"redraw\":true},\"mode\":\"immediate\",\"fromcurrent\":true,\"transition\":{\"duration\":0,\"easing\":\"linear\"}}],\"label\":\"0.1\",\"method\":\"animate\"},{\"args\":[[\"0.11\"],{\"frame\":{\"duration\":0,\"redraw\":true},\"mode\":\"immediate\",\"fromcurrent\":true,\"transition\":{\"duration\":0,\"easing\":\"linear\"}}],\"label\":\"0.11\",\"method\":\"animate\"},{\"args\":[[\"0.12\"],{\"frame\":{\"duration\":0,\"redraw\":true},\"mode\":\"immediate\",\"fromcurrent\":true,\"transition\":{\"duration\":0,\"easing\":\"linear\"}}],\"label\":\"0.12\",\"method\":\"animate\"},{\"args\":[[\"0.13\"],{\"frame\":{\"duration\":0,\"redraw\":true},\"mode\":\"immediate\",\"fromcurrent\":true,\"transition\":{\"duration\":0,\"easing\":\"linear\"}}],\"label\":\"0.13\",\"method\":\"animate\"},{\"args\":[[\"0.14\"],{\"frame\":{\"duration\":0,\"redraw\":true},\"mode\":\"immediate\",\"fromcurrent\":true,\"transition\":{\"duration\":0,\"easing\":\"linear\"}}],\"label\":\"0.14\",\"method\":\"animate\"},{\"args\":[[\"0.15\"],{\"frame\":{\"duration\":0,\"redraw\":true},\"mode\":\"immediate\",\"fromcurrent\":true,\"transition\":{\"duration\":0,\"easing\":\"linear\"}}],\"label\":\"0.15\",\"method\":\"animate\"},{\"args\":[[\"0.16\"],{\"frame\":{\"duration\":0,\"redraw\":true},\"mode\":\"immediate\",\"fromcurrent\":true,\"transition\":{\"duration\":0,\"easing\":\"linear\"}}],\"label\":\"0.16\",\"method\":\"animate\"},{\"args\":[[\"0.17\"],{\"frame\":{\"duration\":0,\"redraw\":true},\"mode\":\"immediate\",\"fromcurrent\":true,\"transition\":{\"duration\":0,\"easing\":\"linear\"}}],\"label\":\"0.17\",\"method\":\"animate\"},{\"args\":[[\"0.18\"],{\"frame\":{\"duration\":0,\"redraw\":true},\"mode\":\"immediate\",\"fromcurrent\":true,\"transition\":{\"duration\":0,\"easing\":\"linear\"}}],\"label\":\"0.18\",\"method\":\"animate\"},{\"args\":[[\"0.19\"],{\"frame\":{\"duration\":0,\"redraw\":true},\"mode\":\"immediate\",\"fromcurrent\":true,\"transition\":{\"duration\":0,\"easing\":\"linear\"}}],\"label\":\"0.19\",\"method\":\"animate\"},{\"args\":[[\"0.2\"],{\"frame\":{\"duration\":0,\"redraw\":true},\"mode\":\"immediate\",\"fromcurrent\":true,\"transition\":{\"duration\":0,\"easing\":\"linear\"}}],\"label\":\"0.2\",\"method\":\"animate\"},{\"args\":[[\"0.21\"],{\"frame\":{\"duration\":0,\"redraw\":true},\"mode\":\"immediate\",\"fromcurrent\":true,\"transition\":{\"duration\":0,\"easing\":\"linear\"}}],\"label\":\"0.21\",\"method\":\"animate\"},{\"args\":[[\"0.22\"],{\"frame\":{\"duration\":0,\"redraw\":true},\"mode\":\"immediate\",\"fromcurrent\":true,\"transition\":{\"duration\":0,\"easing\":\"linear\"}}],\"label\":\"0.22\",\"method\":\"animate\"},{\"args\":[[\"0.23\"],{\"frame\":{\"duration\":0,\"redraw\":true},\"mode\":\"immediate\",\"fromcurrent\":true,\"transition\":{\"duration\":0,\"easing\":\"linear\"}}],\"label\":\"0.23\",\"method\":\"animate\"},{\"args\":[[\"0.24\"],{\"frame\":{\"duration\":0,\"redraw\":true},\"mode\":\"immediate\",\"fromcurrent\":true,\"transition\":{\"duration\":0,\"easing\":\"linear\"}}],\"label\":\"0.24\",\"method\":\"animate\"},{\"args\":[[\"0.25\"],{\"frame\":{\"duration\":0,\"redraw\":true},\"mode\":\"immediate\",\"fromcurrent\":true,\"transition\":{\"duration\":0,\"easing\":\"linear\"}}],\"label\":\"0.25\",\"method\":\"animate\"},{\"args\":[[\"0.26\"],{\"frame\":{\"duration\":0,\"redraw\":true},\"mode\":\"immediate\",\"fromcurrent\":true,\"transition\":{\"duration\":0,\"easing\":\"linear\"}}],\"label\":\"0.26\",\"method\":\"animate\"},{\"args\":[[\"0.27\"],{\"frame\":{\"duration\":0,\"redraw\":true},\"mode\":\"immediate\",\"fromcurrent\":true,\"transition\":{\"duration\":0,\"easing\":\"linear\"}}],\"label\":\"0.27\",\"method\":\"animate\"},{\"args\":[[\"0.28\"],{\"frame\":{\"duration\":0,\"redraw\":true},\"mode\":\"immediate\",\"fromcurrent\":true,\"transition\":{\"duration\":0,\"easing\":\"linear\"}}],\"label\":\"0.28\",\"method\":\"animate\"},{\"args\":[[\"0.29\"],{\"frame\":{\"duration\":0,\"redraw\":true},\"mode\":\"immediate\",\"fromcurrent\":true,\"transition\":{\"duration\":0,\"easing\":\"linear\"}}],\"label\":\"0.29\",\"method\":\"animate\"},{\"args\":[[\"0.3\"],{\"frame\":{\"duration\":0,\"redraw\":true},\"mode\":\"immediate\",\"fromcurrent\":true,\"transition\":{\"duration\":0,\"easing\":\"linear\"}}],\"label\":\"0.3\",\"method\":\"animate\"},{\"args\":[[\"0.31\"],{\"frame\":{\"duration\":0,\"redraw\":true},\"mode\":\"immediate\",\"fromcurrent\":true,\"transition\":{\"duration\":0,\"easing\":\"linear\"}}],\"label\":\"0.31\",\"method\":\"animate\"},{\"args\":[[\"0.32\"],{\"frame\":{\"duration\":0,\"redraw\":true},\"mode\":\"immediate\",\"fromcurrent\":true,\"transition\":{\"duration\":0,\"easing\":\"linear\"}}],\"label\":\"0.32\",\"method\":\"animate\"},{\"args\":[[\"0.33\"],{\"frame\":{\"duration\":0,\"redraw\":true},\"mode\":\"immediate\",\"fromcurrent\":true,\"transition\":{\"duration\":0,\"easing\":\"linear\"}}],\"label\":\"0.33\",\"method\":\"animate\"},{\"args\":[[\"0.34\"],{\"frame\":{\"duration\":0,\"redraw\":true},\"mode\":\"immediate\",\"fromcurrent\":true,\"transition\":{\"duration\":0,\"easing\":\"linear\"}}],\"label\":\"0.34\",\"method\":\"animate\"},{\"args\":[[\"0.35\"],{\"frame\":{\"duration\":0,\"redraw\":true},\"mode\":\"immediate\",\"fromcurrent\":true,\"transition\":{\"duration\":0,\"easing\":\"linear\"}}],\"label\":\"0.35\",\"method\":\"animate\"},{\"args\":[[\"0.36\"],{\"frame\":{\"duration\":0,\"redraw\":true},\"mode\":\"immediate\",\"fromcurrent\":true,\"transition\":{\"duration\":0,\"easing\":\"linear\"}}],\"label\":\"0.36\",\"method\":\"animate\"},{\"args\":[[\"0.37\"],{\"frame\":{\"duration\":0,\"redraw\":true},\"mode\":\"immediate\",\"fromcurrent\":true,\"transition\":{\"duration\":0,\"easing\":\"linear\"}}],\"label\":\"0.37\",\"method\":\"animate\"},{\"args\":[[\"0.38\"],{\"frame\":{\"duration\":0,\"redraw\":true},\"mode\":\"immediate\",\"fromcurrent\":true,\"transition\":{\"duration\":0,\"easing\":\"linear\"}}],\"label\":\"0.38\",\"method\":\"animate\"},{\"args\":[[\"0.39\"],{\"frame\":{\"duration\":0,\"redraw\":true},\"mode\":\"immediate\",\"fromcurrent\":true,\"transition\":{\"duration\":0,\"easing\":\"linear\"}}],\"label\":\"0.39\",\"method\":\"animate\"},{\"args\":[[\"0.4\"],{\"frame\":{\"duration\":0,\"redraw\":true},\"mode\":\"immediate\",\"fromcurrent\":true,\"transition\":{\"duration\":0,\"easing\":\"linear\"}}],\"label\":\"0.4\",\"method\":\"animate\"},{\"args\":[[\"0.41\"],{\"frame\":{\"duration\":0,\"redraw\":true},\"mode\":\"immediate\",\"fromcurrent\":true,\"transition\":{\"duration\":0,\"easing\":\"linear\"}}],\"label\":\"0.41\",\"method\":\"animate\"},{\"args\":[[\"0.42\"],{\"frame\":{\"duration\":0,\"redraw\":true},\"mode\":\"immediate\",\"fromcurrent\":true,\"transition\":{\"duration\":0,\"easing\":\"linear\"}}],\"label\":\"0.42\",\"method\":\"animate\"},{\"args\":[[\"0.43\"],{\"frame\":{\"duration\":0,\"redraw\":true},\"mode\":\"immediate\",\"fromcurrent\":true,\"transition\":{\"duration\":0,\"easing\":\"linear\"}}],\"label\":\"0.43\",\"method\":\"animate\"},{\"args\":[[\"0.44\"],{\"frame\":{\"duration\":0,\"redraw\":true},\"mode\":\"immediate\",\"fromcurrent\":true,\"transition\":{\"duration\":0,\"easing\":\"linear\"}}],\"label\":\"0.44\",\"method\":\"animate\"},{\"args\":[[\"0.45\"],{\"frame\":{\"duration\":0,\"redraw\":true},\"mode\":\"immediate\",\"fromcurrent\":true,\"transition\":{\"duration\":0,\"easing\":\"linear\"}}],\"label\":\"0.45\",\"method\":\"animate\"},{\"args\":[[\"0.46\"],{\"frame\":{\"duration\":0,\"redraw\":true},\"mode\":\"immediate\",\"fromcurrent\":true,\"transition\":{\"duration\":0,\"easing\":\"linear\"}}],\"label\":\"0.46\",\"method\":\"animate\"},{\"args\":[[\"0.47\"],{\"frame\":{\"duration\":0,\"redraw\":true},\"mode\":\"immediate\",\"fromcurrent\":true,\"transition\":{\"duration\":0,\"easing\":\"linear\"}}],\"label\":\"0.47\",\"method\":\"animate\"},{\"args\":[[\"0.48\"],{\"frame\":{\"duration\":0,\"redraw\":true},\"mode\":\"immediate\",\"fromcurrent\":true,\"transition\":{\"duration\":0,\"easing\":\"linear\"}}],\"label\":\"0.48\",\"method\":\"animate\"},{\"args\":[[\"0.49\"],{\"frame\":{\"duration\":0,\"redraw\":true},\"mode\":\"immediate\",\"fromcurrent\":true,\"transition\":{\"duration\":0,\"easing\":\"linear\"}}],\"label\":\"0.49\",\"method\":\"animate\"},{\"args\":[[\"0.5\"],{\"frame\":{\"duration\":0,\"redraw\":true},\"mode\":\"immediate\",\"fromcurrent\":true,\"transition\":{\"duration\":0,\"easing\":\"linear\"}}],\"label\":\"0.5\",\"method\":\"animate\"},{\"args\":[[\"0.51\"],{\"frame\":{\"duration\":0,\"redraw\":true},\"mode\":\"immediate\",\"fromcurrent\":true,\"transition\":{\"duration\":0,\"easing\":\"linear\"}}],\"label\":\"0.51\",\"method\":\"animate\"},{\"args\":[[\"0.52\"],{\"frame\":{\"duration\":0,\"redraw\":true},\"mode\":\"immediate\",\"fromcurrent\":true,\"transition\":{\"duration\":0,\"easing\":\"linear\"}}],\"label\":\"0.52\",\"method\":\"animate\"},{\"args\":[[\"0.53\"],{\"frame\":{\"duration\":0,\"redraw\":true},\"mode\":\"immediate\",\"fromcurrent\":true,\"transition\":{\"duration\":0,\"easing\":\"linear\"}}],\"label\":\"0.53\",\"method\":\"animate\"},{\"args\":[[\"0.54\"],{\"frame\":{\"duration\":0,\"redraw\":true},\"mode\":\"immediate\",\"fromcurrent\":true,\"transition\":{\"duration\":0,\"easing\":\"linear\"}}],\"label\":\"0.54\",\"method\":\"animate\"},{\"args\":[[\"0.55\"],{\"frame\":{\"duration\":0,\"redraw\":true},\"mode\":\"immediate\",\"fromcurrent\":true,\"transition\":{\"duration\":0,\"easing\":\"linear\"}}],\"label\":\"0.55\",\"method\":\"animate\"},{\"args\":[[\"0.56\"],{\"frame\":{\"duration\":0,\"redraw\":true},\"mode\":\"immediate\",\"fromcurrent\":true,\"transition\":{\"duration\":0,\"easing\":\"linear\"}}],\"label\":\"0.56\",\"method\":\"animate\"},{\"args\":[[\"0.57\"],{\"frame\":{\"duration\":0,\"redraw\":true},\"mode\":\"immediate\",\"fromcurrent\":true,\"transition\":{\"duration\":0,\"easing\":\"linear\"}}],\"label\":\"0.57\",\"method\":\"animate\"},{\"args\":[[\"0.58\"],{\"frame\":{\"duration\":0,\"redraw\":true},\"mode\":\"immediate\",\"fromcurrent\":true,\"transition\":{\"duration\":0,\"easing\":\"linear\"}}],\"label\":\"0.58\",\"method\":\"animate\"},{\"args\":[[\"0.59\"],{\"frame\":{\"duration\":0,\"redraw\":true},\"mode\":\"immediate\",\"fromcurrent\":true,\"transition\":{\"duration\":0,\"easing\":\"linear\"}}],\"label\":\"0.59\",\"method\":\"animate\"},{\"args\":[[\"0.6\"],{\"frame\":{\"duration\":0,\"redraw\":true},\"mode\":\"immediate\",\"fromcurrent\":true,\"transition\":{\"duration\":0,\"easing\":\"linear\"}}],\"label\":\"0.6\",\"method\":\"animate\"},{\"args\":[[\"0.61\"],{\"frame\":{\"duration\":0,\"redraw\":true},\"mode\":\"immediate\",\"fromcurrent\":true,\"transition\":{\"duration\":0,\"easing\":\"linear\"}}],\"label\":\"0.61\",\"method\":\"animate\"},{\"args\":[[\"0.62\"],{\"frame\":{\"duration\":0,\"redraw\":true},\"mode\":\"immediate\",\"fromcurrent\":true,\"transition\":{\"duration\":0,\"easing\":\"linear\"}}],\"label\":\"0.62\",\"method\":\"animate\"},{\"args\":[[\"0.63\"],{\"frame\":{\"duration\":0,\"redraw\":true},\"mode\":\"immediate\",\"fromcurrent\":true,\"transition\":{\"duration\":0,\"easing\":\"linear\"}}],\"label\":\"0.63\",\"method\":\"animate\"},{\"args\":[[\"0.64\"],{\"frame\":{\"duration\":0,\"redraw\":true},\"mode\":\"immediate\",\"fromcurrent\":true,\"transition\":{\"duration\":0,\"easing\":\"linear\"}}],\"label\":\"0.64\",\"method\":\"animate\"},{\"args\":[[\"0.65\"],{\"frame\":{\"duration\":0,\"redraw\":true},\"mode\":\"immediate\",\"fromcurrent\":true,\"transition\":{\"duration\":0,\"easing\":\"linear\"}}],\"label\":\"0.65\",\"method\":\"animate\"},{\"args\":[[\"0.66\"],{\"frame\":{\"duration\":0,\"redraw\":true},\"mode\":\"immediate\",\"fromcurrent\":true,\"transition\":{\"duration\":0,\"easing\":\"linear\"}}],\"label\":\"0.66\",\"method\":\"animate\"},{\"args\":[[\"0.67\"],{\"frame\":{\"duration\":0,\"redraw\":true},\"mode\":\"immediate\",\"fromcurrent\":true,\"transition\":{\"duration\":0,\"easing\":\"linear\"}}],\"label\":\"0.67\",\"method\":\"animate\"},{\"args\":[[\"0.68\"],{\"frame\":{\"duration\":0,\"redraw\":true},\"mode\":\"immediate\",\"fromcurrent\":true,\"transition\":{\"duration\":0,\"easing\":\"linear\"}}],\"label\":\"0.68\",\"method\":\"animate\"},{\"args\":[[\"0.69\"],{\"frame\":{\"duration\":0,\"redraw\":true},\"mode\":\"immediate\",\"fromcurrent\":true,\"transition\":{\"duration\":0,\"easing\":\"linear\"}}],\"label\":\"0.69\",\"method\":\"animate\"},{\"args\":[[\"0.7\"],{\"frame\":{\"duration\":0,\"redraw\":true},\"mode\":\"immediate\",\"fromcurrent\":true,\"transition\":{\"duration\":0,\"easing\":\"linear\"}}],\"label\":\"0.7\",\"method\":\"animate\"},{\"args\":[[\"0.71\"],{\"frame\":{\"duration\":0,\"redraw\":true},\"mode\":\"immediate\",\"fromcurrent\":true,\"transition\":{\"duration\":0,\"easing\":\"linear\"}}],\"label\":\"0.71\",\"method\":\"animate\"},{\"args\":[[\"0.72\"],{\"frame\":{\"duration\":0,\"redraw\":true},\"mode\":\"immediate\",\"fromcurrent\":true,\"transition\":{\"duration\":0,\"easing\":\"linear\"}}],\"label\":\"0.72\",\"method\":\"animate\"},{\"args\":[[\"0.73\"],{\"frame\":{\"duration\":0,\"redraw\":true},\"mode\":\"immediate\",\"fromcurrent\":true,\"transition\":{\"duration\":0,\"easing\":\"linear\"}}],\"label\":\"0.73\",\"method\":\"animate\"},{\"args\":[[\"0.74\"],{\"frame\":{\"duration\":0,\"redraw\":true},\"mode\":\"immediate\",\"fromcurrent\":true,\"transition\":{\"duration\":0,\"easing\":\"linear\"}}],\"label\":\"0.74\",\"method\":\"animate\"},{\"args\":[[\"0.75\"],{\"frame\":{\"duration\":0,\"redraw\":true},\"mode\":\"immediate\",\"fromcurrent\":true,\"transition\":{\"duration\":0,\"easing\":\"linear\"}}],\"label\":\"0.75\",\"method\":\"animate\"},{\"args\":[[\"0.76\"],{\"frame\":{\"duration\":0,\"redraw\":true},\"mode\":\"immediate\",\"fromcurrent\":true,\"transition\":{\"duration\":0,\"easing\":\"linear\"}}],\"label\":\"0.76\",\"method\":\"animate\"},{\"args\":[[\"0.77\"],{\"frame\":{\"duration\":0,\"redraw\":true},\"mode\":\"immediate\",\"fromcurrent\":true,\"transition\":{\"duration\":0,\"easing\":\"linear\"}}],\"label\":\"0.77\",\"method\":\"animate\"},{\"args\":[[\"0.78\"],{\"frame\":{\"duration\":0,\"redraw\":true},\"mode\":\"immediate\",\"fromcurrent\":true,\"transition\":{\"duration\":0,\"easing\":\"linear\"}}],\"label\":\"0.78\",\"method\":\"animate\"},{\"args\":[[\"0.79\"],{\"frame\":{\"duration\":0,\"redraw\":true},\"mode\":\"immediate\",\"fromcurrent\":true,\"transition\":{\"duration\":0,\"easing\":\"linear\"}}],\"label\":\"0.79\",\"method\":\"animate\"},{\"args\":[[\"0.8\"],{\"frame\":{\"duration\":0,\"redraw\":true},\"mode\":\"immediate\",\"fromcurrent\":true,\"transition\":{\"duration\":0,\"easing\":\"linear\"}}],\"label\":\"0.8\",\"method\":\"animate\"},{\"args\":[[\"0.81\"],{\"frame\":{\"duration\":0,\"redraw\":true},\"mode\":\"immediate\",\"fromcurrent\":true,\"transition\":{\"duration\":0,\"easing\":\"linear\"}}],\"label\":\"0.81\",\"method\":\"animate\"},{\"args\":[[\"0.82\"],{\"frame\":{\"duration\":0,\"redraw\":true},\"mode\":\"immediate\",\"fromcurrent\":true,\"transition\":{\"duration\":0,\"easing\":\"linear\"}}],\"label\":\"0.82\",\"method\":\"animate\"},{\"args\":[[\"0.83\"],{\"frame\":{\"duration\":0,\"redraw\":true},\"mode\":\"immediate\",\"fromcurrent\":true,\"transition\":{\"duration\":0,\"easing\":\"linear\"}}],\"label\":\"0.83\",\"method\":\"animate\"},{\"args\":[[\"0.84\"],{\"frame\":{\"duration\":0,\"redraw\":true},\"mode\":\"immediate\",\"fromcurrent\":true,\"transition\":{\"duration\":0,\"easing\":\"linear\"}}],\"label\":\"0.84\",\"method\":\"animate\"},{\"args\":[[\"0.85\"],{\"frame\":{\"duration\":0,\"redraw\":true},\"mode\":\"immediate\",\"fromcurrent\":true,\"transition\":{\"duration\":0,\"easing\":\"linear\"}}],\"label\":\"0.85\",\"method\":\"animate\"},{\"args\":[[\"0.86\"],{\"frame\":{\"duration\":0,\"redraw\":true},\"mode\":\"immediate\",\"fromcurrent\":true,\"transition\":{\"duration\":0,\"easing\":\"linear\"}}],\"label\":\"0.86\",\"method\":\"animate\"},{\"args\":[[\"0.87\"],{\"frame\":{\"duration\":0,\"redraw\":true},\"mode\":\"immediate\",\"fromcurrent\":true,\"transition\":{\"duration\":0,\"easing\":\"linear\"}}],\"label\":\"0.87\",\"method\":\"animate\"},{\"args\":[[\"0.88\"],{\"frame\":{\"duration\":0,\"redraw\":true},\"mode\":\"immediate\",\"fromcurrent\":true,\"transition\":{\"duration\":0,\"easing\":\"linear\"}}],\"label\":\"0.88\",\"method\":\"animate\"},{\"args\":[[\"0.89\"],{\"frame\":{\"duration\":0,\"redraw\":true},\"mode\":\"immediate\",\"fromcurrent\":true,\"transition\":{\"duration\":0,\"easing\":\"linear\"}}],\"label\":\"0.89\",\"method\":\"animate\"},{\"args\":[[\"0.9\"],{\"frame\":{\"duration\":0,\"redraw\":true},\"mode\":\"immediate\",\"fromcurrent\":true,\"transition\":{\"duration\":0,\"easing\":\"linear\"}}],\"label\":\"0.9\",\"method\":\"animate\"},{\"args\":[[\"0.91\"],{\"frame\":{\"duration\":0,\"redraw\":true},\"mode\":\"immediate\",\"fromcurrent\":true,\"transition\":{\"duration\":0,\"easing\":\"linear\"}}],\"label\":\"0.91\",\"method\":\"animate\"},{\"args\":[[\"0.92\"],{\"frame\":{\"duration\":0,\"redraw\":true},\"mode\":\"immediate\",\"fromcurrent\":true,\"transition\":{\"duration\":0,\"easing\":\"linear\"}}],\"label\":\"0.92\",\"method\":\"animate\"},{\"args\":[[\"0.93\"],{\"frame\":{\"duration\":0,\"redraw\":true},\"mode\":\"immediate\",\"fromcurrent\":true,\"transition\":{\"duration\":0,\"easing\":\"linear\"}}],\"label\":\"0.93\",\"method\":\"animate\"},{\"args\":[[\"0.94\"],{\"frame\":{\"duration\":0,\"redraw\":true},\"mode\":\"immediate\",\"fromcurrent\":true,\"transition\":{\"duration\":0,\"easing\":\"linear\"}}],\"label\":\"0.94\",\"method\":\"animate\"},{\"args\":[[\"0.95\"],{\"frame\":{\"duration\":0,\"redraw\":true},\"mode\":\"immediate\",\"fromcurrent\":true,\"transition\":{\"duration\":0,\"easing\":\"linear\"}}],\"label\":\"0.95\",\"method\":\"animate\"},{\"args\":[[\"0.96\"],{\"frame\":{\"duration\":0,\"redraw\":true},\"mode\":\"immediate\",\"fromcurrent\":true,\"transition\":{\"duration\":0,\"easing\":\"linear\"}}],\"label\":\"0.96\",\"method\":\"animate\"},{\"args\":[[\"0.97\"],{\"frame\":{\"duration\":0,\"redraw\":true},\"mode\":\"immediate\",\"fromcurrent\":true,\"transition\":{\"duration\":0,\"easing\":\"linear\"}}],\"label\":\"0.97\",\"method\":\"animate\"},{\"args\":[[\"0.98\"],{\"frame\":{\"duration\":0,\"redraw\":true},\"mode\":\"immediate\",\"fromcurrent\":true,\"transition\":{\"duration\":0,\"easing\":\"linear\"}}],\"label\":\"0.98\",\"method\":\"animate\"},{\"args\":[[\"0.99\"],{\"frame\":{\"duration\":0,\"redraw\":true},\"mode\":\"immediate\",\"fromcurrent\":true,\"transition\":{\"duration\":0,\"easing\":\"linear\"}}],\"label\":\"0.99\",\"method\":\"animate\"}],\"x\":0.1,\"xanchor\":\"left\",\"y\":0,\"yanchor\":\"top\"}]},                        {\"responsive\": true}                    ).then(function(){\n",
       "                            Plotly.addFrames('c233b842-a70e-4131-af75-8fc6743e3b9e', [{\"data\":[{\"hovertemplate\":\"<b>%{hovertext}</b><br><br>threshold=0.0<br>TP=%{x}<br>TN=%{y}<br>FP=%{z}<extra></extra>\",\"hovertext\":[0.0],\"legendgroup\":\"\",\"marker\":{\"color\":\"#636efa\",\"symbol\":\"circle\"},\"mode\":\"markers\",\"name\":\"\",\"scene\":\"scene\",\"showlegend\":false,\"x\":[0.6171875],\"y\":[0.0],\"z\":[0.3828125],\"type\":\"scatter3d\"}],\"name\":\"0.0\"},{\"data\":[{\"hovertemplate\":\"<b>%{hovertext}</b><br><br>threshold=0.01<br>TP=%{x}<br>TN=%{y}<br>FP=%{z}<extra></extra>\",\"hovertext\":[0.01],\"legendgroup\":\"\",\"marker\":{\"color\":\"#636efa\",\"symbol\":\"circle\"},\"mode\":\"markers\",\"name\":\"\",\"scene\":\"scene\",\"showlegend\":false,\"x\":[0.6171875],\"y\":[0.1640625],\"z\":[0.21875],\"type\":\"scatter3d\"}],\"name\":\"0.01\"},{\"data\":[{\"hovertemplate\":\"<b>%{hovertext}</b><br><br>threshold=0.02<br>TP=%{x}<br>TN=%{y}<br>FP=%{z}<extra></extra>\",\"hovertext\":[0.02],\"legendgroup\":\"\",\"marker\":{\"color\":\"#636efa\",\"symbol\":\"circle\"},\"mode\":\"markers\",\"name\":\"\",\"scene\":\"scene\",\"showlegend\":false,\"x\":[0.6171875],\"y\":[0.234375],\"z\":[0.1484375],\"type\":\"scatter3d\"}],\"name\":\"0.02\"},{\"data\":[{\"hovertemplate\":\"<b>%{hovertext}</b><br><br>threshold=0.03<br>TP=%{x}<br>TN=%{y}<br>FP=%{z}<extra></extra>\",\"hovertext\":[0.03],\"legendgroup\":\"\",\"marker\":{\"color\":\"#636efa\",\"symbol\":\"circle\"},\"mode\":\"markers\",\"name\":\"\",\"scene\":\"scene\",\"showlegend\":false,\"x\":[0.6171875],\"y\":[0.25],\"z\":[0.1328125],\"type\":\"scatter3d\"}],\"name\":\"0.03\"},{\"data\":[{\"hovertemplate\":\"<b>%{hovertext}</b><br><br>threshold=0.04<br>TP=%{x}<br>TN=%{y}<br>FP=%{z}<extra></extra>\",\"hovertext\":[0.04],\"legendgroup\":\"\",\"marker\":{\"color\":\"#636efa\",\"symbol\":\"circle\"},\"mode\":\"markers\",\"name\":\"\",\"scene\":\"scene\",\"showlegend\":false,\"x\":[0.6171875],\"y\":[0.2578125],\"z\":[0.125],\"type\":\"scatter3d\"}],\"name\":\"0.04\"},{\"data\":[{\"hovertemplate\":\"<b>%{hovertext}</b><br><br>threshold=0.05<br>TP=%{x}<br>TN=%{y}<br>FP=%{z}<extra></extra>\",\"hovertext\":[0.05],\"legendgroup\":\"\",\"marker\":{\"color\":\"#636efa\",\"symbol\":\"circle\"},\"mode\":\"markers\",\"name\":\"\",\"scene\":\"scene\",\"showlegend\":false,\"x\":[0.6171875],\"y\":[0.2734375],\"z\":[0.109375],\"type\":\"scatter3d\"}],\"name\":\"0.05\"},{\"data\":[{\"hovertemplate\":\"<b>%{hovertext}</b><br><br>threshold=0.06<br>TP=%{x}<br>TN=%{y}<br>FP=%{z}<extra></extra>\",\"hovertext\":[0.06],\"legendgroup\":\"\",\"marker\":{\"color\":\"#636efa\",\"symbol\":\"circle\"},\"mode\":\"markers\",\"name\":\"\",\"scene\":\"scene\",\"showlegend\":false,\"x\":[0.6171875],\"y\":[0.2890625],\"z\":[0.09375],\"type\":\"scatter3d\"}],\"name\":\"0.06\"},{\"data\":[{\"hovertemplate\":\"<b>%{hovertext}</b><br><br>threshold=0.07<br>TP=%{x}<br>TN=%{y}<br>FP=%{z}<extra></extra>\",\"hovertext\":[0.07],\"legendgroup\":\"\",\"marker\":{\"color\":\"#636efa\",\"symbol\":\"circle\"},\"mode\":\"markers\",\"name\":\"\",\"scene\":\"scene\",\"showlegend\":false,\"x\":[0.6171875],\"y\":[0.3046875],\"z\":[0.078125],\"type\":\"scatter3d\"}],\"name\":\"0.07\"},{\"data\":[{\"hovertemplate\":\"<b>%{hovertext}</b><br><br>threshold=0.08<br>TP=%{x}<br>TN=%{y}<br>FP=%{z}<extra></extra>\",\"hovertext\":[0.08],\"legendgroup\":\"\",\"marker\":{\"color\":\"#636efa\",\"symbol\":\"circle\"},\"mode\":\"markers\",\"name\":\"\",\"scene\":\"scene\",\"showlegend\":false,\"x\":[0.6171875],\"y\":[0.3125],\"z\":[0.0703125],\"type\":\"scatter3d\"}],\"name\":\"0.08\"},{\"data\":[{\"hovertemplate\":\"<b>%{hovertext}</b><br><br>threshold=0.09<br>TP=%{x}<br>TN=%{y}<br>FP=%{z}<extra></extra>\",\"hovertext\":[0.09],\"legendgroup\":\"\",\"marker\":{\"color\":\"#636efa\",\"symbol\":\"circle\"},\"mode\":\"markers\",\"name\":\"\",\"scene\":\"scene\",\"showlegend\":false,\"x\":[0.6171875],\"y\":[0.328125],\"z\":[0.0546875],\"type\":\"scatter3d\"}],\"name\":\"0.09\"},{\"data\":[{\"hovertemplate\":\"<b>%{hovertext}</b><br><br>threshold=0.1<br>TP=%{x}<br>TN=%{y}<br>FP=%{z}<extra></extra>\",\"hovertext\":[0.1],\"legendgroup\":\"\",\"marker\":{\"color\":\"#636efa\",\"symbol\":\"circle\"},\"mode\":\"markers\",\"name\":\"\",\"scene\":\"scene\",\"showlegend\":false,\"x\":[0.6171875],\"y\":[0.328125],\"z\":[0.0546875],\"type\":\"scatter3d\"}],\"name\":\"0.1\"},{\"data\":[{\"hovertemplate\":\"<b>%{hovertext}</b><br><br>threshold=0.11<br>TP=%{x}<br>TN=%{y}<br>FP=%{z}<extra></extra>\",\"hovertext\":[0.11],\"legendgroup\":\"\",\"marker\":{\"color\":\"#636efa\",\"symbol\":\"circle\"},\"mode\":\"markers\",\"name\":\"\",\"scene\":\"scene\",\"showlegend\":false,\"x\":[0.6171875],\"y\":[0.34375],\"z\":[0.0390625],\"type\":\"scatter3d\"}],\"name\":\"0.11\"},{\"data\":[{\"hovertemplate\":\"<b>%{hovertext}</b><br><br>threshold=0.12<br>TP=%{x}<br>TN=%{y}<br>FP=%{z}<extra></extra>\",\"hovertext\":[0.12],\"legendgroup\":\"\",\"marker\":{\"color\":\"#636efa\",\"symbol\":\"circle\"},\"mode\":\"markers\",\"name\":\"\",\"scene\":\"scene\",\"showlegend\":false,\"x\":[0.6171875],\"y\":[0.34375],\"z\":[0.0390625],\"type\":\"scatter3d\"}],\"name\":\"0.12\"},{\"data\":[{\"hovertemplate\":\"<b>%{hovertext}</b><br><br>threshold=0.13<br>TP=%{x}<br>TN=%{y}<br>FP=%{z}<extra></extra>\",\"hovertext\":[0.13],\"legendgroup\":\"\",\"marker\":{\"color\":\"#636efa\",\"symbol\":\"circle\"},\"mode\":\"markers\",\"name\":\"\",\"scene\":\"scene\",\"showlegend\":false,\"x\":[0.6171875],\"y\":[0.34375],\"z\":[0.0390625],\"type\":\"scatter3d\"}],\"name\":\"0.13\"},{\"data\":[{\"hovertemplate\":\"<b>%{hovertext}</b><br><br>threshold=0.14<br>TP=%{x}<br>TN=%{y}<br>FP=%{z}<extra></extra>\",\"hovertext\":[0.14],\"legendgroup\":\"\",\"marker\":{\"color\":\"#636efa\",\"symbol\":\"circle\"},\"mode\":\"markers\",\"name\":\"\",\"scene\":\"scene\",\"showlegend\":false,\"x\":[0.6171875],\"y\":[0.34375],\"z\":[0.0390625],\"type\":\"scatter3d\"}],\"name\":\"0.14\"},{\"data\":[{\"hovertemplate\":\"<b>%{hovertext}</b><br><br>threshold=0.15<br>TP=%{x}<br>TN=%{y}<br>FP=%{z}<extra></extra>\",\"hovertext\":[0.15],\"legendgroup\":\"\",\"marker\":{\"color\":\"#636efa\",\"symbol\":\"circle\"},\"mode\":\"markers\",\"name\":\"\",\"scene\":\"scene\",\"showlegend\":false,\"x\":[0.6171875],\"y\":[0.34375],\"z\":[0.0390625],\"type\":\"scatter3d\"}],\"name\":\"0.15\"},{\"data\":[{\"hovertemplate\":\"<b>%{hovertext}</b><br><br>threshold=0.16<br>TP=%{x}<br>TN=%{y}<br>FP=%{z}<extra></extra>\",\"hovertext\":[0.16],\"legendgroup\":\"\",\"marker\":{\"color\":\"#636efa\",\"symbol\":\"circle\"},\"mode\":\"markers\",\"name\":\"\",\"scene\":\"scene\",\"showlegend\":false,\"x\":[0.6171875],\"y\":[0.34375],\"z\":[0.0390625],\"type\":\"scatter3d\"}],\"name\":\"0.16\"},{\"data\":[{\"hovertemplate\":\"<b>%{hovertext}</b><br><br>threshold=0.17<br>TP=%{x}<br>TN=%{y}<br>FP=%{z}<extra></extra>\",\"hovertext\":[0.17],\"legendgroup\":\"\",\"marker\":{\"color\":\"#636efa\",\"symbol\":\"circle\"},\"mode\":\"markers\",\"name\":\"\",\"scene\":\"scene\",\"showlegend\":false,\"x\":[0.6171875],\"y\":[0.3515625],\"z\":[0.03125],\"type\":\"scatter3d\"}],\"name\":\"0.17\"},{\"data\":[{\"hovertemplate\":\"<b>%{hovertext}</b><br><br>threshold=0.18<br>TP=%{x}<br>TN=%{y}<br>FP=%{z}<extra></extra>\",\"hovertext\":[0.18],\"legendgroup\":\"\",\"marker\":{\"color\":\"#636efa\",\"symbol\":\"circle\"},\"mode\":\"markers\",\"name\":\"\",\"scene\":\"scene\",\"showlegend\":false,\"x\":[0.6171875],\"y\":[0.359375],\"z\":[0.0234375],\"type\":\"scatter3d\"}],\"name\":\"0.18\"},{\"data\":[{\"hovertemplate\":\"<b>%{hovertext}</b><br><br>threshold=0.19<br>TP=%{x}<br>TN=%{y}<br>FP=%{z}<extra></extra>\",\"hovertext\":[0.19],\"legendgroup\":\"\",\"marker\":{\"color\":\"#636efa\",\"symbol\":\"circle\"},\"mode\":\"markers\",\"name\":\"\",\"scene\":\"scene\",\"showlegend\":false,\"x\":[0.6171875],\"y\":[0.359375],\"z\":[0.0234375],\"type\":\"scatter3d\"}],\"name\":\"0.19\"},{\"data\":[{\"hovertemplate\":\"<b>%{hovertext}</b><br><br>threshold=0.2<br>TP=%{x}<br>TN=%{y}<br>FP=%{z}<extra></extra>\",\"hovertext\":[0.2],\"legendgroup\":\"\",\"marker\":{\"color\":\"#636efa\",\"symbol\":\"circle\"},\"mode\":\"markers\",\"name\":\"\",\"scene\":\"scene\",\"showlegend\":false,\"x\":[0.6171875],\"y\":[0.359375],\"z\":[0.0234375],\"type\":\"scatter3d\"}],\"name\":\"0.2\"},{\"data\":[{\"hovertemplate\":\"<b>%{hovertext}</b><br><br>threshold=0.21<br>TP=%{x}<br>TN=%{y}<br>FP=%{z}<extra></extra>\",\"hovertext\":[0.21],\"legendgroup\":\"\",\"marker\":{\"color\":\"#636efa\",\"symbol\":\"circle\"},\"mode\":\"markers\",\"name\":\"\",\"scene\":\"scene\",\"showlegend\":false,\"x\":[0.6171875],\"y\":[0.359375],\"z\":[0.0234375],\"type\":\"scatter3d\"}],\"name\":\"0.21\"},{\"data\":[{\"hovertemplate\":\"<b>%{hovertext}</b><br><br>threshold=0.22<br>TP=%{x}<br>TN=%{y}<br>FP=%{z}<extra></extra>\",\"hovertext\":[0.22],\"legendgroup\":\"\",\"marker\":{\"color\":\"#636efa\",\"symbol\":\"circle\"},\"mode\":\"markers\",\"name\":\"\",\"scene\":\"scene\",\"showlegend\":false,\"x\":[0.6171875],\"y\":[0.359375],\"z\":[0.0234375],\"type\":\"scatter3d\"}],\"name\":\"0.22\"},{\"data\":[{\"hovertemplate\":\"<b>%{hovertext}</b><br><br>threshold=0.23<br>TP=%{x}<br>TN=%{y}<br>FP=%{z}<extra></extra>\",\"hovertext\":[0.23],\"legendgroup\":\"\",\"marker\":{\"color\":\"#636efa\",\"symbol\":\"circle\"},\"mode\":\"markers\",\"name\":\"\",\"scene\":\"scene\",\"showlegend\":false,\"x\":[0.6171875],\"y\":[0.359375],\"z\":[0.0234375],\"type\":\"scatter3d\"}],\"name\":\"0.23\"},{\"data\":[{\"hovertemplate\":\"<b>%{hovertext}</b><br><br>threshold=0.24<br>TP=%{x}<br>TN=%{y}<br>FP=%{z}<extra></extra>\",\"hovertext\":[0.24],\"legendgroup\":\"\",\"marker\":{\"color\":\"#636efa\",\"symbol\":\"circle\"},\"mode\":\"markers\",\"name\":\"\",\"scene\":\"scene\",\"showlegend\":false,\"x\":[0.6171875],\"y\":[0.359375],\"z\":[0.0234375],\"type\":\"scatter3d\"}],\"name\":\"0.24\"},{\"data\":[{\"hovertemplate\":\"<b>%{hovertext}</b><br><br>threshold=0.25<br>TP=%{x}<br>TN=%{y}<br>FP=%{z}<extra></extra>\",\"hovertext\":[0.25],\"legendgroup\":\"\",\"marker\":{\"color\":\"#636efa\",\"symbol\":\"circle\"},\"mode\":\"markers\",\"name\":\"\",\"scene\":\"scene\",\"showlegend\":false,\"x\":[0.6171875],\"y\":[0.359375],\"z\":[0.0234375],\"type\":\"scatter3d\"}],\"name\":\"0.25\"},{\"data\":[{\"hovertemplate\":\"<b>%{hovertext}</b><br><br>threshold=0.26<br>TP=%{x}<br>TN=%{y}<br>FP=%{z}<extra></extra>\",\"hovertext\":[0.26],\"legendgroup\":\"\",\"marker\":{\"color\":\"#636efa\",\"symbol\":\"circle\"},\"mode\":\"markers\",\"name\":\"\",\"scene\":\"scene\",\"showlegend\":false,\"x\":[0.6171875],\"y\":[0.359375],\"z\":[0.0234375],\"type\":\"scatter3d\"}],\"name\":\"0.26\"},{\"data\":[{\"hovertemplate\":\"<b>%{hovertext}</b><br><br>threshold=0.27<br>TP=%{x}<br>TN=%{y}<br>FP=%{z}<extra></extra>\",\"hovertext\":[0.27],\"legendgroup\":\"\",\"marker\":{\"color\":\"#636efa\",\"symbol\":\"circle\"},\"mode\":\"markers\",\"name\":\"\",\"scene\":\"scene\",\"showlegend\":false,\"x\":[0.6171875],\"y\":[0.359375],\"z\":[0.0234375],\"type\":\"scatter3d\"}],\"name\":\"0.27\"},{\"data\":[{\"hovertemplate\":\"<b>%{hovertext}</b><br><br>threshold=0.28<br>TP=%{x}<br>TN=%{y}<br>FP=%{z}<extra></extra>\",\"hovertext\":[0.28],\"legendgroup\":\"\",\"marker\":{\"color\":\"#636efa\",\"symbol\":\"circle\"},\"mode\":\"markers\",\"name\":\"\",\"scene\":\"scene\",\"showlegend\":false,\"x\":[0.6171875],\"y\":[0.359375],\"z\":[0.0234375],\"type\":\"scatter3d\"}],\"name\":\"0.28\"},{\"data\":[{\"hovertemplate\":\"<b>%{hovertext}</b><br><br>threshold=0.29<br>TP=%{x}<br>TN=%{y}<br>FP=%{z}<extra></extra>\",\"hovertext\":[0.29],\"legendgroup\":\"\",\"marker\":{\"color\":\"#636efa\",\"symbol\":\"circle\"},\"mode\":\"markers\",\"name\":\"\",\"scene\":\"scene\",\"showlegend\":false,\"x\":[0.6171875],\"y\":[0.359375],\"z\":[0.0234375],\"type\":\"scatter3d\"}],\"name\":\"0.29\"},{\"data\":[{\"hovertemplate\":\"<b>%{hovertext}</b><br><br>threshold=0.3<br>TP=%{x}<br>TN=%{y}<br>FP=%{z}<extra></extra>\",\"hovertext\":[0.3],\"legendgroup\":\"\",\"marker\":{\"color\":\"#636efa\",\"symbol\":\"circle\"},\"mode\":\"markers\",\"name\":\"\",\"scene\":\"scene\",\"showlegend\":false,\"x\":[0.6171875],\"y\":[0.359375],\"z\":[0.0234375],\"type\":\"scatter3d\"}],\"name\":\"0.3\"},{\"data\":[{\"hovertemplate\":\"<b>%{hovertext}</b><br><br>threshold=0.31<br>TP=%{x}<br>TN=%{y}<br>FP=%{z}<extra></extra>\",\"hovertext\":[0.31],\"legendgroup\":\"\",\"marker\":{\"color\":\"#636efa\",\"symbol\":\"circle\"},\"mode\":\"markers\",\"name\":\"\",\"scene\":\"scene\",\"showlegend\":false,\"x\":[0.6171875],\"y\":[0.359375],\"z\":[0.0234375],\"type\":\"scatter3d\"}],\"name\":\"0.31\"},{\"data\":[{\"hovertemplate\":\"<b>%{hovertext}</b><br><br>threshold=0.32<br>TP=%{x}<br>TN=%{y}<br>FP=%{z}<extra></extra>\",\"hovertext\":[0.32],\"legendgroup\":\"\",\"marker\":{\"color\":\"#636efa\",\"symbol\":\"circle\"},\"mode\":\"markers\",\"name\":\"\",\"scene\":\"scene\",\"showlegend\":false,\"x\":[0.6171875],\"y\":[0.359375],\"z\":[0.0234375],\"type\":\"scatter3d\"}],\"name\":\"0.32\"},{\"data\":[{\"hovertemplate\":\"<b>%{hovertext}</b><br><br>threshold=0.33<br>TP=%{x}<br>TN=%{y}<br>FP=%{z}<extra></extra>\",\"hovertext\":[0.33],\"legendgroup\":\"\",\"marker\":{\"color\":\"#636efa\",\"symbol\":\"circle\"},\"mode\":\"markers\",\"name\":\"\",\"scene\":\"scene\",\"showlegend\":false,\"x\":[0.6171875],\"y\":[0.359375],\"z\":[0.0234375],\"type\":\"scatter3d\"}],\"name\":\"0.33\"},{\"data\":[{\"hovertemplate\":\"<b>%{hovertext}</b><br><br>threshold=0.34<br>TP=%{x}<br>TN=%{y}<br>FP=%{z}<extra></extra>\",\"hovertext\":[0.34],\"legendgroup\":\"\",\"marker\":{\"color\":\"#636efa\",\"symbol\":\"circle\"},\"mode\":\"markers\",\"name\":\"\",\"scene\":\"scene\",\"showlegend\":false,\"x\":[0.6171875],\"y\":[0.3671875],\"z\":[0.015625],\"type\":\"scatter3d\"}],\"name\":\"0.34\"},{\"data\":[{\"hovertemplate\":\"<b>%{hovertext}</b><br><br>threshold=0.35<br>TP=%{x}<br>TN=%{y}<br>FP=%{z}<extra></extra>\",\"hovertext\":[0.35],\"legendgroup\":\"\",\"marker\":{\"color\":\"#636efa\",\"symbol\":\"circle\"},\"mode\":\"markers\",\"name\":\"\",\"scene\":\"scene\",\"showlegend\":false,\"x\":[0.6171875],\"y\":[0.3671875],\"z\":[0.015625],\"type\":\"scatter3d\"}],\"name\":\"0.35\"},{\"data\":[{\"hovertemplate\":\"<b>%{hovertext}</b><br><br>threshold=0.36<br>TP=%{x}<br>TN=%{y}<br>FP=%{z}<extra></extra>\",\"hovertext\":[0.36],\"legendgroup\":\"\",\"marker\":{\"color\":\"#636efa\",\"symbol\":\"circle\"},\"mode\":\"markers\",\"name\":\"\",\"scene\":\"scene\",\"showlegend\":false,\"x\":[0.6171875],\"y\":[0.3671875],\"z\":[0.015625],\"type\":\"scatter3d\"}],\"name\":\"0.36\"},{\"data\":[{\"hovertemplate\":\"<b>%{hovertext}</b><br><br>threshold=0.37<br>TP=%{x}<br>TN=%{y}<br>FP=%{z}<extra></extra>\",\"hovertext\":[0.37],\"legendgroup\":\"\",\"marker\":{\"color\":\"#636efa\",\"symbol\":\"circle\"},\"mode\":\"markers\",\"name\":\"\",\"scene\":\"scene\",\"showlegend\":false,\"x\":[0.6171875],\"y\":[0.3671875],\"z\":[0.015625],\"type\":\"scatter3d\"}],\"name\":\"0.37\"},{\"data\":[{\"hovertemplate\":\"<b>%{hovertext}</b><br><br>threshold=0.38<br>TP=%{x}<br>TN=%{y}<br>FP=%{z}<extra></extra>\",\"hovertext\":[0.38],\"legendgroup\":\"\",\"marker\":{\"color\":\"#636efa\",\"symbol\":\"circle\"},\"mode\":\"markers\",\"name\":\"\",\"scene\":\"scene\",\"showlegend\":false,\"x\":[0.6171875],\"y\":[0.3671875],\"z\":[0.015625],\"type\":\"scatter3d\"}],\"name\":\"0.38\"},{\"data\":[{\"hovertemplate\":\"<b>%{hovertext}</b><br><br>threshold=0.39<br>TP=%{x}<br>TN=%{y}<br>FP=%{z}<extra></extra>\",\"hovertext\":[0.39],\"legendgroup\":\"\",\"marker\":{\"color\":\"#636efa\",\"symbol\":\"circle\"},\"mode\":\"markers\",\"name\":\"\",\"scene\":\"scene\",\"showlegend\":false,\"x\":[0.6171875],\"y\":[0.3671875],\"z\":[0.015625],\"type\":\"scatter3d\"}],\"name\":\"0.39\"},{\"data\":[{\"hovertemplate\":\"<b>%{hovertext}</b><br><br>threshold=0.4<br>TP=%{x}<br>TN=%{y}<br>FP=%{z}<extra></extra>\",\"hovertext\":[0.4],\"legendgroup\":\"\",\"marker\":{\"color\":\"#636efa\",\"symbol\":\"circle\"},\"mode\":\"markers\",\"name\":\"\",\"scene\":\"scene\",\"showlegend\":false,\"x\":[0.6171875],\"y\":[0.3671875],\"z\":[0.015625],\"type\":\"scatter3d\"}],\"name\":\"0.4\"},{\"data\":[{\"hovertemplate\":\"<b>%{hovertext}</b><br><br>threshold=0.41<br>TP=%{x}<br>TN=%{y}<br>FP=%{z}<extra></extra>\",\"hovertext\":[0.41],\"legendgroup\":\"\",\"marker\":{\"color\":\"#636efa\",\"symbol\":\"circle\"},\"mode\":\"markers\",\"name\":\"\",\"scene\":\"scene\",\"showlegend\":false,\"x\":[0.6171875],\"y\":[0.375],\"z\":[0.0078125],\"type\":\"scatter3d\"}],\"name\":\"0.41\"},{\"data\":[{\"hovertemplate\":\"<b>%{hovertext}</b><br><br>threshold=0.42<br>TP=%{x}<br>TN=%{y}<br>FP=%{z}<extra></extra>\",\"hovertext\":[0.42],\"legendgroup\":\"\",\"marker\":{\"color\":\"#636efa\",\"symbol\":\"circle\"},\"mode\":\"markers\",\"name\":\"\",\"scene\":\"scene\",\"showlegend\":false,\"x\":[0.6171875],\"y\":[0.375],\"z\":[0.0078125],\"type\":\"scatter3d\"}],\"name\":\"0.42\"},{\"data\":[{\"hovertemplate\":\"<b>%{hovertext}</b><br><br>threshold=0.43<br>TP=%{x}<br>TN=%{y}<br>FP=%{z}<extra></extra>\",\"hovertext\":[0.43],\"legendgroup\":\"\",\"marker\":{\"color\":\"#636efa\",\"symbol\":\"circle\"},\"mode\":\"markers\",\"name\":\"\",\"scene\":\"scene\",\"showlegend\":false,\"x\":[0.6171875],\"y\":[0.375],\"z\":[0.0078125],\"type\":\"scatter3d\"}],\"name\":\"0.43\"},{\"data\":[{\"hovertemplate\":\"<b>%{hovertext}</b><br><br>threshold=0.44<br>TP=%{x}<br>TN=%{y}<br>FP=%{z}<extra></extra>\",\"hovertext\":[0.44],\"legendgroup\":\"\",\"marker\":{\"color\":\"#636efa\",\"symbol\":\"circle\"},\"mode\":\"markers\",\"name\":\"\",\"scene\":\"scene\",\"showlegend\":false,\"x\":[0.6171875],\"y\":[0.375],\"z\":[0.0078125],\"type\":\"scatter3d\"}],\"name\":\"0.44\"},{\"data\":[{\"hovertemplate\":\"<b>%{hovertext}</b><br><br>threshold=0.45<br>TP=%{x}<br>TN=%{y}<br>FP=%{z}<extra></extra>\",\"hovertext\":[0.45],\"legendgroup\":\"\",\"marker\":{\"color\":\"#636efa\",\"symbol\":\"circle\"},\"mode\":\"markers\",\"name\":\"\",\"scene\":\"scene\",\"showlegend\":false,\"x\":[0.6171875],\"y\":[0.375],\"z\":[0.0078125],\"type\":\"scatter3d\"}],\"name\":\"0.45\"},{\"data\":[{\"hovertemplate\":\"<b>%{hovertext}</b><br><br>threshold=0.46<br>TP=%{x}<br>TN=%{y}<br>FP=%{z}<extra></extra>\",\"hovertext\":[0.46],\"legendgroup\":\"\",\"marker\":{\"color\":\"#636efa\",\"symbol\":\"circle\"},\"mode\":\"markers\",\"name\":\"\",\"scene\":\"scene\",\"showlegend\":false,\"x\":[0.6171875],\"y\":[0.375],\"z\":[0.0078125],\"type\":\"scatter3d\"}],\"name\":\"0.46\"},{\"data\":[{\"hovertemplate\":\"<b>%{hovertext}</b><br><br>threshold=0.47<br>TP=%{x}<br>TN=%{y}<br>FP=%{z}<extra></extra>\",\"hovertext\":[0.47],\"legendgroup\":\"\",\"marker\":{\"color\":\"#636efa\",\"symbol\":\"circle\"},\"mode\":\"markers\",\"name\":\"\",\"scene\":\"scene\",\"showlegend\":false,\"x\":[0.6171875],\"y\":[0.375],\"z\":[0.0078125],\"type\":\"scatter3d\"}],\"name\":\"0.47\"},{\"data\":[{\"hovertemplate\":\"<b>%{hovertext}</b><br><br>threshold=0.48<br>TP=%{x}<br>TN=%{y}<br>FP=%{z}<extra></extra>\",\"hovertext\":[0.48],\"legendgroup\":\"\",\"marker\":{\"color\":\"#636efa\",\"symbol\":\"circle\"},\"mode\":\"markers\",\"name\":\"\",\"scene\":\"scene\",\"showlegend\":false,\"x\":[0.6171875],\"y\":[0.375],\"z\":[0.0078125],\"type\":\"scatter3d\"}],\"name\":\"0.48\"},{\"data\":[{\"hovertemplate\":\"<b>%{hovertext}</b><br><br>threshold=0.49<br>TP=%{x}<br>TN=%{y}<br>FP=%{z}<extra></extra>\",\"hovertext\":[0.49],\"legendgroup\":\"\",\"marker\":{\"color\":\"#636efa\",\"symbol\":\"circle\"},\"mode\":\"markers\",\"name\":\"\",\"scene\":\"scene\",\"showlegend\":false,\"x\":[0.6171875],\"y\":[0.375],\"z\":[0.0078125],\"type\":\"scatter3d\"}],\"name\":\"0.49\"},{\"data\":[{\"hovertemplate\":\"<b>%{hovertext}</b><br><br>threshold=0.5<br>TP=%{x}<br>TN=%{y}<br>FP=%{z}<extra></extra>\",\"hovertext\":[0.5],\"legendgroup\":\"\",\"marker\":{\"color\":\"#636efa\",\"symbol\":\"circle\"},\"mode\":\"markers\",\"name\":\"\",\"scene\":\"scene\",\"showlegend\":false,\"x\":[0.6171875],\"y\":[0.375],\"z\":[0.0078125],\"type\":\"scatter3d\"}],\"name\":\"0.5\"},{\"data\":[{\"hovertemplate\":\"<b>%{hovertext}</b><br><br>threshold=0.51<br>TP=%{x}<br>TN=%{y}<br>FP=%{z}<extra></extra>\",\"hovertext\":[0.51],\"legendgroup\":\"\",\"marker\":{\"color\":\"#636efa\",\"symbol\":\"circle\"},\"mode\":\"markers\",\"name\":\"\",\"scene\":\"scene\",\"showlegend\":false,\"x\":[0.6171875],\"y\":[0.375],\"z\":[0.0078125],\"type\":\"scatter3d\"}],\"name\":\"0.51\"},{\"data\":[{\"hovertemplate\":\"<b>%{hovertext}</b><br><br>threshold=0.52<br>TP=%{x}<br>TN=%{y}<br>FP=%{z}<extra></extra>\",\"hovertext\":[0.52],\"legendgroup\":\"\",\"marker\":{\"color\":\"#636efa\",\"symbol\":\"circle\"},\"mode\":\"markers\",\"name\":\"\",\"scene\":\"scene\",\"showlegend\":false,\"x\":[0.6171875],\"y\":[0.375],\"z\":[0.0078125],\"type\":\"scatter3d\"}],\"name\":\"0.52\"},{\"data\":[{\"hovertemplate\":\"<b>%{hovertext}</b><br><br>threshold=0.53<br>TP=%{x}<br>TN=%{y}<br>FP=%{z}<extra></extra>\",\"hovertext\":[0.53],\"legendgroup\":\"\",\"marker\":{\"color\":\"#636efa\",\"symbol\":\"circle\"},\"mode\":\"markers\",\"name\":\"\",\"scene\":\"scene\",\"showlegend\":false,\"x\":[0.6171875],\"y\":[0.375],\"z\":[0.0078125],\"type\":\"scatter3d\"}],\"name\":\"0.53\"},{\"data\":[{\"hovertemplate\":\"<b>%{hovertext}</b><br><br>threshold=0.54<br>TP=%{x}<br>TN=%{y}<br>FP=%{z}<extra></extra>\",\"hovertext\":[0.54],\"legendgroup\":\"\",\"marker\":{\"color\":\"#636efa\",\"symbol\":\"circle\"},\"mode\":\"markers\",\"name\":\"\",\"scene\":\"scene\",\"showlegend\":false,\"x\":[0.6171875],\"y\":[0.375],\"z\":[0.0078125],\"type\":\"scatter3d\"}],\"name\":\"0.54\"},{\"data\":[{\"hovertemplate\":\"<b>%{hovertext}</b><br><br>threshold=0.55<br>TP=%{x}<br>TN=%{y}<br>FP=%{z}<extra></extra>\",\"hovertext\":[0.55],\"legendgroup\":\"\",\"marker\":{\"color\":\"#636efa\",\"symbol\":\"circle\"},\"mode\":\"markers\",\"name\":\"\",\"scene\":\"scene\",\"showlegend\":false,\"x\":[0.6171875],\"y\":[0.375],\"z\":[0.0078125],\"type\":\"scatter3d\"}],\"name\":\"0.55\"},{\"data\":[{\"hovertemplate\":\"<b>%{hovertext}</b><br><br>threshold=0.56<br>TP=%{x}<br>TN=%{y}<br>FP=%{z}<extra></extra>\",\"hovertext\":[0.56],\"legendgroup\":\"\",\"marker\":{\"color\":\"#636efa\",\"symbol\":\"circle\"},\"mode\":\"markers\",\"name\":\"\",\"scene\":\"scene\",\"showlegend\":false,\"x\":[0.6171875],\"y\":[0.375],\"z\":[0.0078125],\"type\":\"scatter3d\"}],\"name\":\"0.56\"},{\"data\":[{\"hovertemplate\":\"<b>%{hovertext}</b><br><br>threshold=0.57<br>TP=%{x}<br>TN=%{y}<br>FP=%{z}<extra></extra>\",\"hovertext\":[0.57],\"legendgroup\":\"\",\"marker\":{\"color\":\"#636efa\",\"symbol\":\"circle\"},\"mode\":\"markers\",\"name\":\"\",\"scene\":\"scene\",\"showlegend\":false,\"x\":[0.6171875],\"y\":[0.375],\"z\":[0.0078125],\"type\":\"scatter3d\"}],\"name\":\"0.57\"},{\"data\":[{\"hovertemplate\":\"<b>%{hovertext}</b><br><br>threshold=0.58<br>TP=%{x}<br>TN=%{y}<br>FP=%{z}<extra></extra>\",\"hovertext\":[0.58],\"legendgroup\":\"\",\"marker\":{\"color\":\"#636efa\",\"symbol\":\"circle\"},\"mode\":\"markers\",\"name\":\"\",\"scene\":\"scene\",\"showlegend\":false,\"x\":[0.6171875],\"y\":[0.375],\"z\":[0.0078125],\"type\":\"scatter3d\"}],\"name\":\"0.58\"},{\"data\":[{\"hovertemplate\":\"<b>%{hovertext}</b><br><br>threshold=0.59<br>TP=%{x}<br>TN=%{y}<br>FP=%{z}<extra></extra>\",\"hovertext\":[0.59],\"legendgroup\":\"\",\"marker\":{\"color\":\"#636efa\",\"symbol\":\"circle\"},\"mode\":\"markers\",\"name\":\"\",\"scene\":\"scene\",\"showlegend\":false,\"x\":[0.609375],\"y\":[0.375],\"z\":[0.0078125],\"type\":\"scatter3d\"}],\"name\":\"0.59\"},{\"data\":[{\"hovertemplate\":\"<b>%{hovertext}</b><br><br>threshold=0.6<br>TP=%{x}<br>TN=%{y}<br>FP=%{z}<extra></extra>\",\"hovertext\":[0.6],\"legendgroup\":\"\",\"marker\":{\"color\":\"#636efa\",\"symbol\":\"circle\"},\"mode\":\"markers\",\"name\":\"\",\"scene\":\"scene\",\"showlegend\":false,\"x\":[0.609375],\"y\":[0.375],\"z\":[0.0078125],\"type\":\"scatter3d\"}],\"name\":\"0.6\"},{\"data\":[{\"hovertemplate\":\"<b>%{hovertext}</b><br><br>threshold=0.61<br>TP=%{x}<br>TN=%{y}<br>FP=%{z}<extra></extra>\",\"hovertext\":[0.61],\"legendgroup\":\"\",\"marker\":{\"color\":\"#636efa\",\"symbol\":\"circle\"},\"mode\":\"markers\",\"name\":\"\",\"scene\":\"scene\",\"showlegend\":false,\"x\":[0.609375],\"y\":[0.375],\"z\":[0.0078125],\"type\":\"scatter3d\"}],\"name\":\"0.61\"},{\"data\":[{\"hovertemplate\":\"<b>%{hovertext}</b><br><br>threshold=0.62<br>TP=%{x}<br>TN=%{y}<br>FP=%{z}<extra></extra>\",\"hovertext\":[0.62],\"legendgroup\":\"\",\"marker\":{\"color\":\"#636efa\",\"symbol\":\"circle\"},\"mode\":\"markers\",\"name\":\"\",\"scene\":\"scene\",\"showlegend\":false,\"x\":[0.609375],\"y\":[0.375],\"z\":[0.0078125],\"type\":\"scatter3d\"}],\"name\":\"0.62\"},{\"data\":[{\"hovertemplate\":\"<b>%{hovertext}</b><br><br>threshold=0.63<br>TP=%{x}<br>TN=%{y}<br>FP=%{z}<extra></extra>\",\"hovertext\":[0.63],\"legendgroup\":\"\",\"marker\":{\"color\":\"#636efa\",\"symbol\":\"circle\"},\"mode\":\"markers\",\"name\":\"\",\"scene\":\"scene\",\"showlegend\":false,\"x\":[0.609375],\"y\":[0.375],\"z\":[0.0078125],\"type\":\"scatter3d\"}],\"name\":\"0.63\"},{\"data\":[{\"hovertemplate\":\"<b>%{hovertext}</b><br><br>threshold=0.64<br>TP=%{x}<br>TN=%{y}<br>FP=%{z}<extra></extra>\",\"hovertext\":[0.64],\"legendgroup\":\"\",\"marker\":{\"color\":\"#636efa\",\"symbol\":\"circle\"},\"mode\":\"markers\",\"name\":\"\",\"scene\":\"scene\",\"showlegend\":false,\"x\":[0.609375],\"y\":[0.375],\"z\":[0.0078125],\"type\":\"scatter3d\"}],\"name\":\"0.64\"},{\"data\":[{\"hovertemplate\":\"<b>%{hovertext}</b><br><br>threshold=0.65<br>TP=%{x}<br>TN=%{y}<br>FP=%{z}<extra></extra>\",\"hovertext\":[0.65],\"legendgroup\":\"\",\"marker\":{\"color\":\"#636efa\",\"symbol\":\"circle\"},\"mode\":\"markers\",\"name\":\"\",\"scene\":\"scene\",\"showlegend\":false,\"x\":[0.609375],\"y\":[0.375],\"z\":[0.0078125],\"type\":\"scatter3d\"}],\"name\":\"0.65\"},{\"data\":[{\"hovertemplate\":\"<b>%{hovertext}</b><br><br>threshold=0.66<br>TP=%{x}<br>TN=%{y}<br>FP=%{z}<extra></extra>\",\"hovertext\":[0.66],\"legendgroup\":\"\",\"marker\":{\"color\":\"#636efa\",\"symbol\":\"circle\"},\"mode\":\"markers\",\"name\":\"\",\"scene\":\"scene\",\"showlegend\":false,\"x\":[0.609375],\"y\":[0.3828125],\"z\":[0.0],\"type\":\"scatter3d\"}],\"name\":\"0.66\"},{\"data\":[{\"hovertemplate\":\"<b>%{hovertext}</b><br><br>threshold=0.67<br>TP=%{x}<br>TN=%{y}<br>FP=%{z}<extra></extra>\",\"hovertext\":[0.67],\"legendgroup\":\"\",\"marker\":{\"color\":\"#636efa\",\"symbol\":\"circle\"},\"mode\":\"markers\",\"name\":\"\",\"scene\":\"scene\",\"showlegend\":false,\"x\":[0.6015625],\"y\":[0.3828125],\"z\":[0.0],\"type\":\"scatter3d\"}],\"name\":\"0.67\"},{\"data\":[{\"hovertemplate\":\"<b>%{hovertext}</b><br><br>threshold=0.68<br>TP=%{x}<br>TN=%{y}<br>FP=%{z}<extra></extra>\",\"hovertext\":[0.68],\"legendgroup\":\"\",\"marker\":{\"color\":\"#636efa\",\"symbol\":\"circle\"},\"mode\":\"markers\",\"name\":\"\",\"scene\":\"scene\",\"showlegend\":false,\"x\":[0.6015625],\"y\":[0.3828125],\"z\":[0.0],\"type\":\"scatter3d\"}],\"name\":\"0.68\"},{\"data\":[{\"hovertemplate\":\"<b>%{hovertext}</b><br><br>threshold=0.69<br>TP=%{x}<br>TN=%{y}<br>FP=%{z}<extra></extra>\",\"hovertext\":[0.69],\"legendgroup\":\"\",\"marker\":{\"color\":\"#636efa\",\"symbol\":\"circle\"},\"mode\":\"markers\",\"name\":\"\",\"scene\":\"scene\",\"showlegend\":false,\"x\":[0.6015625],\"y\":[0.3828125],\"z\":[0.0],\"type\":\"scatter3d\"}],\"name\":\"0.69\"},{\"data\":[{\"hovertemplate\":\"<b>%{hovertext}</b><br><br>threshold=0.7<br>TP=%{x}<br>TN=%{y}<br>FP=%{z}<extra></extra>\",\"hovertext\":[0.7],\"legendgroup\":\"\",\"marker\":{\"color\":\"#636efa\",\"symbol\":\"circle\"},\"mode\":\"markers\",\"name\":\"\",\"scene\":\"scene\",\"showlegend\":false,\"x\":[0.6015625],\"y\":[0.3828125],\"z\":[0.0],\"type\":\"scatter3d\"}],\"name\":\"0.7\"},{\"data\":[{\"hovertemplate\":\"<b>%{hovertext}</b><br><br>threshold=0.71<br>TP=%{x}<br>TN=%{y}<br>FP=%{z}<extra></extra>\",\"hovertext\":[0.71],\"legendgroup\":\"\",\"marker\":{\"color\":\"#636efa\",\"symbol\":\"circle\"},\"mode\":\"markers\",\"name\":\"\",\"scene\":\"scene\",\"showlegend\":false,\"x\":[0.6015625],\"y\":[0.3828125],\"z\":[0.0],\"type\":\"scatter3d\"}],\"name\":\"0.71\"},{\"data\":[{\"hovertemplate\":\"<b>%{hovertext}</b><br><br>threshold=0.72<br>TP=%{x}<br>TN=%{y}<br>FP=%{z}<extra></extra>\",\"hovertext\":[0.72],\"legendgroup\":\"\",\"marker\":{\"color\":\"#636efa\",\"symbol\":\"circle\"},\"mode\":\"markers\",\"name\":\"\",\"scene\":\"scene\",\"showlegend\":false,\"x\":[0.6015625],\"y\":[0.3828125],\"z\":[0.0],\"type\":\"scatter3d\"}],\"name\":\"0.72\"},{\"data\":[{\"hovertemplate\":\"<b>%{hovertext}</b><br><br>threshold=0.73<br>TP=%{x}<br>TN=%{y}<br>FP=%{z}<extra></extra>\",\"hovertext\":[0.73],\"legendgroup\":\"\",\"marker\":{\"color\":\"#636efa\",\"symbol\":\"circle\"},\"mode\":\"markers\",\"name\":\"\",\"scene\":\"scene\",\"showlegend\":false,\"x\":[0.6015625],\"y\":[0.3828125],\"z\":[0.0],\"type\":\"scatter3d\"}],\"name\":\"0.73\"},{\"data\":[{\"hovertemplate\":\"<b>%{hovertext}</b><br><br>threshold=0.74<br>TP=%{x}<br>TN=%{y}<br>FP=%{z}<extra></extra>\",\"hovertext\":[0.74],\"legendgroup\":\"\",\"marker\":{\"color\":\"#636efa\",\"symbol\":\"circle\"},\"mode\":\"markers\",\"name\":\"\",\"scene\":\"scene\",\"showlegend\":false,\"x\":[0.59375],\"y\":[0.3828125],\"z\":[0.0],\"type\":\"scatter3d\"}],\"name\":\"0.74\"},{\"data\":[{\"hovertemplate\":\"<b>%{hovertext}</b><br><br>threshold=0.75<br>TP=%{x}<br>TN=%{y}<br>FP=%{z}<extra></extra>\",\"hovertext\":[0.75],\"legendgroup\":\"\",\"marker\":{\"color\":\"#636efa\",\"symbol\":\"circle\"},\"mode\":\"markers\",\"name\":\"\",\"scene\":\"scene\",\"showlegend\":false,\"x\":[0.59375],\"y\":[0.3828125],\"z\":[0.0],\"type\":\"scatter3d\"}],\"name\":\"0.75\"},{\"data\":[{\"hovertemplate\":\"<b>%{hovertext}</b><br><br>threshold=0.76<br>TP=%{x}<br>TN=%{y}<br>FP=%{z}<extra></extra>\",\"hovertext\":[0.76],\"legendgroup\":\"\",\"marker\":{\"color\":\"#636efa\",\"symbol\":\"circle\"},\"mode\":\"markers\",\"name\":\"\",\"scene\":\"scene\",\"showlegend\":false,\"x\":[0.59375],\"y\":[0.3828125],\"z\":[0.0],\"type\":\"scatter3d\"}],\"name\":\"0.76\"},{\"data\":[{\"hovertemplate\":\"<b>%{hovertext}</b><br><br>threshold=0.77<br>TP=%{x}<br>TN=%{y}<br>FP=%{z}<extra></extra>\",\"hovertext\":[0.77],\"legendgroup\":\"\",\"marker\":{\"color\":\"#636efa\",\"symbol\":\"circle\"},\"mode\":\"markers\",\"name\":\"\",\"scene\":\"scene\",\"showlegend\":false,\"x\":[0.59375],\"y\":[0.3828125],\"z\":[0.0],\"type\":\"scatter3d\"}],\"name\":\"0.77\"},{\"data\":[{\"hovertemplate\":\"<b>%{hovertext}</b><br><br>threshold=0.78<br>TP=%{x}<br>TN=%{y}<br>FP=%{z}<extra></extra>\",\"hovertext\":[0.78],\"legendgroup\":\"\",\"marker\":{\"color\":\"#636efa\",\"symbol\":\"circle\"},\"mode\":\"markers\",\"name\":\"\",\"scene\":\"scene\",\"showlegend\":false,\"x\":[0.59375],\"y\":[0.3828125],\"z\":[0.0],\"type\":\"scatter3d\"}],\"name\":\"0.78\"},{\"data\":[{\"hovertemplate\":\"<b>%{hovertext}</b><br><br>threshold=0.79<br>TP=%{x}<br>TN=%{y}<br>FP=%{z}<extra></extra>\",\"hovertext\":[0.79],\"legendgroup\":\"\",\"marker\":{\"color\":\"#636efa\",\"symbol\":\"circle\"},\"mode\":\"markers\",\"name\":\"\",\"scene\":\"scene\",\"showlegend\":false,\"x\":[0.5859375],\"y\":[0.3828125],\"z\":[0.0],\"type\":\"scatter3d\"}],\"name\":\"0.79\"},{\"data\":[{\"hovertemplate\":\"<b>%{hovertext}</b><br><br>threshold=0.8<br>TP=%{x}<br>TN=%{y}<br>FP=%{z}<extra></extra>\",\"hovertext\":[0.8],\"legendgroup\":\"\",\"marker\":{\"color\":\"#636efa\",\"symbol\":\"circle\"},\"mode\":\"markers\",\"name\":\"\",\"scene\":\"scene\",\"showlegend\":false,\"x\":[0.5859375],\"y\":[0.3828125],\"z\":[0.0],\"type\":\"scatter3d\"}],\"name\":\"0.8\"},{\"data\":[{\"hovertemplate\":\"<b>%{hovertext}</b><br><br>threshold=0.81<br>TP=%{x}<br>TN=%{y}<br>FP=%{z}<extra></extra>\",\"hovertext\":[0.81],\"legendgroup\":\"\",\"marker\":{\"color\":\"#636efa\",\"symbol\":\"circle\"},\"mode\":\"markers\",\"name\":\"\",\"scene\":\"scene\",\"showlegend\":false,\"x\":[0.5859375],\"y\":[0.3828125],\"z\":[0.0],\"type\":\"scatter3d\"}],\"name\":\"0.81\"},{\"data\":[{\"hovertemplate\":\"<b>%{hovertext}</b><br><br>threshold=0.82<br>TP=%{x}<br>TN=%{y}<br>FP=%{z}<extra></extra>\",\"hovertext\":[0.82],\"legendgroup\":\"\",\"marker\":{\"color\":\"#636efa\",\"symbol\":\"circle\"},\"mode\":\"markers\",\"name\":\"\",\"scene\":\"scene\",\"showlegend\":false,\"x\":[0.5859375],\"y\":[0.3828125],\"z\":[0.0],\"type\":\"scatter3d\"}],\"name\":\"0.82\"},{\"data\":[{\"hovertemplate\":\"<b>%{hovertext}</b><br><br>threshold=0.83<br>TP=%{x}<br>TN=%{y}<br>FP=%{z}<extra></extra>\",\"hovertext\":[0.83],\"legendgroup\":\"\",\"marker\":{\"color\":\"#636efa\",\"symbol\":\"circle\"},\"mode\":\"markers\",\"name\":\"\",\"scene\":\"scene\",\"showlegend\":false,\"x\":[0.578125],\"y\":[0.3828125],\"z\":[0.0],\"type\":\"scatter3d\"}],\"name\":\"0.83\"},{\"data\":[{\"hovertemplate\":\"<b>%{hovertext}</b><br><br>threshold=0.84<br>TP=%{x}<br>TN=%{y}<br>FP=%{z}<extra></extra>\",\"hovertext\":[0.84],\"legendgroup\":\"\",\"marker\":{\"color\":\"#636efa\",\"symbol\":\"circle\"},\"mode\":\"markers\",\"name\":\"\",\"scene\":\"scene\",\"showlegend\":false,\"x\":[0.578125],\"y\":[0.3828125],\"z\":[0.0],\"type\":\"scatter3d\"}],\"name\":\"0.84\"},{\"data\":[{\"hovertemplate\":\"<b>%{hovertext}</b><br><br>threshold=0.85<br>TP=%{x}<br>TN=%{y}<br>FP=%{z}<extra></extra>\",\"hovertext\":[0.85],\"legendgroup\":\"\",\"marker\":{\"color\":\"#636efa\",\"symbol\":\"circle\"},\"mode\":\"markers\",\"name\":\"\",\"scene\":\"scene\",\"showlegend\":false,\"x\":[0.578125],\"y\":[0.3828125],\"z\":[0.0],\"type\":\"scatter3d\"}],\"name\":\"0.85\"},{\"data\":[{\"hovertemplate\":\"<b>%{hovertext}</b><br><br>threshold=0.86<br>TP=%{x}<br>TN=%{y}<br>FP=%{z}<extra></extra>\",\"hovertext\":[0.86],\"legendgroup\":\"\",\"marker\":{\"color\":\"#636efa\",\"symbol\":\"circle\"},\"mode\":\"markers\",\"name\":\"\",\"scene\":\"scene\",\"showlegend\":false,\"x\":[0.578125],\"y\":[0.3828125],\"z\":[0.0],\"type\":\"scatter3d\"}],\"name\":\"0.86\"},{\"data\":[{\"hovertemplate\":\"<b>%{hovertext}</b><br><br>threshold=0.87<br>TP=%{x}<br>TN=%{y}<br>FP=%{z}<extra></extra>\",\"hovertext\":[0.87],\"legendgroup\":\"\",\"marker\":{\"color\":\"#636efa\",\"symbol\":\"circle\"},\"mode\":\"markers\",\"name\":\"\",\"scene\":\"scene\",\"showlegend\":false,\"x\":[0.5703125],\"y\":[0.3828125],\"z\":[0.0],\"type\":\"scatter3d\"}],\"name\":\"0.87\"},{\"data\":[{\"hovertemplate\":\"<b>%{hovertext}</b><br><br>threshold=0.88<br>TP=%{x}<br>TN=%{y}<br>FP=%{z}<extra></extra>\",\"hovertext\":[0.88],\"legendgroup\":\"\",\"marker\":{\"color\":\"#636efa\",\"symbol\":\"circle\"},\"mode\":\"markers\",\"name\":\"\",\"scene\":\"scene\",\"showlegend\":false,\"x\":[0.5703125],\"y\":[0.3828125],\"z\":[0.0],\"type\":\"scatter3d\"}],\"name\":\"0.88\"},{\"data\":[{\"hovertemplate\":\"<b>%{hovertext}</b><br><br>threshold=0.89<br>TP=%{x}<br>TN=%{y}<br>FP=%{z}<extra></extra>\",\"hovertext\":[0.89],\"legendgroup\":\"\",\"marker\":{\"color\":\"#636efa\",\"symbol\":\"circle\"},\"mode\":\"markers\",\"name\":\"\",\"scene\":\"scene\",\"showlegend\":false,\"x\":[0.5625],\"y\":[0.3828125],\"z\":[0.0],\"type\":\"scatter3d\"}],\"name\":\"0.89\"},{\"data\":[{\"hovertemplate\":\"<b>%{hovertext}</b><br><br>threshold=0.9<br>TP=%{x}<br>TN=%{y}<br>FP=%{z}<extra></extra>\",\"hovertext\":[0.9],\"legendgroup\":\"\",\"marker\":{\"color\":\"#636efa\",\"symbol\":\"circle\"},\"mode\":\"markers\",\"name\":\"\",\"scene\":\"scene\",\"showlegend\":false,\"x\":[0.5546875],\"y\":[0.3828125],\"z\":[0.0],\"type\":\"scatter3d\"}],\"name\":\"0.9\"},{\"data\":[{\"hovertemplate\":\"<b>%{hovertext}</b><br><br>threshold=0.91<br>TP=%{x}<br>TN=%{y}<br>FP=%{z}<extra></extra>\",\"hovertext\":[0.91],\"legendgroup\":\"\",\"marker\":{\"color\":\"#636efa\",\"symbol\":\"circle\"},\"mode\":\"markers\",\"name\":\"\",\"scene\":\"scene\",\"showlegend\":false,\"x\":[0.5546875],\"y\":[0.3828125],\"z\":[0.0],\"type\":\"scatter3d\"}],\"name\":\"0.91\"},{\"data\":[{\"hovertemplate\":\"<b>%{hovertext}</b><br><br>threshold=0.92<br>TP=%{x}<br>TN=%{y}<br>FP=%{z}<extra></extra>\",\"hovertext\":[0.92],\"legendgroup\":\"\",\"marker\":{\"color\":\"#636efa\",\"symbol\":\"circle\"},\"mode\":\"markers\",\"name\":\"\",\"scene\":\"scene\",\"showlegend\":false,\"x\":[0.5546875],\"y\":[0.3828125],\"z\":[0.0],\"type\":\"scatter3d\"}],\"name\":\"0.92\"},{\"data\":[{\"hovertemplate\":\"<b>%{hovertext}</b><br><br>threshold=0.93<br>TP=%{x}<br>TN=%{y}<br>FP=%{z}<extra></extra>\",\"hovertext\":[0.93],\"legendgroup\":\"\",\"marker\":{\"color\":\"#636efa\",\"symbol\":\"circle\"},\"mode\":\"markers\",\"name\":\"\",\"scene\":\"scene\",\"showlegend\":false,\"x\":[0.546875],\"y\":[0.3828125],\"z\":[0.0],\"type\":\"scatter3d\"}],\"name\":\"0.93\"},{\"data\":[{\"hovertemplate\":\"<b>%{hovertext}</b><br><br>threshold=0.94<br>TP=%{x}<br>TN=%{y}<br>FP=%{z}<extra></extra>\",\"hovertext\":[0.94],\"legendgroup\":\"\",\"marker\":{\"color\":\"#636efa\",\"symbol\":\"circle\"},\"mode\":\"markers\",\"name\":\"\",\"scene\":\"scene\",\"showlegend\":false,\"x\":[0.5390625],\"y\":[0.3828125],\"z\":[0.0],\"type\":\"scatter3d\"}],\"name\":\"0.94\"},{\"data\":[{\"hovertemplate\":\"<b>%{hovertext}</b><br><br>threshold=0.95<br>TP=%{x}<br>TN=%{y}<br>FP=%{z}<extra></extra>\",\"hovertext\":[0.95],\"legendgroup\":\"\",\"marker\":{\"color\":\"#636efa\",\"symbol\":\"circle\"},\"mode\":\"markers\",\"name\":\"\",\"scene\":\"scene\",\"showlegend\":false,\"x\":[0.5234375],\"y\":[0.3828125],\"z\":[0.0],\"type\":\"scatter3d\"}],\"name\":\"0.95\"},{\"data\":[{\"hovertemplate\":\"<b>%{hovertext}</b><br><br>threshold=0.96<br>TP=%{x}<br>TN=%{y}<br>FP=%{z}<extra></extra>\",\"hovertext\":[0.96],\"legendgroup\":\"\",\"marker\":{\"color\":\"#636efa\",\"symbol\":\"circle\"},\"mode\":\"markers\",\"name\":\"\",\"scene\":\"scene\",\"showlegend\":false,\"x\":[0.5078125],\"y\":[0.3828125],\"z\":[0.0],\"type\":\"scatter3d\"}],\"name\":\"0.96\"},{\"data\":[{\"hovertemplate\":\"<b>%{hovertext}</b><br><br>threshold=0.97<br>TP=%{x}<br>TN=%{y}<br>FP=%{z}<extra></extra>\",\"hovertext\":[0.97],\"legendgroup\":\"\",\"marker\":{\"color\":\"#636efa\",\"symbol\":\"circle\"},\"mode\":\"markers\",\"name\":\"\",\"scene\":\"scene\",\"showlegend\":false,\"x\":[0.4765625],\"y\":[0.3828125],\"z\":[0.0],\"type\":\"scatter3d\"}],\"name\":\"0.97\"},{\"data\":[{\"hovertemplate\":\"<b>%{hovertext}</b><br><br>threshold=0.98<br>TP=%{x}<br>TN=%{y}<br>FP=%{z}<extra></extra>\",\"hovertext\":[0.98],\"legendgroup\":\"\",\"marker\":{\"color\":\"#636efa\",\"symbol\":\"circle\"},\"mode\":\"markers\",\"name\":\"\",\"scene\":\"scene\",\"showlegend\":false,\"x\":[0.453125],\"y\":[0.3828125],\"z\":[0.0],\"type\":\"scatter3d\"}],\"name\":\"0.98\"},{\"data\":[{\"hovertemplate\":\"<b>%{hovertext}</b><br><br>threshold=0.99<br>TP=%{x}<br>TN=%{y}<br>FP=%{z}<extra></extra>\",\"hovertext\":[0.99],\"legendgroup\":\"\",\"marker\":{\"color\":\"#636efa\",\"symbol\":\"circle\"},\"mode\":\"markers\",\"name\":\"\",\"scene\":\"scene\",\"showlegend\":false,\"x\":[0.421875],\"y\":[0.3828125],\"z\":[0.0],\"type\":\"scatter3d\"}],\"name\":\"0.99\"}]);\n",
       "                        }).then(function(){\n",
       "                            \n",
       "var gd = document.getElementById('c233b842-a70e-4131-af75-8fc6743e3b9e');\n",
       "var x = new MutationObserver(function (mutations, observer) {{\n",
       "        var display = window.getComputedStyle(gd).display;\n",
       "        if (!display || display === 'none') {{\n",
       "            console.log([gd, 'removed!']);\n",
       "            Plotly.purge(gd);\n",
       "            observer.disconnect();\n",
       "        }}\n",
       "}});\n",
       "\n",
       "// Listen for the removal of the full notebook cells\n",
       "var notebookContainer = gd.closest('#notebook-container');\n",
       "if (notebookContainer) {{\n",
       "    x.observe(notebookContainer, {childList: true});\n",
       "}}\n",
       "\n",
       "// Listen for the clearing of the current output cell\n",
       "var outputEl = gd.closest('.output');\n",
       "if (outputEl) {{\n",
       "    x.observe(outputEl, {childList: true});\n",
       "}}\n",
       "\n",
       "                        })                };                });            </script>        </div>"
      ]
     },
     "metadata": {},
     "output_type": "display_data"
    }
   ],
   "source": [
    "#QUI LA VISUALIZZAZIONE CON LO SLIDER - anche se in effetti non ha troppo senso poi vedendo il random case \n",
    "\n",
    "#QUINDI AL VARIARE DEL THRESHOLD COME SI SPOSTA IL PUNTO \n",
    "#PER MOSTRARE LA TRAIETTORIA IN MANIERA DINAMICA \n",
    "\n",
    "\n",
    "import plotly.express as px \n",
    "\n",
    "fig = px.scatter_3d(coords, \n",
    "                    x='TP',\n",
    "                    y='TN',\n",
    "                    z='FP',\n",
    "                    animation_frame='threshold',\n",
    "                    size_max=18,\n",
    "                    hover_name ='threshold',\n",
    "                    range_x=[0,1], \n",
    "                    range_y=[0,1],\n",
    "                    range_z=[0,1]) \n",
    "\n",
    "\n",
    "fig.update_traces(marker=dict(size=12,\n",
    "                              line=dict(width=2,\n",
    "                                        color='yellow')),\n",
    "                  selector=dict(mode='circle-open'))\n",
    "\n",
    "\n",
    "\n",
    "fig.add_trace(go.Figure(data=[\n",
    "    go.Mesh3d(\n",
    "        x=[0, 0, 0, 1], \n",
    "        y=[0, 0, 1, 0],\n",
    "        z=[0, 1, 0, 0],\n",
    "\n",
    "        color ='lightgrey',\n",
    "        \n",
    "        opacity = 0.2, #for transparency\n",
    "        \n",
    "        # i, j and k sono i vertici dei triangoli\n",
    "        # here we represent the 4 triangles of the tetrahedron surface\n",
    "        i=[0, 0, 0, 1],\n",
    "        j=[1, 2, 3, 2],\n",
    "        k=[2, 3, 1, 3],\n",
    "        name='y',\n",
    "        showscale=True\n",
    "    )\n",
    "]).data[0])\n"
   ]
  },
  {
   "cell_type": "markdown",
   "id": "f70e13de",
   "metadata": {},
   "source": [
    "# Questo era per la ROC buona, ora mi serve ROC brutta"
   ]
  },
  {
   "cell_type": "code",
   "execution_count": 49,
   "id": "9fe0d121",
   "metadata": {},
   "outputs": [
    {
     "data": {
      "text/html": [
       "<div>\n",
       "<style scoped>\n",
       "    .dataframe tbody tr th:only-of-type {\n",
       "        vertical-align: middle;\n",
       "    }\n",
       "\n",
       "    .dataframe tbody tr th {\n",
       "        vertical-align: top;\n",
       "    }\n",
       "\n",
       "    .dataframe thead th {\n",
       "        text-align: right;\n",
       "    }\n",
       "</style>\n",
       "<table border=\"1\" class=\"dataframe\">\n",
       "  <thead>\n",
       "    <tr style=\"text-align: right;\">\n",
       "      <th></th>\n",
       "      <th>TN</th>\n",
       "      <th>FP</th>\n",
       "      <th>TP</th>\n",
       "      <th>threshold</th>\n",
       "      <th>TPR</th>\n",
       "      <th>FPR</th>\n",
       "    </tr>\n",
       "  </thead>\n",
       "  <tbody>\n",
       "    <tr>\n",
       "      <th>0</th>\n",
       "      <td>0.000000</td>\n",
       "      <td>0.382812</td>\n",
       "      <td>0.617188</td>\n",
       "      <td>0.000</td>\n",
       "      <td>1.0</td>\n",
       "      <td>1.0</td>\n",
       "    </tr>\n",
       "    <tr>\n",
       "      <th>1</th>\n",
       "      <td>0.382812</td>\n",
       "      <td>0.000000</td>\n",
       "      <td>0.000000</td>\n",
       "      <td>0.001</td>\n",
       "      <td>0.0</td>\n",
       "      <td>0.0</td>\n",
       "    </tr>\n",
       "    <tr>\n",
       "      <th>2</th>\n",
       "      <td>0.382812</td>\n",
       "      <td>0.000000</td>\n",
       "      <td>0.000000</td>\n",
       "      <td>0.002</td>\n",
       "      <td>0.0</td>\n",
       "      <td>0.0</td>\n",
       "    </tr>\n",
       "    <tr>\n",
       "      <th>3</th>\n",
       "      <td>0.382812</td>\n",
       "      <td>0.000000</td>\n",
       "      <td>0.000000</td>\n",
       "      <td>0.003</td>\n",
       "      <td>0.0</td>\n",
       "      <td>0.0</td>\n",
       "    </tr>\n",
       "    <tr>\n",
       "      <th>4</th>\n",
       "      <td>0.382812</td>\n",
       "      <td>0.000000</td>\n",
       "      <td>0.000000</td>\n",
       "      <td>0.004</td>\n",
       "      <td>0.0</td>\n",
       "      <td>0.0</td>\n",
       "    </tr>\n",
       "    <tr>\n",
       "      <th>...</th>\n",
       "      <td>...</td>\n",
       "      <td>...</td>\n",
       "      <td>...</td>\n",
       "      <td>...</td>\n",
       "      <td>...</td>\n",
       "      <td>...</td>\n",
       "    </tr>\n",
       "    <tr>\n",
       "      <th>995</th>\n",
       "      <td>0.382812</td>\n",
       "      <td>0.000000</td>\n",
       "      <td>0.000000</td>\n",
       "      <td>0.995</td>\n",
       "      <td>0.0</td>\n",
       "      <td>0.0</td>\n",
       "    </tr>\n",
       "    <tr>\n",
       "      <th>996</th>\n",
       "      <td>0.382812</td>\n",
       "      <td>0.000000</td>\n",
       "      <td>0.000000</td>\n",
       "      <td>0.996</td>\n",
       "      <td>0.0</td>\n",
       "      <td>0.0</td>\n",
       "    </tr>\n",
       "    <tr>\n",
       "      <th>997</th>\n",
       "      <td>0.382812</td>\n",
       "      <td>0.000000</td>\n",
       "      <td>0.000000</td>\n",
       "      <td>0.997</td>\n",
       "      <td>0.0</td>\n",
       "      <td>0.0</td>\n",
       "    </tr>\n",
       "    <tr>\n",
       "      <th>998</th>\n",
       "      <td>0.382812</td>\n",
       "      <td>0.000000</td>\n",
       "      <td>0.000000</td>\n",
       "      <td>0.998</td>\n",
       "      <td>0.0</td>\n",
       "      <td>0.0</td>\n",
       "    </tr>\n",
       "    <tr>\n",
       "      <th>999</th>\n",
       "      <td>0.382812</td>\n",
       "      <td>0.000000</td>\n",
       "      <td>0.000000</td>\n",
       "      <td>0.999</td>\n",
       "      <td>0.0</td>\n",
       "      <td>0.0</td>\n",
       "    </tr>\n",
       "  </tbody>\n",
       "</table>\n",
       "<p>1000 rows × 6 columns</p>\n",
       "</div>"
      ],
      "text/plain": [
       "           TN        FP        TP  threshold  TPR  FPR\n",
       "0    0.000000  0.382812  0.617188      0.000  1.0  1.0\n",
       "1    0.382812  0.000000  0.000000      0.001  0.0  0.0\n",
       "2    0.382812  0.000000  0.000000      0.002  0.0  0.0\n",
       "3    0.382812  0.000000  0.000000      0.003  0.0  0.0\n",
       "4    0.382812  0.000000  0.000000      0.004  0.0  0.0\n",
       "..        ...       ...       ...        ...  ...  ...\n",
       "995  0.382812  0.000000  0.000000      0.995  0.0  0.0\n",
       "996  0.382812  0.000000  0.000000      0.996  0.0  0.0\n",
       "997  0.382812  0.000000  0.000000      0.997  0.0  0.0\n",
       "998  0.382812  0.000000  0.000000      0.998  0.0  0.0\n",
       "999  0.382812  0.000000  0.000000      0.999  0.0  0.0\n",
       "\n",
       "[1000 rows x 6 columns]"
      ]
     },
     "execution_count": 49,
     "metadata": {},
     "output_type": "execute_result"
    }
   ],
   "source": [
    "all_nCM = []\n",
    "all_ts = []\n",
    "\n",
    "all_TPR = []\n",
    "all_FPR = []\n",
    "\n",
    "\n",
    "N= len(y_test)\n",
    "for i in range(len(thresholds)):\n",
    "    t = thresholds[i]\n",
    "    all_ts.append(round(t,3))\n",
    "    t_vec = np.ones(preds.size)*t #t con dimensioni comparabili \n",
    "    y_pred = (np.random.randint(0,1,N) >= t_vec).astype(int)       #LA ROC BRUTTA è QUANDO HO RANDOM tra 0 e 1 \n",
    "    (TN, FP,FN, TP) = generate_matrix_entries(y_test, y_pred)      # e ne voglio tanti quanti sono gli N \n",
    "    each_CM = np.array([TN, FP,FN, TP])                            #per il resto il codice fa la stessa cosa \n",
    "     \n",
    "    each_FPR = FP/(FP+TN) #1-specificity --> x\n",
    "    each_TPR = TP/(TP+FN) #sensitivity -->y\n",
    "    \n",
    "    \n",
    "    each_nCM = each_CM/N\n",
    "    all_nCM.append(each_nCM)\n",
    "    \n",
    "    all_FPR.append(each_FPR)\n",
    "    all_TPR.append(each_TPR)\n",
    "    \n",
    "\n",
    "PD_all_nCM = pd.DataFrame(all_nCM) \n",
    "\n",
    "\n",
    "coords = PD_all_nCM.drop([2],axis=1)\n",
    "coords['threshold'] = all_ts\n",
    "coords.rename({0: 'TN', 1: 'FP', 3: 'TP'}, axis=1, inplace=True)\n",
    "\n",
    "\n",
    "coords['TPR']=all_TPR\n",
    "coords['FPR']=all_FPR\n",
    "\n",
    "coords"
   ]
  },
  {
   "cell_type": "code",
   "execution_count": 50,
   "id": "6ce4ea92",
   "metadata": {},
   "outputs": [
    {
     "data": {
      "image/png": "[encoded data removed]",
      "text/plain": [
       "<Figure size 432x288 with 1 Axes>"
      ]
     },
     "metadata": {
      "needs_background": "light"
     },
     "output_type": "display_data"
    }
   ],
   "source": [
    "plt.plot(coords['FPR'],coords['TPR'])\n",
    "plt.show() #e infatti è il random case "
   ]
  },
  {
   "cell_type": "code",
   "execution_count": 52,
   "id": "dc28f2de",
   "metadata": {},
   "outputs": [
    {
     "data": {
      "text/plain": [
       "\"\\n\\nfig = px.scatter_3d(coords, \\n                    x='TP',\\n                    y='TN',\\n                    z='FP',\\n                    animation_frame='threshold',\\n                    size_max=18,\\n                    hover_name ='threshold',\\n                    range_x=[0,1], \\n                    range_y=[0,1],\\n                    range_z=[0,1]) \\n\\n\\nfig.update_traces(marker=dict(size=12,\\n                              line=dict(width=2,\\n                                        color='black')),\\n                  selector=dict(mode='circle-open'))\\n\\n\\n\\nfig.add_trace(go.Figure(data=[\\n    go.Mesh3d(\\n        x=[0, 0, 0, 1], #verticalmente ho definito O, C, B, A\\n        y=[0, 0, 1, 0],\\n        z=[0, 1, 0, 0],\\n\\n        color ='lightgrey',\\n        opacity = 0.2, #for transparency\\n        \\n        # i, j and k sono i vertici dei triangoli\\n        # here we represent the 4 triangles of the tetrahedron surface\\n        i=[0, 0, 0, 1],\\n        j=[1, 2, 3, 2],\\n        k=[2, 3, 1, 3],\\n        name='y',\\n        showscale=True\\n    )\\n]).data[0])\\n\\n\""
      ]
     },
     "execution_count": 52,
     "metadata": {},
     "output_type": "execute_result"
    }
   ],
   "source": [
    "#QUI CON LO SLIDER - commentata per non averla ogni volta (e comnque viz poco utile visto che sono 2 punti)\n",
    "\n",
    "\"\"\"\n",
    "\n",
    "fig = px.scatter_3d(coords, \n",
    "                    x='TP',\n",
    "                    y='TN',\n",
    "                    z='FP',\n",
    "                    animation_frame='threshold',\n",
    "                    size_max=18,\n",
    "                    hover_name ='threshold',\n",
    "                    range_x=[0,1], \n",
    "                    range_y=[0,1],\n",
    "                    range_z=[0,1]) \n",
    "\n",
    "\n",
    "fig.update_traces(marker=dict(size=12,\n",
    "                              line=dict(width=2,\n",
    "                                        color='black')),\n",
    "                  selector=dict(mode='circle-open'))\n",
    "\n",
    "\n",
    "\n",
    "fig.add_trace(go.Figure(data=[\n",
    "    go.Mesh3d(\n",
    "        x=[0, 0, 0, 1], #verticalmente ho definito O, C, B, A\n",
    "        y=[0, 0, 1, 0],\n",
    "        z=[0, 1, 0, 0],\n",
    "\n",
    "        color ='lightgrey',\n",
    "        opacity = 0.2, #for transparency\n",
    "        \n",
    "        # i, j and k sono i vertici dei triangoli\n",
    "        # here we represent the 4 triangles of the tetrahedron surface\n",
    "        i=[0, 0, 0, 1],\n",
    "        j=[1, 2, 3, 2],\n",
    "        k=[2, 3, 1, 3],\n",
    "        name='y',\n",
    "        showscale=True\n",
    "    )\n",
    "]).data[0])\n",
    "\n",
    "\"\"\""
   ]
  },
  {
   "cell_type": "code",
   "execution_count": 55,
   "id": "fe38fb15",
   "metadata": {},
   "outputs": [
    {
     "data": {
      "application/vnd.plotly.v1+json": {
       "config": {
        "plotlyServerURL": "https://plot.ly"
       },
       "data": [
        {
         "hovertemplate": "<b>%{hovertext}</b><br><br>TP=%{x}<br>TN=%{y}<br>FP=%{z}<extra></extra>",
         "hovertext": [
          0,
          0.001,
          0.002,
          0.003,
          0.004,
          0.005,
          0.006,
          0.007,
          0.008,
          0.009,
          0.01,
          0.011,
          0.012,
          0.013,
          0.014,
          0.015,
          0.016,
          0.017,
          0.018,
          0.019,
          0.02,
          0.021,
          0.022,
          0.023,
          0.024,
          0.025,
          0.026,
          0.027,
          0.028,
          0.029,
          0.03,
          0.031,
          0.032,
          0.033,
          0.034,
          0.035,
          0.036,
          0.037,
          0.038,
          0.039,
          0.04,
          0.041,
          0.042,
          0.043,
          0.044,
          0.045,
          0.046,
          0.047,
          0.048,
          0.049,
          0.05,
          0.051,
          0.052,
          0.053,
          0.054,
          0.055,
          0.056,
          0.057,
          0.058,
          0.059,
          0.06,
          0.061,
          0.062,
          0.063,
          0.064,
          0.065,
          0.066,
          0.067,
          0.068,
          0.069,
          0.07,
          0.071,
          0.072,
          0.073,
          0.074,
          0.075,
          0.076,
          0.077,
          0.078,
          0.079,
          0.08,
          0.081,
          0.082,
          0.083,
          0.084,
          0.085,
          0.086,
          0.087,
          0.088,
          0.089,
          0.09,
          0.091,
          0.092,
          0.093,
          0.094,
          0.095,
          0.096,
          0.097,
          0.098,
          0.099,
          0.1,
          0.101,
          0.102,
          0.103,
          0.104,
          0.105,
          0.106,
          0.107,
          0.108,
          0.109,
          0.11,
          0.111,
          0.112,
          0.113,
          0.114,
          0.115,
          0.116,
          0.117,
          0.118,
          0.119,
          0.12,
          0.121,
          0.122,
          0.123,
          0.124,
          0.125,
          0.126,
          0.127,
          0.128,
          0.129,
          0.13,
          0.131,
          0.132,
          0.133,
          0.134,
          0.135,
          0.136,
          0.137,
          0.138,
          0.139,
          0.14,
          0.141,
          0.142,
          0.143,
          0.144,
          0.145,
          0.146,
          0.147,
          0.148,
          0.149,
          0.15,
          0.151,
          0.152,
          0.153,
          0.154,
          0.155,
          0.156,
          0.157,
          0.158,
          0.159,
          0.16,
          0.161,
          0.162,
          0.163,
          0.164,
          0.165,
          0.166,
          0.167,
          0.168,
          0.169,
          0.17,
          0.171,
          0.172,
          0.173,
          0.174,
          0.175,
          0.176,
          0.177,
          0.178,
          0.179,
          0.18,
          0.181,
          0.182,
          0.183,
          0.184,
          0.185,
          0.186,
          0.187,
          0.188,
          0.189,
          0.19,
          0.191,
          0.192,
          0.193,
          0.194,
          0.195,
          0.196,
          0.197,
          0.198,
          0.199,
          0.2,
          0.201,
          0.202,
          0.203,
          0.204,
          0.205,
          0.206,
          0.207,
          0.208,
          0.209,
          0.21,
          0.211,
          0.212,
          0.213,
          0.214,
          0.215,
          0.216,
          0.217,
          0.218,
          0.219,
          0.22,
          0.221,
          0.222,
          0.223,
          0.224,
          0.225,
          0.226,
          0.227,
          0.228,
          0.229,
          0.23,
          0.231,
          0.232,
          0.233,
          0.234,
          0.235,
          0.236,
          0.237,
          0.238,
          0.239,
          0.24,
          0.241,
          0.242,
          0.243,
          0.244,
          0.245,
          0.246,
          0.247,
          0.248,
          0.249,
          0.25,
          0.251,
          0.252,
          0.253,
          0.254,
          0.255,
          0.256,
          0.257,
          0.258,
          0.259,
          0.26,
          0.261,
          0.262,
          0.263,
          0.264,
          0.265,
          0.266,
          0.267,
          0.268,
          0.269,
          0.27,
          0.271,
          0.272,
          0.273,
          0.274,
          0.275,
          0.276,
          0.277,
          0.278,
          0.279,
          0.28,
          0.281,
          0.282,
          0.283,
          0.284,
          0.285,
          0.286,
          0.287,
          0.288,
          0.289,
          0.29,
          0.291,
          0.292,
          0.293,
          0.294,
          0.295,
          0.296,
          0.297,
          0.298,
          0.299,
          0.3,
          0.301,
          0.302,
          0.303,
          0.304,
          0.305,
          0.306,
          0.307,
          0.308,
          0.309,
          0.31,
          0.311,
          0.312,
          0.313,
          0.314,
          0.315,
          0.316,
          0.317,
          0.318,
          0.319,
          0.32,
          0.321,
          0.322,
          0.323,
          0.324,
          0.325,
          0.326,
          0.327,
          0.328,
          0.329,
          0.33,
          0.331,
          0.332,
          0.333,
          0.334,
          0.335,
          0.336,
          0.337,
          0.338,
          0.339,
          0.34,
          0.341,
          0.342,
          0.343,
          0.344,
          0.345,
          0.346,
          0.347,
          0.348,
          0.349,
          0.35,
          0.351,
          0.352,
          0.353,
          0.354,
          0.355,
          0.356,
          0.357,
          0.358,
          0.359,
          0.36,
          0.361,
          0.362,
          0.363,
          0.364,
          0.365,
          0.366,
          0.367,
          0.368,
          0.369,
          0.37,
          0.371,
          0.372,
          0.373,
          0.374,
          0.375,
          0.376,
          0.377,
          0.378,
          0.379,
          0.38,
          0.381,
          0.382,
          0.383,
          0.384,
          0.385,
          0.386,
          0.387,
          0.388,
          0.389,
          0.39,
          0.391,
          0.392,
          0.393,
          0.394,
          0.395,
          0.396,
          0.397,
          0.398,
          0.399,
          0.4,
          0.401,
          0.402,
          0.403,
          0.404,
          0.405,
          0.406,
          0.407,
          0.408,
          0.409,
          0.41,
          0.411,
          0.412,
          0.413,
          0.414,
          0.415,
          0.416,
          0.417,
          0.418,
          0.419,
          0.42,
          0.421,
          0.422,
          0.423,
          0.424,
          0.425,
          0.426,
          0.427,
          0.428,
          0.429,
          0.43,
          0.431,
          0.432,
          0.433,
          0.434,
          0.435,
          0.436,
          0.437,
          0.438,
          0.439,
          0.44,
          0.441,
          0.442,
          0.443,
          0.444,
          0.445,
          0.446,
          0.447,
          0.448,
          0.449,
          0.45,
          0.451,
          0.452,
          0.453,
          0.454,
          0.455,
          0.456,
          0.457,
          0.458,
          0.459,
          0.46,
          0.461,
          0.462,
          0.463,
          0.464,
          0.465,
          0.466,
          0.467,
          0.468,
          0.469,
          0.47,
          0.471,
          0.472,
          0.473,
          0.474,
          0.475,
          0.476,
          0.477,
          0.478,
          0.479,
          0.48,
          0.481,
          0.482,
          0.483,
          0.484,
          0.485,
          0.486,
          0.487,
          0.488,
          0.489,
          0.49,
          0.491,
          0.492,
          0.493,
          0.494,
          0.495,
          0.496,
          0.497,
          0.498,
          0.499,
          0.5,
          0.501,
          0.502,
          0.503,
          0.504,
          0.505,
          0.506,
          0.507,
          0.508,
          0.509,
          0.51,
          0.511,
          0.512,
          0.513,
          0.514,
          0.515,
          0.516,
          0.517,
          0.518,
          0.519,
          0.52,
          0.521,
          0.522,
          0.523,
          0.524,
          0.525,
          0.526,
          0.527,
          0.528,
          0.529,
          0.53,
          0.531,
          0.532,
          0.533,
          0.534,
          0.535,
          0.536,
          0.537,
          0.538,
          0.539,
          0.54,
          0.541,
          0.542,
          0.543,
          0.544,
          0.545,
          0.546,
          0.547,
          0.548,
          0.549,
          0.55,
          0.551,
          0.552,
          0.553,
          0.554,
          0.555,
          0.556,
          0.557,
          0.558,
          0.559,
          0.56,
          0.561,
          0.562,
          0.563,
          0.564,
          0.565,
          0.566,
          0.567,
          0.568,
          0.569,
          0.57,
          0.571,
          0.572,
          0.573,
          0.574,
          0.575,
          0.576,
          0.577,
          0.578,
          0.579,
          0.58,
          0.581,
          0.582,
          0.583,
          0.584,
          0.585,
          0.586,
          0.587,
          0.588,
          0.589,
          0.59,
          0.591,
          0.592,
          0.593,
          0.594,
          0.595,
          0.596,
          0.597,
          0.598,
          0.599,
          0.6,
          0.601,
          0.602,
          0.603,
          0.604,
          0.605,
          0.606,
          0.607,
          0.608,
          0.609,
          0.61,
          0.611,
          0.612,
          0.613,
          0.614,
          0.615,
          0.616,
          0.617,
          0.618,
          0.619,
          0.62,
          0.621,
          0.622,
          0.623,
          0.624,
          0.625,
          0.626,
          0.627,
          0.628,
          0.629,
          0.63,
          0.631,
          0.632,
          0.633,
          0.634,
          0.635,
          0.636,
          0.637,
          0.638,
          0.639,
          0.64,
          0.641,
          0.642,
          0.643,
          0.644,
          0.645,
          0.646,
          0.647,
          0.648,
          0.649,
          0.65,
          0.651,
          0.652,
          0.653,
          0.654,
          0.655,
          0.656,
          0.657,
          0.658,
          0.659,
          0.66,
          0.661,
          0.662,
          0.663,
          0.664,
          0.665,
          0.666,
          0.667,
          0.668,
          0.669,
          0.67,
          0.671,
          0.672,
          0.673,
          0.674,
          0.675,
          0.676,
          0.677,
          0.678,
          0.679,
          0.68,
          0.681,
          0.682,
          0.683,
          0.684,
          0.685,
          0.686,
          0.687,
          0.688,
          0.689,
          0.69,
          0.691,
          0.692,
          0.693,
          0.694,
          0.695,
          0.696,
          0.697,
          0.698,
          0.699,
          0.7,
          0.701,
          0.702,
          0.703,
          0.704,
          0.705,
          0.706,
          0.707,
          0.708,
          0.709,
          0.71,
          0.711,
          0.712,
          0.713,
          0.714,
          0.715,
          0.716,
          0.717,
          0.718,
          0.719,
          0.72,
          0.721,
          0.722,
          0.723,
          0.724,
          0.725,
          0.726,
          0.727,
          0.728,
          0.729,
          0.73,
          0.731,
          0.732,
          0.733,
          0.734,
          0.735,
          0.736,
          0.737,
          0.738,
          0.739,
          0.74,
          0.741,
          0.742,
          0.743,
          0.744,
          0.745,
          0.746,
          0.747,
          0.748,
          0.749,
          0.75,
          0.751,
          0.752,
          0.753,
          0.754,
          0.755,
          0.756,
          0.757,
          0.758,
          0.759,
          0.76,
          0.761,
          0.762,
          0.763,
          0.764,
          0.765,
          0.766,
          0.767,
          0.768,
          0.769,
          0.77,
          0.771,
          0.772,
          0.773,
          0.774,
          0.775,
          0.776,
          0.777,
          0.778,
          0.779,
          0.78,
          0.781,
          0.782,
          0.783,
          0.784,
          0.785,
          0.786,
          0.787,
          0.788,
          0.789,
          0.79,
          0.791,
          0.792,
          0.793,
          0.794,
          0.795,
          0.796,
          0.797,
          0.798,
          0.799,
          0.8,
          0.801,
          0.802,
          0.803,
          0.804,
          0.805,
          0.806,
          0.807,
          0.808,
          0.809,
          0.81,
          0.811,
          0.812,
          0.813,
          0.814,
          0.815,
          0.816,
          0.817,
          0.818,
          0.819,
          0.82,
          0.821,
          0.822,
          0.823,
          0.824,
          0.825,
          0.826,
          0.827,
          0.828,
          0.829,
          0.83,
          0.831,
          0.832,
          0.833,
          0.834,
          0.835,
          0.836,
          0.837,
          0.838,
          0.839,
          0.84,
          0.841,
          0.842,
          0.843,
          0.844,
          0.845,
          0.846,
          0.847,
          0.848,
          0.849,
          0.85,
          0.851,
          0.852,
          0.853,
          0.854,
          0.855,
          0.856,
          0.857,
          0.858,
          0.859,
          0.86,
          0.861,
          0.862,
          0.863,
          0.864,
          0.865,
          0.866,
          0.867,
          0.868,
          0.869,
          0.87,
          0.871,
          0.872,
          0.873,
          0.874,
          0.875,
          0.876,
          0.877,
          0.878,
          0.879,
          0.88,
          0.881,
          0.882,
          0.883,
          0.884,
          0.885,
          0.886,
          0.887,
          0.888,
          0.889,
          0.89,
          0.891,
          0.892,
          0.893,
          0.894,
          0.895,
          0.896,
          0.897,
          0.898,
          0.899,
          0.9,
          0.901,
          0.902,
          0.903,
          0.904,
          0.905,
          0.906,
          0.907,
          0.908,
          0.909,
          0.91,
          0.911,
          0.912,
          0.913,
          0.914,
          0.915,
          0.916,
          0.917,
          0.918,
          0.919,
          0.92,
          0.921,
          0.922,
          0.923,
          0.924,
          0.925,
          0.926,
          0.927,
          0.928,
          0.929,
          0.93,
          0.931,
          0.932,
          0.933,
          0.934,
          0.935,
          0.936,
          0.937,
          0.938,
          0.939,
          0.94,
          0.941,
          0.942,
          0.943,
          0.944,
          0.945,
          0.946,
          0.947,
          0.948,
          0.949,
          0.95,
          0.951,
          0.952,
          0.953,
          0.954,
          0.955,
          0.956,
          0.957,
          0.958,
          0.959,
          0.96,
          0.961,
          0.962,
          0.963,
          0.964,
          0.965,
          0.966,
          0.967,
          0.968,
          0.969,
          0.97,
          0.971,
          0.972,
          0.973,
          0.974,
          0.975,
          0.976,
          0.977,
          0.978,
          0.979,
          0.98,
          0.981,
          0.982,
          0.983,
          0.984,
          0.985,
          0.986,
          0.987,
          0.988,
          0.989,
          0.99,
          0.991,
          0.992,
          0.993,
          0.994,
          0.995,
          0.996,
          0.997,
          0.998,
          0.999
         ],
         "legendgroup": "",
         "marker": {
          "color": "#636efa",
          "symbol": "circle"
         },
         "mode": "markers",
         "name": "",
         "scene": "scene",
         "showlegend": false,
         "type": "scatter3d",
         "x": [
          0.6171875,
          0,
          0,
          0,
          0,
          0,
          0,
          0,
          0,
          0,
          0,
          0,
          0,
          0,
          0,
          0,
          0,
          0,
          0,
          0,
          0,
          0,
          0,
          0,
          0,
          0,
          0,
          0,
          0,
          0,
          0,
          0,
          0,
          0,
          0,
          0,
          0,
          0,
          0,
          0,
          0,
          0,
          0,
          0,
          0,
          0,
          0,
          0,
          0,
          0,
          0,
          0,
          0,
          0,
          0,
          0,
          0,
          0,
          0,
          0,
          0,
          0,
          0,
          0,
          0,
          0,
          0,
          0,
          0,
          0,
          0,
          0,
          0,
          0,
          0,
          0,
          0,
          0,
          0,
          0,
          0,
          0,
          0,
          0,
          0,
          0,
          0,
          0,
          0,
          0,
          0,
          0,
          0,
          0,
          0,
          0,
          0,
          0,
          0,
          0,
          0,
          0,
          0,
          0,
          0,
          0,
          0,
          0,
          0,
          0,
          0,
          0,
          0,
          0,
          0,
          0,
          0,
          0,
          0,
          0,
          0,
          0,
          0,
          0,
          0,
          0,
          0,
          0,
          0,
          0,
          0,
          0,
          0,
          0,
          0,
          0,
          0,
          0,
          0,
          0,
          0,
          0,
          0,
          0,
          0,
          0,
          0,
          0,
          0,
          0,
          0,
          0,
          0,
          0,
          0,
          0,
          0,
          0,
          0,
          0,
          0,
          0,
          0,
          0,
          0,
          0,
          0,
          0,
          0,
          0,
          0,
          0,
          0,
          0,
          0,
          0,
          0,
          0,
          0,
          0,
          0,
          0,
          0,
          0,
          0,
          0,
          0,
          0,
          0,
          0,
          0,
          0,
          0,
          0,
          0,
          0,
          0,
          0,
          0,
          0,
          0,
          0,
          0,
          0,
          0,
          0,
          0,
          0,
          0,
          0,
          0,
          0,
          0,
          0,
          0,
          0,
          0,
          0,
          0,
          0,
          0,
          0,
          0,
          0,
          0,
          0,
          0,
          0,
          0,
          0,
          0,
          0,
          0,
          0,
          0,
          0,
          0,
          0,
          0,
          0,
          0,
          0,
          0,
          0,
          0,
          0,
          0,
          0,
          0,
          0,
          0,
          0,
          0,
          0,
          0,
          0,
          0,
          0,
          0,
          0,
          0,
          0,
          0,
          0,
          0,
          0,
          0,
          0,
          0,
          0,
          0,
          0,
          0,
          0,
          0,
          0,
          0,
          0,
          0,
          0,
          0,
          0,
          0,
          0,
          0,
          0,
          0,
          0,
          0,
          0,
          0,
          0,
          0,
          0,
          0,
          0,
          0,
          0,
          0,
          0,
          0,
          0,
          0,
          0,
          0,
          0,
          0,
          0,
          0,
          0,
          0,
          0,
          0,
          0,
          0,
          0,
          0,
          0,
          0,
          0,
          0,
          0,
          0,
          0,
          0,
          0,
          0,
          0,
          0,
          0,
          0,
          0,
          0,
          0,
          0,
          0,
          0,
          0,
          0,
          0,
          0,
          0,
          0,
          0,
          0,
          0,
          0,
          0,
          0,
          0,
          0,
          0,
          0,
          0,
          0,
          0,
          0,
          0,
          0,
          0,
          0,
          0,
          0,
          0,
          0,
          0,
          0,
          0,
          0,
          0,
          0,
          0,
          0,
          0,
          0,
          0,
          0,
          0,
          0,
          0,
          0,
          0,
          0,
          0,
          0,
          0,
          0,
          0,
          0,
          0,
          0,
          0,
          0,
          0,
          0,
          0,
          0,
          0,
          0,
          0,
          0,
          0,
          0,
          0,
          0,
          0,
          0,
          0,
          0,
          0,
          0,
          0,
          0,
          0,
          0,
          0,
          0,
          0,
          0,
          0,
          0,
          0,
          0,
          0,
          0,
          0,
          0,
          0,
          0,
          0,
          0,
          0,
          0,
          0,
          0,
          0,
          0,
          0,
          0,
          0,
          0,
          0,
          0,
          0,
          0,
          0,
          0,
          0,
          0,
          0,
          0,
          0,
          0,
          0,
          0,
          0,
          0,
          0,
          0,
          0,
          0,
          0,
          0,
          0,
          0,
          0,
          0,
          0,
          0,
          0,
          0,
          0,
          0,
          0,
          0,
          0,
          0,
          0,
          0,
          0,
          0,
          0,
          0,
          0,
          0,
          0,
          0,
          0,
          0,
          0,
          0,
          0,
          0,
          0,
          0,
          0,
          0,
          0,
          0,
          0,
          0,
          0,
          0,
          0,
          0,
          0,
          0,
          0,
          0,
          0,
          0,
          0,
          0,
          0,
          0,
          0,
          0,
          0,
          0,
          0,
          0,
          0,
          0,
          0,
          0,
          0,
          0,
          0,
          0,
          0,
          0,
          0,
          0,
          0,
          0,
          0,
          0,
          0,
          0,
          0,
          0,
          0,
          0,
          0,
          0,
          0,
          0,
          0,
          0,
          0,
          0,
          0,
          0,
          0,
          0,
          0,
          0,
          0,
          0,
          0,
          0,
          0,
          0,
          0,
          0,
          0,
          0,
          0,
          0,
          0,
          0,
          0,
          0,
          0,
          0,
          0,
          0,
          0,
          0,
          0,
          0,
          0,
          0,
          0,
          0,
          0,
          0,
          0,
          0,
          0,
          0,
          0,
          0,
          0,
          0,
          0,
          0,
          0,
          0,
          0,
          0,
          0,
          0,
          0,
          0,
          0,
          0,
          0,
          0,
          0,
          0,
          0,
          0,
          0,
          0,
          0,
          0,
          0,
          0,
          0,
          0,
          0,
          0,
          0,
          0,
          0,
          0,
          0,
          0,
          0,
          0,
          0,
          0,
          0,
          0,
          0,
          0,
          0,
          0,
          0,
          0,
          0,
          0,
          0,
          0,
          0,
          0,
          0,
          0,
          0,
          0,
          0,
          0,
          0,
          0,
          0,
          0,
          0,
          0,
          0,
          0,
          0,
          0,
          0,
          0,
          0,
          0,
          0,
          0,
          0,
          0,
          0,
          0,
          0,
          0,
          0,
          0,
          0,
          0,
          0,
          0,
          0,
          0,
          0,
          0,
          0,
          0,
          0,
          0,
          0,
          0,
          0,
          0,
          0,
          0,
          0,
          0,
          0,
          0,
          0,
          0,
          0,
          0,
          0,
          0,
          0,
          0,
          0,
          0,
          0,
          0,
          0,
          0,
          0,
          0,
          0,
          0,
          0,
          0,
          0,
          0,
          0,
          0,
          0,
          0,
          0,
          0,
          0,
          0,
          0,
          0,
          0,
          0,
          0,
          0,
          0,
          0,
          0,
          0,
          0,
          0,
          0,
          0,
          0,
          0,
          0,
          0,
          0,
          0,
          0,
          0,
          0,
          0,
          0,
          0,
          0,
          0,
          0,
          0,
          0,
          0,
          0,
          0,
          0,
          0,
          0,
          0,
          0,
          0,
          0,
          0,
          0,
          0,
          0,
          0,
          0,
          0,
          0,
          0,
          0,
          0,
          0,
          0,
          0,
          0,
          0,
          0,
          0,
          0,
          0,
          0,
          0,
          0,
          0,
          0,
          0,
          0,
          0,
          0,
          0,
          0,
          0,
          0,
          0,
          0,
          0,
          0,
          0,
          0,
          0,
          0,
          0,
          0,
          0,
          0,
          0,
          0,
          0,
          0,
          0,
          0,
          0,
          0,
          0,
          0,
          0,
          0,
          0,
          0,
          0,
          0,
          0,
          0,
          0,
          0,
          0,
          0,
          0,
          0,
          0,
          0,
          0,
          0,
          0,
          0,
          0,
          0,
          0,
          0,
          0,
          0,
          0,
          0,
          0,
          0,
          0,
          0,
          0,
          0,
          0,
          0,
          0,
          0,
          0,
          0,
          0,
          0,
          0,
          0,
          0,
          0,
          0,
          0,
          0,
          0,
          0,
          0,
          0,
          0,
          0,
          0,
          0,
          0,
          0,
          0,
          0,
          0,
          0,
          0,
          0,
          0,
          0,
          0,
          0,
          0,
          0,
          0,
          0,
          0,
          0,
          0,
          0,
          0,
          0,
          0,
          0,
          0,
          0,
          0,
          0,
          0,
          0,
          0,
          0,
          0,
          0,
          0,
          0,
          0,
          0,
          0,
          0,
          0,
          0,
          0,
          0,
          0,
          0,
          0,
          0,
          0,
          0,
          0,
          0,
          0,
          0,
          0,
          0,
          0,
          0,
          0,
          0,
          0,
          0,
          0,
          0,
          0,
          0,
          0,
          0,
          0,
          0,
          0,
          0,
          0,
          0,
          0,
          0,
          0,
          0,
          0,
          0,
          0,
          0,
          0,
          0,
          0,
          0,
          0,
          0,
          0,
          0,
          0,
          0,
          0,
          0,
          0,
          0,
          0,
          0,
          0,
          0,
          0,
          0,
          0,
          0,
          0,
          0,
          0,
          0,
          0,
          0,
          0,
          0,
          0,
          0,
          0,
          0,
          0,
          0
         ],
         "y": [
          0,
          0.3828125,
          0.3828125,
          0.3828125,
          0.3828125,
          0.3828125,
          0.3828125,
          0.3828125,
          0.3828125,
          0.3828125,
          0.3828125,
          0.3828125,
          0.3828125,
          0.3828125,
          0.3828125,
          0.3828125,
          0.3828125,
          0.3828125,
          0.3828125,
          0.3828125,
          0.3828125,
          0.3828125,
          0.3828125,
          0.3828125,
          0.3828125,
          0.3828125,
          0.3828125,
          0.3828125,
          0.3828125,
          0.3828125,
          0.3828125,
          0.3828125,
          0.3828125,
          0.3828125,
          0.3828125,
          0.3828125,
          0.3828125,
          0.3828125,
          0.3828125,
          0.3828125,
          0.3828125,
          0.3828125,
          0.3828125,
          0.3828125,
          0.3828125,
          0.3828125,
          0.3828125,
          0.3828125,
          0.3828125,
          0.3828125,
          0.3828125,
          0.3828125,
          0.3828125,
          0.3828125,
          0.3828125,
          0.3828125,
          0.3828125,
          0.3828125,
          0.3828125,
          0.3828125,
          0.3828125,
          0.3828125,
          0.3828125,
          0.3828125,
          0.3828125,
          0.3828125,
          0.3828125,
          0.3828125,
          0.3828125,
          0.3828125,
          0.3828125,
          0.3828125,
          0.3828125,
          0.3828125,
          0.3828125,
          0.3828125,
          0.3828125,
          0.3828125,
          0.3828125,
          0.3828125,
          0.3828125,
          0.3828125,
          0.3828125,
          0.3828125,
          0.3828125,
          0.3828125,
          0.3828125,
          0.3828125,
          0.3828125,
          0.3828125,
          0.3828125,
          0.3828125,
          0.3828125,
          0.3828125,
          0.3828125,
          0.3828125,
          0.3828125,
          0.3828125,
          0.3828125,
          0.3828125,
          0.3828125,
          0.3828125,
          0.3828125,
          0.3828125,
          0.3828125,
          0.3828125,
          0.3828125,
          0.3828125,
          0.3828125,
          0.3828125,
          0.3828125,
          0.3828125,
          0.3828125,
          0.3828125,
          0.3828125,
          0.3828125,
          0.3828125,
          0.3828125,
          0.3828125,
          0.3828125,
          0.3828125,
          0.3828125,
          0.3828125,
          0.3828125,
          0.3828125,
          0.3828125,
          0.3828125,
          0.3828125,
          0.3828125,
          0.3828125,
          0.3828125,
          0.3828125,
          0.3828125,
          0.3828125,
          0.3828125,
          0.3828125,
          0.3828125,
          0.3828125,
          0.3828125,
          0.3828125,
          0.3828125,
          0.3828125,
          0.3828125,
          0.3828125,
          0.3828125,
          0.3828125,
          0.3828125,
          0.3828125,
          0.3828125,
          0.3828125,
          0.3828125,
          0.3828125,
          0.3828125,
          0.3828125,
          0.3828125,
          0.3828125,
          0.3828125,
          0.3828125,
          0.3828125,
          0.3828125,
          0.3828125,
          0.3828125,
          0.3828125,
          0.3828125,
          0.3828125,
          0.3828125,
          0.3828125,
          0.3828125,
          0.3828125,
          0.3828125,
          0.3828125,
          0.3828125,
          0.3828125,
          0.3828125,
          0.3828125,
          0.3828125,
          0.3828125,
          0.3828125,
          0.3828125,
          0.3828125,
          0.3828125,
          0.3828125,
          0.3828125,
          0.3828125,
          0.3828125,
          0.3828125,
          0.3828125,
          0.3828125,
          0.3828125,
          0.3828125,
          0.3828125,
          0.3828125,
          0.3828125,
          0.3828125,
          0.3828125,
          0.3828125,
          0.3828125,
          0.3828125,
          0.3828125,
          0.3828125,
          0.3828125,
          0.3828125,
          0.3828125,
          0.3828125,
          0.3828125,
          0.3828125,
          0.3828125,
          0.3828125,
          0.3828125,
          0.3828125,
          0.3828125,
          0.3828125,
          0.3828125,
          0.3828125,
          0.3828125,
          0.3828125,
          0.3828125,
          0.3828125,
          0.3828125,
          0.3828125,
          0.3828125,
          0.3828125,
          0.3828125,
          0.3828125,
          0.3828125,
          0.3828125,
          0.3828125,
          0.3828125,
          0.3828125,
          0.3828125,
          0.3828125,
          0.3828125,
          0.3828125,
          0.3828125,
          0.3828125,
          0.3828125,
          0.3828125,
          0.3828125,
          0.3828125,
          0.3828125,
          0.3828125,
          0.3828125,
          0.3828125,
          0.3828125,
          0.3828125,
          0.3828125,
          0.3828125,
          0.3828125,
          0.3828125,
          0.3828125,
          0.3828125,
          0.3828125,
          0.3828125,
          0.3828125,
          0.3828125,
          0.3828125,
          0.3828125,
          0.3828125,
          0.3828125,
          0.3828125,
          0.3828125,
          0.3828125,
          0.3828125,
          0.3828125,
          0.3828125,
          0.3828125,
          0.3828125,
          0.3828125,
          0.3828125,
          0.3828125,
          0.3828125,
          0.3828125,
          0.3828125,
          0.3828125,
          0.3828125,
          0.3828125,
          0.3828125,
          0.3828125,
          0.3828125,
          0.3828125,
          0.3828125,
          0.3828125,
          0.3828125,
          0.3828125,
          0.3828125,
          0.3828125,
          0.3828125,
          0.3828125,
          0.3828125,
          0.3828125,
          0.3828125,
          0.3828125,
          0.3828125,
          0.3828125,
          0.3828125,
          0.3828125,
          0.3828125,
          0.3828125,
          0.3828125,
          0.3828125,
          0.3828125,
          0.3828125,
          0.3828125,
          0.3828125,
          0.3828125,
          0.3828125,
          0.3828125,
          0.3828125,
          0.3828125,
          0.3828125,
          0.3828125,
          0.3828125,
          0.3828125,
          0.3828125,
          0.3828125,
          0.3828125,
          0.3828125,
          0.3828125,
          0.3828125,
          0.3828125,
          0.3828125,
          0.3828125,
          0.3828125,
          0.3828125,
          0.3828125,
          0.3828125,
          0.3828125,
          0.3828125,
          0.3828125,
          0.3828125,
          0.3828125,
          0.3828125,
          0.3828125,
          0.3828125,
          0.3828125,
          0.3828125,
          0.3828125,
          0.3828125,
          0.3828125,
          0.3828125,
          0.3828125,
          0.3828125,
          0.3828125,
          0.3828125,
          0.3828125,
          0.3828125,
          0.3828125,
          0.3828125,
          0.3828125,
          0.3828125,
          0.3828125,
          0.3828125,
          0.3828125,
          0.3828125,
          0.3828125,
          0.3828125,
          0.3828125,
          0.3828125,
          0.3828125,
          0.3828125,
          0.3828125,
          0.3828125,
          0.3828125,
          0.3828125,
          0.3828125,
          0.3828125,
          0.3828125,
          0.3828125,
          0.3828125,
          0.3828125,
          0.3828125,
          0.3828125,
          0.3828125,
          0.3828125,
          0.3828125,
          0.3828125,
          0.3828125,
          0.3828125,
          0.3828125,
          0.3828125,
          0.3828125,
          0.3828125,
          0.3828125,
          0.3828125,
          0.3828125,
          0.3828125,
          0.3828125,
          0.3828125,
          0.3828125,
          0.3828125,
          0.3828125,
          0.3828125,
          0.3828125,
          0.3828125,
          0.3828125,
          0.3828125,
          0.3828125,
          0.3828125,
          0.3828125,
          0.3828125,
          0.3828125,
          0.3828125,
          0.3828125,
          0.3828125,
          0.3828125,
          0.3828125,
          0.3828125,
          0.3828125,
          0.3828125,
          0.3828125,
          0.3828125,
          0.3828125,
          0.3828125,
          0.3828125,
          0.3828125,
          0.3828125,
          0.3828125,
          0.3828125,
          0.3828125,
          0.3828125,
          0.3828125,
          0.3828125,
          0.3828125,
          0.3828125,
          0.3828125,
          0.3828125,
          0.3828125,
          0.3828125,
          0.3828125,
          0.3828125,
          0.3828125,
          0.3828125,
          0.3828125,
          0.3828125,
          0.3828125,
          0.3828125,
          0.3828125,
          0.3828125,
          0.3828125,
          0.3828125,
          0.3828125,
          0.3828125,
          0.3828125,
          0.3828125,
          0.3828125,
          0.3828125,
          0.3828125,
          0.3828125,
          0.3828125,
          0.3828125,
          0.3828125,
          0.3828125,
          0.3828125,
          0.3828125,
          0.3828125,
          0.3828125,
          0.3828125,
          0.3828125,
          0.3828125,
          0.3828125,
          0.3828125,
          0.3828125,
          0.3828125,
          0.3828125,
          0.3828125,
          0.3828125,
          0.3828125,
          0.3828125,
          0.3828125,
          0.3828125,
          0.3828125,
          0.3828125,
          0.3828125,
          0.3828125,
          0.3828125,
          0.3828125,
          0.3828125,
          0.3828125,
          0.3828125,
          0.3828125,
          0.3828125,
          0.3828125,
          0.3828125,
          0.3828125,
          0.3828125,
          0.3828125,
          0.3828125,
          0.3828125,
          0.3828125,
          0.3828125,
          0.3828125,
          0.3828125,
          0.3828125,
          0.3828125,
          0.3828125,
          0.3828125,
          0.3828125,
          0.3828125,
          0.3828125,
          0.3828125,
          0.3828125,
          0.3828125,
          0.3828125,
          0.3828125,
          0.3828125,
          0.3828125,
          0.3828125,
          0.3828125,
          0.3828125,
          0.3828125,
          0.3828125,
          0.3828125,
          0.3828125,
          0.3828125,
          0.3828125,
          0.3828125,
          0.3828125,
          0.3828125,
          0.3828125,
          0.3828125,
          0.3828125,
          0.3828125,
          0.3828125,
          0.3828125,
          0.3828125,
          0.3828125,
          0.3828125,
          0.3828125,
          0.3828125,
          0.3828125,
          0.3828125,
          0.3828125,
          0.3828125,
          0.3828125,
          0.3828125,
          0.3828125,
          0.3828125,
          0.3828125,
          0.3828125,
          0.3828125,
          0.3828125,
          0.3828125,
          0.3828125,
          0.3828125,
          0.3828125,
          0.3828125,
          0.3828125,
          0.3828125,
          0.3828125,
          0.3828125,
          0.3828125,
          0.3828125,
          0.3828125,
          0.3828125,
          0.3828125,
          0.3828125,
          0.3828125,
          0.3828125,
          0.3828125,
          0.3828125,
          0.3828125,
          0.3828125,
          0.3828125,
          0.3828125,
          0.3828125,
          0.3828125,
          0.3828125,
          0.3828125,
          0.3828125,
          0.3828125,
          0.3828125,
          0.3828125,
          0.3828125,
          0.3828125,
          0.3828125,
          0.3828125,
          0.3828125,
          0.3828125,
          0.3828125,
          0.3828125,
          0.3828125,
          0.3828125,
          0.3828125,
          0.3828125,
          0.3828125,
          0.3828125,
          0.3828125,
          0.3828125,
          0.3828125,
          0.3828125,
          0.3828125,
          0.3828125,
          0.3828125,
          0.3828125,
          0.3828125,
          0.3828125,
          0.3828125,
          0.3828125,
          0.3828125,
          0.3828125,
          0.3828125,
          0.3828125,
          0.3828125,
          0.3828125,
          0.3828125,
          0.3828125,
          0.3828125,
          0.3828125,
          0.3828125,
          0.3828125,
          0.3828125,
          0.3828125,
          0.3828125,
          0.3828125,
          0.3828125,
          0.3828125,
          0.3828125,
          0.3828125,
          0.3828125,
          0.3828125,
          0.3828125,
          0.3828125,
          0.3828125,
          0.3828125,
          0.3828125,
          0.3828125,
          0.3828125,
          0.3828125,
          0.3828125,
          0.3828125,
          0.3828125,
          0.3828125,
          0.3828125,
          0.3828125,
          0.3828125,
          0.3828125,
          0.3828125,
          0.3828125,
          0.3828125,
          0.3828125,
          0.3828125,
          0.3828125,
          0.3828125,
          0.3828125,
          0.3828125,
          0.3828125,
          0.3828125,
          0.3828125,
          0.3828125,
          0.3828125,
          0.3828125,
          0.3828125,
          0.3828125,
          0.3828125,
          0.3828125,
          0.3828125,
          0.3828125,
          0.3828125,
          0.3828125,
          0.3828125,
          0.3828125,
          0.3828125,
          0.3828125,
          0.3828125,
          0.3828125,
          0.3828125,
          0.3828125,
          0.3828125,
          0.3828125,
          0.3828125,
          0.3828125,
          0.3828125,
          0.3828125,
          0.3828125,
          0.3828125,
          0.3828125,
          0.3828125,
          0.3828125,
          0.3828125,
          0.3828125,
          0.3828125,
          0.3828125,
          0.3828125,
          0.3828125,
          0.3828125,
          0.3828125,
          0.3828125,
          0.3828125,
          0.3828125,
          0.3828125,
          0.3828125,
          0.3828125,
          0.3828125,
          0.3828125,
          0.3828125,
          0.3828125,
          0.3828125,
          0.3828125,
          0.3828125,
          0.3828125,
          0.3828125,
          0.3828125,
          0.3828125,
          0.3828125,
          0.3828125,
          0.3828125,
          0.3828125,
          0.3828125,
          0.3828125,
          0.3828125,
          0.3828125,
          0.3828125,
          0.3828125,
          0.3828125,
          0.3828125,
          0.3828125,
          0.3828125,
          0.3828125,
          0.3828125,
          0.3828125,
          0.3828125,
          0.3828125,
          0.3828125,
          0.3828125,
          0.3828125,
          0.3828125,
          0.3828125,
          0.3828125,
          0.3828125,
          0.3828125,
          0.3828125,
          0.3828125,
          0.3828125,
          0.3828125,
          0.3828125,
          0.3828125,
          0.3828125,
          0.3828125,
          0.3828125,
          0.3828125,
          0.3828125,
          0.3828125,
          0.3828125,
          0.3828125,
          0.3828125,
          0.3828125,
          0.3828125,
          0.3828125,
          0.3828125,
          0.3828125,
          0.3828125,
          0.3828125,
          0.3828125,
          0.3828125,
          0.3828125,
          0.3828125,
          0.3828125,
          0.3828125,
          0.3828125,
          0.3828125,
          0.3828125,
          0.3828125,
          0.3828125,
          0.3828125,
          0.3828125,
          0.3828125,
          0.3828125,
          0.3828125,
          0.3828125,
          0.3828125,
          0.3828125,
          0.3828125,
          0.3828125,
          0.3828125,
          0.3828125,
          0.3828125,
          0.3828125,
          0.3828125,
          0.3828125,
          0.3828125,
          0.3828125,
          0.3828125,
          0.3828125,
          0.3828125,
          0.3828125,
          0.3828125,
          0.3828125,
          0.3828125,
          0.3828125,
          0.3828125,
          0.3828125,
          0.3828125,
          0.3828125,
          0.3828125,
          0.3828125,
          0.3828125,
          0.3828125,
          0.3828125,
          0.3828125,
          0.3828125,
          0.3828125,
          0.3828125,
          0.3828125,
          0.3828125,
          0.3828125,
          0.3828125,
          0.3828125,
          0.3828125,
          0.3828125,
          0.3828125,
          0.3828125,
          0.3828125,
          0.3828125,
          0.3828125,
          0.3828125,
          0.3828125,
          0.3828125,
          0.3828125,
          0.3828125,
          0.3828125,
          0.3828125,
          0.3828125,
          0.3828125,
          0.3828125,
          0.3828125,
          0.3828125,
          0.3828125,
          0.3828125,
          0.3828125,
          0.3828125,
          0.3828125,
          0.3828125,
          0.3828125,
          0.3828125,
          0.3828125,
          0.3828125,
          0.3828125,
          0.3828125,
          0.3828125,
          0.3828125,
          0.3828125,
          0.3828125,
          0.3828125,
          0.3828125,
          0.3828125,
          0.3828125,
          0.3828125,
          0.3828125,
          0.3828125,
          0.3828125,
          0.3828125,
          0.3828125,
          0.3828125,
          0.3828125,
          0.3828125,
          0.3828125,
          0.3828125,
          0.3828125,
          0.3828125,
          0.3828125,
          0.3828125,
          0.3828125,
          0.3828125,
          0.3828125,
          0.3828125,
          0.3828125,
          0.3828125,
          0.3828125,
          0.3828125,
          0.3828125,
          0.3828125,
          0.3828125,
          0.3828125,
          0.3828125,
          0.3828125,
          0.3828125,
          0.3828125,
          0.3828125,
          0.3828125,
          0.3828125,
          0.3828125,
          0.3828125,
          0.3828125,
          0.3828125,
          0.3828125,
          0.3828125,
          0.3828125,
          0.3828125,
          0.3828125,
          0.3828125,
          0.3828125,
          0.3828125,
          0.3828125,
          0.3828125,
          0.3828125,
          0.3828125,
          0.3828125,
          0.3828125,
          0.3828125,
          0.3828125,
          0.3828125,
          0.3828125,
          0.3828125,
          0.3828125,
          0.3828125,
          0.3828125,
          0.3828125,
          0.3828125,
          0.3828125,
          0.3828125,
          0.3828125,
          0.3828125,
          0.3828125,
          0.3828125,
          0.3828125,
          0.3828125,
          0.3828125,
          0.3828125,
          0.3828125,
          0.3828125,
          0.3828125,
          0.3828125,
          0.3828125,
          0.3828125,
          0.3828125,
          0.3828125,
          0.3828125,
          0.3828125,
          0.3828125,
          0.3828125,
          0.3828125,
          0.3828125,
          0.3828125,
          0.3828125,
          0.3828125,
          0.3828125,
          0.3828125,
          0.3828125,
          0.3828125,
          0.3828125,
          0.3828125,
          0.3828125,
          0.3828125,
          0.3828125,
          0.3828125,
          0.3828125,
          0.3828125,
          0.3828125,
          0.3828125,
          0.3828125,
          0.3828125,
          0.3828125,
          0.3828125,
          0.3828125,
          0.3828125,
          0.3828125,
          0.3828125,
          0.3828125,
          0.3828125,
          0.3828125,
          0.3828125,
          0.3828125,
          0.3828125,
          0.3828125,
          0.3828125,
          0.3828125,
          0.3828125,
          0.3828125,
          0.3828125,
          0.3828125,
          0.3828125,
          0.3828125,
          0.3828125,
          0.3828125,
          0.3828125,
          0.3828125,
          0.3828125,
          0.3828125,
          0.3828125,
          0.3828125,
          0.3828125,
          0.3828125,
          0.3828125,
          0.3828125,
          0.3828125,
          0.3828125,
          0.3828125,
          0.3828125,
          0.3828125,
          0.3828125,
          0.3828125,
          0.3828125,
          0.3828125,
          0.3828125,
          0.3828125,
          0.3828125,
          0.3828125,
          0.3828125,
          0.3828125,
          0.3828125
         ],
         "z": [
          0.3828125,
          0,
          0,
          0,
          0,
          0,
          0,
          0,
          0,
          0,
          0,
          0,
          0,
          0,
          0,
          0,
          0,
          0,
          0,
          0,
          0,
          0,
          0,
          0,
          0,
          0,
          0,
          0,
          0,
          0,
          0,
          0,
          0,
          0,
          0,
          0,
          0,
          0,
          0,
          0,
          0,
          0,
          0,
          0,
          0,
          0,
          0,
          0,
          0,
          0,
          0,
          0,
          0,
          0,
          0,
          0,
          0,
          0,
          0,
          0,
          0,
          0,
          0,
          0,
          0,
          0,
          0,
          0,
          0,
          0,
          0,
          0,
          0,
          0,
          0,
          0,
          0,
          0,
          0,
          0,
          0,
          0,
          0,
          0,
          0,
          0,
          0,
          0,
          0,
          0,
          0,
          0,
          0,
          0,
          0,
          0,
          0,
          0,
          0,
          0,
          0,
          0,
          0,
          0,
          0,
          0,
          0,
          0,
          0,
          0,
          0,
          0,
          0,
          0,
          0,
          0,
          0,
          0,
          0,
          0,
          0,
          0,
          0,
          0,
          0,
          0,
          0,
          0,
          0,
          0,
          0,
          0,
          0,
          0,
          0,
          0,
          0,
          0,
          0,
          0,
          0,
          0,
          0,
          0,
          0,
          0,
          0,
          0,
          0,
          0,
          0,
          0,
          0,
          0,
          0,
          0,
          0,
          0,
          0,
          0,
          0,
          0,
          0,
          0,
          0,
          0,
          0,
          0,
          0,
          0,
          0,
          0,
          0,
          0,
          0,
          0,
          0,
          0,
          0,
          0,
          0,
          0,
          0,
          0,
          0,
          0,
          0,
          0,
          0,
          0,
          0,
          0,
          0,
          0,
          0,
          0,
          0,
          0,
          0,
          0,
          0,
          0,
          0,
          0,
          0,
          0,
          0,
          0,
          0,
          0,
          0,
          0,
          0,
          0,
          0,
          0,
          0,
          0,
          0,
          0,
          0,
          0,
          0,
          0,
          0,
          0,
          0,
          0,
          0,
          0,
          0,
          0,
          0,
          0,
          0,
          0,
          0,
          0,
          0,
          0,
          0,
          0,
          0,
          0,
          0,
          0,
          0,
          0,
          0,
          0,
          0,
          0,
          0,
          0,
          0,
          0,
          0,
          0,
          0,
          0,
          0,
          0,
          0,
          0,
          0,
          0,
          0,
          0,
          0,
          0,
          0,
          0,
          0,
          0,
          0,
          0,
          0,
          0,
          0,
          0,
          0,
          0,
          0,
          0,
          0,
          0,
          0,
          0,
          0,
          0,
          0,
          0,
          0,
          0,
          0,
          0,
          0,
          0,
          0,
          0,
          0,
          0,
          0,
          0,
          0,
          0,
          0,
          0,
          0,
          0,
          0,
          0,
          0,
          0,
          0,
          0,
          0,
          0,
          0,
          0,
          0,
          0,
          0,
          0,
          0,
          0,
          0,
          0,
          0,
          0,
          0,
          0,
          0,
          0,
          0,
          0,
          0,
          0,
          0,
          0,
          0,
          0,
          0,
          0,
          0,
          0,
          0,
          0,
          0,
          0,
          0,
          0,
          0,
          0,
          0,
          0,
          0,
          0,
          0,
          0,
          0,
          0,
          0,
          0,
          0,
          0,
          0,
          0,
          0,
          0,
          0,
          0,
          0,
          0,
          0,
          0,
          0,
          0,
          0,
          0,
          0,
          0,
          0,
          0,
          0,
          0,
          0,
          0,
          0,
          0,
          0,
          0,
          0,
          0,
          0,
          0,
          0,
          0,
          0,
          0,
          0,
          0,
          0,
          0,
          0,
          0,
          0,
          0,
          0,
          0,
          0,
          0,
          0,
          0,
          0,
          0,
          0,
          0,
          0,
          0,
          0,
          0,
          0,
          0,
          0,
          0,
          0,
          0,
          0,
          0,
          0,
          0,
          0,
          0,
          0,
          0,
          0,
          0,
          0,
          0,
          0,
          0,
          0,
          0,
          0,
          0,
          0,
          0,
          0,
          0,
          0,
          0,
          0,
          0,
          0,
          0,
          0,
          0,
          0,
          0,
          0,
          0,
          0,
          0,
          0,
          0,
          0,
          0,
          0,
          0,
          0,
          0,
          0,
          0,
          0,
          0,
          0,
          0,
          0,
          0,
          0,
          0,
          0,
          0,
          0,
          0,
          0,
          0,
          0,
          0,
          0,
          0,
          0,
          0,
          0,
          0,
          0,
          0,
          0,
          0,
          0,
          0,
          0,
          0,
          0,
          0,
          0,
          0,
          0,
          0,
          0,
          0,
          0,
          0,
          0,
          0,
          0,
          0,
          0,
          0,
          0,
          0,
          0,
          0,
          0,
          0,
          0,
          0,
          0,
          0,
          0,
          0,
          0,
          0,
          0,
          0,
          0,
          0,
          0,
          0,
          0,
          0,
          0,
          0,
          0,
          0,
          0,
          0,
          0,
          0,
          0,
          0,
          0,
          0,
          0,
          0,
          0,
          0,
          0,
          0,
          0,
          0,
          0,
          0,
          0,
          0,
          0,
          0,
          0,
          0,
          0,
          0,
          0,
          0,
          0,
          0,
          0,
          0,
          0,
          0,
          0,
          0,
          0,
          0,
          0,
          0,
          0,
          0,
          0,
          0,
          0,
          0,
          0,
          0,
          0,
          0,
          0,
          0,
          0,
          0,
          0,
          0,
          0,
          0,
          0,
          0,
          0,
          0,
          0,
          0,
          0,
          0,
          0,
          0,
          0,
          0,
          0,
          0,
          0,
          0,
          0,
          0,
          0,
          0,
          0,
          0,
          0,
          0,
          0,
          0,
          0,
          0,
          0,
          0,
          0,
          0,
          0,
          0,
          0,
          0,
          0,
          0,
          0,
          0,
          0,
          0,
          0,
          0,
          0,
          0,
          0,
          0,
          0,
          0,
          0,
          0,
          0,
          0,
          0,
          0,
          0,
          0,
          0,
          0,
          0,
          0,
          0,
          0,
          0,
          0,
          0,
          0,
          0,
          0,
          0,
          0,
          0,
          0,
          0,
          0,
          0,
          0,
          0,
          0,
          0,
          0,
          0,
          0,
          0,
          0,
          0,
          0,
          0,
          0,
          0,
          0,
          0,
          0,
          0,
          0,
          0,
          0,
          0,
          0,
          0,
          0,
          0,
          0,
          0,
          0,
          0,
          0,
          0,
          0,
          0,
          0,
          0,
          0,
          0,
          0,
          0,
          0,
          0,
          0,
          0,
          0,
          0,
          0,
          0,
          0,
          0,
          0,
          0,
          0,
          0,
          0,
          0,
          0,
          0,
          0,
          0,
          0,
          0,
          0,
          0,
          0,
          0,
          0,
          0,
          0,
          0,
          0,
          0,
          0,
          0,
          0,
          0,
          0,
          0,
          0,
          0,
          0,
          0,
          0,
          0,
          0,
          0,
          0,
          0,
          0,
          0,
          0,
          0,
          0,
          0,
          0,
          0,
          0,
          0,
          0,
          0,
          0,
          0,
          0,
          0,
          0,
          0,
          0,
          0,
          0,
          0,
          0,
          0,
          0,
          0,
          0,
          0,
          0,
          0,
          0,
          0,
          0,
          0,
          0,
          0,
          0,
          0,
          0,
          0,
          0,
          0,
          0,
          0,
          0,
          0,
          0,
          0,
          0,
          0,
          0,
          0,
          0,
          0,
          0,
          0,
          0,
          0,
          0,
          0,
          0,
          0,
          0,
          0,
          0,
          0,
          0,
          0,
          0,
          0,
          0,
          0,
          0,
          0,
          0,
          0,
          0,
          0,
          0,
          0,
          0,
          0,
          0,
          0,
          0,
          0,
          0,
          0,
          0,
          0,
          0,
          0,
          0,
          0,
          0,
          0,
          0,
          0,
          0,
          0,
          0,
          0,
          0,
          0,
          0,
          0,
          0,
          0,
          0,
          0,
          0,
          0,
          0,
          0,
          0,
          0,
          0,
          0,
          0,
          0,
          0,
          0,
          0,
          0,
          0,
          0,
          0,
          0,
          0,
          0,
          0,
          0,
          0,
          0,
          0,
          0,
          0,
          0,
          0,
          0,
          0,
          0,
          0,
          0,
          0,
          0,
          0,
          0,
          0,
          0,
          0,
          0,
          0,
          0,
          0,
          0,
          0,
          0,
          0,
          0,
          0,
          0,
          0,
          0,
          0,
          0,
          0,
          0,
          0,
          0,
          0,
          0,
          0,
          0,
          0,
          0,
          0,
          0,
          0,
          0,
          0,
          0,
          0,
          0,
          0,
          0,
          0,
          0,
          0,
          0,
          0,
          0,
          0,
          0,
          0,
          0,
          0,
          0,
          0,
          0,
          0,
          0,
          0,
          0,
          0,
          0,
          0,
          0,
          0,
          0,
          0,
          0,
          0,
          0,
          0,
          0,
          0,
          0,
          0,
          0,
          0,
          0,
          0,
          0,
          0,
          0,
          0,
          0,
          0,
          0,
          0
         ]
        },
        {
         "color": "lightgrey",
         "i": [
          0,
          0,
          0,
          1
         ],
         "j": [
          1,
          2,
          3,
          2
         ],
         "k": [
          2,
          3,
          1,
          3
         ],
         "name": "y",
         "opacity": 0.2,
         "showscale": true,
         "type": "mesh3d",
         "x": [
          0,
          0,
          0,
          1
         ],
         "y": [
          0,
          0,
          1,
          0
         ],
         "z": [
          0,
          1,
          0,
          0
         ]
        }
       ],
       "layout": {
        "legend": {
         "tracegroupgap": 0
        },
        "margin": {
         "t": 60
        },
        "scene": {
         "domain": {
          "x": [
           0,
           1
          ],
          "y": [
           0,
           1
          ]
         },
         "xaxis": {
          "range": [
           0,
           1
          ],
          "title": {
           "text": "TP"
          }
         },
         "yaxis": {
          "range": [
           0,
           1
          ],
          "title": {
           "text": "TN"
          }
         },
         "zaxis": {
          "range": [
           0,
           1
          ],
          "title": {
           "text": "FP"
          }
         }
        },
        "template": {
         "data": {
          "bar": [
           {
            "error_x": {
             "color": "#2a3f5f"
            },
            "error_y": {
             "color": "#2a3f5f"
            },
            "marker": {
             "line": {
              "color": "#E5ECF6",
              "width": 0.5
             },
             "pattern": {
              "fillmode": "overlay",
              "size": 10,
              "solidity": 0.2
             }
            },
            "type": "bar"
           }
          ],
          "barpolar": [
           {
            "marker": {
             "line": {
              "color": "#E5ECF6",
              "width": 0.5
             },
             "pattern": {
              "fillmode": "overlay",
              "size": 10,
              "solidity": 0.2
             }
            },
            "type": "barpolar"
           }
          ],
          "carpet": [
           {
            "aaxis": {
             "endlinecolor": "#2a3f5f",
             "gridcolor": "white",
             "linecolor": "white",
             "minorgridcolor": "white",
             "startlinecolor": "#2a3f5f"
            },
            "baxis": {
             "endlinecolor": "#2a3f5f",
             "gridcolor": "white",
             "linecolor": "white",
             "minorgridcolor": "white",
             "startlinecolor": "#2a3f5f"
            },
            "type": "carpet"
           }
          ],
          "choropleth": [
           {
            "colorbar": {
             "outlinewidth": 0,
             "ticks": ""
            },
            "type": "choropleth"
           }
          ],
          "contour": [
           {
            "colorbar": {
             "outlinewidth": 0,
             "ticks": ""
            },
            "colorscale": [
             [
              0,
              "#0d0887"
             ],
             [
              0.1111111111111111,
              "#46039f"
             ],
             [
              0.2222222222222222,
              "#7201a8"
             ],
             [
              0.3333333333333333,
              "#9c179e"
             ],
             [
              0.4444444444444444,
              "#bd3786"
             ],
             [
              0.5555555555555556,
              "#d8576b"
             ],
             [
              0.6666666666666666,
              "#ed7953"
             ],
             [
              0.7777777777777778,
              "#fb9f3a"
             ],
             [
              0.8888888888888888,
              "#fdca26"
             ],
             [
              1,
              "#f0f921"
             ]
            ],
            "type": "contour"
           }
          ],
          "contourcarpet": [
           {
            "colorbar": {
             "outlinewidth": 0,
             "ticks": ""
            },
            "type": "contourcarpet"
           }
          ],
          "heatmap": [
           {
            "colorbar": {
             "outlinewidth": 0,
             "ticks": ""
            },
            "colorscale": [
             [
              0,
              "#0d0887"
             ],
             [
              0.1111111111111111,
              "#46039f"
             ],
             [
              0.2222222222222222,
              "#7201a8"
             ],
             [
              0.3333333333333333,
              "#9c179e"
             ],
             [
              0.4444444444444444,
              "#bd3786"
             ],
             [
              0.5555555555555556,
              "#d8576b"
             ],
             [
              0.6666666666666666,
              "#ed7953"
             ],
             [
              0.7777777777777778,
              "#fb9f3a"
             ],
             [
              0.8888888888888888,
              "#fdca26"
             ],
             [
              1,
              "#f0f921"
             ]
            ],
            "type": "heatmap"
           }
          ],
          "heatmapgl": [
           {
            "colorbar": {
             "outlinewidth": 0,
             "ticks": ""
            },
            "colorscale": [
             [
              0,
              "#0d0887"
             ],
             [
              0.1111111111111111,
              "#46039f"
             ],
             [
              0.2222222222222222,
              "#7201a8"
             ],
             [
              0.3333333333333333,
              "#9c179e"
             ],
             [
              0.4444444444444444,
              "#bd3786"
             ],
             [
              0.5555555555555556,
              "#d8576b"
             ],
             [
              0.6666666666666666,
              "#ed7953"
             ],
             [
              0.7777777777777778,
              "#fb9f3a"
             ],
             [
              0.8888888888888888,
              "#fdca26"
             ],
             [
              1,
              "#f0f921"
             ]
            ],
            "type": "heatmapgl"
           }
          ],
          "histogram": [
           {
            "marker": {
             "pattern": {
              "fillmode": "overlay",
              "size": 10,
              "solidity": 0.2
             }
            },
            "type": "histogram"
           }
          ],
          "histogram2d": [
           {
            "colorbar": {
             "outlinewidth": 0,
             "ticks": ""
            },
            "colorscale": [
             [
              0,
              "#0d0887"
             ],
             [
              0.1111111111111111,
              "#46039f"
             ],
             [
              0.2222222222222222,
              "#7201a8"
             ],
             [
              0.3333333333333333,
              "#9c179e"
             ],
             [
              0.4444444444444444,
              "#bd3786"
             ],
             [
              0.5555555555555556,
              "#d8576b"
             ],
             [
              0.6666666666666666,
              "#ed7953"
             ],
             [
              0.7777777777777778,
              "#fb9f3a"
             ],
             [
              0.8888888888888888,
              "#fdca26"
             ],
             [
              1,
              "#f0f921"
             ]
            ],
            "type": "histogram2d"
           }
          ],
          "histogram2dcontour": [
           {
            "colorbar": {
             "outlinewidth": 0,
             "ticks": ""
            },
            "colorscale": [
             [
              0,
              "#0d0887"
             ],
             [
              0.1111111111111111,
              "#46039f"
             ],
             [
              0.2222222222222222,
              "#7201a8"
             ],
             [
              0.3333333333333333,
              "#9c179e"
             ],
             [
              0.4444444444444444,
              "#bd3786"
             ],
             [
              0.5555555555555556,
              "#d8576b"
             ],
             [
              0.6666666666666666,
              "#ed7953"
             ],
             [
              0.7777777777777778,
              "#fb9f3a"
             ],
             [
              0.8888888888888888,
              "#fdca26"
             ],
             [
              1,
              "#f0f921"
             ]
            ],
            "type": "histogram2dcontour"
           }
          ],
          "mesh3d": [
           {
            "colorbar": {
             "outlinewidth": 0,
             "ticks": ""
            },
            "type": "mesh3d"
           }
          ],
          "parcoords": [
           {
            "line": {
             "colorbar": {
              "outlinewidth": 0,
              "ticks": ""
             }
            },
            "type": "parcoords"
           }
          ],
          "pie": [
           {
            "automargin": true,
            "type": "pie"
           }
          ],
          "scatter": [
           {
            "marker": {
             "colorbar": {
              "outlinewidth": 0,
              "ticks": ""
             }
            },
            "type": "scatter"
           }
          ],
          "scatter3d": [
           {
            "line": {
             "colorbar": {
              "outlinewidth": 0,
              "ticks": ""
             }
            },
            "marker": {
             "colorbar": {
              "outlinewidth": 0,
              "ticks": ""
             }
            },
            "type": "scatter3d"
           }
          ],
          "scattercarpet": [
           {
            "marker": {
             "colorbar": {
              "outlinewidth": 0,
              "ticks": ""
             }
            },
            "type": "scattercarpet"
           }
          ],
          "scattergeo": [
           {
            "marker": {
             "colorbar": {
              "outlinewidth": 0,
              "ticks": ""
             }
            },
            "type": "scattergeo"
           }
          ],
          "scattergl": [
           {
            "marker": {
             "colorbar": {
              "outlinewidth": 0,
              "ticks": ""
             }
            },
            "type": "scattergl"
           }
          ],
          "scattermapbox": [
           {
            "marker": {
             "colorbar": {
              "outlinewidth": 0,
              "ticks": ""
             }
            },
            "type": "scattermapbox"
           }
          ],
          "scatterpolar": [
           {
            "marker": {
             "colorbar": {
              "outlinewidth": 0,
              "ticks": ""
             }
            },
            "type": "scatterpolar"
           }
          ],
          "scatterpolargl": [
           {
            "marker": {
             "colorbar": {
              "outlinewidth": 0,
              "ticks": ""
             }
            },
            "type": "scatterpolargl"
           }
          ],
          "scatterternary": [
           {
            "marker": {
             "colorbar": {
              "outlinewidth": 0,
              "ticks": ""
             }
            },
            "type": "scatterternary"
           }
          ],
          "surface": [
           {
            "colorbar": {
             "outlinewidth": 0,
             "ticks": ""
            },
            "colorscale": [
             [
              0,
              "#0d0887"
             ],
             [
              0.1111111111111111,
              "#46039f"
             ],
             [
              0.2222222222222222,
              "#7201a8"
             ],
             [
              0.3333333333333333,
              "#9c179e"
             ],
             [
              0.4444444444444444,
              "#bd3786"
             ],
             [
              0.5555555555555556,
              "#d8576b"
             ],
             [
              0.6666666666666666,
              "#ed7953"
             ],
             [
              0.7777777777777778,
              "#fb9f3a"
             ],
             [
              0.8888888888888888,
              "#fdca26"
             ],
             [
              1,
              "#f0f921"
             ]
            ],
            "type": "surface"
           }
          ],
          "table": [
           {
            "cells": {
             "fill": {
              "color": "#EBF0F8"
             },
             "line": {
              "color": "white"
             }
            },
            "header": {
             "fill": {
              "color": "#C8D4E3"
             },
             "line": {
              "color": "white"
             }
            },
            "type": "table"
           }
          ]
         },
         "layout": {
          "annotationdefaults": {
           "arrowcolor": "#2a3f5f",
           "arrowhead": 0,
           "arrowwidth": 1
          },
          "autotypenumbers": "strict",
          "coloraxis": {
           "colorbar": {
            "outlinewidth": 0,
            "ticks": ""
           }
          },
          "colorscale": {
           "diverging": [
            [
             0,
             "#8e0152"
            ],
            [
             0.1,
             "#c51b7d"
            ],
            [
             0.2,
             "#de77ae"
            ],
            [
             0.3,
             "#f1b6da"
            ],
            [
             0.4,
             "#fde0ef"
            ],
            [
             0.5,
             "#f7f7f7"
            ],
            [
             0.6,
             "#e6f5d0"
            ],
            [
             0.7,
             "#b8e186"
            ],
            [
             0.8,
             "#7fbc41"
            ],
            [
             0.9,
             "#4d9221"
            ],
            [
             1,
             "#276419"
            ]
           ],
           "sequential": [
            [
             0,
             "#0d0887"
            ],
            [
             0.1111111111111111,
             "#46039f"
            ],
            [
             0.2222222222222222,
             "#7201a8"
            ],
            [
             0.3333333333333333,
             "#9c179e"
            ],
            [
             0.4444444444444444,
             "#bd3786"
            ],
            [
             0.5555555555555556,
             "#d8576b"
            ],
            [
             0.6666666666666666,
             "#ed7953"
            ],
            [
             0.7777777777777778,
             "#fb9f3a"
            ],
            [
             0.8888888888888888,
             "#fdca26"
            ],
            [
             1,
             "#f0f921"
            ]
           ],
           "sequentialminus": [
            [
             0,
             "#0d0887"
            ],
            [
             0.1111111111111111,
             "#46039f"
            ],
            [
             0.2222222222222222,
             "#7201a8"
            ],
            [
             0.3333333333333333,
             "#9c179e"
            ],
            [
             0.4444444444444444,
             "#bd3786"
            ],
            [
             0.5555555555555556,
             "#d8576b"
            ],
            [
             0.6666666666666666,
             "#ed7953"
            ],
            [
             0.7777777777777778,
             "#fb9f3a"
            ],
            [
             0.8888888888888888,
             "#fdca26"
            ],
            [
             1,
             "#f0f921"
            ]
           ]
          },
          "colorway": [
           "#636efa",
           "#EF553B",
           "#00cc96",
           "#ab63fa",
           "#FFA15A",
           "#19d3f3",
           "#FF6692",
           "#B6E880",
           "#FF97FF",
           "#FECB52"
          ],
          "font": {
           "color": "#2a3f5f"
          },
          "geo": {
           "bgcolor": "white",
           "lakecolor": "white",
           "landcolor": "#E5ECF6",
           "showlakes": true,
           "showland": true,
           "subunitcolor": "white"
          },
          "hoverlabel": {
           "align": "left"
          },
          "hovermode": "closest",
          "mapbox": {
           "style": "light"
          },
          "paper_bgcolor": "white",
          "plot_bgcolor": "#E5ECF6",
          "polar": {
           "angularaxis": {
            "gridcolor": "white",
            "linecolor": "white",
            "ticks": ""
           },
           "bgcolor": "#E5ECF6",
           "radialaxis": {
            "gridcolor": "white",
            "linecolor": "white",
            "ticks": ""
           }
          },
          "scene": {
           "xaxis": {
            "backgroundcolor": "#E5ECF6",
            "gridcolor": "white",
            "gridwidth": 2,
            "linecolor": "white",
            "showbackground": true,
            "ticks": "",
            "zerolinecolor": "white"
           },
           "yaxis": {
            "backgroundcolor": "#E5ECF6",
            "gridcolor": "white",
            "gridwidth": 2,
            "linecolor": "white",
            "showbackground": true,
            "ticks": "",
            "zerolinecolor": "white"
           },
           "zaxis": {
            "backgroundcolor": "#E5ECF6",
            "gridcolor": "white",
            "gridwidth": 2,
            "linecolor": "white",
            "showbackground": true,
            "ticks": "",
            "zerolinecolor": "white"
           }
          },
          "shapedefaults": {
           "line": {
            "color": "#2a3f5f"
           }
          },
          "ternary": {
           "aaxis": {
            "gridcolor": "white",
            "linecolor": "white",
            "ticks": ""
           },
           "baxis": {
            "gridcolor": "white",
            "linecolor": "white",
            "ticks": ""
           },
           "bgcolor": "#E5ECF6",
           "caxis": {
            "gridcolor": "white",
            "linecolor": "white",
            "ticks": ""
           }
          },
          "title": {
           "x": 0.05
          },
          "xaxis": {
           "automargin": true,
           "gridcolor": "white",
           "linecolor": "white",
           "ticks": "",
           "title": {
            "standoff": 15
           },
           "zerolinecolor": "white",
           "zerolinewidth": 2
          },
          "yaxis": {
           "automargin": true,
           "gridcolor": "white",
           "linecolor": "white",
           "ticks": "",
           "title": {
            "standoff": 15
           },
           "zerolinecolor": "white",
           "zerolinewidth": 2
          }
         }
        }
       }
      },
      "text/html": [
       "<div>                            <div id=\"ed145cfe-744f-4b85-8309-b29e02879469\" class=\"plotly-graph-div\" style=\"height:525px; width:100%;\"></div>            <script type=\"text/javascript\">                require([\"plotly\"], function(Plotly) {                    window.PLOTLYENV=window.PLOTLYENV || {};                                    if (document.getElementById(\"ed145cfe-744f-4b85-8309-b29e02879469\")) {                    Plotly.newPlot(                        \"ed145cfe-744f-4b85-8309-b29e02879469\",                        [{\"hovertemplate\":\"<b>%{hovertext}</b><br><br>TP=%{x}<br>TN=%{y}<br>FP=%{z}<extra></extra>\",\"hovertext\":[0.0,0.001,0.002,0.003,0.004,0.005,0.006,0.007,0.008,0.009,0.01,0.011,0.012,0.013,0.014,0.015,0.016,0.017,0.018,0.019,0.02,0.021,0.022,0.023,0.024,0.025,0.026,0.027,0.028,0.029,0.03,0.031,0.032,0.033,0.034,0.035,0.036,0.037,0.038,0.039,0.04,0.041,0.042,0.043,0.044,0.045,0.046,0.047,0.048,0.049,0.05,0.051,0.052,0.053,0.054,0.055,0.056,0.057,0.058,0.059,0.06,0.061,0.062,0.063,0.064,0.065,0.066,0.067,0.068,0.069,0.07,0.071,0.072,0.073,0.074,0.075,0.076,0.077,0.078,0.079,0.08,0.081,0.082,0.083,0.084,0.085,0.086,0.087,0.088,0.089,0.09,0.091,0.092,0.093,0.094,0.095,0.096,0.097,0.098,0.099,0.1,0.101,0.102,0.103,0.104,0.105,0.106,0.107,0.108,0.109,0.11,0.111,0.112,0.113,0.114,0.115,0.116,0.117,0.118,0.119,0.12,0.121,0.122,0.123,0.124,0.125,0.126,0.127,0.128,0.129,0.13,0.131,0.132,0.133,0.134,0.135,0.136,0.137,0.138,0.139,0.14,0.141,0.142,0.143,0.144,0.145,0.146,0.147,0.148,0.149,0.15,0.151,0.152,0.153,0.154,0.155,0.156,0.157,0.158,0.159,0.16,0.161,0.162,0.163,0.164,0.165,0.166,0.167,0.168,0.169,0.17,0.171,0.172,0.173,0.174,0.175,0.176,0.177,0.178,0.179,0.18,0.181,0.182,0.183,0.184,0.185,0.186,0.187,0.188,0.189,0.19,0.191,0.192,0.193,0.194,0.195,0.196,0.197,0.198,0.199,0.2,0.201,0.202,0.203,0.204,0.205,0.206,0.207,0.208,0.209,0.21,0.211,0.212,0.213,0.214,0.215,0.216,0.217,0.218,0.219,0.22,0.221,0.222,0.223,0.224,0.225,0.226,0.227,0.228,0.229,0.23,0.231,0.232,0.233,0.234,0.235,0.236,0.237,0.238,0.239,0.24,0.241,0.242,0.243,0.244,0.245,0.246,0.247,0.248,0.249,0.25,0.251,0.252,0.253,0.254,0.255,0.256,0.257,0.258,0.259,0.26,0.261,0.262,0.263,0.264,0.265,0.266,0.267,0.268,0.269,0.27,0.271,0.272,0.273,0.274,0.275,0.276,0.277,0.278,0.279,0.28,0.281,0.282,0.283,0.284,0.285,0.286,0.287,0.288,0.289,0.29,0.291,0.292,0.293,0.294,0.295,0.296,0.297,0.298,0.299,0.3,0.301,0.302,0.303,0.304,0.305,0.306,0.307,0.308,0.309,0.31,0.311,0.312,0.313,0.314,0.315,0.316,0.317,0.318,0.319,0.32,0.321,0.322,0.323,0.324,0.325,0.326,0.327,0.328,0.329,0.33,0.331,0.332,0.333,0.334,0.335,0.336,0.337,0.338,0.339,0.34,0.341,0.342,0.343,0.344,0.345,0.346,0.347,0.348,0.349,0.35,0.351,0.352,0.353,0.354,0.355,0.356,0.357,0.358,0.359,0.36,0.361,0.362,0.363,0.364,0.365,0.366,0.367,0.368,0.369,0.37,0.371,0.372,0.373,0.374,0.375,0.376,0.377,0.378,0.379,0.38,0.381,0.382,0.383,0.384,0.385,0.386,0.387,0.388,0.389,0.39,0.391,0.392,0.393,0.394,0.395,0.396,0.397,0.398,0.399,0.4,0.401,0.402,0.403,0.404,0.405,0.406,0.407,0.408,0.409,0.41,0.411,0.412,0.413,0.414,0.415,0.416,0.417,0.418,0.419,0.42,0.421,0.422,0.423,0.424,0.425,0.426,0.427,0.428,0.429,0.43,0.431,0.432,0.433,0.434,0.435,0.436,0.437,0.438,0.439,0.44,0.441,0.442,0.443,0.444,0.445,0.446,0.447,0.448,0.449,0.45,0.451,0.452,0.453,0.454,0.455,0.456,0.457,0.458,0.459,0.46,0.461,0.462,0.463,0.464,0.465,0.466,0.467,0.468,0.469,0.47,0.471,0.472,0.473,0.474,0.475,0.476,0.477,0.478,0.479,0.48,0.481,0.482,0.483,0.484,0.485,0.486,0.487,0.488,0.489,0.49,0.491,0.492,0.493,0.494,0.495,0.496,0.497,0.498,0.499,0.5,0.501,0.502,0.503,0.504,0.505,0.506,0.507,0.508,0.509,0.51,0.511,0.512,0.513,0.514,0.515,0.516,0.517,0.518,0.519,0.52,0.521,0.522,0.523,0.524,0.525,0.526,0.527,0.528,0.529,0.53,0.531,0.532,0.533,0.534,0.535,0.536,0.537,0.538,0.539,0.54,0.541,0.542,0.543,0.544,0.545,0.546,0.547,0.548,0.549,0.55,0.551,0.552,0.553,0.554,0.555,0.556,0.557,0.558,0.559,0.56,0.561,0.562,0.563,0.564,0.565,0.566,0.567,0.568,0.569,0.57,0.571,0.572,0.573,0.574,0.575,0.576,0.577,0.578,0.579,0.58,0.581,0.582,0.583,0.584,0.585,0.586,0.587,0.588,0.589,0.59,0.591,0.592,0.593,0.594,0.595,0.596,0.597,0.598,0.599,0.6,0.601,0.602,0.603,0.604,0.605,0.606,0.607,0.608,0.609,0.61,0.611,0.612,0.613,0.614,0.615,0.616,0.617,0.618,0.619,0.62,0.621,0.622,0.623,0.624,0.625,0.626,0.627,0.628,0.629,0.63,0.631,0.632,0.633,0.634,0.635,0.636,0.637,0.638,0.639,0.64,0.641,0.642,0.643,0.644,0.645,0.646,0.647,0.648,0.649,0.65,0.651,0.652,0.653,0.654,0.655,0.656,0.657,0.658,0.659,0.66,0.661,0.662,0.663,0.664,0.665,0.666,0.667,0.668,0.669,0.67,0.671,0.672,0.673,0.674,0.675,0.676,0.677,0.678,0.679,0.68,0.681,0.682,0.683,0.684,0.685,0.686,0.687,0.688,0.689,0.69,0.691,0.692,0.693,0.694,0.695,0.696,0.697,0.698,0.699,0.7,0.701,0.702,0.703,0.704,0.705,0.706,0.707,0.708,0.709,0.71,0.711,0.712,0.713,0.714,0.715,0.716,0.717,0.718,0.719,0.72,0.721,0.722,0.723,0.724,0.725,0.726,0.727,0.728,0.729,0.73,0.731,0.732,0.733,0.734,0.735,0.736,0.737,0.738,0.739,0.74,0.741,0.742,0.743,0.744,0.745,0.746,0.747,0.748,0.749,0.75,0.751,0.752,0.753,0.754,0.755,0.756,0.757,0.758,0.759,0.76,0.761,0.762,0.763,0.764,0.765,0.766,0.767,0.768,0.769,0.77,0.771,0.772,0.773,0.774,0.775,0.776,0.777,0.778,0.779,0.78,0.781,0.782,0.783,0.784,0.785,0.786,0.787,0.788,0.789,0.79,0.791,0.792,0.793,0.794,0.795,0.796,0.797,0.798,0.799,0.8,0.801,0.802,0.803,0.804,0.805,0.806,0.807,0.808,0.809,0.81,0.811,0.812,0.813,0.814,0.815,0.816,0.817,0.818,0.819,0.82,0.821,0.822,0.823,0.824,0.825,0.826,0.827,0.828,0.829,0.83,0.831,0.832,0.833,0.834,0.835,0.836,0.837,0.838,0.839,0.84,0.841,0.842,0.843,0.844,0.845,0.846,0.847,0.848,0.849,0.85,0.851,0.852,0.853,0.854,0.855,0.856,0.857,0.858,0.859,0.86,0.861,0.862,0.863,0.864,0.865,0.866,0.867,0.868,0.869,0.87,0.871,0.872,0.873,0.874,0.875,0.876,0.877,0.878,0.879,0.88,0.881,0.882,0.883,0.884,0.885,0.886,0.887,0.888,0.889,0.89,0.891,0.892,0.893,0.894,0.895,0.896,0.897,0.898,0.899,0.9,0.901,0.902,0.903,0.904,0.905,0.906,0.907,0.908,0.909,0.91,0.911,0.912,0.913,0.914,0.915,0.916,0.917,0.918,0.919,0.92,0.921,0.922,0.923,0.924,0.925,0.926,0.927,0.928,0.929,0.93,0.931,0.932,0.933,0.934,0.935,0.936,0.937,0.938,0.939,0.94,0.941,0.942,0.943,0.944,0.945,0.946,0.947,0.948,0.949,0.95,0.951,0.952,0.953,0.954,0.955,0.956,0.957,0.958,0.959,0.96,0.961,0.962,0.963,0.964,0.965,0.966,0.967,0.968,0.969,0.97,0.971,0.972,0.973,0.974,0.975,0.976,0.977,0.978,0.979,0.98,0.981,0.982,0.983,0.984,0.985,0.986,0.987,0.988,0.989,0.99,0.991,0.992,0.993,0.994,0.995,0.996,0.997,0.998,0.999],\"legendgroup\":\"\",\"marker\":{\"color\":\"#636efa\",\"symbol\":\"circle\"},\"mode\":\"markers\",\"name\":\"\",\"scene\":\"scene\",\"showlegend\":false,\"x\":[0.6171875,0.0,0.0,0.0,0.0,0.0,0.0,0.0,0.0,0.0,0.0,0.0,0.0,0.0,0.0,0.0,0.0,0.0,0.0,0.0,0.0,0.0,0.0,0.0,0.0,0.0,0.0,0.0,0.0,0.0,0.0,0.0,0.0,0.0,0.0,0.0,0.0,0.0,0.0,0.0,0.0,0.0,0.0,0.0,0.0,0.0,0.0,0.0,0.0,0.0,0.0,0.0,0.0,0.0,0.0,0.0,0.0,0.0,0.0,0.0,0.0,0.0,0.0,0.0,0.0,0.0,0.0,0.0,0.0,0.0,0.0,0.0,0.0,0.0,0.0,0.0,0.0,0.0,0.0,0.0,0.0,0.0,0.0,0.0,0.0,0.0,0.0,0.0,0.0,0.0,0.0,0.0,0.0,0.0,0.0,0.0,0.0,0.0,0.0,0.0,0.0,0.0,0.0,0.0,0.0,0.0,0.0,0.0,0.0,0.0,0.0,0.0,0.0,0.0,0.0,0.0,0.0,0.0,0.0,0.0,0.0,0.0,0.0,0.0,0.0,0.0,0.0,0.0,0.0,0.0,0.0,0.0,0.0,0.0,0.0,0.0,0.0,0.0,0.0,0.0,0.0,0.0,0.0,0.0,0.0,0.0,0.0,0.0,0.0,0.0,0.0,0.0,0.0,0.0,0.0,0.0,0.0,0.0,0.0,0.0,0.0,0.0,0.0,0.0,0.0,0.0,0.0,0.0,0.0,0.0,0.0,0.0,0.0,0.0,0.0,0.0,0.0,0.0,0.0,0.0,0.0,0.0,0.0,0.0,0.0,0.0,0.0,0.0,0.0,0.0,0.0,0.0,0.0,0.0,0.0,0.0,0.0,0.0,0.0,0.0,0.0,0.0,0.0,0.0,0.0,0.0,0.0,0.0,0.0,0.0,0.0,0.0,0.0,0.0,0.0,0.0,0.0,0.0,0.0,0.0,0.0,0.0,0.0,0.0,0.0,0.0,0.0,0.0,0.0,0.0,0.0,0.0,0.0,0.0,0.0,0.0,0.0,0.0,0.0,0.0,0.0,0.0,0.0,0.0,0.0,0.0,0.0,0.0,0.0,0.0,0.0,0.0,0.0,0.0,0.0,0.0,0.0,0.0,0.0,0.0,0.0,0.0,0.0,0.0,0.0,0.0,0.0,0.0,0.0,0.0,0.0,0.0,0.0,0.0,0.0,0.0,0.0,0.0,0.0,0.0,0.0,0.0,0.0,0.0,0.0,0.0,0.0,0.0,0.0,0.0,0.0,0.0,0.0,0.0,0.0,0.0,0.0,0.0,0.0,0.0,0.0,0.0,0.0,0.0,0.0,0.0,0.0,0.0,0.0,0.0,0.0,0.0,0.0,0.0,0.0,0.0,0.0,0.0,0.0,0.0,0.0,0.0,0.0,0.0,0.0,0.0,0.0,0.0,0.0,0.0,0.0,0.0,0.0,0.0,0.0,0.0,0.0,0.0,0.0,0.0,0.0,0.0,0.0,0.0,0.0,0.0,0.0,0.0,0.0,0.0,0.0,0.0,0.0,0.0,0.0,0.0,0.0,0.0,0.0,0.0,0.0,0.0,0.0,0.0,0.0,0.0,0.0,0.0,0.0,0.0,0.0,0.0,0.0,0.0,0.0,0.0,0.0,0.0,0.0,0.0,0.0,0.0,0.0,0.0,0.0,0.0,0.0,0.0,0.0,0.0,0.0,0.0,0.0,0.0,0.0,0.0,0.0,0.0,0.0,0.0,0.0,0.0,0.0,0.0,0.0,0.0,0.0,0.0,0.0,0.0,0.0,0.0,0.0,0.0,0.0,0.0,0.0,0.0,0.0,0.0,0.0,0.0,0.0,0.0,0.0,0.0,0.0,0.0,0.0,0.0,0.0,0.0,0.0,0.0,0.0,0.0,0.0,0.0,0.0,0.0,0.0,0.0,0.0,0.0,0.0,0.0,0.0,0.0,0.0,0.0,0.0,0.0,0.0,0.0,0.0,0.0,0.0,0.0,0.0,0.0,0.0,0.0,0.0,0.0,0.0,0.0,0.0,0.0,0.0,0.0,0.0,0.0,0.0,0.0,0.0,0.0,0.0,0.0,0.0,0.0,0.0,0.0,0.0,0.0,0.0,0.0,0.0,0.0,0.0,0.0,0.0,0.0,0.0,0.0,0.0,0.0,0.0,0.0,0.0,0.0,0.0,0.0,0.0,0.0,0.0,0.0,0.0,0.0,0.0,0.0,0.0,0.0,0.0,0.0,0.0,0.0,0.0,0.0,0.0,0.0,0.0,0.0,0.0,0.0,0.0,0.0,0.0,0.0,0.0,0.0,0.0,0.0,0.0,0.0,0.0,0.0,0.0,0.0,0.0,0.0,0.0,0.0,0.0,0.0,0.0,0.0,0.0,0.0,0.0,0.0,0.0,0.0,0.0,0.0,0.0,0.0,0.0,0.0,0.0,0.0,0.0,0.0,0.0,0.0,0.0,0.0,0.0,0.0,0.0,0.0,0.0,0.0,0.0,0.0,0.0,0.0,0.0,0.0,0.0,0.0,0.0,0.0,0.0,0.0,0.0,0.0,0.0,0.0,0.0,0.0,0.0,0.0,0.0,0.0,0.0,0.0,0.0,0.0,0.0,0.0,0.0,0.0,0.0,0.0,0.0,0.0,0.0,0.0,0.0,0.0,0.0,0.0,0.0,0.0,0.0,0.0,0.0,0.0,0.0,0.0,0.0,0.0,0.0,0.0,0.0,0.0,0.0,0.0,0.0,0.0,0.0,0.0,0.0,0.0,0.0,0.0,0.0,0.0,0.0,0.0,0.0,0.0,0.0,0.0,0.0,0.0,0.0,0.0,0.0,0.0,0.0,0.0,0.0,0.0,0.0,0.0,0.0,0.0,0.0,0.0,0.0,0.0,0.0,0.0,0.0,0.0,0.0,0.0,0.0,0.0,0.0,0.0,0.0,0.0,0.0,0.0,0.0,0.0,0.0,0.0,0.0,0.0,0.0,0.0,0.0,0.0,0.0,0.0,0.0,0.0,0.0,0.0,0.0,0.0,0.0,0.0,0.0,0.0,0.0,0.0,0.0,0.0,0.0,0.0,0.0,0.0,0.0,0.0,0.0,0.0,0.0,0.0,0.0,0.0,0.0,0.0,0.0,0.0,0.0,0.0,0.0,0.0,0.0,0.0,0.0,0.0,0.0,0.0,0.0,0.0,0.0,0.0,0.0,0.0,0.0,0.0,0.0,0.0,0.0,0.0,0.0,0.0,0.0,0.0,0.0,0.0,0.0,0.0,0.0,0.0,0.0,0.0,0.0,0.0,0.0,0.0,0.0,0.0,0.0,0.0,0.0,0.0,0.0,0.0,0.0,0.0,0.0,0.0,0.0,0.0,0.0,0.0,0.0,0.0,0.0,0.0,0.0,0.0,0.0,0.0,0.0,0.0,0.0,0.0,0.0,0.0,0.0,0.0,0.0,0.0,0.0,0.0,0.0,0.0,0.0,0.0,0.0,0.0,0.0,0.0,0.0,0.0,0.0,0.0,0.0,0.0,0.0,0.0,0.0,0.0,0.0,0.0,0.0,0.0,0.0,0.0,0.0,0.0,0.0,0.0,0.0,0.0,0.0,0.0,0.0,0.0,0.0,0.0,0.0,0.0,0.0,0.0,0.0,0.0,0.0,0.0,0.0,0.0,0.0,0.0,0.0,0.0,0.0,0.0,0.0,0.0,0.0,0.0,0.0,0.0,0.0,0.0,0.0,0.0,0.0,0.0,0.0,0.0,0.0,0.0,0.0,0.0,0.0,0.0,0.0,0.0,0.0,0.0,0.0,0.0,0.0,0.0,0.0,0.0,0.0,0.0,0.0,0.0,0.0,0.0,0.0,0.0,0.0,0.0,0.0,0.0,0.0,0.0,0.0,0.0,0.0,0.0,0.0,0.0,0.0,0.0,0.0,0.0,0.0,0.0,0.0,0.0,0.0,0.0,0.0,0.0,0.0,0.0,0.0,0.0,0.0,0.0,0.0,0.0,0.0,0.0,0.0,0.0,0.0,0.0,0.0,0.0,0.0,0.0,0.0,0.0,0.0,0.0,0.0,0.0,0.0,0.0,0.0,0.0,0.0,0.0,0.0,0.0,0.0,0.0,0.0,0.0,0.0,0.0,0.0,0.0,0.0,0.0,0.0,0.0,0.0,0.0,0.0,0.0,0.0,0.0,0.0,0.0,0.0,0.0,0.0,0.0,0.0,0.0,0.0,0.0,0.0,0.0,0.0,0.0,0.0,0.0,0.0,0.0,0.0,0.0,0.0,0.0,0.0,0.0,0.0,0.0,0.0,0.0,0.0,0.0,0.0,0.0,0.0,0.0,0.0,0.0,0.0,0.0,0.0,0.0,0.0,0.0,0.0,0.0],\"y\":[0.0,0.3828125,0.3828125,0.3828125,0.3828125,0.3828125,0.3828125,0.3828125,0.3828125,0.3828125,0.3828125,0.3828125,0.3828125,0.3828125,0.3828125,0.3828125,0.3828125,0.3828125,0.3828125,0.3828125,0.3828125,0.3828125,0.3828125,0.3828125,0.3828125,0.3828125,0.3828125,0.3828125,0.3828125,0.3828125,0.3828125,0.3828125,0.3828125,0.3828125,0.3828125,0.3828125,0.3828125,0.3828125,0.3828125,0.3828125,0.3828125,0.3828125,0.3828125,0.3828125,0.3828125,0.3828125,0.3828125,0.3828125,0.3828125,0.3828125,0.3828125,0.3828125,0.3828125,0.3828125,0.3828125,0.3828125,0.3828125,0.3828125,0.3828125,0.3828125,0.3828125,0.3828125,0.3828125,0.3828125,0.3828125,0.3828125,0.3828125,0.3828125,0.3828125,0.3828125,0.3828125,0.3828125,0.3828125,0.3828125,0.3828125,0.3828125,0.3828125,0.3828125,0.3828125,0.3828125,0.3828125,0.3828125,0.3828125,0.3828125,0.3828125,0.3828125,0.3828125,0.3828125,0.3828125,0.3828125,0.3828125,0.3828125,0.3828125,0.3828125,0.3828125,0.3828125,0.3828125,0.3828125,0.3828125,0.3828125,0.3828125,0.3828125,0.3828125,0.3828125,0.3828125,0.3828125,0.3828125,0.3828125,0.3828125,0.3828125,0.3828125,0.3828125,0.3828125,0.3828125,0.3828125,0.3828125,0.3828125,0.3828125,0.3828125,0.3828125,0.3828125,0.3828125,0.3828125,0.3828125,0.3828125,0.3828125,0.3828125,0.3828125,0.3828125,0.3828125,0.3828125,0.3828125,0.3828125,0.3828125,0.3828125,0.3828125,0.3828125,0.3828125,0.3828125,0.3828125,0.3828125,0.3828125,0.3828125,0.3828125,0.3828125,0.3828125,0.3828125,0.3828125,0.3828125,0.3828125,0.3828125,0.3828125,0.3828125,0.3828125,0.3828125,0.3828125,0.3828125,0.3828125,0.3828125,0.3828125,0.3828125,0.3828125,0.3828125,0.3828125,0.3828125,0.3828125,0.3828125,0.3828125,0.3828125,0.3828125,0.3828125,0.3828125,0.3828125,0.3828125,0.3828125,0.3828125,0.3828125,0.3828125,0.3828125,0.3828125,0.3828125,0.3828125,0.3828125,0.3828125,0.3828125,0.3828125,0.3828125,0.3828125,0.3828125,0.3828125,0.3828125,0.3828125,0.3828125,0.3828125,0.3828125,0.3828125,0.3828125,0.3828125,0.3828125,0.3828125,0.3828125,0.3828125,0.3828125,0.3828125,0.3828125,0.3828125,0.3828125,0.3828125,0.3828125,0.3828125,0.3828125,0.3828125,0.3828125,0.3828125,0.3828125,0.3828125,0.3828125,0.3828125,0.3828125,0.3828125,0.3828125,0.3828125,0.3828125,0.3828125,0.3828125,0.3828125,0.3828125,0.3828125,0.3828125,0.3828125,0.3828125,0.3828125,0.3828125,0.3828125,0.3828125,0.3828125,0.3828125,0.3828125,0.3828125,0.3828125,0.3828125,0.3828125,0.3828125,0.3828125,0.3828125,0.3828125,0.3828125,0.3828125,0.3828125,0.3828125,0.3828125,0.3828125,0.3828125,0.3828125,0.3828125,0.3828125,0.3828125,0.3828125,0.3828125,0.3828125,0.3828125,0.3828125,0.3828125,0.3828125,0.3828125,0.3828125,0.3828125,0.3828125,0.3828125,0.3828125,0.3828125,0.3828125,0.3828125,0.3828125,0.3828125,0.3828125,0.3828125,0.3828125,0.3828125,0.3828125,0.3828125,0.3828125,0.3828125,0.3828125,0.3828125,0.3828125,0.3828125,0.3828125,0.3828125,0.3828125,0.3828125,0.3828125,0.3828125,0.3828125,0.3828125,0.3828125,0.3828125,0.3828125,0.3828125,0.3828125,0.3828125,0.3828125,0.3828125,0.3828125,0.3828125,0.3828125,0.3828125,0.3828125,0.3828125,0.3828125,0.3828125,0.3828125,0.3828125,0.3828125,0.3828125,0.3828125,0.3828125,0.3828125,0.3828125,0.3828125,0.3828125,0.3828125,0.3828125,0.3828125,0.3828125,0.3828125,0.3828125,0.3828125,0.3828125,0.3828125,0.3828125,0.3828125,0.3828125,0.3828125,0.3828125,0.3828125,0.3828125,0.3828125,0.3828125,0.3828125,0.3828125,0.3828125,0.3828125,0.3828125,0.3828125,0.3828125,0.3828125,0.3828125,0.3828125,0.3828125,0.3828125,0.3828125,0.3828125,0.3828125,0.3828125,0.3828125,0.3828125,0.3828125,0.3828125,0.3828125,0.3828125,0.3828125,0.3828125,0.3828125,0.3828125,0.3828125,0.3828125,0.3828125,0.3828125,0.3828125,0.3828125,0.3828125,0.3828125,0.3828125,0.3828125,0.3828125,0.3828125,0.3828125,0.3828125,0.3828125,0.3828125,0.3828125,0.3828125,0.3828125,0.3828125,0.3828125,0.3828125,0.3828125,0.3828125,0.3828125,0.3828125,0.3828125,0.3828125,0.3828125,0.3828125,0.3828125,0.3828125,0.3828125,0.3828125,0.3828125,0.3828125,0.3828125,0.3828125,0.3828125,0.3828125,0.3828125,0.3828125,0.3828125,0.3828125,0.3828125,0.3828125,0.3828125,0.3828125,0.3828125,0.3828125,0.3828125,0.3828125,0.3828125,0.3828125,0.3828125,0.3828125,0.3828125,0.3828125,0.3828125,0.3828125,0.3828125,0.3828125,0.3828125,0.3828125,0.3828125,0.3828125,0.3828125,0.3828125,0.3828125,0.3828125,0.3828125,0.3828125,0.3828125,0.3828125,0.3828125,0.3828125,0.3828125,0.3828125,0.3828125,0.3828125,0.3828125,0.3828125,0.3828125,0.3828125,0.3828125,0.3828125,0.3828125,0.3828125,0.3828125,0.3828125,0.3828125,0.3828125,0.3828125,0.3828125,0.3828125,0.3828125,0.3828125,0.3828125,0.3828125,0.3828125,0.3828125,0.3828125,0.3828125,0.3828125,0.3828125,0.3828125,0.3828125,0.3828125,0.3828125,0.3828125,0.3828125,0.3828125,0.3828125,0.3828125,0.3828125,0.3828125,0.3828125,0.3828125,0.3828125,0.3828125,0.3828125,0.3828125,0.3828125,0.3828125,0.3828125,0.3828125,0.3828125,0.3828125,0.3828125,0.3828125,0.3828125,0.3828125,0.3828125,0.3828125,0.3828125,0.3828125,0.3828125,0.3828125,0.3828125,0.3828125,0.3828125,0.3828125,0.3828125,0.3828125,0.3828125,0.3828125,0.3828125,0.3828125,0.3828125,0.3828125,0.3828125,0.3828125,0.3828125,0.3828125,0.3828125,0.3828125,0.3828125,0.3828125,0.3828125,0.3828125,0.3828125,0.3828125,0.3828125,0.3828125,0.3828125,0.3828125,0.3828125,0.3828125,0.3828125,0.3828125,0.3828125,0.3828125,0.3828125,0.3828125,0.3828125,0.3828125,0.3828125,0.3828125,0.3828125,0.3828125,0.3828125,0.3828125,0.3828125,0.3828125,0.3828125,0.3828125,0.3828125,0.3828125,0.3828125,0.3828125,0.3828125,0.3828125,0.3828125,0.3828125,0.3828125,0.3828125,0.3828125,0.3828125,0.3828125,0.3828125,0.3828125,0.3828125,0.3828125,0.3828125,0.3828125,0.3828125,0.3828125,0.3828125,0.3828125,0.3828125,0.3828125,0.3828125,0.3828125,0.3828125,0.3828125,0.3828125,0.3828125,0.3828125,0.3828125,0.3828125,0.3828125,0.3828125,0.3828125,0.3828125,0.3828125,0.3828125,0.3828125,0.3828125,0.3828125,0.3828125,0.3828125,0.3828125,0.3828125,0.3828125,0.3828125,0.3828125,0.3828125,0.3828125,0.3828125,0.3828125,0.3828125,0.3828125,0.3828125,0.3828125,0.3828125,0.3828125,0.3828125,0.3828125,0.3828125,0.3828125,0.3828125,0.3828125,0.3828125,0.3828125,0.3828125,0.3828125,0.3828125,0.3828125,0.3828125,0.3828125,0.3828125,0.3828125,0.3828125,0.3828125,0.3828125,0.3828125,0.3828125,0.3828125,0.3828125,0.3828125,0.3828125,0.3828125,0.3828125,0.3828125,0.3828125,0.3828125,0.3828125,0.3828125,0.3828125,0.3828125,0.3828125,0.3828125,0.3828125,0.3828125,0.3828125,0.3828125,0.3828125,0.3828125,0.3828125,0.3828125,0.3828125,0.3828125,0.3828125,0.3828125,0.3828125,0.3828125,0.3828125,0.3828125,0.3828125,0.3828125,0.3828125,0.3828125,0.3828125,0.3828125,0.3828125,0.3828125,0.3828125,0.3828125,0.3828125,0.3828125,0.3828125,0.3828125,0.3828125,0.3828125,0.3828125,0.3828125,0.3828125,0.3828125,0.3828125,0.3828125,0.3828125,0.3828125,0.3828125,0.3828125,0.3828125,0.3828125,0.3828125,0.3828125,0.3828125,0.3828125,0.3828125,0.3828125,0.3828125,0.3828125,0.3828125,0.3828125,0.3828125,0.3828125,0.3828125,0.3828125,0.3828125,0.3828125,0.3828125,0.3828125,0.3828125,0.3828125,0.3828125,0.3828125,0.3828125,0.3828125,0.3828125,0.3828125,0.3828125,0.3828125,0.3828125,0.3828125,0.3828125,0.3828125,0.3828125,0.3828125,0.3828125,0.3828125,0.3828125,0.3828125,0.3828125,0.3828125,0.3828125,0.3828125,0.3828125,0.3828125,0.3828125,0.3828125,0.3828125,0.3828125,0.3828125,0.3828125,0.3828125,0.3828125,0.3828125,0.3828125,0.3828125,0.3828125,0.3828125,0.3828125,0.3828125,0.3828125,0.3828125,0.3828125,0.3828125,0.3828125,0.3828125,0.3828125,0.3828125,0.3828125,0.3828125,0.3828125,0.3828125,0.3828125,0.3828125,0.3828125,0.3828125,0.3828125,0.3828125,0.3828125,0.3828125,0.3828125,0.3828125,0.3828125,0.3828125,0.3828125,0.3828125,0.3828125,0.3828125,0.3828125,0.3828125,0.3828125,0.3828125,0.3828125,0.3828125,0.3828125,0.3828125,0.3828125,0.3828125,0.3828125,0.3828125,0.3828125,0.3828125,0.3828125,0.3828125,0.3828125,0.3828125,0.3828125,0.3828125,0.3828125,0.3828125,0.3828125,0.3828125,0.3828125,0.3828125,0.3828125,0.3828125,0.3828125,0.3828125,0.3828125,0.3828125,0.3828125,0.3828125,0.3828125,0.3828125,0.3828125,0.3828125,0.3828125,0.3828125,0.3828125,0.3828125,0.3828125,0.3828125,0.3828125,0.3828125,0.3828125,0.3828125,0.3828125,0.3828125,0.3828125,0.3828125,0.3828125,0.3828125,0.3828125,0.3828125,0.3828125,0.3828125,0.3828125,0.3828125,0.3828125,0.3828125,0.3828125,0.3828125,0.3828125,0.3828125,0.3828125,0.3828125,0.3828125,0.3828125,0.3828125,0.3828125,0.3828125,0.3828125,0.3828125,0.3828125,0.3828125,0.3828125,0.3828125,0.3828125,0.3828125,0.3828125,0.3828125,0.3828125,0.3828125,0.3828125,0.3828125,0.3828125,0.3828125,0.3828125,0.3828125,0.3828125,0.3828125,0.3828125,0.3828125,0.3828125,0.3828125,0.3828125,0.3828125,0.3828125,0.3828125,0.3828125,0.3828125,0.3828125,0.3828125,0.3828125,0.3828125,0.3828125,0.3828125,0.3828125,0.3828125,0.3828125,0.3828125,0.3828125,0.3828125,0.3828125,0.3828125,0.3828125,0.3828125,0.3828125,0.3828125,0.3828125,0.3828125,0.3828125,0.3828125,0.3828125,0.3828125,0.3828125,0.3828125,0.3828125,0.3828125,0.3828125,0.3828125,0.3828125,0.3828125,0.3828125,0.3828125,0.3828125,0.3828125,0.3828125,0.3828125,0.3828125,0.3828125,0.3828125,0.3828125,0.3828125,0.3828125,0.3828125,0.3828125,0.3828125,0.3828125,0.3828125,0.3828125,0.3828125,0.3828125,0.3828125,0.3828125,0.3828125,0.3828125,0.3828125,0.3828125,0.3828125,0.3828125,0.3828125,0.3828125,0.3828125,0.3828125,0.3828125,0.3828125,0.3828125,0.3828125,0.3828125,0.3828125,0.3828125,0.3828125,0.3828125,0.3828125,0.3828125,0.3828125,0.3828125,0.3828125,0.3828125,0.3828125,0.3828125,0.3828125,0.3828125,0.3828125,0.3828125,0.3828125,0.3828125,0.3828125,0.3828125,0.3828125,0.3828125,0.3828125,0.3828125,0.3828125,0.3828125,0.3828125,0.3828125,0.3828125,0.3828125,0.3828125,0.3828125,0.3828125,0.3828125,0.3828125,0.3828125,0.3828125,0.3828125,0.3828125,0.3828125,0.3828125,0.3828125,0.3828125,0.3828125,0.3828125,0.3828125,0.3828125,0.3828125,0.3828125,0.3828125],\"z\":[0.3828125,0.0,0.0,0.0,0.0,0.0,0.0,0.0,0.0,0.0,0.0,0.0,0.0,0.0,0.0,0.0,0.0,0.0,0.0,0.0,0.0,0.0,0.0,0.0,0.0,0.0,0.0,0.0,0.0,0.0,0.0,0.0,0.0,0.0,0.0,0.0,0.0,0.0,0.0,0.0,0.0,0.0,0.0,0.0,0.0,0.0,0.0,0.0,0.0,0.0,0.0,0.0,0.0,0.0,0.0,0.0,0.0,0.0,0.0,0.0,0.0,0.0,0.0,0.0,0.0,0.0,0.0,0.0,0.0,0.0,0.0,0.0,0.0,0.0,0.0,0.0,0.0,0.0,0.0,0.0,0.0,0.0,0.0,0.0,0.0,0.0,0.0,0.0,0.0,0.0,0.0,0.0,0.0,0.0,0.0,0.0,0.0,0.0,0.0,0.0,0.0,0.0,0.0,0.0,0.0,0.0,0.0,0.0,0.0,0.0,0.0,0.0,0.0,0.0,0.0,0.0,0.0,0.0,0.0,0.0,0.0,0.0,0.0,0.0,0.0,0.0,0.0,0.0,0.0,0.0,0.0,0.0,0.0,0.0,0.0,0.0,0.0,0.0,0.0,0.0,0.0,0.0,0.0,0.0,0.0,0.0,0.0,0.0,0.0,0.0,0.0,0.0,0.0,0.0,0.0,0.0,0.0,0.0,0.0,0.0,0.0,0.0,0.0,0.0,0.0,0.0,0.0,0.0,0.0,0.0,0.0,0.0,0.0,0.0,0.0,0.0,0.0,0.0,0.0,0.0,0.0,0.0,0.0,0.0,0.0,0.0,0.0,0.0,0.0,0.0,0.0,0.0,0.0,0.0,0.0,0.0,0.0,0.0,0.0,0.0,0.0,0.0,0.0,0.0,0.0,0.0,0.0,0.0,0.0,0.0,0.0,0.0,0.0,0.0,0.0,0.0,0.0,0.0,0.0,0.0,0.0,0.0,0.0,0.0,0.0,0.0,0.0,0.0,0.0,0.0,0.0,0.0,0.0,0.0,0.0,0.0,0.0,0.0,0.0,0.0,0.0,0.0,0.0,0.0,0.0,0.0,0.0,0.0,0.0,0.0,0.0,0.0,0.0,0.0,0.0,0.0,0.0,0.0,0.0,0.0,0.0,0.0,0.0,0.0,0.0,0.0,0.0,0.0,0.0,0.0,0.0,0.0,0.0,0.0,0.0,0.0,0.0,0.0,0.0,0.0,0.0,0.0,0.0,0.0,0.0,0.0,0.0,0.0,0.0,0.0,0.0,0.0,0.0,0.0,0.0,0.0,0.0,0.0,0.0,0.0,0.0,0.0,0.0,0.0,0.0,0.0,0.0,0.0,0.0,0.0,0.0,0.0,0.0,0.0,0.0,0.0,0.0,0.0,0.0,0.0,0.0,0.0,0.0,0.0,0.0,0.0,0.0,0.0,0.0,0.0,0.0,0.0,0.0,0.0,0.0,0.0,0.0,0.0,0.0,0.0,0.0,0.0,0.0,0.0,0.0,0.0,0.0,0.0,0.0,0.0,0.0,0.0,0.0,0.0,0.0,0.0,0.0,0.0,0.0,0.0,0.0,0.0,0.0,0.0,0.0,0.0,0.0,0.0,0.0,0.0,0.0,0.0,0.0,0.0,0.0,0.0,0.0,0.0,0.0,0.0,0.0,0.0,0.0,0.0,0.0,0.0,0.0,0.0,0.0,0.0,0.0,0.0,0.0,0.0,0.0,0.0,0.0,0.0,0.0,0.0,0.0,0.0,0.0,0.0,0.0,0.0,0.0,0.0,0.0,0.0,0.0,0.0,0.0,0.0,0.0,0.0,0.0,0.0,0.0,0.0,0.0,0.0,0.0,0.0,0.0,0.0,0.0,0.0,0.0,0.0,0.0,0.0,0.0,0.0,0.0,0.0,0.0,0.0,0.0,0.0,0.0,0.0,0.0,0.0,0.0,0.0,0.0,0.0,0.0,0.0,0.0,0.0,0.0,0.0,0.0,0.0,0.0,0.0,0.0,0.0,0.0,0.0,0.0,0.0,0.0,0.0,0.0,0.0,0.0,0.0,0.0,0.0,0.0,0.0,0.0,0.0,0.0,0.0,0.0,0.0,0.0,0.0,0.0,0.0,0.0,0.0,0.0,0.0,0.0,0.0,0.0,0.0,0.0,0.0,0.0,0.0,0.0,0.0,0.0,0.0,0.0,0.0,0.0,0.0,0.0,0.0,0.0,0.0,0.0,0.0,0.0,0.0,0.0,0.0,0.0,0.0,0.0,0.0,0.0,0.0,0.0,0.0,0.0,0.0,0.0,0.0,0.0,0.0,0.0,0.0,0.0,0.0,0.0,0.0,0.0,0.0,0.0,0.0,0.0,0.0,0.0,0.0,0.0,0.0,0.0,0.0,0.0,0.0,0.0,0.0,0.0,0.0,0.0,0.0,0.0,0.0,0.0,0.0,0.0,0.0,0.0,0.0,0.0,0.0,0.0,0.0,0.0,0.0,0.0,0.0,0.0,0.0,0.0,0.0,0.0,0.0,0.0,0.0,0.0,0.0,0.0,0.0,0.0,0.0,0.0,0.0,0.0,0.0,0.0,0.0,0.0,0.0,0.0,0.0,0.0,0.0,0.0,0.0,0.0,0.0,0.0,0.0,0.0,0.0,0.0,0.0,0.0,0.0,0.0,0.0,0.0,0.0,0.0,0.0,0.0,0.0,0.0,0.0,0.0,0.0,0.0,0.0,0.0,0.0,0.0,0.0,0.0,0.0,0.0,0.0,0.0,0.0,0.0,0.0,0.0,0.0,0.0,0.0,0.0,0.0,0.0,0.0,0.0,0.0,0.0,0.0,0.0,0.0,0.0,0.0,0.0,0.0,0.0,0.0,0.0,0.0,0.0,0.0,0.0,0.0,0.0,0.0,0.0,0.0,0.0,0.0,0.0,0.0,0.0,0.0,0.0,0.0,0.0,0.0,0.0,0.0,0.0,0.0,0.0,0.0,0.0,0.0,0.0,0.0,0.0,0.0,0.0,0.0,0.0,0.0,0.0,0.0,0.0,0.0,0.0,0.0,0.0,0.0,0.0,0.0,0.0,0.0,0.0,0.0,0.0,0.0,0.0,0.0,0.0,0.0,0.0,0.0,0.0,0.0,0.0,0.0,0.0,0.0,0.0,0.0,0.0,0.0,0.0,0.0,0.0,0.0,0.0,0.0,0.0,0.0,0.0,0.0,0.0,0.0,0.0,0.0,0.0,0.0,0.0,0.0,0.0,0.0,0.0,0.0,0.0,0.0,0.0,0.0,0.0,0.0,0.0,0.0,0.0,0.0,0.0,0.0,0.0,0.0,0.0,0.0,0.0,0.0,0.0,0.0,0.0,0.0,0.0,0.0,0.0,0.0,0.0,0.0,0.0,0.0,0.0,0.0,0.0,0.0,0.0,0.0,0.0,0.0,0.0,0.0,0.0,0.0,0.0,0.0,0.0,0.0,0.0,0.0,0.0,0.0,0.0,0.0,0.0,0.0,0.0,0.0,0.0,0.0,0.0,0.0,0.0,0.0,0.0,0.0,0.0,0.0,0.0,0.0,0.0,0.0,0.0,0.0,0.0,0.0,0.0,0.0,0.0,0.0,0.0,0.0,0.0,0.0,0.0,0.0,0.0,0.0,0.0,0.0,0.0,0.0,0.0,0.0,0.0,0.0,0.0,0.0,0.0,0.0,0.0,0.0,0.0,0.0,0.0,0.0,0.0,0.0,0.0,0.0,0.0,0.0,0.0,0.0,0.0,0.0,0.0,0.0,0.0,0.0,0.0,0.0,0.0,0.0,0.0,0.0,0.0,0.0,0.0,0.0,0.0,0.0,0.0,0.0,0.0,0.0,0.0,0.0,0.0,0.0,0.0,0.0,0.0,0.0,0.0,0.0,0.0,0.0,0.0,0.0,0.0,0.0,0.0,0.0,0.0,0.0,0.0,0.0,0.0,0.0,0.0,0.0,0.0,0.0,0.0,0.0,0.0,0.0,0.0,0.0,0.0,0.0,0.0,0.0,0.0,0.0,0.0,0.0,0.0,0.0,0.0,0.0,0.0,0.0,0.0,0.0,0.0,0.0,0.0,0.0,0.0,0.0,0.0,0.0,0.0,0.0,0.0,0.0,0.0,0.0,0.0,0.0,0.0,0.0,0.0,0.0,0.0,0.0,0.0,0.0,0.0,0.0,0.0,0.0,0.0,0.0,0.0,0.0,0.0,0.0,0.0,0.0,0.0,0.0,0.0,0.0,0.0,0.0,0.0,0.0,0.0,0.0,0.0,0.0,0.0,0.0,0.0,0.0,0.0,0.0,0.0,0.0,0.0,0.0,0.0,0.0,0.0,0.0,0.0,0.0,0.0,0.0,0.0,0.0,0.0,0.0,0.0,0.0],\"type\":\"scatter3d\"},{\"color\":\"lightgrey\",\"i\":[0,0,0,1],\"j\":[1,2,3,2],\"k\":[2,3,1,3],\"name\":\"y\",\"opacity\":0.2,\"showscale\":true,\"x\":[0,0,0,1],\"y\":[0,0,1,0],\"z\":[0,1,0,0],\"type\":\"mesh3d\"}],                        {\"template\":{\"data\":{\"bar\":[{\"error_x\":{\"color\":\"#2a3f5f\"},\"error_y\":{\"color\":\"#2a3f5f\"},\"marker\":{\"line\":{\"color\":\"#E5ECF6\",\"width\":0.5},\"pattern\":{\"fillmode\":\"overlay\",\"size\":10,\"solidity\":0.2}},\"type\":\"bar\"}],\"barpolar\":[{\"marker\":{\"line\":{\"color\":\"#E5ECF6\",\"width\":0.5},\"pattern\":{\"fillmode\":\"overlay\",\"size\":10,\"solidity\":0.2}},\"type\":\"barpolar\"}],\"carpet\":[{\"aaxis\":{\"endlinecolor\":\"#2a3f5f\",\"gridcolor\":\"white\",\"linecolor\":\"white\",\"minorgridcolor\":\"white\",\"startlinecolor\":\"#2a3f5f\"},\"baxis\":{\"endlinecolor\":\"#2a3f5f\",\"gridcolor\":\"white\",\"linecolor\":\"white\",\"minorgridcolor\":\"white\",\"startlinecolor\":\"#2a3f5f\"},\"type\":\"carpet\"}],\"choropleth\":[{\"colorbar\":{\"outlinewidth\":0,\"ticks\":\"\"},\"type\":\"choropleth\"}],\"contour\":[{\"colorbar\":{\"outlinewidth\":0,\"ticks\":\"\"},\"colorscale\":[[0.0,\"#0d0887\"],[0.1111111111111111,\"#46039f\"],[0.2222222222222222,\"#7201a8\"],[0.3333333333333333,\"#9c179e\"],[0.4444444444444444,\"#bd3786\"],[0.5555555555555556,\"#d8576b\"],[0.6666666666666666,\"#ed7953\"],[0.7777777777777778,\"#fb9f3a\"],[0.8888888888888888,\"#fdca26\"],[1.0,\"#f0f921\"]],\"type\":\"contour\"}],\"contourcarpet\":[{\"colorbar\":{\"outlinewidth\":0,\"ticks\":\"\"},\"type\":\"contourcarpet\"}],\"heatmap\":[{\"colorbar\":{\"outlinewidth\":0,\"ticks\":\"\"},\"colorscale\":[[0.0,\"#0d0887\"],[0.1111111111111111,\"#46039f\"],[0.2222222222222222,\"#7201a8\"],[0.3333333333333333,\"#9c179e\"],[0.4444444444444444,\"#bd3786\"],[0.5555555555555556,\"#d8576b\"],[0.6666666666666666,\"#ed7953\"],[0.7777777777777778,\"#fb9f3a\"],[0.8888888888888888,\"#fdca26\"],[1.0,\"#f0f921\"]],\"type\":\"heatmap\"}],\"heatmapgl\":[{\"colorbar\":{\"outlinewidth\":0,\"ticks\":\"\"},\"colorscale\":[[0.0,\"#0d0887\"],[0.1111111111111111,\"#46039f\"],[0.2222222222222222,\"#7201a8\"],[0.3333333333333333,\"#9c179e\"],[0.4444444444444444,\"#bd3786\"],[0.5555555555555556,\"#d8576b\"],[0.6666666666666666,\"#ed7953\"],[0.7777777777777778,\"#fb9f3a\"],[0.8888888888888888,\"#fdca26\"],[1.0,\"#f0f921\"]],\"type\":\"heatmapgl\"}],\"histogram\":[{\"marker\":{\"pattern\":{\"fillmode\":\"overlay\",\"size\":10,\"solidity\":0.2}},\"type\":\"histogram\"}],\"histogram2d\":[{\"colorbar\":{\"outlinewidth\":0,\"ticks\":\"\"},\"colorscale\":[[0.0,\"#0d0887\"],[0.1111111111111111,\"#46039f\"],[0.2222222222222222,\"#7201a8\"],[0.3333333333333333,\"#9c179e\"],[0.4444444444444444,\"#bd3786\"],[0.5555555555555556,\"#d8576b\"],[0.6666666666666666,\"#ed7953\"],[0.7777777777777778,\"#fb9f3a\"],[0.8888888888888888,\"#fdca26\"],[1.0,\"#f0f921\"]],\"type\":\"histogram2d\"}],\"histogram2dcontour\":[{\"colorbar\":{\"outlinewidth\":0,\"ticks\":\"\"},\"colorscale\":[[0.0,\"#0d0887\"],[0.1111111111111111,\"#46039f\"],[0.2222222222222222,\"#7201a8\"],[0.3333333333333333,\"#9c179e\"],[0.4444444444444444,\"#bd3786\"],[0.5555555555555556,\"#d8576b\"],[0.6666666666666666,\"#ed7953\"],[0.7777777777777778,\"#fb9f3a\"],[0.8888888888888888,\"#fdca26\"],[1.0,\"#f0f921\"]],\"type\":\"histogram2dcontour\"}],\"mesh3d\":[{\"colorbar\":{\"outlinewidth\":0,\"ticks\":\"\"},\"type\":\"mesh3d\"}],\"parcoords\":[{\"line\":{\"colorbar\":{\"outlinewidth\":0,\"ticks\":\"\"}},\"type\":\"parcoords\"}],\"pie\":[{\"automargin\":true,\"type\":\"pie\"}],\"scatter\":[{\"marker\":{\"colorbar\":{\"outlinewidth\":0,\"ticks\":\"\"}},\"type\":\"scatter\"}],\"scatter3d\":[{\"line\":{\"colorbar\":{\"outlinewidth\":0,\"ticks\":\"\"}},\"marker\":{\"colorbar\":{\"outlinewidth\":0,\"ticks\":\"\"}},\"type\":\"scatter3d\"}],\"scattercarpet\":[{\"marker\":{\"colorbar\":{\"outlinewidth\":0,\"ticks\":\"\"}},\"type\":\"scattercarpet\"}],\"scattergeo\":[{\"marker\":{\"colorbar\":{\"outlinewidth\":0,\"ticks\":\"\"}},\"type\":\"scattergeo\"}],\"scattergl\":[{\"marker\":{\"colorbar\":{\"outlinewidth\":0,\"ticks\":\"\"}},\"type\":\"scattergl\"}],\"scattermapbox\":[{\"marker\":{\"colorbar\":{\"outlinewidth\":0,\"ticks\":\"\"}},\"type\":\"scattermapbox\"}],\"scatterpolar\":[{\"marker\":{\"colorbar\":{\"outlinewidth\":0,\"ticks\":\"\"}},\"type\":\"scatterpolar\"}],\"scatterpolargl\":[{\"marker\":{\"colorbar\":{\"outlinewidth\":0,\"ticks\":\"\"}},\"type\":\"scatterpolargl\"}],\"scatterternary\":[{\"marker\":{\"colorbar\":{\"outlinewidth\":0,\"ticks\":\"\"}},\"type\":\"scatterternary\"}],\"surface\":[{\"colorbar\":{\"outlinewidth\":0,\"ticks\":\"\"},\"colorscale\":[[0.0,\"#0d0887\"],[0.1111111111111111,\"#46039f\"],[0.2222222222222222,\"#7201a8\"],[0.3333333333333333,\"#9c179e\"],[0.4444444444444444,\"#bd3786\"],[0.5555555555555556,\"#d8576b\"],[0.6666666666666666,\"#ed7953\"],[0.7777777777777778,\"#fb9f3a\"],[0.8888888888888888,\"#fdca26\"],[1.0,\"#f0f921\"]],\"type\":\"surface\"}],\"table\":[{\"cells\":{\"fill\":{\"color\":\"#EBF0F8\"},\"line\":{\"color\":\"white\"}},\"header\":{\"fill\":{\"color\":\"#C8D4E3\"},\"line\":{\"color\":\"white\"}},\"type\":\"table\"}]},\"layout\":{\"annotationdefaults\":{\"arrowcolor\":\"#2a3f5f\",\"arrowhead\":0,\"arrowwidth\":1},\"autotypenumbers\":\"strict\",\"coloraxis\":{\"colorbar\":{\"outlinewidth\":0,\"ticks\":\"\"}},\"colorscale\":{\"diverging\":[[0,\"#8e0152\"],[0.1,\"#c51b7d\"],[0.2,\"#de77ae\"],[0.3,\"#f1b6da\"],[0.4,\"#fde0ef\"],[0.5,\"#f7f7f7\"],[0.6,\"#e6f5d0\"],[0.7,\"#b8e186\"],[0.8,\"#7fbc41\"],[0.9,\"#4d9221\"],[1,\"#276419\"]],\"sequential\":[[0.0,\"#0d0887\"],[0.1111111111111111,\"#46039f\"],[0.2222222222222222,\"#7201a8\"],[0.3333333333333333,\"#9c179e\"],[0.4444444444444444,\"#bd3786\"],[0.5555555555555556,\"#d8576b\"],[0.6666666666666666,\"#ed7953\"],[0.7777777777777778,\"#fb9f3a\"],[0.8888888888888888,\"#fdca26\"],[1.0,\"#f0f921\"]],\"sequentialminus\":[[0.0,\"#0d0887\"],[0.1111111111111111,\"#46039f\"],[0.2222222222222222,\"#7201a8\"],[0.3333333333333333,\"#9c179e\"],[0.4444444444444444,\"#bd3786\"],[0.5555555555555556,\"#d8576b\"],[0.6666666666666666,\"#ed7953\"],[0.7777777777777778,\"#fb9f3a\"],[0.8888888888888888,\"#fdca26\"],[1.0,\"#f0f921\"]]},\"colorway\":[\"#636efa\",\"#EF553B\",\"#00cc96\",\"#ab63fa\",\"#FFA15A\",\"#19d3f3\",\"#FF6692\",\"#B6E880\",\"#FF97FF\",\"#FECB52\"],\"font\":{\"color\":\"#2a3f5f\"},\"geo\":{\"bgcolor\":\"white\",\"lakecolor\":\"white\",\"landcolor\":\"#E5ECF6\",\"showlakes\":true,\"showland\":true,\"subunitcolor\":\"white\"},\"hoverlabel\":{\"align\":\"left\"},\"hovermode\":\"closest\",\"mapbox\":{\"style\":\"light\"},\"paper_bgcolor\":\"white\",\"plot_bgcolor\":\"#E5ECF6\",\"polar\":{\"angularaxis\":{\"gridcolor\":\"white\",\"linecolor\":\"white\",\"ticks\":\"\"},\"bgcolor\":\"#E5ECF6\",\"radialaxis\":{\"gridcolor\":\"white\",\"linecolor\":\"white\",\"ticks\":\"\"}},\"scene\":{\"xaxis\":{\"backgroundcolor\":\"#E5ECF6\",\"gridcolor\":\"white\",\"gridwidth\":2,\"linecolor\":\"white\",\"showbackground\":true,\"ticks\":\"\",\"zerolinecolor\":\"white\"},\"yaxis\":{\"backgroundcolor\":\"#E5ECF6\",\"gridcolor\":\"white\",\"gridwidth\":2,\"linecolor\":\"white\",\"showbackground\":true,\"ticks\":\"\",\"zerolinecolor\":\"white\"},\"zaxis\":{\"backgroundcolor\":\"#E5ECF6\",\"gridcolor\":\"white\",\"gridwidth\":2,\"linecolor\":\"white\",\"showbackground\":true,\"ticks\":\"\",\"zerolinecolor\":\"white\"}},\"shapedefaults\":{\"line\":{\"color\":\"#2a3f5f\"}},\"ternary\":{\"aaxis\":{\"gridcolor\":\"white\",\"linecolor\":\"white\",\"ticks\":\"\"},\"baxis\":{\"gridcolor\":\"white\",\"linecolor\":\"white\",\"ticks\":\"\"},\"bgcolor\":\"#E5ECF6\",\"caxis\":{\"gridcolor\":\"white\",\"linecolor\":\"white\",\"ticks\":\"\"}},\"title\":{\"x\":0.05},\"xaxis\":{\"automargin\":true,\"gridcolor\":\"white\",\"linecolor\":\"white\",\"ticks\":\"\",\"title\":{\"standoff\":15},\"zerolinecolor\":\"white\",\"zerolinewidth\":2},\"yaxis\":{\"automargin\":true,\"gridcolor\":\"white\",\"linecolor\":\"white\",\"ticks\":\"\",\"title\":{\"standoff\":15},\"zerolinecolor\":\"white\",\"zerolinewidth\":2}}},\"scene\":{\"domain\":{\"x\":[0.0,1.0],\"y\":[0.0,1.0]},\"xaxis\":{\"title\":{\"text\":\"TP\"},\"range\":[0,1]},\"yaxis\":{\"title\":{\"text\":\"TN\"},\"range\":[0,1]},\"zaxis\":{\"title\":{\"text\":\"FP\"},\"range\":[0,1]}},\"legend\":{\"tracegroupgap\":0},\"margin\":{\"t\":60}},                        {\"responsive\": true}                    ).then(function(){\n",
       "                            \n",
       "var gd = document.getElementById('ed145cfe-744f-4b85-8309-b29e02879469');\n",
       "var x = new MutationObserver(function (mutations, observer) {{\n",
       "        var display = window.getComputedStyle(gd).display;\n",
       "        if (!display || display === 'none') {{\n",
       "            console.log([gd, 'removed!']);\n",
       "            Plotly.purge(gd);\n",
       "            observer.disconnect();\n",
       "        }}\n",
       "}});\n",
       "\n",
       "// Listen for the removal of the full notebook cells\n",
       "var notebookContainer = gd.closest('#notebook-container');\n",
       "if (notebookContainer) {{\n",
       "    x.observe(notebookContainer, {childList: true});\n",
       "}}\n",
       "\n",
       "// Listen for the clearing of the current output cell\n",
       "var outputEl = gd.closest('.output');\n",
       "if (outputEl) {{\n",
       "    x.observe(outputEl, {childList: true});\n",
       "}}\n",
       "\n",
       "                        })                };                });            </script>        </div>"
      ]
     },
     "metadata": {},
     "output_type": "display_data"
    }
   ],
   "source": [
    "fig = px.scatter_3d(coords, \n",
    "                    x='TP',\n",
    "                    y='TN',\n",
    "                    z='FP',\n",
    "                    size_max=18,\n",
    "                    hover_name ='threshold',\n",
    "                    range_x=[0,1], \n",
    "                    range_y=[0,1],\n",
    "                    range_z=[0,1]) \n",
    "\n",
    "\n",
    "fig.add_trace(go.Figure(data=[\n",
    "    go.Mesh3d(\n",
    "        x=[0, 0, 0, 1], \n",
    "        y=[0, 0, 1, 0],\n",
    "        z=[0, 1, 0, 0],\n",
    "\n",
    "        \n",
    "        color ='lightgrey',\n",
    "        \n",
    "        # Intensity of each vertex, which will be interpolated and color-coded\n",
    "        #intensity=[0, 0.33, 0.66, 1],\n",
    "        \n",
    "        opacity = 0.2, #for transparency\n",
    "        \n",
    "        # i, j and k sono i vertici dei triangoli\n",
    "        # here we represent the 4 triangles of the tetrahedron surface\n",
    "        i=[0, 0, 0, 1],\n",
    "        j=[1, 2, 3, 2],\n",
    "        k=[2, 3, 1, 3],\n",
    "        name='y',\n",
    "        showscale=True\n",
    "    )\n",
    "]).data[0])\n",
    "\n",
    "\n",
    "#QUI HO LO STESSO PROBLEMA CHE VOGLIO LA LINEA NON I PUNTI, NON STO RIUSCENDO ma mi sembra risolvibile \n",
    "#-> TODO ma una volta risolto sopra qui sarà lo stesso "
   ]
  },
  {
   "cell_type": "markdown",
   "id": "8a716386",
   "metadata": {},
   "source": [
    "# Fino a qui ok (devo capire come unire i punti per avere linee invece di marker ma secondo me ci siamo) - probs è nella definizione di quella intermedia"
   ]
  },
  {
   "cell_type": "markdown",
   "id": "e2671354",
   "metadata": {},
   "source": [
    "# codice per plottare quella media"
   ]
  },
  {
   "cell_type": "markdown",
   "id": "e5eb8a82",
   "metadata": {},
   "source": [
    "Il ragionamento che seguo è praticamente l'unione dei due precedenti cioè prendo le mie probabilità predette e ci aggiungo un po' di random che dovrebbe darmi una performance intermedia <br>\n",
    "Ma il problema è che mentre nel vero random questo funziona perchè uso random.randint(0,1,N) mi genero casualmente degli 0 o 1 <br> mentre qui va bene random ma capisco che il problema è che sto generando delle probabilità senza veramente vincolarle ma non capisco come risolvere"
   ]
  },
  {
   "cell_type": "code",
   "execution_count": 65,
   "id": "03be051c",
   "metadata": {},
   "outputs": [
    {
     "ename": "ZeroDivisionError",
     "evalue": "division by zero",
     "output_type": "error",
     "traceback": [
      "\u001b[0;31m---------------------------------------------------------------------------\u001b[0m",
      "\u001b[0;31mZeroDivisionError\u001b[0m                         Traceback (most recent call last)",
      "Input \u001b[0;32mIn [65]\u001b[0m, in \u001b[0;36m<module>\u001b[0;34m\u001b[0m\n\u001b[1;32m     17\u001b[0m (TN, FP,FN, TP) \u001b[38;5;241m=\u001b[39m generate_matrix_entries(y_test, y_pred)\n\u001b[1;32m     18\u001b[0m each_CM \u001b[38;5;241m=\u001b[39m np\u001b[38;5;241m.\u001b[39marray([TN, FP,FN, TP])\n\u001b[0;32m---> 20\u001b[0m each_FPR \u001b[38;5;241m=\u001b[39m \u001b[43mFP\u001b[49m\u001b[38;5;241;43m/\u001b[39;49m\u001b[43m(\u001b[49m\u001b[43mFP\u001b[49m\u001b[38;5;241;43m+\u001b[39;49m\u001b[43mTN\u001b[49m\u001b[43m)\u001b[49m \u001b[38;5;66;03m#1-specificity --> x\u001b[39;00m\n\u001b[1;32m     21\u001b[0m each_TPR \u001b[38;5;241m=\u001b[39m TP\u001b[38;5;241m/\u001b[39m(TP\u001b[38;5;241m+\u001b[39mFN) \u001b[38;5;66;03m#sensitivity -->y\u001b[39;00m\n\u001b[1;32m     24\u001b[0m each_nCM \u001b[38;5;241m=\u001b[39m each_CM\u001b[38;5;241m/\u001b[39mN\n",
      "\u001b[0;31mZeroDivisionError\u001b[0m: division by zero"
     ]
    }
   ],
   "source": [
    "all_nCM = []\n",
    "all_ts = []\n",
    "\n",
    "all_TPR = []\n",
    "all_FPR = []\n",
    "\n",
    "\n",
    "N= len(y_test)\n",
    "for i in range(len(thresholds)):\n",
    "    t = thresholds[i]\n",
    "    all_ts.append(round(t,3))\n",
    "    t_vec = np.ones(preds.size)*t #t con dimensioni comparabili        questi sono tentativi di portare il tutto non negativo\n",
    "    y_pred = (np.random.uniform(0,2,N)*np.ones(preds.size)*(0.1)+np.ones(preds.size)*(-0.01)+preds >= t_vec).astype(int)\n",
    "    norm = np.linalg.norm(y_pred)   #quindi sbaglio qui - ma sembra non esistere un random float \n",
    "    y_pred = y_pred/norm            # np.random.uniform(0,2,N)*np.ones(preds.size)*(0.1) -> tutto questo solo per generarmi quella io intendo come randomness \n",
    "                                    #che vado letteralmente ad aggiungere alle preds \n",
    "\n",
    "    (TN, FP,FN, TP) = generate_matrix_entries(y_test, y_pred)\n",
    "    each_CM = np.array([TN, FP,FN, TP])\n",
    "    \n",
    "    each_FPR = FP/(FP+TN) #1-specificity --> x\n",
    "    each_TPR = TP/(TP+FN) #sensitivity -->y\n",
    "    \n",
    "    \n",
    "    each_nCM = each_CM/N\n",
    "    all_nCM.append(each_nCM)\n",
    "    \n",
    "    all_FPR.append(each_FPR)\n",
    "    all_TPR.append(each_TPR)\n",
    "    \n",
    "\n",
    "PD_all_nCM = pd.DataFrame(all_nCM) \n",
    "\n",
    "\n",
    "#PRIMA DI DROPPARE \n",
    "coords = PD_all_nCM.drop([2],axis=1)\n",
    "coords['threshold'] = all_ts\n",
    "coords.rename({0: 'TN', 1: 'FP', 3: 'TP'}, axis=1, inplace=True)\n",
    "#va aggiunto threshold a coords\n",
    "\n",
    "coords['TPR']=all_TPR\n",
    "coords['FPR']=all_FPR\n",
    "\n",
    "coords"
   ]
  },
  {
   "cell_type": "code",
   "execution_count": 60,
   "id": "71425e6a",
   "metadata": {},
   "outputs": [
    {
     "data": {
      "application/vnd.plotly.v1+json": {
       "config": {
        "plotlyServerURL": "https://plot.ly"
       },
       "data": [
        {
         "line": {
          "color": "darkblue",
          "width": 2
         },
         "marker": {
          "color": [
           100.90305260168549,
           101.42097232811646,
           101.75663544562379,
           100.67462146599276,
           100.76598392239534,
           100.72367877031152,
           100.79939707824535,
           101.32395743655249,
           99.90903819476982,
           99.63804510112185,
           99.80471250159883,
           99.58733641412802,
           98.87809383086237,
           99.35416809651913,
           99.52398587059791,
           99.04576625574933,
           99.23474090343667,
           99.68783755012718,
           99.71654618503014,
           100.16083472122112,
           100.22790656756355,
           100.04706042904536,
           99.46835122221567,
           99.4495563479014,
           99.5765385009955,
           100.05956893419592,
           100.02540376007047,
           100.29098687183546,
           99.8124696432,
           99.43078946717925,
           99.39929079509108,
           98.87848444091237,
           99.3292597030591,
           99.5959699790435,
           99.76736096427827,
           99.97030046464064,
           101.05848561907575,
           100.83731460985726,
           99.70936796178142,
           99.83929540379629,
           99.83886801241286,
           99.59502927339695,
           99.11246528192999,
           98.9108969566878,
           99.03048415348458,
           98.7962132981615,
           100.07619374194734,
           99.60084022421165,
           99.2145290099018,
           98.06003155884319,
           98.2146009231919,
           97.20998294665371,
           96.96144471081303,
           96.84700774646616,
           96.51344425296475,
           97.42018225543028,
           97.95344908624119,
           98.65698778338691,
           98.22846704664138,
           98.83547643906196,
           99.11789252373134,
           99.54433783686525,
           100.10757127312155,
           99.65902304480748,
           99.46407621200929,
           99.93964488636817,
           98.58737178301548,
           99.3963224316725,
           99.71011815655227,
           99.71224540999887,
           99.85324695392072,
           99.34288598951973,
           99.18711677827709,
           99.78528060223412,
           100.49088255628193,
           101.94394539288265,
           101.9310805323741,
           101.60718690595516,
           101.36077015140263,
           100.84897452377817,
           100.83417603623697,
           101.06243975352993,
           101.07065198579328,
           101.67808168899688,
           101.58009055056046,
           101.42213512404585,
           101.1407156020703,
           100.30721724776457,
           99.51432960615618,
           98.92849325112658,
           99.62981078541632,
           100.12326832010427,
           100.87182803412611,
           100.19779347084913,
           99.1976666309814,
           98.88168146638414,
           98.99837662573024,
           99.28265406989709,
           99.85408146571059,
           100.02862750524588,
           100.97039428016427,
           100.87920810632707,
           100.42493643449215,
           99.57204278582927,
           99.1361513431922,
           99.28755496147123,
           98.8530386760832,
           99.36419555088116,
           100.12663664539454,
           98.91964462128927,
           99.39336692390685,
           98.26196534475231,
           98.49406915931074,
           99.1526140349754,
           99.21205807447976,
           98.57617826103305,
           98.30051620703375,
           98.19169827562921,
           98.12372408076136,
           98.04521055290348,
           98.0144103678796,
           98.14940492921835,
           97.55659992002035,
           97.45860448294407,
           98.26082725035138,
           98.08895759388533,
           97.8870928861167,
           98.46604609956793,
           97.18269521057282,
           97.81022987939359,
           97.51301530449564,
           97.62202658760559,
           97.69662278010524,
           98.20473955487645,
           98.09297662597697,
           97.77132487531858,
           98.46259504845453,
           97.27841536917732,
           97.31408231122862,
           96.6558801793464,
           96.29687042729958,
           97.34008938417091,
           97.34273021344151,
           97.46741806935951,
           96.58895824280805,
           96.24656334416431,
           96.3705966409849,
           96.5746306850572,
           96.91181436639656,
           96.94141386759306,
           97.2341766866298,
           97.49049661745892,
           96.58749806134256,
           96.63133356803426,
           97.04530315343045,
           97.37038137131887,
           97.2106327272869,
           96.82725967240799,
           96.28786649476159,
           96.24696487629984,
           96.84400058218495,
           95.88578133127191,
           95.58042812144832,
           95.03730238056379,
           95.45295370383771,
           95.2015138883091,
           94.99228038088113,
           94.9092994653777,
           95.15531755805068,
           94.98503441239602,
           93.50869410989931,
           93.79908675509311,
           94.03910494110394,
           93.95568374489245,
           93.44903090092583,
           93.64542169204431,
           93.85569598074954,
           93.64971640397664,
           93.56801497918381,
           93.13835077270353,
           93.07565364589107,
           92.34829908463048,
           92.5740903508439,
           92.14214381794848,
           92.2809290424814,
           91.62896336767783,
           91.37051875684513,
           91.34152569338822,
           90.5754915765206,
           90.65362540927504,
           90.49766275156375,
           89.70040451402798,
           89.11451369169828,
           89.4201500395064,
           89.86317896522264,
           89.82460512002781,
           90.03831494218872,
           90.16720924113693,
           90.3462369510247,
           90.97936760537068,
           90.28889316166814,
           90.632353961333,
           90.47507444284987,
           90.39258528895667,
           90.27335622644688,
           90.11993256762909,
           89.56737188661853,
           89.67660040382277,
           90.48696583244354,
           90.48396272281204,
           90.50686104678697,
           90.20571122418414,
           90.17379472058556,
           90.41735669400072,
           90.26600283437253,
           90.07554341034924,
           90.28914350140238,
           89.88024570100794,
           90.02239787339386,
           90.4328342560431,
           91.10179272878925,
           91.08245913545932,
           91.75989223407711,
           92.28147861078794,
           91.82600543642462,
           91.26692415818832,
           91.14524862729328,
           91.66071784069197,
           91.64993534900208,
           91.38636715759493,
           92.15497736201138,
           92.31733209977926,
           91.22784200866636,
           91.40302023250256,
           91.67571954723056,
           91.80780505911812,
           92.04786196317963,
           92.03944528929924,
           91.43103320952203,
           91.27776225165299,
           90.85127189361977,
           90.43286109789015,
           89.86105779080609,
           90.09733241698619,
           90.16692108351123,
           89.9793231768941,
           89.69772833772598,
           89.71009117160857,
           90.2411520716456,
           89.32378572378458,
           89.52325199163351,
           89.29144547070025,
           88.43902814543894,
           87.56676456221443,
           87.17257525841819,
           87.29538913531862,
           87.49772980582904,
           87.09192205599278,
           87.57901243382852,
           88.25593994768026,
           88.46190542519193,
           88.211773392004,
           88.75494674809369,
           89.12934590566336,
           89.55775372386094,
           89.27415238610892,
           87.98384799551074,
           88.98609193175876,
           88.2627980652666,
           88.26926610058071,
           89.39804108514713,
           89.57598825908195,
           90.04506077811702,
           89.3638270347807,
           88.56020746113269,
           88.33690234728044,
           88.86520245497948,
           88.7275756747205,
           88.38273557952137,
           88.49728703385009,
           89.02244388024127,
           88.37548907763419,
           87.84081240130661,
           87.50214836879078,
           88.02724577386265,
           88.15832062427917,
           89.16971334282492,
           89.63065988836476,
           89.63754349699595,
           90.25584249870047,
           90.37921424624967,
           90.0701906679324,
           90.41448057486708,
           90.10938520775997,
           89.99610616397173,
           90.64658937263455,
           90.62218836910712,
           90.2659711425847,
           90.07055148047752,
           90.57655936195341,
           90.33880027961794,
           90.17973797153057,
           89.96288859248519,
           90.07287553315459,
           89.9149306578773,
           89.18830316329476,
           88.79869926344259,
           88.38971924271075,
           88.98928767082495,
           89.39143967131838,
           89.68965057942783,
           89.47628788148239,
           89.11868090698036,
           88.90567285216699,
           88.44111895584012,
           89.62664196744493,
           88.60376715592079,
           88.88854486046566,
           88.3165861154562,
           88.29139893000104,
           87.85939089163854,
           87.34286479961871,
           86.84636932824442,
           87.66967082031599,
           87.63154385084958,
           87.30416875561839,
           87.5810049619833,
           87.60854301374955,
           87.96184307268449,
           87.14960142661936,
           87.31076018331733,
           87.68699729048673,
           86.95120338089441,
           87.17787004207008,
           87.97726316919949,
           87.99332911328952,
           88.39501543454882,
           88.72853950635525,
           88.42396519835822,
           88.46537269548446,
           87.7664446956652,
           87.5824044402126,
           87.72697222302861,
           88.0821620701064,
           88.11642792944784,
           88.47175300220945,
           87.98599182041022,
           87.96211581196553,
           87.99388171005023,
           88.87200632216586,
           88.79566368099002,
           88.58736468570558,
           88.62031627145069,
           88.21846485975418,
           88.33039585580944,
           88.18492689074805,
           87.38566769600418,
           87.3816466588224,
           87.25941208777766,
           86.54040480698778,
           86.53255571673569,
           87.23165847491929,
           87.49249037252793,
           87.79568803422447,
           87.20479618620445,
           87.44524491804954,
           87.53591724421256,
           87.80121236408985,
           88.01832933735732,
           87.41758252523114,
           87.42141420657215,
           87.09839003720316,
           87.09825371607336,
           86.71314663608068,
           87.33290941431183,
           86.964234505229,
           86.57902237845056,
           86.63533530941083,
           86.17128252443344,
           86.00256415196017,
           85.65249370397191,
           86.30920074791226,
           86.6870627409675,
           86.68358006629926,
           86.52898749036059,
           86.97831672711285,
           87.18545627546365,
           87.43552090999286,
           87.44630598012607,
           86.70045956189969,
           86.67205273689764,
           86.45360483079263,
           86.76822869509303,
           87.25114648936034,
           86.97417314405311,
           87.21010447211319,
           88.0280604255847,
           87.74414277187654,
           88.54212735428113,
           88.17129162689722,
           88.20483019258316,
           88.22264979426727,
           88.25091998627819,
           87.88815345199241,
           87.639744341115,
           87.35707567127443,
           87.52930643113682,
           87.70328553142592,
           88.75296615740086,
           89.41465896239906,
           89.19985893590717,
           89.37474492503229,
           89.86525153365638,
           89.9030262399994,
           89.89369375997514,
           89.9413417012475,
           90.37359065549568,
           89.99709114836985,
           89.86737987927317
          ],
          "colorscale": [
           [
            0,
            "#440154"
           ],
           [
            0.1111111111111111,
            "#482878"
           ],
           [
            0.2222222222222222,
            "#3e4989"
           ],
           [
            0.3333333333333333,
            "#31688e"
           ],
           [
            0.4444444444444444,
            "#26828e"
           ],
           [
            0.5555555555555556,
            "#1f9e89"
           ],
           [
            0.6666666666666666,
            "#35b779"
           ],
           [
            0.7777777777777778,
            "#6ece58"
           ],
           [
            0.8888888888888888,
            "#b5de2b"
           ],
           [
            1,
            "#fde725"
           ]
          ],
          "size": 4
         },
         "type": "scatter3d",
         "x": [
          "2012-01-01T00:00:00",
          "2012-01-02T00:00:00",
          "2012-01-03T00:00:00",
          "2012-01-04T00:00:00",
          "2012-01-05T00:00:00",
          "2012-01-06T00:00:00",
          "2012-01-07T00:00:00",
          "2012-01-08T00:00:00",
          "2012-01-09T00:00:00",
          "2012-01-10T00:00:00",
          "2012-01-11T00:00:00",
          "2012-01-12T00:00:00",
          "2012-01-13T00:00:00",
          "2012-01-14T00:00:00",
          "2012-01-15T00:00:00",
          "2012-01-16T00:00:00",
          "2012-01-17T00:00:00",
          "2012-01-18T00:00:00",
          "2012-01-19T00:00:00",
          "2012-01-20T00:00:00",
          "2012-01-21T00:00:00",
          "2012-01-22T00:00:00",
          "2012-01-23T00:00:00",
          "2012-01-24T00:00:00",
          "2012-01-25T00:00:00",
          "2012-01-26T00:00:00",
          "2012-01-27T00:00:00",
          "2012-01-28T00:00:00",
          "2012-01-29T00:00:00",
          "2012-01-30T00:00:00",
          "2012-01-31T00:00:00",
          "2012-02-01T00:00:00",
          "2012-02-02T00:00:00",
          "2012-02-03T00:00:00",
          "2012-02-04T00:00:00",
          "2012-02-05T00:00:00",
          "2012-02-06T00:00:00",
          "2012-02-07T00:00:00",
          "2012-02-08T00:00:00",
          "2012-02-09T00:00:00",
          "2012-02-10T00:00:00",
          "2012-02-11T00:00:00",
          "2012-02-12T00:00:00",
          "2012-02-13T00:00:00",
          "2012-02-14T00:00:00",
          "2012-02-15T00:00:00",
          "2012-02-16T00:00:00",
          "2012-02-17T00:00:00",
          "2012-02-18T00:00:00",
          "2012-02-19T00:00:00",
          "2012-02-20T00:00:00",
          "2012-02-21T00:00:00",
          "2012-02-22T00:00:00",
          "2012-02-23T00:00:00",
          "2012-02-24T00:00:00",
          "2012-02-25T00:00:00",
          "2012-02-26T00:00:00",
          "2012-02-27T00:00:00",
          "2012-02-28T00:00:00",
          "2012-02-29T00:00:00",
          "2012-03-01T00:00:00",
          "2012-03-02T00:00:00",
          "2012-03-03T00:00:00",
          "2012-03-04T00:00:00",
          "2012-03-05T00:00:00",
          "2012-03-06T00:00:00",
          "2012-03-07T00:00:00",
          "2012-03-08T00:00:00",
          "2012-03-09T00:00:00",
          "2012-03-10T00:00:00",
          "2012-03-11T00:00:00",
          "2012-03-12T00:00:00",
          "2012-03-13T00:00:00",
          "2012-03-14T00:00:00",
          "2012-03-15T00:00:00",
          "2012-03-16T00:00:00",
          "2012-03-17T00:00:00",
          "2012-03-18T00:00:00",
          "2012-03-19T00:00:00",
          "2012-03-20T00:00:00",
          "2012-03-21T00:00:00",
          "2012-03-22T00:00:00",
          "2012-03-23T00:00:00",
          "2012-03-24T00:00:00",
          "2012-03-25T00:00:00",
          "2012-03-26T00:00:00",
          "2012-03-27T00:00:00",
          "2012-03-28T00:00:00",
          "2012-03-29T00:00:00",
          "2012-03-30T00:00:00",
          "2012-03-31T00:00:00",
          "2012-04-01T00:00:00",
          "2012-04-02T00:00:00",
          "2012-04-03T00:00:00",
          "2012-04-04T00:00:00",
          "2012-04-05T00:00:00",
          "2012-04-06T00:00:00",
          "2012-04-07T00:00:00",
          "2012-04-08T00:00:00",
          "2012-04-09T00:00:00",
          "2012-04-10T00:00:00",
          "2012-04-11T00:00:00",
          "2012-04-12T00:00:00",
          "2012-04-13T00:00:00",
          "2012-04-14T00:00:00",
          "2012-04-15T00:00:00",
          "2012-04-16T00:00:00",
          "2012-04-17T00:00:00",
          "2012-04-18T00:00:00",
          "2012-04-19T00:00:00",
          "2012-04-20T00:00:00",
          "2012-04-21T00:00:00",
          "2012-04-22T00:00:00",
          "2012-04-23T00:00:00",
          "2012-04-24T00:00:00",
          "2012-04-25T00:00:00",
          "2012-04-26T00:00:00",
          "2012-04-27T00:00:00",
          "2012-04-28T00:00:00",
          "2012-04-29T00:00:00",
          "2012-04-30T00:00:00",
          "2012-05-01T00:00:00",
          "2012-05-02T00:00:00",
          "2012-05-03T00:00:00",
          "2012-05-04T00:00:00",
          "2012-05-05T00:00:00",
          "2012-05-06T00:00:00",
          "2012-05-07T00:00:00",
          "2012-05-08T00:00:00",
          "2012-05-09T00:00:00",
          "2012-05-10T00:00:00",
          "2012-05-11T00:00:00",
          "2012-05-12T00:00:00",
          "2012-05-13T00:00:00",
          "2012-05-14T00:00:00",
          "2012-05-15T00:00:00",
          "2012-05-16T00:00:00",
          "2012-05-17T00:00:00",
          "2012-05-18T00:00:00",
          "2012-05-19T00:00:00",
          "2012-05-20T00:00:00",
          "2012-05-21T00:00:00",
          "2012-05-22T00:00:00",
          "2012-05-23T00:00:00",
          "2012-05-24T00:00:00",
          "2012-05-25T00:00:00",
          "2012-05-26T00:00:00",
          "2012-05-27T00:00:00",
          "2012-05-28T00:00:00",
          "2012-05-29T00:00:00",
          "2012-05-30T00:00:00",
          "2012-05-31T00:00:00",
          "2012-06-01T00:00:00",
          "2012-06-02T00:00:00",
          "2012-06-03T00:00:00",
          "2012-06-04T00:00:00",
          "2012-06-05T00:00:00",
          "2012-06-06T00:00:00",
          "2012-06-07T00:00:00",
          "2012-06-08T00:00:00",
          "2012-06-09T00:00:00",
          "2012-06-10T00:00:00",
          "2012-06-11T00:00:00",
          "2012-06-12T00:00:00",
          "2012-06-13T00:00:00",
          "2012-06-14T00:00:00",
          "2012-06-15T00:00:00",
          "2012-06-16T00:00:00",
          "2012-06-17T00:00:00",
          "2012-06-18T00:00:00",
          "2012-06-19T00:00:00",
          "2012-06-20T00:00:00",
          "2012-06-21T00:00:00",
          "2012-06-22T00:00:00",
          "2012-06-23T00:00:00",
          "2012-06-24T00:00:00",
          "2012-06-25T00:00:00",
          "2012-06-26T00:00:00",
          "2012-06-27T00:00:00",
          "2012-06-28T00:00:00",
          "2012-06-29T00:00:00",
          "2012-06-30T00:00:00",
          "2012-07-01T00:00:00",
          "2012-07-02T00:00:00",
          "2012-07-03T00:00:00",
          "2012-07-04T00:00:00",
          "2012-07-05T00:00:00",
          "2012-07-06T00:00:00",
          "2012-07-07T00:00:00",
          "2012-07-08T00:00:00",
          "2012-07-09T00:00:00",
          "2012-07-10T00:00:00",
          "2012-07-11T00:00:00",
          "2012-07-12T00:00:00",
          "2012-07-13T00:00:00",
          "2012-07-14T00:00:00",
          "2012-07-15T00:00:00",
          "2012-07-16T00:00:00",
          "2012-07-17T00:00:00",
          "2012-07-18T00:00:00",
          "2012-07-19T00:00:00",
          "2012-07-20T00:00:00",
          "2012-07-21T00:00:00",
          "2012-07-22T00:00:00",
          "2012-07-23T00:00:00",
          "2012-07-24T00:00:00",
          "2012-07-25T00:00:00",
          "2012-07-26T00:00:00",
          "2012-07-27T00:00:00",
          "2012-07-28T00:00:00",
          "2012-07-29T00:00:00",
          "2012-07-30T00:00:00",
          "2012-07-31T00:00:00",
          "2012-08-01T00:00:00",
          "2012-08-02T00:00:00",
          "2012-08-03T00:00:00",
          "2012-08-04T00:00:00",
          "2012-08-05T00:00:00",
          "2012-08-06T00:00:00",
          "2012-08-07T00:00:00",
          "2012-08-08T00:00:00",
          "2012-08-09T00:00:00",
          "2012-08-10T00:00:00",
          "2012-08-11T00:00:00",
          "2012-08-12T00:00:00",
          "2012-08-13T00:00:00",
          "2012-08-14T00:00:00",
          "2012-08-15T00:00:00",
          "2012-08-16T00:00:00",
          "2012-08-17T00:00:00",
          "2012-08-18T00:00:00",
          "2012-08-19T00:00:00",
          "2012-08-20T00:00:00",
          "2012-08-21T00:00:00",
          "2012-08-22T00:00:00",
          "2012-08-23T00:00:00",
          "2012-08-24T00:00:00",
          "2012-08-25T00:00:00",
          "2012-08-26T00:00:00",
          "2012-08-27T00:00:00",
          "2012-08-28T00:00:00",
          "2012-08-29T00:00:00",
          "2012-08-30T00:00:00",
          "2012-08-31T00:00:00",
          "2012-09-01T00:00:00",
          "2012-09-02T00:00:00",
          "2012-09-03T00:00:00",
          "2012-09-04T00:00:00",
          "2012-09-05T00:00:00",
          "2012-09-06T00:00:00",
          "2012-09-07T00:00:00",
          "2012-09-08T00:00:00",
          "2012-09-09T00:00:00",
          "2012-09-10T00:00:00",
          "2012-09-11T00:00:00",
          "2012-09-12T00:00:00",
          "2012-09-13T00:00:00",
          "2012-09-14T00:00:00",
          "2012-09-15T00:00:00",
          "2012-09-16T00:00:00",
          "2012-09-17T00:00:00",
          "2012-09-18T00:00:00",
          "2012-09-19T00:00:00",
          "2012-09-20T00:00:00",
          "2012-09-21T00:00:00",
          "2012-09-22T00:00:00",
          "2012-09-23T00:00:00",
          "2012-09-24T00:00:00",
          "2012-09-25T00:00:00",
          "2012-09-26T00:00:00",
          "2012-09-27T00:00:00",
          "2012-09-28T00:00:00",
          "2012-09-29T00:00:00",
          "2012-09-30T00:00:00",
          "2012-10-01T00:00:00",
          "2012-10-02T00:00:00",
          "2012-10-03T00:00:00",
          "2012-10-04T00:00:00",
          "2012-10-05T00:00:00",
          "2012-10-06T00:00:00",
          "2012-10-07T00:00:00",
          "2012-10-08T00:00:00",
          "2012-10-09T00:00:00",
          "2012-10-10T00:00:00",
          "2012-10-11T00:00:00",
          "2012-10-12T00:00:00",
          "2012-10-13T00:00:00",
          "2012-10-14T00:00:00",
          "2012-10-15T00:00:00",
          "2012-10-16T00:00:00",
          "2012-10-17T00:00:00",
          "2012-10-18T00:00:00",
          "2012-10-19T00:00:00",
          "2012-10-20T00:00:00",
          "2012-10-21T00:00:00",
          "2012-10-22T00:00:00",
          "2012-10-23T00:00:00",
          "2012-10-24T00:00:00",
          "2012-10-25T00:00:00",
          "2012-10-26T00:00:00",
          "2012-10-27T00:00:00",
          "2012-10-28T00:00:00",
          "2012-10-29T00:00:00",
          "2012-10-30T00:00:00",
          "2012-10-31T00:00:00",
          "2012-11-01T00:00:00",
          "2012-11-02T00:00:00",
          "2012-11-03T00:00:00",
          "2012-11-04T00:00:00",
          "2012-11-05T00:00:00",
          "2012-11-06T00:00:00",
          "2012-11-07T00:00:00",
          "2012-11-08T00:00:00",
          "2012-11-09T00:00:00",
          "2012-11-10T00:00:00",
          "2012-11-11T00:00:00",
          "2012-11-12T00:00:00",
          "2012-11-13T00:00:00",
          "2012-11-14T00:00:00",
          "2012-11-15T00:00:00",
          "2012-11-16T00:00:00",
          "2012-11-17T00:00:00",
          "2012-11-18T00:00:00",
          "2012-11-19T00:00:00",
          "2012-11-20T00:00:00",
          "2012-11-21T00:00:00",
          "2012-11-22T00:00:00",
          "2012-11-23T00:00:00",
          "2012-11-24T00:00:00",
          "2012-11-25T00:00:00",
          "2012-11-26T00:00:00",
          "2012-11-27T00:00:00",
          "2012-11-28T00:00:00",
          "2012-11-29T00:00:00",
          "2012-11-30T00:00:00",
          "2012-12-01T00:00:00",
          "2012-12-02T00:00:00",
          "2012-12-03T00:00:00",
          "2012-12-04T00:00:00",
          "2012-12-05T00:00:00",
          "2012-12-06T00:00:00",
          "2012-12-07T00:00:00",
          "2012-12-08T00:00:00",
          "2012-12-09T00:00:00",
          "2012-12-10T00:00:00",
          "2012-12-11T00:00:00",
          "2012-12-12T00:00:00",
          "2012-12-13T00:00:00",
          "2012-12-14T00:00:00",
          "2012-12-15T00:00:00",
          "2012-12-16T00:00:00",
          "2012-12-17T00:00:00",
          "2012-12-18T00:00:00",
          "2012-12-19T00:00:00",
          "2012-12-20T00:00:00",
          "2012-12-21T00:00:00",
          "2012-12-22T00:00:00",
          "2012-12-23T00:00:00",
          "2012-12-24T00:00:00",
          "2012-12-25T00:00:00",
          "2012-12-26T00:00:00",
          "2012-12-27T00:00:00",
          "2012-12-28T00:00:00",
          "2012-12-29T00:00:00",
          "2012-12-30T00:00:00",
          "2012-12-31T00:00:00",
          "2013-01-01T00:00:00",
          "2013-01-02T00:00:00",
          "2013-01-03T00:00:00",
          "2013-01-04T00:00:00",
          "2013-01-05T00:00:00",
          "2013-01-06T00:00:00",
          "2013-01-07T00:00:00",
          "2013-01-08T00:00:00",
          "2013-01-09T00:00:00",
          "2013-01-10T00:00:00",
          "2013-01-11T00:00:00",
          "2013-01-12T00:00:00",
          "2013-01-13T00:00:00",
          "2013-01-14T00:00:00",
          "2013-01-15T00:00:00",
          "2013-01-16T00:00:00",
          "2013-01-17T00:00:00",
          "2013-01-18T00:00:00",
          "2013-01-19T00:00:00",
          "2013-01-20T00:00:00",
          "2013-01-21T00:00:00",
          "2013-01-22T00:00:00",
          "2013-01-23T00:00:00",
          "2013-01-24T00:00:00",
          "2013-01-25T00:00:00",
          "2013-01-26T00:00:00",
          "2013-01-27T00:00:00",
          "2013-01-28T00:00:00",
          "2013-01-29T00:00:00",
          "2013-01-30T00:00:00",
          "2013-01-31T00:00:00",
          "2013-02-01T00:00:00",
          "2013-02-02T00:00:00",
          "2013-02-03T00:00:00",
          "2013-02-04T00:00:00",
          "2013-02-05T00:00:00",
          "2013-02-06T00:00:00",
          "2013-02-07T00:00:00",
          "2013-02-08T00:00:00",
          "2013-02-09T00:00:00",
          "2013-02-10T00:00:00",
          "2013-02-11T00:00:00",
          "2013-02-12T00:00:00",
          "2013-02-13T00:00:00",
          "2013-02-14T00:00:00",
          "2013-02-15T00:00:00",
          "2013-02-16T00:00:00",
          "2013-02-17T00:00:00",
          "2013-02-18T00:00:00",
          "2013-02-19T00:00:00",
          "2013-02-20T00:00:00",
          "2013-02-21T00:00:00",
          "2013-02-22T00:00:00"
         ],
         "y": [
          100.92651047400719,
          101.16419850406186,
          101.70963421761398,
          102.93499475811892,
          103.97198807820824,
          103.4690560922278,
          104.01133870251276,
          103.95612127330314,
          103.92708486560018,
          104.17752601012262,
          104.2831459602703,
          105.10637761459387,
          105.55286617150014,
          105.64752508939439,
          105.92053090195503,
          106.13308487340174,
          106.99318360334445,
          106.90630926460668,
          107.10930179027356,
          106.65986032591618,
          105.27312527008267,
          105.66096777336062,
          106.1671870875308,
          105.78358237874677,
          107.0741792660536,
          106.29079893723869,
          106.34390434859633,
          106.26754269608621,
          107.15040796583611,
          108.00479187632945,
          108.12045534038795,
          108.36262442743534,
          107.88891963700289,
          106.80522697204957,
          106.6388892534229,
          106.75387216791803,
          107.47068850085768,
          108.17653200989643,
          107.9858048402839,
          107.84334018640251,
          107.28169841143172,
          106.51592512843439,
          105.59747048237087,
          106.70770038418813,
          106.4514637709342,
          106.23558926962124,
          105.56953563326216,
          106.02711111339924,
          105.163644900837,
          105.07409099388838,
          104.61056121027082,
          104.84965954255472,
          104.59725415596668,
          103.98069343216332,
          103.99243742340869,
          104.25270085862262,
          104.31610841362505,
          104.50839331765978,
          104.1895078476462,
          104.01917933438219,
          103.68111188072876,
          103.513339718062,
          103.10105712923058,
          102.20135451537567,
          102.32282713527054,
          102.13470249318945,
          101.29430282372473,
          101.56610463967068,
          101.11179556590137,
          101.16558556536881,
          101.57836678501977,
          101.67334582180165,
          102.30742296182369,
          101.67554873576424,
          101.91616469165803,
          101.57837364126183,
          101.14330881817328,
          100.86393843452174,
          100.72599859040383,
          100.78180675859308,
          100.19584631138865,
          100.69503756320756,
          100.96675168043386,
          100.18516057706034,
          100.993980928186,
          102.02653053591035,
          102.68394789726936,
          102.61410846166359,
          102.06785357959542,
          102.65878888249465,
          102.46929870376877,
          103.15311447339776,
          103.29237569987232,
          103.84814610817861,
          104.06888672722981,
          104.48121382590314,
          104.51414814756265,
          105.5219762775339,
          105.61949925032812,
          105.86925361494157,
          106.94452500771989,
          106.22127794650555,
          105.54555260112328,
          106.10942867605505,
          105.48809520311124,
          106.59318826889776,
          106.39062776420512,
          106.00328415823637,
          107.10219485275833,
          107.96249090036454,
          109.05013304856912,
          109.59642754007746,
          109.1324818247893,
          110.25640931916001,
          110.13069559081241,
          110.62247848779609,
          111.20060327575627,
          111.13944674011289,
          111.52584571770959,
          112.09401343497012,
          112.34406233393995,
          111.72927590971673,
          111.93274790447303,
          112.74096376354112,
          112.36156288287236,
          112.30292390117349,
          112.07689449894733,
          113.19515888996547,
          113.62328088875631,
          113.8952199867596,
          113.46722897427574,
          113.8171856727944,
          113.44616381001956,
          113.49457977796114,
          113.14737335113279,
          113.57777198594097,
          113.95031301579507,
          113.85592040230905,
          114.12158165167772,
          113.5008295612824,
          112.64870160729194,
          112.93715911919737,
          113.0650358073006,
          113.4705580528375,
          114.92304522557187,
          115.52197078539857,
          115.00191543588633,
          115.70557378039554,
          114.94221587806477,
          114.6950246375156,
          114.68395797145237,
          115.74595717412018,
          115.32618086012023,
          114.85886696121614,
          114.82964658815582,
          114.46181942942574,
          115.16796491286007,
          114.54938393412407,
          113.89390427267583,
          113.6630882227597,
          113.39703808983006,
          114.57654545411361,
          115.17664055708441,
          115.25936603524755,
          114.55312117257476,
          115.0898641305407,
          114.51941926517945,
          113.62785017803614,
          114.3655523037558,
          114.58502959701269,
          115.16797076937084,
          115.39006480772196,
          115.93828598499589,
          115.57443153083351,
          114.98112846794157,
          115.42161683953785,
          114.9677569006583,
          114.58386832587153,
          114.3410654675118,
          114.38128112610408,
          114.1995134379326,
          113.41107841817231,
          113.05953332895183,
          111.78203616377841,
          112.17720930733064,
          111.27054525067778,
          110.65875093590796,
          110.71774693586183,
          110.31920078393595,
          111.24167945490152,
          110.52108957217554,
          110.70430985323674,
          110.7103881091386,
          110.06500756172277,
          110.39525224237772,
          110.32500047279947,
          110.79988608772476,
          111.30690447488601,
          112.60216464557375,
          113.4212277834536,
          113.23199451296617,
          113.11981481138709,
          113.80163031318705,
          114.22187553989814,
          114.63460342545187,
          113.69922144117275,
          113.71435550228064,
          113.30593012778122,
          113.50140588770029,
          113.47271009253583,
          114.04362469317888,
          114.26264881509726,
          114.76320557558167,
          114.51350498124945,
          113.97914378977505,
          113.76467050342526,
          113.78415908553892,
          114.03960354980379,
          115.42462330165175,
          115.42916581538181,
          114.88362534832942,
          114.70586399080511,
          114.4579774614023,
          114.77632111731218,
          113.88511807486834,
          113.95244487096593,
          114.07540756638974,
          114.24369172233521,
          113.9171381156303,
          113.80514677515501,
          112.99042106924185,
          112.72872273379406,
          112.43850484789688,
          112.71266895497882,
          112.06259423800797,
          112.55049458071204,
          113.46284028802016,
          112.27079877401431,
          112.55056071925462,
          112.97896955875326,
          112.63240368517118,
          112.42797477656174,
          112.37914394236775,
          112.23353053257843,
          112.0815298986316,
          111.13266811438871,
          111.83329746569355,
          112.49557139951534,
          112.04738585287339,
          111.22060850664522,
          111.55303059586524,
          111.24668792432664,
          111.35825791494236,
          111.20144553387641,
          111.63325755981894,
          112.0686273098111,
          111.67337165896292,
          110.8974996326785,
          110.01217448357453,
          110.3925188690303,
          109.73707727208217,
          109.47518926442675,
          109.1628377811803,
          109.1612497687994,
          108.08993028296547,
          108.22482484687094,
          108.54989679835339,
          108.62835718509463,
          108.48017676554356,
          108.56368232516319,
          108.81872438123406,
          107.2806831831193,
          108.41152146524466,
          108.66111991407963,
          108.31932054598343,
          108.12629157314164,
          108.43397485920225,
          108.3963855615405,
          107.27961197721734,
          108.47199648869493,
          108.43754784676807,
          109.04581744704514,
          108.68028230929694,
          109.58525371646672,
          109.7779945239286,
          110.15664496023174,
          109.58484598168288,
          110.30962969813093,
          110.73698256165902,
          111.52225588292637,
          111.18559301335121,
          110.93520404170985,
          112.30870895145625,
          111.71711664824637,
          111.66680281449075,
          112.36172924533628,
          112.44841367912515,
          112.82100328079521,
          112.61495022000983,
          112.8624027474554,
          112.12330098535341,
          113.12892878046468,
          113.08849395473413,
          112.71640276973484,
          113.13921728276144,
          112.8964139487354,
          112.14083003262316,
          111.38304777792757,
          111.81687116593626,
          111.75270957444016,
          111.7036925852926,
          112.36409767576767,
          111.73318041569884,
          111.33615071151912,
          111.14127459907368,
          111.22505589990493,
          111.2294829757879,
          111.09169175039963,
          111.08481447622853,
          111.05141442042587,
          110.6632135517222,
          110.22254211234686,
          110.40957661151405,
          109.92512521108699,
          109.29045764177808,
          109.1405717562492,
          109.07903300944287,
          110.40231396316673,
          110.02495479598949,
          110.59764908787658,
          111.05942290211217,
          110.39997218496609,
          110.87602821477334,
          110.22058464400146,
          108.72718148370704,
          109.10076759609815,
          108.13196995276088,
          108.415403727559,
          108.05652306999029,
          109.02648560317758,
          109.66576823399257,
          109.43461498370803,
          109.07017841393365,
          108.40829453292233,
          108.1868407186555,
          108.05650853452553,
          107.87875714132127,
          107.99527730582004,
          108.3506011012568,
          108.57710214983169,
          108.17235959310388,
          107.39024964881195,
          108.18723944319811,
          107.82604838450858,
          107.48694039188737,
          107.22236517509715,
          106.22182361909431,
          105.98430468305982,
          105.74638707730743,
          106.11751935634474,
          106.53344289988162,
          106.56327517663071,
          107.11156011577769,
          107.33003391884463,
          107.34917128826014,
          107.46749280273906,
          107.38837637930776,
          107.1948229122234,
          107.072751033524,
          106.4708844502695,
          106.65485670024466,
          106.13015485045543,
          106.62590890871432,
          106.51466096177053,
          106.56995995806851,
          106.87326763864395,
          107.2612270087953,
          106.41178207103674,
          106.32440959352319,
          106.8426005191601,
          105.92585021251051,
          106.16816456951565,
          104.95088757380404,
          104.41852710433513,
          104.46680406370731,
          103.59285305385333,
          103.08731790805099,
          102.32376080805683,
          103.23610204148113,
          103.35167290519445,
          103.68563015426082,
          103.59195425990275,
          103.42763627682456,
          102.58395801055431,
          102.45422538042858,
          102.07372210484822,
          102.55926320329627,
          103.19978312165736,
          104.0211541183979,
          104.51302344471995,
          104.2135550227601,
          103.63432359884648,
          104.07761977677255,
          104.29880804622557,
          103.36581597273391,
          103.5850522950404,
          104.05416818795807,
          104.11332276001008,
          104.03972144367674,
          103.62832081756375,
          102.87436283045737,
          103.3325769046463,
          103.19257630624547,
          103.09352935469079,
          104.05874028549893,
          104.4589727056283,
          104.68892478052503,
          104.79397747068093,
          105.65753842410288
         ],
         "z": [
          100.90305260168549,
          101.42097232811646,
          101.75663544562379,
          100.67462146599276,
          100.76598392239534,
          100.72367877031152,
          100.79939707824535,
          101.32395743655249,
          99.90903819476982,
          99.63804510112185,
          99.80471250159883,
          99.58733641412802,
          98.87809383086237,
          99.35416809651913,
          99.52398587059791,
          99.04576625574933,
          99.23474090343667,
          99.68783755012718,
          99.71654618503014,
          100.16083472122112,
          100.22790656756355,
          100.04706042904536,
          99.46835122221567,
          99.4495563479014,
          99.5765385009955,
          100.05956893419592,
          100.02540376007047,
          100.29098687183546,
          99.8124696432,
          99.43078946717925,
          99.39929079509108,
          98.87848444091237,
          99.3292597030591,
          99.5959699790435,
          99.76736096427827,
          99.97030046464064,
          101.05848561907575,
          100.83731460985726,
          99.70936796178142,
          99.83929540379629,
          99.83886801241286,
          99.59502927339695,
          99.11246528192999,
          98.9108969566878,
          99.03048415348458,
          98.7962132981615,
          100.07619374194734,
          99.60084022421165,
          99.2145290099018,
          98.06003155884319,
          98.2146009231919,
          97.20998294665371,
          96.96144471081303,
          96.84700774646616,
          96.51344425296475,
          97.42018225543028,
          97.95344908624119,
          98.65698778338691,
          98.22846704664138,
          98.83547643906196,
          99.11789252373134,
          99.54433783686525,
          100.10757127312155,
          99.65902304480748,
          99.46407621200929,
          99.93964488636817,
          98.58737178301548,
          99.3963224316725,
          99.71011815655227,
          99.71224540999887,
          99.85324695392072,
          99.34288598951973,
          99.18711677827709,
          99.78528060223412,
          100.49088255628193,
          101.94394539288265,
          101.9310805323741,
          101.60718690595516,
          101.36077015140263,
          100.84897452377817,
          100.83417603623697,
          101.06243975352993,
          101.07065198579328,
          101.67808168899688,
          101.58009055056046,
          101.42213512404585,
          101.1407156020703,
          100.30721724776457,
          99.51432960615618,
          98.92849325112658,
          99.62981078541632,
          100.12326832010427,
          100.87182803412611,
          100.19779347084913,
          99.1976666309814,
          98.88168146638414,
          98.99837662573024,
          99.28265406989709,
          99.85408146571059,
          100.02862750524588,
          100.97039428016427,
          100.87920810632707,
          100.42493643449215,
          99.57204278582927,
          99.1361513431922,
          99.28755496147123,
          98.8530386760832,
          99.36419555088116,
          100.12663664539454,
          98.91964462128927,
          99.39336692390685,
          98.26196534475231,
          98.49406915931074,
          99.1526140349754,
          99.21205807447976,
          98.57617826103305,
          98.30051620703375,
          98.19169827562921,
          98.12372408076136,
          98.04521055290348,
          98.0144103678796,
          98.14940492921835,
          97.55659992002035,
          97.45860448294407,
          98.26082725035138,
          98.08895759388533,
          97.8870928861167,
          98.46604609956793,
          97.18269521057282,
          97.81022987939359,
          97.51301530449564,
          97.62202658760559,
          97.69662278010524,
          98.20473955487645,
          98.09297662597697,
          97.77132487531858,
          98.46259504845453,
          97.27841536917732,
          97.31408231122862,
          96.6558801793464,
          96.29687042729958,
          97.34008938417091,
          97.34273021344151,
          97.46741806935951,
          96.58895824280805,
          96.24656334416431,
          96.3705966409849,
          96.5746306850572,
          96.91181436639656,
          96.94141386759306,
          97.2341766866298,
          97.49049661745892,
          96.58749806134256,
          96.63133356803426,
          97.04530315343045,
          97.37038137131887,
          97.2106327272869,
          96.82725967240799,
          96.28786649476159,
          96.24696487629984,
          96.84400058218495,
          95.88578133127191,
          95.58042812144832,
          95.03730238056379,
          95.45295370383771,
          95.2015138883091,
          94.99228038088113,
          94.9092994653777,
          95.15531755805068,
          94.98503441239602,
          93.50869410989931,
          93.79908675509311,
          94.03910494110394,
          93.95568374489245,
          93.44903090092583,
          93.64542169204431,
          93.85569598074954,
          93.64971640397664,
          93.56801497918381,
          93.13835077270353,
          93.07565364589107,
          92.34829908463048,
          92.5740903508439,
          92.14214381794848,
          92.2809290424814,
          91.62896336767783,
          91.37051875684513,
          91.34152569338822,
          90.5754915765206,
          90.65362540927504,
          90.49766275156375,
          89.70040451402798,
          89.11451369169828,
          89.4201500395064,
          89.86317896522264,
          89.82460512002781,
          90.03831494218872,
          90.16720924113693,
          90.3462369510247,
          90.97936760537068,
          90.28889316166814,
          90.632353961333,
          90.47507444284987,
          90.39258528895667,
          90.27335622644688,
          90.11993256762909,
          89.56737188661853,
          89.67660040382277,
          90.48696583244354,
          90.48396272281204,
          90.50686104678697,
          90.20571122418414,
          90.17379472058556,
          90.41735669400072,
          90.26600283437253,
          90.07554341034924,
          90.28914350140238,
          89.88024570100794,
          90.02239787339386,
          90.4328342560431,
          91.10179272878925,
          91.08245913545932,
          91.75989223407711,
          92.28147861078794,
          91.82600543642462,
          91.26692415818832,
          91.14524862729328,
          91.66071784069197,
          91.64993534900208,
          91.38636715759493,
          92.15497736201138,
          92.31733209977926,
          91.22784200866636,
          91.40302023250256,
          91.67571954723056,
          91.80780505911812,
          92.04786196317963,
          92.03944528929924,
          91.43103320952203,
          91.27776225165299,
          90.85127189361977,
          90.43286109789015,
          89.86105779080609,
          90.09733241698619,
          90.16692108351123,
          89.9793231768941,
          89.69772833772598,
          89.71009117160857,
          90.2411520716456,
          89.32378572378458,
          89.52325199163351,
          89.29144547070025,
          88.43902814543894,
          87.56676456221443,
          87.17257525841819,
          87.29538913531862,
          87.49772980582904,
          87.09192205599278,
          87.57901243382852,
          88.25593994768026,
          88.46190542519193,
          88.211773392004,
          88.75494674809369,
          89.12934590566336,
          89.55775372386094,
          89.27415238610892,
          87.98384799551074,
          88.98609193175876,
          88.2627980652666,
          88.26926610058071,
          89.39804108514713,
          89.57598825908195,
          90.04506077811702,
          89.3638270347807,
          88.56020746113269,
          88.33690234728044,
          88.86520245497948,
          88.7275756747205,
          88.38273557952137,
          88.49728703385009,
          89.02244388024127,
          88.37548907763419,
          87.84081240130661,
          87.50214836879078,
          88.02724577386265,
          88.15832062427917,
          89.16971334282492,
          89.63065988836476,
          89.63754349699595,
          90.25584249870047,
          90.37921424624967,
          90.0701906679324,
          90.41448057486708,
          90.10938520775997,
          89.99610616397173,
          90.64658937263455,
          90.62218836910712,
          90.2659711425847,
          90.07055148047752,
          90.57655936195341,
          90.33880027961794,
          90.17973797153057,
          89.96288859248519,
          90.07287553315459,
          89.9149306578773,
          89.18830316329476,
          88.79869926344259,
          88.38971924271075,
          88.98928767082495,
          89.39143967131838,
          89.68965057942783,
          89.47628788148239,
          89.11868090698036,
          88.90567285216699,
          88.44111895584012,
          89.62664196744493,
          88.60376715592079,
          88.88854486046566,
          88.3165861154562,
          88.29139893000104,
          87.85939089163854,
          87.34286479961871,
          86.84636932824442,
          87.66967082031599,
          87.63154385084958,
          87.30416875561839,
          87.5810049619833,
          87.60854301374955,
          87.96184307268449,
          87.14960142661936,
          87.31076018331733,
          87.68699729048673,
          86.95120338089441,
          87.17787004207008,
          87.97726316919949,
          87.99332911328952,
          88.39501543454882,
          88.72853950635525,
          88.42396519835822,
          88.46537269548446,
          87.7664446956652,
          87.5824044402126,
          87.72697222302861,
          88.0821620701064,
          88.11642792944784,
          88.47175300220945,
          87.98599182041022,
          87.96211581196553,
          87.99388171005023,
          88.87200632216586,
          88.79566368099002,
          88.58736468570558,
          88.62031627145069,
          88.21846485975418,
          88.33039585580944,
          88.18492689074805,
          87.38566769600418,
          87.3816466588224,
          87.25941208777766,
          86.54040480698778,
          86.53255571673569,
          87.23165847491929,
          87.49249037252793,
          87.79568803422447,
          87.20479618620445,
          87.44524491804954,
          87.53591724421256,
          87.80121236408985,
          88.01832933735732,
          87.41758252523114,
          87.42141420657215,
          87.09839003720316,
          87.09825371607336,
          86.71314663608068,
          87.33290941431183,
          86.964234505229,
          86.57902237845056,
          86.63533530941083,
          86.17128252443344,
          86.00256415196017,
          85.65249370397191,
          86.30920074791226,
          86.6870627409675,
          86.68358006629926,
          86.52898749036059,
          86.97831672711285,
          87.18545627546365,
          87.43552090999286,
          87.44630598012607,
          86.70045956189969,
          86.67205273689764,
          86.45360483079263,
          86.76822869509303,
          87.25114648936034,
          86.97417314405311,
          87.21010447211319,
          88.0280604255847,
          87.74414277187654,
          88.54212735428113,
          88.17129162689722,
          88.20483019258316,
          88.22264979426727,
          88.25091998627819,
          87.88815345199241,
          87.639744341115,
          87.35707567127443,
          87.52930643113682,
          87.70328553142592,
          88.75296615740086,
          89.41465896239906,
          89.19985893590717,
          89.37474492503229,
          89.86525153365638,
          89.9030262399994,
          89.89369375997514,
          89.9413417012475,
          90.37359065549568,
          89.99709114836985,
          89.86737987927317
         ]
        }
       ],
       "layout": {
        "autosize": false,
        "height": 700,
        "scene": {
         "aspectmode": "manual",
         "aspectratio": {
          "x": 1,
          "y": 1,
          "z": 0.7
         },
         "camera": {
          "eye": {
           "x": 0,
           "y": 1.0707,
           "z": 1
          },
          "up": {
           "x": 0,
           "y": 0,
           "z": 1
          }
         }
        },
        "template": {
         "data": {
          "bar": [
           {
            "error_x": {
             "color": "#2a3f5f"
            },
            "error_y": {
             "color": "#2a3f5f"
            },
            "marker": {
             "line": {
              "color": "#E5ECF6",
              "width": 0.5
             },
             "pattern": {
              "fillmode": "overlay",
              "size": 10,
              "solidity": 0.2
             }
            },
            "type": "bar"
           }
          ],
          "barpolar": [
           {
            "marker": {
             "line": {
              "color": "#E5ECF6",
              "width": 0.5
             },
             "pattern": {
              "fillmode": "overlay",
              "size": 10,
              "solidity": 0.2
             }
            },
            "type": "barpolar"
           }
          ],
          "carpet": [
           {
            "aaxis": {
             "endlinecolor": "#2a3f5f",
             "gridcolor": "white",
             "linecolor": "white",
             "minorgridcolor": "white",
             "startlinecolor": "#2a3f5f"
            },
            "baxis": {
             "endlinecolor": "#2a3f5f",
             "gridcolor": "white",
             "linecolor": "white",
             "minorgridcolor": "white",
             "startlinecolor": "#2a3f5f"
            },
            "type": "carpet"
           }
          ],
          "choropleth": [
           {
            "colorbar": {
             "outlinewidth": 0,
             "ticks": ""
            },
            "type": "choropleth"
           }
          ],
          "contour": [
           {
            "colorbar": {
             "outlinewidth": 0,
             "ticks": ""
            },
            "colorscale": [
             [
              0,
              "#0d0887"
             ],
             [
              0.1111111111111111,
              "#46039f"
             ],
             [
              0.2222222222222222,
              "#7201a8"
             ],
             [
              0.3333333333333333,
              "#9c179e"
             ],
             [
              0.4444444444444444,
              "#bd3786"
             ],
             [
              0.5555555555555556,
              "#d8576b"
             ],
             [
              0.6666666666666666,
              "#ed7953"
             ],
             [
              0.7777777777777778,
              "#fb9f3a"
             ],
             [
              0.8888888888888888,
              "#fdca26"
             ],
             [
              1,
              "#f0f921"
             ]
            ],
            "type": "contour"
           }
          ],
          "contourcarpet": [
           {
            "colorbar": {
             "outlinewidth": 0,
             "ticks": ""
            },
            "type": "contourcarpet"
           }
          ],
          "heatmap": [
           {
            "colorbar": {
             "outlinewidth": 0,
             "ticks": ""
            },
            "colorscale": [
             [
              0,
              "#0d0887"
             ],
             [
              0.1111111111111111,
              "#46039f"
             ],
             [
              0.2222222222222222,
              "#7201a8"
             ],
             [
              0.3333333333333333,
              "#9c179e"
             ],
             [
              0.4444444444444444,
              "#bd3786"
             ],
             [
              0.5555555555555556,
              "#d8576b"
             ],
             [
              0.6666666666666666,
              "#ed7953"
             ],
             [
              0.7777777777777778,
              "#fb9f3a"
             ],
             [
              0.8888888888888888,
              "#fdca26"
             ],
             [
              1,
              "#f0f921"
             ]
            ],
            "type": "heatmap"
           }
          ],
          "heatmapgl": [
           {
            "colorbar": {
             "outlinewidth": 0,
             "ticks": ""
            },
            "colorscale": [
             [
              0,
              "#0d0887"
             ],
             [
              0.1111111111111111,
              "#46039f"
             ],
             [
              0.2222222222222222,
              "#7201a8"
             ],
             [
              0.3333333333333333,
              "#9c179e"
             ],
             [
              0.4444444444444444,
              "#bd3786"
             ],
             [
              0.5555555555555556,
              "#d8576b"
             ],
             [
              0.6666666666666666,
              "#ed7953"
             ],
             [
              0.7777777777777778,
              "#fb9f3a"
             ],
             [
              0.8888888888888888,
              "#fdca26"
             ],
             [
              1,
              "#f0f921"
             ]
            ],
            "type": "heatmapgl"
           }
          ],
          "histogram": [
           {
            "marker": {
             "pattern": {
              "fillmode": "overlay",
              "size": 10,
              "solidity": 0.2
             }
            },
            "type": "histogram"
           }
          ],
          "histogram2d": [
           {
            "colorbar": {
             "outlinewidth": 0,
             "ticks": ""
            },
            "colorscale": [
             [
              0,
              "#0d0887"
             ],
             [
              0.1111111111111111,
              "#46039f"
             ],
             [
              0.2222222222222222,
              "#7201a8"
             ],
             [
              0.3333333333333333,
              "#9c179e"
             ],
             [
              0.4444444444444444,
              "#bd3786"
             ],
             [
              0.5555555555555556,
              "#d8576b"
             ],
             [
              0.6666666666666666,
              "#ed7953"
             ],
             [
              0.7777777777777778,
              "#fb9f3a"
             ],
             [
              0.8888888888888888,
              "#fdca26"
             ],
             [
              1,
              "#f0f921"
             ]
            ],
            "type": "histogram2d"
           }
          ],
          "histogram2dcontour": [
           {
            "colorbar": {
             "outlinewidth": 0,
             "ticks": ""
            },
            "colorscale": [
             [
              0,
              "#0d0887"
             ],
             [
              0.1111111111111111,
              "#46039f"
             ],
             [
              0.2222222222222222,
              "#7201a8"
             ],
             [
              0.3333333333333333,
              "#9c179e"
             ],
             [
              0.4444444444444444,
              "#bd3786"
             ],
             [
              0.5555555555555556,
              "#d8576b"
             ],
             [
              0.6666666666666666,
              "#ed7953"
             ],
             [
              0.7777777777777778,
              "#fb9f3a"
             ],
             [
              0.8888888888888888,
              "#fdca26"
             ],
             [
              1,
              "#f0f921"
             ]
            ],
            "type": "histogram2dcontour"
           }
          ],
          "mesh3d": [
           {
            "colorbar": {
             "outlinewidth": 0,
             "ticks": ""
            },
            "type": "mesh3d"
           }
          ],
          "parcoords": [
           {
            "line": {
             "colorbar": {
              "outlinewidth": 0,
              "ticks": ""
             }
            },
            "type": "parcoords"
           }
          ],
          "pie": [
           {
            "automargin": true,
            "type": "pie"
           }
          ],
          "scatter": [
           {
            "marker": {
             "colorbar": {
              "outlinewidth": 0,
              "ticks": ""
             }
            },
            "type": "scatter"
           }
          ],
          "scatter3d": [
           {
            "line": {
             "colorbar": {
              "outlinewidth": 0,
              "ticks": ""
             }
            },
            "marker": {
             "colorbar": {
              "outlinewidth": 0,
              "ticks": ""
             }
            },
            "type": "scatter3d"
           }
          ],
          "scattercarpet": [
           {
            "marker": {
             "colorbar": {
              "outlinewidth": 0,
              "ticks": ""
             }
            },
            "type": "scattercarpet"
           }
          ],
          "scattergeo": [
           {
            "marker": {
             "colorbar": {
              "outlinewidth": 0,
              "ticks": ""
             }
            },
            "type": "scattergeo"
           }
          ],
          "scattergl": [
           {
            "marker": {
             "colorbar": {
              "outlinewidth": 0,
              "ticks": ""
             }
            },
            "type": "scattergl"
           }
          ],
          "scattermapbox": [
           {
            "marker": {
             "colorbar": {
              "outlinewidth": 0,
              "ticks": ""
             }
            },
            "type": "scattermapbox"
           }
          ],
          "scatterpolar": [
           {
            "marker": {
             "colorbar": {
              "outlinewidth": 0,
              "ticks": ""
             }
            },
            "type": "scatterpolar"
           }
          ],
          "scatterpolargl": [
           {
            "marker": {
             "colorbar": {
              "outlinewidth": 0,
              "ticks": ""
             }
            },
            "type": "scatterpolargl"
           }
          ],
          "scatterternary": [
           {
            "marker": {
             "colorbar": {
              "outlinewidth": 0,
              "ticks": ""
             }
            },
            "type": "scatterternary"
           }
          ],
          "surface": [
           {
            "colorbar": {
             "outlinewidth": 0,
             "ticks": ""
            },
            "colorscale": [
             [
              0,
              "#0d0887"
             ],
             [
              0.1111111111111111,
              "#46039f"
             ],
             [
              0.2222222222222222,
              "#7201a8"
             ],
             [
              0.3333333333333333,
              "#9c179e"
             ],
             [
              0.4444444444444444,
              "#bd3786"
             ],
             [
              0.5555555555555556,
              "#d8576b"
             ],
             [
              0.6666666666666666,
              "#ed7953"
             ],
             [
              0.7777777777777778,
              "#fb9f3a"
             ],
             [
              0.8888888888888888,
              "#fdca26"
             ],
             [
              1,
              "#f0f921"
             ]
            ],
            "type": "surface"
           }
          ],
          "table": [
           {
            "cells": {
             "fill": {
              "color": "#EBF0F8"
             },
             "line": {
              "color": "white"
             }
            },
            "header": {
             "fill": {
              "color": "#C8D4E3"
             },
             "line": {
              "color": "white"
             }
            },
            "type": "table"
           }
          ]
         },
         "layout": {
          "annotationdefaults": {
           "arrowcolor": "#2a3f5f",
           "arrowhead": 0,
           "arrowwidth": 1
          },
          "autotypenumbers": "strict",
          "coloraxis": {
           "colorbar": {
            "outlinewidth": 0,
            "ticks": ""
           }
          },
          "colorscale": {
           "diverging": [
            [
             0,
             "#8e0152"
            ],
            [
             0.1,
             "#c51b7d"
            ],
            [
             0.2,
             "#de77ae"
            ],
            [
             0.3,
             "#f1b6da"
            ],
            [
             0.4,
             "#fde0ef"
            ],
            [
             0.5,
             "#f7f7f7"
            ],
            [
             0.6,
             "#e6f5d0"
            ],
            [
             0.7,
             "#b8e186"
            ],
            [
             0.8,
             "#7fbc41"
            ],
            [
             0.9,
             "#4d9221"
            ],
            [
             1,
             "#276419"
            ]
           ],
           "sequential": [
            [
             0,
             "#0d0887"
            ],
            [
             0.1111111111111111,
             "#46039f"
            ],
            [
             0.2222222222222222,
             "#7201a8"
            ],
            [
             0.3333333333333333,
             "#9c179e"
            ],
            [
             0.4444444444444444,
             "#bd3786"
            ],
            [
             0.5555555555555556,
             "#d8576b"
            ],
            [
             0.6666666666666666,
             "#ed7953"
            ],
            [
             0.7777777777777778,
             "#fb9f3a"
            ],
            [
             0.8888888888888888,
             "#fdca26"
            ],
            [
             1,
             "#f0f921"
            ]
           ],
           "sequentialminus": [
            [
             0,
             "#0d0887"
            ],
            [
             0.1111111111111111,
             "#46039f"
            ],
            [
             0.2222222222222222,
             "#7201a8"
            ],
            [
             0.3333333333333333,
             "#9c179e"
            ],
            [
             0.4444444444444444,
             "#bd3786"
            ],
            [
             0.5555555555555556,
             "#d8576b"
            ],
            [
             0.6666666666666666,
             "#ed7953"
            ],
            [
             0.7777777777777778,
             "#fb9f3a"
            ],
            [
             0.8888888888888888,
             "#fdca26"
            ],
            [
             1,
             "#f0f921"
            ]
           ]
          },
          "colorway": [
           "#636efa",
           "#EF553B",
           "#00cc96",
           "#ab63fa",
           "#FFA15A",
           "#19d3f3",
           "#FF6692",
           "#B6E880",
           "#FF97FF",
           "#FECB52"
          ],
          "font": {
           "color": "#2a3f5f"
          },
          "geo": {
           "bgcolor": "white",
           "lakecolor": "white",
           "landcolor": "#E5ECF6",
           "showlakes": true,
           "showland": true,
           "subunitcolor": "white"
          },
          "hoverlabel": {
           "align": "left"
          },
          "hovermode": "closest",
          "mapbox": {
           "style": "light"
          },
          "paper_bgcolor": "white",
          "plot_bgcolor": "#E5ECF6",
          "polar": {
           "angularaxis": {
            "gridcolor": "white",
            "linecolor": "white",
            "ticks": ""
           },
           "bgcolor": "#E5ECF6",
           "radialaxis": {
            "gridcolor": "white",
            "linecolor": "white",
            "ticks": ""
           }
          },
          "scene": {
           "xaxis": {
            "backgroundcolor": "#E5ECF6",
            "gridcolor": "white",
            "gridwidth": 2,
            "linecolor": "white",
            "showbackground": true,
            "ticks": "",
            "zerolinecolor": "white"
           },
           "yaxis": {
            "backgroundcolor": "#E5ECF6",
            "gridcolor": "white",
            "gridwidth": 2,
            "linecolor": "white",
            "showbackground": true,
            "ticks": "",
            "zerolinecolor": "white"
           },
           "zaxis": {
            "backgroundcolor": "#E5ECF6",
            "gridcolor": "white",
            "gridwidth": 2,
            "linecolor": "white",
            "showbackground": true,
            "ticks": "",
            "zerolinecolor": "white"
           }
          },
          "shapedefaults": {
           "line": {
            "color": "#2a3f5f"
           }
          },
          "ternary": {
           "aaxis": {
            "gridcolor": "white",
            "linecolor": "white",
            "ticks": ""
           },
           "baxis": {
            "gridcolor": "white",
            "linecolor": "white",
            "ticks": ""
           },
           "bgcolor": "#E5ECF6",
           "caxis": {
            "gridcolor": "white",
            "linecolor": "white",
            "ticks": ""
           }
          },
          "title": {
           "x": 0.05
          },
          "xaxis": {
           "automargin": true,
           "gridcolor": "white",
           "linecolor": "white",
           "ticks": "",
           "title": {
            "standoff": 15
           },
           "zerolinecolor": "white",
           "zerolinewidth": 2
          },
          "yaxis": {
           "automargin": true,
           "gridcolor": "white",
           "linecolor": "white",
           "ticks": "",
           "title": {
            "standoff": 15
           },
           "zerolinecolor": "white",
           "zerolinewidth": 2
          }
         }
        },
        "width": 800
       }
      },
      "text/html": [
       "<div>                            <div id=\"b49d5a95-afaf-4e7a-bfc7-f3d79432c3cd\" class=\"plotly-graph-div\" style=\"height:700px; width:800px;\"></div>            <script type=\"text/javascript\">                require([\"plotly\"], function(Plotly) {                    window.PLOTLYENV=window.PLOTLYENV || {};                                    if (document.getElementById(\"b49d5a95-afaf-4e7a-bfc7-f3d79432c3cd\")) {                    Plotly.newPlot(                        \"b49d5a95-afaf-4e7a-bfc7-f3d79432c3cd\",                        [{\"line\":{\"color\":\"darkblue\",\"width\":2},\"marker\":{\"color\":[100.90305260168549,101.42097232811646,101.75663544562379,100.67462146599276,100.76598392239534,100.72367877031152,100.79939707824535,101.32395743655249,99.90903819476982,99.63804510112185,99.80471250159883,99.58733641412802,98.87809383086237,99.35416809651913,99.52398587059791,99.04576625574933,99.23474090343667,99.68783755012718,99.71654618503014,100.16083472122112,100.22790656756355,100.04706042904536,99.46835122221567,99.4495563479014,99.5765385009955,100.05956893419592,100.02540376007047,100.29098687183546,99.8124696432,99.43078946717925,99.39929079509108,98.87848444091237,99.3292597030591,99.5959699790435,99.76736096427827,99.97030046464064,101.05848561907575,100.83731460985726,99.70936796178142,99.83929540379629,99.83886801241286,99.59502927339695,99.11246528192999,98.9108969566878,99.03048415348458,98.7962132981615,100.07619374194734,99.60084022421165,99.2145290099018,98.06003155884319,98.2146009231919,97.20998294665371,96.96144471081303,96.84700774646616,96.51344425296475,97.42018225543028,97.95344908624119,98.65698778338691,98.22846704664138,98.83547643906196,99.11789252373134,99.54433783686525,100.10757127312155,99.65902304480748,99.46407621200929,99.93964488636817,98.58737178301548,99.3963224316725,99.71011815655227,99.71224540999887,99.85324695392072,99.34288598951973,99.18711677827709,99.78528060223412,100.49088255628193,101.94394539288265,101.9310805323741,101.60718690595516,101.36077015140263,100.84897452377817,100.83417603623697,101.06243975352993,101.07065198579328,101.67808168899688,101.58009055056046,101.42213512404585,101.1407156020703,100.30721724776457,99.51432960615618,98.92849325112658,99.62981078541632,100.12326832010427,100.87182803412611,100.19779347084913,99.1976666309814,98.88168146638414,98.99837662573024,99.28265406989709,99.85408146571059,100.02862750524588,100.97039428016427,100.87920810632707,100.42493643449215,99.57204278582927,99.1361513431922,99.28755496147123,98.8530386760832,99.36419555088116,100.12663664539454,98.91964462128927,99.39336692390685,98.26196534475231,98.49406915931074,99.1526140349754,99.21205807447976,98.57617826103305,98.30051620703375,98.19169827562921,98.12372408076136,98.04521055290348,98.0144103678796,98.14940492921835,97.55659992002035,97.45860448294407,98.26082725035138,98.08895759388533,97.8870928861167,98.46604609956793,97.18269521057282,97.81022987939359,97.51301530449564,97.62202658760559,97.69662278010524,98.20473955487645,98.09297662597697,97.77132487531858,98.46259504845453,97.27841536917732,97.31408231122862,96.6558801793464,96.29687042729958,97.34008938417091,97.34273021344151,97.46741806935951,96.58895824280805,96.24656334416431,96.3705966409849,96.5746306850572,96.91181436639656,96.94141386759306,97.2341766866298,97.49049661745892,96.58749806134256,96.63133356803426,97.04530315343045,97.37038137131887,97.2106327272869,96.82725967240799,96.28786649476159,96.24696487629984,96.84400058218495,95.88578133127191,95.58042812144832,95.03730238056379,95.45295370383771,95.2015138883091,94.99228038088113,94.9092994653777,95.15531755805068,94.98503441239602,93.50869410989931,93.79908675509311,94.03910494110394,93.95568374489245,93.44903090092583,93.64542169204431,93.85569598074954,93.64971640397664,93.56801497918381,93.13835077270353,93.07565364589107,92.34829908463048,92.5740903508439,92.14214381794848,92.2809290424814,91.62896336767783,91.37051875684513,91.34152569338822,90.5754915765206,90.65362540927504,90.49766275156375,89.70040451402798,89.11451369169828,89.4201500395064,89.86317896522264,89.82460512002781,90.03831494218872,90.16720924113693,90.3462369510247,90.97936760537068,90.28889316166814,90.632353961333,90.47507444284987,90.39258528895667,90.27335622644688,90.11993256762909,89.56737188661853,89.67660040382277,90.48696583244354,90.48396272281204,90.50686104678697,90.20571122418414,90.17379472058556,90.41735669400072,90.26600283437253,90.07554341034924,90.28914350140238,89.88024570100794,90.02239787339386,90.4328342560431,91.10179272878925,91.08245913545932,91.75989223407711,92.28147861078794,91.82600543642462,91.26692415818832,91.14524862729328,91.66071784069197,91.64993534900208,91.38636715759493,92.15497736201138,92.31733209977926,91.22784200866636,91.40302023250256,91.67571954723056,91.80780505911812,92.04786196317963,92.03944528929924,91.43103320952203,91.27776225165299,90.85127189361977,90.43286109789015,89.86105779080609,90.09733241698619,90.16692108351123,89.9793231768941,89.69772833772598,89.71009117160857,90.2411520716456,89.32378572378458,89.52325199163351,89.29144547070025,88.43902814543894,87.56676456221443,87.17257525841819,87.29538913531862,87.49772980582904,87.09192205599278,87.57901243382852,88.25593994768026,88.46190542519193,88.211773392004,88.75494674809369,89.12934590566336,89.55775372386094,89.27415238610892,87.98384799551074,88.98609193175876,88.2627980652666,88.26926610058071,89.39804108514713,89.57598825908195,90.04506077811702,89.3638270347807,88.56020746113269,88.33690234728044,88.86520245497948,88.7275756747205,88.38273557952137,88.49728703385009,89.02244388024127,88.37548907763419,87.84081240130661,87.50214836879078,88.02724577386265,88.15832062427917,89.16971334282492,89.63065988836476,89.63754349699595,90.25584249870047,90.37921424624967,90.0701906679324,90.41448057486708,90.10938520775997,89.99610616397173,90.64658937263455,90.62218836910712,90.2659711425847,90.07055148047752,90.57655936195341,90.33880027961794,90.17973797153057,89.96288859248519,90.07287553315459,89.9149306578773,89.18830316329476,88.79869926344259,88.38971924271075,88.98928767082495,89.39143967131838,89.68965057942783,89.47628788148239,89.11868090698036,88.90567285216699,88.44111895584012,89.62664196744493,88.60376715592079,88.88854486046566,88.3165861154562,88.29139893000104,87.85939089163854,87.34286479961871,86.84636932824442,87.66967082031599,87.63154385084958,87.30416875561839,87.5810049619833,87.60854301374955,87.96184307268449,87.14960142661936,87.31076018331733,87.68699729048673,86.95120338089441,87.17787004207008,87.97726316919949,87.99332911328952,88.39501543454882,88.72853950635525,88.42396519835822,88.46537269548446,87.7664446956652,87.5824044402126,87.72697222302861,88.0821620701064,88.11642792944784,88.47175300220945,87.98599182041022,87.96211581196553,87.99388171005023,88.87200632216586,88.79566368099002,88.58736468570558,88.62031627145069,88.21846485975418,88.33039585580944,88.18492689074805,87.38566769600418,87.3816466588224,87.25941208777766,86.54040480698778,86.53255571673569,87.23165847491929,87.49249037252793,87.79568803422447,87.20479618620445,87.44524491804954,87.53591724421256,87.80121236408985,88.01832933735732,87.41758252523114,87.42141420657215,87.09839003720316,87.09825371607336,86.71314663608068,87.33290941431183,86.964234505229,86.57902237845056,86.63533530941083,86.17128252443344,86.00256415196017,85.65249370397191,86.30920074791226,86.6870627409675,86.68358006629926,86.52898749036059,86.97831672711285,87.18545627546365,87.43552090999286,87.44630598012607,86.70045956189969,86.67205273689764,86.45360483079263,86.76822869509303,87.25114648936034,86.97417314405311,87.21010447211319,88.0280604255847,87.74414277187654,88.54212735428113,88.17129162689722,88.20483019258316,88.22264979426727,88.25091998627819,87.88815345199241,87.639744341115,87.35707567127443,87.52930643113682,87.70328553142592,88.75296615740086,89.41465896239906,89.19985893590717,89.37474492503229,89.86525153365638,89.9030262399994,89.89369375997514,89.9413417012475,90.37359065549568,89.99709114836985,89.86737987927317],\"colorscale\":[[0.0,\"#440154\"],[0.1111111111111111,\"#482878\"],[0.2222222222222222,\"#3e4989\"],[0.3333333333333333,\"#31688e\"],[0.4444444444444444,\"#26828e\"],[0.5555555555555556,\"#1f9e89\"],[0.6666666666666666,\"#35b779\"],[0.7777777777777778,\"#6ece58\"],[0.8888888888888888,\"#b5de2b\"],[1.0,\"#fde725\"]],\"size\":4},\"x\":[\"2012-01-01T00:00:00\",\"2012-01-02T00:00:00\",\"2012-01-03T00:00:00\",\"2012-01-04T00:00:00\",\"2012-01-05T00:00:00\",\"2012-01-06T00:00:00\",\"2012-01-07T00:00:00\",\"2012-01-08T00:00:00\",\"2012-01-09T00:00:00\",\"2012-01-10T00:00:00\",\"2012-01-11T00:00:00\",\"2012-01-12T00:00:00\",\"2012-01-13T00:00:00\",\"2012-01-14T00:00:00\",\"2012-01-15T00:00:00\",\"2012-01-16T00:00:00\",\"2012-01-17T00:00:00\",\"2012-01-18T00:00:00\",\"2012-01-19T00:00:00\",\"2012-01-20T00:00:00\",\"2012-01-21T00:00:00\",\"2012-01-22T00:00:00\",\"2012-01-23T00:00:00\",\"2012-01-24T00:00:00\",\"2012-01-25T00:00:00\",\"2012-01-26T00:00:00\",\"2012-01-27T00:00:00\",\"2012-01-28T00:00:00\",\"2012-01-29T00:00:00\",\"2012-01-30T00:00:00\",\"2012-01-31T00:00:00\",\"2012-02-01T00:00:00\",\"2012-02-02T00:00:00\",\"2012-02-03T00:00:00\",\"2012-02-04T00:00:00\",\"2012-02-05T00:00:00\",\"2012-02-06T00:00:00\",\"2012-02-07T00:00:00\",\"2012-02-08T00:00:00\",\"2012-02-09T00:00:00\",\"2012-02-10T00:00:00\",\"2012-02-11T00:00:00\",\"2012-02-12T00:00:00\",\"2012-02-13T00:00:00\",\"2012-02-14T00:00:00\",\"2012-02-15T00:00:00\",\"2012-02-16T00:00:00\",\"2012-02-17T00:00:00\",\"2012-02-18T00:00:00\",\"2012-02-19T00:00:00\",\"2012-02-20T00:00:00\",\"2012-02-21T00:00:00\",\"2012-02-22T00:00:00\",\"2012-02-23T00:00:00\",\"2012-02-24T00:00:00\",\"2012-02-25T00:00:00\",\"2012-02-26T00:00:00\",\"2012-02-27T00:00:00\",\"2012-02-28T00:00:00\",\"2012-02-29T00:00:00\",\"2012-03-01T00:00:00\",\"2012-03-02T00:00:00\",\"2012-03-03T00:00:00\",\"2012-03-04T00:00:00\",\"2012-03-05T00:00:00\",\"2012-03-06T00:00:00\",\"2012-03-07T00:00:00\",\"2012-03-08T00:00:00\",\"2012-03-09T00:00:00\",\"2012-03-10T00:00:00\",\"2012-03-11T00:00:00\",\"2012-03-12T00:00:00\",\"2012-03-13T00:00:00\",\"2012-03-14T00:00:00\",\"2012-03-15T00:00:00\",\"2012-03-16T00:00:00\",\"2012-03-17T00:00:00\",\"2012-03-18T00:00:00\",\"2012-03-19T00:00:00\",\"2012-03-20T00:00:00\",\"2012-03-21T00:00:00\",\"2012-03-22T00:00:00\",\"2012-03-23T00:00:00\",\"2012-03-24T00:00:00\",\"2012-03-25T00:00:00\",\"2012-03-26T00:00:00\",\"2012-03-27T00:00:00\",\"2012-03-28T00:00:00\",\"2012-03-29T00:00:00\",\"2012-03-30T00:00:00\",\"2012-03-31T00:00:00\",\"2012-04-01T00:00:00\",\"2012-04-02T00:00:00\",\"2012-04-03T00:00:00\",\"2012-04-04T00:00:00\",\"2012-04-05T00:00:00\",\"2012-04-06T00:00:00\",\"2012-04-07T00:00:00\",\"2012-04-08T00:00:00\",\"2012-04-09T00:00:00\",\"2012-04-10T00:00:00\",\"2012-04-11T00:00:00\",\"2012-04-12T00:00:00\",\"2012-04-13T00:00:00\",\"2012-04-14T00:00:00\",\"2012-04-15T00:00:00\",\"2012-04-16T00:00:00\",\"2012-04-17T00:00:00\",\"2012-04-18T00:00:00\",\"2012-04-19T00:00:00\",\"2012-04-20T00:00:00\",\"2012-04-21T00:00:00\",\"2012-04-22T00:00:00\",\"2012-04-23T00:00:00\",\"2012-04-24T00:00:00\",\"2012-04-25T00:00:00\",\"2012-04-26T00:00:00\",\"2012-04-27T00:00:00\",\"2012-04-28T00:00:00\",\"2012-04-29T00:00:00\",\"2012-04-30T00:00:00\",\"2012-05-01T00:00:00\",\"2012-05-02T00:00:00\",\"2012-05-03T00:00:00\",\"2012-05-04T00:00:00\",\"2012-05-05T00:00:00\",\"2012-05-06T00:00:00\",\"2012-05-07T00:00:00\",\"2012-05-08T00:00:00\",\"2012-05-09T00:00:00\",\"2012-05-10T00:00:00\",\"2012-05-11T00:00:00\",\"2012-05-12T00:00:00\",\"2012-05-13T00:00:00\",\"2012-05-14T00:00:00\",\"2012-05-15T00:00:00\",\"2012-05-16T00:00:00\",\"2012-05-17T00:00:00\",\"2012-05-18T00:00:00\",\"2012-05-19T00:00:00\",\"2012-05-20T00:00:00\",\"2012-05-21T00:00:00\",\"2012-05-22T00:00:00\",\"2012-05-23T00:00:00\",\"2012-05-24T00:00:00\",\"2012-05-25T00:00:00\",\"2012-05-26T00:00:00\",\"2012-05-27T00:00:00\",\"2012-05-28T00:00:00\",\"2012-05-29T00:00:00\",\"2012-05-30T00:00:00\",\"2012-05-31T00:00:00\",\"2012-06-01T00:00:00\",\"2012-06-02T00:00:00\",\"2012-06-03T00:00:00\",\"2012-06-04T00:00:00\",\"2012-06-05T00:00:00\",\"2012-06-06T00:00:00\",\"2012-06-07T00:00:00\",\"2012-06-08T00:00:00\",\"2012-06-09T00:00:00\",\"2012-06-10T00:00:00\",\"2012-06-11T00:00:00\",\"2012-06-12T00:00:00\",\"2012-06-13T00:00:00\",\"2012-06-14T00:00:00\",\"2012-06-15T00:00:00\",\"2012-06-16T00:00:00\",\"2012-06-17T00:00:00\",\"2012-06-18T00:00:00\",\"2012-06-19T00:00:00\",\"2012-06-20T00:00:00\",\"2012-06-21T00:00:00\",\"2012-06-22T00:00:00\",\"2012-06-23T00:00:00\",\"2012-06-24T00:00:00\",\"2012-06-25T00:00:00\",\"2012-06-26T00:00:00\",\"2012-06-27T00:00:00\",\"2012-06-28T00:00:00\",\"2012-06-29T00:00:00\",\"2012-06-30T00:00:00\",\"2012-07-01T00:00:00\",\"2012-07-02T00:00:00\",\"2012-07-03T00:00:00\",\"2012-07-04T00:00:00\",\"2012-07-05T00:00:00\",\"2012-07-06T00:00:00\",\"2012-07-07T00:00:00\",\"2012-07-08T00:00:00\",\"2012-07-09T00:00:00\",\"2012-07-10T00:00:00\",\"2012-07-11T00:00:00\",\"2012-07-12T00:00:00\",\"2012-07-13T00:00:00\",\"2012-07-14T00:00:00\",\"2012-07-15T00:00:00\",\"2012-07-16T00:00:00\",\"2012-07-17T00:00:00\",\"2012-07-18T00:00:00\",\"2012-07-19T00:00:00\",\"2012-07-20T00:00:00\",\"2012-07-21T00:00:00\",\"2012-07-22T00:00:00\",\"2012-07-23T00:00:00\",\"2012-07-24T00:00:00\",\"2012-07-25T00:00:00\",\"2012-07-26T00:00:00\",\"2012-07-27T00:00:00\",\"2012-07-28T00:00:00\",\"2012-07-29T00:00:00\",\"2012-07-30T00:00:00\",\"2012-07-31T00:00:00\",\"2012-08-01T00:00:00\",\"2012-08-02T00:00:00\",\"2012-08-03T00:00:00\",\"2012-08-04T00:00:00\",\"2012-08-05T00:00:00\",\"2012-08-06T00:00:00\",\"2012-08-07T00:00:00\",\"2012-08-08T00:00:00\",\"2012-08-09T00:00:00\",\"2012-08-10T00:00:00\",\"2012-08-11T00:00:00\",\"2012-08-12T00:00:00\",\"2012-08-13T00:00:00\",\"2012-08-14T00:00:00\",\"2012-08-15T00:00:00\",\"2012-08-16T00:00:00\",\"2012-08-17T00:00:00\",\"2012-08-18T00:00:00\",\"2012-08-19T00:00:00\",\"2012-08-20T00:00:00\",\"2012-08-21T00:00:00\",\"2012-08-22T00:00:00\",\"2012-08-23T00:00:00\",\"2012-08-24T00:00:00\",\"2012-08-25T00:00:00\",\"2012-08-26T00:00:00\",\"2012-08-27T00:00:00\",\"2012-08-28T00:00:00\",\"2012-08-29T00:00:00\",\"2012-08-30T00:00:00\",\"2012-08-31T00:00:00\",\"2012-09-01T00:00:00\",\"2012-09-02T00:00:00\",\"2012-09-03T00:00:00\",\"2012-09-04T00:00:00\",\"2012-09-05T00:00:00\",\"2012-09-06T00:00:00\",\"2012-09-07T00:00:00\",\"2012-09-08T00:00:00\",\"2012-09-09T00:00:00\",\"2012-09-10T00:00:00\",\"2012-09-11T00:00:00\",\"2012-09-12T00:00:00\",\"2012-09-13T00:00:00\",\"2012-09-14T00:00:00\",\"2012-09-15T00:00:00\",\"2012-09-16T00:00:00\",\"2012-09-17T00:00:00\",\"2012-09-18T00:00:00\",\"2012-09-19T00:00:00\",\"2012-09-20T00:00:00\",\"2012-09-21T00:00:00\",\"2012-09-22T00:00:00\",\"2012-09-23T00:00:00\",\"2012-09-24T00:00:00\",\"2012-09-25T00:00:00\",\"2012-09-26T00:00:00\",\"2012-09-27T00:00:00\",\"2012-09-28T00:00:00\",\"2012-09-29T00:00:00\",\"2012-09-30T00:00:00\",\"2012-10-01T00:00:00\",\"2012-10-02T00:00:00\",\"2012-10-03T00:00:00\",\"2012-10-04T00:00:00\",\"2012-10-05T00:00:00\",\"2012-10-06T00:00:00\",\"2012-10-07T00:00:00\",\"2012-10-08T00:00:00\",\"2012-10-09T00:00:00\",\"2012-10-10T00:00:00\",\"2012-10-11T00:00:00\",\"2012-10-12T00:00:00\",\"2012-10-13T00:00:00\",\"2012-10-14T00:00:00\",\"2012-10-15T00:00:00\",\"2012-10-16T00:00:00\",\"2012-10-17T00:00:00\",\"2012-10-18T00:00:00\",\"2012-10-19T00:00:00\",\"2012-10-20T00:00:00\",\"2012-10-21T00:00:00\",\"2012-10-22T00:00:00\",\"2012-10-23T00:00:00\",\"2012-10-24T00:00:00\",\"2012-10-25T00:00:00\",\"2012-10-26T00:00:00\",\"2012-10-27T00:00:00\",\"2012-10-28T00:00:00\",\"2012-10-29T00:00:00\",\"2012-10-30T00:00:00\",\"2012-10-31T00:00:00\",\"2012-11-01T00:00:00\",\"2012-11-02T00:00:00\",\"2012-11-03T00:00:00\",\"2012-11-04T00:00:00\",\"2012-11-05T00:00:00\",\"2012-11-06T00:00:00\",\"2012-11-07T00:00:00\",\"2012-11-08T00:00:00\",\"2012-11-09T00:00:00\",\"2012-11-10T00:00:00\",\"2012-11-11T00:00:00\",\"2012-11-12T00:00:00\",\"2012-11-13T00:00:00\",\"2012-11-14T00:00:00\",\"2012-11-15T00:00:00\",\"2012-11-16T00:00:00\",\"2012-11-17T00:00:00\",\"2012-11-18T00:00:00\",\"2012-11-19T00:00:00\",\"2012-11-20T00:00:00\",\"2012-11-21T00:00:00\",\"2012-11-22T00:00:00\",\"2012-11-23T00:00:00\",\"2012-11-24T00:00:00\",\"2012-11-25T00:00:00\",\"2012-11-26T00:00:00\",\"2012-11-27T00:00:00\",\"2012-11-28T00:00:00\",\"2012-11-29T00:00:00\",\"2012-11-30T00:00:00\",\"2012-12-01T00:00:00\",\"2012-12-02T00:00:00\",\"2012-12-03T00:00:00\",\"2012-12-04T00:00:00\",\"2012-12-05T00:00:00\",\"2012-12-06T00:00:00\",\"2012-12-07T00:00:00\",\"2012-12-08T00:00:00\",\"2012-12-09T00:00:00\",\"2012-12-10T00:00:00\",\"2012-12-11T00:00:00\",\"2012-12-12T00:00:00\",\"2012-12-13T00:00:00\",\"2012-12-14T00:00:00\",\"2012-12-15T00:00:00\",\"2012-12-16T00:00:00\",\"2012-12-17T00:00:00\",\"2012-12-18T00:00:00\",\"2012-12-19T00:00:00\",\"2012-12-20T00:00:00\",\"2012-12-21T00:00:00\",\"2012-12-22T00:00:00\",\"2012-12-23T00:00:00\",\"2012-12-24T00:00:00\",\"2012-12-25T00:00:00\",\"2012-12-26T00:00:00\",\"2012-12-27T00:00:00\",\"2012-12-28T00:00:00\",\"2012-12-29T00:00:00\",\"2012-12-30T00:00:00\",\"2012-12-31T00:00:00\",\"2013-01-01T00:00:00\",\"2013-01-02T00:00:00\",\"2013-01-03T00:00:00\",\"2013-01-04T00:00:00\",\"2013-01-05T00:00:00\",\"2013-01-06T00:00:00\",\"2013-01-07T00:00:00\",\"2013-01-08T00:00:00\",\"2013-01-09T00:00:00\",\"2013-01-10T00:00:00\",\"2013-01-11T00:00:00\",\"2013-01-12T00:00:00\",\"2013-01-13T00:00:00\",\"2013-01-14T00:00:00\",\"2013-01-15T00:00:00\",\"2013-01-16T00:00:00\",\"2013-01-17T00:00:00\",\"2013-01-18T00:00:00\",\"2013-01-19T00:00:00\",\"2013-01-20T00:00:00\",\"2013-01-21T00:00:00\",\"2013-01-22T00:00:00\",\"2013-01-23T00:00:00\",\"2013-01-24T00:00:00\",\"2013-01-25T00:00:00\",\"2013-01-26T00:00:00\",\"2013-01-27T00:00:00\",\"2013-01-28T00:00:00\",\"2013-01-29T00:00:00\",\"2013-01-30T00:00:00\",\"2013-01-31T00:00:00\",\"2013-02-01T00:00:00\",\"2013-02-02T00:00:00\",\"2013-02-03T00:00:00\",\"2013-02-04T00:00:00\",\"2013-02-05T00:00:00\",\"2013-02-06T00:00:00\",\"2013-02-07T00:00:00\",\"2013-02-08T00:00:00\",\"2013-02-09T00:00:00\",\"2013-02-10T00:00:00\",\"2013-02-11T00:00:00\",\"2013-02-12T00:00:00\",\"2013-02-13T00:00:00\",\"2013-02-14T00:00:00\",\"2013-02-15T00:00:00\",\"2013-02-16T00:00:00\",\"2013-02-17T00:00:00\",\"2013-02-18T00:00:00\",\"2013-02-19T00:00:00\",\"2013-02-20T00:00:00\",\"2013-02-21T00:00:00\",\"2013-02-22T00:00:00\"],\"y\":[100.92651047400719,101.16419850406186,101.70963421761398,102.93499475811892,103.97198807820824,103.4690560922278,104.01133870251276,103.95612127330314,103.92708486560018,104.17752601012262,104.2831459602703,105.10637761459387,105.55286617150014,105.64752508939439,105.92053090195503,106.13308487340174,106.99318360334445,106.90630926460668,107.10930179027356,106.65986032591618,105.27312527008267,105.66096777336062,106.1671870875308,105.78358237874677,107.0741792660536,106.29079893723869,106.34390434859633,106.26754269608621,107.15040796583611,108.00479187632945,108.12045534038795,108.36262442743534,107.88891963700289,106.80522697204957,106.6388892534229,106.75387216791803,107.47068850085768,108.17653200989643,107.9858048402839,107.84334018640251,107.28169841143172,106.51592512843439,105.59747048237087,106.70770038418813,106.4514637709342,106.23558926962124,105.56953563326216,106.02711111339924,105.163644900837,105.07409099388838,104.61056121027082,104.84965954255472,104.59725415596668,103.98069343216332,103.99243742340869,104.25270085862262,104.31610841362505,104.50839331765978,104.1895078476462,104.01917933438219,103.68111188072876,103.513339718062,103.10105712923058,102.20135451537567,102.32282713527054,102.13470249318945,101.29430282372473,101.56610463967068,101.11179556590137,101.16558556536881,101.57836678501977,101.67334582180165,102.30742296182369,101.67554873576424,101.91616469165803,101.57837364126183,101.14330881817328,100.86393843452174,100.72599859040383,100.78180675859308,100.19584631138865,100.69503756320756,100.96675168043386,100.18516057706034,100.993980928186,102.02653053591035,102.68394789726936,102.61410846166359,102.06785357959542,102.65878888249465,102.46929870376877,103.15311447339776,103.29237569987232,103.84814610817861,104.06888672722981,104.48121382590314,104.51414814756265,105.5219762775339,105.61949925032812,105.86925361494157,106.94452500771989,106.22127794650555,105.54555260112328,106.10942867605505,105.48809520311124,106.59318826889776,106.39062776420512,106.00328415823637,107.10219485275833,107.96249090036454,109.05013304856912,109.59642754007746,109.1324818247893,110.25640931916001,110.13069559081241,110.62247848779609,111.20060327575627,111.13944674011289,111.52584571770959,112.09401343497012,112.34406233393995,111.72927590971673,111.93274790447303,112.74096376354112,112.36156288287236,112.30292390117349,112.07689449894733,113.19515888996547,113.62328088875631,113.8952199867596,113.46722897427574,113.8171856727944,113.44616381001956,113.49457977796114,113.14737335113279,113.57777198594097,113.95031301579507,113.85592040230905,114.12158165167772,113.5008295612824,112.64870160729194,112.93715911919737,113.0650358073006,113.4705580528375,114.92304522557187,115.52197078539857,115.00191543588633,115.70557378039554,114.94221587806477,114.6950246375156,114.68395797145237,115.74595717412018,115.32618086012023,114.85886696121614,114.82964658815582,114.46181942942574,115.16796491286007,114.54938393412407,113.89390427267583,113.6630882227597,113.39703808983006,114.57654545411361,115.17664055708441,115.25936603524755,114.55312117257476,115.0898641305407,114.51941926517945,113.62785017803614,114.3655523037558,114.58502959701269,115.16797076937084,115.39006480772196,115.93828598499589,115.57443153083351,114.98112846794157,115.42161683953785,114.9677569006583,114.58386832587153,114.3410654675118,114.38128112610408,114.1995134379326,113.41107841817231,113.05953332895183,111.78203616377841,112.17720930733064,111.27054525067778,110.65875093590796,110.71774693586183,110.31920078393595,111.24167945490152,110.52108957217554,110.70430985323674,110.7103881091386,110.06500756172277,110.39525224237772,110.32500047279947,110.79988608772476,111.30690447488601,112.60216464557375,113.4212277834536,113.23199451296617,113.11981481138709,113.80163031318705,114.22187553989814,114.63460342545187,113.69922144117275,113.71435550228064,113.30593012778122,113.50140588770029,113.47271009253583,114.04362469317888,114.26264881509726,114.76320557558167,114.51350498124945,113.97914378977505,113.76467050342526,113.78415908553892,114.03960354980379,115.42462330165175,115.42916581538181,114.88362534832942,114.70586399080511,114.4579774614023,114.77632111731218,113.88511807486834,113.95244487096593,114.07540756638974,114.24369172233521,113.9171381156303,113.80514677515501,112.99042106924185,112.72872273379406,112.43850484789688,112.71266895497882,112.06259423800797,112.55049458071204,113.46284028802016,112.27079877401431,112.55056071925462,112.97896955875326,112.63240368517118,112.42797477656174,112.37914394236775,112.23353053257843,112.0815298986316,111.13266811438871,111.83329746569355,112.49557139951534,112.04738585287339,111.22060850664522,111.55303059586524,111.24668792432664,111.35825791494236,111.20144553387641,111.63325755981894,112.0686273098111,111.67337165896292,110.8974996326785,110.01217448357453,110.3925188690303,109.73707727208217,109.47518926442675,109.1628377811803,109.1612497687994,108.08993028296547,108.22482484687094,108.54989679835339,108.62835718509463,108.48017676554356,108.56368232516319,108.81872438123406,107.2806831831193,108.41152146524466,108.66111991407963,108.31932054598343,108.12629157314164,108.43397485920225,108.3963855615405,107.27961197721734,108.47199648869493,108.43754784676807,109.04581744704514,108.68028230929694,109.58525371646672,109.7779945239286,110.15664496023174,109.58484598168288,110.30962969813093,110.73698256165902,111.52225588292637,111.18559301335121,110.93520404170985,112.30870895145625,111.71711664824637,111.66680281449075,112.36172924533628,112.44841367912515,112.82100328079521,112.61495022000983,112.8624027474554,112.12330098535341,113.12892878046468,113.08849395473413,112.71640276973484,113.13921728276144,112.8964139487354,112.14083003262316,111.38304777792757,111.81687116593626,111.75270957444016,111.7036925852926,112.36409767576767,111.73318041569884,111.33615071151912,111.14127459907368,111.22505589990493,111.2294829757879,111.09169175039963,111.08481447622853,111.05141442042587,110.6632135517222,110.22254211234686,110.40957661151405,109.92512521108699,109.29045764177808,109.1405717562492,109.07903300944287,110.40231396316673,110.02495479598949,110.59764908787658,111.05942290211217,110.39997218496609,110.87602821477334,110.22058464400146,108.72718148370704,109.10076759609815,108.13196995276088,108.415403727559,108.05652306999029,109.02648560317758,109.66576823399257,109.43461498370803,109.07017841393365,108.40829453292233,108.1868407186555,108.05650853452553,107.87875714132127,107.99527730582004,108.3506011012568,108.57710214983169,108.17235959310388,107.39024964881195,108.18723944319811,107.82604838450858,107.48694039188737,107.22236517509715,106.22182361909431,105.98430468305982,105.74638707730743,106.11751935634474,106.53344289988162,106.56327517663071,107.11156011577769,107.33003391884463,107.34917128826014,107.46749280273906,107.38837637930776,107.1948229122234,107.072751033524,106.4708844502695,106.65485670024466,106.13015485045543,106.62590890871432,106.51466096177053,106.56995995806851,106.87326763864395,107.2612270087953,106.41178207103674,106.32440959352319,106.8426005191601,105.92585021251051,106.16816456951565,104.95088757380404,104.41852710433513,104.46680406370731,103.59285305385333,103.08731790805099,102.32376080805683,103.23610204148113,103.35167290519445,103.68563015426082,103.59195425990275,103.42763627682456,102.58395801055431,102.45422538042858,102.07372210484822,102.55926320329627,103.19978312165736,104.0211541183979,104.51302344471995,104.2135550227601,103.63432359884648,104.07761977677255,104.29880804622557,103.36581597273391,103.5850522950404,104.05416818795807,104.11332276001008,104.03972144367674,103.62832081756375,102.87436283045737,103.3325769046463,103.19257630624547,103.09352935469079,104.05874028549893,104.4589727056283,104.68892478052503,104.79397747068093,105.65753842410288],\"z\":[100.90305260168549,101.42097232811646,101.75663544562379,100.67462146599276,100.76598392239534,100.72367877031152,100.79939707824535,101.32395743655249,99.90903819476982,99.63804510112185,99.80471250159883,99.58733641412802,98.87809383086237,99.35416809651913,99.52398587059791,99.04576625574933,99.23474090343667,99.68783755012718,99.71654618503014,100.16083472122112,100.22790656756355,100.04706042904536,99.46835122221567,99.4495563479014,99.5765385009955,100.05956893419592,100.02540376007047,100.29098687183546,99.8124696432,99.43078946717925,99.39929079509108,98.87848444091237,99.3292597030591,99.5959699790435,99.76736096427827,99.97030046464064,101.05848561907575,100.83731460985726,99.70936796178142,99.83929540379629,99.83886801241286,99.59502927339695,99.11246528192999,98.9108969566878,99.03048415348458,98.7962132981615,100.07619374194734,99.60084022421165,99.2145290099018,98.06003155884319,98.2146009231919,97.20998294665371,96.96144471081303,96.84700774646616,96.51344425296475,97.42018225543028,97.95344908624119,98.65698778338691,98.22846704664138,98.83547643906196,99.11789252373134,99.54433783686525,100.10757127312155,99.65902304480748,99.46407621200929,99.93964488636817,98.58737178301548,99.3963224316725,99.71011815655227,99.71224540999887,99.85324695392072,99.34288598951973,99.18711677827709,99.78528060223412,100.49088255628193,101.94394539288265,101.9310805323741,101.60718690595516,101.36077015140263,100.84897452377817,100.83417603623697,101.06243975352993,101.07065198579328,101.67808168899688,101.58009055056046,101.42213512404585,101.1407156020703,100.30721724776457,99.51432960615618,98.92849325112658,99.62981078541632,100.12326832010427,100.87182803412611,100.19779347084913,99.1976666309814,98.88168146638414,98.99837662573024,99.28265406989709,99.85408146571059,100.02862750524588,100.97039428016427,100.87920810632707,100.42493643449215,99.57204278582927,99.1361513431922,99.28755496147123,98.8530386760832,99.36419555088116,100.12663664539454,98.91964462128927,99.39336692390685,98.26196534475231,98.49406915931074,99.1526140349754,99.21205807447976,98.57617826103305,98.30051620703375,98.19169827562921,98.12372408076136,98.04521055290348,98.0144103678796,98.14940492921835,97.55659992002035,97.45860448294407,98.26082725035138,98.08895759388533,97.8870928861167,98.46604609956793,97.18269521057282,97.81022987939359,97.51301530449564,97.62202658760559,97.69662278010524,98.20473955487645,98.09297662597697,97.77132487531858,98.46259504845453,97.27841536917732,97.31408231122862,96.6558801793464,96.29687042729958,97.34008938417091,97.34273021344151,97.46741806935951,96.58895824280805,96.24656334416431,96.3705966409849,96.5746306850572,96.91181436639656,96.94141386759306,97.2341766866298,97.49049661745892,96.58749806134256,96.63133356803426,97.04530315343045,97.37038137131887,97.2106327272869,96.82725967240799,96.28786649476159,96.24696487629984,96.84400058218495,95.88578133127191,95.58042812144832,95.03730238056379,95.45295370383771,95.2015138883091,94.99228038088113,94.9092994653777,95.15531755805068,94.98503441239602,93.50869410989931,93.79908675509311,94.03910494110394,93.95568374489245,93.44903090092583,93.64542169204431,93.85569598074954,93.64971640397664,93.56801497918381,93.13835077270353,93.07565364589107,92.34829908463048,92.5740903508439,92.14214381794848,92.2809290424814,91.62896336767783,91.37051875684513,91.34152569338822,90.5754915765206,90.65362540927504,90.49766275156375,89.70040451402798,89.11451369169828,89.4201500395064,89.86317896522264,89.82460512002781,90.03831494218872,90.16720924113693,90.3462369510247,90.97936760537068,90.28889316166814,90.632353961333,90.47507444284987,90.39258528895667,90.27335622644688,90.11993256762909,89.56737188661853,89.67660040382277,90.48696583244354,90.48396272281204,90.50686104678697,90.20571122418414,90.17379472058556,90.41735669400072,90.26600283437253,90.07554341034924,90.28914350140238,89.88024570100794,90.02239787339386,90.4328342560431,91.10179272878925,91.08245913545932,91.75989223407711,92.28147861078794,91.82600543642462,91.26692415818832,91.14524862729328,91.66071784069197,91.64993534900208,91.38636715759493,92.15497736201138,92.31733209977926,91.22784200866636,91.40302023250256,91.67571954723056,91.80780505911812,92.04786196317963,92.03944528929924,91.43103320952203,91.27776225165299,90.85127189361977,90.43286109789015,89.86105779080609,90.09733241698619,90.16692108351123,89.9793231768941,89.69772833772598,89.71009117160857,90.2411520716456,89.32378572378458,89.52325199163351,89.29144547070025,88.43902814543894,87.56676456221443,87.17257525841819,87.29538913531862,87.49772980582904,87.09192205599278,87.57901243382852,88.25593994768026,88.46190542519193,88.211773392004,88.75494674809369,89.12934590566336,89.55775372386094,89.27415238610892,87.98384799551074,88.98609193175876,88.2627980652666,88.26926610058071,89.39804108514713,89.57598825908195,90.04506077811702,89.3638270347807,88.56020746113269,88.33690234728044,88.86520245497948,88.7275756747205,88.38273557952137,88.49728703385009,89.02244388024127,88.37548907763419,87.84081240130661,87.50214836879078,88.02724577386265,88.15832062427917,89.16971334282492,89.63065988836476,89.63754349699595,90.25584249870047,90.37921424624967,90.0701906679324,90.41448057486708,90.10938520775997,89.99610616397173,90.64658937263455,90.62218836910712,90.2659711425847,90.07055148047752,90.57655936195341,90.33880027961794,90.17973797153057,89.96288859248519,90.07287553315459,89.9149306578773,89.18830316329476,88.79869926344259,88.38971924271075,88.98928767082495,89.39143967131838,89.68965057942783,89.47628788148239,89.11868090698036,88.90567285216699,88.44111895584012,89.62664196744493,88.60376715592079,88.88854486046566,88.3165861154562,88.29139893000104,87.85939089163854,87.34286479961871,86.84636932824442,87.66967082031599,87.63154385084958,87.30416875561839,87.5810049619833,87.60854301374955,87.96184307268449,87.14960142661936,87.31076018331733,87.68699729048673,86.95120338089441,87.17787004207008,87.97726316919949,87.99332911328952,88.39501543454882,88.72853950635525,88.42396519835822,88.46537269548446,87.7664446956652,87.5824044402126,87.72697222302861,88.0821620701064,88.11642792944784,88.47175300220945,87.98599182041022,87.96211581196553,87.99388171005023,88.87200632216586,88.79566368099002,88.58736468570558,88.62031627145069,88.21846485975418,88.33039585580944,88.18492689074805,87.38566769600418,87.3816466588224,87.25941208777766,86.54040480698778,86.53255571673569,87.23165847491929,87.49249037252793,87.79568803422447,87.20479618620445,87.44524491804954,87.53591724421256,87.80121236408985,88.01832933735732,87.41758252523114,87.42141420657215,87.09839003720316,87.09825371607336,86.71314663608068,87.33290941431183,86.964234505229,86.57902237845056,86.63533530941083,86.17128252443344,86.00256415196017,85.65249370397191,86.30920074791226,86.6870627409675,86.68358006629926,86.52898749036059,86.97831672711285,87.18545627546365,87.43552090999286,87.44630598012607,86.70045956189969,86.67205273689764,86.45360483079263,86.76822869509303,87.25114648936034,86.97417314405311,87.21010447211319,88.0280604255847,87.74414277187654,88.54212735428113,88.17129162689722,88.20483019258316,88.22264979426727,88.25091998627819,87.88815345199241,87.639744341115,87.35707567127443,87.52930643113682,87.70328553142592,88.75296615740086,89.41465896239906,89.19985893590717,89.37474492503229,89.86525153365638,89.9030262399994,89.89369375997514,89.9413417012475,90.37359065549568,89.99709114836985,89.86737987927317],\"type\":\"scatter3d\"}],                        {\"template\":{\"data\":{\"bar\":[{\"error_x\":{\"color\":\"#2a3f5f\"},\"error_y\":{\"color\":\"#2a3f5f\"},\"marker\":{\"line\":{\"color\":\"#E5ECF6\",\"width\":0.5},\"pattern\":{\"fillmode\":\"overlay\",\"size\":10,\"solidity\":0.2}},\"type\":\"bar\"}],\"barpolar\":[{\"marker\":{\"line\":{\"color\":\"#E5ECF6\",\"width\":0.5},\"pattern\":{\"fillmode\":\"overlay\",\"size\":10,\"solidity\":0.2}},\"type\":\"barpolar\"}],\"carpet\":[{\"aaxis\":{\"endlinecolor\":\"#2a3f5f\",\"gridcolor\":\"white\",\"linecolor\":\"white\",\"minorgridcolor\":\"white\",\"startlinecolor\":\"#2a3f5f\"},\"baxis\":{\"endlinecolor\":\"#2a3f5f\",\"gridcolor\":\"white\",\"linecolor\":\"white\",\"minorgridcolor\":\"white\",\"startlinecolor\":\"#2a3f5f\"},\"type\":\"carpet\"}],\"choropleth\":[{\"colorbar\":{\"outlinewidth\":0,\"ticks\":\"\"},\"type\":\"choropleth\"}],\"contour\":[{\"colorbar\":{\"outlinewidth\":0,\"ticks\":\"\"},\"colorscale\":[[0.0,\"#0d0887\"],[0.1111111111111111,\"#46039f\"],[0.2222222222222222,\"#7201a8\"],[0.3333333333333333,\"#9c179e\"],[0.4444444444444444,\"#bd3786\"],[0.5555555555555556,\"#d8576b\"],[0.6666666666666666,\"#ed7953\"],[0.7777777777777778,\"#fb9f3a\"],[0.8888888888888888,\"#fdca26\"],[1.0,\"#f0f921\"]],\"type\":\"contour\"}],\"contourcarpet\":[{\"colorbar\":{\"outlinewidth\":0,\"ticks\":\"\"},\"type\":\"contourcarpet\"}],\"heatmap\":[{\"colorbar\":{\"outlinewidth\":0,\"ticks\":\"\"},\"colorscale\":[[0.0,\"#0d0887\"],[0.1111111111111111,\"#46039f\"],[0.2222222222222222,\"#7201a8\"],[0.3333333333333333,\"#9c179e\"],[0.4444444444444444,\"#bd3786\"],[0.5555555555555556,\"#d8576b\"],[0.6666666666666666,\"#ed7953\"],[0.7777777777777778,\"#fb9f3a\"],[0.8888888888888888,\"#fdca26\"],[1.0,\"#f0f921\"]],\"type\":\"heatmap\"}],\"heatmapgl\":[{\"colorbar\":{\"outlinewidth\":0,\"ticks\":\"\"},\"colorscale\":[[0.0,\"#0d0887\"],[0.1111111111111111,\"#46039f\"],[0.2222222222222222,\"#7201a8\"],[0.3333333333333333,\"#9c179e\"],[0.4444444444444444,\"#bd3786\"],[0.5555555555555556,\"#d8576b\"],[0.6666666666666666,\"#ed7953\"],[0.7777777777777778,\"#fb9f3a\"],[0.8888888888888888,\"#fdca26\"],[1.0,\"#f0f921\"]],\"type\":\"heatmapgl\"}],\"histogram\":[{\"marker\":{\"pattern\":{\"fillmode\":\"overlay\",\"size\":10,\"solidity\":0.2}},\"type\":\"histogram\"}],\"histogram2d\":[{\"colorbar\":{\"outlinewidth\":0,\"ticks\":\"\"},\"colorscale\":[[0.0,\"#0d0887\"],[0.1111111111111111,\"#46039f\"],[0.2222222222222222,\"#7201a8\"],[0.3333333333333333,\"#9c179e\"],[0.4444444444444444,\"#bd3786\"],[0.5555555555555556,\"#d8576b\"],[0.6666666666666666,\"#ed7953\"],[0.7777777777777778,\"#fb9f3a\"],[0.8888888888888888,\"#fdca26\"],[1.0,\"#f0f921\"]],\"type\":\"histogram2d\"}],\"histogram2dcontour\":[{\"colorbar\":{\"outlinewidth\":0,\"ticks\":\"\"},\"colorscale\":[[0.0,\"#0d0887\"],[0.1111111111111111,\"#46039f\"],[0.2222222222222222,\"#7201a8\"],[0.3333333333333333,\"#9c179e\"],[0.4444444444444444,\"#bd3786\"],[0.5555555555555556,\"#d8576b\"],[0.6666666666666666,\"#ed7953\"],[0.7777777777777778,\"#fb9f3a\"],[0.8888888888888888,\"#fdca26\"],[1.0,\"#f0f921\"]],\"type\":\"histogram2dcontour\"}],\"mesh3d\":[{\"colorbar\":{\"outlinewidth\":0,\"ticks\":\"\"},\"type\":\"mesh3d\"}],\"parcoords\":[{\"line\":{\"colorbar\":{\"outlinewidth\":0,\"ticks\":\"\"}},\"type\":\"parcoords\"}],\"pie\":[{\"automargin\":true,\"type\":\"pie\"}],\"scatter\":[{\"marker\":{\"colorbar\":{\"outlinewidth\":0,\"ticks\":\"\"}},\"type\":\"scatter\"}],\"scatter3d\":[{\"line\":{\"colorbar\":{\"outlinewidth\":0,\"ticks\":\"\"}},\"marker\":{\"colorbar\":{\"outlinewidth\":0,\"ticks\":\"\"}},\"type\":\"scatter3d\"}],\"scattercarpet\":[{\"marker\":{\"colorbar\":{\"outlinewidth\":0,\"ticks\":\"\"}},\"type\":\"scattercarpet\"}],\"scattergeo\":[{\"marker\":{\"colorbar\":{\"outlinewidth\":0,\"ticks\":\"\"}},\"type\":\"scattergeo\"}],\"scattergl\":[{\"marker\":{\"colorbar\":{\"outlinewidth\":0,\"ticks\":\"\"}},\"type\":\"scattergl\"}],\"scattermapbox\":[{\"marker\":{\"colorbar\":{\"outlinewidth\":0,\"ticks\":\"\"}},\"type\":\"scattermapbox\"}],\"scatterpolar\":[{\"marker\":{\"colorbar\":{\"outlinewidth\":0,\"ticks\":\"\"}},\"type\":\"scatterpolar\"}],\"scatterpolargl\":[{\"marker\":{\"colorbar\":{\"outlinewidth\":0,\"ticks\":\"\"}},\"type\":\"scatterpolargl\"}],\"scatterternary\":[{\"marker\":{\"colorbar\":{\"outlinewidth\":0,\"ticks\":\"\"}},\"type\":\"scatterternary\"}],\"surface\":[{\"colorbar\":{\"outlinewidth\":0,\"ticks\":\"\"},\"colorscale\":[[0.0,\"#0d0887\"],[0.1111111111111111,\"#46039f\"],[0.2222222222222222,\"#7201a8\"],[0.3333333333333333,\"#9c179e\"],[0.4444444444444444,\"#bd3786\"],[0.5555555555555556,\"#d8576b\"],[0.6666666666666666,\"#ed7953\"],[0.7777777777777778,\"#fb9f3a\"],[0.8888888888888888,\"#fdca26\"],[1.0,\"#f0f921\"]],\"type\":\"surface\"}],\"table\":[{\"cells\":{\"fill\":{\"color\":\"#EBF0F8\"},\"line\":{\"color\":\"white\"}},\"header\":{\"fill\":{\"color\":\"#C8D4E3\"},\"line\":{\"color\":\"white\"}},\"type\":\"table\"}]},\"layout\":{\"annotationdefaults\":{\"arrowcolor\":\"#2a3f5f\",\"arrowhead\":0,\"arrowwidth\":1},\"autotypenumbers\":\"strict\",\"coloraxis\":{\"colorbar\":{\"outlinewidth\":0,\"ticks\":\"\"}},\"colorscale\":{\"diverging\":[[0,\"#8e0152\"],[0.1,\"#c51b7d\"],[0.2,\"#de77ae\"],[0.3,\"#f1b6da\"],[0.4,\"#fde0ef\"],[0.5,\"#f7f7f7\"],[0.6,\"#e6f5d0\"],[0.7,\"#b8e186\"],[0.8,\"#7fbc41\"],[0.9,\"#4d9221\"],[1,\"#276419\"]],\"sequential\":[[0.0,\"#0d0887\"],[0.1111111111111111,\"#46039f\"],[0.2222222222222222,\"#7201a8\"],[0.3333333333333333,\"#9c179e\"],[0.4444444444444444,\"#bd3786\"],[0.5555555555555556,\"#d8576b\"],[0.6666666666666666,\"#ed7953\"],[0.7777777777777778,\"#fb9f3a\"],[0.8888888888888888,\"#fdca26\"],[1.0,\"#f0f921\"]],\"sequentialminus\":[[0.0,\"#0d0887\"],[0.1111111111111111,\"#46039f\"],[0.2222222222222222,\"#7201a8\"],[0.3333333333333333,\"#9c179e\"],[0.4444444444444444,\"#bd3786\"],[0.5555555555555556,\"#d8576b\"],[0.6666666666666666,\"#ed7953\"],[0.7777777777777778,\"#fb9f3a\"],[0.8888888888888888,\"#fdca26\"],[1.0,\"#f0f921\"]]},\"colorway\":[\"#636efa\",\"#EF553B\",\"#00cc96\",\"#ab63fa\",\"#FFA15A\",\"#19d3f3\",\"#FF6692\",\"#B6E880\",\"#FF97FF\",\"#FECB52\"],\"font\":{\"color\":\"#2a3f5f\"},\"geo\":{\"bgcolor\":\"white\",\"lakecolor\":\"white\",\"landcolor\":\"#E5ECF6\",\"showlakes\":true,\"showland\":true,\"subunitcolor\":\"white\"},\"hoverlabel\":{\"align\":\"left\"},\"hovermode\":\"closest\",\"mapbox\":{\"style\":\"light\"},\"paper_bgcolor\":\"white\",\"plot_bgcolor\":\"#E5ECF6\",\"polar\":{\"angularaxis\":{\"gridcolor\":\"white\",\"linecolor\":\"white\",\"ticks\":\"\"},\"bgcolor\":\"#E5ECF6\",\"radialaxis\":{\"gridcolor\":\"white\",\"linecolor\":\"white\",\"ticks\":\"\"}},\"scene\":{\"xaxis\":{\"backgroundcolor\":\"#E5ECF6\",\"gridcolor\":\"white\",\"gridwidth\":2,\"linecolor\":\"white\",\"showbackground\":true,\"ticks\":\"\",\"zerolinecolor\":\"white\"},\"yaxis\":{\"backgroundcolor\":\"#E5ECF6\",\"gridcolor\":\"white\",\"gridwidth\":2,\"linecolor\":\"white\",\"showbackground\":true,\"ticks\":\"\",\"zerolinecolor\":\"white\"},\"zaxis\":{\"backgroundcolor\":\"#E5ECF6\",\"gridcolor\":\"white\",\"gridwidth\":2,\"linecolor\":\"white\",\"showbackground\":true,\"ticks\":\"\",\"zerolinecolor\":\"white\"}},\"shapedefaults\":{\"line\":{\"color\":\"#2a3f5f\"}},\"ternary\":{\"aaxis\":{\"gridcolor\":\"white\",\"linecolor\":\"white\",\"ticks\":\"\"},\"baxis\":{\"gridcolor\":\"white\",\"linecolor\":\"white\",\"ticks\":\"\"},\"bgcolor\":\"#E5ECF6\",\"caxis\":{\"gridcolor\":\"white\",\"linecolor\":\"white\",\"ticks\":\"\"}},\"title\":{\"x\":0.05},\"xaxis\":{\"automargin\":true,\"gridcolor\":\"white\",\"linecolor\":\"white\",\"ticks\":\"\",\"title\":{\"standoff\":15},\"zerolinecolor\":\"white\",\"zerolinewidth\":2},\"yaxis\":{\"automargin\":true,\"gridcolor\":\"white\",\"linecolor\":\"white\",\"ticks\":\"\",\"title\":{\"standoff\":15},\"zerolinecolor\":\"white\",\"zerolinewidth\":2}}},\"scene\":{\"camera\":{\"up\":{\"x\":0,\"y\":0,\"z\":1},\"eye\":{\"x\":0,\"y\":1.0707,\"z\":1}},\"aspectratio\":{\"x\":1,\"y\":1,\"z\":0.7},\"aspectmode\":\"manual\"},\"width\":800,\"height\":700,\"autosize\":false},                        {\"responsive\": true}                    ).then(function(){\n",
       "                            \n",
       "var gd = document.getElementById('b49d5a95-afaf-4e7a-bfc7-f3d79432c3cd');\n",
       "var x = new MutationObserver(function (mutations, observer) {{\n",
       "        var display = window.getComputedStyle(gd).display;\n",
       "        if (!display || display === 'none') {{\n",
       "            console.log([gd, 'removed!']);\n",
       "            Plotly.purge(gd);\n",
       "            observer.disconnect();\n",
       "        }}\n",
       "}});\n",
       "\n",
       "// Listen for the removal of the full notebook cells\n",
       "var notebookContainer = gd.closest('#notebook-container');\n",
       "if (notebookContainer) {{\n",
       "    x.observe(notebookContainer, {childList: true});\n",
       "}}\n",
       "\n",
       "// Listen for the clearing of the current output cell\n",
       "var outputEl = gd.closest('.output');\n",
       "if (outputEl) {{\n",
       "    x.observe(outputEl, {childList: true});\n",
       "}}\n",
       "\n",
       "                        })                };                });            </script>        </div>"
      ]
     },
     "metadata": {},
     "output_type": "display_data"
    }
   ],
   "source": [
    "#PER LA LINEA INVECE DEI PUNTI DOVREI SEGUIRE QUESTO PRINCIPIO E POI CI ADD TRACE DEL TETRAEDRO\n",
    "\n",
    "import plotly.graph_objects as go\n",
    "import pandas as pd\n",
    "import numpy as np\n",
    "\n",
    "rs = np.random.RandomState()\n",
    "rs.seed(0)\n",
    "\n",
    "def brownian_motion(T = 1, N = 100, mu = 0.1, sigma = 0.01, S0 = 20):\n",
    "    dt = float(T)/N\n",
    "    t = np.linspace(0, T, N)\n",
    "    W = rs.standard_normal(size = N)\n",
    "    W = np.cumsum(W)*np.sqrt(dt) # standard brownian motion\n",
    "    X = (mu-0.5*sigma**2)*t + sigma*W\n",
    "    S = S0*np.exp(X) # geometric brownian motion\n",
    "    return S\n",
    "\n",
    "dates = pd.date_range('2012-01-01', '2013-02-22')\n",
    "T = (dates.max()-dates.min()).days / 365\n",
    "N = dates.size\n",
    "start_price = 100\n",
    "y = brownian_motion(T, N, sigma=0.1, S0=start_price)\n",
    "z = brownian_motion(T, N, sigma=0.1, S0=start_price)\n",
    "\n",
    "fig = go.Figure(data=go.Scatter3d(\n",
    "    x=dates, y=y, z=z,\n",
    "    marker=dict(\n",
    "        size=4,\n",
    "        color=z,\n",
    "        colorscale='Viridis',\n",
    "    ),\n",
    "    line=dict(\n",
    "        color='darkblue',\n",
    "        width=2\n",
    "    )\n",
    "))\n",
    "\n",
    "fig.update_layout(\n",
    "    width=800,\n",
    "    height=700,\n",
    "    autosize=False,\n",
    "    scene=dict(\n",
    "        camera=dict(\n",
    "            up=dict(\n",
    "                x=0,\n",
    "                y=0,\n",
    "                z=1\n",
    "            ),\n",
    "            eye=dict(\n",
    "                x=0,\n",
    "                y=1.0707,\n",
    "                z=1,\n",
    "            )\n",
    "        ),\n",
    "        aspectratio = dict( x=1, y=1, z=0.7 ),\n",
    "        aspectmode = 'manual'\n",
    "    ),\n",
    ")\n",
    "\n",
    "fig.show()"
   ]
  }
 ],
 "metadata": {
  "kernelspec": {
   "display_name": "Python 3 (ipykernel)",
   "language": "python",
   "name": "python3"
  },
  "language_info": {
   "codemirror_mode": {
    "name": "ipython",
    "version": 3
   },
   "file_extension": ".py",
   "mimetype": "text/x-python",
   "name": "python",
   "nbconvert_exporter": "python",
   "pygments_lexer": "ipython3",
   "version": "3.10.2"
  }
 },
 "nbformat": 4,
 "nbformat_minor": 5
}
