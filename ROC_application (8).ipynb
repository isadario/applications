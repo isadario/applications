{
 "cells": [
  {
   "cell_type": "markdown",
   "id": "bea683cd",
   "metadata": {},
   "source": [
    "# 1. Loading and reading of the cleaned dataset "
   ]
  },
  {
   "cell_type": "code",
   "execution_count": 1,
   "id": "0f95b8cb",
   "metadata": {},
   "outputs": [],
   "source": [
    "#downloaded the dataset from the UCI repository archive \n",
    "#(https://archive.ics.uci.edu/ml/datasets/chronic_kidney_disease)\n",
    "\n",
    "#decompressed the RAR file \n",
    "#turned the arff file into csv (using Python converter)\n",
    "\n",
    "# now loading full csv into the notebook\n",
    "\n",
    "import pandas as pd\n",
    "import numpy as np\n",
    "import matplotlib\n",
    "from matplotlib import pyplot as plt\n",
    "import seaborn as sns"
   ]
  },
  {
   "cell_type": "code",
   "execution_count": 2,
   "id": "16976d5c",
   "metadata": {},
   "outputs": [],
   "source": [
    "data = pd.read_csv('data/cleaned.csv', header = 0, on_bad_lines='skip')\n",
    "\n",
    "#there are only 25 features so no need to load only a subset of the features and no need to use chunksize"
   ]
  },
  {
   "cell_type": "code",
   "execution_count": 3,
   "id": "e88edd44",
   "metadata": {},
   "outputs": [],
   "source": [
    "data = data.drop(data.columns[0], axis=1)"
   ]
  },
  {
   "cell_type": "code",
   "execution_count": 4,
   "id": "3b2f5c9f",
   "metadata": {},
   "outputs": [
    {
     "data": {
      "text/html": [
       "<div>\n",
       "<style scoped>\n",
       "    .dataframe tbody tr th:only-of-type {\n",
       "        vertical-align: middle;\n",
       "    }\n",
       "\n",
       "    .dataframe tbody tr th {\n",
       "        vertical-align: top;\n",
       "    }\n",
       "\n",
       "    .dataframe thead th {\n",
       "        text-align: right;\n",
       "    }\n",
       "</style>\n",
       "<table border=\"1\" class=\"dataframe\">\n",
       "  <thead>\n",
       "    <tr style=\"text-align: right;\">\n",
       "      <th></th>\n",
       "      <th>age</th>\n",
       "      <th>rbcc</th>\n",
       "      <th>pcv</th>\n",
       "      <th>hemo</th>\n",
       "      <th>bp</th>\n",
       "      <th>bgr</th>\n",
       "      <th>bu</th>\n",
       "      <th>sc</th>\n",
       "      <th>sod</th>\n",
       "      <th>pot</th>\n",
       "      <th>...</th>\n",
       "      <th>pe_no</th>\n",
       "      <th>pe_yes</th>\n",
       "      <th>sg_1.005</th>\n",
       "      <th>sg_1.010</th>\n",
       "      <th>sg_1.015</th>\n",
       "      <th>sg_1.020</th>\n",
       "      <th>sg_1.025</th>\n",
       "      <th>pcc_notpresent</th>\n",
       "      <th>pcc_present</th>\n",
       "      <th>class</th>\n",
       "    </tr>\n",
       "  </thead>\n",
       "  <tbody>\n",
       "    <tr>\n",
       "      <th>0</th>\n",
       "      <td>-0.205954</td>\n",
       "      <td>0.583606</td>\n",
       "      <td>0.626585</td>\n",
       "      <td>1.043279</td>\n",
       "      <td>0.250168</td>\n",
       "      <td>-0.313799</td>\n",
       "      <td>-0.414139</td>\n",
       "      <td>-0.324225</td>\n",
       "      <td>0.040817</td>\n",
       "      <td>-0.064328</td>\n",
       "      <td>...</td>\n",
       "      <td>1</td>\n",
       "      <td>0</td>\n",
       "      <td>0</td>\n",
       "      <td>0</td>\n",
       "      <td>0</td>\n",
       "      <td>1</td>\n",
       "      <td>0</td>\n",
       "      <td>1</td>\n",
       "      <td>0</td>\n",
       "      <td>1</td>\n",
       "    </tr>\n",
       "    <tr>\n",
       "      <th>1</th>\n",
       "      <td>-2.640637</td>\n",
       "      <td>0.000000</td>\n",
       "      <td>-0.099558</td>\n",
       "      <td>-0.452605</td>\n",
       "      <td>-1.961241</td>\n",
       "      <td>-0.313799</td>\n",
       "      <td>-0.775077</td>\n",
       "      <td>-0.400624</td>\n",
       "      <td>0.040817</td>\n",
       "      <td>-0.064328</td>\n",
       "      <td>...</td>\n",
       "      <td>1</td>\n",
       "      <td>0</td>\n",
       "      <td>0</td>\n",
       "      <td>0</td>\n",
       "      <td>0</td>\n",
       "      <td>1</td>\n",
       "      <td>0</td>\n",
       "      <td>1</td>\n",
       "      <td>0</td>\n",
       "      <td>1</td>\n",
       "    </tr>\n",
       "    <tr>\n",
       "      <th>2</th>\n",
       "      <td>0.625402</td>\n",
       "      <td>0.000000</td>\n",
       "      <td>-0.946724</td>\n",
       "      <td>-1.072850</td>\n",
       "      <td>0.250168</td>\n",
       "      <td>3.719296</td>\n",
       "      <td>-0.073253</td>\n",
       "      <td>-0.209627</td>\n",
       "      <td>0.040817</td>\n",
       "      <td>-0.064328</td>\n",
       "      <td>...</td>\n",
       "      <td>1</td>\n",
       "      <td>0</td>\n",
       "      <td>0</td>\n",
       "      <td>1</td>\n",
       "      <td>0</td>\n",
       "      <td>0</td>\n",
       "      <td>0</td>\n",
       "      <td>1</td>\n",
       "      <td>0</td>\n",
       "      <td>1</td>\n",
       "    </tr>\n",
       "    <tr>\n",
       "      <th>3</th>\n",
       "      <td>-0.205954</td>\n",
       "      <td>-0.940620</td>\n",
       "      <td>-0.825700</td>\n",
       "      <td>-0.489090</td>\n",
       "      <td>-0.486968</td>\n",
       "      <td>-0.367217</td>\n",
       "      <td>-0.013096</td>\n",
       "      <td>0.172368</td>\n",
       "      <td>-2.843192</td>\n",
       "      <td>-0.726016</td>\n",
       "      <td>...</td>\n",
       "      <td>0</td>\n",
       "      <td>1</td>\n",
       "      <td>1</td>\n",
       "      <td>0</td>\n",
       "      <td>0</td>\n",
       "      <td>0</td>\n",
       "      <td>0</td>\n",
       "      <td>0</td>\n",
       "      <td>1</td>\n",
       "      <td>1</td>\n",
       "    </tr>\n",
       "    <tr>\n",
       "      <th>4</th>\n",
       "      <td>-0.027806</td>\n",
       "      <td>-0.119883</td>\n",
       "      <td>-0.462629</td>\n",
       "      <td>-0.343150</td>\n",
       "      <td>0.250168</td>\n",
       "      <td>-0.514118</td>\n",
       "      <td>-0.614660</td>\n",
       "      <td>-0.286026</td>\n",
       "      <td>0.040817</td>\n",
       "      <td>-0.064328</td>\n",
       "      <td>...</td>\n",
       "      <td>1</td>\n",
       "      <td>0</td>\n",
       "      <td>0</td>\n",
       "      <td>1</td>\n",
       "      <td>0</td>\n",
       "      <td>0</td>\n",
       "      <td>0</td>\n",
       "      <td>1</td>\n",
       "      <td>0</td>\n",
       "      <td>1</td>\n",
       "    </tr>\n",
       "    <tr>\n",
       "      <th>...</th>\n",
       "      <td>...</td>\n",
       "      <td>...</td>\n",
       "      <td>...</td>\n",
       "      <td>...</td>\n",
       "      <td>...</td>\n",
       "      <td>...</td>\n",
       "      <td>...</td>\n",
       "      <td>...</td>\n",
       "      <td>...</td>\n",
       "      <td>...</td>\n",
       "      <td>...</td>\n",
       "      <td>...</td>\n",
       "      <td>...</td>\n",
       "      <td>...</td>\n",
       "      <td>...</td>\n",
       "      <td>...</td>\n",
       "      <td>...</td>\n",
       "      <td>...</td>\n",
       "      <td>...</td>\n",
       "      <td>...</td>\n",
       "      <td>...</td>\n",
       "    </tr>\n",
       "    <tr>\n",
       "      <th>381</th>\n",
       "      <td>0.209724</td>\n",
       "      <td>0.231861</td>\n",
       "      <td>0.989656</td>\n",
       "      <td>1.152734</td>\n",
       "      <td>0.250168</td>\n",
       "      <td>-0.060061</td>\n",
       "      <td>-0.153461</td>\n",
       "      <td>-0.457924</td>\n",
       "      <td>1.322598</td>\n",
       "      <td>0.109800</td>\n",
       "      <td>...</td>\n",
       "      <td>1</td>\n",
       "      <td>0</td>\n",
       "      <td>0</td>\n",
       "      <td>0</td>\n",
       "      <td>0</td>\n",
       "      <td>1</td>\n",
       "      <td>0</td>\n",
       "      <td>1</td>\n",
       "      <td>0</td>\n",
       "      <td>0</td>\n",
       "    </tr>\n",
       "    <tr>\n",
       "      <th>382</th>\n",
       "      <td>-0.562249</td>\n",
       "      <td>1.756087</td>\n",
       "      <td>1.836822</td>\n",
       "      <td>1.444614</td>\n",
       "      <td>-0.486968</td>\n",
       "      <td>-0.928112</td>\n",
       "      <td>-0.514399</td>\n",
       "      <td>-0.324225</td>\n",
       "      <td>0.361262</td>\n",
       "      <td>-0.377759</td>\n",
       "      <td>...</td>\n",
       "      <td>1</td>\n",
       "      <td>0</td>\n",
       "      <td>0</td>\n",
       "      <td>0</td>\n",
       "      <td>0</td>\n",
       "      <td>0</td>\n",
       "      <td>1</td>\n",
       "      <td>1</td>\n",
       "      <td>0</td>\n",
       "      <td>0</td>\n",
       "    </tr>\n",
       "    <tr>\n",
       "      <th>383</th>\n",
       "      <td>-2.343724</td>\n",
       "      <td>0.818102</td>\n",
       "      <td>1.231703</td>\n",
       "      <td>1.189219</td>\n",
       "      <td>0.250168</td>\n",
       "      <td>-0.594246</td>\n",
       "      <td>-0.614660</td>\n",
       "      <td>-0.438824</td>\n",
       "      <td>-0.065998</td>\n",
       "      <td>-0.064328</td>\n",
       "      <td>...</td>\n",
       "      <td>1</td>\n",
       "      <td>0</td>\n",
       "      <td>0</td>\n",
       "      <td>0</td>\n",
       "      <td>0</td>\n",
       "      <td>1</td>\n",
       "      <td>0</td>\n",
       "      <td>1</td>\n",
       "      <td>0</td>\n",
       "      <td>0</td>\n",
       "    </tr>\n",
       "    <tr>\n",
       "      <th>384</th>\n",
       "      <td>-2.046812</td>\n",
       "      <td>1.404343</td>\n",
       "      <td>1.473751</td>\n",
       "      <td>0.605459</td>\n",
       "      <td>-1.224104</td>\n",
       "      <td>-0.407281</td>\n",
       "      <td>-0.133409</td>\n",
       "      <td>-0.362425</td>\n",
       "      <td>-0.279629</td>\n",
       "      <td>0.109800</td>\n",
       "      <td>...</td>\n",
       "      <td>1</td>\n",
       "      <td>0</td>\n",
       "      <td>0</td>\n",
       "      <td>0</td>\n",
       "      <td>0</td>\n",
       "      <td>0</td>\n",
       "      <td>1</td>\n",
       "      <td>1</td>\n",
       "      <td>0</td>\n",
       "      <td>0</td>\n",
       "    </tr>\n",
       "    <tr>\n",
       "      <th>385</th>\n",
       "      <td>0.387872</td>\n",
       "      <td>1.638839</td>\n",
       "      <td>1.715798</td>\n",
       "      <td>1.189219</td>\n",
       "      <td>0.250168</td>\n",
       "      <td>-0.180253</td>\n",
       "      <td>-0.775077</td>\n",
       "      <td>-0.343325</td>\n",
       "      <td>0.361262</td>\n",
       "      <td>-0.377759</td>\n",
       "      <td>...</td>\n",
       "      <td>1</td>\n",
       "      <td>0</td>\n",
       "      <td>0</td>\n",
       "      <td>0</td>\n",
       "      <td>0</td>\n",
       "      <td>0</td>\n",
       "      <td>1</td>\n",
       "      <td>1</td>\n",
       "      <td>0</td>\n",
       "      <td>0</td>\n",
       "    </tr>\n",
       "  </tbody>\n",
       "</table>\n",
       "<p>386 rows × 49 columns</p>\n",
       "</div>"
      ],
      "text/plain": [
       "          age      rbcc       pcv      hemo        bp       bgr        bu  \\\n",
       "0   -0.205954  0.583606  0.626585  1.043279  0.250168 -0.313799 -0.414139   \n",
       "1   -2.640637  0.000000 -0.099558 -0.452605 -1.961241 -0.313799 -0.775077   \n",
       "2    0.625402  0.000000 -0.946724 -1.072850  0.250168  3.719296 -0.073253   \n",
       "3   -0.205954 -0.940620 -0.825700 -0.489090 -0.486968 -0.367217 -0.013096   \n",
       "4   -0.027806 -0.119883 -0.462629 -0.343150  0.250168 -0.514118 -0.614660   \n",
       "..        ...       ...       ...       ...       ...       ...       ...   \n",
       "381  0.209724  0.231861  0.989656  1.152734  0.250168 -0.060061 -0.153461   \n",
       "382 -0.562249  1.756087  1.836822  1.444614 -0.486968 -0.928112 -0.514399   \n",
       "383 -2.343724  0.818102  1.231703  1.189219  0.250168 -0.594246 -0.614660   \n",
       "384 -2.046812  1.404343  1.473751  0.605459 -1.224104 -0.407281 -0.133409   \n",
       "385  0.387872  1.638839  1.715798  1.189219  0.250168 -0.180253 -0.775077   \n",
       "\n",
       "           sc       sod       pot  ...  pe_no  pe_yes  sg_1.005  sg_1.010  \\\n",
       "0   -0.324225  0.040817 -0.064328  ...      1       0         0         0   \n",
       "1   -0.400624  0.040817 -0.064328  ...      1       0         0         0   \n",
       "2   -0.209627  0.040817 -0.064328  ...      1       0         0         1   \n",
       "3    0.172368 -2.843192 -0.726016  ...      0       1         1         0   \n",
       "4   -0.286026  0.040817 -0.064328  ...      1       0         0         1   \n",
       "..        ...       ...       ...  ...    ...     ...       ...       ...   \n",
       "381 -0.457924  1.322598  0.109800  ...      1       0         0         0   \n",
       "382 -0.324225  0.361262 -0.377759  ...      1       0         0         0   \n",
       "383 -0.438824 -0.065998 -0.064328  ...      1       0         0         0   \n",
       "384 -0.362425 -0.279629  0.109800  ...      1       0         0         0   \n",
       "385 -0.343325  0.361262 -0.377759  ...      1       0         0         0   \n",
       "\n",
       "     sg_1.015  sg_1.020  sg_1.025  pcc_notpresent  pcc_present  class  \n",
       "0           0         1         0               1            0      1  \n",
       "1           0         1         0               1            0      1  \n",
       "2           0         0         0               1            0      1  \n",
       "3           0         0         0               0            1      1  \n",
       "4           0         0         0               1            0      1  \n",
       "..        ...       ...       ...             ...          ...    ...  \n",
       "381         0         1         0               1            0      0  \n",
       "382         0         0         1               1            0      0  \n",
       "383         0         1         0               1            0      0  \n",
       "384         0         0         1               1            0      0  \n",
       "385         0         0         1               1            0      0  \n",
       "\n",
       "[386 rows x 49 columns]"
      ]
     },
     "execution_count": 4,
     "metadata": {},
     "output_type": "execute_result"
    }
   ],
   "source": [
    "data"
   ]
  },
  {
   "cell_type": "markdown",
   "id": "836ba9e4",
   "metadata": {},
   "source": [
    "## 2.5 Splitting the dataset"
   ]
  },
  {
   "cell_type": "code",
   "execution_count": 5,
   "id": "50d32df4",
   "metadata": {},
   "outputs": [],
   "source": [
    "from sklearn.model_selection import train_test_split"
   ]
  },
  {
   "cell_type": "code",
   "execution_count": 6,
   "id": "ea0be972",
   "metadata": {},
   "outputs": [],
   "source": [
    "#target variable\n",
    "y = data['class']\n",
    "y\n",
    "\n",
    "#predictors\n",
    "x = data.copy()\n",
    "x.drop('class', inplace=True, axis=1)"
   ]
  },
  {
   "cell_type": "code",
   "execution_count": 7,
   "id": "6729ed29",
   "metadata": {},
   "outputs": [],
   "source": [
    "#split train and test\n",
    "X_train, X_test, y_train, y_test = train_test_split(x, y, test_size=0.33, random_state=42)\n",
    "#randomstate for reproducibility"
   ]
  },
  {
   "cell_type": "markdown",
   "id": "d1eee5d5",
   "metadata": {},
   "source": [
    "# 3. Fitting logistic regression  (giusto per avere un modello)"
   ]
  },
  {
   "cell_type": "code",
   "execution_count": 8,
   "id": "6abea9fa",
   "metadata": {
    "scrolled": true
   },
   "outputs": [],
   "source": [
    "#import \n",
    "from sklearn.linear_model import LogisticRegression\n",
    "\n",
    "\n",
    "#instance of the model \n",
    "logreg = LogisticRegression()\n",
    "\n",
    "#the model learns the relationship between predictors and label \n",
    "logreg.fit(X_train, y_train)\n",
    "\n",
    "#predict the label on test set \n",
    "y_pred = logreg.predict(X_test)"
   ]
  },
  {
   "cell_type": "code",
   "execution_count": 9,
   "id": "71f5df9b",
   "metadata": {},
   "outputs": [
    {
     "data": {
      "text/plain": [
       "array([0, 0, 1, 0, 1, 0, 1, 1, 0, 1, 1, 1, 1, 1, 1, 0, 1, 1, 0, 0, 1, 1,\n",
       "       1, 1, 1, 1, 1, 1, 0, 1, 0, 1, 1, 1, 1, 1, 1, 1, 0, 0, 1, 1, 0, 1,\n",
       "       1, 1, 0, 1, 1, 1, 0, 1, 1, 0, 1, 1, 0, 1, 0, 0, 0, 0, 1, 0, 1, 1,\n",
       "       1, 1, 1, 0, 1, 1, 1, 1, 1, 0, 1, 1, 0, 0, 0, 1, 1, 0, 1, 1, 0, 1,\n",
       "       0, 0, 0, 1, 0, 1, 1, 1, 1, 1, 1, 1, 0, 0, 1, 1, 0, 0, 0, 1, 1, 0,\n",
       "       1, 0, 0, 1, 1, 0, 1, 1, 0, 1, 0, 1, 1, 0, 0, 0, 1, 0])"
      ]
     },
     "execution_count": 9,
     "metadata": {},
     "output_type": "execute_result"
    }
   ],
   "source": [
    "y_pred #y_hat"
   ]
  },
  {
   "cell_type": "code",
   "execution_count": 10,
   "id": "d6810b83",
   "metadata": {},
   "outputs": [
    {
     "data": {
      "text/plain": [
       "array([0, 0, 1, 0, 1, 0, 1, 1, 0, 1, 1, 1, 1, 1, 1, 0, 1, 1, 0, 0, 1, 1,\n",
       "       1, 1, 1, 1, 1, 1, 0, 1, 0, 1, 1, 1, 1, 1, 1, 1, 0, 0, 1, 1, 0, 1,\n",
       "       1, 1, 0, 1, 1, 1, 0, 1, 1, 0, 1, 1, 0, 0, 0, 0, 0, 0, 1, 0, 1, 1,\n",
       "       1, 1, 1, 0, 1, 1, 1, 1, 1, 0, 1, 1, 0, 0, 0, 1, 1, 0, 1, 1, 0, 1,\n",
       "       0, 0, 0, 1, 0, 1, 1, 1, 1, 1, 1, 1, 0, 0, 1, 1, 0, 0, 0, 1, 1, 0,\n",
       "       1, 0, 0, 1, 1, 0, 1, 1, 0, 1, 0, 1, 1, 0, 0, 0, 1, 0])"
      ]
     },
     "execution_count": 10,
     "metadata": {},
     "output_type": "execute_result"
    }
   ],
   "source": [
    "y_test = y_test.copy().values #y_actual (trasformati da series a array)\n",
    "y_test"
   ]
  },
  {
   "cell_type": "code",
   "execution_count": 11,
   "id": "025c1244",
   "metadata": {},
   "outputs": [],
   "source": [
    "#CODICE PER GENERARMI LA CONFUSION MATRIX DATI ACTUAL VALUES E PREDICTIONS \n",
    "\n",
    "#Given two lists that have the predicted and actual values, I can pass them to \n",
    "\n",
    "def generate_matrix_entries(y_actual, y_hat):\n",
    "    TP = 0\n",
    "    FP = 0\n",
    "    TN = 0\n",
    "    FN = 0\n",
    "\n",
    "    for i in range(len(y_hat)): \n",
    "        if y_actual[i]==y_hat[i]==1:                #se prediction = actual = 1 -> TP\n",
    "           TP += 1\n",
    "        if y_hat[i]==1 and y_actual[i]!=y_hat[i]:   #se prediction = 1 but different from the actual -> FP\n",
    "           FP += 1\n",
    "        if y_actual[i]==y_hat[i]==0:                #se prediction = actual = 0 -> TN\n",
    "           TN += 1\n",
    "        if y_hat[i]==0 and y_actual[i]!=y_hat[i]:   #se prediction = 0 but different from the actual -> FN\n",
    "           FN += 1\n",
    "\n",
    "    return (TN,FP,FN,TP)\n",
    "\n",
    "#np.array([[TN, FP],\n",
    "#            [FN, TP]])   #così come la ottengo da sklearn -> rimessa in lista per fare l'assignment simultaneo poi\n",
    "\n",
    "\n",
    "#in teoria a questa funzione devo aggiungere un ciclo for sul threshold per ottenere tutte le varie \n",
    "#CM associate a ciascun valore del threshold \n",
    "#(  dalle CM poi normalizzo e prendo le coordinate\n",
    "#   e mi devo estrarre anche fpr e tpr per ROC)"
   ]
  },
  {
   "cell_type": "code",
   "execution_count": 12,
   "id": "4b774cfa",
   "metadata": {},
   "outputs": [
    {
     "data": {
      "text/plain": [
       "array([[48,  1],\n",
       "       [ 0, 79]])"
      ]
     },
     "execution_count": 12,
     "metadata": {},
     "output_type": "execute_result"
    }
   ],
   "source": [
    "from sklearn import metrics\n",
    "from sklearn.metrics import confusion_matrix\n",
    "\n",
    "confusion_matrix(y_test,y_pred) #check della struttura perchè l'output è diverso dal paper cioè è inversa\n",
    "\n",
    "#TP=79\n",
    "#TN=48\n",
    "#FP=1\n",
    "#FN=0"
   ]
  },
  {
   "cell_type": "code",
   "execution_count": 13,
   "id": "e3ec1d22",
   "metadata": {},
   "outputs": [],
   "source": [
    "#MODELLO OTTIENE PREDICTIONS SULLA BASE DI QUESTE PROBS \n",
    "\n",
    "#probability che ciascun elemento appartenga alla classe 0 e stesso per classe 1\n",
    "probs = logreg.predict_proba(X_test) \n",
    "\n",
    "#prendo probabilità associata alla classe 1 \n",
    "preds = probs[:,1] #y_probs -> un valore tra 0 e 1 -> quello che confronto con threshold \n",
    "\n",
    "#preds #P(Y=1)"
   ]
  },
  {
   "cell_type": "code",
   "execution_count": 14,
   "id": "9056f40d",
   "metadata": {},
   "outputs": [
    {
     "data": {
      "text/plain": [
       "array([0.  , 0.01, 0.02, 0.03, 0.04, 0.05, 0.06, 0.07, 0.08, 0.09, 0.1 ,\n",
       "       0.11, 0.12, 0.13, 0.14, 0.15, 0.16, 0.17, 0.18, 0.19, 0.2 , 0.21,\n",
       "       0.22, 0.23, 0.24, 0.25, 0.26, 0.27, 0.28, 0.29, 0.3 , 0.31, 0.32,\n",
       "       0.33, 0.34, 0.35, 0.36, 0.37, 0.38, 0.39, 0.4 , 0.41, 0.42, 0.43,\n",
       "       0.44, 0.45, 0.46, 0.47, 0.48, 0.49, 0.5 , 0.51, 0.52, 0.53, 0.54,\n",
       "       0.55, 0.56, 0.57, 0.58, 0.59, 0.6 , 0.61, 0.62, 0.63, 0.64, 0.65,\n",
       "       0.66, 0.67, 0.68, 0.69, 0.7 , 0.71, 0.72, 0.73, 0.74, 0.75, 0.76,\n",
       "       0.77, 0.78, 0.79, 0.8 , 0.81, 0.82, 0.83, 0.84, 0.85, 0.86, 0.87,\n",
       "       0.88, 0.89, 0.9 , 0.91, 0.92, 0.93, 0.94, 0.95, 0.96, 0.97, 0.98,\n",
       "       0.99, 1.  ])"
      ]
     },
     "execution_count": 14,
     "metadata": {},
     "output_type": "execute_result"
    }
   ],
   "source": [
    "#DEFINISCO IL VETTORE CON TUTTI I VALORI DEL THRESHOLD \n",
    "\n",
    "thresholds = np.arange(0,1.01,0.01) #0.001 - discretizzo con pochi poi eventualmente ne aggiungo\n",
    "thresholds"
   ]
  },
  {
   "cell_type": "code",
   "execution_count": 15,
   "id": "f613c303",
   "metadata": {},
   "outputs": [
    {
     "data": {
      "text/html": [
       "<div>\n",
       "<style scoped>\n",
       "    .dataframe tbody tr th:only-of-type {\n",
       "        vertical-align: middle;\n",
       "    }\n",
       "\n",
       "    .dataframe tbody tr th {\n",
       "        vertical-align: top;\n",
       "    }\n",
       "\n",
       "    .dataframe thead th {\n",
       "        text-align: right;\n",
       "    }\n",
       "</style>\n",
       "<table border=\"1\" class=\"dataframe\">\n",
       "  <thead>\n",
       "    <tr style=\"text-align: right;\">\n",
       "      <th></th>\n",
       "      <th>TN</th>\n",
       "      <th>FP</th>\n",
       "      <th>TP</th>\n",
       "      <th>threshold</th>\n",
       "      <th>TPR</th>\n",
       "      <th>FPR</th>\n",
       "    </tr>\n",
       "  </thead>\n",
       "  <tbody>\n",
       "    <tr>\n",
       "      <th>0</th>\n",
       "      <td>0.000000</td>\n",
       "      <td>0.382812</td>\n",
       "      <td>0.617188</td>\n",
       "      <td>0.00</td>\n",
       "      <td>1.000000</td>\n",
       "      <td>1.000000</td>\n",
       "    </tr>\n",
       "    <tr>\n",
       "      <th>1</th>\n",
       "      <td>0.164062</td>\n",
       "      <td>0.218750</td>\n",
       "      <td>0.617188</td>\n",
       "      <td>0.01</td>\n",
       "      <td>1.000000</td>\n",
       "      <td>0.571429</td>\n",
       "    </tr>\n",
       "    <tr>\n",
       "      <th>2</th>\n",
       "      <td>0.234375</td>\n",
       "      <td>0.148438</td>\n",
       "      <td>0.617188</td>\n",
       "      <td>0.02</td>\n",
       "      <td>1.000000</td>\n",
       "      <td>0.387755</td>\n",
       "    </tr>\n",
       "    <tr>\n",
       "      <th>3</th>\n",
       "      <td>0.250000</td>\n",
       "      <td>0.132812</td>\n",
       "      <td>0.617188</td>\n",
       "      <td>0.03</td>\n",
       "      <td>1.000000</td>\n",
       "      <td>0.346939</td>\n",
       "    </tr>\n",
       "    <tr>\n",
       "      <th>4</th>\n",
       "      <td>0.257812</td>\n",
       "      <td>0.125000</td>\n",
       "      <td>0.617188</td>\n",
       "      <td>0.04</td>\n",
       "      <td>1.000000</td>\n",
       "      <td>0.326531</td>\n",
       "    </tr>\n",
       "    <tr>\n",
       "      <th>...</th>\n",
       "      <td>...</td>\n",
       "      <td>...</td>\n",
       "      <td>...</td>\n",
       "      <td>...</td>\n",
       "      <td>...</td>\n",
       "      <td>...</td>\n",
       "    </tr>\n",
       "    <tr>\n",
       "      <th>96</th>\n",
       "      <td>0.382812</td>\n",
       "      <td>0.000000</td>\n",
       "      <td>0.507812</td>\n",
       "      <td>0.96</td>\n",
       "      <td>0.822785</td>\n",
       "      <td>0.000000</td>\n",
       "    </tr>\n",
       "    <tr>\n",
       "      <th>97</th>\n",
       "      <td>0.382812</td>\n",
       "      <td>0.000000</td>\n",
       "      <td>0.476562</td>\n",
       "      <td>0.97</td>\n",
       "      <td>0.772152</td>\n",
       "      <td>0.000000</td>\n",
       "    </tr>\n",
       "    <tr>\n",
       "      <th>98</th>\n",
       "      <td>0.382812</td>\n",
       "      <td>0.000000</td>\n",
       "      <td>0.453125</td>\n",
       "      <td>0.98</td>\n",
       "      <td>0.734177</td>\n",
       "      <td>0.000000</td>\n",
       "    </tr>\n",
       "    <tr>\n",
       "      <th>99</th>\n",
       "      <td>0.382812</td>\n",
       "      <td>0.000000</td>\n",
       "      <td>0.421875</td>\n",
       "      <td>0.99</td>\n",
       "      <td>0.683544</td>\n",
       "      <td>0.000000</td>\n",
       "    </tr>\n",
       "    <tr>\n",
       "      <th>100</th>\n",
       "      <td>0.382812</td>\n",
       "      <td>0.000000</td>\n",
       "      <td>0.000000</td>\n",
       "      <td>1.00</td>\n",
       "      <td>0.000000</td>\n",
       "      <td>0.000000</td>\n",
       "    </tr>\n",
       "  </tbody>\n",
       "</table>\n",
       "<p>101 rows × 6 columns</p>\n",
       "</div>"
      ],
      "text/plain": [
       "           TN        FP        TP  threshold       TPR       FPR\n",
       "0    0.000000  0.382812  0.617188       0.00  1.000000  1.000000\n",
       "1    0.164062  0.218750  0.617188       0.01  1.000000  0.571429\n",
       "2    0.234375  0.148438  0.617188       0.02  1.000000  0.387755\n",
       "3    0.250000  0.132812  0.617188       0.03  1.000000  0.346939\n",
       "4    0.257812  0.125000  0.617188       0.04  1.000000  0.326531\n",
       "..        ...       ...       ...        ...       ...       ...\n",
       "96   0.382812  0.000000  0.507812       0.96  0.822785  0.000000\n",
       "97   0.382812  0.000000  0.476562       0.97  0.772152  0.000000\n",
       "98   0.382812  0.000000  0.453125       0.98  0.734177  0.000000\n",
       "99   0.382812  0.000000  0.421875       0.99  0.683544  0.000000\n",
       "100  0.382812  0.000000  0.000000       1.00  0.000000  0.000000\n",
       "\n",
       "[101 rows x 6 columns]"
      ]
     },
     "execution_count": 15,
     "metadata": {},
     "output_type": "execute_result"
    }
   ],
   "source": [
    "#QUI PER OGNI VALORE DEL THRESHOLD MI CALCOLO TUTTO QUELLO CHE MI SERVE \n",
    "\n",
    "#il codice è brutto inizializzando tutte le liste ma intanto così funziona  \n",
    "#--> \n",
    "# 1. itero sui valori del threshold \n",
    "# 2. avendo le P(Y=1) per ciascun record in y_test faccio il confronto con il threshold (per farlo lo rendo vettore)\n",
    "#    così ottengo il vettore con le predizioni \n",
    "# 3. quindi utilizzo la funzione definita sopra (generate_matrix) per generarmi le matrici per ciascun record \n",
    "#    inputting actual (che sono quelle del test) e le pred appena calcolate \n",
    "#    e mi salvo tutti i risultati che poi appendo alla lista definita inizialmente (che poi converto in df)\n",
    "#    -   da un lato mi creo la confusion matrix (each_CM) ---> coordinate per CT [3D]\n",
    "#    -   dall'altro mi calcolo fpr e tpr --> coordinate per ROC [2D]    \n",
    "\n",
    "\n",
    "all_nCM = []\n",
    "all_ts = []\n",
    "all_TPR = []\n",
    "all_FPR = []\n",
    "\n",
    "#questo per la normalizzazione delle entries, è costante quindi me lo salvo qui \n",
    "N= len(y_test)\n",
    "\n",
    "#poi triggero il for \n",
    "for i in range(len(thresholds)):\n",
    "    \n",
    "    t = thresholds[i]\n",
    "    all_ts.append(round(t,3)) #che poi me lo metto nel dataframe \n",
    "    \n",
    "    t_vec = np.ones(preds.size)*t #t mi serve con dimensioni comparabili \n",
    "                                  #alla y_pred (quindi è vettore colonna con singolo t ripetuto)\n",
    "        \n",
    "    y_pred = (preds >= t_vec).astype(int) #vettore di boolean poi turned into binary\n",
    "                                          #risultante dal confronto di P(Y=1) >= threshold (confronto vettori)\n",
    "    \n",
    "    (TN, FP, FN, TP) = generate_matrix_entries(y_test, y_pred)\n",
    "    \n",
    "    each_CM = np.array([TN, FP,FN, TP])\n",
    "    \n",
    "    each_FPR = FP/(FP+TN) # = 1-specificity --> x\n",
    "    each_TPR = TP/(TP+FN) # = sensitivity --> y\n",
    "    \n",
    "    \n",
    "    each_nCM = each_CM/N\n",
    "    all_nCM.append(each_nCM)\n",
    "    \n",
    "    all_FPR.append(each_FPR)\n",
    "    all_TPR.append(each_TPR)\n",
    "    \n",
    "\n",
    "PD_all_nCM = pd.DataFrame(all_nCM) \n",
    "\n",
    "\n",
    "coords = PD_all_nCM.drop([2],axis=1) #coordinata di FN non ci interessa\n",
    "\n",
    "coords['threshold'] = all_ts\n",
    "coords.rename({0: 'TN', 1: 'FP', 3: 'TP'}, axis=1, inplace=True)\n",
    "\n",
    "coords['TPR']=all_TPR\n",
    "coords['FPR']=all_FPR   #per avere tutto in un unico df (quindi a sx coord per 3D, a dx coord per 2D)\n",
    "\n",
    "coords\n",
    "\n",
    "#QUESTO POI MAGARI ME LO METTO IN UNA FUNZIONE tipo obtain_DF(preds, y_test, threshold)                                                   "
   ]
  },
  {
   "cell_type": "code",
   "execution_count": 16,
   "id": "99eb9c70",
   "metadata": {},
   "outputs": [
    {
     "data": {
      "image/png": "[encoded data removed]",
      "text/plain": [
       "<Figure size 432x288 with 1 Axes>"
      ]
     },
     "metadata": {
      "needs_background": "light"
     },
     "output_type": "display_data"
    }
   ],
   "source": [
    "plt.plot(coords['FPR'],coords['TPR'])\n",
    "plt.show() #esempio di ROC bella "
   ]
  },
  {
   "cell_type": "code",
   "execution_count": 17,
   "id": "91a44757",
   "metadata": {},
   "outputs": [],
   "source": [
    "# per visualizzare i punti sul tetraedro uso il codice delle altre applicazioni\n",
    "# mettendo ciclo for sul numero di threshold per aggiungere ogni volta la trace"
   ]
  },
  {
   "cell_type": "code",
   "execution_count": 40,
   "id": "3a8e7582",
   "metadata": {},
   "outputs": [
    {
     "data": {
      "text/plain": [
       "'--- QUESTO ERA IL RISULTATO DI STANOTTE, ORA SONO RIUSCITA A METTERLI CON LA LINEA \\n\\nfig = go.Figure(data=[\\n    go.Mesh3d(\\n        x=[0, 0, 0, 1], #verticalmente ho definito O, C, B, A\\n        y=[0, 0, 1, 0],\\n        z=[0, 1, 0, 0],\\n        \\n        color = \\'grey\\',\\n\\n        #colors = colorRamp(c(\"red\",\\'yellow\\',\\'white\\',\\'green\\',\\'blue\\')),\\n        \\n        # Intensity of each vertex, which will be interpolated \\n        #and color-coded\\n        #intensity=[0, 0.33, 0.66, 1],\\n        \\n        opacity = 0.2, #for transparency\\n        \\n        # i, j and k sono i vertici dei triangoli\\n        # here we represent the 4 triangles of the tetrahedron surface\\n        i=[0, 0, 0, 1],\\n        j=[1, 2, 3, 2],\\n        k=[2, 3, 1, 3],\\n        name=\\'y\\',\\n        #showscale=True\\n    )\\n])\\n\\n\\nfor i in range(coords.shape[0]):\\n    fig.add_trace(go.Scatter3d(mode=\\'markers\\', \\n                               x= [coords[\\'TP\\'][i]],  #perchè la matrice è definita diversamente\\n                               y= [coords[\\'TN\\'][i]], \\n                               z= [coords[\\'FP\\'][i]], \\n                               marker = dict(color=\\'yellow\\', size=5), showlegend=False))\\n\\n    \\n\\nfig.show()\\n\\n\\n#mi torna \\n#ROC lavora su due assi che sono funzione delle stesse 3 variabili (fp,tn,tp) che io uso per ambiente CT\\n#   ( each_FPR = FP/(FP+TN) #=1-specificity --> x )\\n#   ( each_TPR = TP/(TP+FN) #=sensitivity --> y   )\\n#quindi ci sta che si sposti a sinistra\\n\\n\\n\\n#PROB FORSE è CHE VOGLIO LINEA CHE UNISCE QUESTI PUNTI NON PUNTI SINGOLI -> TODO \\n#lo stesso per le visualizzazioni successive\\n'"
      ]
     },
     "execution_count": 40,
     "metadata": {},
     "output_type": "execute_result"
    }
   ],
   "source": [
    "import numpy as np\n",
    "import plotly.graph_objects as go\n",
    "\n",
    "\"\"\"--- QUESTO ERA IL RISULTATO DI STANOTTE, ORA SONO RIUSCITA A METTERLI CON LA LINEA \n",
    "\n",
    "fig = go.Figure(data=[\n",
    "    go.Mesh3d(\n",
    "        x=[0, 0, 0, 1], #verticalmente ho definito O, C, B, A\n",
    "        y=[0, 0, 1, 0],\n",
    "        z=[0, 1, 0, 0],\n",
    "        \n",
    "        color = 'grey',\n",
    "\n",
    "        #colors = colorRamp(c(\"red\",'yellow','white','green','blue')),\n",
    "        \n",
    "        # Intensity of each vertex, which will be interpolated \n",
    "        #and color-coded\n",
    "        #intensity=[0, 0.33, 0.66, 1],\n",
    "        \n",
    "        opacity = 0.2, #for transparency\n",
    "        \n",
    "        # i, j and k sono i vertici dei triangoli\n",
    "        # here we represent the 4 triangles of the tetrahedron surface\n",
    "        i=[0, 0, 0, 1],\n",
    "        j=[1, 2, 3, 2],\n",
    "        k=[2, 3, 1, 3],\n",
    "        name='y',\n",
    "        #showscale=True\n",
    "    )\n",
    "])\n",
    "\n",
    "\n",
    "for i in range(coords.shape[0]):\n",
    "    fig.add_trace(go.Scatter3d(mode='markers', \n",
    "                               x= [coords['TP'][i]],  #perchè la matrice è definita diversamente\n",
    "                               y= [coords['TN'][i]], \n",
    "                               z= [coords['FP'][i]], \n",
    "                               marker = dict(color='yellow', size=5), showlegend=False))\n",
    "\n",
    "    \n",
    "\n",
    "fig.show()\n",
    "\n",
    "\n",
    "#mi torna \n",
    "#ROC lavora su due assi che sono funzione delle stesse 3 variabili (fp,tn,tp) che io uso per ambiente CT\n",
    "#   ( each_FPR = FP/(FP+TN) #=1-specificity --> x )\n",
    "#   ( each_TPR = TP/(TP+FN) #=sensitivity --> y   )\n",
    "#quindi ci sta che si sposti a sinistra\n",
    "\n",
    "\n",
    "\n",
    "#PROB FORSE è CHE VOGLIO LINEA CHE UNISCE QUESTI PUNTI NON PUNTI SINGOLI -> TODO \n",
    "#lo stesso per le visualizzazioni successive\n",
    "\"\"\"\n"
   ]
  },
  {
   "cell_type": "code",
   "execution_count": 30,
   "id": "b05914cb",
   "metadata": {},
   "outputs": [
    {
     "data": {
      "text/html": [
       "<div>\n",
       "<style scoped>\n",
       "    .dataframe tbody tr th:only-of-type {\n",
       "        vertical-align: middle;\n",
       "    }\n",
       "\n",
       "    .dataframe tbody tr th {\n",
       "        vertical-align: top;\n",
       "    }\n",
       "\n",
       "    .dataframe thead th {\n",
       "        text-align: right;\n",
       "    }\n",
       "</style>\n",
       "<table border=\"1\" class=\"dataframe\">\n",
       "  <thead>\n",
       "    <tr style=\"text-align: right;\">\n",
       "      <th></th>\n",
       "      <th>TN</th>\n",
       "      <th>FP</th>\n",
       "      <th>TP</th>\n",
       "      <th>threshold</th>\n",
       "      <th>TPR</th>\n",
       "      <th>FPR</th>\n",
       "    </tr>\n",
       "  </thead>\n",
       "  <tbody>\n",
       "    <tr>\n",
       "      <th>0</th>\n",
       "      <td>0.000000</td>\n",
       "      <td>0.382812</td>\n",
       "      <td>0.617188</td>\n",
       "      <td>0.00</td>\n",
       "      <td>1.000000</td>\n",
       "      <td>1.000000</td>\n",
       "    </tr>\n",
       "    <tr>\n",
       "      <th>1</th>\n",
       "      <td>0.164062</td>\n",
       "      <td>0.218750</td>\n",
       "      <td>0.617188</td>\n",
       "      <td>0.01</td>\n",
       "      <td>1.000000</td>\n",
       "      <td>0.571429</td>\n",
       "    </tr>\n",
       "    <tr>\n",
       "      <th>2</th>\n",
       "      <td>0.234375</td>\n",
       "      <td>0.148438</td>\n",
       "      <td>0.617188</td>\n",
       "      <td>0.02</td>\n",
       "      <td>1.000000</td>\n",
       "      <td>0.387755</td>\n",
       "    </tr>\n",
       "    <tr>\n",
       "      <th>3</th>\n",
       "      <td>0.250000</td>\n",
       "      <td>0.132812</td>\n",
       "      <td>0.617188</td>\n",
       "      <td>0.03</td>\n",
       "      <td>1.000000</td>\n",
       "      <td>0.346939</td>\n",
       "    </tr>\n",
       "    <tr>\n",
       "      <th>4</th>\n",
       "      <td>0.257812</td>\n",
       "      <td>0.125000</td>\n",
       "      <td>0.617188</td>\n",
       "      <td>0.04</td>\n",
       "      <td>1.000000</td>\n",
       "      <td>0.326531</td>\n",
       "    </tr>\n",
       "    <tr>\n",
       "      <th>...</th>\n",
       "      <td>...</td>\n",
       "      <td>...</td>\n",
       "      <td>...</td>\n",
       "      <td>...</td>\n",
       "      <td>...</td>\n",
       "      <td>...</td>\n",
       "    </tr>\n",
       "    <tr>\n",
       "      <th>96</th>\n",
       "      <td>0.382812</td>\n",
       "      <td>0.000000</td>\n",
       "      <td>0.507812</td>\n",
       "      <td>0.96</td>\n",
       "      <td>0.822785</td>\n",
       "      <td>0.000000</td>\n",
       "    </tr>\n",
       "    <tr>\n",
       "      <th>97</th>\n",
       "      <td>0.382812</td>\n",
       "      <td>0.000000</td>\n",
       "      <td>0.476562</td>\n",
       "      <td>0.97</td>\n",
       "      <td>0.772152</td>\n",
       "      <td>0.000000</td>\n",
       "    </tr>\n",
       "    <tr>\n",
       "      <th>98</th>\n",
       "      <td>0.382812</td>\n",
       "      <td>0.000000</td>\n",
       "      <td>0.453125</td>\n",
       "      <td>0.98</td>\n",
       "      <td>0.734177</td>\n",
       "      <td>0.000000</td>\n",
       "    </tr>\n",
       "    <tr>\n",
       "      <th>99</th>\n",
       "      <td>0.382812</td>\n",
       "      <td>0.000000</td>\n",
       "      <td>0.421875</td>\n",
       "      <td>0.99</td>\n",
       "      <td>0.683544</td>\n",
       "      <td>0.000000</td>\n",
       "    </tr>\n",
       "    <tr>\n",
       "      <th>100</th>\n",
       "      <td>0.382812</td>\n",
       "      <td>0.000000</td>\n",
       "      <td>0.000000</td>\n",
       "      <td>1.00</td>\n",
       "      <td>0.000000</td>\n",
       "      <td>0.000000</td>\n",
       "    </tr>\n",
       "  </tbody>\n",
       "</table>\n",
       "<p>101 rows × 6 columns</p>\n",
       "</div>"
      ],
      "text/plain": [
       "           TN        FP        TP  threshold       TPR       FPR\n",
       "0    0.000000  0.382812  0.617188       0.00  1.000000  1.000000\n",
       "1    0.164062  0.218750  0.617188       0.01  1.000000  0.571429\n",
       "2    0.234375  0.148438  0.617188       0.02  1.000000  0.387755\n",
       "3    0.250000  0.132812  0.617188       0.03  1.000000  0.346939\n",
       "4    0.257812  0.125000  0.617188       0.04  1.000000  0.326531\n",
       "..        ...       ...       ...        ...       ...       ...\n",
       "96   0.382812  0.000000  0.507812       0.96  0.822785  0.000000\n",
       "97   0.382812  0.000000  0.476562       0.97  0.772152  0.000000\n",
       "98   0.382812  0.000000  0.453125       0.98  0.734177  0.000000\n",
       "99   0.382812  0.000000  0.421875       0.99  0.683544  0.000000\n",
       "100  0.382812  0.000000  0.000000       1.00  0.000000  0.000000\n",
       "\n",
       "[101 rows x 6 columns]"
      ]
     },
     "execution_count": 30,
     "metadata": {},
     "output_type": "execute_result"
    }
   ],
   "source": [
    "coords"
   ]
  },
  {
   "cell_type": "code",
   "execution_count": 39,
   "id": "68e5e5dd",
   "metadata": {},
   "outputs": [
    {
     "data": {
      "application/vnd.plotly.v1+json": {
       "config": {
        "plotlyServerURL": "https://plot.ly"
       },
       "data": [
        {
         "line": {
          "color": "darkblue",
          "width": 3
         },
         "marker": {
          "colorscale": [
           [
            0,
            "#440154"
           ],
           [
            0.1111111111111111,
            "#482878"
           ],
           [
            0.2222222222222222,
            "#3e4989"
           ],
           [
            0.3333333333333333,
            "#31688e"
           ],
           [
            0.4444444444444444,
            "#26828e"
           ],
           [
            0.5555555555555556,
            "#1f9e89"
           ],
           [
            0.6666666666666666,
            "#35b779"
           ],
           [
            0.7777777777777778,
            "#6ece58"
           ],
           [
            0.8888888888888888,
            "#b5de2b"
           ],
           [
            1,
            "#fde725"
           ]
          ],
          "size": 2
         },
         "type": "scatter3d",
         "x": [
          0.6171875,
          0.6171875,
          0.6171875,
          0.6171875,
          0.6171875,
          0.6171875,
          0.6171875,
          0.6171875,
          0.6171875,
          0.6171875,
          0.6171875,
          0.6171875,
          0.6171875,
          0.6171875,
          0.6171875,
          0.6171875,
          0.6171875,
          0.6171875,
          0.6171875,
          0.6171875,
          0.6171875,
          0.6171875,
          0.6171875,
          0.6171875,
          0.6171875,
          0.6171875,
          0.6171875,
          0.6171875,
          0.6171875,
          0.6171875,
          0.6171875,
          0.6171875,
          0.6171875,
          0.6171875,
          0.6171875,
          0.6171875,
          0.6171875,
          0.6171875,
          0.6171875,
          0.6171875,
          0.6171875,
          0.6171875,
          0.6171875,
          0.6171875,
          0.6171875,
          0.6171875,
          0.6171875,
          0.6171875,
          0.6171875,
          0.6171875,
          0.6171875,
          0.6171875,
          0.6171875,
          0.6171875,
          0.6171875,
          0.6171875,
          0.6171875,
          0.6171875,
          0.6171875,
          0.609375,
          0.609375,
          0.609375,
          0.609375,
          0.609375,
          0.609375,
          0.609375,
          0.609375,
          0.6015625,
          0.6015625,
          0.6015625,
          0.6015625,
          0.6015625,
          0.6015625,
          0.6015625,
          0.59375,
          0.59375,
          0.59375,
          0.59375,
          0.59375,
          0.5859375,
          0.5859375,
          0.5859375,
          0.5859375,
          0.578125,
          0.578125,
          0.578125,
          0.578125,
          0.5703125,
          0.5703125,
          0.5625,
          0.5546875,
          0.5546875,
          0.5546875,
          0.546875,
          0.5390625,
          0.5234375,
          0.5078125,
          0.4765625,
          0.453125,
          0.421875,
          0
         ],
         "y": [
          0,
          0.1640625,
          0.234375,
          0.25,
          0.2578125,
          0.2734375,
          0.2890625,
          0.3046875,
          0.3125,
          0.328125,
          0.328125,
          0.34375,
          0.34375,
          0.34375,
          0.34375,
          0.34375,
          0.34375,
          0.3515625,
          0.359375,
          0.359375,
          0.359375,
          0.359375,
          0.359375,
          0.359375,
          0.359375,
          0.359375,
          0.359375,
          0.359375,
          0.359375,
          0.359375,
          0.359375,
          0.359375,
          0.359375,
          0.359375,
          0.3671875,
          0.3671875,
          0.3671875,
          0.3671875,
          0.3671875,
          0.3671875,
          0.3671875,
          0.375,
          0.375,
          0.375,
          0.375,
          0.375,
          0.375,
          0.375,
          0.375,
          0.375,
          0.375,
          0.375,
          0.375,
          0.375,
          0.375,
          0.375,
          0.375,
          0.375,
          0.375,
          0.375,
          0.375,
          0.375,
          0.375,
          0.375,
          0.375,
          0.375,
          0.3828125,
          0.3828125,
          0.3828125,
          0.3828125,
          0.3828125,
          0.3828125,
          0.3828125,
          0.3828125,
          0.3828125,
          0.3828125,
          0.3828125,
          0.3828125,
          0.3828125,
          0.3828125,
          0.3828125,
          0.3828125,
          0.3828125,
          0.3828125,
          0.3828125,
          0.3828125,
          0.3828125,
          0.3828125,
          0.3828125,
          0.3828125,
          0.3828125,
          0.3828125,
          0.3828125,
          0.3828125,
          0.3828125,
          0.3828125,
          0.3828125,
          0.3828125,
          0.3828125,
          0.3828125,
          0.3828125
         ],
         "z": [
          0.3828125,
          0.21875,
          0.1484375,
          0.1328125,
          0.125,
          0.109375,
          0.09375,
          0.078125,
          0.0703125,
          0.0546875,
          0.0546875,
          0.0390625,
          0.0390625,
          0.0390625,
          0.0390625,
          0.0390625,
          0.0390625,
          0.03125,
          0.0234375,
          0.0234375,
          0.0234375,
          0.0234375,
          0.0234375,
          0.0234375,
          0.0234375,
          0.0234375,
          0.0234375,
          0.0234375,
          0.0234375,
          0.0234375,
          0.0234375,
          0.0234375,
          0.0234375,
          0.0234375,
          0.015625,
          0.015625,
          0.015625,
          0.015625,
          0.015625,
          0.015625,
          0.015625,
          0.0078125,
          0.0078125,
          0.0078125,
          0.0078125,
          0.0078125,
          0.0078125,
          0.0078125,
          0.0078125,
          0.0078125,
          0.0078125,
          0.0078125,
          0.0078125,
          0.0078125,
          0.0078125,
          0.0078125,
          0.0078125,
          0.0078125,
          0.0078125,
          0.0078125,
          0.0078125,
          0.0078125,
          0.0078125,
          0.0078125,
          0.0078125,
          0.0078125,
          0,
          0,
          0,
          0,
          0,
          0,
          0,
          0,
          0,
          0,
          0,
          0,
          0,
          0,
          0,
          0,
          0,
          0,
          0,
          0,
          0,
          0,
          0,
          0,
          0,
          0,
          0,
          0,
          0,
          0,
          0,
          0,
          0,
          0,
          0
         ]
        },
        {
         "color": "lightgrey",
         "i": [
          0,
          0,
          0,
          1
         ],
         "j": [
          1,
          2,
          3,
          2
         ],
         "k": [
          2,
          3,
          1,
          3
         ],
         "name": "y",
         "opacity": 0.2,
         "showscale": true,
         "type": "mesh3d",
         "x": [
          0,
          0,
          0,
          1
         ],
         "y": [
          0,
          0,
          1,
          0
         ],
         "z": [
          0,
          1,
          0,
          0
         ]
        }
       ],
       "layout": {
        "template": {
         "data": {
          "bar": [
           {
            "error_x": {
             "color": "#2a3f5f"
            },
            "error_y": {
             "color": "#2a3f5f"
            },
            "marker": {
             "line": {
              "color": "#E5ECF6",
              "width": 0.5
             },
             "pattern": {
              "fillmode": "overlay",
              "size": 10,
              "solidity": 0.2
             }
            },
            "type": "bar"
           }
          ],
          "barpolar": [
           {
            "marker": {
             "line": {
              "color": "#E5ECF6",
              "width": 0.5
             },
             "pattern": {
              "fillmode": "overlay",
              "size": 10,
              "solidity": 0.2
             }
            },
            "type": "barpolar"
           }
          ],
          "carpet": [
           {
            "aaxis": {
             "endlinecolor": "#2a3f5f",
             "gridcolor": "white",
             "linecolor": "white",
             "minorgridcolor": "white",
             "startlinecolor": "#2a3f5f"
            },
            "baxis": {
             "endlinecolor": "#2a3f5f",
             "gridcolor": "white",
             "linecolor": "white",
             "minorgridcolor": "white",
             "startlinecolor": "#2a3f5f"
            },
            "type": "carpet"
           }
          ],
          "choropleth": [
           {
            "colorbar": {
             "outlinewidth": 0,
             "ticks": ""
            },
            "type": "choropleth"
           }
          ],
          "contour": [
           {
            "colorbar": {
             "outlinewidth": 0,
             "ticks": ""
            },
            "colorscale": [
             [
              0,
              "#0d0887"
             ],
             [
              0.1111111111111111,
              "#46039f"
             ],
             [
              0.2222222222222222,
              "#7201a8"
             ],
             [
              0.3333333333333333,
              "#9c179e"
             ],
             [
              0.4444444444444444,
              "#bd3786"
             ],
             [
              0.5555555555555556,
              "#d8576b"
             ],
             [
              0.6666666666666666,
              "#ed7953"
             ],
             [
              0.7777777777777778,
              "#fb9f3a"
             ],
             [
              0.8888888888888888,
              "#fdca26"
             ],
             [
              1,
              "#f0f921"
             ]
            ],
            "type": "contour"
           }
          ],
          "contourcarpet": [
           {
            "colorbar": {
             "outlinewidth": 0,
             "ticks": ""
            },
            "type": "contourcarpet"
           }
          ],
          "heatmap": [
           {
            "colorbar": {
             "outlinewidth": 0,
             "ticks": ""
            },
            "colorscale": [
             [
              0,
              "#0d0887"
             ],
             [
              0.1111111111111111,
              "#46039f"
             ],
             [
              0.2222222222222222,
              "#7201a8"
             ],
             [
              0.3333333333333333,
              "#9c179e"
             ],
             [
              0.4444444444444444,
              "#bd3786"
             ],
             [
              0.5555555555555556,
              "#d8576b"
             ],
             [
              0.6666666666666666,
              "#ed7953"
             ],
             [
              0.7777777777777778,
              "#fb9f3a"
             ],
             [
              0.8888888888888888,
              "#fdca26"
             ],
             [
              1,
              "#f0f921"
             ]
            ],
            "type": "heatmap"
           }
          ],
          "heatmapgl": [
           {
            "colorbar": {
             "outlinewidth": 0,
             "ticks": ""
            },
            "colorscale": [
             [
              0,
              "#0d0887"
             ],
             [
              0.1111111111111111,
              "#46039f"
             ],
             [
              0.2222222222222222,
              "#7201a8"
             ],
             [
              0.3333333333333333,
              "#9c179e"
             ],
             [
              0.4444444444444444,
              "#bd3786"
             ],
             [
              0.5555555555555556,
              "#d8576b"
             ],
             [
              0.6666666666666666,
              "#ed7953"
             ],
             [
              0.7777777777777778,
              "#fb9f3a"
             ],
             [
              0.8888888888888888,
              "#fdca26"
             ],
             [
              1,
              "#f0f921"
             ]
            ],
            "type": "heatmapgl"
           }
          ],
          "histogram": [
           {
            "marker": {
             "pattern": {
              "fillmode": "overlay",
              "size": 10,
              "solidity": 0.2
             }
            },
            "type": "histogram"
           }
          ],
          "histogram2d": [
           {
            "colorbar": {
             "outlinewidth": 0,
             "ticks": ""
            },
            "colorscale": [
             [
              0,
              "#0d0887"
             ],
             [
              0.1111111111111111,
              "#46039f"
             ],
             [
              0.2222222222222222,
              "#7201a8"
             ],
             [
              0.3333333333333333,
              "#9c179e"
             ],
             [
              0.4444444444444444,
              "#bd3786"
             ],
             [
              0.5555555555555556,
              "#d8576b"
             ],
             [
              0.6666666666666666,
              "#ed7953"
             ],
             [
              0.7777777777777778,
              "#fb9f3a"
             ],
             [
              0.8888888888888888,
              "#fdca26"
             ],
             [
              1,
              "#f0f921"
             ]
            ],
            "type": "histogram2d"
           }
          ],
          "histogram2dcontour": [
           {
            "colorbar": {
             "outlinewidth": 0,
             "ticks": ""
            },
            "colorscale": [
             [
              0,
              "#0d0887"
             ],
             [
              0.1111111111111111,
              "#46039f"
             ],
             [
              0.2222222222222222,
              "#7201a8"
             ],
             [
              0.3333333333333333,
              "#9c179e"
             ],
             [
              0.4444444444444444,
              "#bd3786"
             ],
             [
              0.5555555555555556,
              "#d8576b"
             ],
             [
              0.6666666666666666,
              "#ed7953"
             ],
             [
              0.7777777777777778,
              "#fb9f3a"
             ],
             [
              0.8888888888888888,
              "#fdca26"
             ],
             [
              1,
              "#f0f921"
             ]
            ],
            "type": "histogram2dcontour"
           }
          ],
          "mesh3d": [
           {
            "colorbar": {
             "outlinewidth": 0,
             "ticks": ""
            },
            "type": "mesh3d"
           }
          ],
          "parcoords": [
           {
            "line": {
             "colorbar": {
              "outlinewidth": 0,
              "ticks": ""
             }
            },
            "type": "parcoords"
           }
          ],
          "pie": [
           {
            "automargin": true,
            "type": "pie"
           }
          ],
          "scatter": [
           {
            "marker": {
             "colorbar": {
              "outlinewidth": 0,
              "ticks": ""
             }
            },
            "type": "scatter"
           }
          ],
          "scatter3d": [
           {
            "line": {
             "colorbar": {
              "outlinewidth": 0,
              "ticks": ""
             }
            },
            "marker": {
             "colorbar": {
              "outlinewidth": 0,
              "ticks": ""
             }
            },
            "type": "scatter3d"
           }
          ],
          "scattercarpet": [
           {
            "marker": {
             "colorbar": {
              "outlinewidth": 0,
              "ticks": ""
             }
            },
            "type": "scattercarpet"
           }
          ],
          "scattergeo": [
           {
            "marker": {
             "colorbar": {
              "outlinewidth": 0,
              "ticks": ""
             }
            },
            "type": "scattergeo"
           }
          ],
          "scattergl": [
           {
            "marker": {
             "colorbar": {
              "outlinewidth": 0,
              "ticks": ""
             }
            },
            "type": "scattergl"
           }
          ],
          "scattermapbox": [
           {
            "marker": {
             "colorbar": {
              "outlinewidth": 0,
              "ticks": ""
             }
            },
            "type": "scattermapbox"
           }
          ],
          "scatterpolar": [
           {
            "marker": {
             "colorbar": {
              "outlinewidth": 0,
              "ticks": ""
             }
            },
            "type": "scatterpolar"
           }
          ],
          "scatterpolargl": [
           {
            "marker": {
             "colorbar": {
              "outlinewidth": 0,
              "ticks": ""
             }
            },
            "type": "scatterpolargl"
           }
          ],
          "scatterternary": [
           {
            "marker": {
             "colorbar": {
              "outlinewidth": 0,
              "ticks": ""
             }
            },
            "type": "scatterternary"
           }
          ],
          "surface": [
           {
            "colorbar": {
             "outlinewidth": 0,
             "ticks": ""
            },
            "colorscale": [
             [
              0,
              "#0d0887"
             ],
             [
              0.1111111111111111,
              "#46039f"
             ],
             [
              0.2222222222222222,
              "#7201a8"
             ],
             [
              0.3333333333333333,
              "#9c179e"
             ],
             [
              0.4444444444444444,
              "#bd3786"
             ],
             [
              0.5555555555555556,
              "#d8576b"
             ],
             [
              0.6666666666666666,
              "#ed7953"
             ],
             [
              0.7777777777777778,
              "#fb9f3a"
             ],
             [
              0.8888888888888888,
              "#fdca26"
             ],
             [
              1,
              "#f0f921"
             ]
            ],
            "type": "surface"
           }
          ],
          "table": [
           {
            "cells": {
             "fill": {
              "color": "#EBF0F8"
             },
             "line": {
              "color": "white"
             }
            },
            "header": {
             "fill": {
              "color": "#C8D4E3"
             },
             "line": {
              "color": "white"
             }
            },
            "type": "table"
           }
          ]
         },
         "layout": {
          "annotationdefaults": {
           "arrowcolor": "#2a3f5f",
           "arrowhead": 0,
           "arrowwidth": 1
          },
          "autotypenumbers": "strict",
          "coloraxis": {
           "colorbar": {
            "outlinewidth": 0,
            "ticks": ""
           }
          },
          "colorscale": {
           "diverging": [
            [
             0,
             "#8e0152"
            ],
            [
             0.1,
             "#c51b7d"
            ],
            [
             0.2,
             "#de77ae"
            ],
            [
             0.3,
             "#f1b6da"
            ],
            [
             0.4,
             "#fde0ef"
            ],
            [
             0.5,
             "#f7f7f7"
            ],
            [
             0.6,
             "#e6f5d0"
            ],
            [
             0.7,
             "#b8e186"
            ],
            [
             0.8,
             "#7fbc41"
            ],
            [
             0.9,
             "#4d9221"
            ],
            [
             1,
             "#276419"
            ]
           ],
           "sequential": [
            [
             0,
             "#0d0887"
            ],
            [
             0.1111111111111111,
             "#46039f"
            ],
            [
             0.2222222222222222,
             "#7201a8"
            ],
            [
             0.3333333333333333,
             "#9c179e"
            ],
            [
             0.4444444444444444,
             "#bd3786"
            ],
            [
             0.5555555555555556,
             "#d8576b"
            ],
            [
             0.6666666666666666,
             "#ed7953"
            ],
            [
             0.7777777777777778,
             "#fb9f3a"
            ],
            [
             0.8888888888888888,
             "#fdca26"
            ],
            [
             1,
             "#f0f921"
            ]
           ],
           "sequentialminus": [
            [
             0,
             "#0d0887"
            ],
            [
             0.1111111111111111,
             "#46039f"
            ],
            [
             0.2222222222222222,
             "#7201a8"
            ],
            [
             0.3333333333333333,
             "#9c179e"
            ],
            [
             0.4444444444444444,
             "#bd3786"
            ],
            [
             0.5555555555555556,
             "#d8576b"
            ],
            [
             0.6666666666666666,
             "#ed7953"
            ],
            [
             0.7777777777777778,
             "#fb9f3a"
            ],
            [
             0.8888888888888888,
             "#fdca26"
            ],
            [
             1,
             "#f0f921"
            ]
           ]
          },
          "colorway": [
           "#636efa",
           "#EF553B",
           "#00cc96",
           "#ab63fa",
           "#FFA15A",
           "#19d3f3",
           "#FF6692",
           "#B6E880",
           "#FF97FF",
           "#FECB52"
          ],
          "font": {
           "color": "#2a3f5f"
          },
          "geo": {
           "bgcolor": "white",
           "lakecolor": "white",
           "landcolor": "#E5ECF6",
           "showlakes": true,
           "showland": true,
           "subunitcolor": "white"
          },
          "hoverlabel": {
           "align": "left"
          },
          "hovermode": "closest",
          "mapbox": {
           "style": "light"
          },
          "paper_bgcolor": "white",
          "plot_bgcolor": "#E5ECF6",
          "polar": {
           "angularaxis": {
            "gridcolor": "white",
            "linecolor": "white",
            "ticks": ""
           },
           "bgcolor": "#E5ECF6",
           "radialaxis": {
            "gridcolor": "white",
            "linecolor": "white",
            "ticks": ""
           }
          },
          "scene": {
           "xaxis": {
            "backgroundcolor": "#E5ECF6",
            "gridcolor": "white",
            "gridwidth": 2,
            "linecolor": "white",
            "showbackground": true,
            "ticks": "",
            "zerolinecolor": "white"
           },
           "yaxis": {
            "backgroundcolor": "#E5ECF6",
            "gridcolor": "white",
            "gridwidth": 2,
            "linecolor": "white",
            "showbackground": true,
            "ticks": "",
            "zerolinecolor": "white"
           },
           "zaxis": {
            "backgroundcolor": "#E5ECF6",
            "gridcolor": "white",
            "gridwidth": 2,
            "linecolor": "white",
            "showbackground": true,
            "ticks": "",
            "zerolinecolor": "white"
           }
          },
          "shapedefaults": {
           "line": {
            "color": "#2a3f5f"
           }
          },
          "ternary": {
           "aaxis": {
            "gridcolor": "white",
            "linecolor": "white",
            "ticks": ""
           },
           "baxis": {
            "gridcolor": "white",
            "linecolor": "white",
            "ticks": ""
           },
           "bgcolor": "#E5ECF6",
           "caxis": {
            "gridcolor": "white",
            "linecolor": "white",
            "ticks": ""
           }
          },
          "title": {
           "x": 0.05
          },
          "xaxis": {
           "automargin": true,
           "gridcolor": "white",
           "linecolor": "white",
           "ticks": "",
           "title": {
            "standoff": 15
           },
           "zerolinecolor": "white",
           "zerolinewidth": 2
          },
          "yaxis": {
           "automargin": true,
           "gridcolor": "white",
           "linecolor": "white",
           "ticks": "",
           "title": {
            "standoff": 15
           },
           "zerolinecolor": "white",
           "zerolinewidth": 2
          }
         }
        }
       }
      },
      "text/html": [
       "<div>                            <div id=\"8fe29c53-365c-4cf2-a88f-ff693a71e1c9\" class=\"plotly-graph-div\" style=\"height:525px; width:100%;\"></div>            <script type=\"text/javascript\">                require([\"plotly\"], function(Plotly) {                    window.PLOTLYENV=window.PLOTLYENV || {};                                    if (document.getElementById(\"8fe29c53-365c-4cf2-a88f-ff693a71e1c9\")) {                    Plotly.newPlot(                        \"8fe29c53-365c-4cf2-a88f-ff693a71e1c9\",                        [{\"line\":{\"color\":\"darkblue\",\"width\":3},\"marker\":{\"colorscale\":[[0.0,\"#440154\"],[0.1111111111111111,\"#482878\"],[0.2222222222222222,\"#3e4989\"],[0.3333333333333333,\"#31688e\"],[0.4444444444444444,\"#26828e\"],[0.5555555555555556,\"#1f9e89\"],[0.6666666666666666,\"#35b779\"],[0.7777777777777778,\"#6ece58\"],[0.8888888888888888,\"#b5de2b\"],[1.0,\"#fde725\"]],\"size\":2},\"x\":[0.6171875,0.6171875,0.6171875,0.6171875,0.6171875,0.6171875,0.6171875,0.6171875,0.6171875,0.6171875,0.6171875,0.6171875,0.6171875,0.6171875,0.6171875,0.6171875,0.6171875,0.6171875,0.6171875,0.6171875,0.6171875,0.6171875,0.6171875,0.6171875,0.6171875,0.6171875,0.6171875,0.6171875,0.6171875,0.6171875,0.6171875,0.6171875,0.6171875,0.6171875,0.6171875,0.6171875,0.6171875,0.6171875,0.6171875,0.6171875,0.6171875,0.6171875,0.6171875,0.6171875,0.6171875,0.6171875,0.6171875,0.6171875,0.6171875,0.6171875,0.6171875,0.6171875,0.6171875,0.6171875,0.6171875,0.6171875,0.6171875,0.6171875,0.6171875,0.609375,0.609375,0.609375,0.609375,0.609375,0.609375,0.609375,0.609375,0.6015625,0.6015625,0.6015625,0.6015625,0.6015625,0.6015625,0.6015625,0.59375,0.59375,0.59375,0.59375,0.59375,0.5859375,0.5859375,0.5859375,0.5859375,0.578125,0.578125,0.578125,0.578125,0.5703125,0.5703125,0.5625,0.5546875,0.5546875,0.5546875,0.546875,0.5390625,0.5234375,0.5078125,0.4765625,0.453125,0.421875,0.0],\"y\":[0.0,0.1640625,0.234375,0.25,0.2578125,0.2734375,0.2890625,0.3046875,0.3125,0.328125,0.328125,0.34375,0.34375,0.34375,0.34375,0.34375,0.34375,0.3515625,0.359375,0.359375,0.359375,0.359375,0.359375,0.359375,0.359375,0.359375,0.359375,0.359375,0.359375,0.359375,0.359375,0.359375,0.359375,0.359375,0.3671875,0.3671875,0.3671875,0.3671875,0.3671875,0.3671875,0.3671875,0.375,0.375,0.375,0.375,0.375,0.375,0.375,0.375,0.375,0.375,0.375,0.375,0.375,0.375,0.375,0.375,0.375,0.375,0.375,0.375,0.375,0.375,0.375,0.375,0.375,0.3828125,0.3828125,0.3828125,0.3828125,0.3828125,0.3828125,0.3828125,0.3828125,0.3828125,0.3828125,0.3828125,0.3828125,0.3828125,0.3828125,0.3828125,0.3828125,0.3828125,0.3828125,0.3828125,0.3828125,0.3828125,0.3828125,0.3828125,0.3828125,0.3828125,0.3828125,0.3828125,0.3828125,0.3828125,0.3828125,0.3828125,0.3828125,0.3828125,0.3828125,0.3828125],\"z\":[0.3828125,0.21875,0.1484375,0.1328125,0.125,0.109375,0.09375,0.078125,0.0703125,0.0546875,0.0546875,0.0390625,0.0390625,0.0390625,0.0390625,0.0390625,0.0390625,0.03125,0.0234375,0.0234375,0.0234375,0.0234375,0.0234375,0.0234375,0.0234375,0.0234375,0.0234375,0.0234375,0.0234375,0.0234375,0.0234375,0.0234375,0.0234375,0.0234375,0.015625,0.015625,0.015625,0.015625,0.015625,0.015625,0.015625,0.0078125,0.0078125,0.0078125,0.0078125,0.0078125,0.0078125,0.0078125,0.0078125,0.0078125,0.0078125,0.0078125,0.0078125,0.0078125,0.0078125,0.0078125,0.0078125,0.0078125,0.0078125,0.0078125,0.0078125,0.0078125,0.0078125,0.0078125,0.0078125,0.0078125,0.0,0.0,0.0,0.0,0.0,0.0,0.0,0.0,0.0,0.0,0.0,0.0,0.0,0.0,0.0,0.0,0.0,0.0,0.0,0.0,0.0,0.0,0.0,0.0,0.0,0.0,0.0,0.0,0.0,0.0,0.0,0.0,0.0,0.0,0.0],\"type\":\"scatter3d\"},{\"color\":\"lightgrey\",\"i\":[0,0,0,1],\"j\":[1,2,3,2],\"k\":[2,3,1,3],\"name\":\"y\",\"opacity\":0.2,\"showscale\":true,\"x\":[0,0,0,1],\"y\":[0,0,1,0],\"z\":[0,1,0,0],\"type\":\"mesh3d\"}],                        {\"template\":{\"data\":{\"bar\":[{\"error_x\":{\"color\":\"#2a3f5f\"},\"error_y\":{\"color\":\"#2a3f5f\"},\"marker\":{\"line\":{\"color\":\"#E5ECF6\",\"width\":0.5},\"pattern\":{\"fillmode\":\"overlay\",\"size\":10,\"solidity\":0.2}},\"type\":\"bar\"}],\"barpolar\":[{\"marker\":{\"line\":{\"color\":\"#E5ECF6\",\"width\":0.5},\"pattern\":{\"fillmode\":\"overlay\",\"size\":10,\"solidity\":0.2}},\"type\":\"barpolar\"}],\"carpet\":[{\"aaxis\":{\"endlinecolor\":\"#2a3f5f\",\"gridcolor\":\"white\",\"linecolor\":\"white\",\"minorgridcolor\":\"white\",\"startlinecolor\":\"#2a3f5f\"},\"baxis\":{\"endlinecolor\":\"#2a3f5f\",\"gridcolor\":\"white\",\"linecolor\":\"white\",\"minorgridcolor\":\"white\",\"startlinecolor\":\"#2a3f5f\"},\"type\":\"carpet\"}],\"choropleth\":[{\"colorbar\":{\"outlinewidth\":0,\"ticks\":\"\"},\"type\":\"choropleth\"}],\"contour\":[{\"colorbar\":{\"outlinewidth\":0,\"ticks\":\"\"},\"colorscale\":[[0.0,\"#0d0887\"],[0.1111111111111111,\"#46039f\"],[0.2222222222222222,\"#7201a8\"],[0.3333333333333333,\"#9c179e\"],[0.4444444444444444,\"#bd3786\"],[0.5555555555555556,\"#d8576b\"],[0.6666666666666666,\"#ed7953\"],[0.7777777777777778,\"#fb9f3a\"],[0.8888888888888888,\"#fdca26\"],[1.0,\"#f0f921\"]],\"type\":\"contour\"}],\"contourcarpet\":[{\"colorbar\":{\"outlinewidth\":0,\"ticks\":\"\"},\"type\":\"contourcarpet\"}],\"heatmap\":[{\"colorbar\":{\"outlinewidth\":0,\"ticks\":\"\"},\"colorscale\":[[0.0,\"#0d0887\"],[0.1111111111111111,\"#46039f\"],[0.2222222222222222,\"#7201a8\"],[0.3333333333333333,\"#9c179e\"],[0.4444444444444444,\"#bd3786\"],[0.5555555555555556,\"#d8576b\"],[0.6666666666666666,\"#ed7953\"],[0.7777777777777778,\"#fb9f3a\"],[0.8888888888888888,\"#fdca26\"],[1.0,\"#f0f921\"]],\"type\":\"heatmap\"}],\"heatmapgl\":[{\"colorbar\":{\"outlinewidth\":0,\"ticks\":\"\"},\"colorscale\":[[0.0,\"#0d0887\"],[0.1111111111111111,\"#46039f\"],[0.2222222222222222,\"#7201a8\"],[0.3333333333333333,\"#9c179e\"],[0.4444444444444444,\"#bd3786\"],[0.5555555555555556,\"#d8576b\"],[0.6666666666666666,\"#ed7953\"],[0.7777777777777778,\"#fb9f3a\"],[0.8888888888888888,\"#fdca26\"],[1.0,\"#f0f921\"]],\"type\":\"heatmapgl\"}],\"histogram\":[{\"marker\":{\"pattern\":{\"fillmode\":\"overlay\",\"size\":10,\"solidity\":0.2}},\"type\":\"histogram\"}],\"histogram2d\":[{\"colorbar\":{\"outlinewidth\":0,\"ticks\":\"\"},\"colorscale\":[[0.0,\"#0d0887\"],[0.1111111111111111,\"#46039f\"],[0.2222222222222222,\"#7201a8\"],[0.3333333333333333,\"#9c179e\"],[0.4444444444444444,\"#bd3786\"],[0.5555555555555556,\"#d8576b\"],[0.6666666666666666,\"#ed7953\"],[0.7777777777777778,\"#fb9f3a\"],[0.8888888888888888,\"#fdca26\"],[1.0,\"#f0f921\"]],\"type\":\"histogram2d\"}],\"histogram2dcontour\":[{\"colorbar\":{\"outlinewidth\":0,\"ticks\":\"\"},\"colorscale\":[[0.0,\"#0d0887\"],[0.1111111111111111,\"#46039f\"],[0.2222222222222222,\"#7201a8\"],[0.3333333333333333,\"#9c179e\"],[0.4444444444444444,\"#bd3786\"],[0.5555555555555556,\"#d8576b\"],[0.6666666666666666,\"#ed7953\"],[0.7777777777777778,\"#fb9f3a\"],[0.8888888888888888,\"#fdca26\"],[1.0,\"#f0f921\"]],\"type\":\"histogram2dcontour\"}],\"mesh3d\":[{\"colorbar\":{\"outlinewidth\":0,\"ticks\":\"\"},\"type\":\"mesh3d\"}],\"parcoords\":[{\"line\":{\"colorbar\":{\"outlinewidth\":0,\"ticks\":\"\"}},\"type\":\"parcoords\"}],\"pie\":[{\"automargin\":true,\"type\":\"pie\"}],\"scatter\":[{\"marker\":{\"colorbar\":{\"outlinewidth\":0,\"ticks\":\"\"}},\"type\":\"scatter\"}],\"scatter3d\":[{\"line\":{\"colorbar\":{\"outlinewidth\":0,\"ticks\":\"\"}},\"marker\":{\"colorbar\":{\"outlinewidth\":0,\"ticks\":\"\"}},\"type\":\"scatter3d\"}],\"scattercarpet\":[{\"marker\":{\"colorbar\":{\"outlinewidth\":0,\"ticks\":\"\"}},\"type\":\"scattercarpet\"}],\"scattergeo\":[{\"marker\":{\"colorbar\":{\"outlinewidth\":0,\"ticks\":\"\"}},\"type\":\"scattergeo\"}],\"scattergl\":[{\"marker\":{\"colorbar\":{\"outlinewidth\":0,\"ticks\":\"\"}},\"type\":\"scattergl\"}],\"scattermapbox\":[{\"marker\":{\"colorbar\":{\"outlinewidth\":0,\"ticks\":\"\"}},\"type\":\"scattermapbox\"}],\"scatterpolar\":[{\"marker\":{\"colorbar\":{\"outlinewidth\":0,\"ticks\":\"\"}},\"type\":\"scatterpolar\"}],\"scatterpolargl\":[{\"marker\":{\"colorbar\":{\"outlinewidth\":0,\"ticks\":\"\"}},\"type\":\"scatterpolargl\"}],\"scatterternary\":[{\"marker\":{\"colorbar\":{\"outlinewidth\":0,\"ticks\":\"\"}},\"type\":\"scatterternary\"}],\"surface\":[{\"colorbar\":{\"outlinewidth\":0,\"ticks\":\"\"},\"colorscale\":[[0.0,\"#0d0887\"],[0.1111111111111111,\"#46039f\"],[0.2222222222222222,\"#7201a8\"],[0.3333333333333333,\"#9c179e\"],[0.4444444444444444,\"#bd3786\"],[0.5555555555555556,\"#d8576b\"],[0.6666666666666666,\"#ed7953\"],[0.7777777777777778,\"#fb9f3a\"],[0.8888888888888888,\"#fdca26\"],[1.0,\"#f0f921\"]],\"type\":\"surface\"}],\"table\":[{\"cells\":{\"fill\":{\"color\":\"#EBF0F8\"},\"line\":{\"color\":\"white\"}},\"header\":{\"fill\":{\"color\":\"#C8D4E3\"},\"line\":{\"color\":\"white\"}},\"type\":\"table\"}]},\"layout\":{\"annotationdefaults\":{\"arrowcolor\":\"#2a3f5f\",\"arrowhead\":0,\"arrowwidth\":1},\"autotypenumbers\":\"strict\",\"coloraxis\":{\"colorbar\":{\"outlinewidth\":0,\"ticks\":\"\"}},\"colorscale\":{\"diverging\":[[0,\"#8e0152\"],[0.1,\"#c51b7d\"],[0.2,\"#de77ae\"],[0.3,\"#f1b6da\"],[0.4,\"#fde0ef\"],[0.5,\"#f7f7f7\"],[0.6,\"#e6f5d0\"],[0.7,\"#b8e186\"],[0.8,\"#7fbc41\"],[0.9,\"#4d9221\"],[1,\"#276419\"]],\"sequential\":[[0.0,\"#0d0887\"],[0.1111111111111111,\"#46039f\"],[0.2222222222222222,\"#7201a8\"],[0.3333333333333333,\"#9c179e\"],[0.4444444444444444,\"#bd3786\"],[0.5555555555555556,\"#d8576b\"],[0.6666666666666666,\"#ed7953\"],[0.7777777777777778,\"#fb9f3a\"],[0.8888888888888888,\"#fdca26\"],[1.0,\"#f0f921\"]],\"sequentialminus\":[[0.0,\"#0d0887\"],[0.1111111111111111,\"#46039f\"],[0.2222222222222222,\"#7201a8\"],[0.3333333333333333,\"#9c179e\"],[0.4444444444444444,\"#bd3786\"],[0.5555555555555556,\"#d8576b\"],[0.6666666666666666,\"#ed7953\"],[0.7777777777777778,\"#fb9f3a\"],[0.8888888888888888,\"#fdca26\"],[1.0,\"#f0f921\"]]},\"colorway\":[\"#636efa\",\"#EF553B\",\"#00cc96\",\"#ab63fa\",\"#FFA15A\",\"#19d3f3\",\"#FF6692\",\"#B6E880\",\"#FF97FF\",\"#FECB52\"],\"font\":{\"color\":\"#2a3f5f\"},\"geo\":{\"bgcolor\":\"white\",\"lakecolor\":\"white\",\"landcolor\":\"#E5ECF6\",\"showlakes\":true,\"showland\":true,\"subunitcolor\":\"white\"},\"hoverlabel\":{\"align\":\"left\"},\"hovermode\":\"closest\",\"mapbox\":{\"style\":\"light\"},\"paper_bgcolor\":\"white\",\"plot_bgcolor\":\"#E5ECF6\",\"polar\":{\"angularaxis\":{\"gridcolor\":\"white\",\"linecolor\":\"white\",\"ticks\":\"\"},\"bgcolor\":\"#E5ECF6\",\"radialaxis\":{\"gridcolor\":\"white\",\"linecolor\":\"white\",\"ticks\":\"\"}},\"scene\":{\"xaxis\":{\"backgroundcolor\":\"#E5ECF6\",\"gridcolor\":\"white\",\"gridwidth\":2,\"linecolor\":\"white\",\"showbackground\":true,\"ticks\":\"\",\"zerolinecolor\":\"white\"},\"yaxis\":{\"backgroundcolor\":\"#E5ECF6\",\"gridcolor\":\"white\",\"gridwidth\":2,\"linecolor\":\"white\",\"showbackground\":true,\"ticks\":\"\",\"zerolinecolor\":\"white\"},\"zaxis\":{\"backgroundcolor\":\"#E5ECF6\",\"gridcolor\":\"white\",\"gridwidth\":2,\"linecolor\":\"white\",\"showbackground\":true,\"ticks\":\"\",\"zerolinecolor\":\"white\"}},\"shapedefaults\":{\"line\":{\"color\":\"#2a3f5f\"}},\"ternary\":{\"aaxis\":{\"gridcolor\":\"white\",\"linecolor\":\"white\",\"ticks\":\"\"},\"baxis\":{\"gridcolor\":\"white\",\"linecolor\":\"white\",\"ticks\":\"\"},\"bgcolor\":\"#E5ECF6\",\"caxis\":{\"gridcolor\":\"white\",\"linecolor\":\"white\",\"ticks\":\"\"}},\"title\":{\"x\":0.05},\"xaxis\":{\"automargin\":true,\"gridcolor\":\"white\",\"linecolor\":\"white\",\"ticks\":\"\",\"title\":{\"standoff\":15},\"zerolinecolor\":\"white\",\"zerolinewidth\":2},\"yaxis\":{\"automargin\":true,\"gridcolor\":\"white\",\"linecolor\":\"white\",\"ticks\":\"\",\"title\":{\"standoff\":15},\"zerolinecolor\":\"white\",\"zerolinewidth\":2}}}},                        {\"responsive\": true}                    ).then(function(){\n",
       "                            \n",
       "var gd = document.getElementById('8fe29c53-365c-4cf2-a88f-ff693a71e1c9');\n",
       "var x = new MutationObserver(function (mutations, observer) {{\n",
       "        var display = window.getComputedStyle(gd).display;\n",
       "        if (!display || display === 'none') {{\n",
       "            console.log([gd, 'removed!']);\n",
       "            Plotly.purge(gd);\n",
       "            observer.disconnect();\n",
       "        }}\n",
       "}});\n",
       "\n",
       "// Listen for the removal of the full notebook cells\n",
       "var notebookContainer = gd.closest('#notebook-container');\n",
       "if (notebookContainer) {{\n",
       "    x.observe(notebookContainer, {childList: true});\n",
       "}}\n",
       "\n",
       "// Listen for the clearing of the current output cell\n",
       "var outputEl = gd.closest('.output');\n",
       "if (outputEl) {{\n",
       "    x.observe(outputEl, {childList: true});\n",
       "}}\n",
       "\n",
       "                        })                };                });            </script>        </div>"
      ]
     },
     "metadata": {},
     "output_type": "display_data"
    }
   ],
   "source": [
    "fig = go.Figure(data=go.Scatter3d(\n",
    "    x= coords['TP'], \n",
    "    y= coords['TN'], \n",
    "    z=coords['FP'],\n",
    "    marker=dict(\n",
    "        size=1, #pallini per quelli assocaiti al threshold quindi in realtà\n",
    "        #color=z,\n",
    "        colorscale='Viridis',\n",
    "    ),\n",
    "    line=dict(\n",
    "        color='darkblue',\n",
    "        width=3\n",
    "    )\n",
    "))\n",
    "\n",
    "\"\"\"\n",
    "fig.update_layout(\n",
    "    width=800,\n",
    "    height=700,\n",
    "    autosize=False,\n",
    "    scene=dict(\n",
    "        camera=dict(\n",
    "            up=dict(\n",
    "                x=0,\n",
    "                y=0,\n",
    "                z=1\n",
    "            ),\n",
    "            eye=dict(\n",
    "                x=0,\n",
    "                y=1.0707,\n",
    "                z=1,\n",
    "            )\n",
    "        ),\n",
    "        aspectratio = dict( x=1, y=1, z=0.7 ),\n",
    "        aspectmode = 'manual'\n",
    "    ),\n",
    ")\n",
    "\"\"\"\n",
    "\n",
    "fig.add_trace(go.Figure(data=[\n",
    "    go.Mesh3d(\n",
    "        x=[0, 0, 0, 1], \n",
    "        y=[0, 0, 1, 0],\n",
    "        z=[0, 1, 0, 0],\n",
    "\n",
    "        color ='lightgrey',\n",
    "        \n",
    "        opacity = 0.2, #for transparency\n",
    "        \n",
    "        # i, j and k sono i vertici dei triangoli\n",
    "        # here we represent the 4 triangles of the tetrahedron surface\n",
    "        i=[0, 0, 0, 1],\n",
    "        j=[1, 2, 3, 2],\n",
    "        k=[2, 3, 1, 3],\n",
    "        name='y',\n",
    "        showscale=True\n",
    "    )\n",
    "]).data[0])\n",
    "\n",
    "\n",
    "\n",
    "\n",
    "\n",
    "fig.show()"
   ]
  },
  {
   "cell_type": "code",
   "execution_count": 19,
   "id": "e5e29aa4",
   "metadata": {},
   "outputs": [
    {
     "data": {
      "application/vnd.plotly.v1+json": {
       "config": {
        "plotlyServerURL": "https://plot.ly"
       },
       "data": [
        {
         "hovertemplate": "<b>%{hovertext}</b><br><br>threshold=0.0<br>TP=%{x}<br>TN=%{y}<br>FP=%{z}<extra></extra>",
         "hovertext": [
          0
         ],
         "legendgroup": "",
         "marker": {
          "color": "#636efa",
          "symbol": "circle"
         },
         "mode": "markers",
         "name": "",
         "scene": "scene",
         "showlegend": false,
         "type": "scatter3d",
         "x": [
          0.6171875
         ],
         "y": [
          0
         ],
         "z": [
          0.3828125
         ]
        },
        {
         "color": "lightgrey",
         "i": [
          0,
          0,
          0,
          1
         ],
         "j": [
          1,
          2,
          3,
          2
         ],
         "k": [
          2,
          3,
          1,
          3
         ],
         "name": "y",
         "opacity": 0.2,
         "showscale": true,
         "type": "mesh3d",
         "x": [
          0,
          0,
          0,
          1
         ],
         "y": [
          0,
          0,
          1,
          0
         ],
         "z": [
          0,
          1,
          0,
          0
         ]
        }
       ],
       "frames": [
        {
         "data": [
          {
           "hovertemplate": "<b>%{hovertext}</b><br><br>threshold=0.0<br>TP=%{x}<br>TN=%{y}<br>FP=%{z}<extra></extra>",
           "hovertext": [
            0
           ],
           "legendgroup": "",
           "marker": {
            "color": "#636efa",
            "symbol": "circle"
           },
           "mode": "markers",
           "name": "",
           "scene": "scene",
           "showlegend": false,
           "type": "scatter3d",
           "x": [
            0.6171875
           ],
           "y": [
            0
           ],
           "z": [
            0.3828125
           ]
          }
         ],
         "name": "0.0"
        },
        {
         "data": [
          {
           "hovertemplate": "<b>%{hovertext}</b><br><br>threshold=0.01<br>TP=%{x}<br>TN=%{y}<br>FP=%{z}<extra></extra>",
           "hovertext": [
            0.01
           ],
           "legendgroup": "",
           "marker": {
            "color": "#636efa",
            "symbol": "circle"
           },
           "mode": "markers",
           "name": "",
           "scene": "scene",
           "showlegend": false,
           "type": "scatter3d",
           "x": [
            0.6171875
           ],
           "y": [
            0.1640625
           ],
           "z": [
            0.21875
           ]
          }
         ],
         "name": "0.01"
        },
        {
         "data": [
          {
           "hovertemplate": "<b>%{hovertext}</b><br><br>threshold=0.02<br>TP=%{x}<br>TN=%{y}<br>FP=%{z}<extra></extra>",
           "hovertext": [
            0.02
           ],
           "legendgroup": "",
           "marker": {
            "color": "#636efa",
            "symbol": "circle"
           },
           "mode": "markers",
           "name": "",
           "scene": "scene",
           "showlegend": false,
           "type": "scatter3d",
           "x": [
            0.6171875
           ],
           "y": [
            0.234375
           ],
           "z": [
            0.1484375
           ]
          }
         ],
         "name": "0.02"
        },
        {
         "data": [
          {
           "hovertemplate": "<b>%{hovertext}</b><br><br>threshold=0.03<br>TP=%{x}<br>TN=%{y}<br>FP=%{z}<extra></extra>",
           "hovertext": [
            0.03
           ],
           "legendgroup": "",
           "marker": {
            "color": "#636efa",
            "symbol": "circle"
           },
           "mode": "markers",
           "name": "",
           "scene": "scene",
           "showlegend": false,
           "type": "scatter3d",
           "x": [
            0.6171875
           ],
           "y": [
            0.25
           ],
           "z": [
            0.1328125
           ]
          }
         ],
         "name": "0.03"
        },
        {
         "data": [
          {
           "hovertemplate": "<b>%{hovertext}</b><br><br>threshold=0.04<br>TP=%{x}<br>TN=%{y}<br>FP=%{z}<extra></extra>",
           "hovertext": [
            0.04
           ],
           "legendgroup": "",
           "marker": {
            "color": "#636efa",
            "symbol": "circle"
           },
           "mode": "markers",
           "name": "",
           "scene": "scene",
           "showlegend": false,
           "type": "scatter3d",
           "x": [
            0.6171875
           ],
           "y": [
            0.2578125
           ],
           "z": [
            0.125
           ]
          }
         ],
         "name": "0.04"
        },
        {
         "data": [
          {
           "hovertemplate": "<b>%{hovertext}</b><br><br>threshold=0.05<br>TP=%{x}<br>TN=%{y}<br>FP=%{z}<extra></extra>",
           "hovertext": [
            0.05
           ],
           "legendgroup": "",
           "marker": {
            "color": "#636efa",
            "symbol": "circle"
           },
           "mode": "markers",
           "name": "",
           "scene": "scene",
           "showlegend": false,
           "type": "scatter3d",
           "x": [
            0.6171875
           ],
           "y": [
            0.2734375
           ],
           "z": [
            0.109375
           ]
          }
         ],
         "name": "0.05"
        },
        {
         "data": [
          {
           "hovertemplate": "<b>%{hovertext}</b><br><br>threshold=0.06<br>TP=%{x}<br>TN=%{y}<br>FP=%{z}<extra></extra>",
           "hovertext": [
            0.06
           ],
           "legendgroup": "",
           "marker": {
            "color": "#636efa",
            "symbol": "circle"
           },
           "mode": "markers",
           "name": "",
           "scene": "scene",
           "showlegend": false,
           "type": "scatter3d",
           "x": [
            0.6171875
           ],
           "y": [
            0.2890625
           ],
           "z": [
            0.09375
           ]
          }
         ],
         "name": "0.06"
        },
        {
         "data": [
          {
           "hovertemplate": "<b>%{hovertext}</b><br><br>threshold=0.07<br>TP=%{x}<br>TN=%{y}<br>FP=%{z}<extra></extra>",
           "hovertext": [
            0.07
           ],
           "legendgroup": "",
           "marker": {
            "color": "#636efa",
            "symbol": "circle"
           },
           "mode": "markers",
           "name": "",
           "scene": "scene",
           "showlegend": false,
           "type": "scatter3d",
           "x": [
            0.6171875
           ],
           "y": [
            0.3046875
           ],
           "z": [
            0.078125
           ]
          }
         ],
         "name": "0.07"
        },
        {
         "data": [
          {
           "hovertemplate": "<b>%{hovertext}</b><br><br>threshold=0.08<br>TP=%{x}<br>TN=%{y}<br>FP=%{z}<extra></extra>",
           "hovertext": [
            0.08
           ],
           "legendgroup": "",
           "marker": {
            "color": "#636efa",
            "symbol": "circle"
           },
           "mode": "markers",
           "name": "",
           "scene": "scene",
           "showlegend": false,
           "type": "scatter3d",
           "x": [
            0.6171875
           ],
           "y": [
            0.3125
           ],
           "z": [
            0.0703125
           ]
          }
         ],
         "name": "0.08"
        },
        {
         "data": [
          {
           "hovertemplate": "<b>%{hovertext}</b><br><br>threshold=0.09<br>TP=%{x}<br>TN=%{y}<br>FP=%{z}<extra></extra>",
           "hovertext": [
            0.09
           ],
           "legendgroup": "",
           "marker": {
            "color": "#636efa",
            "symbol": "circle"
           },
           "mode": "markers",
           "name": "",
           "scene": "scene",
           "showlegend": false,
           "type": "scatter3d",
           "x": [
            0.6171875
           ],
           "y": [
            0.328125
           ],
           "z": [
            0.0546875
           ]
          }
         ],
         "name": "0.09"
        },
        {
         "data": [
          {
           "hovertemplate": "<b>%{hovertext}</b><br><br>threshold=0.1<br>TP=%{x}<br>TN=%{y}<br>FP=%{z}<extra></extra>",
           "hovertext": [
            0.1
           ],
           "legendgroup": "",
           "marker": {
            "color": "#636efa",
            "symbol": "circle"
           },
           "mode": "markers",
           "name": "",
           "scene": "scene",
           "showlegend": false,
           "type": "scatter3d",
           "x": [
            0.6171875
           ],
           "y": [
            0.328125
           ],
           "z": [
            0.0546875
           ]
          }
         ],
         "name": "0.1"
        },
        {
         "data": [
          {
           "hovertemplate": "<b>%{hovertext}</b><br><br>threshold=0.11<br>TP=%{x}<br>TN=%{y}<br>FP=%{z}<extra></extra>",
           "hovertext": [
            0.11
           ],
           "legendgroup": "",
           "marker": {
            "color": "#636efa",
            "symbol": "circle"
           },
           "mode": "markers",
           "name": "",
           "scene": "scene",
           "showlegend": false,
           "type": "scatter3d",
           "x": [
            0.6171875
           ],
           "y": [
            0.34375
           ],
           "z": [
            0.0390625
           ]
          }
         ],
         "name": "0.11"
        },
        {
         "data": [
          {
           "hovertemplate": "<b>%{hovertext}</b><br><br>threshold=0.12<br>TP=%{x}<br>TN=%{y}<br>FP=%{z}<extra></extra>",
           "hovertext": [
            0.12
           ],
           "legendgroup": "",
           "marker": {
            "color": "#636efa",
            "symbol": "circle"
           },
           "mode": "markers",
           "name": "",
           "scene": "scene",
           "showlegend": false,
           "type": "scatter3d",
           "x": [
            0.6171875
           ],
           "y": [
            0.34375
           ],
           "z": [
            0.0390625
           ]
          }
         ],
         "name": "0.12"
        },
        {
         "data": [
          {
           "hovertemplate": "<b>%{hovertext}</b><br><br>threshold=0.13<br>TP=%{x}<br>TN=%{y}<br>FP=%{z}<extra></extra>",
           "hovertext": [
            0.13
           ],
           "legendgroup": "",
           "marker": {
            "color": "#636efa",
            "symbol": "circle"
           },
           "mode": "markers",
           "name": "",
           "scene": "scene",
           "showlegend": false,
           "type": "scatter3d",
           "x": [
            0.6171875
           ],
           "y": [
            0.34375
           ],
           "z": [
            0.0390625
           ]
          }
         ],
         "name": "0.13"
        },
        {
         "data": [
          {
           "hovertemplate": "<b>%{hovertext}</b><br><br>threshold=0.14<br>TP=%{x}<br>TN=%{y}<br>FP=%{z}<extra></extra>",
           "hovertext": [
            0.14
           ],
           "legendgroup": "",
           "marker": {
            "color": "#636efa",
            "symbol": "circle"
           },
           "mode": "markers",
           "name": "",
           "scene": "scene",
           "showlegend": false,
           "type": "scatter3d",
           "x": [
            0.6171875
           ],
           "y": [
            0.34375
           ],
           "z": [
            0.0390625
           ]
          }
         ],
         "name": "0.14"
        },
        {
         "data": [
          {
           "hovertemplate": "<b>%{hovertext}</b><br><br>threshold=0.15<br>TP=%{x}<br>TN=%{y}<br>FP=%{z}<extra></extra>",
           "hovertext": [
            0.15
           ],
           "legendgroup": "",
           "marker": {
            "color": "#636efa",
            "symbol": "circle"
           },
           "mode": "markers",
           "name": "",
           "scene": "scene",
           "showlegend": false,
           "type": "scatter3d",
           "x": [
            0.6171875
           ],
           "y": [
            0.34375
           ],
           "z": [
            0.0390625
           ]
          }
         ],
         "name": "0.15"
        },
        {
         "data": [
          {
           "hovertemplate": "<b>%{hovertext}</b><br><br>threshold=0.16<br>TP=%{x}<br>TN=%{y}<br>FP=%{z}<extra></extra>",
           "hovertext": [
            0.16
           ],
           "legendgroup": "",
           "marker": {
            "color": "#636efa",
            "symbol": "circle"
           },
           "mode": "markers",
           "name": "",
           "scene": "scene",
           "showlegend": false,
           "type": "scatter3d",
           "x": [
            0.6171875
           ],
           "y": [
            0.34375
           ],
           "z": [
            0.0390625
           ]
          }
         ],
         "name": "0.16"
        },
        {
         "data": [
          {
           "hovertemplate": "<b>%{hovertext}</b><br><br>threshold=0.17<br>TP=%{x}<br>TN=%{y}<br>FP=%{z}<extra></extra>",
           "hovertext": [
            0.17
           ],
           "legendgroup": "",
           "marker": {
            "color": "#636efa",
            "symbol": "circle"
           },
           "mode": "markers",
           "name": "",
           "scene": "scene",
           "showlegend": false,
           "type": "scatter3d",
           "x": [
            0.6171875
           ],
           "y": [
            0.3515625
           ],
           "z": [
            0.03125
           ]
          }
         ],
         "name": "0.17"
        },
        {
         "data": [
          {
           "hovertemplate": "<b>%{hovertext}</b><br><br>threshold=0.18<br>TP=%{x}<br>TN=%{y}<br>FP=%{z}<extra></extra>",
           "hovertext": [
            0.18
           ],
           "legendgroup": "",
           "marker": {
            "color": "#636efa",
            "symbol": "circle"
           },
           "mode": "markers",
           "name": "",
           "scene": "scene",
           "showlegend": false,
           "type": "scatter3d",
           "x": [
            0.6171875
           ],
           "y": [
            0.359375
           ],
           "z": [
            0.0234375
           ]
          }
         ],
         "name": "0.18"
        },
        {
         "data": [
          {
           "hovertemplate": "<b>%{hovertext}</b><br><br>threshold=0.19<br>TP=%{x}<br>TN=%{y}<br>FP=%{z}<extra></extra>",
           "hovertext": [
            0.19
           ],
           "legendgroup": "",
           "marker": {
            "color": "#636efa",
            "symbol": "circle"
           },
           "mode": "markers",
           "name": "",
           "scene": "scene",
           "showlegend": false,
           "type": "scatter3d",
           "x": [
            0.6171875
           ],
           "y": [
            0.359375
           ],
           "z": [
            0.0234375
           ]
          }
         ],
         "name": "0.19"
        },
        {
         "data": [
          {
           "hovertemplate": "<b>%{hovertext}</b><br><br>threshold=0.2<br>TP=%{x}<br>TN=%{y}<br>FP=%{z}<extra></extra>",
           "hovertext": [
            0.2
           ],
           "legendgroup": "",
           "marker": {
            "color": "#636efa",
            "symbol": "circle"
           },
           "mode": "markers",
           "name": "",
           "scene": "scene",
           "showlegend": false,
           "type": "scatter3d",
           "x": [
            0.6171875
           ],
           "y": [
            0.359375
           ],
           "z": [
            0.0234375
           ]
          }
         ],
         "name": "0.2"
        },
        {
         "data": [
          {
           "hovertemplate": "<b>%{hovertext}</b><br><br>threshold=0.21<br>TP=%{x}<br>TN=%{y}<br>FP=%{z}<extra></extra>",
           "hovertext": [
            0.21
           ],
           "legendgroup": "",
           "marker": {
            "color": "#636efa",
            "symbol": "circle"
           },
           "mode": "markers",
           "name": "",
           "scene": "scene",
           "showlegend": false,
           "type": "scatter3d",
           "x": [
            0.6171875
           ],
           "y": [
            0.359375
           ],
           "z": [
            0.0234375
           ]
          }
         ],
         "name": "0.21"
        },
        {
         "data": [
          {
           "hovertemplate": "<b>%{hovertext}</b><br><br>threshold=0.22<br>TP=%{x}<br>TN=%{y}<br>FP=%{z}<extra></extra>",
           "hovertext": [
            0.22
           ],
           "legendgroup": "",
           "marker": {
            "color": "#636efa",
            "symbol": "circle"
           },
           "mode": "markers",
           "name": "",
           "scene": "scene",
           "showlegend": false,
           "type": "scatter3d",
           "x": [
            0.6171875
           ],
           "y": [
            0.359375
           ],
           "z": [
            0.0234375
           ]
          }
         ],
         "name": "0.22"
        },
        {
         "data": [
          {
           "hovertemplate": "<b>%{hovertext}</b><br><br>threshold=0.23<br>TP=%{x}<br>TN=%{y}<br>FP=%{z}<extra></extra>",
           "hovertext": [
            0.23
           ],
           "legendgroup": "",
           "marker": {
            "color": "#636efa",
            "symbol": "circle"
           },
           "mode": "markers",
           "name": "",
           "scene": "scene",
           "showlegend": false,
           "type": "scatter3d",
           "x": [
            0.6171875
           ],
           "y": [
            0.359375
           ],
           "z": [
            0.0234375
           ]
          }
         ],
         "name": "0.23"
        },
        {
         "data": [
          {
           "hovertemplate": "<b>%{hovertext}</b><br><br>threshold=0.24<br>TP=%{x}<br>TN=%{y}<br>FP=%{z}<extra></extra>",
           "hovertext": [
            0.24
           ],
           "legendgroup": "",
           "marker": {
            "color": "#636efa",
            "symbol": "circle"
           },
           "mode": "markers",
           "name": "",
           "scene": "scene",
           "showlegend": false,
           "type": "scatter3d",
           "x": [
            0.6171875
           ],
           "y": [
            0.359375
           ],
           "z": [
            0.0234375
           ]
          }
         ],
         "name": "0.24"
        },
        {
         "data": [
          {
           "hovertemplate": "<b>%{hovertext}</b><br><br>threshold=0.25<br>TP=%{x}<br>TN=%{y}<br>FP=%{z}<extra></extra>",
           "hovertext": [
            0.25
           ],
           "legendgroup": "",
           "marker": {
            "color": "#636efa",
            "symbol": "circle"
           },
           "mode": "markers",
           "name": "",
           "scene": "scene",
           "showlegend": false,
           "type": "scatter3d",
           "x": [
            0.6171875
           ],
           "y": [
            0.359375
           ],
           "z": [
            0.0234375
           ]
          }
         ],
         "name": "0.25"
        },
        {
         "data": [
          {
           "hovertemplate": "<b>%{hovertext}</b><br><br>threshold=0.26<br>TP=%{x}<br>TN=%{y}<br>FP=%{z}<extra></extra>",
           "hovertext": [
            0.26
           ],
           "legendgroup": "",
           "marker": {
            "color": "#636efa",
            "symbol": "circle"
           },
           "mode": "markers",
           "name": "",
           "scene": "scene",
           "showlegend": false,
           "type": "scatter3d",
           "x": [
            0.6171875
           ],
           "y": [
            0.359375
           ],
           "z": [
            0.0234375
           ]
          }
         ],
         "name": "0.26"
        },
        {
         "data": [
          {
           "hovertemplate": "<b>%{hovertext}</b><br><br>threshold=0.27<br>TP=%{x}<br>TN=%{y}<br>FP=%{z}<extra></extra>",
           "hovertext": [
            0.27
           ],
           "legendgroup": "",
           "marker": {
            "color": "#636efa",
            "symbol": "circle"
           },
           "mode": "markers",
           "name": "",
           "scene": "scene",
           "showlegend": false,
           "type": "scatter3d",
           "x": [
            0.6171875
           ],
           "y": [
            0.359375
           ],
           "z": [
            0.0234375
           ]
          }
         ],
         "name": "0.27"
        },
        {
         "data": [
          {
           "hovertemplate": "<b>%{hovertext}</b><br><br>threshold=0.28<br>TP=%{x}<br>TN=%{y}<br>FP=%{z}<extra></extra>",
           "hovertext": [
            0.28
           ],
           "legendgroup": "",
           "marker": {
            "color": "#636efa",
            "symbol": "circle"
           },
           "mode": "markers",
           "name": "",
           "scene": "scene",
           "showlegend": false,
           "type": "scatter3d",
           "x": [
            0.6171875
           ],
           "y": [
            0.359375
           ],
           "z": [
            0.0234375
           ]
          }
         ],
         "name": "0.28"
        },
        {
         "data": [
          {
           "hovertemplate": "<b>%{hovertext}</b><br><br>threshold=0.29<br>TP=%{x}<br>TN=%{y}<br>FP=%{z}<extra></extra>",
           "hovertext": [
            0.29
           ],
           "legendgroup": "",
           "marker": {
            "color": "#636efa",
            "symbol": "circle"
           },
           "mode": "markers",
           "name": "",
           "scene": "scene",
           "showlegend": false,
           "type": "scatter3d",
           "x": [
            0.6171875
           ],
           "y": [
            0.359375
           ],
           "z": [
            0.0234375
           ]
          }
         ],
         "name": "0.29"
        },
        {
         "data": [
          {
           "hovertemplate": "<b>%{hovertext}</b><br><br>threshold=0.3<br>TP=%{x}<br>TN=%{y}<br>FP=%{z}<extra></extra>",
           "hovertext": [
            0.3
           ],
           "legendgroup": "",
           "marker": {
            "color": "#636efa",
            "symbol": "circle"
           },
           "mode": "markers",
           "name": "",
           "scene": "scene",
           "showlegend": false,
           "type": "scatter3d",
           "x": [
            0.6171875
           ],
           "y": [
            0.359375
           ],
           "z": [
            0.0234375
           ]
          }
         ],
         "name": "0.3"
        },
        {
         "data": [
          {
           "hovertemplate": "<b>%{hovertext}</b><br><br>threshold=0.31<br>TP=%{x}<br>TN=%{y}<br>FP=%{z}<extra></extra>",
           "hovertext": [
            0.31
           ],
           "legendgroup": "",
           "marker": {
            "color": "#636efa",
            "symbol": "circle"
           },
           "mode": "markers",
           "name": "",
           "scene": "scene",
           "showlegend": false,
           "type": "scatter3d",
           "x": [
            0.6171875
           ],
           "y": [
            0.359375
           ],
           "z": [
            0.0234375
           ]
          }
         ],
         "name": "0.31"
        },
        {
         "data": [
          {
           "hovertemplate": "<b>%{hovertext}</b><br><br>threshold=0.32<br>TP=%{x}<br>TN=%{y}<br>FP=%{z}<extra></extra>",
           "hovertext": [
            0.32
           ],
           "legendgroup": "",
           "marker": {
            "color": "#636efa",
            "symbol": "circle"
           },
           "mode": "markers",
           "name": "",
           "scene": "scene",
           "showlegend": false,
           "type": "scatter3d",
           "x": [
            0.6171875
           ],
           "y": [
            0.359375
           ],
           "z": [
            0.0234375
           ]
          }
         ],
         "name": "0.32"
        },
        {
         "data": [
          {
           "hovertemplate": "<b>%{hovertext}</b><br><br>threshold=0.33<br>TP=%{x}<br>TN=%{y}<br>FP=%{z}<extra></extra>",
           "hovertext": [
            0.33
           ],
           "legendgroup": "",
           "marker": {
            "color": "#636efa",
            "symbol": "circle"
           },
           "mode": "markers",
           "name": "",
           "scene": "scene",
           "showlegend": false,
           "type": "scatter3d",
           "x": [
            0.6171875
           ],
           "y": [
            0.359375
           ],
           "z": [
            0.0234375
           ]
          }
         ],
         "name": "0.33"
        },
        {
         "data": [
          {
           "hovertemplate": "<b>%{hovertext}</b><br><br>threshold=0.34<br>TP=%{x}<br>TN=%{y}<br>FP=%{z}<extra></extra>",
           "hovertext": [
            0.34
           ],
           "legendgroup": "",
           "marker": {
            "color": "#636efa",
            "symbol": "circle"
           },
           "mode": "markers",
           "name": "",
           "scene": "scene",
           "showlegend": false,
           "type": "scatter3d",
           "x": [
            0.6171875
           ],
           "y": [
            0.3671875
           ],
           "z": [
            0.015625
           ]
          }
         ],
         "name": "0.34"
        },
        {
         "data": [
          {
           "hovertemplate": "<b>%{hovertext}</b><br><br>threshold=0.35<br>TP=%{x}<br>TN=%{y}<br>FP=%{z}<extra></extra>",
           "hovertext": [
            0.35
           ],
           "legendgroup": "",
           "marker": {
            "color": "#636efa",
            "symbol": "circle"
           },
           "mode": "markers",
           "name": "",
           "scene": "scene",
           "showlegend": false,
           "type": "scatter3d",
           "x": [
            0.6171875
           ],
           "y": [
            0.3671875
           ],
           "z": [
            0.015625
           ]
          }
         ],
         "name": "0.35"
        },
        {
         "data": [
          {
           "hovertemplate": "<b>%{hovertext}</b><br><br>threshold=0.36<br>TP=%{x}<br>TN=%{y}<br>FP=%{z}<extra></extra>",
           "hovertext": [
            0.36
           ],
           "legendgroup": "",
           "marker": {
            "color": "#636efa",
            "symbol": "circle"
           },
           "mode": "markers",
           "name": "",
           "scene": "scene",
           "showlegend": false,
           "type": "scatter3d",
           "x": [
            0.6171875
           ],
           "y": [
            0.3671875
           ],
           "z": [
            0.015625
           ]
          }
         ],
         "name": "0.36"
        },
        {
         "data": [
          {
           "hovertemplate": "<b>%{hovertext}</b><br><br>threshold=0.37<br>TP=%{x}<br>TN=%{y}<br>FP=%{z}<extra></extra>",
           "hovertext": [
            0.37
           ],
           "legendgroup": "",
           "marker": {
            "color": "#636efa",
            "symbol": "circle"
           },
           "mode": "markers",
           "name": "",
           "scene": "scene",
           "showlegend": false,
           "type": "scatter3d",
           "x": [
            0.6171875
           ],
           "y": [
            0.3671875
           ],
           "z": [
            0.015625
           ]
          }
         ],
         "name": "0.37"
        },
        {
         "data": [
          {
           "hovertemplate": "<b>%{hovertext}</b><br><br>threshold=0.38<br>TP=%{x}<br>TN=%{y}<br>FP=%{z}<extra></extra>",
           "hovertext": [
            0.38
           ],
           "legendgroup": "",
           "marker": {
            "color": "#636efa",
            "symbol": "circle"
           },
           "mode": "markers",
           "name": "",
           "scene": "scene",
           "showlegend": false,
           "type": "scatter3d",
           "x": [
            0.6171875
           ],
           "y": [
            0.3671875
           ],
           "z": [
            0.015625
           ]
          }
         ],
         "name": "0.38"
        },
        {
         "data": [
          {
           "hovertemplate": "<b>%{hovertext}</b><br><br>threshold=0.39<br>TP=%{x}<br>TN=%{y}<br>FP=%{z}<extra></extra>",
           "hovertext": [
            0.39
           ],
           "legendgroup": "",
           "marker": {
            "color": "#636efa",
            "symbol": "circle"
           },
           "mode": "markers",
           "name": "",
           "scene": "scene",
           "showlegend": false,
           "type": "scatter3d",
           "x": [
            0.6171875
           ],
           "y": [
            0.3671875
           ],
           "z": [
            0.015625
           ]
          }
         ],
         "name": "0.39"
        },
        {
         "data": [
          {
           "hovertemplate": "<b>%{hovertext}</b><br><br>threshold=0.4<br>TP=%{x}<br>TN=%{y}<br>FP=%{z}<extra></extra>",
           "hovertext": [
            0.4
           ],
           "legendgroup": "",
           "marker": {
            "color": "#636efa",
            "symbol": "circle"
           },
           "mode": "markers",
           "name": "",
           "scene": "scene",
           "showlegend": false,
           "type": "scatter3d",
           "x": [
            0.6171875
           ],
           "y": [
            0.3671875
           ],
           "z": [
            0.015625
           ]
          }
         ],
         "name": "0.4"
        },
        {
         "data": [
          {
           "hovertemplate": "<b>%{hovertext}</b><br><br>threshold=0.41<br>TP=%{x}<br>TN=%{y}<br>FP=%{z}<extra></extra>",
           "hovertext": [
            0.41
           ],
           "legendgroup": "",
           "marker": {
            "color": "#636efa",
            "symbol": "circle"
           },
           "mode": "markers",
           "name": "",
           "scene": "scene",
           "showlegend": false,
           "type": "scatter3d",
           "x": [
            0.6171875
           ],
           "y": [
            0.375
           ],
           "z": [
            0.0078125
           ]
          }
         ],
         "name": "0.41"
        },
        {
         "data": [
          {
           "hovertemplate": "<b>%{hovertext}</b><br><br>threshold=0.42<br>TP=%{x}<br>TN=%{y}<br>FP=%{z}<extra></extra>",
           "hovertext": [
            0.42
           ],
           "legendgroup": "",
           "marker": {
            "color": "#636efa",
            "symbol": "circle"
           },
           "mode": "markers",
           "name": "",
           "scene": "scene",
           "showlegend": false,
           "type": "scatter3d",
           "x": [
            0.6171875
           ],
           "y": [
            0.375
           ],
           "z": [
            0.0078125
           ]
          }
         ],
         "name": "0.42"
        },
        {
         "data": [
          {
           "hovertemplate": "<b>%{hovertext}</b><br><br>threshold=0.43<br>TP=%{x}<br>TN=%{y}<br>FP=%{z}<extra></extra>",
           "hovertext": [
            0.43
           ],
           "legendgroup": "",
           "marker": {
            "color": "#636efa",
            "symbol": "circle"
           },
           "mode": "markers",
           "name": "",
           "scene": "scene",
           "showlegend": false,
           "type": "scatter3d",
           "x": [
            0.6171875
           ],
           "y": [
            0.375
           ],
           "z": [
            0.0078125
           ]
          }
         ],
         "name": "0.43"
        },
        {
         "data": [
          {
           "hovertemplate": "<b>%{hovertext}</b><br><br>threshold=0.44<br>TP=%{x}<br>TN=%{y}<br>FP=%{z}<extra></extra>",
           "hovertext": [
            0.44
           ],
           "legendgroup": "",
           "marker": {
            "color": "#636efa",
            "symbol": "circle"
           },
           "mode": "markers",
           "name": "",
           "scene": "scene",
           "showlegend": false,
           "type": "scatter3d",
           "x": [
            0.6171875
           ],
           "y": [
            0.375
           ],
           "z": [
            0.0078125
           ]
          }
         ],
         "name": "0.44"
        },
        {
         "data": [
          {
           "hovertemplate": "<b>%{hovertext}</b><br><br>threshold=0.45<br>TP=%{x}<br>TN=%{y}<br>FP=%{z}<extra></extra>",
           "hovertext": [
            0.45
           ],
           "legendgroup": "",
           "marker": {
            "color": "#636efa",
            "symbol": "circle"
           },
           "mode": "markers",
           "name": "",
           "scene": "scene",
           "showlegend": false,
           "type": "scatter3d",
           "x": [
            0.6171875
           ],
           "y": [
            0.375
           ],
           "z": [
            0.0078125
           ]
          }
         ],
         "name": "0.45"
        },
        {
         "data": [
          {
           "hovertemplate": "<b>%{hovertext}</b><br><br>threshold=0.46<br>TP=%{x}<br>TN=%{y}<br>FP=%{z}<extra></extra>",
           "hovertext": [
            0.46
           ],
           "legendgroup": "",
           "marker": {
            "color": "#636efa",
            "symbol": "circle"
           },
           "mode": "markers",
           "name": "",
           "scene": "scene",
           "showlegend": false,
           "type": "scatter3d",
           "x": [
            0.6171875
           ],
           "y": [
            0.375
           ],
           "z": [
            0.0078125
           ]
          }
         ],
         "name": "0.46"
        },
        {
         "data": [
          {
           "hovertemplate": "<b>%{hovertext}</b><br><br>threshold=0.47<br>TP=%{x}<br>TN=%{y}<br>FP=%{z}<extra></extra>",
           "hovertext": [
            0.47
           ],
           "legendgroup": "",
           "marker": {
            "color": "#636efa",
            "symbol": "circle"
           },
           "mode": "markers",
           "name": "",
           "scene": "scene",
           "showlegend": false,
           "type": "scatter3d",
           "x": [
            0.6171875
           ],
           "y": [
            0.375
           ],
           "z": [
            0.0078125
           ]
          }
         ],
         "name": "0.47"
        },
        {
         "data": [
          {
           "hovertemplate": "<b>%{hovertext}</b><br><br>threshold=0.48<br>TP=%{x}<br>TN=%{y}<br>FP=%{z}<extra></extra>",
           "hovertext": [
            0.48
           ],
           "legendgroup": "",
           "marker": {
            "color": "#636efa",
            "symbol": "circle"
           },
           "mode": "markers",
           "name": "",
           "scene": "scene",
           "showlegend": false,
           "type": "scatter3d",
           "x": [
            0.6171875
           ],
           "y": [
            0.375
           ],
           "z": [
            0.0078125
           ]
          }
         ],
         "name": "0.48"
        },
        {
         "data": [
          {
           "hovertemplate": "<b>%{hovertext}</b><br><br>threshold=0.49<br>TP=%{x}<br>TN=%{y}<br>FP=%{z}<extra></extra>",
           "hovertext": [
            0.49
           ],
           "legendgroup": "",
           "marker": {
            "color": "#636efa",
            "symbol": "circle"
           },
           "mode": "markers",
           "name": "",
           "scene": "scene",
           "showlegend": false,
           "type": "scatter3d",
           "x": [
            0.6171875
           ],
           "y": [
            0.375
           ],
           "z": [
            0.0078125
           ]
          }
         ],
         "name": "0.49"
        },
        {
         "data": [
          {
           "hovertemplate": "<b>%{hovertext}</b><br><br>threshold=0.5<br>TP=%{x}<br>TN=%{y}<br>FP=%{z}<extra></extra>",
           "hovertext": [
            0.5
           ],
           "legendgroup": "",
           "marker": {
            "color": "#636efa",
            "symbol": "circle"
           },
           "mode": "markers",
           "name": "",
           "scene": "scene",
           "showlegend": false,
           "type": "scatter3d",
           "x": [
            0.6171875
           ],
           "y": [
            0.375
           ],
           "z": [
            0.0078125
           ]
          }
         ],
         "name": "0.5"
        },
        {
         "data": [
          {
           "hovertemplate": "<b>%{hovertext}</b><br><br>threshold=0.51<br>TP=%{x}<br>TN=%{y}<br>FP=%{z}<extra></extra>",
           "hovertext": [
            0.51
           ],
           "legendgroup": "",
           "marker": {
            "color": "#636efa",
            "symbol": "circle"
           },
           "mode": "markers",
           "name": "",
           "scene": "scene",
           "showlegend": false,
           "type": "scatter3d",
           "x": [
            0.6171875
           ],
           "y": [
            0.375
           ],
           "z": [
            0.0078125
           ]
          }
         ],
         "name": "0.51"
        },
        {
         "data": [
          {
           "hovertemplate": "<b>%{hovertext}</b><br><br>threshold=0.52<br>TP=%{x}<br>TN=%{y}<br>FP=%{z}<extra></extra>",
           "hovertext": [
            0.52
           ],
           "legendgroup": "",
           "marker": {
            "color": "#636efa",
            "symbol": "circle"
           },
           "mode": "markers",
           "name": "",
           "scene": "scene",
           "showlegend": false,
           "type": "scatter3d",
           "x": [
            0.6171875
           ],
           "y": [
            0.375
           ],
           "z": [
            0.0078125
           ]
          }
         ],
         "name": "0.52"
        },
        {
         "data": [
          {
           "hovertemplate": "<b>%{hovertext}</b><br><br>threshold=0.53<br>TP=%{x}<br>TN=%{y}<br>FP=%{z}<extra></extra>",
           "hovertext": [
            0.53
           ],
           "legendgroup": "",
           "marker": {
            "color": "#636efa",
            "symbol": "circle"
           },
           "mode": "markers",
           "name": "",
           "scene": "scene",
           "showlegend": false,
           "type": "scatter3d",
           "x": [
            0.6171875
           ],
           "y": [
            0.375
           ],
           "z": [
            0.0078125
           ]
          }
         ],
         "name": "0.53"
        },
        {
         "data": [
          {
           "hovertemplate": "<b>%{hovertext}</b><br><br>threshold=0.54<br>TP=%{x}<br>TN=%{y}<br>FP=%{z}<extra></extra>",
           "hovertext": [
            0.54
           ],
           "legendgroup": "",
           "marker": {
            "color": "#636efa",
            "symbol": "circle"
           },
           "mode": "markers",
           "name": "",
           "scene": "scene",
           "showlegend": false,
           "type": "scatter3d",
           "x": [
            0.6171875
           ],
           "y": [
            0.375
           ],
           "z": [
            0.0078125
           ]
          }
         ],
         "name": "0.54"
        },
        {
         "data": [
          {
           "hovertemplate": "<b>%{hovertext}</b><br><br>threshold=0.55<br>TP=%{x}<br>TN=%{y}<br>FP=%{z}<extra></extra>",
           "hovertext": [
            0.55
           ],
           "legendgroup": "",
           "marker": {
            "color": "#636efa",
            "symbol": "circle"
           },
           "mode": "markers",
           "name": "",
           "scene": "scene",
           "showlegend": false,
           "type": "scatter3d",
           "x": [
            0.6171875
           ],
           "y": [
            0.375
           ],
           "z": [
            0.0078125
           ]
          }
         ],
         "name": "0.55"
        },
        {
         "data": [
          {
           "hovertemplate": "<b>%{hovertext}</b><br><br>threshold=0.56<br>TP=%{x}<br>TN=%{y}<br>FP=%{z}<extra></extra>",
           "hovertext": [
            0.56
           ],
           "legendgroup": "",
           "marker": {
            "color": "#636efa",
            "symbol": "circle"
           },
           "mode": "markers",
           "name": "",
           "scene": "scene",
           "showlegend": false,
           "type": "scatter3d",
           "x": [
            0.6171875
           ],
           "y": [
            0.375
           ],
           "z": [
            0.0078125
           ]
          }
         ],
         "name": "0.56"
        },
        {
         "data": [
          {
           "hovertemplate": "<b>%{hovertext}</b><br><br>threshold=0.57<br>TP=%{x}<br>TN=%{y}<br>FP=%{z}<extra></extra>",
           "hovertext": [
            0.57
           ],
           "legendgroup": "",
           "marker": {
            "color": "#636efa",
            "symbol": "circle"
           },
           "mode": "markers",
           "name": "",
           "scene": "scene",
           "showlegend": false,
           "type": "scatter3d",
           "x": [
            0.6171875
           ],
           "y": [
            0.375
           ],
           "z": [
            0.0078125
           ]
          }
         ],
         "name": "0.57"
        },
        {
         "data": [
          {
           "hovertemplate": "<b>%{hovertext}</b><br><br>threshold=0.58<br>TP=%{x}<br>TN=%{y}<br>FP=%{z}<extra></extra>",
           "hovertext": [
            0.58
           ],
           "legendgroup": "",
           "marker": {
            "color": "#636efa",
            "symbol": "circle"
           },
           "mode": "markers",
           "name": "",
           "scene": "scene",
           "showlegend": false,
           "type": "scatter3d",
           "x": [
            0.6171875
           ],
           "y": [
            0.375
           ],
           "z": [
            0.0078125
           ]
          }
         ],
         "name": "0.58"
        },
        {
         "data": [
          {
           "hovertemplate": "<b>%{hovertext}</b><br><br>threshold=0.59<br>TP=%{x}<br>TN=%{y}<br>FP=%{z}<extra></extra>",
           "hovertext": [
            0.59
           ],
           "legendgroup": "",
           "marker": {
            "color": "#636efa",
            "symbol": "circle"
           },
           "mode": "markers",
           "name": "",
           "scene": "scene",
           "showlegend": false,
           "type": "scatter3d",
           "x": [
            0.609375
           ],
           "y": [
            0.375
           ],
           "z": [
            0.0078125
           ]
          }
         ],
         "name": "0.59"
        },
        {
         "data": [
          {
           "hovertemplate": "<b>%{hovertext}</b><br><br>threshold=0.6<br>TP=%{x}<br>TN=%{y}<br>FP=%{z}<extra></extra>",
           "hovertext": [
            0.6
           ],
           "legendgroup": "",
           "marker": {
            "color": "#636efa",
            "symbol": "circle"
           },
           "mode": "markers",
           "name": "",
           "scene": "scene",
           "showlegend": false,
           "type": "scatter3d",
           "x": [
            0.609375
           ],
           "y": [
            0.375
           ],
           "z": [
            0.0078125
           ]
          }
         ],
         "name": "0.6"
        },
        {
         "data": [
          {
           "hovertemplate": "<b>%{hovertext}</b><br><br>threshold=0.61<br>TP=%{x}<br>TN=%{y}<br>FP=%{z}<extra></extra>",
           "hovertext": [
            0.61
           ],
           "legendgroup": "",
           "marker": {
            "color": "#636efa",
            "symbol": "circle"
           },
           "mode": "markers",
           "name": "",
           "scene": "scene",
           "showlegend": false,
           "type": "scatter3d",
           "x": [
            0.609375
           ],
           "y": [
            0.375
           ],
           "z": [
            0.0078125
           ]
          }
         ],
         "name": "0.61"
        },
        {
         "data": [
          {
           "hovertemplate": "<b>%{hovertext}</b><br><br>threshold=0.62<br>TP=%{x}<br>TN=%{y}<br>FP=%{z}<extra></extra>",
           "hovertext": [
            0.62
           ],
           "legendgroup": "",
           "marker": {
            "color": "#636efa",
            "symbol": "circle"
           },
           "mode": "markers",
           "name": "",
           "scene": "scene",
           "showlegend": false,
           "type": "scatter3d",
           "x": [
            0.609375
           ],
           "y": [
            0.375
           ],
           "z": [
            0.0078125
           ]
          }
         ],
         "name": "0.62"
        },
        {
         "data": [
          {
           "hovertemplate": "<b>%{hovertext}</b><br><br>threshold=0.63<br>TP=%{x}<br>TN=%{y}<br>FP=%{z}<extra></extra>",
           "hovertext": [
            0.63
           ],
           "legendgroup": "",
           "marker": {
            "color": "#636efa",
            "symbol": "circle"
           },
           "mode": "markers",
           "name": "",
           "scene": "scene",
           "showlegend": false,
           "type": "scatter3d",
           "x": [
            0.609375
           ],
           "y": [
            0.375
           ],
           "z": [
            0.0078125
           ]
          }
         ],
         "name": "0.63"
        },
        {
         "data": [
          {
           "hovertemplate": "<b>%{hovertext}</b><br><br>threshold=0.64<br>TP=%{x}<br>TN=%{y}<br>FP=%{z}<extra></extra>",
           "hovertext": [
            0.64
           ],
           "legendgroup": "",
           "marker": {
            "color": "#636efa",
            "symbol": "circle"
           },
           "mode": "markers",
           "name": "",
           "scene": "scene",
           "showlegend": false,
           "type": "scatter3d",
           "x": [
            0.609375
           ],
           "y": [
            0.375
           ],
           "z": [
            0.0078125
           ]
          }
         ],
         "name": "0.64"
        },
        {
         "data": [
          {
           "hovertemplate": "<b>%{hovertext}</b><br><br>threshold=0.65<br>TP=%{x}<br>TN=%{y}<br>FP=%{z}<extra></extra>",
           "hovertext": [
            0.65
           ],
           "legendgroup": "",
           "marker": {
            "color": "#636efa",
            "symbol": "circle"
           },
           "mode": "markers",
           "name": "",
           "scene": "scene",
           "showlegend": false,
           "type": "scatter3d",
           "x": [
            0.609375
           ],
           "y": [
            0.375
           ],
           "z": [
            0.0078125
           ]
          }
         ],
         "name": "0.65"
        },
        {
         "data": [
          {
           "hovertemplate": "<b>%{hovertext}</b><br><br>threshold=0.66<br>TP=%{x}<br>TN=%{y}<br>FP=%{z}<extra></extra>",
           "hovertext": [
            0.66
           ],
           "legendgroup": "",
           "marker": {
            "color": "#636efa",
            "symbol": "circle"
           },
           "mode": "markers",
           "name": "",
           "scene": "scene",
           "showlegend": false,
           "type": "scatter3d",
           "x": [
            0.609375
           ],
           "y": [
            0.3828125
           ],
           "z": [
            0
           ]
          }
         ],
         "name": "0.66"
        },
        {
         "data": [
          {
           "hovertemplate": "<b>%{hovertext}</b><br><br>threshold=0.67<br>TP=%{x}<br>TN=%{y}<br>FP=%{z}<extra></extra>",
           "hovertext": [
            0.67
           ],
           "legendgroup": "",
           "marker": {
            "color": "#636efa",
            "symbol": "circle"
           },
           "mode": "markers",
           "name": "",
           "scene": "scene",
           "showlegend": false,
           "type": "scatter3d",
           "x": [
            0.6015625
           ],
           "y": [
            0.3828125
           ],
           "z": [
            0
           ]
          }
         ],
         "name": "0.67"
        },
        {
         "data": [
          {
           "hovertemplate": "<b>%{hovertext}</b><br><br>threshold=0.68<br>TP=%{x}<br>TN=%{y}<br>FP=%{z}<extra></extra>",
           "hovertext": [
            0.68
           ],
           "legendgroup": "",
           "marker": {
            "color": "#636efa",
            "symbol": "circle"
           },
           "mode": "markers",
           "name": "",
           "scene": "scene",
           "showlegend": false,
           "type": "scatter3d",
           "x": [
            0.6015625
           ],
           "y": [
            0.3828125
           ],
           "z": [
            0
           ]
          }
         ],
         "name": "0.68"
        },
        {
         "data": [
          {
           "hovertemplate": "<b>%{hovertext}</b><br><br>threshold=0.69<br>TP=%{x}<br>TN=%{y}<br>FP=%{z}<extra></extra>",
           "hovertext": [
            0.69
           ],
           "legendgroup": "",
           "marker": {
            "color": "#636efa",
            "symbol": "circle"
           },
           "mode": "markers",
           "name": "",
           "scene": "scene",
           "showlegend": false,
           "type": "scatter3d",
           "x": [
            0.6015625
           ],
           "y": [
            0.3828125
           ],
           "z": [
            0
           ]
          }
         ],
         "name": "0.69"
        },
        {
         "data": [
          {
           "hovertemplate": "<b>%{hovertext}</b><br><br>threshold=0.7<br>TP=%{x}<br>TN=%{y}<br>FP=%{z}<extra></extra>",
           "hovertext": [
            0.7
           ],
           "legendgroup": "",
           "marker": {
            "color": "#636efa",
            "symbol": "circle"
           },
           "mode": "markers",
           "name": "",
           "scene": "scene",
           "showlegend": false,
           "type": "scatter3d",
           "x": [
            0.6015625
           ],
           "y": [
            0.3828125
           ],
           "z": [
            0
           ]
          }
         ],
         "name": "0.7"
        },
        {
         "data": [
          {
           "hovertemplate": "<b>%{hovertext}</b><br><br>threshold=0.71<br>TP=%{x}<br>TN=%{y}<br>FP=%{z}<extra></extra>",
           "hovertext": [
            0.71
           ],
           "legendgroup": "",
           "marker": {
            "color": "#636efa",
            "symbol": "circle"
           },
           "mode": "markers",
           "name": "",
           "scene": "scene",
           "showlegend": false,
           "type": "scatter3d",
           "x": [
            0.6015625
           ],
           "y": [
            0.3828125
           ],
           "z": [
            0
           ]
          }
         ],
         "name": "0.71"
        },
        {
         "data": [
          {
           "hovertemplate": "<b>%{hovertext}</b><br><br>threshold=0.72<br>TP=%{x}<br>TN=%{y}<br>FP=%{z}<extra></extra>",
           "hovertext": [
            0.72
           ],
           "legendgroup": "",
           "marker": {
            "color": "#636efa",
            "symbol": "circle"
           },
           "mode": "markers",
           "name": "",
           "scene": "scene",
           "showlegend": false,
           "type": "scatter3d",
           "x": [
            0.6015625
           ],
           "y": [
            0.3828125
           ],
           "z": [
            0
           ]
          }
         ],
         "name": "0.72"
        },
        {
         "data": [
          {
           "hovertemplate": "<b>%{hovertext}</b><br><br>threshold=0.73<br>TP=%{x}<br>TN=%{y}<br>FP=%{z}<extra></extra>",
           "hovertext": [
            0.73
           ],
           "legendgroup": "",
           "marker": {
            "color": "#636efa",
            "symbol": "circle"
           },
           "mode": "markers",
           "name": "",
           "scene": "scene",
           "showlegend": false,
           "type": "scatter3d",
           "x": [
            0.6015625
           ],
           "y": [
            0.3828125
           ],
           "z": [
            0
           ]
          }
         ],
         "name": "0.73"
        },
        {
         "data": [
          {
           "hovertemplate": "<b>%{hovertext}</b><br><br>threshold=0.74<br>TP=%{x}<br>TN=%{y}<br>FP=%{z}<extra></extra>",
           "hovertext": [
            0.74
           ],
           "legendgroup": "",
           "marker": {
            "color": "#636efa",
            "symbol": "circle"
           },
           "mode": "markers",
           "name": "",
           "scene": "scene",
           "showlegend": false,
           "type": "scatter3d",
           "x": [
            0.59375
           ],
           "y": [
            0.3828125
           ],
           "z": [
            0
           ]
          }
         ],
         "name": "0.74"
        },
        {
         "data": [
          {
           "hovertemplate": "<b>%{hovertext}</b><br><br>threshold=0.75<br>TP=%{x}<br>TN=%{y}<br>FP=%{z}<extra></extra>",
           "hovertext": [
            0.75
           ],
           "legendgroup": "",
           "marker": {
            "color": "#636efa",
            "symbol": "circle"
           },
           "mode": "markers",
           "name": "",
           "scene": "scene",
           "showlegend": false,
           "type": "scatter3d",
           "x": [
            0.59375
           ],
           "y": [
            0.3828125
           ],
           "z": [
            0
           ]
          }
         ],
         "name": "0.75"
        },
        {
         "data": [
          {
           "hovertemplate": "<b>%{hovertext}</b><br><br>threshold=0.76<br>TP=%{x}<br>TN=%{y}<br>FP=%{z}<extra></extra>",
           "hovertext": [
            0.76
           ],
           "legendgroup": "",
           "marker": {
            "color": "#636efa",
            "symbol": "circle"
           },
           "mode": "markers",
           "name": "",
           "scene": "scene",
           "showlegend": false,
           "type": "scatter3d",
           "x": [
            0.59375
           ],
           "y": [
            0.3828125
           ],
           "z": [
            0
           ]
          }
         ],
         "name": "0.76"
        },
        {
         "data": [
          {
           "hovertemplate": "<b>%{hovertext}</b><br><br>threshold=0.77<br>TP=%{x}<br>TN=%{y}<br>FP=%{z}<extra></extra>",
           "hovertext": [
            0.77
           ],
           "legendgroup": "",
           "marker": {
            "color": "#636efa",
            "symbol": "circle"
           },
           "mode": "markers",
           "name": "",
           "scene": "scene",
           "showlegend": false,
           "type": "scatter3d",
           "x": [
            0.59375
           ],
           "y": [
            0.3828125
           ],
           "z": [
            0
           ]
          }
         ],
         "name": "0.77"
        },
        {
         "data": [
          {
           "hovertemplate": "<b>%{hovertext}</b><br><br>threshold=0.78<br>TP=%{x}<br>TN=%{y}<br>FP=%{z}<extra></extra>",
           "hovertext": [
            0.78
           ],
           "legendgroup": "",
           "marker": {
            "color": "#636efa",
            "symbol": "circle"
           },
           "mode": "markers",
           "name": "",
           "scene": "scene",
           "showlegend": false,
           "type": "scatter3d",
           "x": [
            0.59375
           ],
           "y": [
            0.3828125
           ],
           "z": [
            0
           ]
          }
         ],
         "name": "0.78"
        },
        {
         "data": [
          {
           "hovertemplate": "<b>%{hovertext}</b><br><br>threshold=0.79<br>TP=%{x}<br>TN=%{y}<br>FP=%{z}<extra></extra>",
           "hovertext": [
            0.79
           ],
           "legendgroup": "",
           "marker": {
            "color": "#636efa",
            "symbol": "circle"
           },
           "mode": "markers",
           "name": "",
           "scene": "scene",
           "showlegend": false,
           "type": "scatter3d",
           "x": [
            0.5859375
           ],
           "y": [
            0.3828125
           ],
           "z": [
            0
           ]
          }
         ],
         "name": "0.79"
        },
        {
         "data": [
          {
           "hovertemplate": "<b>%{hovertext}</b><br><br>threshold=0.8<br>TP=%{x}<br>TN=%{y}<br>FP=%{z}<extra></extra>",
           "hovertext": [
            0.8
           ],
           "legendgroup": "",
           "marker": {
            "color": "#636efa",
            "symbol": "circle"
           },
           "mode": "markers",
           "name": "",
           "scene": "scene",
           "showlegend": false,
           "type": "scatter3d",
           "x": [
            0.5859375
           ],
           "y": [
            0.3828125
           ],
           "z": [
            0
           ]
          }
         ],
         "name": "0.8"
        },
        {
         "data": [
          {
           "hovertemplate": "<b>%{hovertext}</b><br><br>threshold=0.81<br>TP=%{x}<br>TN=%{y}<br>FP=%{z}<extra></extra>",
           "hovertext": [
            0.81
           ],
           "legendgroup": "",
           "marker": {
            "color": "#636efa",
            "symbol": "circle"
           },
           "mode": "markers",
           "name": "",
           "scene": "scene",
           "showlegend": false,
           "type": "scatter3d",
           "x": [
            0.5859375
           ],
           "y": [
            0.3828125
           ],
           "z": [
            0
           ]
          }
         ],
         "name": "0.81"
        },
        {
         "data": [
          {
           "hovertemplate": "<b>%{hovertext}</b><br><br>threshold=0.82<br>TP=%{x}<br>TN=%{y}<br>FP=%{z}<extra></extra>",
           "hovertext": [
            0.82
           ],
           "legendgroup": "",
           "marker": {
            "color": "#636efa",
            "symbol": "circle"
           },
           "mode": "markers",
           "name": "",
           "scene": "scene",
           "showlegend": false,
           "type": "scatter3d",
           "x": [
            0.5859375
           ],
           "y": [
            0.3828125
           ],
           "z": [
            0
           ]
          }
         ],
         "name": "0.82"
        },
        {
         "data": [
          {
           "hovertemplate": "<b>%{hovertext}</b><br><br>threshold=0.83<br>TP=%{x}<br>TN=%{y}<br>FP=%{z}<extra></extra>",
           "hovertext": [
            0.83
           ],
           "legendgroup": "",
           "marker": {
            "color": "#636efa",
            "symbol": "circle"
           },
           "mode": "markers",
           "name": "",
           "scene": "scene",
           "showlegend": false,
           "type": "scatter3d",
           "x": [
            0.578125
           ],
           "y": [
            0.3828125
           ],
           "z": [
            0
           ]
          }
         ],
         "name": "0.83"
        },
        {
         "data": [
          {
           "hovertemplate": "<b>%{hovertext}</b><br><br>threshold=0.84<br>TP=%{x}<br>TN=%{y}<br>FP=%{z}<extra></extra>",
           "hovertext": [
            0.84
           ],
           "legendgroup": "",
           "marker": {
            "color": "#636efa",
            "symbol": "circle"
           },
           "mode": "markers",
           "name": "",
           "scene": "scene",
           "showlegend": false,
           "type": "scatter3d",
           "x": [
            0.578125
           ],
           "y": [
            0.3828125
           ],
           "z": [
            0
           ]
          }
         ],
         "name": "0.84"
        },
        {
         "data": [
          {
           "hovertemplate": "<b>%{hovertext}</b><br><br>threshold=0.85<br>TP=%{x}<br>TN=%{y}<br>FP=%{z}<extra></extra>",
           "hovertext": [
            0.85
           ],
           "legendgroup": "",
           "marker": {
            "color": "#636efa",
            "symbol": "circle"
           },
           "mode": "markers",
           "name": "",
           "scene": "scene",
           "showlegend": false,
           "type": "scatter3d",
           "x": [
            0.578125
           ],
           "y": [
            0.3828125
           ],
           "z": [
            0
           ]
          }
         ],
         "name": "0.85"
        },
        {
         "data": [
          {
           "hovertemplate": "<b>%{hovertext}</b><br><br>threshold=0.86<br>TP=%{x}<br>TN=%{y}<br>FP=%{z}<extra></extra>",
           "hovertext": [
            0.86
           ],
           "legendgroup": "",
           "marker": {
            "color": "#636efa",
            "symbol": "circle"
           },
           "mode": "markers",
           "name": "",
           "scene": "scene",
           "showlegend": false,
           "type": "scatter3d",
           "x": [
            0.578125
           ],
           "y": [
            0.3828125
           ],
           "z": [
            0
           ]
          }
         ],
         "name": "0.86"
        },
        {
         "data": [
          {
           "hovertemplate": "<b>%{hovertext}</b><br><br>threshold=0.87<br>TP=%{x}<br>TN=%{y}<br>FP=%{z}<extra></extra>",
           "hovertext": [
            0.87
           ],
           "legendgroup": "",
           "marker": {
            "color": "#636efa",
            "symbol": "circle"
           },
           "mode": "markers",
           "name": "",
           "scene": "scene",
           "showlegend": false,
           "type": "scatter3d",
           "x": [
            0.5703125
           ],
           "y": [
            0.3828125
           ],
           "z": [
            0
           ]
          }
         ],
         "name": "0.87"
        },
        {
         "data": [
          {
           "hovertemplate": "<b>%{hovertext}</b><br><br>threshold=0.88<br>TP=%{x}<br>TN=%{y}<br>FP=%{z}<extra></extra>",
           "hovertext": [
            0.88
           ],
           "legendgroup": "",
           "marker": {
            "color": "#636efa",
            "symbol": "circle"
           },
           "mode": "markers",
           "name": "",
           "scene": "scene",
           "showlegend": false,
           "type": "scatter3d",
           "x": [
            0.5703125
           ],
           "y": [
            0.3828125
           ],
           "z": [
            0
           ]
          }
         ],
         "name": "0.88"
        },
        {
         "data": [
          {
           "hovertemplate": "<b>%{hovertext}</b><br><br>threshold=0.89<br>TP=%{x}<br>TN=%{y}<br>FP=%{z}<extra></extra>",
           "hovertext": [
            0.89
           ],
           "legendgroup": "",
           "marker": {
            "color": "#636efa",
            "symbol": "circle"
           },
           "mode": "markers",
           "name": "",
           "scene": "scene",
           "showlegend": false,
           "type": "scatter3d",
           "x": [
            0.5625
           ],
           "y": [
            0.3828125
           ],
           "z": [
            0
           ]
          }
         ],
         "name": "0.89"
        },
        {
         "data": [
          {
           "hovertemplate": "<b>%{hovertext}</b><br><br>threshold=0.9<br>TP=%{x}<br>TN=%{y}<br>FP=%{z}<extra></extra>",
           "hovertext": [
            0.9
           ],
           "legendgroup": "",
           "marker": {
            "color": "#636efa",
            "symbol": "circle"
           },
           "mode": "markers",
           "name": "",
           "scene": "scene",
           "showlegend": false,
           "type": "scatter3d",
           "x": [
            0.5546875
           ],
           "y": [
            0.3828125
           ],
           "z": [
            0
           ]
          }
         ],
         "name": "0.9"
        },
        {
         "data": [
          {
           "hovertemplate": "<b>%{hovertext}</b><br><br>threshold=0.91<br>TP=%{x}<br>TN=%{y}<br>FP=%{z}<extra></extra>",
           "hovertext": [
            0.91
           ],
           "legendgroup": "",
           "marker": {
            "color": "#636efa",
            "symbol": "circle"
           },
           "mode": "markers",
           "name": "",
           "scene": "scene",
           "showlegend": false,
           "type": "scatter3d",
           "x": [
            0.5546875
           ],
           "y": [
            0.3828125
           ],
           "z": [
            0
           ]
          }
         ],
         "name": "0.91"
        },
        {
         "data": [
          {
           "hovertemplate": "<b>%{hovertext}</b><br><br>threshold=0.92<br>TP=%{x}<br>TN=%{y}<br>FP=%{z}<extra></extra>",
           "hovertext": [
            0.92
           ],
           "legendgroup": "",
           "marker": {
            "color": "#636efa",
            "symbol": "circle"
           },
           "mode": "markers",
           "name": "",
           "scene": "scene",
           "showlegend": false,
           "type": "scatter3d",
           "x": [
            0.5546875
           ],
           "y": [
            0.3828125
           ],
           "z": [
            0
           ]
          }
         ],
         "name": "0.92"
        },
        {
         "data": [
          {
           "hovertemplate": "<b>%{hovertext}</b><br><br>threshold=0.93<br>TP=%{x}<br>TN=%{y}<br>FP=%{z}<extra></extra>",
           "hovertext": [
            0.93
           ],
           "legendgroup": "",
           "marker": {
            "color": "#636efa",
            "symbol": "circle"
           },
           "mode": "markers",
           "name": "",
           "scene": "scene",
           "showlegend": false,
           "type": "scatter3d",
           "x": [
            0.546875
           ],
           "y": [
            0.3828125
           ],
           "z": [
            0
           ]
          }
         ],
         "name": "0.93"
        },
        {
         "data": [
          {
           "hovertemplate": "<b>%{hovertext}</b><br><br>threshold=0.94<br>TP=%{x}<br>TN=%{y}<br>FP=%{z}<extra></extra>",
           "hovertext": [
            0.94
           ],
           "legendgroup": "",
           "marker": {
            "color": "#636efa",
            "symbol": "circle"
           },
           "mode": "markers",
           "name": "",
           "scene": "scene",
           "showlegend": false,
           "type": "scatter3d",
           "x": [
            0.5390625
           ],
           "y": [
            0.3828125
           ],
           "z": [
            0
           ]
          }
         ],
         "name": "0.94"
        },
        {
         "data": [
          {
           "hovertemplate": "<b>%{hovertext}</b><br><br>threshold=0.95<br>TP=%{x}<br>TN=%{y}<br>FP=%{z}<extra></extra>",
           "hovertext": [
            0.95
           ],
           "legendgroup": "",
           "marker": {
            "color": "#636efa",
            "symbol": "circle"
           },
           "mode": "markers",
           "name": "",
           "scene": "scene",
           "showlegend": false,
           "type": "scatter3d",
           "x": [
            0.5234375
           ],
           "y": [
            0.3828125
           ],
           "z": [
            0
           ]
          }
         ],
         "name": "0.95"
        },
        {
         "data": [
          {
           "hovertemplate": "<b>%{hovertext}</b><br><br>threshold=0.96<br>TP=%{x}<br>TN=%{y}<br>FP=%{z}<extra></extra>",
           "hovertext": [
            0.96
           ],
           "legendgroup": "",
           "marker": {
            "color": "#636efa",
            "symbol": "circle"
           },
           "mode": "markers",
           "name": "",
           "scene": "scene",
           "showlegend": false,
           "type": "scatter3d",
           "x": [
            0.5078125
           ],
           "y": [
            0.3828125
           ],
           "z": [
            0
           ]
          }
         ],
         "name": "0.96"
        },
        {
         "data": [
          {
           "hovertemplate": "<b>%{hovertext}</b><br><br>threshold=0.97<br>TP=%{x}<br>TN=%{y}<br>FP=%{z}<extra></extra>",
           "hovertext": [
            0.97
           ],
           "legendgroup": "",
           "marker": {
            "color": "#636efa",
            "symbol": "circle"
           },
           "mode": "markers",
           "name": "",
           "scene": "scene",
           "showlegend": false,
           "type": "scatter3d",
           "x": [
            0.4765625
           ],
           "y": [
            0.3828125
           ],
           "z": [
            0
           ]
          }
         ],
         "name": "0.97"
        },
        {
         "data": [
          {
           "hovertemplate": "<b>%{hovertext}</b><br><br>threshold=0.98<br>TP=%{x}<br>TN=%{y}<br>FP=%{z}<extra></extra>",
           "hovertext": [
            0.98
           ],
           "legendgroup": "",
           "marker": {
            "color": "#636efa",
            "symbol": "circle"
           },
           "mode": "markers",
           "name": "",
           "scene": "scene",
           "showlegend": false,
           "type": "scatter3d",
           "x": [
            0.453125
           ],
           "y": [
            0.3828125
           ],
           "z": [
            0
           ]
          }
         ],
         "name": "0.98"
        },
        {
         "data": [
          {
           "hovertemplate": "<b>%{hovertext}</b><br><br>threshold=0.99<br>TP=%{x}<br>TN=%{y}<br>FP=%{z}<extra></extra>",
           "hovertext": [
            0.99
           ],
           "legendgroup": "",
           "marker": {
            "color": "#636efa",
            "symbol": "circle"
           },
           "mode": "markers",
           "name": "",
           "scene": "scene",
           "showlegend": false,
           "type": "scatter3d",
           "x": [
            0.421875
           ],
           "y": [
            0.3828125
           ],
           "z": [
            0
           ]
          }
         ],
         "name": "0.99"
        },
        {
         "data": [
          {
           "hovertemplate": "<b>%{hovertext}</b><br><br>threshold=1.0<br>TP=%{x}<br>TN=%{y}<br>FP=%{z}<extra></extra>",
           "hovertext": [
            1
           ],
           "legendgroup": "",
           "marker": {
            "color": "#636efa",
            "symbol": "circle"
           },
           "mode": "markers",
           "name": "",
           "scene": "scene",
           "showlegend": false,
           "type": "scatter3d",
           "x": [
            0
           ],
           "y": [
            0.3828125
           ],
           "z": [
            0
           ]
          }
         ],
         "name": "1.0"
        }
       ],
       "layout": {
        "legend": {
         "tracegroupgap": 0
        },
        "margin": {
         "t": 60
        },
        "scene": {
         "domain": {
          "x": [
           0,
           1
          ],
          "y": [
           0,
           1
          ]
         },
         "xaxis": {
          "range": [
           0,
           1
          ],
          "title": {
           "text": "TP"
          }
         },
         "yaxis": {
          "range": [
           0,
           1
          ],
          "title": {
           "text": "TN"
          }
         },
         "zaxis": {
          "range": [
           0,
           1
          ],
          "title": {
           "text": "FP"
          }
         }
        },
        "sliders": [
         {
          "active": 0,
          "currentvalue": {
           "prefix": "threshold="
          },
          "len": 0.9,
          "pad": {
           "b": 10,
           "t": 60
          },
          "steps": [
           {
            "args": [
             [
              "0.0"
             ],
             {
              "frame": {
               "duration": 0,
               "redraw": true
              },
              "fromcurrent": true,
              "mode": "immediate",
              "transition": {
               "duration": 0,
               "easing": "linear"
              }
             }
            ],
            "label": "0.0",
            "method": "animate"
           },
           {
            "args": [
             [
              "0.01"
             ],
             {
              "frame": {
               "duration": 0,
               "redraw": true
              },
              "fromcurrent": true,
              "mode": "immediate",
              "transition": {
               "duration": 0,
               "easing": "linear"
              }
             }
            ],
            "label": "0.01",
            "method": "animate"
           },
           {
            "args": [
             [
              "0.02"
             ],
             {
              "frame": {
               "duration": 0,
               "redraw": true
              },
              "fromcurrent": true,
              "mode": "immediate",
              "transition": {
               "duration": 0,
               "easing": "linear"
              }
             }
            ],
            "label": "0.02",
            "method": "animate"
           },
           {
            "args": [
             [
              "0.03"
             ],
             {
              "frame": {
               "duration": 0,
               "redraw": true
              },
              "fromcurrent": true,
              "mode": "immediate",
              "transition": {
               "duration": 0,
               "easing": "linear"
              }
             }
            ],
            "label": "0.03",
            "method": "animate"
           },
           {
            "args": [
             [
              "0.04"
             ],
             {
              "frame": {
               "duration": 0,
               "redraw": true
              },
              "fromcurrent": true,
              "mode": "immediate",
              "transition": {
               "duration": 0,
               "easing": "linear"
              }
             }
            ],
            "label": "0.04",
            "method": "animate"
           },
           {
            "args": [
             [
              "0.05"
             ],
             {
              "frame": {
               "duration": 0,
               "redraw": true
              },
              "fromcurrent": true,
              "mode": "immediate",
              "transition": {
               "duration": 0,
               "easing": "linear"
              }
             }
            ],
            "label": "0.05",
            "method": "animate"
           },
           {
            "args": [
             [
              "0.06"
             ],
             {
              "frame": {
               "duration": 0,
               "redraw": true
              },
              "fromcurrent": true,
              "mode": "immediate",
              "transition": {
               "duration": 0,
               "easing": "linear"
              }
             }
            ],
            "label": "0.06",
            "method": "animate"
           },
           {
            "args": [
             [
              "0.07"
             ],
             {
              "frame": {
               "duration": 0,
               "redraw": true
              },
              "fromcurrent": true,
              "mode": "immediate",
              "transition": {
               "duration": 0,
               "easing": "linear"
              }
             }
            ],
            "label": "0.07",
            "method": "animate"
           },
           {
            "args": [
             [
              "0.08"
             ],
             {
              "frame": {
               "duration": 0,
               "redraw": true
              },
              "fromcurrent": true,
              "mode": "immediate",
              "transition": {
               "duration": 0,
               "easing": "linear"
              }
             }
            ],
            "label": "0.08",
            "method": "animate"
           },
           {
            "args": [
             [
              "0.09"
             ],
             {
              "frame": {
               "duration": 0,
               "redraw": true
              },
              "fromcurrent": true,
              "mode": "immediate",
              "transition": {
               "duration": 0,
               "easing": "linear"
              }
             }
            ],
            "label": "0.09",
            "method": "animate"
           },
           {
            "args": [
             [
              "0.1"
             ],
             {
              "frame": {
               "duration": 0,
               "redraw": true
              },
              "fromcurrent": true,
              "mode": "immediate",
              "transition": {
               "duration": 0,
               "easing": "linear"
              }
             }
            ],
            "label": "0.1",
            "method": "animate"
           },
           {
            "args": [
             [
              "0.11"
             ],
             {
              "frame": {
               "duration": 0,
               "redraw": true
              },
              "fromcurrent": true,
              "mode": "immediate",
              "transition": {
               "duration": 0,
               "easing": "linear"
              }
             }
            ],
            "label": "0.11",
            "method": "animate"
           },
           {
            "args": [
             [
              "0.12"
             ],
             {
              "frame": {
               "duration": 0,
               "redraw": true
              },
              "fromcurrent": true,
              "mode": "immediate",
              "transition": {
               "duration": 0,
               "easing": "linear"
              }
             }
            ],
            "label": "0.12",
            "method": "animate"
           },
           {
            "args": [
             [
              "0.13"
             ],
             {
              "frame": {
               "duration": 0,
               "redraw": true
              },
              "fromcurrent": true,
              "mode": "immediate",
              "transition": {
               "duration": 0,
               "easing": "linear"
              }
             }
            ],
            "label": "0.13",
            "method": "animate"
           },
           {
            "args": [
             [
              "0.14"
             ],
             {
              "frame": {
               "duration": 0,
               "redraw": true
              },
              "fromcurrent": true,
              "mode": "immediate",
              "transition": {
               "duration": 0,
               "easing": "linear"
              }
             }
            ],
            "label": "0.14",
            "method": "animate"
           },
           {
            "args": [
             [
              "0.15"
             ],
             {
              "frame": {
               "duration": 0,
               "redraw": true
              },
              "fromcurrent": true,
              "mode": "immediate",
              "transition": {
               "duration": 0,
               "easing": "linear"
              }
             }
            ],
            "label": "0.15",
            "method": "animate"
           },
           {
            "args": [
             [
              "0.16"
             ],
             {
              "frame": {
               "duration": 0,
               "redraw": true
              },
              "fromcurrent": true,
              "mode": "immediate",
              "transition": {
               "duration": 0,
               "easing": "linear"
              }
             }
            ],
            "label": "0.16",
            "method": "animate"
           },
           {
            "args": [
             [
              "0.17"
             ],
             {
              "frame": {
               "duration": 0,
               "redraw": true
              },
              "fromcurrent": true,
              "mode": "immediate",
              "transition": {
               "duration": 0,
               "easing": "linear"
              }
             }
            ],
            "label": "0.17",
            "method": "animate"
           },
           {
            "args": [
             [
              "0.18"
             ],
             {
              "frame": {
               "duration": 0,
               "redraw": true
              },
              "fromcurrent": true,
              "mode": "immediate",
              "transition": {
               "duration": 0,
               "easing": "linear"
              }
             }
            ],
            "label": "0.18",
            "method": "animate"
           },
           {
            "args": [
             [
              "0.19"
             ],
             {
              "frame": {
               "duration": 0,
               "redraw": true
              },
              "fromcurrent": true,
              "mode": "immediate",
              "transition": {
               "duration": 0,
               "easing": "linear"
              }
             }
            ],
            "label": "0.19",
            "method": "animate"
           },
           {
            "args": [
             [
              "0.2"
             ],
             {
              "frame": {
               "duration": 0,
               "redraw": true
              },
              "fromcurrent": true,
              "mode": "immediate",
              "transition": {
               "duration": 0,
               "easing": "linear"
              }
             }
            ],
            "label": "0.2",
            "method": "animate"
           },
           {
            "args": [
             [
              "0.21"
             ],
             {
              "frame": {
               "duration": 0,
               "redraw": true
              },
              "fromcurrent": true,
              "mode": "immediate",
              "transition": {
               "duration": 0,
               "easing": "linear"
              }
             }
            ],
            "label": "0.21",
            "method": "animate"
           },
           {
            "args": [
             [
              "0.22"
             ],
             {
              "frame": {
               "duration": 0,
               "redraw": true
              },
              "fromcurrent": true,
              "mode": "immediate",
              "transition": {
               "duration": 0,
               "easing": "linear"
              }
             }
            ],
            "label": "0.22",
            "method": "animate"
           },
           {
            "args": [
             [
              "0.23"
             ],
             {
              "frame": {
               "duration": 0,
               "redraw": true
              },
              "fromcurrent": true,
              "mode": "immediate",
              "transition": {
               "duration": 0,
               "easing": "linear"
              }
             }
            ],
            "label": "0.23",
            "method": "animate"
           },
           {
            "args": [
             [
              "0.24"
             ],
             {
              "frame": {
               "duration": 0,
               "redraw": true
              },
              "fromcurrent": true,
              "mode": "immediate",
              "transition": {
               "duration": 0,
               "easing": "linear"
              }
             }
            ],
            "label": "0.24",
            "method": "animate"
           },
           {
            "args": [
             [
              "0.25"
             ],
             {
              "frame": {
               "duration": 0,
               "redraw": true
              },
              "fromcurrent": true,
              "mode": "immediate",
              "transition": {
               "duration": 0,
               "easing": "linear"
              }
             }
            ],
            "label": "0.25",
            "method": "animate"
           },
           {
            "args": [
             [
              "0.26"
             ],
             {
              "frame": {
               "duration": 0,
               "redraw": true
              },
              "fromcurrent": true,
              "mode": "immediate",
              "transition": {
               "duration": 0,
               "easing": "linear"
              }
             }
            ],
            "label": "0.26",
            "method": "animate"
           },
           {
            "args": [
             [
              "0.27"
             ],
             {
              "frame": {
               "duration": 0,
               "redraw": true
              },
              "fromcurrent": true,
              "mode": "immediate",
              "transition": {
               "duration": 0,
               "easing": "linear"
              }
             }
            ],
            "label": "0.27",
            "method": "animate"
           },
           {
            "args": [
             [
              "0.28"
             ],
             {
              "frame": {
               "duration": 0,
               "redraw": true
              },
              "fromcurrent": true,
              "mode": "immediate",
              "transition": {
               "duration": 0,
               "easing": "linear"
              }
             }
            ],
            "label": "0.28",
            "method": "animate"
           },
           {
            "args": [
             [
              "0.29"
             ],
             {
              "frame": {
               "duration": 0,
               "redraw": true
              },
              "fromcurrent": true,
              "mode": "immediate",
              "transition": {
               "duration": 0,
               "easing": "linear"
              }
             }
            ],
            "label": "0.29",
            "method": "animate"
           },
           {
            "args": [
             [
              "0.3"
             ],
             {
              "frame": {
               "duration": 0,
               "redraw": true
              },
              "fromcurrent": true,
              "mode": "immediate",
              "transition": {
               "duration": 0,
               "easing": "linear"
              }
             }
            ],
            "label": "0.3",
            "method": "animate"
           },
           {
            "args": [
             [
              "0.31"
             ],
             {
              "frame": {
               "duration": 0,
               "redraw": true
              },
              "fromcurrent": true,
              "mode": "immediate",
              "transition": {
               "duration": 0,
               "easing": "linear"
              }
             }
            ],
            "label": "0.31",
            "method": "animate"
           },
           {
            "args": [
             [
              "0.32"
             ],
             {
              "frame": {
               "duration": 0,
               "redraw": true
              },
              "fromcurrent": true,
              "mode": "immediate",
              "transition": {
               "duration": 0,
               "easing": "linear"
              }
             }
            ],
            "label": "0.32",
            "method": "animate"
           },
           {
            "args": [
             [
              "0.33"
             ],
             {
              "frame": {
               "duration": 0,
               "redraw": true
              },
              "fromcurrent": true,
              "mode": "immediate",
              "transition": {
               "duration": 0,
               "easing": "linear"
              }
             }
            ],
            "label": "0.33",
            "method": "animate"
           },
           {
            "args": [
             [
              "0.34"
             ],
             {
              "frame": {
               "duration": 0,
               "redraw": true
              },
              "fromcurrent": true,
              "mode": "immediate",
              "transition": {
               "duration": 0,
               "easing": "linear"
              }
             }
            ],
            "label": "0.34",
            "method": "animate"
           },
           {
            "args": [
             [
              "0.35"
             ],
             {
              "frame": {
               "duration": 0,
               "redraw": true
              },
              "fromcurrent": true,
              "mode": "immediate",
              "transition": {
               "duration": 0,
               "easing": "linear"
              }
             }
            ],
            "label": "0.35",
            "method": "animate"
           },
           {
            "args": [
             [
              "0.36"
             ],
             {
              "frame": {
               "duration": 0,
               "redraw": true
              },
              "fromcurrent": true,
              "mode": "immediate",
              "transition": {
               "duration": 0,
               "easing": "linear"
              }
             }
            ],
            "label": "0.36",
            "method": "animate"
           },
           {
            "args": [
             [
              "0.37"
             ],
             {
              "frame": {
               "duration": 0,
               "redraw": true
              },
              "fromcurrent": true,
              "mode": "immediate",
              "transition": {
               "duration": 0,
               "easing": "linear"
              }
             }
            ],
            "label": "0.37",
            "method": "animate"
           },
           {
            "args": [
             [
              "0.38"
             ],
             {
              "frame": {
               "duration": 0,
               "redraw": true
              },
              "fromcurrent": true,
              "mode": "immediate",
              "transition": {
               "duration": 0,
               "easing": "linear"
              }
             }
            ],
            "label": "0.38",
            "method": "animate"
           },
           {
            "args": [
             [
              "0.39"
             ],
             {
              "frame": {
               "duration": 0,
               "redraw": true
              },
              "fromcurrent": true,
              "mode": "immediate",
              "transition": {
               "duration": 0,
               "easing": "linear"
              }
             }
            ],
            "label": "0.39",
            "method": "animate"
           },
           {
            "args": [
             [
              "0.4"
             ],
             {
              "frame": {
               "duration": 0,
               "redraw": true
              },
              "fromcurrent": true,
              "mode": "immediate",
              "transition": {
               "duration": 0,
               "easing": "linear"
              }
             }
            ],
            "label": "0.4",
            "method": "animate"
           },
           {
            "args": [
             [
              "0.41"
             ],
             {
              "frame": {
               "duration": 0,
               "redraw": true
              },
              "fromcurrent": true,
              "mode": "immediate",
              "transition": {
               "duration": 0,
               "easing": "linear"
              }
             }
            ],
            "label": "0.41",
            "method": "animate"
           },
           {
            "args": [
             [
              "0.42"
             ],
             {
              "frame": {
               "duration": 0,
               "redraw": true
              },
              "fromcurrent": true,
              "mode": "immediate",
              "transition": {
               "duration": 0,
               "easing": "linear"
              }
             }
            ],
            "label": "0.42",
            "method": "animate"
           },
           {
            "args": [
             [
              "0.43"
             ],
             {
              "frame": {
               "duration": 0,
               "redraw": true
              },
              "fromcurrent": true,
              "mode": "immediate",
              "transition": {
               "duration": 0,
               "easing": "linear"
              }
             }
            ],
            "label": "0.43",
            "method": "animate"
           },
           {
            "args": [
             [
              "0.44"
             ],
             {
              "frame": {
               "duration": 0,
               "redraw": true
              },
              "fromcurrent": true,
              "mode": "immediate",
              "transition": {
               "duration": 0,
               "easing": "linear"
              }
             }
            ],
            "label": "0.44",
            "method": "animate"
           },
           {
            "args": [
             [
              "0.45"
             ],
             {
              "frame": {
               "duration": 0,
               "redraw": true
              },
              "fromcurrent": true,
              "mode": "immediate",
              "transition": {
               "duration": 0,
               "easing": "linear"
              }
             }
            ],
            "label": "0.45",
            "method": "animate"
           },
           {
            "args": [
             [
              "0.46"
             ],
             {
              "frame": {
               "duration": 0,
               "redraw": true
              },
              "fromcurrent": true,
              "mode": "immediate",
              "transition": {
               "duration": 0,
               "easing": "linear"
              }
             }
            ],
            "label": "0.46",
            "method": "animate"
           },
           {
            "args": [
             [
              "0.47"
             ],
             {
              "frame": {
               "duration": 0,
               "redraw": true
              },
              "fromcurrent": true,
              "mode": "immediate",
              "transition": {
               "duration": 0,
               "easing": "linear"
              }
             }
            ],
            "label": "0.47",
            "method": "animate"
           },
           {
            "args": [
             [
              "0.48"
             ],
             {
              "frame": {
               "duration": 0,
               "redraw": true
              },
              "fromcurrent": true,
              "mode": "immediate",
              "transition": {
               "duration": 0,
               "easing": "linear"
              }
             }
            ],
            "label": "0.48",
            "method": "animate"
           },
           {
            "args": [
             [
              "0.49"
             ],
             {
              "frame": {
               "duration": 0,
               "redraw": true
              },
              "fromcurrent": true,
              "mode": "immediate",
              "transition": {
               "duration": 0,
               "easing": "linear"
              }
             }
            ],
            "label": "0.49",
            "method": "animate"
           },
           {
            "args": [
             [
              "0.5"
             ],
             {
              "frame": {
               "duration": 0,
               "redraw": true
              },
              "fromcurrent": true,
              "mode": "immediate",
              "transition": {
               "duration": 0,
               "easing": "linear"
              }
             }
            ],
            "label": "0.5",
            "method": "animate"
           },
           {
            "args": [
             [
              "0.51"
             ],
             {
              "frame": {
               "duration": 0,
               "redraw": true
              },
              "fromcurrent": true,
              "mode": "immediate",
              "transition": {
               "duration": 0,
               "easing": "linear"
              }
             }
            ],
            "label": "0.51",
            "method": "animate"
           },
           {
            "args": [
             [
              "0.52"
             ],
             {
              "frame": {
               "duration": 0,
               "redraw": true
              },
              "fromcurrent": true,
              "mode": "immediate",
              "transition": {
               "duration": 0,
               "easing": "linear"
              }
             }
            ],
            "label": "0.52",
            "method": "animate"
           },
           {
            "args": [
             [
              "0.53"
             ],
             {
              "frame": {
               "duration": 0,
               "redraw": true
              },
              "fromcurrent": true,
              "mode": "immediate",
              "transition": {
               "duration": 0,
               "easing": "linear"
              }
             }
            ],
            "label": "0.53",
            "method": "animate"
           },
           {
            "args": [
             [
              "0.54"
             ],
             {
              "frame": {
               "duration": 0,
               "redraw": true
              },
              "fromcurrent": true,
              "mode": "immediate",
              "transition": {
               "duration": 0,
               "easing": "linear"
              }
             }
            ],
            "label": "0.54",
            "method": "animate"
           },
           {
            "args": [
             [
              "0.55"
             ],
             {
              "frame": {
               "duration": 0,
               "redraw": true
              },
              "fromcurrent": true,
              "mode": "immediate",
              "transition": {
               "duration": 0,
               "easing": "linear"
              }
             }
            ],
            "label": "0.55",
            "method": "animate"
           },
           {
            "args": [
             [
              "0.56"
             ],
             {
              "frame": {
               "duration": 0,
               "redraw": true
              },
              "fromcurrent": true,
              "mode": "immediate",
              "transition": {
               "duration": 0,
               "easing": "linear"
              }
             }
            ],
            "label": "0.56",
            "method": "animate"
           },
           {
            "args": [
             [
              "0.57"
             ],
             {
              "frame": {
               "duration": 0,
               "redraw": true
              },
              "fromcurrent": true,
              "mode": "immediate",
              "transition": {
               "duration": 0,
               "easing": "linear"
              }
             }
            ],
            "label": "0.57",
            "method": "animate"
           },
           {
            "args": [
             [
              "0.58"
             ],
             {
              "frame": {
               "duration": 0,
               "redraw": true
              },
              "fromcurrent": true,
              "mode": "immediate",
              "transition": {
               "duration": 0,
               "easing": "linear"
              }
             }
            ],
            "label": "0.58",
            "method": "animate"
           },
           {
            "args": [
             [
              "0.59"
             ],
             {
              "frame": {
               "duration": 0,
               "redraw": true
              },
              "fromcurrent": true,
              "mode": "immediate",
              "transition": {
               "duration": 0,
               "easing": "linear"
              }
             }
            ],
            "label": "0.59",
            "method": "animate"
           },
           {
            "args": [
             [
              "0.6"
             ],
             {
              "frame": {
               "duration": 0,
               "redraw": true
              },
              "fromcurrent": true,
              "mode": "immediate",
              "transition": {
               "duration": 0,
               "easing": "linear"
              }
             }
            ],
            "label": "0.6",
            "method": "animate"
           },
           {
            "args": [
             [
              "0.61"
             ],
             {
              "frame": {
               "duration": 0,
               "redraw": true
              },
              "fromcurrent": true,
              "mode": "immediate",
              "transition": {
               "duration": 0,
               "easing": "linear"
              }
             }
            ],
            "label": "0.61",
            "method": "animate"
           },
           {
            "args": [
             [
              "0.62"
             ],
             {
              "frame": {
               "duration": 0,
               "redraw": true
              },
              "fromcurrent": true,
              "mode": "immediate",
              "transition": {
               "duration": 0,
               "easing": "linear"
              }
             }
            ],
            "label": "0.62",
            "method": "animate"
           },
           {
            "args": [
             [
              "0.63"
             ],
             {
              "frame": {
               "duration": 0,
               "redraw": true
              },
              "fromcurrent": true,
              "mode": "immediate",
              "transition": {
               "duration": 0,
               "easing": "linear"
              }
             }
            ],
            "label": "0.63",
            "method": "animate"
           },
           {
            "args": [
             [
              "0.64"
             ],
             {
              "frame": {
               "duration": 0,
               "redraw": true
              },
              "fromcurrent": true,
              "mode": "immediate",
              "transition": {
               "duration": 0,
               "easing": "linear"
              }
             }
            ],
            "label": "0.64",
            "method": "animate"
           },
           {
            "args": [
             [
              "0.65"
             ],
             {
              "frame": {
               "duration": 0,
               "redraw": true
              },
              "fromcurrent": true,
              "mode": "immediate",
              "transition": {
               "duration": 0,
               "easing": "linear"
              }
             }
            ],
            "label": "0.65",
            "method": "animate"
           },
           {
            "args": [
             [
              "0.66"
             ],
             {
              "frame": {
               "duration": 0,
               "redraw": true
              },
              "fromcurrent": true,
              "mode": "immediate",
              "transition": {
               "duration": 0,
               "easing": "linear"
              }
             }
            ],
            "label": "0.66",
            "method": "animate"
           },
           {
            "args": [
             [
              "0.67"
             ],
             {
              "frame": {
               "duration": 0,
               "redraw": true
              },
              "fromcurrent": true,
              "mode": "immediate",
              "transition": {
               "duration": 0,
               "easing": "linear"
              }
             }
            ],
            "label": "0.67",
            "method": "animate"
           },
           {
            "args": [
             [
              "0.68"
             ],
             {
              "frame": {
               "duration": 0,
               "redraw": true
              },
              "fromcurrent": true,
              "mode": "immediate",
              "transition": {
               "duration": 0,
               "easing": "linear"
              }
             }
            ],
            "label": "0.68",
            "method": "animate"
           },
           {
            "args": [
             [
              "0.69"
             ],
             {
              "frame": {
               "duration": 0,
               "redraw": true
              },
              "fromcurrent": true,
              "mode": "immediate",
              "transition": {
               "duration": 0,
               "easing": "linear"
              }
             }
            ],
            "label": "0.69",
            "method": "animate"
           },
           {
            "args": [
             [
              "0.7"
             ],
             {
              "frame": {
               "duration": 0,
               "redraw": true
              },
              "fromcurrent": true,
              "mode": "immediate",
              "transition": {
               "duration": 0,
               "easing": "linear"
              }
             }
            ],
            "label": "0.7",
            "method": "animate"
           },
           {
            "args": [
             [
              "0.71"
             ],
             {
              "frame": {
               "duration": 0,
               "redraw": true
              },
              "fromcurrent": true,
              "mode": "immediate",
              "transition": {
               "duration": 0,
               "easing": "linear"
              }
             }
            ],
            "label": "0.71",
            "method": "animate"
           },
           {
            "args": [
             [
              "0.72"
             ],
             {
              "frame": {
               "duration": 0,
               "redraw": true
              },
              "fromcurrent": true,
              "mode": "immediate",
              "transition": {
               "duration": 0,
               "easing": "linear"
              }
             }
            ],
            "label": "0.72",
            "method": "animate"
           },
           {
            "args": [
             [
              "0.73"
             ],
             {
              "frame": {
               "duration": 0,
               "redraw": true
              },
              "fromcurrent": true,
              "mode": "immediate",
              "transition": {
               "duration": 0,
               "easing": "linear"
              }
             }
            ],
            "label": "0.73",
            "method": "animate"
           },
           {
            "args": [
             [
              "0.74"
             ],
             {
              "frame": {
               "duration": 0,
               "redraw": true
              },
              "fromcurrent": true,
              "mode": "immediate",
              "transition": {
               "duration": 0,
               "easing": "linear"
              }
             }
            ],
            "label": "0.74",
            "method": "animate"
           },
           {
            "args": [
             [
              "0.75"
             ],
             {
              "frame": {
               "duration": 0,
               "redraw": true
              },
              "fromcurrent": true,
              "mode": "immediate",
              "transition": {
               "duration": 0,
               "easing": "linear"
              }
             }
            ],
            "label": "0.75",
            "method": "animate"
           },
           {
            "args": [
             [
              "0.76"
             ],
             {
              "frame": {
               "duration": 0,
               "redraw": true
              },
              "fromcurrent": true,
              "mode": "immediate",
              "transition": {
               "duration": 0,
               "easing": "linear"
              }
             }
            ],
            "label": "0.76",
            "method": "animate"
           },
           {
            "args": [
             [
              "0.77"
             ],
             {
              "frame": {
               "duration": 0,
               "redraw": true
              },
              "fromcurrent": true,
              "mode": "immediate",
              "transition": {
               "duration": 0,
               "easing": "linear"
              }
             }
            ],
            "label": "0.77",
            "method": "animate"
           },
           {
            "args": [
             [
              "0.78"
             ],
             {
              "frame": {
               "duration": 0,
               "redraw": true
              },
              "fromcurrent": true,
              "mode": "immediate",
              "transition": {
               "duration": 0,
               "easing": "linear"
              }
             }
            ],
            "label": "0.78",
            "method": "animate"
           },
           {
            "args": [
             [
              "0.79"
             ],
             {
              "frame": {
               "duration": 0,
               "redraw": true
              },
              "fromcurrent": true,
              "mode": "immediate",
              "transition": {
               "duration": 0,
               "easing": "linear"
              }
             }
            ],
            "label": "0.79",
            "method": "animate"
           },
           {
            "args": [
             [
              "0.8"
             ],
             {
              "frame": {
               "duration": 0,
               "redraw": true
              },
              "fromcurrent": true,
              "mode": "immediate",
              "transition": {
               "duration": 0,
               "easing": "linear"
              }
             }
            ],
            "label": "0.8",
            "method": "animate"
           },
           {
            "args": [
             [
              "0.81"
             ],
             {
              "frame": {
               "duration": 0,
               "redraw": true
              },
              "fromcurrent": true,
              "mode": "immediate",
              "transition": {
               "duration": 0,
               "easing": "linear"
              }
             }
            ],
            "label": "0.81",
            "method": "animate"
           },
           {
            "args": [
             [
              "0.82"
             ],
             {
              "frame": {
               "duration": 0,
               "redraw": true
              },
              "fromcurrent": true,
              "mode": "immediate",
              "transition": {
               "duration": 0,
               "easing": "linear"
              }
             }
            ],
            "label": "0.82",
            "method": "animate"
           },
           {
            "args": [
             [
              "0.83"
             ],
             {
              "frame": {
               "duration": 0,
               "redraw": true
              },
              "fromcurrent": true,
              "mode": "immediate",
              "transition": {
               "duration": 0,
               "easing": "linear"
              }
             }
            ],
            "label": "0.83",
            "method": "animate"
           },
           {
            "args": [
             [
              "0.84"
             ],
             {
              "frame": {
               "duration": 0,
               "redraw": true
              },
              "fromcurrent": true,
              "mode": "immediate",
              "transition": {
               "duration": 0,
               "easing": "linear"
              }
             }
            ],
            "label": "0.84",
            "method": "animate"
           },
           {
            "args": [
             [
              "0.85"
             ],
             {
              "frame": {
               "duration": 0,
               "redraw": true
              },
              "fromcurrent": true,
              "mode": "immediate",
              "transition": {
               "duration": 0,
               "easing": "linear"
              }
             }
            ],
            "label": "0.85",
            "method": "animate"
           },
           {
            "args": [
             [
              "0.86"
             ],
             {
              "frame": {
               "duration": 0,
               "redraw": true
              },
              "fromcurrent": true,
              "mode": "immediate",
              "transition": {
               "duration": 0,
               "easing": "linear"
              }
             }
            ],
            "label": "0.86",
            "method": "animate"
           },
           {
            "args": [
             [
              "0.87"
             ],
             {
              "frame": {
               "duration": 0,
               "redraw": true
              },
              "fromcurrent": true,
              "mode": "immediate",
              "transition": {
               "duration": 0,
               "easing": "linear"
              }
             }
            ],
            "label": "0.87",
            "method": "animate"
           },
           {
            "args": [
             [
              "0.88"
             ],
             {
              "frame": {
               "duration": 0,
               "redraw": true
              },
              "fromcurrent": true,
              "mode": "immediate",
              "transition": {
               "duration": 0,
               "easing": "linear"
              }
             }
            ],
            "label": "0.88",
            "method": "animate"
           },
           {
            "args": [
             [
              "0.89"
             ],
             {
              "frame": {
               "duration": 0,
               "redraw": true
              },
              "fromcurrent": true,
              "mode": "immediate",
              "transition": {
               "duration": 0,
               "easing": "linear"
              }
             }
            ],
            "label": "0.89",
            "method": "animate"
           },
           {
            "args": [
             [
              "0.9"
             ],
             {
              "frame": {
               "duration": 0,
               "redraw": true
              },
              "fromcurrent": true,
              "mode": "immediate",
              "transition": {
               "duration": 0,
               "easing": "linear"
              }
             }
            ],
            "label": "0.9",
            "method": "animate"
           },
           {
            "args": [
             [
              "0.91"
             ],
             {
              "frame": {
               "duration": 0,
               "redraw": true
              },
              "fromcurrent": true,
              "mode": "immediate",
              "transition": {
               "duration": 0,
               "easing": "linear"
              }
             }
            ],
            "label": "0.91",
            "method": "animate"
           },
           {
            "args": [
             [
              "0.92"
             ],
             {
              "frame": {
               "duration": 0,
               "redraw": true
              },
              "fromcurrent": true,
              "mode": "immediate",
              "transition": {
               "duration": 0,
               "easing": "linear"
              }
             }
            ],
            "label": "0.92",
            "method": "animate"
           },
           {
            "args": [
             [
              "0.93"
             ],
             {
              "frame": {
               "duration": 0,
               "redraw": true
              },
              "fromcurrent": true,
              "mode": "immediate",
              "transition": {
               "duration": 0,
               "easing": "linear"
              }
             }
            ],
            "label": "0.93",
            "method": "animate"
           },
           {
            "args": [
             [
              "0.94"
             ],
             {
              "frame": {
               "duration": 0,
               "redraw": true
              },
              "fromcurrent": true,
              "mode": "immediate",
              "transition": {
               "duration": 0,
               "easing": "linear"
              }
             }
            ],
            "label": "0.94",
            "method": "animate"
           },
           {
            "args": [
             [
              "0.95"
             ],
             {
              "frame": {
               "duration": 0,
               "redraw": true
              },
              "fromcurrent": true,
              "mode": "immediate",
              "transition": {
               "duration": 0,
               "easing": "linear"
              }
             }
            ],
            "label": "0.95",
            "method": "animate"
           },
           {
            "args": [
             [
              "0.96"
             ],
             {
              "frame": {
               "duration": 0,
               "redraw": true
              },
              "fromcurrent": true,
              "mode": "immediate",
              "transition": {
               "duration": 0,
               "easing": "linear"
              }
             }
            ],
            "label": "0.96",
            "method": "animate"
           },
           {
            "args": [
             [
              "0.97"
             ],
             {
              "frame": {
               "duration": 0,
               "redraw": true
              },
              "fromcurrent": true,
              "mode": "immediate",
              "transition": {
               "duration": 0,
               "easing": "linear"
              }
             }
            ],
            "label": "0.97",
            "method": "animate"
           },
           {
            "args": [
             [
              "0.98"
             ],
             {
              "frame": {
               "duration": 0,
               "redraw": true
              },
              "fromcurrent": true,
              "mode": "immediate",
              "transition": {
               "duration": 0,
               "easing": "linear"
              }
             }
            ],
            "label": "0.98",
            "method": "animate"
           },
           {
            "args": [
             [
              "0.99"
             ],
             {
              "frame": {
               "duration": 0,
               "redraw": true
              },
              "fromcurrent": true,
              "mode": "immediate",
              "transition": {
               "duration": 0,
               "easing": "linear"
              }
             }
            ],
            "label": "0.99",
            "method": "animate"
           },
           {
            "args": [
             [
              "1.0"
             ],
             {
              "frame": {
               "duration": 0,
               "redraw": true
              },
              "fromcurrent": true,
              "mode": "immediate",
              "transition": {
               "duration": 0,
               "easing": "linear"
              }
             }
            ],
            "label": "1.0",
            "method": "animate"
           }
          ],
          "x": 0.1,
          "xanchor": "left",
          "y": 0,
          "yanchor": "top"
         }
        ],
        "template": {
         "data": {
          "bar": [
           {
            "error_x": {
             "color": "#2a3f5f"
            },
            "error_y": {
             "color": "#2a3f5f"
            },
            "marker": {
             "line": {
              "color": "#E5ECF6",
              "width": 0.5
             },
             "pattern": {
              "fillmode": "overlay",
              "size": 10,
              "solidity": 0.2
             }
            },
            "type": "bar"
           }
          ],
          "barpolar": [
           {
            "marker": {
             "line": {
              "color": "#E5ECF6",
              "width": 0.5
             },
             "pattern": {
              "fillmode": "overlay",
              "size": 10,
              "solidity": 0.2
             }
            },
            "type": "barpolar"
           }
          ],
          "carpet": [
           {
            "aaxis": {
             "endlinecolor": "#2a3f5f",
             "gridcolor": "white",
             "linecolor": "white",
             "minorgridcolor": "white",
             "startlinecolor": "#2a3f5f"
            },
            "baxis": {
             "endlinecolor": "#2a3f5f",
             "gridcolor": "white",
             "linecolor": "white",
             "minorgridcolor": "white",
             "startlinecolor": "#2a3f5f"
            },
            "type": "carpet"
           }
          ],
          "choropleth": [
           {
            "colorbar": {
             "outlinewidth": 0,
             "ticks": ""
            },
            "type": "choropleth"
           }
          ],
          "contour": [
           {
            "colorbar": {
             "outlinewidth": 0,
             "ticks": ""
            },
            "colorscale": [
             [
              0,
              "#0d0887"
             ],
             [
              0.1111111111111111,
              "#46039f"
             ],
             [
              0.2222222222222222,
              "#7201a8"
             ],
             [
              0.3333333333333333,
              "#9c179e"
             ],
             [
              0.4444444444444444,
              "#bd3786"
             ],
             [
              0.5555555555555556,
              "#d8576b"
             ],
             [
              0.6666666666666666,
              "#ed7953"
             ],
             [
              0.7777777777777778,
              "#fb9f3a"
             ],
             [
              0.8888888888888888,
              "#fdca26"
             ],
             [
              1,
              "#f0f921"
             ]
            ],
            "type": "contour"
           }
          ],
          "contourcarpet": [
           {
            "colorbar": {
             "outlinewidth": 0,
             "ticks": ""
            },
            "type": "contourcarpet"
           }
          ],
          "heatmap": [
           {
            "colorbar": {
             "outlinewidth": 0,
             "ticks": ""
            },
            "colorscale": [
             [
              0,
              "#0d0887"
             ],
             [
              0.1111111111111111,
              "#46039f"
             ],
             [
              0.2222222222222222,
              "#7201a8"
             ],
             [
              0.3333333333333333,
              "#9c179e"
             ],
             [
              0.4444444444444444,
              "#bd3786"
             ],
             [
              0.5555555555555556,
              "#d8576b"
             ],
             [
              0.6666666666666666,
              "#ed7953"
             ],
             [
              0.7777777777777778,
              "#fb9f3a"
             ],
             [
              0.8888888888888888,
              "#fdca26"
             ],
             [
              1,
              "#f0f921"
             ]
            ],
            "type": "heatmap"
           }
          ],
          "heatmapgl": [
           {
            "colorbar": {
             "outlinewidth": 0,
             "ticks": ""
            },
            "colorscale": [
             [
              0,
              "#0d0887"
             ],
             [
              0.1111111111111111,
              "#46039f"
             ],
             [
              0.2222222222222222,
              "#7201a8"
             ],
             [
              0.3333333333333333,
              "#9c179e"
             ],
             [
              0.4444444444444444,
              "#bd3786"
             ],
             [
              0.5555555555555556,
              "#d8576b"
             ],
             [
              0.6666666666666666,
              "#ed7953"
             ],
             [
              0.7777777777777778,
              "#fb9f3a"
             ],
             [
              0.8888888888888888,
              "#fdca26"
             ],
             [
              1,
              "#f0f921"
             ]
            ],
            "type": "heatmapgl"
           }
          ],
          "histogram": [
           {
            "marker": {
             "pattern": {
              "fillmode": "overlay",
              "size": 10,
              "solidity": 0.2
             }
            },
            "type": "histogram"
           }
          ],
          "histogram2d": [
           {
            "colorbar": {
             "outlinewidth": 0,
             "ticks": ""
            },
            "colorscale": [
             [
              0,
              "#0d0887"
             ],
             [
              0.1111111111111111,
              "#46039f"
             ],
             [
              0.2222222222222222,
              "#7201a8"
             ],
             [
              0.3333333333333333,
              "#9c179e"
             ],
             [
              0.4444444444444444,
              "#bd3786"
             ],
             [
              0.5555555555555556,
              "#d8576b"
             ],
             [
              0.6666666666666666,
              "#ed7953"
             ],
             [
              0.7777777777777778,
              "#fb9f3a"
             ],
             [
              0.8888888888888888,
              "#fdca26"
             ],
             [
              1,
              "#f0f921"
             ]
            ],
            "type": "histogram2d"
           }
          ],
          "histogram2dcontour": [
           {
            "colorbar": {
             "outlinewidth": 0,
             "ticks": ""
            },
            "colorscale": [
             [
              0,
              "#0d0887"
             ],
             [
              0.1111111111111111,
              "#46039f"
             ],
             [
              0.2222222222222222,
              "#7201a8"
             ],
             [
              0.3333333333333333,
              "#9c179e"
             ],
             [
              0.4444444444444444,
              "#bd3786"
             ],
             [
              0.5555555555555556,
              "#d8576b"
             ],
             [
              0.6666666666666666,
              "#ed7953"
             ],
             [
              0.7777777777777778,
              "#fb9f3a"
             ],
             [
              0.8888888888888888,
              "#fdca26"
             ],
             [
              1,
              "#f0f921"
             ]
            ],
            "type": "histogram2dcontour"
           }
          ],
          "mesh3d": [
           {
            "colorbar": {
             "outlinewidth": 0,
             "ticks": ""
            },
            "type": "mesh3d"
           }
          ],
          "parcoords": [
           {
            "line": {
             "colorbar": {
              "outlinewidth": 0,
              "ticks": ""
             }
            },
            "type": "parcoords"
           }
          ],
          "pie": [
           {
            "automargin": true,
            "type": "pie"
           }
          ],
          "scatter": [
           {
            "marker": {
             "colorbar": {
              "outlinewidth": 0,
              "ticks": ""
             }
            },
            "type": "scatter"
           }
          ],
          "scatter3d": [
           {
            "line": {
             "colorbar": {
              "outlinewidth": 0,
              "ticks": ""
             }
            },
            "marker": {
             "colorbar": {
              "outlinewidth": 0,
              "ticks": ""
             }
            },
            "type": "scatter3d"
           }
          ],
          "scattercarpet": [
           {
            "marker": {
             "colorbar": {
              "outlinewidth": 0,
              "ticks": ""
             }
            },
            "type": "scattercarpet"
           }
          ],
          "scattergeo": [
           {
            "marker": {
             "colorbar": {
              "outlinewidth": 0,
              "ticks": ""
             }
            },
            "type": "scattergeo"
           }
          ],
          "scattergl": [
           {
            "marker": {
             "colorbar": {
              "outlinewidth": 0,
              "ticks": ""
             }
            },
            "type": "scattergl"
           }
          ],
          "scattermapbox": [
           {
            "marker": {
             "colorbar": {
              "outlinewidth": 0,
              "ticks": ""
             }
            },
            "type": "scattermapbox"
           }
          ],
          "scatterpolar": [
           {
            "marker": {
             "colorbar": {
              "outlinewidth": 0,
              "ticks": ""
             }
            },
            "type": "scatterpolar"
           }
          ],
          "scatterpolargl": [
           {
            "marker": {
             "colorbar": {
              "outlinewidth": 0,
              "ticks": ""
             }
            },
            "type": "scatterpolargl"
           }
          ],
          "scatterternary": [
           {
            "marker": {
             "colorbar": {
              "outlinewidth": 0,
              "ticks": ""
             }
            },
            "type": "scatterternary"
           }
          ],
          "surface": [
           {
            "colorbar": {
             "outlinewidth": 0,
             "ticks": ""
            },
            "colorscale": [
             [
              0,
              "#0d0887"
             ],
             [
              0.1111111111111111,
              "#46039f"
             ],
             [
              0.2222222222222222,
              "#7201a8"
             ],
             [
              0.3333333333333333,
              "#9c179e"
             ],
             [
              0.4444444444444444,
              "#bd3786"
             ],
             [
              0.5555555555555556,
              "#d8576b"
             ],
             [
              0.6666666666666666,
              "#ed7953"
             ],
             [
              0.7777777777777778,
              "#fb9f3a"
             ],
             [
              0.8888888888888888,
              "#fdca26"
             ],
             [
              1,
              "#f0f921"
             ]
            ],
            "type": "surface"
           }
          ],
          "table": [
           {
            "cells": {
             "fill": {
              "color": "#EBF0F8"
             },
             "line": {
              "color": "white"
             }
            },
            "header": {
             "fill": {
              "color": "#C8D4E3"
             },
             "line": {
              "color": "white"
             }
            },
            "type": "table"
           }
          ]
         },
         "layout": {
          "annotationdefaults": {
           "arrowcolor": "#2a3f5f",
           "arrowhead": 0,
           "arrowwidth": 1
          },
          "autotypenumbers": "strict",
          "coloraxis": {
           "colorbar": {
            "outlinewidth": 0,
            "ticks": ""
           }
          },
          "colorscale": {
           "diverging": [
            [
             0,
             "#8e0152"
            ],
            [
             0.1,
             "#c51b7d"
            ],
            [
             0.2,
             "#de77ae"
            ],
            [
             0.3,
             "#f1b6da"
            ],
            [
             0.4,
             "#fde0ef"
            ],
            [
             0.5,
             "#f7f7f7"
            ],
            [
             0.6,
             "#e6f5d0"
            ],
            [
             0.7,
             "#b8e186"
            ],
            [
             0.8,
             "#7fbc41"
            ],
            [
             0.9,
             "#4d9221"
            ],
            [
             1,
             "#276419"
            ]
           ],
           "sequential": [
            [
             0,
             "#0d0887"
            ],
            [
             0.1111111111111111,
             "#46039f"
            ],
            [
             0.2222222222222222,
             "#7201a8"
            ],
            [
             0.3333333333333333,
             "#9c179e"
            ],
            [
             0.4444444444444444,
             "#bd3786"
            ],
            [
             0.5555555555555556,
             "#d8576b"
            ],
            [
             0.6666666666666666,
             "#ed7953"
            ],
            [
             0.7777777777777778,
             "#fb9f3a"
            ],
            [
             0.8888888888888888,
             "#fdca26"
            ],
            [
             1,
             "#f0f921"
            ]
           ],
           "sequentialminus": [
            [
             0,
             "#0d0887"
            ],
            [
             0.1111111111111111,
             "#46039f"
            ],
            [
             0.2222222222222222,
             "#7201a8"
            ],
            [
             0.3333333333333333,
             "#9c179e"
            ],
            [
             0.4444444444444444,
             "#bd3786"
            ],
            [
             0.5555555555555556,
             "#d8576b"
            ],
            [
             0.6666666666666666,
             "#ed7953"
            ],
            [
             0.7777777777777778,
             "#fb9f3a"
            ],
            [
             0.8888888888888888,
             "#fdca26"
            ],
            [
             1,
             "#f0f921"
            ]
           ]
          },
          "colorway": [
           "#636efa",
           "#EF553B",
           "#00cc96",
           "#ab63fa",
           "#FFA15A",
           "#19d3f3",
           "#FF6692",
           "#B6E880",
           "#FF97FF",
           "#FECB52"
          ],
          "font": {
           "color": "#2a3f5f"
          },
          "geo": {
           "bgcolor": "white",
           "lakecolor": "white",
           "landcolor": "#E5ECF6",
           "showlakes": true,
           "showland": true,
           "subunitcolor": "white"
          },
          "hoverlabel": {
           "align": "left"
          },
          "hovermode": "closest",
          "mapbox": {
           "style": "light"
          },
          "paper_bgcolor": "white",
          "plot_bgcolor": "#E5ECF6",
          "polar": {
           "angularaxis": {
            "gridcolor": "white",
            "linecolor": "white",
            "ticks": ""
           },
           "bgcolor": "#E5ECF6",
           "radialaxis": {
            "gridcolor": "white",
            "linecolor": "white",
            "ticks": ""
           }
          },
          "scene": {
           "xaxis": {
            "backgroundcolor": "#E5ECF6",
            "gridcolor": "white",
            "gridwidth": 2,
            "linecolor": "white",
            "showbackground": true,
            "ticks": "",
            "zerolinecolor": "white"
           },
           "yaxis": {
            "backgroundcolor": "#E5ECF6",
            "gridcolor": "white",
            "gridwidth": 2,
            "linecolor": "white",
            "showbackground": true,
            "ticks": "",
            "zerolinecolor": "white"
           },
           "zaxis": {
            "backgroundcolor": "#E5ECF6",
            "gridcolor": "white",
            "gridwidth": 2,
            "linecolor": "white",
            "showbackground": true,
            "ticks": "",
            "zerolinecolor": "white"
           }
          },
          "shapedefaults": {
           "line": {
            "color": "#2a3f5f"
           }
          },
          "ternary": {
           "aaxis": {
            "gridcolor": "white",
            "linecolor": "white",
            "ticks": ""
           },
           "baxis": {
            "gridcolor": "white",
            "linecolor": "white",
            "ticks": ""
           },
           "bgcolor": "#E5ECF6",
           "caxis": {
            "gridcolor": "white",
            "linecolor": "white",
            "ticks": ""
           }
          },
          "title": {
           "x": 0.05
          },
          "xaxis": {
           "automargin": true,
           "gridcolor": "white",
           "linecolor": "white",
           "ticks": "",
           "title": {
            "standoff": 15
           },
           "zerolinecolor": "white",
           "zerolinewidth": 2
          },
          "yaxis": {
           "automargin": true,
           "gridcolor": "white",
           "linecolor": "white",
           "ticks": "",
           "title": {
            "standoff": 15
           },
           "zerolinecolor": "white",
           "zerolinewidth": 2
          }
         }
        },
        "updatemenus": [
         {
          "buttons": [
           {
            "args": [
             null,
             {
              "frame": {
               "duration": 500,
               "redraw": true
              },
              "fromcurrent": true,
              "mode": "immediate",
              "transition": {
               "duration": 500,
               "easing": "linear"
              }
             }
            ],
            "label": "&#9654;",
            "method": "animate"
           },
           {
            "args": [
             [
              null
             ],
             {
              "frame": {
               "duration": 0,
               "redraw": true
              },
              "fromcurrent": true,
              "mode": "immediate",
              "transition": {
               "duration": 0,
               "easing": "linear"
              }
             }
            ],
            "label": "&#9724;",
            "method": "animate"
           }
          ],
          "direction": "left",
          "pad": {
           "r": 10,
           "t": 70
          },
          "showactive": false,
          "type": "buttons",
          "x": 0.1,
          "xanchor": "right",
          "y": 0,
          "yanchor": "top"
         }
        ]
       }
      },
      "text/html": [
       "<div>                            <div id=\"b92f4f6f-ab11-4e16-834a-852073b6eb77\" class=\"plotly-graph-div\" style=\"height:525px; width:100%;\"></div>            <script type=\"text/javascript\">                require([\"plotly\"], function(Plotly) {                    window.PLOTLYENV=window.PLOTLYENV || {};                                    if (document.getElementById(\"b92f4f6f-ab11-4e16-834a-852073b6eb77\")) {                    Plotly.newPlot(                        \"b92f4f6f-ab11-4e16-834a-852073b6eb77\",                        [{\"hovertemplate\":\"<b>%{hovertext}</b><br><br>threshold=0.0<br>TP=%{x}<br>TN=%{y}<br>FP=%{z}<extra></extra>\",\"hovertext\":[0.0],\"legendgroup\":\"\",\"marker\":{\"color\":\"#636efa\",\"symbol\":\"circle\"},\"mode\":\"markers\",\"name\":\"\",\"scene\":\"scene\",\"showlegend\":false,\"x\":[0.6171875],\"y\":[0.0],\"z\":[0.3828125],\"type\":\"scatter3d\"},{\"color\":\"lightgrey\",\"i\":[0,0,0,1],\"j\":[1,2,3,2],\"k\":[2,3,1,3],\"name\":\"y\",\"opacity\":0.2,\"showscale\":true,\"x\":[0,0,0,1],\"y\":[0,0,1,0],\"z\":[0,1,0,0],\"type\":\"mesh3d\"}],                        {\"template\":{\"data\":{\"bar\":[{\"error_x\":{\"color\":\"#2a3f5f\"},\"error_y\":{\"color\":\"#2a3f5f\"},\"marker\":{\"line\":{\"color\":\"#E5ECF6\",\"width\":0.5},\"pattern\":{\"fillmode\":\"overlay\",\"size\":10,\"solidity\":0.2}},\"type\":\"bar\"}],\"barpolar\":[{\"marker\":{\"line\":{\"color\":\"#E5ECF6\",\"width\":0.5},\"pattern\":{\"fillmode\":\"overlay\",\"size\":10,\"solidity\":0.2}},\"type\":\"barpolar\"}],\"carpet\":[{\"aaxis\":{\"endlinecolor\":\"#2a3f5f\",\"gridcolor\":\"white\",\"linecolor\":\"white\",\"minorgridcolor\":\"white\",\"startlinecolor\":\"#2a3f5f\"},\"baxis\":{\"endlinecolor\":\"#2a3f5f\",\"gridcolor\":\"white\",\"linecolor\":\"white\",\"minorgridcolor\":\"white\",\"startlinecolor\":\"#2a3f5f\"},\"type\":\"carpet\"}],\"choropleth\":[{\"colorbar\":{\"outlinewidth\":0,\"ticks\":\"\"},\"type\":\"choropleth\"}],\"contour\":[{\"colorbar\":{\"outlinewidth\":0,\"ticks\":\"\"},\"colorscale\":[[0.0,\"#0d0887\"],[0.1111111111111111,\"#46039f\"],[0.2222222222222222,\"#7201a8\"],[0.3333333333333333,\"#9c179e\"],[0.4444444444444444,\"#bd3786\"],[0.5555555555555556,\"#d8576b\"],[0.6666666666666666,\"#ed7953\"],[0.7777777777777778,\"#fb9f3a\"],[0.8888888888888888,\"#fdca26\"],[1.0,\"#f0f921\"]],\"type\":\"contour\"}],\"contourcarpet\":[{\"colorbar\":{\"outlinewidth\":0,\"ticks\":\"\"},\"type\":\"contourcarpet\"}],\"heatmap\":[{\"colorbar\":{\"outlinewidth\":0,\"ticks\":\"\"},\"colorscale\":[[0.0,\"#0d0887\"],[0.1111111111111111,\"#46039f\"],[0.2222222222222222,\"#7201a8\"],[0.3333333333333333,\"#9c179e\"],[0.4444444444444444,\"#bd3786\"],[0.5555555555555556,\"#d8576b\"],[0.6666666666666666,\"#ed7953\"],[0.7777777777777778,\"#fb9f3a\"],[0.8888888888888888,\"#fdca26\"],[1.0,\"#f0f921\"]],\"type\":\"heatmap\"}],\"heatmapgl\":[{\"colorbar\":{\"outlinewidth\":0,\"ticks\":\"\"},\"colorscale\":[[0.0,\"#0d0887\"],[0.1111111111111111,\"#46039f\"],[0.2222222222222222,\"#7201a8\"],[0.3333333333333333,\"#9c179e\"],[0.4444444444444444,\"#bd3786\"],[0.5555555555555556,\"#d8576b\"],[0.6666666666666666,\"#ed7953\"],[0.7777777777777778,\"#fb9f3a\"],[0.8888888888888888,\"#fdca26\"],[1.0,\"#f0f921\"]],\"type\":\"heatmapgl\"}],\"histogram\":[{\"marker\":{\"pattern\":{\"fillmode\":\"overlay\",\"size\":10,\"solidity\":0.2}},\"type\":\"histogram\"}],\"histogram2d\":[{\"colorbar\":{\"outlinewidth\":0,\"ticks\":\"\"},\"colorscale\":[[0.0,\"#0d0887\"],[0.1111111111111111,\"#46039f\"],[0.2222222222222222,\"#7201a8\"],[0.3333333333333333,\"#9c179e\"],[0.4444444444444444,\"#bd3786\"],[0.5555555555555556,\"#d8576b\"],[0.6666666666666666,\"#ed7953\"],[0.7777777777777778,\"#fb9f3a\"],[0.8888888888888888,\"#fdca26\"],[1.0,\"#f0f921\"]],\"type\":\"histogram2d\"}],\"histogram2dcontour\":[{\"colorbar\":{\"outlinewidth\":0,\"ticks\":\"\"},\"colorscale\":[[0.0,\"#0d0887\"],[0.1111111111111111,\"#46039f\"],[0.2222222222222222,\"#7201a8\"],[0.3333333333333333,\"#9c179e\"],[0.4444444444444444,\"#bd3786\"],[0.5555555555555556,\"#d8576b\"],[0.6666666666666666,\"#ed7953\"],[0.7777777777777778,\"#fb9f3a\"],[0.8888888888888888,\"#fdca26\"],[1.0,\"#f0f921\"]],\"type\":\"histogram2dcontour\"}],\"mesh3d\":[{\"colorbar\":{\"outlinewidth\":0,\"ticks\":\"\"},\"type\":\"mesh3d\"}],\"parcoords\":[{\"line\":{\"colorbar\":{\"outlinewidth\":0,\"ticks\":\"\"}},\"type\":\"parcoords\"}],\"pie\":[{\"automargin\":true,\"type\":\"pie\"}],\"scatter\":[{\"marker\":{\"colorbar\":{\"outlinewidth\":0,\"ticks\":\"\"}},\"type\":\"scatter\"}],\"scatter3d\":[{\"line\":{\"colorbar\":{\"outlinewidth\":0,\"ticks\":\"\"}},\"marker\":{\"colorbar\":{\"outlinewidth\":0,\"ticks\":\"\"}},\"type\":\"scatter3d\"}],\"scattercarpet\":[{\"marker\":{\"colorbar\":{\"outlinewidth\":0,\"ticks\":\"\"}},\"type\":\"scattercarpet\"}],\"scattergeo\":[{\"marker\":{\"colorbar\":{\"outlinewidth\":0,\"ticks\":\"\"}},\"type\":\"scattergeo\"}],\"scattergl\":[{\"marker\":{\"colorbar\":{\"outlinewidth\":0,\"ticks\":\"\"}},\"type\":\"scattergl\"}],\"scattermapbox\":[{\"marker\":{\"colorbar\":{\"outlinewidth\":0,\"ticks\":\"\"}},\"type\":\"scattermapbox\"}],\"scatterpolar\":[{\"marker\":{\"colorbar\":{\"outlinewidth\":0,\"ticks\":\"\"}},\"type\":\"scatterpolar\"}],\"scatterpolargl\":[{\"marker\":{\"colorbar\":{\"outlinewidth\":0,\"ticks\":\"\"}},\"type\":\"scatterpolargl\"}],\"scatterternary\":[{\"marker\":{\"colorbar\":{\"outlinewidth\":0,\"ticks\":\"\"}},\"type\":\"scatterternary\"}],\"surface\":[{\"colorbar\":{\"outlinewidth\":0,\"ticks\":\"\"},\"colorscale\":[[0.0,\"#0d0887\"],[0.1111111111111111,\"#46039f\"],[0.2222222222222222,\"#7201a8\"],[0.3333333333333333,\"#9c179e\"],[0.4444444444444444,\"#bd3786\"],[0.5555555555555556,\"#d8576b\"],[0.6666666666666666,\"#ed7953\"],[0.7777777777777778,\"#fb9f3a\"],[0.8888888888888888,\"#fdca26\"],[1.0,\"#f0f921\"]],\"type\":\"surface\"}],\"table\":[{\"cells\":{\"fill\":{\"color\":\"#EBF0F8\"},\"line\":{\"color\":\"white\"}},\"header\":{\"fill\":{\"color\":\"#C8D4E3\"},\"line\":{\"color\":\"white\"}},\"type\":\"table\"}]},\"layout\":{\"annotationdefaults\":{\"arrowcolor\":\"#2a3f5f\",\"arrowhead\":0,\"arrowwidth\":1},\"autotypenumbers\":\"strict\",\"coloraxis\":{\"colorbar\":{\"outlinewidth\":0,\"ticks\":\"\"}},\"colorscale\":{\"diverging\":[[0,\"#8e0152\"],[0.1,\"#c51b7d\"],[0.2,\"#de77ae\"],[0.3,\"#f1b6da\"],[0.4,\"#fde0ef\"],[0.5,\"#f7f7f7\"],[0.6,\"#e6f5d0\"],[0.7,\"#b8e186\"],[0.8,\"#7fbc41\"],[0.9,\"#4d9221\"],[1,\"#276419\"]],\"sequential\":[[0.0,\"#0d0887\"],[0.1111111111111111,\"#46039f\"],[0.2222222222222222,\"#7201a8\"],[0.3333333333333333,\"#9c179e\"],[0.4444444444444444,\"#bd3786\"],[0.5555555555555556,\"#d8576b\"],[0.6666666666666666,\"#ed7953\"],[0.7777777777777778,\"#fb9f3a\"],[0.8888888888888888,\"#fdca26\"],[1.0,\"#f0f921\"]],\"sequentialminus\":[[0.0,\"#0d0887\"],[0.1111111111111111,\"#46039f\"],[0.2222222222222222,\"#7201a8\"],[0.3333333333333333,\"#9c179e\"],[0.4444444444444444,\"#bd3786\"],[0.5555555555555556,\"#d8576b\"],[0.6666666666666666,\"#ed7953\"],[0.7777777777777778,\"#fb9f3a\"],[0.8888888888888888,\"#fdca26\"],[1.0,\"#f0f921\"]]},\"colorway\":[\"#636efa\",\"#EF553B\",\"#00cc96\",\"#ab63fa\",\"#FFA15A\",\"#19d3f3\",\"#FF6692\",\"#B6E880\",\"#FF97FF\",\"#FECB52\"],\"font\":{\"color\":\"#2a3f5f\"},\"geo\":{\"bgcolor\":\"white\",\"lakecolor\":\"white\",\"landcolor\":\"#E5ECF6\",\"showlakes\":true,\"showland\":true,\"subunitcolor\":\"white\"},\"hoverlabel\":{\"align\":\"left\"},\"hovermode\":\"closest\",\"mapbox\":{\"style\":\"light\"},\"paper_bgcolor\":\"white\",\"plot_bgcolor\":\"#E5ECF6\",\"polar\":{\"angularaxis\":{\"gridcolor\":\"white\",\"linecolor\":\"white\",\"ticks\":\"\"},\"bgcolor\":\"#E5ECF6\",\"radialaxis\":{\"gridcolor\":\"white\",\"linecolor\":\"white\",\"ticks\":\"\"}},\"scene\":{\"xaxis\":{\"backgroundcolor\":\"#E5ECF6\",\"gridcolor\":\"white\",\"gridwidth\":2,\"linecolor\":\"white\",\"showbackground\":true,\"ticks\":\"\",\"zerolinecolor\":\"white\"},\"yaxis\":{\"backgroundcolor\":\"#E5ECF6\",\"gridcolor\":\"white\",\"gridwidth\":2,\"linecolor\":\"white\",\"showbackground\":true,\"ticks\":\"\",\"zerolinecolor\":\"white\"},\"zaxis\":{\"backgroundcolor\":\"#E5ECF6\",\"gridcolor\":\"white\",\"gridwidth\":2,\"linecolor\":\"white\",\"showbackground\":true,\"ticks\":\"\",\"zerolinecolor\":\"white\"}},\"shapedefaults\":{\"line\":{\"color\":\"#2a3f5f\"}},\"ternary\":{\"aaxis\":{\"gridcolor\":\"white\",\"linecolor\":\"white\",\"ticks\":\"\"},\"baxis\":{\"gridcolor\":\"white\",\"linecolor\":\"white\",\"ticks\":\"\"},\"bgcolor\":\"#E5ECF6\",\"caxis\":{\"gridcolor\":\"white\",\"linecolor\":\"white\",\"ticks\":\"\"}},\"title\":{\"x\":0.05},\"xaxis\":{\"automargin\":true,\"gridcolor\":\"white\",\"linecolor\":\"white\",\"ticks\":\"\",\"title\":{\"standoff\":15},\"zerolinecolor\":\"white\",\"zerolinewidth\":2},\"yaxis\":{\"automargin\":true,\"gridcolor\":\"white\",\"linecolor\":\"white\",\"ticks\":\"\",\"title\":{\"standoff\":15},\"zerolinecolor\":\"white\",\"zerolinewidth\":2}}},\"scene\":{\"domain\":{\"x\":[0.0,1.0],\"y\":[0.0,1.0]},\"xaxis\":{\"title\":{\"text\":\"TP\"},\"range\":[0,1]},\"yaxis\":{\"title\":{\"text\":\"TN\"},\"range\":[0,1]},\"zaxis\":{\"title\":{\"text\":\"FP\"},\"range\":[0,1]}},\"legend\":{\"tracegroupgap\":0},\"margin\":{\"t\":60},\"updatemenus\":[{\"buttons\":[{\"args\":[null,{\"frame\":{\"duration\":500,\"redraw\":true},\"mode\":\"immediate\",\"fromcurrent\":true,\"transition\":{\"duration\":500,\"easing\":\"linear\"}}],\"label\":\"&#9654;\",\"method\":\"animate\"},{\"args\":[[null],{\"frame\":{\"duration\":0,\"redraw\":true},\"mode\":\"immediate\",\"fromcurrent\":true,\"transition\":{\"duration\":0,\"easing\":\"linear\"}}],\"label\":\"&#9724;\",\"method\":\"animate\"}],\"direction\":\"left\",\"pad\":{\"r\":10,\"t\":70},\"showactive\":false,\"type\":\"buttons\",\"x\":0.1,\"xanchor\":\"right\",\"y\":0,\"yanchor\":\"top\"}],\"sliders\":[{\"active\":0,\"currentvalue\":{\"prefix\":\"threshold=\"},\"len\":0.9,\"pad\":{\"b\":10,\"t\":60},\"steps\":[{\"args\":[[\"0.0\"],{\"frame\":{\"duration\":0,\"redraw\":true},\"mode\":\"immediate\",\"fromcurrent\":true,\"transition\":{\"duration\":0,\"easing\":\"linear\"}}],\"label\":\"0.0\",\"method\":\"animate\"},{\"args\":[[\"0.01\"],{\"frame\":{\"duration\":0,\"redraw\":true},\"mode\":\"immediate\",\"fromcurrent\":true,\"transition\":{\"duration\":0,\"easing\":\"linear\"}}],\"label\":\"0.01\",\"method\":\"animate\"},{\"args\":[[\"0.02\"],{\"frame\":{\"duration\":0,\"redraw\":true},\"mode\":\"immediate\",\"fromcurrent\":true,\"transition\":{\"duration\":0,\"easing\":\"linear\"}}],\"label\":\"0.02\",\"method\":\"animate\"},{\"args\":[[\"0.03\"],{\"frame\":{\"duration\":0,\"redraw\":true},\"mode\":\"immediate\",\"fromcurrent\":true,\"transition\":{\"duration\":0,\"easing\":\"linear\"}}],\"label\":\"0.03\",\"method\":\"animate\"},{\"args\":[[\"0.04\"],{\"frame\":{\"duration\":0,\"redraw\":true},\"mode\":\"immediate\",\"fromcurrent\":true,\"transition\":{\"duration\":0,\"easing\":\"linear\"}}],\"label\":\"0.04\",\"method\":\"animate\"},{\"args\":[[\"0.05\"],{\"frame\":{\"duration\":0,\"redraw\":true},\"mode\":\"immediate\",\"fromcurrent\":true,\"transition\":{\"duration\":0,\"easing\":\"linear\"}}],\"label\":\"0.05\",\"method\":\"animate\"},{\"args\":[[\"0.06\"],{\"frame\":{\"duration\":0,\"redraw\":true},\"mode\":\"immediate\",\"fromcurrent\":true,\"transition\":{\"duration\":0,\"easing\":\"linear\"}}],\"label\":\"0.06\",\"method\":\"animate\"},{\"args\":[[\"0.07\"],{\"frame\":{\"duration\":0,\"redraw\":true},\"mode\":\"immediate\",\"fromcurrent\":true,\"transition\":{\"duration\":0,\"easing\":\"linear\"}}],\"label\":\"0.07\",\"method\":\"animate\"},{\"args\":[[\"0.08\"],{\"frame\":{\"duration\":0,\"redraw\":true},\"mode\":\"immediate\",\"fromcurrent\":true,\"transition\":{\"duration\":0,\"easing\":\"linear\"}}],\"label\":\"0.08\",\"method\":\"animate\"},{\"args\":[[\"0.09\"],{\"frame\":{\"duration\":0,\"redraw\":true},\"mode\":\"immediate\",\"fromcurrent\":true,\"transition\":{\"duration\":0,\"easing\":\"linear\"}}],\"label\":\"0.09\",\"method\":\"animate\"},{\"args\":[[\"0.1\"],{\"frame\":{\"duration\":0,\"redraw\":true},\"mode\":\"immediate\",\"fromcurrent\":true,\"transition\":{\"duration\":0,\"easing\":\"linear\"}}],\"label\":\"0.1\",\"method\":\"animate\"},{\"args\":[[\"0.11\"],{\"frame\":{\"duration\":0,\"redraw\":true},\"mode\":\"immediate\",\"fromcurrent\":true,\"transition\":{\"duration\":0,\"easing\":\"linear\"}}],\"label\":\"0.11\",\"method\":\"animate\"},{\"args\":[[\"0.12\"],{\"frame\":{\"duration\":0,\"redraw\":true},\"mode\":\"immediate\",\"fromcurrent\":true,\"transition\":{\"duration\":0,\"easing\":\"linear\"}}],\"label\":\"0.12\",\"method\":\"animate\"},{\"args\":[[\"0.13\"],{\"frame\":{\"duration\":0,\"redraw\":true},\"mode\":\"immediate\",\"fromcurrent\":true,\"transition\":{\"duration\":0,\"easing\":\"linear\"}}],\"label\":\"0.13\",\"method\":\"animate\"},{\"args\":[[\"0.14\"],{\"frame\":{\"duration\":0,\"redraw\":true},\"mode\":\"immediate\",\"fromcurrent\":true,\"transition\":{\"duration\":0,\"easing\":\"linear\"}}],\"label\":\"0.14\",\"method\":\"animate\"},{\"args\":[[\"0.15\"],{\"frame\":{\"duration\":0,\"redraw\":true},\"mode\":\"immediate\",\"fromcurrent\":true,\"transition\":{\"duration\":0,\"easing\":\"linear\"}}],\"label\":\"0.15\",\"method\":\"animate\"},{\"args\":[[\"0.16\"],{\"frame\":{\"duration\":0,\"redraw\":true},\"mode\":\"immediate\",\"fromcurrent\":true,\"transition\":{\"duration\":0,\"easing\":\"linear\"}}],\"label\":\"0.16\",\"method\":\"animate\"},{\"args\":[[\"0.17\"],{\"frame\":{\"duration\":0,\"redraw\":true},\"mode\":\"immediate\",\"fromcurrent\":true,\"transition\":{\"duration\":0,\"easing\":\"linear\"}}],\"label\":\"0.17\",\"method\":\"animate\"},{\"args\":[[\"0.18\"],{\"frame\":{\"duration\":0,\"redraw\":true},\"mode\":\"immediate\",\"fromcurrent\":true,\"transition\":{\"duration\":0,\"easing\":\"linear\"}}],\"label\":\"0.18\",\"method\":\"animate\"},{\"args\":[[\"0.19\"],{\"frame\":{\"duration\":0,\"redraw\":true},\"mode\":\"immediate\",\"fromcurrent\":true,\"transition\":{\"duration\":0,\"easing\":\"linear\"}}],\"label\":\"0.19\",\"method\":\"animate\"},{\"args\":[[\"0.2\"],{\"frame\":{\"duration\":0,\"redraw\":true},\"mode\":\"immediate\",\"fromcurrent\":true,\"transition\":{\"duration\":0,\"easing\":\"linear\"}}],\"label\":\"0.2\",\"method\":\"animate\"},{\"args\":[[\"0.21\"],{\"frame\":{\"duration\":0,\"redraw\":true},\"mode\":\"immediate\",\"fromcurrent\":true,\"transition\":{\"duration\":0,\"easing\":\"linear\"}}],\"label\":\"0.21\",\"method\":\"animate\"},{\"args\":[[\"0.22\"],{\"frame\":{\"duration\":0,\"redraw\":true},\"mode\":\"immediate\",\"fromcurrent\":true,\"transition\":{\"duration\":0,\"easing\":\"linear\"}}],\"label\":\"0.22\",\"method\":\"animate\"},{\"args\":[[\"0.23\"],{\"frame\":{\"duration\":0,\"redraw\":true},\"mode\":\"immediate\",\"fromcurrent\":true,\"transition\":{\"duration\":0,\"easing\":\"linear\"}}],\"label\":\"0.23\",\"method\":\"animate\"},{\"args\":[[\"0.24\"],{\"frame\":{\"duration\":0,\"redraw\":true},\"mode\":\"immediate\",\"fromcurrent\":true,\"transition\":{\"duration\":0,\"easing\":\"linear\"}}],\"label\":\"0.24\",\"method\":\"animate\"},{\"args\":[[\"0.25\"],{\"frame\":{\"duration\":0,\"redraw\":true},\"mode\":\"immediate\",\"fromcurrent\":true,\"transition\":{\"duration\":0,\"easing\":\"linear\"}}],\"label\":\"0.25\",\"method\":\"animate\"},{\"args\":[[\"0.26\"],{\"frame\":{\"duration\":0,\"redraw\":true},\"mode\":\"immediate\",\"fromcurrent\":true,\"transition\":{\"duration\":0,\"easing\":\"linear\"}}],\"label\":\"0.26\",\"method\":\"animate\"},{\"args\":[[\"0.27\"],{\"frame\":{\"duration\":0,\"redraw\":true},\"mode\":\"immediate\",\"fromcurrent\":true,\"transition\":{\"duration\":0,\"easing\":\"linear\"}}],\"label\":\"0.27\",\"method\":\"animate\"},{\"args\":[[\"0.28\"],{\"frame\":{\"duration\":0,\"redraw\":true},\"mode\":\"immediate\",\"fromcurrent\":true,\"transition\":{\"duration\":0,\"easing\":\"linear\"}}],\"label\":\"0.28\",\"method\":\"animate\"},{\"args\":[[\"0.29\"],{\"frame\":{\"duration\":0,\"redraw\":true},\"mode\":\"immediate\",\"fromcurrent\":true,\"transition\":{\"duration\":0,\"easing\":\"linear\"}}],\"label\":\"0.29\",\"method\":\"animate\"},{\"args\":[[\"0.3\"],{\"frame\":{\"duration\":0,\"redraw\":true},\"mode\":\"immediate\",\"fromcurrent\":true,\"transition\":{\"duration\":0,\"easing\":\"linear\"}}],\"label\":\"0.3\",\"method\":\"animate\"},{\"args\":[[\"0.31\"],{\"frame\":{\"duration\":0,\"redraw\":true},\"mode\":\"immediate\",\"fromcurrent\":true,\"transition\":{\"duration\":0,\"easing\":\"linear\"}}],\"label\":\"0.31\",\"method\":\"animate\"},{\"args\":[[\"0.32\"],{\"frame\":{\"duration\":0,\"redraw\":true},\"mode\":\"immediate\",\"fromcurrent\":true,\"transition\":{\"duration\":0,\"easing\":\"linear\"}}],\"label\":\"0.32\",\"method\":\"animate\"},{\"args\":[[\"0.33\"],{\"frame\":{\"duration\":0,\"redraw\":true},\"mode\":\"immediate\",\"fromcurrent\":true,\"transition\":{\"duration\":0,\"easing\":\"linear\"}}],\"label\":\"0.33\",\"method\":\"animate\"},{\"args\":[[\"0.34\"],{\"frame\":{\"duration\":0,\"redraw\":true},\"mode\":\"immediate\",\"fromcurrent\":true,\"transition\":{\"duration\":0,\"easing\":\"linear\"}}],\"label\":\"0.34\",\"method\":\"animate\"},{\"args\":[[\"0.35\"],{\"frame\":{\"duration\":0,\"redraw\":true},\"mode\":\"immediate\",\"fromcurrent\":true,\"transition\":{\"duration\":0,\"easing\":\"linear\"}}],\"label\":\"0.35\",\"method\":\"animate\"},{\"args\":[[\"0.36\"],{\"frame\":{\"duration\":0,\"redraw\":true},\"mode\":\"immediate\",\"fromcurrent\":true,\"transition\":{\"duration\":0,\"easing\":\"linear\"}}],\"label\":\"0.36\",\"method\":\"animate\"},{\"args\":[[\"0.37\"],{\"frame\":{\"duration\":0,\"redraw\":true},\"mode\":\"immediate\",\"fromcurrent\":true,\"transition\":{\"duration\":0,\"easing\":\"linear\"}}],\"label\":\"0.37\",\"method\":\"animate\"},{\"args\":[[\"0.38\"],{\"frame\":{\"duration\":0,\"redraw\":true},\"mode\":\"immediate\",\"fromcurrent\":true,\"transition\":{\"duration\":0,\"easing\":\"linear\"}}],\"label\":\"0.38\",\"method\":\"animate\"},{\"args\":[[\"0.39\"],{\"frame\":{\"duration\":0,\"redraw\":true},\"mode\":\"immediate\",\"fromcurrent\":true,\"transition\":{\"duration\":0,\"easing\":\"linear\"}}],\"label\":\"0.39\",\"method\":\"animate\"},{\"args\":[[\"0.4\"],{\"frame\":{\"duration\":0,\"redraw\":true},\"mode\":\"immediate\",\"fromcurrent\":true,\"transition\":{\"duration\":0,\"easing\":\"linear\"}}],\"label\":\"0.4\",\"method\":\"animate\"},{\"args\":[[\"0.41\"],{\"frame\":{\"duration\":0,\"redraw\":true},\"mode\":\"immediate\",\"fromcurrent\":true,\"transition\":{\"duration\":0,\"easing\":\"linear\"}}],\"label\":\"0.41\",\"method\":\"animate\"},{\"args\":[[\"0.42\"],{\"frame\":{\"duration\":0,\"redraw\":true},\"mode\":\"immediate\",\"fromcurrent\":true,\"transition\":{\"duration\":0,\"easing\":\"linear\"}}],\"label\":\"0.42\",\"method\":\"animate\"},{\"args\":[[\"0.43\"],{\"frame\":{\"duration\":0,\"redraw\":true},\"mode\":\"immediate\",\"fromcurrent\":true,\"transition\":{\"duration\":0,\"easing\":\"linear\"}}],\"label\":\"0.43\",\"method\":\"animate\"},{\"args\":[[\"0.44\"],{\"frame\":{\"duration\":0,\"redraw\":true},\"mode\":\"immediate\",\"fromcurrent\":true,\"transition\":{\"duration\":0,\"easing\":\"linear\"}}],\"label\":\"0.44\",\"method\":\"animate\"},{\"args\":[[\"0.45\"],{\"frame\":{\"duration\":0,\"redraw\":true},\"mode\":\"immediate\",\"fromcurrent\":true,\"transition\":{\"duration\":0,\"easing\":\"linear\"}}],\"label\":\"0.45\",\"method\":\"animate\"},{\"args\":[[\"0.46\"],{\"frame\":{\"duration\":0,\"redraw\":true},\"mode\":\"immediate\",\"fromcurrent\":true,\"transition\":{\"duration\":0,\"easing\":\"linear\"}}],\"label\":\"0.46\",\"method\":\"animate\"},{\"args\":[[\"0.47\"],{\"frame\":{\"duration\":0,\"redraw\":true},\"mode\":\"immediate\",\"fromcurrent\":true,\"transition\":{\"duration\":0,\"easing\":\"linear\"}}],\"label\":\"0.47\",\"method\":\"animate\"},{\"args\":[[\"0.48\"],{\"frame\":{\"duration\":0,\"redraw\":true},\"mode\":\"immediate\",\"fromcurrent\":true,\"transition\":{\"duration\":0,\"easing\":\"linear\"}}],\"label\":\"0.48\",\"method\":\"animate\"},{\"args\":[[\"0.49\"],{\"frame\":{\"duration\":0,\"redraw\":true},\"mode\":\"immediate\",\"fromcurrent\":true,\"transition\":{\"duration\":0,\"easing\":\"linear\"}}],\"label\":\"0.49\",\"method\":\"animate\"},{\"args\":[[\"0.5\"],{\"frame\":{\"duration\":0,\"redraw\":true},\"mode\":\"immediate\",\"fromcurrent\":true,\"transition\":{\"duration\":0,\"easing\":\"linear\"}}],\"label\":\"0.5\",\"method\":\"animate\"},{\"args\":[[\"0.51\"],{\"frame\":{\"duration\":0,\"redraw\":true},\"mode\":\"immediate\",\"fromcurrent\":true,\"transition\":{\"duration\":0,\"easing\":\"linear\"}}],\"label\":\"0.51\",\"method\":\"animate\"},{\"args\":[[\"0.52\"],{\"frame\":{\"duration\":0,\"redraw\":true},\"mode\":\"immediate\",\"fromcurrent\":true,\"transition\":{\"duration\":0,\"easing\":\"linear\"}}],\"label\":\"0.52\",\"method\":\"animate\"},{\"args\":[[\"0.53\"],{\"frame\":{\"duration\":0,\"redraw\":true},\"mode\":\"immediate\",\"fromcurrent\":true,\"transition\":{\"duration\":0,\"easing\":\"linear\"}}],\"label\":\"0.53\",\"method\":\"animate\"},{\"args\":[[\"0.54\"],{\"frame\":{\"duration\":0,\"redraw\":true},\"mode\":\"immediate\",\"fromcurrent\":true,\"transition\":{\"duration\":0,\"easing\":\"linear\"}}],\"label\":\"0.54\",\"method\":\"animate\"},{\"args\":[[\"0.55\"],{\"frame\":{\"duration\":0,\"redraw\":true},\"mode\":\"immediate\",\"fromcurrent\":true,\"transition\":{\"duration\":0,\"easing\":\"linear\"}}],\"label\":\"0.55\",\"method\":\"animate\"},{\"args\":[[\"0.56\"],{\"frame\":{\"duration\":0,\"redraw\":true},\"mode\":\"immediate\",\"fromcurrent\":true,\"transition\":{\"duration\":0,\"easing\":\"linear\"}}],\"label\":\"0.56\",\"method\":\"animate\"},{\"args\":[[\"0.57\"],{\"frame\":{\"duration\":0,\"redraw\":true},\"mode\":\"immediate\",\"fromcurrent\":true,\"transition\":{\"duration\":0,\"easing\":\"linear\"}}],\"label\":\"0.57\",\"method\":\"animate\"},{\"args\":[[\"0.58\"],{\"frame\":{\"duration\":0,\"redraw\":true},\"mode\":\"immediate\",\"fromcurrent\":true,\"transition\":{\"duration\":0,\"easing\":\"linear\"}}],\"label\":\"0.58\",\"method\":\"animate\"},{\"args\":[[\"0.59\"],{\"frame\":{\"duration\":0,\"redraw\":true},\"mode\":\"immediate\",\"fromcurrent\":true,\"transition\":{\"duration\":0,\"easing\":\"linear\"}}],\"label\":\"0.59\",\"method\":\"animate\"},{\"args\":[[\"0.6\"],{\"frame\":{\"duration\":0,\"redraw\":true},\"mode\":\"immediate\",\"fromcurrent\":true,\"transition\":{\"duration\":0,\"easing\":\"linear\"}}],\"label\":\"0.6\",\"method\":\"animate\"},{\"args\":[[\"0.61\"],{\"frame\":{\"duration\":0,\"redraw\":true},\"mode\":\"immediate\",\"fromcurrent\":true,\"transition\":{\"duration\":0,\"easing\":\"linear\"}}],\"label\":\"0.61\",\"method\":\"animate\"},{\"args\":[[\"0.62\"],{\"frame\":{\"duration\":0,\"redraw\":true},\"mode\":\"immediate\",\"fromcurrent\":true,\"transition\":{\"duration\":0,\"easing\":\"linear\"}}],\"label\":\"0.62\",\"method\":\"animate\"},{\"args\":[[\"0.63\"],{\"frame\":{\"duration\":0,\"redraw\":true},\"mode\":\"immediate\",\"fromcurrent\":true,\"transition\":{\"duration\":0,\"easing\":\"linear\"}}],\"label\":\"0.63\",\"method\":\"animate\"},{\"args\":[[\"0.64\"],{\"frame\":{\"duration\":0,\"redraw\":true},\"mode\":\"immediate\",\"fromcurrent\":true,\"transition\":{\"duration\":0,\"easing\":\"linear\"}}],\"label\":\"0.64\",\"method\":\"animate\"},{\"args\":[[\"0.65\"],{\"frame\":{\"duration\":0,\"redraw\":true},\"mode\":\"immediate\",\"fromcurrent\":true,\"transition\":{\"duration\":0,\"easing\":\"linear\"}}],\"label\":\"0.65\",\"method\":\"animate\"},{\"args\":[[\"0.66\"],{\"frame\":{\"duration\":0,\"redraw\":true},\"mode\":\"immediate\",\"fromcurrent\":true,\"transition\":{\"duration\":0,\"easing\":\"linear\"}}],\"label\":\"0.66\",\"method\":\"animate\"},{\"args\":[[\"0.67\"],{\"frame\":{\"duration\":0,\"redraw\":true},\"mode\":\"immediate\",\"fromcurrent\":true,\"transition\":{\"duration\":0,\"easing\":\"linear\"}}],\"label\":\"0.67\",\"method\":\"animate\"},{\"args\":[[\"0.68\"],{\"frame\":{\"duration\":0,\"redraw\":true},\"mode\":\"immediate\",\"fromcurrent\":true,\"transition\":{\"duration\":0,\"easing\":\"linear\"}}],\"label\":\"0.68\",\"method\":\"animate\"},{\"args\":[[\"0.69\"],{\"frame\":{\"duration\":0,\"redraw\":true},\"mode\":\"immediate\",\"fromcurrent\":true,\"transition\":{\"duration\":0,\"easing\":\"linear\"}}],\"label\":\"0.69\",\"method\":\"animate\"},{\"args\":[[\"0.7\"],{\"frame\":{\"duration\":0,\"redraw\":true},\"mode\":\"immediate\",\"fromcurrent\":true,\"transition\":{\"duration\":0,\"easing\":\"linear\"}}],\"label\":\"0.7\",\"method\":\"animate\"},{\"args\":[[\"0.71\"],{\"frame\":{\"duration\":0,\"redraw\":true},\"mode\":\"immediate\",\"fromcurrent\":true,\"transition\":{\"duration\":0,\"easing\":\"linear\"}}],\"label\":\"0.71\",\"method\":\"animate\"},{\"args\":[[\"0.72\"],{\"frame\":{\"duration\":0,\"redraw\":true},\"mode\":\"immediate\",\"fromcurrent\":true,\"transition\":{\"duration\":0,\"easing\":\"linear\"}}],\"label\":\"0.72\",\"method\":\"animate\"},{\"args\":[[\"0.73\"],{\"frame\":{\"duration\":0,\"redraw\":true},\"mode\":\"immediate\",\"fromcurrent\":true,\"transition\":{\"duration\":0,\"easing\":\"linear\"}}],\"label\":\"0.73\",\"method\":\"animate\"},{\"args\":[[\"0.74\"],{\"frame\":{\"duration\":0,\"redraw\":true},\"mode\":\"immediate\",\"fromcurrent\":true,\"transition\":{\"duration\":0,\"easing\":\"linear\"}}],\"label\":\"0.74\",\"method\":\"animate\"},{\"args\":[[\"0.75\"],{\"frame\":{\"duration\":0,\"redraw\":true},\"mode\":\"immediate\",\"fromcurrent\":true,\"transition\":{\"duration\":0,\"easing\":\"linear\"}}],\"label\":\"0.75\",\"method\":\"animate\"},{\"args\":[[\"0.76\"],{\"frame\":{\"duration\":0,\"redraw\":true},\"mode\":\"immediate\",\"fromcurrent\":true,\"transition\":{\"duration\":0,\"easing\":\"linear\"}}],\"label\":\"0.76\",\"method\":\"animate\"},{\"args\":[[\"0.77\"],{\"frame\":{\"duration\":0,\"redraw\":true},\"mode\":\"immediate\",\"fromcurrent\":true,\"transition\":{\"duration\":0,\"easing\":\"linear\"}}],\"label\":\"0.77\",\"method\":\"animate\"},{\"args\":[[\"0.78\"],{\"frame\":{\"duration\":0,\"redraw\":true},\"mode\":\"immediate\",\"fromcurrent\":true,\"transition\":{\"duration\":0,\"easing\":\"linear\"}}],\"label\":\"0.78\",\"method\":\"animate\"},{\"args\":[[\"0.79\"],{\"frame\":{\"duration\":0,\"redraw\":true},\"mode\":\"immediate\",\"fromcurrent\":true,\"transition\":{\"duration\":0,\"easing\":\"linear\"}}],\"label\":\"0.79\",\"method\":\"animate\"},{\"args\":[[\"0.8\"],{\"frame\":{\"duration\":0,\"redraw\":true},\"mode\":\"immediate\",\"fromcurrent\":true,\"transition\":{\"duration\":0,\"easing\":\"linear\"}}],\"label\":\"0.8\",\"method\":\"animate\"},{\"args\":[[\"0.81\"],{\"frame\":{\"duration\":0,\"redraw\":true},\"mode\":\"immediate\",\"fromcurrent\":true,\"transition\":{\"duration\":0,\"easing\":\"linear\"}}],\"label\":\"0.81\",\"method\":\"animate\"},{\"args\":[[\"0.82\"],{\"frame\":{\"duration\":0,\"redraw\":true},\"mode\":\"immediate\",\"fromcurrent\":true,\"transition\":{\"duration\":0,\"easing\":\"linear\"}}],\"label\":\"0.82\",\"method\":\"animate\"},{\"args\":[[\"0.83\"],{\"frame\":{\"duration\":0,\"redraw\":true},\"mode\":\"immediate\",\"fromcurrent\":true,\"transition\":{\"duration\":0,\"easing\":\"linear\"}}],\"label\":\"0.83\",\"method\":\"animate\"},{\"args\":[[\"0.84\"],{\"frame\":{\"duration\":0,\"redraw\":true},\"mode\":\"immediate\",\"fromcurrent\":true,\"transition\":{\"duration\":0,\"easing\":\"linear\"}}],\"label\":\"0.84\",\"method\":\"animate\"},{\"args\":[[\"0.85\"],{\"frame\":{\"duration\":0,\"redraw\":true},\"mode\":\"immediate\",\"fromcurrent\":true,\"transition\":{\"duration\":0,\"easing\":\"linear\"}}],\"label\":\"0.85\",\"method\":\"animate\"},{\"args\":[[\"0.86\"],{\"frame\":{\"duration\":0,\"redraw\":true},\"mode\":\"immediate\",\"fromcurrent\":true,\"transition\":{\"duration\":0,\"easing\":\"linear\"}}],\"label\":\"0.86\",\"method\":\"animate\"},{\"args\":[[\"0.87\"],{\"frame\":{\"duration\":0,\"redraw\":true},\"mode\":\"immediate\",\"fromcurrent\":true,\"transition\":{\"duration\":0,\"easing\":\"linear\"}}],\"label\":\"0.87\",\"method\":\"animate\"},{\"args\":[[\"0.88\"],{\"frame\":{\"duration\":0,\"redraw\":true},\"mode\":\"immediate\",\"fromcurrent\":true,\"transition\":{\"duration\":0,\"easing\":\"linear\"}}],\"label\":\"0.88\",\"method\":\"animate\"},{\"args\":[[\"0.89\"],{\"frame\":{\"duration\":0,\"redraw\":true},\"mode\":\"immediate\",\"fromcurrent\":true,\"transition\":{\"duration\":0,\"easing\":\"linear\"}}],\"label\":\"0.89\",\"method\":\"animate\"},{\"args\":[[\"0.9\"],{\"frame\":{\"duration\":0,\"redraw\":true},\"mode\":\"immediate\",\"fromcurrent\":true,\"transition\":{\"duration\":0,\"easing\":\"linear\"}}],\"label\":\"0.9\",\"method\":\"animate\"},{\"args\":[[\"0.91\"],{\"frame\":{\"duration\":0,\"redraw\":true},\"mode\":\"immediate\",\"fromcurrent\":true,\"transition\":{\"duration\":0,\"easing\":\"linear\"}}],\"label\":\"0.91\",\"method\":\"animate\"},{\"args\":[[\"0.92\"],{\"frame\":{\"duration\":0,\"redraw\":true},\"mode\":\"immediate\",\"fromcurrent\":true,\"transition\":{\"duration\":0,\"easing\":\"linear\"}}],\"label\":\"0.92\",\"method\":\"animate\"},{\"args\":[[\"0.93\"],{\"frame\":{\"duration\":0,\"redraw\":true},\"mode\":\"immediate\",\"fromcurrent\":true,\"transition\":{\"duration\":0,\"easing\":\"linear\"}}],\"label\":\"0.93\",\"method\":\"animate\"},{\"args\":[[\"0.94\"],{\"frame\":{\"duration\":0,\"redraw\":true},\"mode\":\"immediate\",\"fromcurrent\":true,\"transition\":{\"duration\":0,\"easing\":\"linear\"}}],\"label\":\"0.94\",\"method\":\"animate\"},{\"args\":[[\"0.95\"],{\"frame\":{\"duration\":0,\"redraw\":true},\"mode\":\"immediate\",\"fromcurrent\":true,\"transition\":{\"duration\":0,\"easing\":\"linear\"}}],\"label\":\"0.95\",\"method\":\"animate\"},{\"args\":[[\"0.96\"],{\"frame\":{\"duration\":0,\"redraw\":true},\"mode\":\"immediate\",\"fromcurrent\":true,\"transition\":{\"duration\":0,\"easing\":\"linear\"}}],\"label\":\"0.96\",\"method\":\"animate\"},{\"args\":[[\"0.97\"],{\"frame\":{\"duration\":0,\"redraw\":true},\"mode\":\"immediate\",\"fromcurrent\":true,\"transition\":{\"duration\":0,\"easing\":\"linear\"}}],\"label\":\"0.97\",\"method\":\"animate\"},{\"args\":[[\"0.98\"],{\"frame\":{\"duration\":0,\"redraw\":true},\"mode\":\"immediate\",\"fromcurrent\":true,\"transition\":{\"duration\":0,\"easing\":\"linear\"}}],\"label\":\"0.98\",\"method\":\"animate\"},{\"args\":[[\"0.99\"],{\"frame\":{\"duration\":0,\"redraw\":true},\"mode\":\"immediate\",\"fromcurrent\":true,\"transition\":{\"duration\":0,\"easing\":\"linear\"}}],\"label\":\"0.99\",\"method\":\"animate\"},{\"args\":[[\"1.0\"],{\"frame\":{\"duration\":0,\"redraw\":true},\"mode\":\"immediate\",\"fromcurrent\":true,\"transition\":{\"duration\":0,\"easing\":\"linear\"}}],\"label\":\"1.0\",\"method\":\"animate\"}],\"x\":0.1,\"xanchor\":\"left\",\"y\":0,\"yanchor\":\"top\"}]},                        {\"responsive\": true}                    ).then(function(){\n",
       "                            Plotly.addFrames('b92f4f6f-ab11-4e16-834a-852073b6eb77', [{\"data\":[{\"hovertemplate\":\"<b>%{hovertext}</b><br><br>threshold=0.0<br>TP=%{x}<br>TN=%{y}<br>FP=%{z}<extra></extra>\",\"hovertext\":[0.0],\"legendgroup\":\"\",\"marker\":{\"color\":\"#636efa\",\"symbol\":\"circle\"},\"mode\":\"markers\",\"name\":\"\",\"scene\":\"scene\",\"showlegend\":false,\"x\":[0.6171875],\"y\":[0.0],\"z\":[0.3828125],\"type\":\"scatter3d\"}],\"name\":\"0.0\"},{\"data\":[{\"hovertemplate\":\"<b>%{hovertext}</b><br><br>threshold=0.01<br>TP=%{x}<br>TN=%{y}<br>FP=%{z}<extra></extra>\",\"hovertext\":[0.01],\"legendgroup\":\"\",\"marker\":{\"color\":\"#636efa\",\"symbol\":\"circle\"},\"mode\":\"markers\",\"name\":\"\",\"scene\":\"scene\",\"showlegend\":false,\"x\":[0.6171875],\"y\":[0.1640625],\"z\":[0.21875],\"type\":\"scatter3d\"}],\"name\":\"0.01\"},{\"data\":[{\"hovertemplate\":\"<b>%{hovertext}</b><br><br>threshold=0.02<br>TP=%{x}<br>TN=%{y}<br>FP=%{z}<extra></extra>\",\"hovertext\":[0.02],\"legendgroup\":\"\",\"marker\":{\"color\":\"#636efa\",\"symbol\":\"circle\"},\"mode\":\"markers\",\"name\":\"\",\"scene\":\"scene\",\"showlegend\":false,\"x\":[0.6171875],\"y\":[0.234375],\"z\":[0.1484375],\"type\":\"scatter3d\"}],\"name\":\"0.02\"},{\"data\":[{\"hovertemplate\":\"<b>%{hovertext}</b><br><br>threshold=0.03<br>TP=%{x}<br>TN=%{y}<br>FP=%{z}<extra></extra>\",\"hovertext\":[0.03],\"legendgroup\":\"\",\"marker\":{\"color\":\"#636efa\",\"symbol\":\"circle\"},\"mode\":\"markers\",\"name\":\"\",\"scene\":\"scene\",\"showlegend\":false,\"x\":[0.6171875],\"y\":[0.25],\"z\":[0.1328125],\"type\":\"scatter3d\"}],\"name\":\"0.03\"},{\"data\":[{\"hovertemplate\":\"<b>%{hovertext}</b><br><br>threshold=0.04<br>TP=%{x}<br>TN=%{y}<br>FP=%{z}<extra></extra>\",\"hovertext\":[0.04],\"legendgroup\":\"\",\"marker\":{\"color\":\"#636efa\",\"symbol\":\"circle\"},\"mode\":\"markers\",\"name\":\"\",\"scene\":\"scene\",\"showlegend\":false,\"x\":[0.6171875],\"y\":[0.2578125],\"z\":[0.125],\"type\":\"scatter3d\"}],\"name\":\"0.04\"},{\"data\":[{\"hovertemplate\":\"<b>%{hovertext}</b><br><br>threshold=0.05<br>TP=%{x}<br>TN=%{y}<br>FP=%{z}<extra></extra>\",\"hovertext\":[0.05],\"legendgroup\":\"\",\"marker\":{\"color\":\"#636efa\",\"symbol\":\"circle\"},\"mode\":\"markers\",\"name\":\"\",\"scene\":\"scene\",\"showlegend\":false,\"x\":[0.6171875],\"y\":[0.2734375],\"z\":[0.109375],\"type\":\"scatter3d\"}],\"name\":\"0.05\"},{\"data\":[{\"hovertemplate\":\"<b>%{hovertext}</b><br><br>threshold=0.06<br>TP=%{x}<br>TN=%{y}<br>FP=%{z}<extra></extra>\",\"hovertext\":[0.06],\"legendgroup\":\"\",\"marker\":{\"color\":\"#636efa\",\"symbol\":\"circle\"},\"mode\":\"markers\",\"name\":\"\",\"scene\":\"scene\",\"showlegend\":false,\"x\":[0.6171875],\"y\":[0.2890625],\"z\":[0.09375],\"type\":\"scatter3d\"}],\"name\":\"0.06\"},{\"data\":[{\"hovertemplate\":\"<b>%{hovertext}</b><br><br>threshold=0.07<br>TP=%{x}<br>TN=%{y}<br>FP=%{z}<extra></extra>\",\"hovertext\":[0.07],\"legendgroup\":\"\",\"marker\":{\"color\":\"#636efa\",\"symbol\":\"circle\"},\"mode\":\"markers\",\"name\":\"\",\"scene\":\"scene\",\"showlegend\":false,\"x\":[0.6171875],\"y\":[0.3046875],\"z\":[0.078125],\"type\":\"scatter3d\"}],\"name\":\"0.07\"},{\"data\":[{\"hovertemplate\":\"<b>%{hovertext}</b><br><br>threshold=0.08<br>TP=%{x}<br>TN=%{y}<br>FP=%{z}<extra></extra>\",\"hovertext\":[0.08],\"legendgroup\":\"\",\"marker\":{\"color\":\"#636efa\",\"symbol\":\"circle\"},\"mode\":\"markers\",\"name\":\"\",\"scene\":\"scene\",\"showlegend\":false,\"x\":[0.6171875],\"y\":[0.3125],\"z\":[0.0703125],\"type\":\"scatter3d\"}],\"name\":\"0.08\"},{\"data\":[{\"hovertemplate\":\"<b>%{hovertext}</b><br><br>threshold=0.09<br>TP=%{x}<br>TN=%{y}<br>FP=%{z}<extra></extra>\",\"hovertext\":[0.09],\"legendgroup\":\"\",\"marker\":{\"color\":\"#636efa\",\"symbol\":\"circle\"},\"mode\":\"markers\",\"name\":\"\",\"scene\":\"scene\",\"showlegend\":false,\"x\":[0.6171875],\"y\":[0.328125],\"z\":[0.0546875],\"type\":\"scatter3d\"}],\"name\":\"0.09\"},{\"data\":[{\"hovertemplate\":\"<b>%{hovertext}</b><br><br>threshold=0.1<br>TP=%{x}<br>TN=%{y}<br>FP=%{z}<extra></extra>\",\"hovertext\":[0.1],\"legendgroup\":\"\",\"marker\":{\"color\":\"#636efa\",\"symbol\":\"circle\"},\"mode\":\"markers\",\"name\":\"\",\"scene\":\"scene\",\"showlegend\":false,\"x\":[0.6171875],\"y\":[0.328125],\"z\":[0.0546875],\"type\":\"scatter3d\"}],\"name\":\"0.1\"},{\"data\":[{\"hovertemplate\":\"<b>%{hovertext}</b><br><br>threshold=0.11<br>TP=%{x}<br>TN=%{y}<br>FP=%{z}<extra></extra>\",\"hovertext\":[0.11],\"legendgroup\":\"\",\"marker\":{\"color\":\"#636efa\",\"symbol\":\"circle\"},\"mode\":\"markers\",\"name\":\"\",\"scene\":\"scene\",\"showlegend\":false,\"x\":[0.6171875],\"y\":[0.34375],\"z\":[0.0390625],\"type\":\"scatter3d\"}],\"name\":\"0.11\"},{\"data\":[{\"hovertemplate\":\"<b>%{hovertext}</b><br><br>threshold=0.12<br>TP=%{x}<br>TN=%{y}<br>FP=%{z}<extra></extra>\",\"hovertext\":[0.12],\"legendgroup\":\"\",\"marker\":{\"color\":\"#636efa\",\"symbol\":\"circle\"},\"mode\":\"markers\",\"name\":\"\",\"scene\":\"scene\",\"showlegend\":false,\"x\":[0.6171875],\"y\":[0.34375],\"z\":[0.0390625],\"type\":\"scatter3d\"}],\"name\":\"0.12\"},{\"data\":[{\"hovertemplate\":\"<b>%{hovertext}</b><br><br>threshold=0.13<br>TP=%{x}<br>TN=%{y}<br>FP=%{z}<extra></extra>\",\"hovertext\":[0.13],\"legendgroup\":\"\",\"marker\":{\"color\":\"#636efa\",\"symbol\":\"circle\"},\"mode\":\"markers\",\"name\":\"\",\"scene\":\"scene\",\"showlegend\":false,\"x\":[0.6171875],\"y\":[0.34375],\"z\":[0.0390625],\"type\":\"scatter3d\"}],\"name\":\"0.13\"},{\"data\":[{\"hovertemplate\":\"<b>%{hovertext}</b><br><br>threshold=0.14<br>TP=%{x}<br>TN=%{y}<br>FP=%{z}<extra></extra>\",\"hovertext\":[0.14],\"legendgroup\":\"\",\"marker\":{\"color\":\"#636efa\",\"symbol\":\"circle\"},\"mode\":\"markers\",\"name\":\"\",\"scene\":\"scene\",\"showlegend\":false,\"x\":[0.6171875],\"y\":[0.34375],\"z\":[0.0390625],\"type\":\"scatter3d\"}],\"name\":\"0.14\"},{\"data\":[{\"hovertemplate\":\"<b>%{hovertext}</b><br><br>threshold=0.15<br>TP=%{x}<br>TN=%{y}<br>FP=%{z}<extra></extra>\",\"hovertext\":[0.15],\"legendgroup\":\"\",\"marker\":{\"color\":\"#636efa\",\"symbol\":\"circle\"},\"mode\":\"markers\",\"name\":\"\",\"scene\":\"scene\",\"showlegend\":false,\"x\":[0.6171875],\"y\":[0.34375],\"z\":[0.0390625],\"type\":\"scatter3d\"}],\"name\":\"0.15\"},{\"data\":[{\"hovertemplate\":\"<b>%{hovertext}</b><br><br>threshold=0.16<br>TP=%{x}<br>TN=%{y}<br>FP=%{z}<extra></extra>\",\"hovertext\":[0.16],\"legendgroup\":\"\",\"marker\":{\"color\":\"#636efa\",\"symbol\":\"circle\"},\"mode\":\"markers\",\"name\":\"\",\"scene\":\"scene\",\"showlegend\":false,\"x\":[0.6171875],\"y\":[0.34375],\"z\":[0.0390625],\"type\":\"scatter3d\"}],\"name\":\"0.16\"},{\"data\":[{\"hovertemplate\":\"<b>%{hovertext}</b><br><br>threshold=0.17<br>TP=%{x}<br>TN=%{y}<br>FP=%{z}<extra></extra>\",\"hovertext\":[0.17],\"legendgroup\":\"\",\"marker\":{\"color\":\"#636efa\",\"symbol\":\"circle\"},\"mode\":\"markers\",\"name\":\"\",\"scene\":\"scene\",\"showlegend\":false,\"x\":[0.6171875],\"y\":[0.3515625],\"z\":[0.03125],\"type\":\"scatter3d\"}],\"name\":\"0.17\"},{\"data\":[{\"hovertemplate\":\"<b>%{hovertext}</b><br><br>threshold=0.18<br>TP=%{x}<br>TN=%{y}<br>FP=%{z}<extra></extra>\",\"hovertext\":[0.18],\"legendgroup\":\"\",\"marker\":{\"color\":\"#636efa\",\"symbol\":\"circle\"},\"mode\":\"markers\",\"name\":\"\",\"scene\":\"scene\",\"showlegend\":false,\"x\":[0.6171875],\"y\":[0.359375],\"z\":[0.0234375],\"type\":\"scatter3d\"}],\"name\":\"0.18\"},{\"data\":[{\"hovertemplate\":\"<b>%{hovertext}</b><br><br>threshold=0.19<br>TP=%{x}<br>TN=%{y}<br>FP=%{z}<extra></extra>\",\"hovertext\":[0.19],\"legendgroup\":\"\",\"marker\":{\"color\":\"#636efa\",\"symbol\":\"circle\"},\"mode\":\"markers\",\"name\":\"\",\"scene\":\"scene\",\"showlegend\":false,\"x\":[0.6171875],\"y\":[0.359375],\"z\":[0.0234375],\"type\":\"scatter3d\"}],\"name\":\"0.19\"},{\"data\":[{\"hovertemplate\":\"<b>%{hovertext}</b><br><br>threshold=0.2<br>TP=%{x}<br>TN=%{y}<br>FP=%{z}<extra></extra>\",\"hovertext\":[0.2],\"legendgroup\":\"\",\"marker\":{\"color\":\"#636efa\",\"symbol\":\"circle\"},\"mode\":\"markers\",\"name\":\"\",\"scene\":\"scene\",\"showlegend\":false,\"x\":[0.6171875],\"y\":[0.359375],\"z\":[0.0234375],\"type\":\"scatter3d\"}],\"name\":\"0.2\"},{\"data\":[{\"hovertemplate\":\"<b>%{hovertext}</b><br><br>threshold=0.21<br>TP=%{x}<br>TN=%{y}<br>FP=%{z}<extra></extra>\",\"hovertext\":[0.21],\"legendgroup\":\"\",\"marker\":{\"color\":\"#636efa\",\"symbol\":\"circle\"},\"mode\":\"markers\",\"name\":\"\",\"scene\":\"scene\",\"showlegend\":false,\"x\":[0.6171875],\"y\":[0.359375],\"z\":[0.0234375],\"type\":\"scatter3d\"}],\"name\":\"0.21\"},{\"data\":[{\"hovertemplate\":\"<b>%{hovertext}</b><br><br>threshold=0.22<br>TP=%{x}<br>TN=%{y}<br>FP=%{z}<extra></extra>\",\"hovertext\":[0.22],\"legendgroup\":\"\",\"marker\":{\"color\":\"#636efa\",\"symbol\":\"circle\"},\"mode\":\"markers\",\"name\":\"\",\"scene\":\"scene\",\"showlegend\":false,\"x\":[0.6171875],\"y\":[0.359375],\"z\":[0.0234375],\"type\":\"scatter3d\"}],\"name\":\"0.22\"},{\"data\":[{\"hovertemplate\":\"<b>%{hovertext}</b><br><br>threshold=0.23<br>TP=%{x}<br>TN=%{y}<br>FP=%{z}<extra></extra>\",\"hovertext\":[0.23],\"legendgroup\":\"\",\"marker\":{\"color\":\"#636efa\",\"symbol\":\"circle\"},\"mode\":\"markers\",\"name\":\"\",\"scene\":\"scene\",\"showlegend\":false,\"x\":[0.6171875],\"y\":[0.359375],\"z\":[0.0234375],\"type\":\"scatter3d\"}],\"name\":\"0.23\"},{\"data\":[{\"hovertemplate\":\"<b>%{hovertext}</b><br><br>threshold=0.24<br>TP=%{x}<br>TN=%{y}<br>FP=%{z}<extra></extra>\",\"hovertext\":[0.24],\"legendgroup\":\"\",\"marker\":{\"color\":\"#636efa\",\"symbol\":\"circle\"},\"mode\":\"markers\",\"name\":\"\",\"scene\":\"scene\",\"showlegend\":false,\"x\":[0.6171875],\"y\":[0.359375],\"z\":[0.0234375],\"type\":\"scatter3d\"}],\"name\":\"0.24\"},{\"data\":[{\"hovertemplate\":\"<b>%{hovertext}</b><br><br>threshold=0.25<br>TP=%{x}<br>TN=%{y}<br>FP=%{z}<extra></extra>\",\"hovertext\":[0.25],\"legendgroup\":\"\",\"marker\":{\"color\":\"#636efa\",\"symbol\":\"circle\"},\"mode\":\"markers\",\"name\":\"\",\"scene\":\"scene\",\"showlegend\":false,\"x\":[0.6171875],\"y\":[0.359375],\"z\":[0.0234375],\"type\":\"scatter3d\"}],\"name\":\"0.25\"},{\"data\":[{\"hovertemplate\":\"<b>%{hovertext}</b><br><br>threshold=0.26<br>TP=%{x}<br>TN=%{y}<br>FP=%{z}<extra></extra>\",\"hovertext\":[0.26],\"legendgroup\":\"\",\"marker\":{\"color\":\"#636efa\",\"symbol\":\"circle\"},\"mode\":\"markers\",\"name\":\"\",\"scene\":\"scene\",\"showlegend\":false,\"x\":[0.6171875],\"y\":[0.359375],\"z\":[0.0234375],\"type\":\"scatter3d\"}],\"name\":\"0.26\"},{\"data\":[{\"hovertemplate\":\"<b>%{hovertext}</b><br><br>threshold=0.27<br>TP=%{x}<br>TN=%{y}<br>FP=%{z}<extra></extra>\",\"hovertext\":[0.27],\"legendgroup\":\"\",\"marker\":{\"color\":\"#636efa\",\"symbol\":\"circle\"},\"mode\":\"markers\",\"name\":\"\",\"scene\":\"scene\",\"showlegend\":false,\"x\":[0.6171875],\"y\":[0.359375],\"z\":[0.0234375],\"type\":\"scatter3d\"}],\"name\":\"0.27\"},{\"data\":[{\"hovertemplate\":\"<b>%{hovertext}</b><br><br>threshold=0.28<br>TP=%{x}<br>TN=%{y}<br>FP=%{z}<extra></extra>\",\"hovertext\":[0.28],\"legendgroup\":\"\",\"marker\":{\"color\":\"#636efa\",\"symbol\":\"circle\"},\"mode\":\"markers\",\"name\":\"\",\"scene\":\"scene\",\"showlegend\":false,\"x\":[0.6171875],\"y\":[0.359375],\"z\":[0.0234375],\"type\":\"scatter3d\"}],\"name\":\"0.28\"},{\"data\":[{\"hovertemplate\":\"<b>%{hovertext}</b><br><br>threshold=0.29<br>TP=%{x}<br>TN=%{y}<br>FP=%{z}<extra></extra>\",\"hovertext\":[0.29],\"legendgroup\":\"\",\"marker\":{\"color\":\"#636efa\",\"symbol\":\"circle\"},\"mode\":\"markers\",\"name\":\"\",\"scene\":\"scene\",\"showlegend\":false,\"x\":[0.6171875],\"y\":[0.359375],\"z\":[0.0234375],\"type\":\"scatter3d\"}],\"name\":\"0.29\"},{\"data\":[{\"hovertemplate\":\"<b>%{hovertext}</b><br><br>threshold=0.3<br>TP=%{x}<br>TN=%{y}<br>FP=%{z}<extra></extra>\",\"hovertext\":[0.3],\"legendgroup\":\"\",\"marker\":{\"color\":\"#636efa\",\"symbol\":\"circle\"},\"mode\":\"markers\",\"name\":\"\",\"scene\":\"scene\",\"showlegend\":false,\"x\":[0.6171875],\"y\":[0.359375],\"z\":[0.0234375],\"type\":\"scatter3d\"}],\"name\":\"0.3\"},{\"data\":[{\"hovertemplate\":\"<b>%{hovertext}</b><br><br>threshold=0.31<br>TP=%{x}<br>TN=%{y}<br>FP=%{z}<extra></extra>\",\"hovertext\":[0.31],\"legendgroup\":\"\",\"marker\":{\"color\":\"#636efa\",\"symbol\":\"circle\"},\"mode\":\"markers\",\"name\":\"\",\"scene\":\"scene\",\"showlegend\":false,\"x\":[0.6171875],\"y\":[0.359375],\"z\":[0.0234375],\"type\":\"scatter3d\"}],\"name\":\"0.31\"},{\"data\":[{\"hovertemplate\":\"<b>%{hovertext}</b><br><br>threshold=0.32<br>TP=%{x}<br>TN=%{y}<br>FP=%{z}<extra></extra>\",\"hovertext\":[0.32],\"legendgroup\":\"\",\"marker\":{\"color\":\"#636efa\",\"symbol\":\"circle\"},\"mode\":\"markers\",\"name\":\"\",\"scene\":\"scene\",\"showlegend\":false,\"x\":[0.6171875],\"y\":[0.359375],\"z\":[0.0234375],\"type\":\"scatter3d\"}],\"name\":\"0.32\"},{\"data\":[{\"hovertemplate\":\"<b>%{hovertext}</b><br><br>threshold=0.33<br>TP=%{x}<br>TN=%{y}<br>FP=%{z}<extra></extra>\",\"hovertext\":[0.33],\"legendgroup\":\"\",\"marker\":{\"color\":\"#636efa\",\"symbol\":\"circle\"},\"mode\":\"markers\",\"name\":\"\",\"scene\":\"scene\",\"showlegend\":false,\"x\":[0.6171875],\"y\":[0.359375],\"z\":[0.0234375],\"type\":\"scatter3d\"}],\"name\":\"0.33\"},{\"data\":[{\"hovertemplate\":\"<b>%{hovertext}</b><br><br>threshold=0.34<br>TP=%{x}<br>TN=%{y}<br>FP=%{z}<extra></extra>\",\"hovertext\":[0.34],\"legendgroup\":\"\",\"marker\":{\"color\":\"#636efa\",\"symbol\":\"circle\"},\"mode\":\"markers\",\"name\":\"\",\"scene\":\"scene\",\"showlegend\":false,\"x\":[0.6171875],\"y\":[0.3671875],\"z\":[0.015625],\"type\":\"scatter3d\"}],\"name\":\"0.34\"},{\"data\":[{\"hovertemplate\":\"<b>%{hovertext}</b><br><br>threshold=0.35<br>TP=%{x}<br>TN=%{y}<br>FP=%{z}<extra></extra>\",\"hovertext\":[0.35],\"legendgroup\":\"\",\"marker\":{\"color\":\"#636efa\",\"symbol\":\"circle\"},\"mode\":\"markers\",\"name\":\"\",\"scene\":\"scene\",\"showlegend\":false,\"x\":[0.6171875],\"y\":[0.3671875],\"z\":[0.015625],\"type\":\"scatter3d\"}],\"name\":\"0.35\"},{\"data\":[{\"hovertemplate\":\"<b>%{hovertext}</b><br><br>threshold=0.36<br>TP=%{x}<br>TN=%{y}<br>FP=%{z}<extra></extra>\",\"hovertext\":[0.36],\"legendgroup\":\"\",\"marker\":{\"color\":\"#636efa\",\"symbol\":\"circle\"},\"mode\":\"markers\",\"name\":\"\",\"scene\":\"scene\",\"showlegend\":false,\"x\":[0.6171875],\"y\":[0.3671875],\"z\":[0.015625],\"type\":\"scatter3d\"}],\"name\":\"0.36\"},{\"data\":[{\"hovertemplate\":\"<b>%{hovertext}</b><br><br>threshold=0.37<br>TP=%{x}<br>TN=%{y}<br>FP=%{z}<extra></extra>\",\"hovertext\":[0.37],\"legendgroup\":\"\",\"marker\":{\"color\":\"#636efa\",\"symbol\":\"circle\"},\"mode\":\"markers\",\"name\":\"\",\"scene\":\"scene\",\"showlegend\":false,\"x\":[0.6171875],\"y\":[0.3671875],\"z\":[0.015625],\"type\":\"scatter3d\"}],\"name\":\"0.37\"},{\"data\":[{\"hovertemplate\":\"<b>%{hovertext}</b><br><br>threshold=0.38<br>TP=%{x}<br>TN=%{y}<br>FP=%{z}<extra></extra>\",\"hovertext\":[0.38],\"legendgroup\":\"\",\"marker\":{\"color\":\"#636efa\",\"symbol\":\"circle\"},\"mode\":\"markers\",\"name\":\"\",\"scene\":\"scene\",\"showlegend\":false,\"x\":[0.6171875],\"y\":[0.3671875],\"z\":[0.015625],\"type\":\"scatter3d\"}],\"name\":\"0.38\"},{\"data\":[{\"hovertemplate\":\"<b>%{hovertext}</b><br><br>threshold=0.39<br>TP=%{x}<br>TN=%{y}<br>FP=%{z}<extra></extra>\",\"hovertext\":[0.39],\"legendgroup\":\"\",\"marker\":{\"color\":\"#636efa\",\"symbol\":\"circle\"},\"mode\":\"markers\",\"name\":\"\",\"scene\":\"scene\",\"showlegend\":false,\"x\":[0.6171875],\"y\":[0.3671875],\"z\":[0.015625],\"type\":\"scatter3d\"}],\"name\":\"0.39\"},{\"data\":[{\"hovertemplate\":\"<b>%{hovertext}</b><br><br>threshold=0.4<br>TP=%{x}<br>TN=%{y}<br>FP=%{z}<extra></extra>\",\"hovertext\":[0.4],\"legendgroup\":\"\",\"marker\":{\"color\":\"#636efa\",\"symbol\":\"circle\"},\"mode\":\"markers\",\"name\":\"\",\"scene\":\"scene\",\"showlegend\":false,\"x\":[0.6171875],\"y\":[0.3671875],\"z\":[0.015625],\"type\":\"scatter3d\"}],\"name\":\"0.4\"},{\"data\":[{\"hovertemplate\":\"<b>%{hovertext}</b><br><br>threshold=0.41<br>TP=%{x}<br>TN=%{y}<br>FP=%{z}<extra></extra>\",\"hovertext\":[0.41],\"legendgroup\":\"\",\"marker\":{\"color\":\"#636efa\",\"symbol\":\"circle\"},\"mode\":\"markers\",\"name\":\"\",\"scene\":\"scene\",\"showlegend\":false,\"x\":[0.6171875],\"y\":[0.375],\"z\":[0.0078125],\"type\":\"scatter3d\"}],\"name\":\"0.41\"},{\"data\":[{\"hovertemplate\":\"<b>%{hovertext}</b><br><br>threshold=0.42<br>TP=%{x}<br>TN=%{y}<br>FP=%{z}<extra></extra>\",\"hovertext\":[0.42],\"legendgroup\":\"\",\"marker\":{\"color\":\"#636efa\",\"symbol\":\"circle\"},\"mode\":\"markers\",\"name\":\"\",\"scene\":\"scene\",\"showlegend\":false,\"x\":[0.6171875],\"y\":[0.375],\"z\":[0.0078125],\"type\":\"scatter3d\"}],\"name\":\"0.42\"},{\"data\":[{\"hovertemplate\":\"<b>%{hovertext}</b><br><br>threshold=0.43<br>TP=%{x}<br>TN=%{y}<br>FP=%{z}<extra></extra>\",\"hovertext\":[0.43],\"legendgroup\":\"\",\"marker\":{\"color\":\"#636efa\",\"symbol\":\"circle\"},\"mode\":\"markers\",\"name\":\"\",\"scene\":\"scene\",\"showlegend\":false,\"x\":[0.6171875],\"y\":[0.375],\"z\":[0.0078125],\"type\":\"scatter3d\"}],\"name\":\"0.43\"},{\"data\":[{\"hovertemplate\":\"<b>%{hovertext}</b><br><br>threshold=0.44<br>TP=%{x}<br>TN=%{y}<br>FP=%{z}<extra></extra>\",\"hovertext\":[0.44],\"legendgroup\":\"\",\"marker\":{\"color\":\"#636efa\",\"symbol\":\"circle\"},\"mode\":\"markers\",\"name\":\"\",\"scene\":\"scene\",\"showlegend\":false,\"x\":[0.6171875],\"y\":[0.375],\"z\":[0.0078125],\"type\":\"scatter3d\"}],\"name\":\"0.44\"},{\"data\":[{\"hovertemplate\":\"<b>%{hovertext}</b><br><br>threshold=0.45<br>TP=%{x}<br>TN=%{y}<br>FP=%{z}<extra></extra>\",\"hovertext\":[0.45],\"legendgroup\":\"\",\"marker\":{\"color\":\"#636efa\",\"symbol\":\"circle\"},\"mode\":\"markers\",\"name\":\"\",\"scene\":\"scene\",\"showlegend\":false,\"x\":[0.6171875],\"y\":[0.375],\"z\":[0.0078125],\"type\":\"scatter3d\"}],\"name\":\"0.45\"},{\"data\":[{\"hovertemplate\":\"<b>%{hovertext}</b><br><br>threshold=0.46<br>TP=%{x}<br>TN=%{y}<br>FP=%{z}<extra></extra>\",\"hovertext\":[0.46],\"legendgroup\":\"\",\"marker\":{\"color\":\"#636efa\",\"symbol\":\"circle\"},\"mode\":\"markers\",\"name\":\"\",\"scene\":\"scene\",\"showlegend\":false,\"x\":[0.6171875],\"y\":[0.375],\"z\":[0.0078125],\"type\":\"scatter3d\"}],\"name\":\"0.46\"},{\"data\":[{\"hovertemplate\":\"<b>%{hovertext}</b><br><br>threshold=0.47<br>TP=%{x}<br>TN=%{y}<br>FP=%{z}<extra></extra>\",\"hovertext\":[0.47],\"legendgroup\":\"\",\"marker\":{\"color\":\"#636efa\",\"symbol\":\"circle\"},\"mode\":\"markers\",\"name\":\"\",\"scene\":\"scene\",\"showlegend\":false,\"x\":[0.6171875],\"y\":[0.375],\"z\":[0.0078125],\"type\":\"scatter3d\"}],\"name\":\"0.47\"},{\"data\":[{\"hovertemplate\":\"<b>%{hovertext}</b><br><br>threshold=0.48<br>TP=%{x}<br>TN=%{y}<br>FP=%{z}<extra></extra>\",\"hovertext\":[0.48],\"legendgroup\":\"\",\"marker\":{\"color\":\"#636efa\",\"symbol\":\"circle\"},\"mode\":\"markers\",\"name\":\"\",\"scene\":\"scene\",\"showlegend\":false,\"x\":[0.6171875],\"y\":[0.375],\"z\":[0.0078125],\"type\":\"scatter3d\"}],\"name\":\"0.48\"},{\"data\":[{\"hovertemplate\":\"<b>%{hovertext}</b><br><br>threshold=0.49<br>TP=%{x}<br>TN=%{y}<br>FP=%{z}<extra></extra>\",\"hovertext\":[0.49],\"legendgroup\":\"\",\"marker\":{\"color\":\"#636efa\",\"symbol\":\"circle\"},\"mode\":\"markers\",\"name\":\"\",\"scene\":\"scene\",\"showlegend\":false,\"x\":[0.6171875],\"y\":[0.375],\"z\":[0.0078125],\"type\":\"scatter3d\"}],\"name\":\"0.49\"},{\"data\":[{\"hovertemplate\":\"<b>%{hovertext}</b><br><br>threshold=0.5<br>TP=%{x}<br>TN=%{y}<br>FP=%{z}<extra></extra>\",\"hovertext\":[0.5],\"legendgroup\":\"\",\"marker\":{\"color\":\"#636efa\",\"symbol\":\"circle\"},\"mode\":\"markers\",\"name\":\"\",\"scene\":\"scene\",\"showlegend\":false,\"x\":[0.6171875],\"y\":[0.375],\"z\":[0.0078125],\"type\":\"scatter3d\"}],\"name\":\"0.5\"},{\"data\":[{\"hovertemplate\":\"<b>%{hovertext}</b><br><br>threshold=0.51<br>TP=%{x}<br>TN=%{y}<br>FP=%{z}<extra></extra>\",\"hovertext\":[0.51],\"legendgroup\":\"\",\"marker\":{\"color\":\"#636efa\",\"symbol\":\"circle\"},\"mode\":\"markers\",\"name\":\"\",\"scene\":\"scene\",\"showlegend\":false,\"x\":[0.6171875],\"y\":[0.375],\"z\":[0.0078125],\"type\":\"scatter3d\"}],\"name\":\"0.51\"},{\"data\":[{\"hovertemplate\":\"<b>%{hovertext}</b><br><br>threshold=0.52<br>TP=%{x}<br>TN=%{y}<br>FP=%{z}<extra></extra>\",\"hovertext\":[0.52],\"legendgroup\":\"\",\"marker\":{\"color\":\"#636efa\",\"symbol\":\"circle\"},\"mode\":\"markers\",\"name\":\"\",\"scene\":\"scene\",\"showlegend\":false,\"x\":[0.6171875],\"y\":[0.375],\"z\":[0.0078125],\"type\":\"scatter3d\"}],\"name\":\"0.52\"},{\"data\":[{\"hovertemplate\":\"<b>%{hovertext}</b><br><br>threshold=0.53<br>TP=%{x}<br>TN=%{y}<br>FP=%{z}<extra></extra>\",\"hovertext\":[0.53],\"legendgroup\":\"\",\"marker\":{\"color\":\"#636efa\",\"symbol\":\"circle\"},\"mode\":\"markers\",\"name\":\"\",\"scene\":\"scene\",\"showlegend\":false,\"x\":[0.6171875],\"y\":[0.375],\"z\":[0.0078125],\"type\":\"scatter3d\"}],\"name\":\"0.53\"},{\"data\":[{\"hovertemplate\":\"<b>%{hovertext}</b><br><br>threshold=0.54<br>TP=%{x}<br>TN=%{y}<br>FP=%{z}<extra></extra>\",\"hovertext\":[0.54],\"legendgroup\":\"\",\"marker\":{\"color\":\"#636efa\",\"symbol\":\"circle\"},\"mode\":\"markers\",\"name\":\"\",\"scene\":\"scene\",\"showlegend\":false,\"x\":[0.6171875],\"y\":[0.375],\"z\":[0.0078125],\"type\":\"scatter3d\"}],\"name\":\"0.54\"},{\"data\":[{\"hovertemplate\":\"<b>%{hovertext}</b><br><br>threshold=0.55<br>TP=%{x}<br>TN=%{y}<br>FP=%{z}<extra></extra>\",\"hovertext\":[0.55],\"legendgroup\":\"\",\"marker\":{\"color\":\"#636efa\",\"symbol\":\"circle\"},\"mode\":\"markers\",\"name\":\"\",\"scene\":\"scene\",\"showlegend\":false,\"x\":[0.6171875],\"y\":[0.375],\"z\":[0.0078125],\"type\":\"scatter3d\"}],\"name\":\"0.55\"},{\"data\":[{\"hovertemplate\":\"<b>%{hovertext}</b><br><br>threshold=0.56<br>TP=%{x}<br>TN=%{y}<br>FP=%{z}<extra></extra>\",\"hovertext\":[0.56],\"legendgroup\":\"\",\"marker\":{\"color\":\"#636efa\",\"symbol\":\"circle\"},\"mode\":\"markers\",\"name\":\"\",\"scene\":\"scene\",\"showlegend\":false,\"x\":[0.6171875],\"y\":[0.375],\"z\":[0.0078125],\"type\":\"scatter3d\"}],\"name\":\"0.56\"},{\"data\":[{\"hovertemplate\":\"<b>%{hovertext}</b><br><br>threshold=0.57<br>TP=%{x}<br>TN=%{y}<br>FP=%{z}<extra></extra>\",\"hovertext\":[0.57],\"legendgroup\":\"\",\"marker\":{\"color\":\"#636efa\",\"symbol\":\"circle\"},\"mode\":\"markers\",\"name\":\"\",\"scene\":\"scene\",\"showlegend\":false,\"x\":[0.6171875],\"y\":[0.375],\"z\":[0.0078125],\"type\":\"scatter3d\"}],\"name\":\"0.57\"},{\"data\":[{\"hovertemplate\":\"<b>%{hovertext}</b><br><br>threshold=0.58<br>TP=%{x}<br>TN=%{y}<br>FP=%{z}<extra></extra>\",\"hovertext\":[0.58],\"legendgroup\":\"\",\"marker\":{\"color\":\"#636efa\",\"symbol\":\"circle\"},\"mode\":\"markers\",\"name\":\"\",\"scene\":\"scene\",\"showlegend\":false,\"x\":[0.6171875],\"y\":[0.375],\"z\":[0.0078125],\"type\":\"scatter3d\"}],\"name\":\"0.58\"},{\"data\":[{\"hovertemplate\":\"<b>%{hovertext}</b><br><br>threshold=0.59<br>TP=%{x}<br>TN=%{y}<br>FP=%{z}<extra></extra>\",\"hovertext\":[0.59],\"legendgroup\":\"\",\"marker\":{\"color\":\"#636efa\",\"symbol\":\"circle\"},\"mode\":\"markers\",\"name\":\"\",\"scene\":\"scene\",\"showlegend\":false,\"x\":[0.609375],\"y\":[0.375],\"z\":[0.0078125],\"type\":\"scatter3d\"}],\"name\":\"0.59\"},{\"data\":[{\"hovertemplate\":\"<b>%{hovertext}</b><br><br>threshold=0.6<br>TP=%{x}<br>TN=%{y}<br>FP=%{z}<extra></extra>\",\"hovertext\":[0.6],\"legendgroup\":\"\",\"marker\":{\"color\":\"#636efa\",\"symbol\":\"circle\"},\"mode\":\"markers\",\"name\":\"\",\"scene\":\"scene\",\"showlegend\":false,\"x\":[0.609375],\"y\":[0.375],\"z\":[0.0078125],\"type\":\"scatter3d\"}],\"name\":\"0.6\"},{\"data\":[{\"hovertemplate\":\"<b>%{hovertext}</b><br><br>threshold=0.61<br>TP=%{x}<br>TN=%{y}<br>FP=%{z}<extra></extra>\",\"hovertext\":[0.61],\"legendgroup\":\"\",\"marker\":{\"color\":\"#636efa\",\"symbol\":\"circle\"},\"mode\":\"markers\",\"name\":\"\",\"scene\":\"scene\",\"showlegend\":false,\"x\":[0.609375],\"y\":[0.375],\"z\":[0.0078125],\"type\":\"scatter3d\"}],\"name\":\"0.61\"},{\"data\":[{\"hovertemplate\":\"<b>%{hovertext}</b><br><br>threshold=0.62<br>TP=%{x}<br>TN=%{y}<br>FP=%{z}<extra></extra>\",\"hovertext\":[0.62],\"legendgroup\":\"\",\"marker\":{\"color\":\"#636efa\",\"symbol\":\"circle\"},\"mode\":\"markers\",\"name\":\"\",\"scene\":\"scene\",\"showlegend\":false,\"x\":[0.609375],\"y\":[0.375],\"z\":[0.0078125],\"type\":\"scatter3d\"}],\"name\":\"0.62\"},{\"data\":[{\"hovertemplate\":\"<b>%{hovertext}</b><br><br>threshold=0.63<br>TP=%{x}<br>TN=%{y}<br>FP=%{z}<extra></extra>\",\"hovertext\":[0.63],\"legendgroup\":\"\",\"marker\":{\"color\":\"#636efa\",\"symbol\":\"circle\"},\"mode\":\"markers\",\"name\":\"\",\"scene\":\"scene\",\"showlegend\":false,\"x\":[0.609375],\"y\":[0.375],\"z\":[0.0078125],\"type\":\"scatter3d\"}],\"name\":\"0.63\"},{\"data\":[{\"hovertemplate\":\"<b>%{hovertext}</b><br><br>threshold=0.64<br>TP=%{x}<br>TN=%{y}<br>FP=%{z}<extra></extra>\",\"hovertext\":[0.64],\"legendgroup\":\"\",\"marker\":{\"color\":\"#636efa\",\"symbol\":\"circle\"},\"mode\":\"markers\",\"name\":\"\",\"scene\":\"scene\",\"showlegend\":false,\"x\":[0.609375],\"y\":[0.375],\"z\":[0.0078125],\"type\":\"scatter3d\"}],\"name\":\"0.64\"},{\"data\":[{\"hovertemplate\":\"<b>%{hovertext}</b><br><br>threshold=0.65<br>TP=%{x}<br>TN=%{y}<br>FP=%{z}<extra></extra>\",\"hovertext\":[0.65],\"legendgroup\":\"\",\"marker\":{\"color\":\"#636efa\",\"symbol\":\"circle\"},\"mode\":\"markers\",\"name\":\"\",\"scene\":\"scene\",\"showlegend\":false,\"x\":[0.609375],\"y\":[0.375],\"z\":[0.0078125],\"type\":\"scatter3d\"}],\"name\":\"0.65\"},{\"data\":[{\"hovertemplate\":\"<b>%{hovertext}</b><br><br>threshold=0.66<br>TP=%{x}<br>TN=%{y}<br>FP=%{z}<extra></extra>\",\"hovertext\":[0.66],\"legendgroup\":\"\",\"marker\":{\"color\":\"#636efa\",\"symbol\":\"circle\"},\"mode\":\"markers\",\"name\":\"\",\"scene\":\"scene\",\"showlegend\":false,\"x\":[0.609375],\"y\":[0.3828125],\"z\":[0.0],\"type\":\"scatter3d\"}],\"name\":\"0.66\"},{\"data\":[{\"hovertemplate\":\"<b>%{hovertext}</b><br><br>threshold=0.67<br>TP=%{x}<br>TN=%{y}<br>FP=%{z}<extra></extra>\",\"hovertext\":[0.67],\"legendgroup\":\"\",\"marker\":{\"color\":\"#636efa\",\"symbol\":\"circle\"},\"mode\":\"markers\",\"name\":\"\",\"scene\":\"scene\",\"showlegend\":false,\"x\":[0.6015625],\"y\":[0.3828125],\"z\":[0.0],\"type\":\"scatter3d\"}],\"name\":\"0.67\"},{\"data\":[{\"hovertemplate\":\"<b>%{hovertext}</b><br><br>threshold=0.68<br>TP=%{x}<br>TN=%{y}<br>FP=%{z}<extra></extra>\",\"hovertext\":[0.68],\"legendgroup\":\"\",\"marker\":{\"color\":\"#636efa\",\"symbol\":\"circle\"},\"mode\":\"markers\",\"name\":\"\",\"scene\":\"scene\",\"showlegend\":false,\"x\":[0.6015625],\"y\":[0.3828125],\"z\":[0.0],\"type\":\"scatter3d\"}],\"name\":\"0.68\"},{\"data\":[{\"hovertemplate\":\"<b>%{hovertext}</b><br><br>threshold=0.69<br>TP=%{x}<br>TN=%{y}<br>FP=%{z}<extra></extra>\",\"hovertext\":[0.69],\"legendgroup\":\"\",\"marker\":{\"color\":\"#636efa\",\"symbol\":\"circle\"},\"mode\":\"markers\",\"name\":\"\",\"scene\":\"scene\",\"showlegend\":false,\"x\":[0.6015625],\"y\":[0.3828125],\"z\":[0.0],\"type\":\"scatter3d\"}],\"name\":\"0.69\"},{\"data\":[{\"hovertemplate\":\"<b>%{hovertext}</b><br><br>threshold=0.7<br>TP=%{x}<br>TN=%{y}<br>FP=%{z}<extra></extra>\",\"hovertext\":[0.7],\"legendgroup\":\"\",\"marker\":{\"color\":\"#636efa\",\"symbol\":\"circle\"},\"mode\":\"markers\",\"name\":\"\",\"scene\":\"scene\",\"showlegend\":false,\"x\":[0.6015625],\"y\":[0.3828125],\"z\":[0.0],\"type\":\"scatter3d\"}],\"name\":\"0.7\"},{\"data\":[{\"hovertemplate\":\"<b>%{hovertext}</b><br><br>threshold=0.71<br>TP=%{x}<br>TN=%{y}<br>FP=%{z}<extra></extra>\",\"hovertext\":[0.71],\"legendgroup\":\"\",\"marker\":{\"color\":\"#636efa\",\"symbol\":\"circle\"},\"mode\":\"markers\",\"name\":\"\",\"scene\":\"scene\",\"showlegend\":false,\"x\":[0.6015625],\"y\":[0.3828125],\"z\":[0.0],\"type\":\"scatter3d\"}],\"name\":\"0.71\"},{\"data\":[{\"hovertemplate\":\"<b>%{hovertext}</b><br><br>threshold=0.72<br>TP=%{x}<br>TN=%{y}<br>FP=%{z}<extra></extra>\",\"hovertext\":[0.72],\"legendgroup\":\"\",\"marker\":{\"color\":\"#636efa\",\"symbol\":\"circle\"},\"mode\":\"markers\",\"name\":\"\",\"scene\":\"scene\",\"showlegend\":false,\"x\":[0.6015625],\"y\":[0.3828125],\"z\":[0.0],\"type\":\"scatter3d\"}],\"name\":\"0.72\"},{\"data\":[{\"hovertemplate\":\"<b>%{hovertext}</b><br><br>threshold=0.73<br>TP=%{x}<br>TN=%{y}<br>FP=%{z}<extra></extra>\",\"hovertext\":[0.73],\"legendgroup\":\"\",\"marker\":{\"color\":\"#636efa\",\"symbol\":\"circle\"},\"mode\":\"markers\",\"name\":\"\",\"scene\":\"scene\",\"showlegend\":false,\"x\":[0.6015625],\"y\":[0.3828125],\"z\":[0.0],\"type\":\"scatter3d\"}],\"name\":\"0.73\"},{\"data\":[{\"hovertemplate\":\"<b>%{hovertext}</b><br><br>threshold=0.74<br>TP=%{x}<br>TN=%{y}<br>FP=%{z}<extra></extra>\",\"hovertext\":[0.74],\"legendgroup\":\"\",\"marker\":{\"color\":\"#636efa\",\"symbol\":\"circle\"},\"mode\":\"markers\",\"name\":\"\",\"scene\":\"scene\",\"showlegend\":false,\"x\":[0.59375],\"y\":[0.3828125],\"z\":[0.0],\"type\":\"scatter3d\"}],\"name\":\"0.74\"},{\"data\":[{\"hovertemplate\":\"<b>%{hovertext}</b><br><br>threshold=0.75<br>TP=%{x}<br>TN=%{y}<br>FP=%{z}<extra></extra>\",\"hovertext\":[0.75],\"legendgroup\":\"\",\"marker\":{\"color\":\"#636efa\",\"symbol\":\"circle\"},\"mode\":\"markers\",\"name\":\"\",\"scene\":\"scene\",\"showlegend\":false,\"x\":[0.59375],\"y\":[0.3828125],\"z\":[0.0],\"type\":\"scatter3d\"}],\"name\":\"0.75\"},{\"data\":[{\"hovertemplate\":\"<b>%{hovertext}</b><br><br>threshold=0.76<br>TP=%{x}<br>TN=%{y}<br>FP=%{z}<extra></extra>\",\"hovertext\":[0.76],\"legendgroup\":\"\",\"marker\":{\"color\":\"#636efa\",\"symbol\":\"circle\"},\"mode\":\"markers\",\"name\":\"\",\"scene\":\"scene\",\"showlegend\":false,\"x\":[0.59375],\"y\":[0.3828125],\"z\":[0.0],\"type\":\"scatter3d\"}],\"name\":\"0.76\"},{\"data\":[{\"hovertemplate\":\"<b>%{hovertext}</b><br><br>threshold=0.77<br>TP=%{x}<br>TN=%{y}<br>FP=%{z}<extra></extra>\",\"hovertext\":[0.77],\"legendgroup\":\"\",\"marker\":{\"color\":\"#636efa\",\"symbol\":\"circle\"},\"mode\":\"markers\",\"name\":\"\",\"scene\":\"scene\",\"showlegend\":false,\"x\":[0.59375],\"y\":[0.3828125],\"z\":[0.0],\"type\":\"scatter3d\"}],\"name\":\"0.77\"},{\"data\":[{\"hovertemplate\":\"<b>%{hovertext}</b><br><br>threshold=0.78<br>TP=%{x}<br>TN=%{y}<br>FP=%{z}<extra></extra>\",\"hovertext\":[0.78],\"legendgroup\":\"\",\"marker\":{\"color\":\"#636efa\",\"symbol\":\"circle\"},\"mode\":\"markers\",\"name\":\"\",\"scene\":\"scene\",\"showlegend\":false,\"x\":[0.59375],\"y\":[0.3828125],\"z\":[0.0],\"type\":\"scatter3d\"}],\"name\":\"0.78\"},{\"data\":[{\"hovertemplate\":\"<b>%{hovertext}</b><br><br>threshold=0.79<br>TP=%{x}<br>TN=%{y}<br>FP=%{z}<extra></extra>\",\"hovertext\":[0.79],\"legendgroup\":\"\",\"marker\":{\"color\":\"#636efa\",\"symbol\":\"circle\"},\"mode\":\"markers\",\"name\":\"\",\"scene\":\"scene\",\"showlegend\":false,\"x\":[0.5859375],\"y\":[0.3828125],\"z\":[0.0],\"type\":\"scatter3d\"}],\"name\":\"0.79\"},{\"data\":[{\"hovertemplate\":\"<b>%{hovertext}</b><br><br>threshold=0.8<br>TP=%{x}<br>TN=%{y}<br>FP=%{z}<extra></extra>\",\"hovertext\":[0.8],\"legendgroup\":\"\",\"marker\":{\"color\":\"#636efa\",\"symbol\":\"circle\"},\"mode\":\"markers\",\"name\":\"\",\"scene\":\"scene\",\"showlegend\":false,\"x\":[0.5859375],\"y\":[0.3828125],\"z\":[0.0],\"type\":\"scatter3d\"}],\"name\":\"0.8\"},{\"data\":[{\"hovertemplate\":\"<b>%{hovertext}</b><br><br>threshold=0.81<br>TP=%{x}<br>TN=%{y}<br>FP=%{z}<extra></extra>\",\"hovertext\":[0.81],\"legendgroup\":\"\",\"marker\":{\"color\":\"#636efa\",\"symbol\":\"circle\"},\"mode\":\"markers\",\"name\":\"\",\"scene\":\"scene\",\"showlegend\":false,\"x\":[0.5859375],\"y\":[0.3828125],\"z\":[0.0],\"type\":\"scatter3d\"}],\"name\":\"0.81\"},{\"data\":[{\"hovertemplate\":\"<b>%{hovertext}</b><br><br>threshold=0.82<br>TP=%{x}<br>TN=%{y}<br>FP=%{z}<extra></extra>\",\"hovertext\":[0.82],\"legendgroup\":\"\",\"marker\":{\"color\":\"#636efa\",\"symbol\":\"circle\"},\"mode\":\"markers\",\"name\":\"\",\"scene\":\"scene\",\"showlegend\":false,\"x\":[0.5859375],\"y\":[0.3828125],\"z\":[0.0],\"type\":\"scatter3d\"}],\"name\":\"0.82\"},{\"data\":[{\"hovertemplate\":\"<b>%{hovertext}</b><br><br>threshold=0.83<br>TP=%{x}<br>TN=%{y}<br>FP=%{z}<extra></extra>\",\"hovertext\":[0.83],\"legendgroup\":\"\",\"marker\":{\"color\":\"#636efa\",\"symbol\":\"circle\"},\"mode\":\"markers\",\"name\":\"\",\"scene\":\"scene\",\"showlegend\":false,\"x\":[0.578125],\"y\":[0.3828125],\"z\":[0.0],\"type\":\"scatter3d\"}],\"name\":\"0.83\"},{\"data\":[{\"hovertemplate\":\"<b>%{hovertext}</b><br><br>threshold=0.84<br>TP=%{x}<br>TN=%{y}<br>FP=%{z}<extra></extra>\",\"hovertext\":[0.84],\"legendgroup\":\"\",\"marker\":{\"color\":\"#636efa\",\"symbol\":\"circle\"},\"mode\":\"markers\",\"name\":\"\",\"scene\":\"scene\",\"showlegend\":false,\"x\":[0.578125],\"y\":[0.3828125],\"z\":[0.0],\"type\":\"scatter3d\"}],\"name\":\"0.84\"},{\"data\":[{\"hovertemplate\":\"<b>%{hovertext}</b><br><br>threshold=0.85<br>TP=%{x}<br>TN=%{y}<br>FP=%{z}<extra></extra>\",\"hovertext\":[0.85],\"legendgroup\":\"\",\"marker\":{\"color\":\"#636efa\",\"symbol\":\"circle\"},\"mode\":\"markers\",\"name\":\"\",\"scene\":\"scene\",\"showlegend\":false,\"x\":[0.578125],\"y\":[0.3828125],\"z\":[0.0],\"type\":\"scatter3d\"}],\"name\":\"0.85\"},{\"data\":[{\"hovertemplate\":\"<b>%{hovertext}</b><br><br>threshold=0.86<br>TP=%{x}<br>TN=%{y}<br>FP=%{z}<extra></extra>\",\"hovertext\":[0.86],\"legendgroup\":\"\",\"marker\":{\"color\":\"#636efa\",\"symbol\":\"circle\"},\"mode\":\"markers\",\"name\":\"\",\"scene\":\"scene\",\"showlegend\":false,\"x\":[0.578125],\"y\":[0.3828125],\"z\":[0.0],\"type\":\"scatter3d\"}],\"name\":\"0.86\"},{\"data\":[{\"hovertemplate\":\"<b>%{hovertext}</b><br><br>threshold=0.87<br>TP=%{x}<br>TN=%{y}<br>FP=%{z}<extra></extra>\",\"hovertext\":[0.87],\"legendgroup\":\"\",\"marker\":{\"color\":\"#636efa\",\"symbol\":\"circle\"},\"mode\":\"markers\",\"name\":\"\",\"scene\":\"scene\",\"showlegend\":false,\"x\":[0.5703125],\"y\":[0.3828125],\"z\":[0.0],\"type\":\"scatter3d\"}],\"name\":\"0.87\"},{\"data\":[{\"hovertemplate\":\"<b>%{hovertext}</b><br><br>threshold=0.88<br>TP=%{x}<br>TN=%{y}<br>FP=%{z}<extra></extra>\",\"hovertext\":[0.88],\"legendgroup\":\"\",\"marker\":{\"color\":\"#636efa\",\"symbol\":\"circle\"},\"mode\":\"markers\",\"name\":\"\",\"scene\":\"scene\",\"showlegend\":false,\"x\":[0.5703125],\"y\":[0.3828125],\"z\":[0.0],\"type\":\"scatter3d\"}],\"name\":\"0.88\"},{\"data\":[{\"hovertemplate\":\"<b>%{hovertext}</b><br><br>threshold=0.89<br>TP=%{x}<br>TN=%{y}<br>FP=%{z}<extra></extra>\",\"hovertext\":[0.89],\"legendgroup\":\"\",\"marker\":{\"color\":\"#636efa\",\"symbol\":\"circle\"},\"mode\":\"markers\",\"name\":\"\",\"scene\":\"scene\",\"showlegend\":false,\"x\":[0.5625],\"y\":[0.3828125],\"z\":[0.0],\"type\":\"scatter3d\"}],\"name\":\"0.89\"},{\"data\":[{\"hovertemplate\":\"<b>%{hovertext}</b><br><br>threshold=0.9<br>TP=%{x}<br>TN=%{y}<br>FP=%{z}<extra></extra>\",\"hovertext\":[0.9],\"legendgroup\":\"\",\"marker\":{\"color\":\"#636efa\",\"symbol\":\"circle\"},\"mode\":\"markers\",\"name\":\"\",\"scene\":\"scene\",\"showlegend\":false,\"x\":[0.5546875],\"y\":[0.3828125],\"z\":[0.0],\"type\":\"scatter3d\"}],\"name\":\"0.9\"},{\"data\":[{\"hovertemplate\":\"<b>%{hovertext}</b><br><br>threshold=0.91<br>TP=%{x}<br>TN=%{y}<br>FP=%{z}<extra></extra>\",\"hovertext\":[0.91],\"legendgroup\":\"\",\"marker\":{\"color\":\"#636efa\",\"symbol\":\"circle\"},\"mode\":\"markers\",\"name\":\"\",\"scene\":\"scene\",\"showlegend\":false,\"x\":[0.5546875],\"y\":[0.3828125],\"z\":[0.0],\"type\":\"scatter3d\"}],\"name\":\"0.91\"},{\"data\":[{\"hovertemplate\":\"<b>%{hovertext}</b><br><br>threshold=0.92<br>TP=%{x}<br>TN=%{y}<br>FP=%{z}<extra></extra>\",\"hovertext\":[0.92],\"legendgroup\":\"\",\"marker\":{\"color\":\"#636efa\",\"symbol\":\"circle\"},\"mode\":\"markers\",\"name\":\"\",\"scene\":\"scene\",\"showlegend\":false,\"x\":[0.5546875],\"y\":[0.3828125],\"z\":[0.0],\"type\":\"scatter3d\"}],\"name\":\"0.92\"},{\"data\":[{\"hovertemplate\":\"<b>%{hovertext}</b><br><br>threshold=0.93<br>TP=%{x}<br>TN=%{y}<br>FP=%{z}<extra></extra>\",\"hovertext\":[0.93],\"legendgroup\":\"\",\"marker\":{\"color\":\"#636efa\",\"symbol\":\"circle\"},\"mode\":\"markers\",\"name\":\"\",\"scene\":\"scene\",\"showlegend\":false,\"x\":[0.546875],\"y\":[0.3828125],\"z\":[0.0],\"type\":\"scatter3d\"}],\"name\":\"0.93\"},{\"data\":[{\"hovertemplate\":\"<b>%{hovertext}</b><br><br>threshold=0.94<br>TP=%{x}<br>TN=%{y}<br>FP=%{z}<extra></extra>\",\"hovertext\":[0.94],\"legendgroup\":\"\",\"marker\":{\"color\":\"#636efa\",\"symbol\":\"circle\"},\"mode\":\"markers\",\"name\":\"\",\"scene\":\"scene\",\"showlegend\":false,\"x\":[0.5390625],\"y\":[0.3828125],\"z\":[0.0],\"type\":\"scatter3d\"}],\"name\":\"0.94\"},{\"data\":[{\"hovertemplate\":\"<b>%{hovertext}</b><br><br>threshold=0.95<br>TP=%{x}<br>TN=%{y}<br>FP=%{z}<extra></extra>\",\"hovertext\":[0.95],\"legendgroup\":\"\",\"marker\":{\"color\":\"#636efa\",\"symbol\":\"circle\"},\"mode\":\"markers\",\"name\":\"\",\"scene\":\"scene\",\"showlegend\":false,\"x\":[0.5234375],\"y\":[0.3828125],\"z\":[0.0],\"type\":\"scatter3d\"}],\"name\":\"0.95\"},{\"data\":[{\"hovertemplate\":\"<b>%{hovertext}</b><br><br>threshold=0.96<br>TP=%{x}<br>TN=%{y}<br>FP=%{z}<extra></extra>\",\"hovertext\":[0.96],\"legendgroup\":\"\",\"marker\":{\"color\":\"#636efa\",\"symbol\":\"circle\"},\"mode\":\"markers\",\"name\":\"\",\"scene\":\"scene\",\"showlegend\":false,\"x\":[0.5078125],\"y\":[0.3828125],\"z\":[0.0],\"type\":\"scatter3d\"}],\"name\":\"0.96\"},{\"data\":[{\"hovertemplate\":\"<b>%{hovertext}</b><br><br>threshold=0.97<br>TP=%{x}<br>TN=%{y}<br>FP=%{z}<extra></extra>\",\"hovertext\":[0.97],\"legendgroup\":\"\",\"marker\":{\"color\":\"#636efa\",\"symbol\":\"circle\"},\"mode\":\"markers\",\"name\":\"\",\"scene\":\"scene\",\"showlegend\":false,\"x\":[0.4765625],\"y\":[0.3828125],\"z\":[0.0],\"type\":\"scatter3d\"}],\"name\":\"0.97\"},{\"data\":[{\"hovertemplate\":\"<b>%{hovertext}</b><br><br>threshold=0.98<br>TP=%{x}<br>TN=%{y}<br>FP=%{z}<extra></extra>\",\"hovertext\":[0.98],\"legendgroup\":\"\",\"marker\":{\"color\":\"#636efa\",\"symbol\":\"circle\"},\"mode\":\"markers\",\"name\":\"\",\"scene\":\"scene\",\"showlegend\":false,\"x\":[0.453125],\"y\":[0.3828125],\"z\":[0.0],\"type\":\"scatter3d\"}],\"name\":\"0.98\"},{\"data\":[{\"hovertemplate\":\"<b>%{hovertext}</b><br><br>threshold=0.99<br>TP=%{x}<br>TN=%{y}<br>FP=%{z}<extra></extra>\",\"hovertext\":[0.99],\"legendgroup\":\"\",\"marker\":{\"color\":\"#636efa\",\"symbol\":\"circle\"},\"mode\":\"markers\",\"name\":\"\",\"scene\":\"scene\",\"showlegend\":false,\"x\":[0.421875],\"y\":[0.3828125],\"z\":[0.0],\"type\":\"scatter3d\"}],\"name\":\"0.99\"},{\"data\":[{\"hovertemplate\":\"<b>%{hovertext}</b><br><br>threshold=1.0<br>TP=%{x}<br>TN=%{y}<br>FP=%{z}<extra></extra>\",\"hovertext\":[1.0],\"legendgroup\":\"\",\"marker\":{\"color\":\"#636efa\",\"symbol\":\"circle\"},\"mode\":\"markers\",\"name\":\"\",\"scene\":\"scene\",\"showlegend\":false,\"x\":[0.0],\"y\":[0.3828125],\"z\":[0.0],\"type\":\"scatter3d\"}],\"name\":\"1.0\"}]);\n",
       "                        }).then(function(){\n",
       "                            \n",
       "var gd = document.getElementById('b92f4f6f-ab11-4e16-834a-852073b6eb77');\n",
       "var x = new MutationObserver(function (mutations, observer) {{\n",
       "        var display = window.getComputedStyle(gd).display;\n",
       "        if (!display || display === 'none') {{\n",
       "            console.log([gd, 'removed!']);\n",
       "            Plotly.purge(gd);\n",
       "            observer.disconnect();\n",
       "        }}\n",
       "}});\n",
       "\n",
       "// Listen for the removal of the full notebook cells\n",
       "var notebookContainer = gd.closest('#notebook-container');\n",
       "if (notebookContainer) {{\n",
       "    x.observe(notebookContainer, {childList: true});\n",
       "}}\n",
       "\n",
       "// Listen for the clearing of the current output cell\n",
       "var outputEl = gd.closest('.output');\n",
       "if (outputEl) {{\n",
       "    x.observe(outputEl, {childList: true});\n",
       "}}\n",
       "\n",
       "                        })                };                });            </script>        </div>"
      ]
     },
     "metadata": {},
     "output_type": "display_data"
    }
   ],
   "source": [
    "#QUI LA VISUALIZZAZIONE CON LO SLIDER - anche se in effetti non ha troppo senso poi vedendo il random case \n",
    "\n",
    "#QUINDI AL VARIARE DEL THRESHOLD COME SI SPOSTA IL PUNTO \n",
    "#PER MOSTRARE LA TRAIETTORIA IN MANIERA DINAMICA \n",
    "\n",
    "\n",
    "import plotly.express as px \n",
    "\n",
    "fig = px.scatter_3d(coords, \n",
    "                    x='TP',\n",
    "                    y='TN',\n",
    "                    z='FP',\n",
    "                    animation_frame='threshold',\n",
    "                    size_max=18,\n",
    "                    hover_name ='threshold',\n",
    "                    range_x=[0,1], \n",
    "                    range_y=[0,1],\n",
    "                    range_z=[0,1]) \n",
    "\n",
    "\n",
    "fig.update_traces(marker=dict(size=12,\n",
    "                              line=dict(width=2,\n",
    "                                        color='yellow')),\n",
    "                  selector=dict(mode='circle-open'))\n",
    "\n",
    "\n",
    "\n",
    "fig.add_trace(go.Figure(data=[\n",
    "    go.Mesh3d(\n",
    "        x=[0, 0, 0, 1], \n",
    "        y=[0, 0, 1, 0],\n",
    "        z=[0, 1, 0, 0],\n",
    "\n",
    "        color ='lightgrey',\n",
    "        \n",
    "        opacity = 0.2, #for transparency\n",
    "        \n",
    "        # i, j and k sono i vertici dei triangoli\n",
    "        # here we represent the 4 triangles of the tetrahedron surface\n",
    "        i=[0, 0, 0, 1],\n",
    "        j=[1, 2, 3, 2],\n",
    "        k=[2, 3, 1, 3],\n",
    "        name='y',\n",
    "        showscale=True\n",
    "    )\n",
    "]).data[0])\n"
   ]
  },
  {
   "cell_type": "markdown",
   "id": "4efeeba4",
   "metadata": {},
   "source": [
    "# Questo era per la ROC buona, ora mi serve ROC brutta"
   ]
  },
  {
   "cell_type": "code",
   "execution_count": 20,
   "id": "71784a3d",
   "metadata": {},
   "outputs": [
    {
     "data": {
      "text/html": [
       "<div>\n",
       "<style scoped>\n",
       "    .dataframe tbody tr th:only-of-type {\n",
       "        vertical-align: middle;\n",
       "    }\n",
       "\n",
       "    .dataframe tbody tr th {\n",
       "        vertical-align: top;\n",
       "    }\n",
       "\n",
       "    .dataframe thead th {\n",
       "        text-align: right;\n",
       "    }\n",
       "</style>\n",
       "<table border=\"1\" class=\"dataframe\">\n",
       "  <thead>\n",
       "    <tr style=\"text-align: right;\">\n",
       "      <th></th>\n",
       "      <th>TN</th>\n",
       "      <th>FP</th>\n",
       "      <th>TP</th>\n",
       "      <th>threshold</th>\n",
       "      <th>TPR</th>\n",
       "      <th>FPR</th>\n",
       "    </tr>\n",
       "  </thead>\n",
       "  <tbody>\n",
       "    <tr>\n",
       "      <th>0</th>\n",
       "      <td>0.000000</td>\n",
       "      <td>0.382812</td>\n",
       "      <td>0.617188</td>\n",
       "      <td>0.00</td>\n",
       "      <td>1.0</td>\n",
       "      <td>1.0</td>\n",
       "    </tr>\n",
       "    <tr>\n",
       "      <th>1</th>\n",
       "      <td>0.382812</td>\n",
       "      <td>0.000000</td>\n",
       "      <td>0.000000</td>\n",
       "      <td>0.01</td>\n",
       "      <td>0.0</td>\n",
       "      <td>0.0</td>\n",
       "    </tr>\n",
       "    <tr>\n",
       "      <th>2</th>\n",
       "      <td>0.382812</td>\n",
       "      <td>0.000000</td>\n",
       "      <td>0.000000</td>\n",
       "      <td>0.02</td>\n",
       "      <td>0.0</td>\n",
       "      <td>0.0</td>\n",
       "    </tr>\n",
       "    <tr>\n",
       "      <th>3</th>\n",
       "      <td>0.382812</td>\n",
       "      <td>0.000000</td>\n",
       "      <td>0.000000</td>\n",
       "      <td>0.03</td>\n",
       "      <td>0.0</td>\n",
       "      <td>0.0</td>\n",
       "    </tr>\n",
       "    <tr>\n",
       "      <th>4</th>\n",
       "      <td>0.382812</td>\n",
       "      <td>0.000000</td>\n",
       "      <td>0.000000</td>\n",
       "      <td>0.04</td>\n",
       "      <td>0.0</td>\n",
       "      <td>0.0</td>\n",
       "    </tr>\n",
       "    <tr>\n",
       "      <th>...</th>\n",
       "      <td>...</td>\n",
       "      <td>...</td>\n",
       "      <td>...</td>\n",
       "      <td>...</td>\n",
       "      <td>...</td>\n",
       "      <td>...</td>\n",
       "    </tr>\n",
       "    <tr>\n",
       "      <th>96</th>\n",
       "      <td>0.382812</td>\n",
       "      <td>0.000000</td>\n",
       "      <td>0.000000</td>\n",
       "      <td>0.96</td>\n",
       "      <td>0.0</td>\n",
       "      <td>0.0</td>\n",
       "    </tr>\n",
       "    <tr>\n",
       "      <th>97</th>\n",
       "      <td>0.382812</td>\n",
       "      <td>0.000000</td>\n",
       "      <td>0.000000</td>\n",
       "      <td>0.97</td>\n",
       "      <td>0.0</td>\n",
       "      <td>0.0</td>\n",
       "    </tr>\n",
       "    <tr>\n",
       "      <th>98</th>\n",
       "      <td>0.382812</td>\n",
       "      <td>0.000000</td>\n",
       "      <td>0.000000</td>\n",
       "      <td>0.98</td>\n",
       "      <td>0.0</td>\n",
       "      <td>0.0</td>\n",
       "    </tr>\n",
       "    <tr>\n",
       "      <th>99</th>\n",
       "      <td>0.382812</td>\n",
       "      <td>0.000000</td>\n",
       "      <td>0.000000</td>\n",
       "      <td>0.99</td>\n",
       "      <td>0.0</td>\n",
       "      <td>0.0</td>\n",
       "    </tr>\n",
       "    <tr>\n",
       "      <th>100</th>\n",
       "      <td>0.382812</td>\n",
       "      <td>0.000000</td>\n",
       "      <td>0.000000</td>\n",
       "      <td>1.00</td>\n",
       "      <td>0.0</td>\n",
       "      <td>0.0</td>\n",
       "    </tr>\n",
       "  </tbody>\n",
       "</table>\n",
       "<p>101 rows × 6 columns</p>\n",
       "</div>"
      ],
      "text/plain": [
       "           TN        FP        TP  threshold  TPR  FPR\n",
       "0    0.000000  0.382812  0.617188       0.00  1.0  1.0\n",
       "1    0.382812  0.000000  0.000000       0.01  0.0  0.0\n",
       "2    0.382812  0.000000  0.000000       0.02  0.0  0.0\n",
       "3    0.382812  0.000000  0.000000       0.03  0.0  0.0\n",
       "4    0.382812  0.000000  0.000000       0.04  0.0  0.0\n",
       "..        ...       ...       ...        ...  ...  ...\n",
       "96   0.382812  0.000000  0.000000       0.96  0.0  0.0\n",
       "97   0.382812  0.000000  0.000000       0.97  0.0  0.0\n",
       "98   0.382812  0.000000  0.000000       0.98  0.0  0.0\n",
       "99   0.382812  0.000000  0.000000       0.99  0.0  0.0\n",
       "100  0.382812  0.000000  0.000000       1.00  0.0  0.0\n",
       "\n",
       "[101 rows x 6 columns]"
      ]
     },
     "execution_count": 20,
     "metadata": {},
     "output_type": "execute_result"
    }
   ],
   "source": [
    "all_nCM = []\n",
    "all_ts = []\n",
    "\n",
    "all_TPR = []\n",
    "all_FPR = []\n",
    "\n",
    "\n",
    "N= len(y_test)\n",
    "for i in range(len(thresholds)):\n",
    "    t = thresholds[i]                           #rs.seed(0)\n",
    "    all_ts.append(round(t,3))\n",
    "    t_vec = np.ones(preds.size)*t #t con dimensioni comparabili \n",
    "    y_pred = (np.random.randint(0,1,N) >= t_vec).astype(int)       #LA ROC BRUTTA è QUANDO HO RANDOM tra 0 e 1 \n",
    "    (TN, FP,FN, TP) = generate_matrix_entries(y_test, y_pred)      # e ne voglio tanti quanti sono gli N \n",
    "    each_CM = np.array([TN, FP,FN, TP])                            #per il resto il codice fa la stessa cosa \n",
    "     \n",
    "    each_FPR = FP/(FP+TN) #1-specificity --> x\n",
    "    each_TPR = TP/(TP+FN) #sensitivity -->y\n",
    "    \n",
    "    \n",
    "    each_nCM = each_CM/N\n",
    "    all_nCM.append(each_nCM)\n",
    "    \n",
    "    all_FPR.append(each_FPR)\n",
    "    all_TPR.append(each_TPR)\n",
    "    \n",
    "\n",
    "PD_all_nCM = pd.DataFrame(all_nCM) \n",
    "\n",
    "\n",
    "coords = PD_all_nCM.drop([2],axis=1)\n",
    "coords['threshold'] = all_ts\n",
    "coords.rename({0: 'TN', 1: 'FP', 3: 'TP'}, axis=1, inplace=True)\n",
    "\n",
    "\n",
    "coords['TPR']=all_TPR\n",
    "coords['FPR']=all_FPR\n",
    "\n",
    "coords"
   ]
  },
  {
   "cell_type": "code",
   "execution_count": 21,
   "id": "31761181",
   "metadata": {},
   "outputs": [
    {
     "data": {
      "image/png": "[encoded data removed]",
      "text/plain": [
       "<Figure size 432x288 with 1 Axes>"
      ]
     },
     "metadata": {
      "needs_background": "light"
     },
     "output_type": "display_data"
    }
   ],
   "source": [
    "plt.plot(coords['FPR'],coords['TPR'])\n",
    "plt.show() #e infatti è il random case "
   ]
  },
  {
   "cell_type": "code",
   "execution_count": 22,
   "id": "468ceef9",
   "metadata": {},
   "outputs": [
    {
     "data": {
      "text/plain": [
       "\"\\n\\nfig = px.scatter_3d(coords, \\n                    x='TP',\\n                    y='TN',\\n                    z='FP',\\n                    animation_frame='threshold',\\n                    size_max=18,\\n                    hover_name ='threshold',\\n                    range_x=[0,1], \\n                    range_y=[0,1],\\n                    range_z=[0,1]) \\n\\n\\nfig.update_traces(marker=dict(size=12,\\n                              line=dict(width=2,\\n                                        color='black')),\\n                  selector=dict(mode='circle-open'))\\n\\n\\n\\nfig.add_trace(go.Figure(data=[\\n    go.Mesh3d(\\n        x=[0, 0, 0, 1], #verticalmente ho definito O, C, B, A\\n        y=[0, 0, 1, 0],\\n        z=[0, 1, 0, 0],\\n\\n        color ='lightgrey',\\n        opacity = 0.2, #for transparency\\n        \\n        # i, j and k sono i vertici dei triangoli\\n        # here we represent the 4 triangles of the tetrahedron surface\\n        i=[0, 0, 0, 1],\\n        j=[1, 2, 3, 2],\\n        k=[2, 3, 1, 3],\\n        name='y',\\n        showscale=True\\n    )\\n]).data[0])\\n\\n\""
      ]
     },
     "execution_count": 22,
     "metadata": {},
     "output_type": "execute_result"
    }
   ],
   "source": [
    "#QUI CON LO SLIDER - commentata per non averla ogni volta (e comnque viz poco utile visto che sono 2 punti)\n",
    "\n",
    "\"\"\"\n",
    "\n",
    "fig = px.scatter_3d(coords, \n",
    "                    x='TP',\n",
    "                    y='TN',\n",
    "                    z='FP',\n",
    "                    animation_frame='threshold',\n",
    "                    size_max=18,\n",
    "                    hover_name ='threshold',\n",
    "                    range_x=[0,1], \n",
    "                    range_y=[0,1],\n",
    "                    range_z=[0,1]) \n",
    "\n",
    "\n",
    "fig.update_traces(marker=dict(size=12,\n",
    "                              line=dict(width=2,\n",
    "                                        color='black')),\n",
    "                  selector=dict(mode='circle-open'))\n",
    "\n",
    "\n",
    "\n",
    "fig.add_trace(go.Figure(data=[\n",
    "    go.Mesh3d(\n",
    "        x=[0, 0, 0, 1], #verticalmente ho definito O, C, B, A\n",
    "        y=[0, 0, 1, 0],\n",
    "        z=[0, 1, 0, 0],\n",
    "\n",
    "        color ='lightgrey',\n",
    "        opacity = 0.2, #for transparency\n",
    "        \n",
    "        # i, j and k sono i vertici dei triangoli\n",
    "        # here we represent the 4 triangles of the tetrahedron surface\n",
    "        i=[0, 0, 0, 1],\n",
    "        j=[1, 2, 3, 2],\n",
    "        k=[2, 3, 1, 3],\n",
    "        name='y',\n",
    "        showscale=True\n",
    "    )\n",
    "]).data[0])\n",
    "\n",
    "\"\"\""
   ]
  },
  {
   "cell_type": "code",
   "execution_count": 23,
   "id": "747d1e8c",
   "metadata": {},
   "outputs": [
    {
     "data": {
      "application/vnd.plotly.v1+json": {
       "config": {
        "plotlyServerURL": "https://plot.ly"
       },
       "data": [
        {
         "hovertemplate": "<b>%{hovertext}</b><br><br>TP=%{x}<br>TN=%{y}<br>FP=%{z}<extra></extra>",
         "hovertext": [
          0,
          0.01,
          0.02,
          0.03,
          0.04,
          0.05,
          0.06,
          0.07,
          0.08,
          0.09,
          0.1,
          0.11,
          0.12,
          0.13,
          0.14,
          0.15,
          0.16,
          0.17,
          0.18,
          0.19,
          0.2,
          0.21,
          0.22,
          0.23,
          0.24,
          0.25,
          0.26,
          0.27,
          0.28,
          0.29,
          0.3,
          0.31,
          0.32,
          0.33,
          0.34,
          0.35,
          0.36,
          0.37,
          0.38,
          0.39,
          0.4,
          0.41,
          0.42,
          0.43,
          0.44,
          0.45,
          0.46,
          0.47,
          0.48,
          0.49,
          0.5,
          0.51,
          0.52,
          0.53,
          0.54,
          0.55,
          0.56,
          0.57,
          0.58,
          0.59,
          0.6,
          0.61,
          0.62,
          0.63,
          0.64,
          0.65,
          0.66,
          0.67,
          0.68,
          0.69,
          0.7,
          0.71,
          0.72,
          0.73,
          0.74,
          0.75,
          0.76,
          0.77,
          0.78,
          0.79,
          0.8,
          0.81,
          0.82,
          0.83,
          0.84,
          0.85,
          0.86,
          0.87,
          0.88,
          0.89,
          0.9,
          0.91,
          0.92,
          0.93,
          0.94,
          0.95,
          0.96,
          0.97,
          0.98,
          0.99,
          1
         ],
         "legendgroup": "",
         "marker": {
          "color": "#636efa",
          "symbol": "circle"
         },
         "mode": "markers",
         "name": "",
         "scene": "scene",
         "showlegend": false,
         "type": "scatter3d",
         "x": [
          0.6171875,
          0,
          0,
          0,
          0,
          0,
          0,
          0,
          0,
          0,
          0,
          0,
          0,
          0,
          0,
          0,
          0,
          0,
          0,
          0,
          0,
          0,
          0,
          0,
          0,
          0,
          0,
          0,
          0,
          0,
          0,
          0,
          0,
          0,
          0,
          0,
          0,
          0,
          0,
          0,
          0,
          0,
          0,
          0,
          0,
          0,
          0,
          0,
          0,
          0,
          0,
          0,
          0,
          0,
          0,
          0,
          0,
          0,
          0,
          0,
          0,
          0,
          0,
          0,
          0,
          0,
          0,
          0,
          0,
          0,
          0,
          0,
          0,
          0,
          0,
          0,
          0,
          0,
          0,
          0,
          0,
          0,
          0,
          0,
          0,
          0,
          0,
          0,
          0,
          0,
          0,
          0,
          0,
          0,
          0,
          0,
          0,
          0,
          0,
          0,
          0
         ],
         "y": [
          0,
          0.3828125,
          0.3828125,
          0.3828125,
          0.3828125,
          0.3828125,
          0.3828125,
          0.3828125,
          0.3828125,
          0.3828125,
          0.3828125,
          0.3828125,
          0.3828125,
          0.3828125,
          0.3828125,
          0.3828125,
          0.3828125,
          0.3828125,
          0.3828125,
          0.3828125,
          0.3828125,
          0.3828125,
          0.3828125,
          0.3828125,
          0.3828125,
          0.3828125,
          0.3828125,
          0.3828125,
          0.3828125,
          0.3828125,
          0.3828125,
          0.3828125,
          0.3828125,
          0.3828125,
          0.3828125,
          0.3828125,
          0.3828125,
          0.3828125,
          0.3828125,
          0.3828125,
          0.3828125,
          0.3828125,
          0.3828125,
          0.3828125,
          0.3828125,
          0.3828125,
          0.3828125,
          0.3828125,
          0.3828125,
          0.3828125,
          0.3828125,
          0.3828125,
          0.3828125,
          0.3828125,
          0.3828125,
          0.3828125,
          0.3828125,
          0.3828125,
          0.3828125,
          0.3828125,
          0.3828125,
          0.3828125,
          0.3828125,
          0.3828125,
          0.3828125,
          0.3828125,
          0.3828125,
          0.3828125,
          0.3828125,
          0.3828125,
          0.3828125,
          0.3828125,
          0.3828125,
          0.3828125,
          0.3828125,
          0.3828125,
          0.3828125,
          0.3828125,
          0.3828125,
          0.3828125,
          0.3828125,
          0.3828125,
          0.3828125,
          0.3828125,
          0.3828125,
          0.3828125,
          0.3828125,
          0.3828125,
          0.3828125,
          0.3828125,
          0.3828125,
          0.3828125,
          0.3828125,
          0.3828125,
          0.3828125,
          0.3828125,
          0.3828125,
          0.3828125,
          0.3828125,
          0.3828125,
          0.3828125
         ],
         "z": [
          0.3828125,
          0,
          0,
          0,
          0,
          0,
          0,
          0,
          0,
          0,
          0,
          0,
          0,
          0,
          0,
          0,
          0,
          0,
          0,
          0,
          0,
          0,
          0,
          0,
          0,
          0,
          0,
          0,
          0,
          0,
          0,
          0,
          0,
          0,
          0,
          0,
          0,
          0,
          0,
          0,
          0,
          0,
          0,
          0,
          0,
          0,
          0,
          0,
          0,
          0,
          0,
          0,
          0,
          0,
          0,
          0,
          0,
          0,
          0,
          0,
          0,
          0,
          0,
          0,
          0,
          0,
          0,
          0,
          0,
          0,
          0,
          0,
          0,
          0,
          0,
          0,
          0,
          0,
          0,
          0,
          0,
          0,
          0,
          0,
          0,
          0,
          0,
          0,
          0,
          0,
          0,
          0,
          0,
          0,
          0,
          0,
          0,
          0,
          0,
          0,
          0
         ]
        },
        {
         "color": "lightgrey",
         "i": [
          0,
          0,
          0,
          1
         ],
         "j": [
          1,
          2,
          3,
          2
         ],
         "k": [
          2,
          3,
          1,
          3
         ],
         "name": "y",
         "opacity": 0.2,
         "showscale": true,
         "type": "mesh3d",
         "x": [
          0,
          0,
          0,
          1
         ],
         "y": [
          0,
          0,
          1,
          0
         ],
         "z": [
          0,
          1,
          0,
          0
         ]
        }
       ],
       "layout": {
        "legend": {
         "tracegroupgap": 0
        },
        "margin": {
         "t": 60
        },
        "scene": {
         "domain": {
          "x": [
           0,
           1
          ],
          "y": [
           0,
           1
          ]
         },
         "xaxis": {
          "range": [
           0,
           1
          ],
          "title": {
           "text": "TP"
          }
         },
         "yaxis": {
          "range": [
           0,
           1
          ],
          "title": {
           "text": "TN"
          }
         },
         "zaxis": {
          "range": [
           0,
           1
          ],
          "title": {
           "text": "FP"
          }
         }
        },
        "template": {
         "data": {
          "bar": [
           {
            "error_x": {
             "color": "#2a3f5f"
            },
            "error_y": {
             "color": "#2a3f5f"
            },
            "marker": {
             "line": {
              "color": "#E5ECF6",
              "width": 0.5
             },
             "pattern": {
              "fillmode": "overlay",
              "size": 10,
              "solidity": 0.2
             }
            },
            "type": "bar"
           }
          ],
          "barpolar": [
           {
            "marker": {
             "line": {
              "color": "#E5ECF6",
              "width": 0.5
             },
             "pattern": {
              "fillmode": "overlay",
              "size": 10,
              "solidity": 0.2
             }
            },
            "type": "barpolar"
           }
          ],
          "carpet": [
           {
            "aaxis": {
             "endlinecolor": "#2a3f5f",
             "gridcolor": "white",
             "linecolor": "white",
             "minorgridcolor": "white",
             "startlinecolor": "#2a3f5f"
            },
            "baxis": {
             "endlinecolor": "#2a3f5f",
             "gridcolor": "white",
             "linecolor": "white",
             "minorgridcolor": "white",
             "startlinecolor": "#2a3f5f"
            },
            "type": "carpet"
           }
          ],
          "choropleth": [
           {
            "colorbar": {
             "outlinewidth": 0,
             "ticks": ""
            },
            "type": "choropleth"
           }
          ],
          "contour": [
           {
            "colorbar": {
             "outlinewidth": 0,
             "ticks": ""
            },
            "colorscale": [
             [
              0,
              "#0d0887"
             ],
             [
              0.1111111111111111,
              "#46039f"
             ],
             [
              0.2222222222222222,
              "#7201a8"
             ],
             [
              0.3333333333333333,
              "#9c179e"
             ],
             [
              0.4444444444444444,
              "#bd3786"
             ],
             [
              0.5555555555555556,
              "#d8576b"
             ],
             [
              0.6666666666666666,
              "#ed7953"
             ],
             [
              0.7777777777777778,
              "#fb9f3a"
             ],
             [
              0.8888888888888888,
              "#fdca26"
             ],
             [
              1,
              "#f0f921"
             ]
            ],
            "type": "contour"
           }
          ],
          "contourcarpet": [
           {
            "colorbar": {
             "outlinewidth": 0,
             "ticks": ""
            },
            "type": "contourcarpet"
           }
          ],
          "heatmap": [
           {
            "colorbar": {
             "outlinewidth": 0,
             "ticks": ""
            },
            "colorscale": [
             [
              0,
              "#0d0887"
             ],
             [
              0.1111111111111111,
              "#46039f"
             ],
             [
              0.2222222222222222,
              "#7201a8"
             ],
             [
              0.3333333333333333,
              "#9c179e"
             ],
             [
              0.4444444444444444,
              "#bd3786"
             ],
             [
              0.5555555555555556,
              "#d8576b"
             ],
             [
              0.6666666666666666,
              "#ed7953"
             ],
             [
              0.7777777777777778,
              "#fb9f3a"
             ],
             [
              0.8888888888888888,
              "#fdca26"
             ],
             [
              1,
              "#f0f921"
             ]
            ],
            "type": "heatmap"
           }
          ],
          "heatmapgl": [
           {
            "colorbar": {
             "outlinewidth": 0,
             "ticks": ""
            },
            "colorscale": [
             [
              0,
              "#0d0887"
             ],
             [
              0.1111111111111111,
              "#46039f"
             ],
             [
              0.2222222222222222,
              "#7201a8"
             ],
             [
              0.3333333333333333,
              "#9c179e"
             ],
             [
              0.4444444444444444,
              "#bd3786"
             ],
             [
              0.5555555555555556,
              "#d8576b"
             ],
             [
              0.6666666666666666,
              "#ed7953"
             ],
             [
              0.7777777777777778,
              "#fb9f3a"
             ],
             [
              0.8888888888888888,
              "#fdca26"
             ],
             [
              1,
              "#f0f921"
             ]
            ],
            "type": "heatmapgl"
           }
          ],
          "histogram": [
           {
            "marker": {
             "pattern": {
              "fillmode": "overlay",
              "size": 10,
              "solidity": 0.2
             }
            },
            "type": "histogram"
           }
          ],
          "histogram2d": [
           {
            "colorbar": {
             "outlinewidth": 0,
             "ticks": ""
            },
            "colorscale": [
             [
              0,
              "#0d0887"
             ],
             [
              0.1111111111111111,
              "#46039f"
             ],
             [
              0.2222222222222222,
              "#7201a8"
             ],
             [
              0.3333333333333333,
              "#9c179e"
             ],
             [
              0.4444444444444444,
              "#bd3786"
             ],
             [
              0.5555555555555556,
              "#d8576b"
             ],
             [
              0.6666666666666666,
              "#ed7953"
             ],
             [
              0.7777777777777778,
              "#fb9f3a"
             ],
             [
              0.8888888888888888,
              "#fdca26"
             ],
             [
              1,
              "#f0f921"
             ]
            ],
            "type": "histogram2d"
           }
          ],
          "histogram2dcontour": [
           {
            "colorbar": {
             "outlinewidth": 0,
             "ticks": ""
            },
            "colorscale": [
             [
              0,
              "#0d0887"
             ],
             [
              0.1111111111111111,
              "#46039f"
             ],
             [
              0.2222222222222222,
              "#7201a8"
             ],
             [
              0.3333333333333333,
              "#9c179e"
             ],
             [
              0.4444444444444444,
              "#bd3786"
             ],
             [
              0.5555555555555556,
              "#d8576b"
             ],
             [
              0.6666666666666666,
              "#ed7953"
             ],
             [
              0.7777777777777778,
              "#fb9f3a"
             ],
             [
              0.8888888888888888,
              "#fdca26"
             ],
             [
              1,
              "#f0f921"
             ]
            ],
            "type": "histogram2dcontour"
           }
          ],
          "mesh3d": [
           {
            "colorbar": {
             "outlinewidth": 0,
             "ticks": ""
            },
            "type": "mesh3d"
           }
          ],
          "parcoords": [
           {
            "line": {
             "colorbar": {
              "outlinewidth": 0,
              "ticks": ""
             }
            },
            "type": "parcoords"
           }
          ],
          "pie": [
           {
            "automargin": true,
            "type": "pie"
           }
          ],
          "scatter": [
           {
            "marker": {
             "colorbar": {
              "outlinewidth": 0,
              "ticks": ""
             }
            },
            "type": "scatter"
           }
          ],
          "scatter3d": [
           {
            "line": {
             "colorbar": {
              "outlinewidth": 0,
              "ticks": ""
             }
            },
            "marker": {
             "colorbar": {
              "outlinewidth": 0,
              "ticks": ""
             }
            },
            "type": "scatter3d"
           }
          ],
          "scattercarpet": [
           {
            "marker": {
             "colorbar": {
              "outlinewidth": 0,
              "ticks": ""
             }
            },
            "type": "scattercarpet"
           }
          ],
          "scattergeo": [
           {
            "marker": {
             "colorbar": {
              "outlinewidth": 0,
              "ticks": ""
             }
            },
            "type": "scattergeo"
           }
          ],
          "scattergl": [
           {
            "marker": {
             "colorbar": {
              "outlinewidth": 0,
              "ticks": ""
             }
            },
            "type": "scattergl"
           }
          ],
          "scattermapbox": [
           {
            "marker": {
             "colorbar": {
              "outlinewidth": 0,
              "ticks": ""
             }
            },
            "type": "scattermapbox"
           }
          ],
          "scatterpolar": [
           {
            "marker": {
             "colorbar": {
              "outlinewidth": 0,
              "ticks": ""
             }
            },
            "type": "scatterpolar"
           }
          ],
          "scatterpolargl": [
           {
            "marker": {
             "colorbar": {
              "outlinewidth": 0,
              "ticks": ""
             }
            },
            "type": "scatterpolargl"
           }
          ],
          "scatterternary": [
           {
            "marker": {
             "colorbar": {
              "outlinewidth": 0,
              "ticks": ""
             }
            },
            "type": "scatterternary"
           }
          ],
          "surface": [
           {
            "colorbar": {
             "outlinewidth": 0,
             "ticks": ""
            },
            "colorscale": [
             [
              0,
              "#0d0887"
             ],
             [
              0.1111111111111111,
              "#46039f"
             ],
             [
              0.2222222222222222,
              "#7201a8"
             ],
             [
              0.3333333333333333,
              "#9c179e"
             ],
             [
              0.4444444444444444,
              "#bd3786"
             ],
             [
              0.5555555555555556,
              "#d8576b"
             ],
             [
              0.6666666666666666,
              "#ed7953"
             ],
             [
              0.7777777777777778,
              "#fb9f3a"
             ],
             [
              0.8888888888888888,
              "#fdca26"
             ],
             [
              1,
              "#f0f921"
             ]
            ],
            "type": "surface"
           }
          ],
          "table": [
           {
            "cells": {
             "fill": {
              "color": "#EBF0F8"
             },
             "line": {
              "color": "white"
             }
            },
            "header": {
             "fill": {
              "color": "#C8D4E3"
             },
             "line": {
              "color": "white"
             }
            },
            "type": "table"
           }
          ]
         },
         "layout": {
          "annotationdefaults": {
           "arrowcolor": "#2a3f5f",
           "arrowhead": 0,
           "arrowwidth": 1
          },
          "autotypenumbers": "strict",
          "coloraxis": {
           "colorbar": {
            "outlinewidth": 0,
            "ticks": ""
           }
          },
          "colorscale": {
           "diverging": [
            [
             0,
             "#8e0152"
            ],
            [
             0.1,
             "#c51b7d"
            ],
            [
             0.2,
             "#de77ae"
            ],
            [
             0.3,
             "#f1b6da"
            ],
            [
             0.4,
             "#fde0ef"
            ],
            [
             0.5,
             "#f7f7f7"
            ],
            [
             0.6,
             "#e6f5d0"
            ],
            [
             0.7,
             "#b8e186"
            ],
            [
             0.8,
             "#7fbc41"
            ],
            [
             0.9,
             "#4d9221"
            ],
            [
             1,
             "#276419"
            ]
           ],
           "sequential": [
            [
             0,
             "#0d0887"
            ],
            [
             0.1111111111111111,
             "#46039f"
            ],
            [
             0.2222222222222222,
             "#7201a8"
            ],
            [
             0.3333333333333333,
             "#9c179e"
            ],
            [
             0.4444444444444444,
             "#bd3786"
            ],
            [
             0.5555555555555556,
             "#d8576b"
            ],
            [
             0.6666666666666666,
             "#ed7953"
            ],
            [
             0.7777777777777778,
             "#fb9f3a"
            ],
            [
             0.8888888888888888,
             "#fdca26"
            ],
            [
             1,
             "#f0f921"
            ]
           ],
           "sequentialminus": [
            [
             0,
             "#0d0887"
            ],
            [
             0.1111111111111111,
             "#46039f"
            ],
            [
             0.2222222222222222,
             "#7201a8"
            ],
            [
             0.3333333333333333,
             "#9c179e"
            ],
            [
             0.4444444444444444,
             "#bd3786"
            ],
            [
             0.5555555555555556,
             "#d8576b"
            ],
            [
             0.6666666666666666,
             "#ed7953"
            ],
            [
             0.7777777777777778,
             "#fb9f3a"
            ],
            [
             0.8888888888888888,
             "#fdca26"
            ],
            [
             1,
             "#f0f921"
            ]
           ]
          },
          "colorway": [
           "#636efa",
           "#EF553B",
           "#00cc96",
           "#ab63fa",
           "#FFA15A",
           "#19d3f3",
           "#FF6692",
           "#B6E880",
           "#FF97FF",
           "#FECB52"
          ],
          "font": {
           "color": "#2a3f5f"
          },
          "geo": {
           "bgcolor": "white",
           "lakecolor": "white",
           "landcolor": "#E5ECF6",
           "showlakes": true,
           "showland": true,
           "subunitcolor": "white"
          },
          "hoverlabel": {
           "align": "left"
          },
          "hovermode": "closest",
          "mapbox": {
           "style": "light"
          },
          "paper_bgcolor": "white",
          "plot_bgcolor": "#E5ECF6",
          "polar": {
           "angularaxis": {
            "gridcolor": "white",
            "linecolor": "white",
            "ticks": ""
           },
           "bgcolor": "#E5ECF6",
           "radialaxis": {
            "gridcolor": "white",
            "linecolor": "white",
            "ticks": ""
           }
          },
          "scene": {
           "xaxis": {
            "backgroundcolor": "#E5ECF6",
            "gridcolor": "white",
            "gridwidth": 2,
            "linecolor": "white",
            "showbackground": true,
            "ticks": "",
            "zerolinecolor": "white"
           },
           "yaxis": {
            "backgroundcolor": "#E5ECF6",
            "gridcolor": "white",
            "gridwidth": 2,
            "linecolor": "white",
            "showbackground": true,
            "ticks": "",
            "zerolinecolor": "white"
           },
           "zaxis": {
            "backgroundcolor": "#E5ECF6",
            "gridcolor": "white",
            "gridwidth": 2,
            "linecolor": "white",
            "showbackground": true,
            "ticks": "",
            "zerolinecolor": "white"
           }
          },
          "shapedefaults": {
           "line": {
            "color": "#2a3f5f"
           }
          },
          "ternary": {
           "aaxis": {
            "gridcolor": "white",
            "linecolor": "white",
            "ticks": ""
           },
           "baxis": {
            "gridcolor": "white",
            "linecolor": "white",
            "ticks": ""
           },
           "bgcolor": "#E5ECF6",
           "caxis": {
            "gridcolor": "white",
            "linecolor": "white",
            "ticks": ""
           }
          },
          "title": {
           "x": 0.05
          },
          "xaxis": {
           "automargin": true,
           "gridcolor": "white",
           "linecolor": "white",
           "ticks": "",
           "title": {
            "standoff": 15
           },
           "zerolinecolor": "white",
           "zerolinewidth": 2
          },
          "yaxis": {
           "automargin": true,
           "gridcolor": "white",
           "linecolor": "white",
           "ticks": "",
           "title": {
            "standoff": 15
           },
           "zerolinecolor": "white",
           "zerolinewidth": 2
          }
         }
        }
       }
      },
      "text/html": [
       "<div>                            <div id=\"86dc0480-34b8-45e4-a30f-ce8e5036e968\" class=\"plotly-graph-div\" style=\"height:525px; width:100%;\"></div>            <script type=\"text/javascript\">                require([\"plotly\"], function(Plotly) {                    window.PLOTLYENV=window.PLOTLYENV || {};                                    if (document.getElementById(\"86dc0480-34b8-45e4-a30f-ce8e5036e968\")) {                    Plotly.newPlot(                        \"86dc0480-34b8-45e4-a30f-ce8e5036e968\",                        [{\"hovertemplate\":\"<b>%{hovertext}</b><br><br>TP=%{x}<br>TN=%{y}<br>FP=%{z}<extra></extra>\",\"hovertext\":[0.0,0.01,0.02,0.03,0.04,0.05,0.06,0.07,0.08,0.09,0.1,0.11,0.12,0.13,0.14,0.15,0.16,0.17,0.18,0.19,0.2,0.21,0.22,0.23,0.24,0.25,0.26,0.27,0.28,0.29,0.3,0.31,0.32,0.33,0.34,0.35,0.36,0.37,0.38,0.39,0.4,0.41,0.42,0.43,0.44,0.45,0.46,0.47,0.48,0.49,0.5,0.51,0.52,0.53,0.54,0.55,0.56,0.57,0.58,0.59,0.6,0.61,0.62,0.63,0.64,0.65,0.66,0.67,0.68,0.69,0.7,0.71,0.72,0.73,0.74,0.75,0.76,0.77,0.78,0.79,0.8,0.81,0.82,0.83,0.84,0.85,0.86,0.87,0.88,0.89,0.9,0.91,0.92,0.93,0.94,0.95,0.96,0.97,0.98,0.99,1.0],\"legendgroup\":\"\",\"marker\":{\"color\":\"#636efa\",\"symbol\":\"circle\"},\"mode\":\"markers\",\"name\":\"\",\"scene\":\"scene\",\"showlegend\":false,\"x\":[0.6171875,0.0,0.0,0.0,0.0,0.0,0.0,0.0,0.0,0.0,0.0,0.0,0.0,0.0,0.0,0.0,0.0,0.0,0.0,0.0,0.0,0.0,0.0,0.0,0.0,0.0,0.0,0.0,0.0,0.0,0.0,0.0,0.0,0.0,0.0,0.0,0.0,0.0,0.0,0.0,0.0,0.0,0.0,0.0,0.0,0.0,0.0,0.0,0.0,0.0,0.0,0.0,0.0,0.0,0.0,0.0,0.0,0.0,0.0,0.0,0.0,0.0,0.0,0.0,0.0,0.0,0.0,0.0,0.0,0.0,0.0,0.0,0.0,0.0,0.0,0.0,0.0,0.0,0.0,0.0,0.0,0.0,0.0,0.0,0.0,0.0,0.0,0.0,0.0,0.0,0.0,0.0,0.0,0.0,0.0,0.0,0.0,0.0,0.0,0.0,0.0],\"y\":[0.0,0.3828125,0.3828125,0.3828125,0.3828125,0.3828125,0.3828125,0.3828125,0.3828125,0.3828125,0.3828125,0.3828125,0.3828125,0.3828125,0.3828125,0.3828125,0.3828125,0.3828125,0.3828125,0.3828125,0.3828125,0.3828125,0.3828125,0.3828125,0.3828125,0.3828125,0.3828125,0.3828125,0.3828125,0.3828125,0.3828125,0.3828125,0.3828125,0.3828125,0.3828125,0.3828125,0.3828125,0.3828125,0.3828125,0.3828125,0.3828125,0.3828125,0.3828125,0.3828125,0.3828125,0.3828125,0.3828125,0.3828125,0.3828125,0.3828125,0.3828125,0.3828125,0.3828125,0.3828125,0.3828125,0.3828125,0.3828125,0.3828125,0.3828125,0.3828125,0.3828125,0.3828125,0.3828125,0.3828125,0.3828125,0.3828125,0.3828125,0.3828125,0.3828125,0.3828125,0.3828125,0.3828125,0.3828125,0.3828125,0.3828125,0.3828125,0.3828125,0.3828125,0.3828125,0.3828125,0.3828125,0.3828125,0.3828125,0.3828125,0.3828125,0.3828125,0.3828125,0.3828125,0.3828125,0.3828125,0.3828125,0.3828125,0.3828125,0.3828125,0.3828125,0.3828125,0.3828125,0.3828125,0.3828125,0.3828125,0.3828125],\"z\":[0.3828125,0.0,0.0,0.0,0.0,0.0,0.0,0.0,0.0,0.0,0.0,0.0,0.0,0.0,0.0,0.0,0.0,0.0,0.0,0.0,0.0,0.0,0.0,0.0,0.0,0.0,0.0,0.0,0.0,0.0,0.0,0.0,0.0,0.0,0.0,0.0,0.0,0.0,0.0,0.0,0.0,0.0,0.0,0.0,0.0,0.0,0.0,0.0,0.0,0.0,0.0,0.0,0.0,0.0,0.0,0.0,0.0,0.0,0.0,0.0,0.0,0.0,0.0,0.0,0.0,0.0,0.0,0.0,0.0,0.0,0.0,0.0,0.0,0.0,0.0,0.0,0.0,0.0,0.0,0.0,0.0,0.0,0.0,0.0,0.0,0.0,0.0,0.0,0.0,0.0,0.0,0.0,0.0,0.0,0.0,0.0,0.0,0.0,0.0,0.0,0.0],\"type\":\"scatter3d\"},{\"color\":\"lightgrey\",\"i\":[0,0,0,1],\"j\":[1,2,3,2],\"k\":[2,3,1,3],\"name\":\"y\",\"opacity\":0.2,\"showscale\":true,\"x\":[0,0,0,1],\"y\":[0,0,1,0],\"z\":[0,1,0,0],\"type\":\"mesh3d\"}],                        {\"template\":{\"data\":{\"bar\":[{\"error_x\":{\"color\":\"#2a3f5f\"},\"error_y\":{\"color\":\"#2a3f5f\"},\"marker\":{\"line\":{\"color\":\"#E5ECF6\",\"width\":0.5},\"pattern\":{\"fillmode\":\"overlay\",\"size\":10,\"solidity\":0.2}},\"type\":\"bar\"}],\"barpolar\":[{\"marker\":{\"line\":{\"color\":\"#E5ECF6\",\"width\":0.5},\"pattern\":{\"fillmode\":\"overlay\",\"size\":10,\"solidity\":0.2}},\"type\":\"barpolar\"}],\"carpet\":[{\"aaxis\":{\"endlinecolor\":\"#2a3f5f\",\"gridcolor\":\"white\",\"linecolor\":\"white\",\"minorgridcolor\":\"white\",\"startlinecolor\":\"#2a3f5f\"},\"baxis\":{\"endlinecolor\":\"#2a3f5f\",\"gridcolor\":\"white\",\"linecolor\":\"white\",\"minorgridcolor\":\"white\",\"startlinecolor\":\"#2a3f5f\"},\"type\":\"carpet\"}],\"choropleth\":[{\"colorbar\":{\"outlinewidth\":0,\"ticks\":\"\"},\"type\":\"choropleth\"}],\"contour\":[{\"colorbar\":{\"outlinewidth\":0,\"ticks\":\"\"},\"colorscale\":[[0.0,\"#0d0887\"],[0.1111111111111111,\"#46039f\"],[0.2222222222222222,\"#7201a8\"],[0.3333333333333333,\"#9c179e\"],[0.4444444444444444,\"#bd3786\"],[0.5555555555555556,\"#d8576b\"],[0.6666666666666666,\"#ed7953\"],[0.7777777777777778,\"#fb9f3a\"],[0.8888888888888888,\"#fdca26\"],[1.0,\"#f0f921\"]],\"type\":\"contour\"}],\"contourcarpet\":[{\"colorbar\":{\"outlinewidth\":0,\"ticks\":\"\"},\"type\":\"contourcarpet\"}],\"heatmap\":[{\"colorbar\":{\"outlinewidth\":0,\"ticks\":\"\"},\"colorscale\":[[0.0,\"#0d0887\"],[0.1111111111111111,\"#46039f\"],[0.2222222222222222,\"#7201a8\"],[0.3333333333333333,\"#9c179e\"],[0.4444444444444444,\"#bd3786\"],[0.5555555555555556,\"#d8576b\"],[0.6666666666666666,\"#ed7953\"],[0.7777777777777778,\"#fb9f3a\"],[0.8888888888888888,\"#fdca26\"],[1.0,\"#f0f921\"]],\"type\":\"heatmap\"}],\"heatmapgl\":[{\"colorbar\":{\"outlinewidth\":0,\"ticks\":\"\"},\"colorscale\":[[0.0,\"#0d0887\"],[0.1111111111111111,\"#46039f\"],[0.2222222222222222,\"#7201a8\"],[0.3333333333333333,\"#9c179e\"],[0.4444444444444444,\"#bd3786\"],[0.5555555555555556,\"#d8576b\"],[0.6666666666666666,\"#ed7953\"],[0.7777777777777778,\"#fb9f3a\"],[0.8888888888888888,\"#fdca26\"],[1.0,\"#f0f921\"]],\"type\":\"heatmapgl\"}],\"histogram\":[{\"marker\":{\"pattern\":{\"fillmode\":\"overlay\",\"size\":10,\"solidity\":0.2}},\"type\":\"histogram\"}],\"histogram2d\":[{\"colorbar\":{\"outlinewidth\":0,\"ticks\":\"\"},\"colorscale\":[[0.0,\"#0d0887\"],[0.1111111111111111,\"#46039f\"],[0.2222222222222222,\"#7201a8\"],[0.3333333333333333,\"#9c179e\"],[0.4444444444444444,\"#bd3786\"],[0.5555555555555556,\"#d8576b\"],[0.6666666666666666,\"#ed7953\"],[0.7777777777777778,\"#fb9f3a\"],[0.8888888888888888,\"#fdca26\"],[1.0,\"#f0f921\"]],\"type\":\"histogram2d\"}],\"histogram2dcontour\":[{\"colorbar\":{\"outlinewidth\":0,\"ticks\":\"\"},\"colorscale\":[[0.0,\"#0d0887\"],[0.1111111111111111,\"#46039f\"],[0.2222222222222222,\"#7201a8\"],[0.3333333333333333,\"#9c179e\"],[0.4444444444444444,\"#bd3786\"],[0.5555555555555556,\"#d8576b\"],[0.6666666666666666,\"#ed7953\"],[0.7777777777777778,\"#fb9f3a\"],[0.8888888888888888,\"#fdca26\"],[1.0,\"#f0f921\"]],\"type\":\"histogram2dcontour\"}],\"mesh3d\":[{\"colorbar\":{\"outlinewidth\":0,\"ticks\":\"\"},\"type\":\"mesh3d\"}],\"parcoords\":[{\"line\":{\"colorbar\":{\"outlinewidth\":0,\"ticks\":\"\"}},\"type\":\"parcoords\"}],\"pie\":[{\"automargin\":true,\"type\":\"pie\"}],\"scatter\":[{\"marker\":{\"colorbar\":{\"outlinewidth\":0,\"ticks\":\"\"}},\"type\":\"scatter\"}],\"scatter3d\":[{\"line\":{\"colorbar\":{\"outlinewidth\":0,\"ticks\":\"\"}},\"marker\":{\"colorbar\":{\"outlinewidth\":0,\"ticks\":\"\"}},\"type\":\"scatter3d\"}],\"scattercarpet\":[{\"marker\":{\"colorbar\":{\"outlinewidth\":0,\"ticks\":\"\"}},\"type\":\"scattercarpet\"}],\"scattergeo\":[{\"marker\":{\"colorbar\":{\"outlinewidth\":0,\"ticks\":\"\"}},\"type\":\"scattergeo\"}],\"scattergl\":[{\"marker\":{\"colorbar\":{\"outlinewidth\":0,\"ticks\":\"\"}},\"type\":\"scattergl\"}],\"scattermapbox\":[{\"marker\":{\"colorbar\":{\"outlinewidth\":0,\"ticks\":\"\"}},\"type\":\"scattermapbox\"}],\"scatterpolar\":[{\"marker\":{\"colorbar\":{\"outlinewidth\":0,\"ticks\":\"\"}},\"type\":\"scatterpolar\"}],\"scatterpolargl\":[{\"marker\":{\"colorbar\":{\"outlinewidth\":0,\"ticks\":\"\"}},\"type\":\"scatterpolargl\"}],\"scatterternary\":[{\"marker\":{\"colorbar\":{\"outlinewidth\":0,\"ticks\":\"\"}},\"type\":\"scatterternary\"}],\"surface\":[{\"colorbar\":{\"outlinewidth\":0,\"ticks\":\"\"},\"colorscale\":[[0.0,\"#0d0887\"],[0.1111111111111111,\"#46039f\"],[0.2222222222222222,\"#7201a8\"],[0.3333333333333333,\"#9c179e\"],[0.4444444444444444,\"#bd3786\"],[0.5555555555555556,\"#d8576b\"],[0.6666666666666666,\"#ed7953\"],[0.7777777777777778,\"#fb9f3a\"],[0.8888888888888888,\"#fdca26\"],[1.0,\"#f0f921\"]],\"type\":\"surface\"}],\"table\":[{\"cells\":{\"fill\":{\"color\":\"#EBF0F8\"},\"line\":{\"color\":\"white\"}},\"header\":{\"fill\":{\"color\":\"#C8D4E3\"},\"line\":{\"color\":\"white\"}},\"type\":\"table\"}]},\"layout\":{\"annotationdefaults\":{\"arrowcolor\":\"#2a3f5f\",\"arrowhead\":0,\"arrowwidth\":1},\"autotypenumbers\":\"strict\",\"coloraxis\":{\"colorbar\":{\"outlinewidth\":0,\"ticks\":\"\"}},\"colorscale\":{\"diverging\":[[0,\"#8e0152\"],[0.1,\"#c51b7d\"],[0.2,\"#de77ae\"],[0.3,\"#f1b6da\"],[0.4,\"#fde0ef\"],[0.5,\"#f7f7f7\"],[0.6,\"#e6f5d0\"],[0.7,\"#b8e186\"],[0.8,\"#7fbc41\"],[0.9,\"#4d9221\"],[1,\"#276419\"]],\"sequential\":[[0.0,\"#0d0887\"],[0.1111111111111111,\"#46039f\"],[0.2222222222222222,\"#7201a8\"],[0.3333333333333333,\"#9c179e\"],[0.4444444444444444,\"#bd3786\"],[0.5555555555555556,\"#d8576b\"],[0.6666666666666666,\"#ed7953\"],[0.7777777777777778,\"#fb9f3a\"],[0.8888888888888888,\"#fdca26\"],[1.0,\"#f0f921\"]],\"sequentialminus\":[[0.0,\"#0d0887\"],[0.1111111111111111,\"#46039f\"],[0.2222222222222222,\"#7201a8\"],[0.3333333333333333,\"#9c179e\"],[0.4444444444444444,\"#bd3786\"],[0.5555555555555556,\"#d8576b\"],[0.6666666666666666,\"#ed7953\"],[0.7777777777777778,\"#fb9f3a\"],[0.8888888888888888,\"#fdca26\"],[1.0,\"#f0f921\"]]},\"colorway\":[\"#636efa\",\"#EF553B\",\"#00cc96\",\"#ab63fa\",\"#FFA15A\",\"#19d3f3\",\"#FF6692\",\"#B6E880\",\"#FF97FF\",\"#FECB52\"],\"font\":{\"color\":\"#2a3f5f\"},\"geo\":{\"bgcolor\":\"white\",\"lakecolor\":\"white\",\"landcolor\":\"#E5ECF6\",\"showlakes\":true,\"showland\":true,\"subunitcolor\":\"white\"},\"hoverlabel\":{\"align\":\"left\"},\"hovermode\":\"closest\",\"mapbox\":{\"style\":\"light\"},\"paper_bgcolor\":\"white\",\"plot_bgcolor\":\"#E5ECF6\",\"polar\":{\"angularaxis\":{\"gridcolor\":\"white\",\"linecolor\":\"white\",\"ticks\":\"\"},\"bgcolor\":\"#E5ECF6\",\"radialaxis\":{\"gridcolor\":\"white\",\"linecolor\":\"white\",\"ticks\":\"\"}},\"scene\":{\"xaxis\":{\"backgroundcolor\":\"#E5ECF6\",\"gridcolor\":\"white\",\"gridwidth\":2,\"linecolor\":\"white\",\"showbackground\":true,\"ticks\":\"\",\"zerolinecolor\":\"white\"},\"yaxis\":{\"backgroundcolor\":\"#E5ECF6\",\"gridcolor\":\"white\",\"gridwidth\":2,\"linecolor\":\"white\",\"showbackground\":true,\"ticks\":\"\",\"zerolinecolor\":\"white\"},\"zaxis\":{\"backgroundcolor\":\"#E5ECF6\",\"gridcolor\":\"white\",\"gridwidth\":2,\"linecolor\":\"white\",\"showbackground\":true,\"ticks\":\"\",\"zerolinecolor\":\"white\"}},\"shapedefaults\":{\"line\":{\"color\":\"#2a3f5f\"}},\"ternary\":{\"aaxis\":{\"gridcolor\":\"white\",\"linecolor\":\"white\",\"ticks\":\"\"},\"baxis\":{\"gridcolor\":\"white\",\"linecolor\":\"white\",\"ticks\":\"\"},\"bgcolor\":\"#E5ECF6\",\"caxis\":{\"gridcolor\":\"white\",\"linecolor\":\"white\",\"ticks\":\"\"}},\"title\":{\"x\":0.05},\"xaxis\":{\"automargin\":true,\"gridcolor\":\"white\",\"linecolor\":\"white\",\"ticks\":\"\",\"title\":{\"standoff\":15},\"zerolinecolor\":\"white\",\"zerolinewidth\":2},\"yaxis\":{\"automargin\":true,\"gridcolor\":\"white\",\"linecolor\":\"white\",\"ticks\":\"\",\"title\":{\"standoff\":15},\"zerolinecolor\":\"white\",\"zerolinewidth\":2}}},\"scene\":{\"domain\":{\"x\":[0.0,1.0],\"y\":[0.0,1.0]},\"xaxis\":{\"title\":{\"text\":\"TP\"},\"range\":[0,1]},\"yaxis\":{\"title\":{\"text\":\"TN\"},\"range\":[0,1]},\"zaxis\":{\"title\":{\"text\":\"FP\"},\"range\":[0,1]}},\"legend\":{\"tracegroupgap\":0},\"margin\":{\"t\":60}},                        {\"responsive\": true}                    ).then(function(){\n",
       "                            \n",
       "var gd = document.getElementById('86dc0480-34b8-45e4-a30f-ce8e5036e968');\n",
       "var x = new MutationObserver(function (mutations, observer) {{\n",
       "        var display = window.getComputedStyle(gd).display;\n",
       "        if (!display || display === 'none') {{\n",
       "            console.log([gd, 'removed!']);\n",
       "            Plotly.purge(gd);\n",
       "            observer.disconnect();\n",
       "        }}\n",
       "}});\n",
       "\n",
       "// Listen for the removal of the full notebook cells\n",
       "var notebookContainer = gd.closest('#notebook-container');\n",
       "if (notebookContainer) {{\n",
       "    x.observe(notebookContainer, {childList: true});\n",
       "}}\n",
       "\n",
       "// Listen for the clearing of the current output cell\n",
       "var outputEl = gd.closest('.output');\n",
       "if (outputEl) {{\n",
       "    x.observe(outputEl, {childList: true});\n",
       "}}\n",
       "\n",
       "                        })                };                });            </script>        </div>"
      ]
     },
     "metadata": {},
     "output_type": "display_data"
    }
   ],
   "source": [
    "fig = px.scatter_3d(coords, \n",
    "                    x='TP',\n",
    "                    y='TN',\n",
    "                    z='FP',\n",
    "                    size_max=18,\n",
    "                    hover_name ='threshold',\n",
    "                    range_x=[0,1], \n",
    "                    range_y=[0,1],\n",
    "                    range_z=[0,1]) \n",
    "\n",
    "\n",
    "fig.add_trace(go.Figure(data=[\n",
    "    go.Mesh3d(\n",
    "        x=[0, 0, 0, 1], \n",
    "        y=[0, 0, 1, 0],\n",
    "        z=[0, 1, 0, 0],\n",
    "\n",
    "        \n",
    "        color ='lightgrey',\n",
    "        \n",
    "        # Intensity of each vertex, which will be interpolated and color-coded\n",
    "        #intensity=[0, 0.33, 0.66, 1],\n",
    "        \n",
    "        opacity = 0.2, #for transparency\n",
    "        \n",
    "        # i, j and k sono i vertici dei triangoli\n",
    "        # here we represent the 4 triangles of the tetrahedron surface\n",
    "        i=[0, 0, 0, 1],\n",
    "        j=[1, 2, 3, 2],\n",
    "        k=[2, 3, 1, 3],\n",
    "        name='y',\n",
    "        showscale=True\n",
    "    )\n",
    "]).data[0])\n",
    "\n",
    "\n",
    "#QUI HO LO STESSO PROBLEMA CHE VOGLIO LA LINEA NON I PUNTI, NON STO RIUSCENDO ma mi sembra risolvibile \n",
    "#-> TODO ma una volta risolto sopra qui sarà lo stesso "
   ]
  },
  {
   "cell_type": "markdown",
   "id": "46396591",
   "metadata": {},
   "source": [
    "# Fino a qui ok (devo capire come unire i punti per avere linee invece di marker ma secondo me ci siamo) - probs è nella definizione di quella intermedia"
   ]
  },
  {
   "cell_type": "markdown",
   "id": "7a10ab1b",
   "metadata": {},
   "source": [
    "# codice per plottare quella media"
   ]
  },
  {
   "cell_type": "markdown",
   "id": "39b83db3",
   "metadata": {},
   "source": [
    "Il ragionamento che seguo è praticamente l'unione dei due precedenti cioè prendo le mie probabilità predette e ci aggiungo un po' di random che dovrebbe darmi una performance intermedia <br>\n",
    "Ma il problema è che mentre nel vero random questo funziona perchè uso random.randint(0,1,N) mi genero casualmente degli 0 o 1 <br> mentre qui va bene random ma capisco che il problema è che sto generando delle probabilità senza veramente vincolarle ma non capisco come risolvere"
   ]
  },
  {
   "cell_type": "code",
   "execution_count": 24,
   "id": "a0221b8c",
   "metadata": {},
   "outputs": [
    {
     "ename": "ZeroDivisionError",
     "evalue": "division by zero",
     "output_type": "error",
     "traceback": [
      "\u001b[0;31m---------------------------------------------------------------------------\u001b[0m",
      "\u001b[0;31mZeroDivisionError\u001b[0m                         Traceback (most recent call last)",
      "Input \u001b[0;32mIn [24]\u001b[0m, in \u001b[0;36m<module>\u001b[0;34m\u001b[0m\n\u001b[1;32m     19\u001b[0m each_CM \u001b[38;5;241m=\u001b[39m np\u001b[38;5;241m.\u001b[39marray([TN, FP,FN, TP])\n\u001b[1;32m     21\u001b[0m each_FPR \u001b[38;5;241m=\u001b[39m FP\u001b[38;5;241m/\u001b[39m(FP\u001b[38;5;241m+\u001b[39mTN) \u001b[38;5;66;03m#1-specificity --> x\u001b[39;00m\n\u001b[0;32m---> 22\u001b[0m each_TPR \u001b[38;5;241m=\u001b[39m \u001b[43mTP\u001b[49m\u001b[38;5;241;43m/\u001b[39;49m\u001b[43m(\u001b[49m\u001b[43mTP\u001b[49m\u001b[38;5;241;43m+\u001b[39;49m\u001b[43mFN\u001b[49m\u001b[43m)\u001b[49m \u001b[38;5;66;03m#sensitivity -->y\u001b[39;00m\n\u001b[1;32m     25\u001b[0m each_nCM \u001b[38;5;241m=\u001b[39m each_CM\u001b[38;5;241m/\u001b[39mN\n\u001b[1;32m     26\u001b[0m all_nCM\u001b[38;5;241m.\u001b[39mappend(each_nCM)\n",
      "\u001b[0;31mZeroDivisionError\u001b[0m: division by zero"
     ]
    }
   ],
   "source": [
    "all_nCM = []\n",
    "all_ts = []\n",
    "\n",
    "all_TPR = []\n",
    "all_FPR = []\n",
    "\n",
    "\n",
    "N= len(y_test)\n",
    "for i in range(len(thresholds)):\n",
    "    t = thresholds[i]\n",
    "    all_ts.append(round(t,3))\n",
    "    t_vec = np.ones(preds.size)*t #t con dimensioni comparabili        questi sono tentativi di portare il tutto non negativo\n",
    "    y_pred = (np.random.uniform(0,2,N)*np.ones(preds.size)*(0.1)+np.ones(preds.size)*(-0.01)+preds >= t_vec).astype(int)\n",
    "    norm = np.linalg.norm(y_pred)   #quindi sbaglio qui - ma sembra non esistere un random float \n",
    "    y_pred = y_pred/norm            # np.random.uniform(0,2,N)*np.ones(preds.size)*(0.1) -> tutto questo solo per generarmi quella io intendo come randomness \n",
    "                                    #che vado letteralmente ad aggiungere alle preds \n",
    "\n",
    "    (TN, FP,FN, TP) = generate_matrix_entries(y_test, y_pred)\n",
    "    each_CM = np.array([TN, FP,FN, TP])\n",
    "    \n",
    "    each_FPR = FP/(FP+TN) #1-specificity --> x\n",
    "    each_TPR = TP/(TP+FN) #sensitivity -->y\n",
    "    \n",
    "    \n",
    "    each_nCM = each_CM/N\n",
    "    all_nCM.append(each_nCM)\n",
    "    \n",
    "    all_FPR.append(each_FPR)\n",
    "    all_TPR.append(each_TPR)\n",
    "    \n",
    "\n",
    "PD_all_nCM = pd.DataFrame(all_nCM) \n",
    "\n",
    "\n",
    "#PRIMA DI DROPPARE \n",
    "coords = PD_all_nCM_bad.drop([2],axis=1)\n",
    "coords['threshold'] = all_ts_bad\n",
    "coords.rename({0: 'TN', 1: 'FP', 3: 'TP'}, axis=1, inplace=True)\n",
    "\n",
    "coords['TPR']=all_TPR\n",
    "coords['FPR']=all_FPR\n",
    "\n",
    "coords"
   ]
  },
  {
   "cell_type": "code",
   "execution_count": null,
   "id": "6c805d4e",
   "metadata": {},
   "outputs": [],
   "source": []
  },
  {
   "cell_type": "code",
   "execution_count": null,
   "id": "87b72c61",
   "metadata": {},
   "outputs": [],
   "source": []
  },
  {
   "cell_type": "code",
   "execution_count": null,
   "id": "08713149",
   "metadata": {},
   "outputs": [],
   "source": []
  }
 ],
 "metadata": {
  "kernelspec": {
   "display_name": "Python 3 (ipykernel)",
   "language": "python",
   "name": "python3"
  },
  "language_info": {
   "codemirror_mode": {
    "name": "ipython",
    "version": 3
   },
   "file_extension": ".py",
   "mimetype": "text/x-python",
   "name": "python",
   "nbconvert_exporter": "python",
   "pygments_lexer": "ipython3",
   "version": "3.10.2"
  }
 },
 "nbformat": 4,
 "nbformat_minor": 5
}
